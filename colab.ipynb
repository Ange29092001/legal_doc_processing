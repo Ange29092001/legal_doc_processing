{
 "cells": [
  {
   "cell_type": "code",
   "execution_count": 1,
   "metadata": {
    "id": "oD-Ubq4oBWay"
   },
   "outputs": [
    {
     "name": "stderr",
     "output_type": "stream",
     "text": [
      "Since the GPL-licensed package `unidecode` is not installed, using Python's `unicodedata` package which yields worse results.\n"
     ]
    }
   ],
   "source": [
    "import os\n",
    "import re\n",
    "import string\n",
    "\n",
    "import bs4 as bs\n",
    "import urllib.request\n",
    "import requests\n",
    "import json\n",
    "import glob\n",
    "import time\n",
    "import pprint\n",
    "\n",
    "import pandas as pd\n",
    "import numpy as np\n",
    "\n",
    "import dateparser\n",
    "\n",
    "from cleantext import clean\n",
    "import nltk\n",
    "from nltk.corpus import stopwords\n",
    "from nltk.tokenize import sent_tokenize\n",
    "from transformers import pipeline, AutoModelForTokenClassification, AutoTokenizer\n",
    "from sklearn.feature_extraction.text import CountVectorizer"
   ]
  },
  {
   "cell_type": "code",
   "execution_count": 2,
   "metadata": {},
   "outputs": [
    {
     "name": "stderr",
     "output_type": "stream",
     "text": [
      "[nltk_data] Downloading package stopwords to /home/aimsg/nltk_data...\n",
      "[nltk_data]   Package stopwords is already up-to-date!\n"
     ]
    }
   ],
   "source": [
    "from legal_doc_processing.utils import load_data\n",
    "from legal_doc_processing.legal_doc.segmentation.utils import clean_spec_chars\n",
    "from legal_doc_processing.legal_doc.segmentation.structure import get_structure, get_header"
   ]
  },
  {
   "cell_type": "code",
   "execution_count": 3,
   "metadata": {},
   "outputs": [
    {
     "name": "stderr",
     "output_type": "stream",
     "text": [
      "[nltk_data] Downloading package punkt to /home/aimsg/nltk_data...\n",
      "[nltk_data]   Package punkt is already up-to-date!\n",
      "[nltk_data] Downloading package stopwords to /home/aimsg/nltk_data...\n",
      "[nltk_data]   Package stopwords is already up-to-date!\n"
     ]
    },
    {
     "ename": "RuntimeError",
     "evalue": "a view of a leaf Variable that requires grad is being used in an in-place operation.",
     "output_type": "error",
     "traceback": [
      "\u001b[0;31m---------------------------------------------------------------------------\u001b[0m",
      "\u001b[0;31mRuntimeError\u001b[0m                              Traceback (most recent call last)",
      "\u001b[0;32m<ipython-input-3-8f2c29bb02fc>\u001b[0m in \u001b[0;36m<module>\u001b[0;34m()\u001b[0m\n\u001b[1;32m      2\u001b[0m \u001b[0mnltk\u001b[0m\u001b[0;34m.\u001b[0m\u001b[0mdownload\u001b[0m\u001b[0;34m(\u001b[0m\u001b[0;34m\"stopwords\"\u001b[0m\u001b[0;34m)\u001b[0m\u001b[0;34m\u001b[0m\u001b[0;34m\u001b[0m\u001b[0m\n\u001b[1;32m      3\u001b[0m \u001b[0mchachedWords\u001b[0m \u001b[0;34m=\u001b[0m \u001b[0mstopwords\u001b[0m\u001b[0;34m.\u001b[0m\u001b[0mwords\u001b[0m\u001b[0;34m(\u001b[0m\u001b[0;34m'english'\u001b[0m\u001b[0;34m)\u001b[0m\u001b[0;34m\u001b[0m\u001b[0;34m\u001b[0m\u001b[0m\n\u001b[0;32m----> 4\u001b[0;31m \u001b[0mnlpipe\u001b[0m \u001b[0;34m=\u001b[0m \u001b[0mpipeline\u001b[0m\u001b[0;34m(\u001b[0m\u001b[0;34m'question-answering'\u001b[0m\u001b[0;34m,\u001b[0m \u001b[0mmodel\u001b[0m\u001b[0;34m=\u001b[0m\u001b[0;34m'distilbert-base-cased-distilled-squad'\u001b[0m\u001b[0;34m,\u001b[0m \u001b[0mtokenizer\u001b[0m\u001b[0;34m=\u001b[0m\u001b[0;34m'distilbert-base-cased'\u001b[0m\u001b[0;34m)\u001b[0m\u001b[0;34m\u001b[0m\u001b[0;34m\u001b[0m\u001b[0m\n\u001b[0m",
      "\u001b[0;32m/home/aimsg/.local/lib/python3.7/site-packages/transformers/pipelines.py\u001b[0m in \u001b[0;36mpipeline\u001b[0;34m(task, model, config, tokenizer, framework, **kwargs)\u001b[0m\n\u001b[1;32m   2627\u001b[0m                 \u001b[0;34m\"Trying to load the model with Tensorflow.\"\u001b[0m\u001b[0;34m\u001b[0m\u001b[0;34m\u001b[0m\u001b[0m\n\u001b[1;32m   2628\u001b[0m             )\n\u001b[0;32m-> 2629\u001b[0;31m         \u001b[0mmodel\u001b[0m \u001b[0;34m=\u001b[0m \u001b[0mmodel_class\u001b[0m\u001b[0;34m.\u001b[0m\u001b[0mfrom_pretrained\u001b[0m\u001b[0;34m(\u001b[0m\u001b[0mmodel\u001b[0m\u001b[0;34m,\u001b[0m \u001b[0mconfig\u001b[0m\u001b[0;34m=\u001b[0m\u001b[0mconfig\u001b[0m\u001b[0;34m,\u001b[0m \u001b[0;34m**\u001b[0m\u001b[0mmodel_kwargs\u001b[0m\u001b[0;34m)\u001b[0m\u001b[0;34m\u001b[0m\u001b[0;34m\u001b[0m\u001b[0m\n\u001b[0m\u001b[1;32m   2630\u001b[0m \u001b[0;34m\u001b[0m\u001b[0m\n\u001b[1;32m   2631\u001b[0m     \u001b[0;32mreturn\u001b[0m \u001b[0mtask_class\u001b[0m\u001b[0;34m(\u001b[0m\u001b[0mmodel\u001b[0m\u001b[0;34m=\u001b[0m\u001b[0mmodel\u001b[0m\u001b[0;34m,\u001b[0m \u001b[0mtokenizer\u001b[0m\u001b[0;34m=\u001b[0m\u001b[0mtokenizer\u001b[0m\u001b[0;34m,\u001b[0m \u001b[0mmodelcard\u001b[0m\u001b[0;34m=\u001b[0m\u001b[0mmodelcard\u001b[0m\u001b[0;34m,\u001b[0m \u001b[0mframework\u001b[0m\u001b[0;34m=\u001b[0m\u001b[0mframework\u001b[0m\u001b[0;34m,\u001b[0m \u001b[0mtask\u001b[0m\u001b[0;34m=\u001b[0m\u001b[0mtask\u001b[0m\u001b[0;34m,\u001b[0m \u001b[0;34m**\u001b[0m\u001b[0mkwargs\u001b[0m\u001b[0;34m)\u001b[0m\u001b[0;34m\u001b[0m\u001b[0;34m\u001b[0m\u001b[0m\n",
      "\u001b[0;32m/home/aimsg/.local/lib/python3.7/site-packages/transformers/modeling_auto.py\u001b[0m in \u001b[0;36mfrom_pretrained\u001b[0;34m(cls, pretrained_model_name_or_path, *model_args, **kwargs)\u001b[0m\n\u001b[1;32m   1538\u001b[0m         \u001b[0;32mfor\u001b[0m \u001b[0mconfig_class\u001b[0m\u001b[0;34m,\u001b[0m \u001b[0mmodel_class\u001b[0m \u001b[0;32min\u001b[0m \u001b[0mMODEL_FOR_QUESTION_ANSWERING_MAPPING\u001b[0m\u001b[0;34m.\u001b[0m\u001b[0mitems\u001b[0m\u001b[0;34m(\u001b[0m\u001b[0;34m)\u001b[0m\u001b[0;34m:\u001b[0m\u001b[0;34m\u001b[0m\u001b[0;34m\u001b[0m\u001b[0m\n\u001b[1;32m   1539\u001b[0m             \u001b[0;32mif\u001b[0m \u001b[0misinstance\u001b[0m\u001b[0;34m(\u001b[0m\u001b[0mconfig\u001b[0m\u001b[0;34m,\u001b[0m \u001b[0mconfig_class\u001b[0m\u001b[0;34m)\u001b[0m\u001b[0;34m:\u001b[0m\u001b[0;34m\u001b[0m\u001b[0;34m\u001b[0m\u001b[0m\n\u001b[0;32m-> 1540\u001b[0;31m                 \u001b[0;32mreturn\u001b[0m \u001b[0mmodel_class\u001b[0m\u001b[0;34m.\u001b[0m\u001b[0mfrom_pretrained\u001b[0m\u001b[0;34m(\u001b[0m\u001b[0mpretrained_model_name_or_path\u001b[0m\u001b[0;34m,\u001b[0m \u001b[0;34m*\u001b[0m\u001b[0mmodel_args\u001b[0m\u001b[0;34m,\u001b[0m \u001b[0mconfig\u001b[0m\u001b[0;34m=\u001b[0m\u001b[0mconfig\u001b[0m\u001b[0;34m,\u001b[0m \u001b[0;34m**\u001b[0m\u001b[0mkwargs\u001b[0m\u001b[0;34m)\u001b[0m\u001b[0;34m\u001b[0m\u001b[0;34m\u001b[0m\u001b[0m\n\u001b[0m\u001b[1;32m   1541\u001b[0m \u001b[0;34m\u001b[0m\u001b[0m\n\u001b[1;32m   1542\u001b[0m         raise ValueError(\n",
      "\u001b[0;32m/home/aimsg/.local/lib/python3.7/site-packages/transformers/modeling_utils.py\u001b[0m in \u001b[0;36mfrom_pretrained\u001b[0;34m(cls, pretrained_model_name_or_path, *model_args, **kwargs)\u001b[0m\n\u001b[1;32m    850\u001b[0m \u001b[0;34m\u001b[0m\u001b[0m\n\u001b[1;32m    851\u001b[0m         \u001b[0;31m# Instantiate model.\u001b[0m\u001b[0;34m\u001b[0m\u001b[0;34m\u001b[0m\u001b[0;34m\u001b[0m\u001b[0m\n\u001b[0;32m--> 852\u001b[0;31m         \u001b[0mmodel\u001b[0m \u001b[0;34m=\u001b[0m \u001b[0mcls\u001b[0m\u001b[0;34m(\u001b[0m\u001b[0mconfig\u001b[0m\u001b[0;34m,\u001b[0m \u001b[0;34m*\u001b[0m\u001b[0mmodel_args\u001b[0m\u001b[0;34m,\u001b[0m \u001b[0;34m**\u001b[0m\u001b[0mmodel_kwargs\u001b[0m\u001b[0;34m)\u001b[0m\u001b[0;34m\u001b[0m\u001b[0;34m\u001b[0m\u001b[0m\n\u001b[0m\u001b[1;32m    853\u001b[0m \u001b[0;34m\u001b[0m\u001b[0m\n\u001b[1;32m    854\u001b[0m         \u001b[0;32mif\u001b[0m \u001b[0mstate_dict\u001b[0m \u001b[0;32mis\u001b[0m \u001b[0;32mNone\u001b[0m \u001b[0;32mand\u001b[0m \u001b[0;32mnot\u001b[0m \u001b[0mfrom_tf\u001b[0m\u001b[0;34m:\u001b[0m\u001b[0;34m\u001b[0m\u001b[0;34m\u001b[0m\u001b[0m\n",
      "\u001b[0;32m/home/aimsg/.local/lib/python3.7/site-packages/transformers/modeling_distilbert.py\u001b[0m in \u001b[0;36m__init__\u001b[0;34m(self, config)\u001b[0m\n\u001b[1;32m    675\u001b[0m         \u001b[0msuper\u001b[0m\u001b[0;34m(\u001b[0m\u001b[0;34m)\u001b[0m\u001b[0;34m.\u001b[0m\u001b[0m__init__\u001b[0m\u001b[0;34m(\u001b[0m\u001b[0mconfig\u001b[0m\u001b[0;34m)\u001b[0m\u001b[0;34m\u001b[0m\u001b[0;34m\u001b[0m\u001b[0m\n\u001b[1;32m    676\u001b[0m \u001b[0;34m\u001b[0m\u001b[0m\n\u001b[0;32m--> 677\u001b[0;31m         \u001b[0mself\u001b[0m\u001b[0;34m.\u001b[0m\u001b[0mdistilbert\u001b[0m \u001b[0;34m=\u001b[0m \u001b[0mDistilBertModel\u001b[0m\u001b[0;34m(\u001b[0m\u001b[0mconfig\u001b[0m\u001b[0;34m)\u001b[0m\u001b[0;34m\u001b[0m\u001b[0;34m\u001b[0m\u001b[0m\n\u001b[0m\u001b[1;32m    678\u001b[0m         \u001b[0mself\u001b[0m\u001b[0;34m.\u001b[0m\u001b[0mqa_outputs\u001b[0m \u001b[0;34m=\u001b[0m \u001b[0mnn\u001b[0m\u001b[0;34m.\u001b[0m\u001b[0mLinear\u001b[0m\u001b[0;34m(\u001b[0m\u001b[0mconfig\u001b[0m\u001b[0;34m.\u001b[0m\u001b[0mdim\u001b[0m\u001b[0;34m,\u001b[0m \u001b[0mconfig\u001b[0m\u001b[0;34m.\u001b[0m\u001b[0mnum_labels\u001b[0m\u001b[0;34m)\u001b[0m\u001b[0;34m\u001b[0m\u001b[0;34m\u001b[0m\u001b[0m\n\u001b[1;32m    679\u001b[0m         \u001b[0;32massert\u001b[0m \u001b[0mconfig\u001b[0m\u001b[0;34m.\u001b[0m\u001b[0mnum_labels\u001b[0m \u001b[0;34m==\u001b[0m \u001b[0;36m2\u001b[0m\u001b[0;34m\u001b[0m\u001b[0;34m\u001b[0m\u001b[0m\n",
      "\u001b[0;32m/home/aimsg/.local/lib/python3.7/site-packages/transformers/modeling_distilbert.py\u001b[0m in \u001b[0;36m__init__\u001b[0;34m(self, config)\u001b[0m\n\u001b[1;32m    425\u001b[0m         \u001b[0msuper\u001b[0m\u001b[0;34m(\u001b[0m\u001b[0;34m)\u001b[0m\u001b[0;34m.\u001b[0m\u001b[0m__init__\u001b[0m\u001b[0;34m(\u001b[0m\u001b[0mconfig\u001b[0m\u001b[0;34m)\u001b[0m\u001b[0;34m\u001b[0m\u001b[0;34m\u001b[0m\u001b[0m\n\u001b[1;32m    426\u001b[0m \u001b[0;34m\u001b[0m\u001b[0m\n\u001b[0;32m--> 427\u001b[0;31m         \u001b[0mself\u001b[0m\u001b[0;34m.\u001b[0m\u001b[0membeddings\u001b[0m \u001b[0;34m=\u001b[0m \u001b[0mEmbeddings\u001b[0m\u001b[0;34m(\u001b[0m\u001b[0mconfig\u001b[0m\u001b[0;34m)\u001b[0m  \u001b[0;31m# Embeddings\u001b[0m\u001b[0;34m\u001b[0m\u001b[0;34m\u001b[0m\u001b[0m\n\u001b[0m\u001b[1;32m    428\u001b[0m         \u001b[0mself\u001b[0m\u001b[0;34m.\u001b[0m\u001b[0mtransformer\u001b[0m \u001b[0;34m=\u001b[0m \u001b[0mTransformer\u001b[0m\u001b[0;34m(\u001b[0m\u001b[0mconfig\u001b[0m\u001b[0;34m)\u001b[0m  \u001b[0;31m# Encoder\u001b[0m\u001b[0;34m\u001b[0m\u001b[0;34m\u001b[0m\u001b[0m\n\u001b[1;32m    429\u001b[0m \u001b[0;34m\u001b[0m\u001b[0m\n",
      "\u001b[0;32m/home/aimsg/.local/lib/python3.7/site-packages/transformers/modeling_distilbert.py\u001b[0m in \u001b[0;36m__init__\u001b[0;34m(self, config)\u001b[0m\n\u001b[1;32m     88\u001b[0m         \u001b[0;32mif\u001b[0m \u001b[0mconfig\u001b[0m\u001b[0;34m.\u001b[0m\u001b[0msinusoidal_pos_embds\u001b[0m\u001b[0;34m:\u001b[0m\u001b[0;34m\u001b[0m\u001b[0;34m\u001b[0m\u001b[0m\n\u001b[1;32m     89\u001b[0m             create_sinusoidal_embeddings(\n\u001b[0;32m---> 90\u001b[0;31m                 \u001b[0mn_pos\u001b[0m\u001b[0;34m=\u001b[0m\u001b[0mconfig\u001b[0m\u001b[0;34m.\u001b[0m\u001b[0mmax_position_embeddings\u001b[0m\u001b[0;34m,\u001b[0m \u001b[0mdim\u001b[0m\u001b[0;34m=\u001b[0m\u001b[0mconfig\u001b[0m\u001b[0;34m.\u001b[0m\u001b[0mdim\u001b[0m\u001b[0;34m,\u001b[0m \u001b[0mout\u001b[0m\u001b[0;34m=\u001b[0m\u001b[0mself\u001b[0m\u001b[0;34m.\u001b[0m\u001b[0mposition_embeddings\u001b[0m\u001b[0;34m.\u001b[0m\u001b[0mweight\u001b[0m\u001b[0;34m\u001b[0m\u001b[0;34m\u001b[0m\u001b[0m\n\u001b[0m\u001b[1;32m     91\u001b[0m             )\n\u001b[1;32m     92\u001b[0m \u001b[0;34m\u001b[0m\u001b[0m\n",
      "\u001b[0;32m/home/aimsg/.local/lib/python3.7/site-packages/transformers/modeling_distilbert.py\u001b[0m in \u001b[0;36mcreate_sinusoidal_embeddings\u001b[0;34m(n_pos, dim, out)\u001b[0m\n\u001b[1;32m     75\u001b[0m \u001b[0;32mdef\u001b[0m \u001b[0mcreate_sinusoidal_embeddings\u001b[0m\u001b[0;34m(\u001b[0m\u001b[0mn_pos\u001b[0m\u001b[0;34m,\u001b[0m \u001b[0mdim\u001b[0m\u001b[0;34m,\u001b[0m \u001b[0mout\u001b[0m\u001b[0;34m)\u001b[0m\u001b[0;34m:\u001b[0m\u001b[0;34m\u001b[0m\u001b[0;34m\u001b[0m\u001b[0m\n\u001b[1;32m     76\u001b[0m     \u001b[0mposition_enc\u001b[0m \u001b[0;34m=\u001b[0m \u001b[0mnp\u001b[0m\u001b[0;34m.\u001b[0m\u001b[0marray\u001b[0m\u001b[0;34m(\u001b[0m\u001b[0;34m[\u001b[0m\u001b[0;34m[\u001b[0m\u001b[0mpos\u001b[0m \u001b[0;34m/\u001b[0m \u001b[0mnp\u001b[0m\u001b[0;34m.\u001b[0m\u001b[0mpower\u001b[0m\u001b[0;34m(\u001b[0m\u001b[0;36m10000\u001b[0m\u001b[0;34m,\u001b[0m \u001b[0;36m2\u001b[0m \u001b[0;34m*\u001b[0m \u001b[0;34m(\u001b[0m\u001b[0mj\u001b[0m \u001b[0;34m//\u001b[0m \u001b[0;36m2\u001b[0m\u001b[0;34m)\u001b[0m \u001b[0;34m/\u001b[0m \u001b[0mdim\u001b[0m\u001b[0;34m)\u001b[0m \u001b[0;32mfor\u001b[0m \u001b[0mj\u001b[0m \u001b[0;32min\u001b[0m \u001b[0mrange\u001b[0m\u001b[0;34m(\u001b[0m\u001b[0mdim\u001b[0m\u001b[0;34m)\u001b[0m\u001b[0;34m]\u001b[0m \u001b[0;32mfor\u001b[0m \u001b[0mpos\u001b[0m \u001b[0;32min\u001b[0m \u001b[0mrange\u001b[0m\u001b[0;34m(\u001b[0m\u001b[0mn_pos\u001b[0m\u001b[0;34m)\u001b[0m\u001b[0;34m]\u001b[0m\u001b[0;34m)\u001b[0m\u001b[0;34m\u001b[0m\u001b[0;34m\u001b[0m\u001b[0m\n\u001b[0;32m---> 77\u001b[0;31m     \u001b[0mout\u001b[0m\u001b[0;34m[\u001b[0m\u001b[0;34m:\u001b[0m\u001b[0;34m,\u001b[0m \u001b[0;36m0\u001b[0m\u001b[0;34m:\u001b[0m\u001b[0;34m:\u001b[0m\u001b[0;36m2\u001b[0m\u001b[0;34m]\u001b[0m \u001b[0;34m=\u001b[0m \u001b[0mtorch\u001b[0m\u001b[0;34m.\u001b[0m\u001b[0mFloatTensor\u001b[0m\u001b[0;34m(\u001b[0m\u001b[0mnp\u001b[0m\u001b[0;34m.\u001b[0m\u001b[0msin\u001b[0m\u001b[0;34m(\u001b[0m\u001b[0mposition_enc\u001b[0m\u001b[0;34m[\u001b[0m\u001b[0;34m:\u001b[0m\u001b[0;34m,\u001b[0m \u001b[0;36m0\u001b[0m\u001b[0;34m:\u001b[0m\u001b[0;34m:\u001b[0m\u001b[0;36m2\u001b[0m\u001b[0;34m]\u001b[0m\u001b[0;34m)\u001b[0m\u001b[0;34m)\u001b[0m\u001b[0;34m\u001b[0m\u001b[0;34m\u001b[0m\u001b[0m\n\u001b[0m\u001b[1;32m     78\u001b[0m     \u001b[0mout\u001b[0m\u001b[0;34m[\u001b[0m\u001b[0;34m:\u001b[0m\u001b[0;34m,\u001b[0m \u001b[0;36m1\u001b[0m\u001b[0;34m:\u001b[0m\u001b[0;34m:\u001b[0m\u001b[0;36m2\u001b[0m\u001b[0;34m]\u001b[0m \u001b[0;34m=\u001b[0m \u001b[0mtorch\u001b[0m\u001b[0;34m.\u001b[0m\u001b[0mFloatTensor\u001b[0m\u001b[0;34m(\u001b[0m\u001b[0mnp\u001b[0m\u001b[0;34m.\u001b[0m\u001b[0mcos\u001b[0m\u001b[0;34m(\u001b[0m\u001b[0mposition_enc\u001b[0m\u001b[0;34m[\u001b[0m\u001b[0;34m:\u001b[0m\u001b[0;34m,\u001b[0m \u001b[0;36m1\u001b[0m\u001b[0;34m:\u001b[0m\u001b[0;34m:\u001b[0m\u001b[0;36m2\u001b[0m\u001b[0;34m]\u001b[0m\u001b[0;34m)\u001b[0m\u001b[0;34m)\u001b[0m\u001b[0;34m\u001b[0m\u001b[0;34m\u001b[0m\u001b[0m\n\u001b[1;32m     79\u001b[0m     \u001b[0mout\u001b[0m\u001b[0;34m.\u001b[0m\u001b[0mdetach_\u001b[0m\u001b[0;34m(\u001b[0m\u001b[0;34m)\u001b[0m\u001b[0;34m\u001b[0m\u001b[0;34m\u001b[0m\u001b[0m\n",
      "\u001b[0;31mRuntimeError\u001b[0m: a view of a leaf Variable that requires grad is being used in an in-place operation."
     ]
    }
   ],
   "source": [
    "nltk.download('punkt')\n",
    "nltk.download(\"stopwords\")\n",
    "chachedWords = stopwords.words('english')\n",
    "nlpipe = pipeline('question-answering', model='distilbert-base-cased-distilled-squad', tokenizer='distilbert-base-cased')"
   ]
  },
  {
   "cell_type": "code",
   "execution_count": 5,
   "metadata": {},
   "outputs": [
    {
     "data": {
      "text/plain": [
       "'text=unicode(file)'"
      ]
     },
     "execution_count": 5,
     "metadata": {},
     "output_type": "execute_result"
    }
   ],
   "source": [
    "\"\"\"text=unicode(file)\"\"\""
   ]
  },
  {
   "cell_type": "code",
   "execution_count": 6,
   "metadata": {},
   "outputs": [],
   "source": [
    "# load ciolab\n",
    "from google.colab import drive\n",
    "drive.mount('/content/drive')"
   ]
  },
  {
   "cell_type": "code",
   "execution_count": 5,
   "metadata": {
    "colab": {
     "base_uri": "https://localhost:8080/"
    },
    "id": "e6j84g2lBk2l",
    "outputId": "392b6055-ae15-4fa1-daf7-99d6924966a2"
   },
   "outputs": [
    {
     "name": "stdout",
     "output_type": "stream",
     "text": [
      "/content/drive/MyDrive/Theolex/theolex_document_processing\n"
     ]
    }
   ],
   "source": [
    "cd drive/MyDrive/Theolex/theolex_document_processing/"
   ]
  },
  {
   "cell_type": "code",
   "execution_count": 9,
   "metadata": {
    "id": "Qmh_JcskBWa5"
   },
   "outputs": [],
   "source": [
    "# text_path\n",
    "text_path = \"./data/files/7100-15/complaint-allied-markets-llc-et-al.txt\""
   ]
  },
  {
   "cell_type": "code",
   "execution_count": 10,
   "metadata": {
    "id": "kOhMdLEwETrF"
   },
   "outputs": [
    {
     "data": {
      "text/plain": [
       "'20S JAN -5 PH 2: Ob\\nUNITED STATES DISTRICT COURT\\nFOR THE MIDDLE DISTRICT OF FLORIDA\\nJacksonville Division cK pein\\nU.S. COMMODITY FUTURES\\nTRADING COMMISSION,\\n\\nPlaintiff,\\nVv. Case No.\\n\\nALLIED MARKETS LLC,\\nJOSHUA GILLILAND, and\\nCHAWALIT WONGKHIAO,\\n\\nDefendants.\\n\\n \\n\\n \\n\\nCOMPLAINT FOR INJUNCTIVE RELIEF,\\nCI'"
      ]
     },
     "execution_count": 10,
     "metadata": {},
     "output_type": "execute_result"
    }
   ],
   "source": [
    "# load raw text\n",
    "raw_text = load_data(text_path)\n",
    "raw_text[:300]"
   ]
  },
  {
   "cell_type": "code",
   "execution_count": 11,
   "metadata": {},
   "outputs": [
    {
     "data": {
      "text/plain": [
       "'20S JAN -5 PH 2: Ob UNITED STATES DISTRICT COURT FOR THE MIDDLE DISTRICT OF FLORIDA Jacksonville Division cK pein U.S. COMMODITY FUTURES TRADING COMMISSION, Plaintiff, Vv. Case No. ALLIED MARKETS LLC, JOSHUA GILLILAND, and CHAWALIT WONGKHIAO, Defendants. COMPLAINT FOR INJUNCTIVE RELIEF, CIVIL MONETA'"
      ]
     },
     "execution_count": 11,
     "metadata": {},
     "output_type": "execute_result"
    }
   ],
   "source": [
    "# clean_spec_chars\n",
    "cleaned_text, cleaned_formatted_text = clean_spec_chars(raw_text)\n",
    "cleaned_text[:300]"
   ]
  },
  {
   "cell_type": "code",
   "execution_count": 12,
   "metadata": {},
   "outputs": [
    {
     "data": {
      "text/plain": [
       "[{'content': ['20S JAN -5 PH 2: Ob UNITED STATES DISTRICT COURT FOR THE MIDDLE DISTRICT OF FLORIDA Jacksonville Division cK pein U.S. COMMODITY FUTURES TRADING COMMISSION, Plaintiff, Vv.'],\n",
       "  'header': '20S JAN -5 PH 2: Ob UNITED STATES DISTRICT COURT FOR THE MIDDLE DISTRICT OF FLORIDA Jacksonville Division cK pein U.S. COMMODITY FUTURES TRADING COMMISSION, Plaintiff, Vv.',\n",
       "  'id': 0},\n",
       " {'content': ['Case No.',\n",
       "   'ALLIED MARKETS LLC, JOSHUA GILLILAND, and CHAWALIT WONGKHIAO, Defendants.'],\n",
       "  'header': 'ALLIED MARKETS LLC, JOSHUA GILLILAND, and CHAWALIT WONGKHIAO, Defendants.',\n",
       "  'id': 1},\n",
       " {'content': ['COMPLAINT FOR INJUNCTIVE RELIEF, CIVIL MONETARY PENALTY, AND OTHER EQUITABLE RELIEF Plaintiff United States Commodity Futures Trading Commission (“CFTC”) alleges as follows: I.',\n",
       "   'SUMMARY l. Beginning as early as January 2012, Joshua Gilliland and Chawalit Wongkhiao, individually and as principals of Allied Markets LLC (“Allied Markets”) (collectively “Defendants”), have engaged in a fraudulent scheme to solicit more than $1 million from members of the public to participate in a supposed commodity pool purportedly trading leveraged or margined retail off-exchange foreign currency contracts, commonly known as “forex.” 2 As part of this illegal scheme, Defendants misappropriated pool participants’ funds to pay Gilliland’s and Wongkhiao’s personal expenses.',\n",
       "   'Gilliland and Wongkhiao treated pool participants’ funds as their personal bank account, spending pool participants’ money on restaurants, entertainment, and living expenses.',\n",
       "   '3.',\n",
       "   'Defendants made material misrepresentations regarding their trading expertise and profits, and they failed to disclose to prospective and existing pool participants that only a small portion of their funds would be used to trade forex, while the rest would be misappropriated to pay Gilliland’s and Wongkhiao’s personal expenses and to further Defendants’ fraudulent scheme.',\n",
       "   '4.',\n",
       "   'Defendants, who have never been registered as required with the CFTC, lured their victims into sending them funds for their purported commodity pool by fraudulently guaranteeing specific trading returns and by representing that Defendants’ forex trading was generating large profits.',\n",
       "   'At Defendants’ direction, pool participants deposited more than $1 million into bank accounts controlled by Defendants.',\n",
       "   'When Defendants paid what they claimed to be trading profits to pool participants or supposedly returned pool participants” principal, they did so using money paid by other pool participants, in the manner of a Ponzi scheme.',\n",
       "   'De By virtue of this conduct, and as more fully set forth below, Defendants have engaged, are engaging, and/or are about to engage in acts and practices in violation of Sections 2(c)(2)(C)(iii)(I)(ce), 4b(a)(2)(A) and (C), 4k(2), 4m(1).',\n",
       "   'and 4o(1) of the Commodity Exchange Act (“CEA”), 7 U.S.C.',\n",
       "   '§§ 2(c)(2)(C)(ii)(1)(ec).',\n",
       "   '6b(a)(2)(A).',\n",
       "   '(C).'],\n",
       "  'header': '(C).',\n",
       "  'id': 2},\n",
       " {'content': ['6k(2), 6m(1), 60(1) (2012); and CFTC Regulations 3,12.',\n",
       "   '4.20(a)-(c), 4.41 (a), 5.2(b)(1) and (3), 5.3(a)(2)(i), and 5.3(a)(2)(ii), 17 C.F.R.',\n",
       "   '§§ 3.12, 4.20(a)-(c), 4.41 (a), 5.2(b)(1).',\n",
       "   '(3), 5.3(a)(2)(i), (ii) (2014).',\n",
       "   'll.',\n",
       "   'JURISDICTION AND VENUE 6.'],\n",
       "  'header': 'JURISDICTION AND VENUE 6.',\n",
       "  'id': 3},\n",
       " {'content': ['This Court possesses jurisdiction over this action pursuant to Section 6c(a) of the CEA, 7 U.S.C.',\n",
       "   '§ 13a-1 (2012), which authorizes the CFTC to seek injunctive and other relief against any person whenever it appears to the CFTC that such person has engaged, is engaging, or is about to engage in any act or practice constituting a violation of any provision of the CEA or any rule, regulation, or order thereunder.',\n",
       "   '2 Venue properly lies in this District, pursuant to Section 6c(e) of the CEA, 7 U.S.C.',\n",
       "   '§ 13a-1(e) (2012), because Defendants are found in, inhabit, and transact business in the Middle District of Florida, and Defendants’ acts and practices in violation of the CEA occurred, are occurring, or are about to occur in this District.',\n",
       "   'Ill. PARTIES 8.',\n",
       "   'Plaintiff United States Commodity Futures Trading Commission is an independent federal regulatory agency charged by Congress with the administration and enforcement of the CEA and the CFTC Regulations promulgated thereunder.',\n",
       "   'The CFTC maintains its principal office at 1155 21st Street NW, Washington, DC 20581. a Defendant Allied Markets LLC is a Nevada limited liability company organized on February 2, 2012, with a principal business address of 3225 McLeod Drive, #100, Las Vegas, Nevada 89121.',\n",
       "   'Allied Markets’ Nevada business license expired on February 27, 2013.',\n",
       "   'On December 11, 2012, Allied Markets registered as a foreign limited liability company with the Florida Department of State.',\n",
       "   'Allied Markets’ last known business address is 1431 Riverplace Boulevard, Unit 3604, Jacksonville, Florida 32207.',\n",
       "   'Allied Markets has never been registered with the CFTC in any capacity.',\n",
       "   '10.',\n",
       "   'Defendant Joshua Gilliland is an individual residing in Jacksonville.',\n",
       "   'Florida.',\n",
       "   'Gilliland is a managing member of Allied Markets.',\n",
       "   'Gilliland has never been registered with the CFTC in any capacity.',\n",
       "   'Il.',\n",
       "   'Defendant Chawalit Wongkhiao is an individual residing in Jacksonville, Florida.',\n",
       "   'Wongkhiao is a managing member of Allied Markets.',\n",
       "   'Wongkhiao has never been registered with the CFTC in any capacity.',\n",
       "   'IV.'],\n",
       "  'header': 'IV.',\n",
       "  'id': 4},\n",
       " {'content': ['RELEVANT STATUTES 12.'],\n",
       "  'header': 'RELEVANT STATUTES 12.',\n",
       "  'id': 5},\n",
       " {'content': ['Section la(11) of the CEA, 7 U.S.C.',\n",
       "   '§ 1a(11) (2012), defines a commodity pool operator (“CPO”), in relevant part, as any person who, for compensation or profit.',\n",
       "   'engages in a business that is of the nature of a commodity pool, investment trust, syndicate, or similar form of enterprise, and who, in connection therewith, solicits, accepts, or receives from others, funds, securities, or property, either directly or through capital contributions, the sale of stock or other forms of securities, or otherwise, for the purpose of trading in commodity interests, including any commodity for future delivery, security futures product, swap, or forex agreement, contract, or transaction.',\n",
       "   '13.',\n",
       "   'Section 2(c)(2)(C) of the CEA, 7 U.S.C.',\n",
       "   '§ 2(c)(2)(C) (2012), applies provisions of the CEA to agreements, contracts, or transactions in forex.',\n",
       "   'Specifically, Section 2(c)(2)(C)(iv) of the CEA, 7 U.S.C.',\n",
       "   '§ 2(c)(2)(C)(iv) (2012), states that Section 4b of the CEA, 7 U.S.C.',\n",
       "   '§ 6b, applies to forex agreements, contracts, or transactions “as if” they were contracts of sale of a commodity for future delivery.',\n",
       "   'Section 2(c)(2)(C)(ii)(D of the CEA, 7 U.S.C.',\n",
       "   '§ 2(c)(2)(C)(ii)(I) (2012), states that Sections 4b and 4o of the CEA, 7 U.S.C.',\n",
       "   '§§ 6b, 60 (2012), apply to pooled investment vehicles that are offered for the purpose of trading, or that trade, any forex agreement, contract, or transaction, and that involve persons or entities who are not “eligible contract participants,” as that term is defined by Section la(18) of the Act, 7 U.S.C.',\n",
       "   '§ 1a(18) (2012).',\n",
       "   '14, Section 4b(a)(2)(A) and (C) of the CEA, 7 U.S.C § 4b(a)(2)(A), (C) (2012), prohibits fraud in connection with any contract of sale of any commodity for future delivery that is made, or to be made, for or on behalf of, or with, any other person, other than on or subject to the rules of a designated contract market.',\n",
       "   '15.',\n",
       "   'Section 40(1) of the CEA, 7 U.S.C.',\n",
       "   '§ 60(1) (2012), prohibits fraud by any CPO, or an associated person of a CPO, by use of the mails or any means or instrumentality of interstate commerce.',\n",
       "   '16.',\n",
       "   'Section 4k(2) of the CEA, 7 U.S.C.',\n",
       "   '§ 6k(2) (2012), requires registration with the CFTC for any person associated with a CPO as a partner, officer, employee, consultant, or agent in any capacity that involves the solicitation of funds, securities, or property for participation in a commodity pool.',\n",
       "   '17.',\n",
       "   'Section 4m(1) of the CEA, 7 U.S.C.',\n",
       "   '§ 6m(1) (2012), makes it unlawful for any CPO, unless registered with the CFTC, to make use of the mails or any means or instrumentality of interstate commerce in connection with the business of the CPO.',\n",
       "   'V. FACTS 18.'],\n",
       "  'header': 'V. FACTS 18.',\n",
       "  'id': 6},\n",
       " {'content': ['The Relevant Period for this Complaint is January 2012 through the present.',\n",
       "   '19.',\n",
       "   'During the Relevant Period, Allied Markets, by and through Gilliland and Wongkhiao, solicited members of the public, by use of the mails and/or other means or instrumentalities of interstate commerce, to send money to bank accounts under Defendants uw control for the purpose of trading agreements, contracts, or transactions in forex (foreign currency, offered to persons who were not eligible contract participants, and offered, or entered into, on a leveraged or margined basis) in a purported commodity pool operated by Allied Markets.',\n",
       "   '20.',\n",
       "   'By undertaking these solicitations and accepting funds for a commodity pool, Allied Markets, by and through Gilliland and Wongkhiao, acted as a CPO.',\n",
       "   '21.',\n",
       "   'Through their actions on behalf of Allied Markets.',\n",
       "   'Gilliland and Wongkhiao acted as associated persons of Allied Markets, the CPO.',\n",
       "   '22.',\n",
       "   'Neither Allied Markets, Gilliland, nor Wongkhiao has ever been registered with the CFTC in any capacity.',\n",
       "   '23.',\n",
       "   'At least $1 million was deposited in accounts under Defendants’ control for the purpose of trading forex in a purported commodity pool operated by Allied Markets.',\n",
       "   '24.',\n",
       "   'During the Relevant Period, at least one pool participant did not qualify as an “eligible contract participant,” as that term is defined by Section 1a(18) of the Act, 7 U.S.C.',\n",
       "   '§ 1a(18) (2012).',\n",
       "   'In addition, the purported commodity pool operated by Allied Markets was not an eligible contract participant during the Relevant Period.',\n",
       "   '25.',\n",
       "   'On numerous occasions during the Relevant Period, including in or about June 2012 and in or about July 2013, Defendants fraudulently represented to at least four prospective pool participants that Allied Markets’ forex trading offered a safe investment with guaranteed returns, which pool participants were due to receive on a monthly or annual basis.',\n",
       "   '26.',\n",
       "   '| Defendants knew these representations were false because, among other things, Defendants knew that the purported commodity pool operated by Allied Markets, by and through Gilliland and Wongkhiao, sustained overall net losses in its forex trading account during the Relevant Period.',\n",
       "   '2h.',\n",
       "   'Gilliland and Wongkhiao, acting on behalf of Allied Markets, directed at least two pool participants to sign agreements with Allied Markets containing fraudulent representations.',\n",
       "   'These agreements guaranteed rates of return on pool participants’ principal of seven and ten percent, respectively.',\n",
       "   'The agreements also provided that pool participants could terminate their agreement with Allied Markets and that their principal would be refunded upon sixty days’ notice.',\n",
       "   'Wongkhiao signed the agreements as a “Managing Member” of Allied Markets.',\n",
       "   '28.',\n",
       "   'While the agreements Allied Markets executed with pool participants referred to investment returns as “interest,” Defendants communicated to pool participants that their funds were to be pooled for trading in forex and that returns would be derived from trading profits.',\n",
       "   'At least one agreement Allied Markets executed with a pool participant expressly stated that the pool would trade forex.',\n",
       "   '29.',\n",
       "   'During the Relevant Period, Defendants’ representations prompted pool participants to provide Defendants at least $1 million for trading forex in the purported commodity pool operated by Allied Markets.',\n",
       "   'Defendants misappropriated this money.',\n",
       "   '30.',\n",
       "   'Defendants directed pool participants to send funds to bank accounts under their control.',\n",
       "   'In operating these bank accounts and accepting funds from pool participants, Defendants made no distinction between the purported commodity pool operated by Allied Markets and Allied Markets as the CPO, and they commingled their personal funds with funds contributed by pool participants.',\n",
       "   '3) Gilliland and Wongkhiao, acting on behalf of Allied Markets, established a forex trading account in the name of, and for the benefit of, Allied Markets, not for the purported commodity pool operated by Allied Markets.',\n",
       "   '32.',\n",
       "   'During the Relevant Period, the forex trading conducted by Gilliland and/or Wongkhiao resulted in a net loss of approximately $190,000.',\n",
       "   '33.',\n",
       "   'Defendants did not disclose these losses to pool participants.',\n",
       "   'Rather, Defendants knowingly misrepresented to pool participants on multiple occasions during the Relevant Period, in person and via telephone, that Defendants’ forex trading was profitable.',\n",
       "   '34.',\n",
       "   'While Defendants initially deposited some of the funds they received from pool participants into the Allied Markets forex trading account, Defendants used only a small portion of those funds for trading.',\n",
       "   '35, Instead of trading forex as promised, during the Relevant Period Defendants withdrew approximately $850,000 in pool participant funds from the Allied Markets forex trading account.',\n",
       "   '36.',\n",
       "   'Using pool participants’ funds, Gilliland and Wongkhiao spent approximately $64,000 on restaurants and entertainment, approximately $33,000 on travel, hotels.',\n",
       "   'and rental cars, and approximately $66,000 on rent for their residence in Jacksonville Beach, Florida.',\n",
       "   'Bal During the Relevant Period, Gilliland and Wongkhiao also transferred at least $83,200 to their personal bank accounts, withdrew approximately $105,000 in cash from automated teller machines, and withdrew approximately $34,000 in cash at bank branches.',\n",
       "   '38.',\n",
       "   'Defendants also used pool participant funds to pay purported profits, to pay other personal expenses, and to further their fraudulent scheme.',\n",
       "   'Defendants failed to disclose to pool participants that Defendants did not invest all pool participant funds as promised, 39.',\n",
       "   'During the Relevant Period, Defendants distributed approximately $48,169 in purported gains to pool participants.',\n",
       "   'Defendants represented that these payments came from trading profits.',\n",
       "   'Contrary to their representations, Defendants made these payments from the deposits of other pool participants.',\n",
       "   'in the manner of a Ponzi scheme.',\n",
       "   '40.',\n",
       "   'Unless restrained and enjoined by this Court, Defendants are likely to continue to engage in the acts and practices alleged in this Complaint and similar acts and practices in violation of the CEA and CFTC Regulations.',\n",
       "   'VI.'],\n",
       "  'header': 'VI.',\n",
       "  'id': 7},\n",
       " {'content': ['STATUTORY AND REGULATORY VIOLATIONS COUNTI FRAUD BY MISREPRESENTATION, OMISSION, AND MISAPPROPRIATION Violations of 7 U.S.C.'],\n",
       "  'header': 'STATUTORY AND REGULATORY VIOLATIONS COUNTI FRAUD BY MISREPRESENTATION, OMISSION, AND MISAPPROPRIATION Violations of 7 U.S.C.',\n",
       "  'id': 8},\n",
       " {'content': ['§ 6b(a)(2)(A), (C) (2012) and 17 C.F.R.',\n",
       "   '§ 5.2(b) (2014) 41.',\n",
       "   'The allegations in the foregoing paragraphs are incorporated by reference as if fully set forth herein.',\n",
       "   '42.',\n",
       "   '— Section 4b(a)(2)(A) and (C) of the CEA, 7 U.S.C § 4b(a)(2)(A), (C) (2012), makes it unlawful for any person, in or in connection with any order to make, or the making of, any contract of sale of any commodity for future delivery that is made, or to be made, for or on behalf of, or with, any other person, other than on or subject to the rules of a designated contract market (A) to cheat or defraud or attempt to cheat or defraud the other person; ses (C) willfully to deceive or attempt to deceive the other person by any means whatsoever in regard to any order or contract or the disposition or execution of any order or contract, or in regard to any act of agency performed, with respect to any order or contract for or ... With the other person[.]',\n",
       "   '43.',\n",
       "   'CFTC Regulation 5.2(b)(1) and (3), 17 C.F.R.',\n",
       "   '§ 5.2(b)(1), (3) (2014), makes it unlawful for any person, by use of the mails or by any means or instrumentality of interstate commerce, directly or indirectly, in or in connection with any retail forex transaction: (1) to cheat or defraud or attempt to cheat or defraud any person; or (3) willfully to deceive or attempt to deceive any person by any means whatsoever.',\n",
       "   '44.',\n",
       "   'As described herein, Defendants violated Section 4b(a)(2)(A) and (C) of the CEA, 7 U.S.C.',\n",
       "   '§ 6b(a)(2)(A), (C) (2012), and CFTC Regulation 5,2(b)(1) and (3).',\n",
       "   '17 C.F.R.',\n",
       "   '§ 5.2(b)(1), (3) (2014), by their material false statements and omissions to prospective and existing pool participants regarding Defendants’ trading and profitability, by misappropriating pool participants’ funds, and by failing to disclose that misappropriation to poo!',\n",
       "   'participants.',\n",
       "   '45.',\n",
       "   'Defendants engaged in the acts and practices described above using instrumentalities of interstate commerce, including the use of interstate wires for transfer of funds.',\n",
       "   '46.',\n",
       "   'Defendants engaged in the acts and practices described herein willfully.',\n",
       "   'knowingly, or with reckless disregard for the truth.',\n",
       "   '47.',\n",
       "   'The foregoing acts and omissions by Gilliland and Wongkhiao occurred within the course and scope of their employment, office, and/or agency with Allied Markets.',\n",
       "   '10 Allied Markets is therefore liable for those acts and omissions, pursuant to Section 2(a)(1)(B) of the CEA, 7 U.S.C.',\n",
       "   '§ 2(a)(1)(B) (2012), and CFTC Regulation 1.2.',\n",
       "   '17 C.F.R.',\n",
       "   '§ 1.2 (2014).',\n",
       "   '48.',\n",
       "   'During the Relevant Period, Gilliland and Wongkhiao controlled Allied Markets directly or indirectly, and they failed to act in good faith or knowingly induced, directly or indirectly, the acts constituting Allied Markets’ violations of the CEA and CFTC Regulations.',\n",
       "   'Gilliland and Wongkhiao are therefore liable for Allied Markets’ violations of the CEA and CFTC Regulations, pursuant to Section 13(b) of the CEA, 7 U.S.C.',\n",
       "   '§ 13c(b) (2012).',\n",
       "   '49.',\n",
       "   'Each act of misrepresentation, material omission, or misappropriation including, but not limited to, those specifically alleged herein, is alleged as a separate and distinct violation of Section 4b(a)(2)(A) and (C) of the CEA.',\n",
       "   '7 U.S.C, § 6b(a)(2)(A), (C) (2012).',\n",
       "   'COUNT U FRAUD BY A COMMODITY POOL OPERATOR Violations of 7 U.S.C.'],\n",
       "  'header': 'COUNT U FRAUD BY A COMMODITY POOL OPERATOR Violations of 7 U.S.C.',\n",
       "  'id': 9}]"
      ]
     },
     "execution_count": 12,
     "metadata": {},
     "output_type": "execute_result"
    }
   ],
   "source": [
    "# get_structure\n",
    "structured_text = get_structure(cleaned_text)\n",
    "structured_text[:10]"
   ]
  },
  {
   "cell_type": "code",
   "execution_count": 12,
   "metadata": {},
   "outputs": [
    {
     "name": "stdout",
     "output_type": "stream",
     "text": [
      "{'content': ['UNITED STATES DISTRICT COURT MIDDLE DISTRICT OF FLORIDA '\n",
      "             'Jacksonville Division U.S. COMMODITY FUTURES TRADING COMMISSION, '\n",
      "             'Plaintiff, v. Case No.'],\n",
      " 'header': 'UNITED STATES DISTRICT COURT MIDDLE DISTRICT OF FLORIDA '\n",
      "           'Jacksonville Division U.S. COMMODITY FUTURES TRADING COMMISSION, '\n",
      "           'Plaintiff, v. Case No.',\n",
      " 'id': 0}\n",
      "None\n",
      "\n",
      "------\n",
      "\n",
      "{'content': ['3:15-cv-5-J-34MCR ALLIED MARKETS LLC, JOSHUA GILLILAND, and '\n",
      "             'CHAWALIT WONGKHIAOQO, Defendants.'],\n",
      " 'header': '3:15-cv-5-J-34MCR ALLIED MARKETS LLC, JOSHUA GILLILAND, and '\n",
      "           'CHAWALIT WONGKHIAOQO, Defendants.',\n",
      " 'id': 1}\n",
      "None\n",
      "\n",
      "------\n",
      "\n",
      "{'content': ['ORDER GRANTING PLAINTIFF’S EX PARTE MOTION FOR STATUTORY '\n",
      "             'RESTRAINING ORDER AND SCHEDULING PRELIMINARY INJUNCTION HEARING '\n",
      "             \"THIS CAUSE is before the Court on Plaintiff's Ex Parte Motion \"\n",
      "             'for Statutory Restraining Order and Motion for Preliminary '\n",
      "             'Injunction (Doc.',\n",
      "             'S-4; Motion), filed on January 5, 2015.',\n",
      "             'Simultaneously with the Motion, the United States Commodity '\n",
      "             'Futures Trading Commission (Plaintiff or CFTC) filed a Complaint '\n",
      "             'for Injunctive Relief, Civil Monetary Penalty, and Other '\n",
      "             'Equitable Relief (Doc.',\n",
      "             'S-3) against Defendants Allied Markets LLC, Joshua Gilliland, '\n",
      "             'and Chawalit Wongkhiao (collectively, Defendants).',\n",
      "             'In the Motion, the CFTC moves, pursuant to Section 6c(a) of the '\n",
      "             'Commodity Exchange Act (CEA), 7 U.S.C.',\n",
      "             '§ 13a-1(a) (2012), for an ex parte statutory restraining order '\n",
      "             'freezing assets and prohibiting the destruction of books, '\n",
      "             'records, or other documents; and for an order requiring '\n",
      "             'Defendants to show cause why a preliminary injunction should not '\n",
      "             'issue.',\n",
      "             'The Court has considered the pleadings, declarations, exhibits, '\n",
      "             'and memorandum filed in support of the CFTC’s Motion, and now, '\n",
      "             'being fully advised, finds as follows: l. The Court possesses '\n",
      "             'jurisdiction over the parties and over the subject matter of '\n",
      "             'this action pursuant to Section 6c of the CEA, 7 U.S.C.',\n",
      "             '§ 13a-1 (2012).',\n",
      "             'om Venue properly lies in this District, pursuant to Section '\n",
      "             '6c(e) of the CEA, 7 U.S.C.',\n",
      "             '§ 13a-1(e) (2012).',\n",
      "             'as There is good cause to believe that Defendant Allied Markets '\n",
      "             'LLC (“Allied Markets”), by and through its agents, principals '\n",
      "             'and control persons, Defendants Joshua Gilliland and Chawalit '\n",
      "             'Wongkhiao have engaged in, are engaging in, and may continue to '\n",
      "             'engage in violations of Sections 2(c)(2)(C)Gii)(D(cc), '\n",
      "             '4b(a)(2)(A) and (C), 4k(2), 4m(1), and 40(1) of the CEA, 7 '\n",
      "             'U.S.C.',\n",
      "             '§§ 2(c)(2)(C)Gu)(D(cc), 6b(a)(2)(A), (C), 6k(2), 6m(1), 60(1) '\n",
      "             '(2012); and CFTC Regulations 3.12, 4.20(a)-(c), 4.41(a), '\n",
      "             '5.2(b)(1) and (3), 5.3(a)(2)@), and 5.3(a)(2)(ii), 17 C.F.R.',\n",
      "             '§§ 3.12, 4.20(a)-(c), 4.41 (a), 5.2(b)(1), (3), 5.3(a)(2)G), '\n",
      "             '(41) (2014).',\n",
      "             '4, The CFTC has presented evidence that, since at least January '\n",
      "             '2012, Defendants fraudulently solicited more than $1 million '\n",
      "             'from members of the public to participate in a supposed '\n",
      "             'commodity pool purportedly trading leveraged or margined retail '\n",
      "             'off-exchange foreign currency contracts, commonly known as '\n",
      "             '“forex.” The CFTC has also presented evidence that Defendants '\n",
      "             'misappropriated pool participants’ funds to pay Defendants '\n",
      "             'Gilliland’s and Wongkhiao’s personal expenses.',\n",
      "             'Additionally, the CFTC has presented evidence that Defendants '\n",
      "             'failed to register with the CFTC as required, failed to '\n",
      "             'segregate customer funds, and failed to operate the commodity '\n",
      "             'pool as a separate entity, and failed to accurately report or '\n",
      "             'disclose the performance of the relevant investments, as '\n",
      "             'required by the CEA and CFTC Regulations.',\n",
      "             '» There is good cause to believe that immediate and irreparable '\n",
      "             'damage to the Court’s ability to grant effective final relief in '\n",
      "             'the form of monetary redress will occur from the sale, transfer, '\n",
      "             'assignment, or other disposition by Defendants of assets or '\n",
      "             'records unless Defendants are immediately restrained and '\n",
      "             'enjoined by order of this Court; 6.',\n",
      "             'There is good cause for entry of an order freezing assets owned, '\n",
      "             'controlled, managed, or held by or on behalf of, or for the '\n",
      "             'benefit of, Defendants.',\n",
      "             '7: There is good cause for entry of an order prohibiting '\n",
      "             'Defendants, their agents, servants, employees, assigns, '\n",
      "             'attorneys, and persons in active concert or participation with '\n",
      "             'Defendants, including any successor thereof, from destroying '\n",
      "             'records and/or denying agents of the CFTC immediate and complete '\n",
      "             'access to Defendants’ books and records for inspection and '\n",
      "             'copying.',\n",
      "             '8.',\n",
      "             'Absent the entry of this order, Defendants would have the '\n",
      "             'ability to dissipate or transfer assets and destroy books and '\n",
      "             'records.',\n",
      "             '9.',\n",
      "             'An ex parte statutory restraining order is warranted here to '\n",
      "             'preserve the status quo, protect customers from loss and damage, '\n",
      "             'and enable the CFTC to fulfill its statutory duties.',\n",
      "             'Accordingly, it is ORDERED: 10.',\n",
      "             \"‘Plaintiff's Ex Parte Motion for Statutory Restraining Order and \"\n",
      "             'Motion for Preliminary Injunction (Doc.',\n",
      "             'S-4) is GRANTED, in part, and TAKEN UNDER ADVISEMENT, in part.',\n",
      "             'A.'],\n",
      " 'header': 'A.',\n",
      " 'id': 2}\n",
      "None\n",
      "\n",
      "------\n",
      "\n",
      "{'content': ['To the extent the CFTC requests an ex parte statutory '\n",
      "             'restraining order, the Motion is GRANTED as set forth below.',\n",
      "             'B.'],\n",
      " 'header': 'B.',\n",
      " 'id': 3}\n",
      "None\n",
      "\n",
      "------\n",
      "\n",
      "{'content': ['To the extent the CFTC requests the entry of a preliminary '\n",
      "             'injunction, the Motion is TAKEN UNDER ADVISEMENT.',\n",
      "             'RELIEF GRANTED I.'],\n",
      " 'header': 'RELIEF GRANTED I.',\n",
      " 'id': 4}\n",
      "None\n",
      "\n",
      "------\n",
      "\n",
      "{'content': ['ASSET!'], 'header': 'ASSET!', 'id': 5}\n",
      "None\n",
      "\n",
      "------\n",
      "\n",
      "{'content': ['FREEZE IT IS HEREBY ORDERED that: 11.'],\n",
      " 'header': 'FREEZE IT IS HEREBY ORDERED that: 11.',\n",
      " 'id': 6}\n",
      "None\n",
      "\n",
      "------\n",
      "\n",
      "{'content': ['Defendants?',\n",
      "             'and their agents, servants, employees, assigns, attorneys, '\n",
      "             'including any successor thereof, and persons in active concert '\n",
      "             'or participation with them, who receive actual notice of this '\n",
      "             'Order by personal service or otherwise, are immediately '\n",
      "             'restrained and enjoined from directly or indirectly '\n",
      "             'transferring, selling, alienating, liquidating, encumbering, '\n",
      "             'pledging, leasing, loaning, assigning, concealing, dissipating, '\n",
      "             'converting, withdrawing, or otherwise disposing of any assets, '\n",
      "             'wherever located, including Defendants’ assets held outside the '\n",
      "             \"United States, except as otherwise ordered by the Court. '\",\n",
      "             'For the purposes of this Order, the term “Assets” means any '\n",
      "             'legal or equitable interest in, right to, or claim to, any real '\n",
      "             'or personal property, whether individually or jointly, directly '\n",
      "             'or indirectly controlled, and wherever located, including, but '\n",
      "             'not limited to: chattels, goods, instruments, equipment, '\n",
      "             'fixtures, general intangibles, effects, leaseholds mail or other '\n",
      "             'deliveries, inventory, checks, notes, accounts (including, but '\n",
      "             'not limited to, bank accounts and accounts at other financial '\n",
      "             'institutions), credits, receivables, lines of credit, contracts '\n",
      "             '(including spot, futures, options, or swaps contracts), '\n",
      "             'insurance policies, and all cash, wherever located, whether '\n",
      "             'within or outside the United States.',\n",
      "             '2 For purposes of this Order, the term “Defendants” refers to '\n",
      "             'Allied Markets LLC, Joshua Gilliland, and Chawalit Wongkhiao, '\n",
      "             'and any person insofar as he or she is acting in the capacity of '\n",
      "             'an officer, agent servant, employee, or attorney of Defendants '\n",
      "             'and any person who receives actual notice of this Order by '\n",
      "             'personal service or otherwise insofar as he or she is acting in '\n",
      "             'concert or participation with Defendants.',\n",
      "             '“Defendants” also refers to any d/b/a, successor, affiliate, '\n",
      "             'subsidiary, or other entity owned, controlled, managed, or held '\n",
      "             'by, on behalf of, or for the benefit of Allied Markets, Joshua '\n",
      "             'Gilliland, or Chawalit Wongkhiao.',\n",
      "             '12; This Order shall apply to any assets derived from or '\n",
      "             'otherwise related to the activities alleged in the CFTC’s '\n",
      "             'complaint, regardless of when the asset is obtained.',\n",
      "             'However, the assets affected by this Order shall not include '\n",
      "             'assets obtained after the effective date of this Order, to the '\n",
      "             'extent such assets are not derived from or otherwise related to '\n",
      "             'the activities alleged in the CFTC’s complaint.',\n",
      "             'Il.',\n",
      "             'NOTICE TO FINANCIAL INSTUTIONS AND OTHERS [3.'],\n",
      " 'header': 'NOTICE TO FINANCIAL INSTUTIONS AND OTHERS [3.',\n",
      " 'id': 7}\n",
      "None\n",
      "\n",
      "------\n",
      "\n",
      "{'content': ['Any financial or brokerage institution, business entity, or '\n",
      "             'person that holds, controls, or maintains custody of any account '\n",
      "             'or asset titled in the name of, held for the benefit of, or '\n",
      "             'otherwise under the control of any Defendant, or has held, '\n",
      "             'controlled, or maintained custody of any such account or asset '\n",
      "             'of any Defendant at any time since January 1, 2012 are hereby '\n",
      "             'notified that this Order prohibits any Defendant and all other '\n",
      "             'persons from withdrawing, removing, assigning, transferring, '\n",
      "             'pledging, encumbering, disbursing, dissipating, converting, '\n",
      "             'selling or otherwise disposing of Defendants’ assets, except as '\n",
      "             'directed by further order of the Court; provided, however, '\n",
      "             'nothing in this Order shall limit the discretion of any '\n",
      "             'compliance official of any retail foreign exchange dealer or '\n",
      "             'futures commission merchant with which Defendants maintain an '\n",
      "             'account to liquidate, or close out, any and all open positions '\n",
      "             'in Defendants’ account, in a prompt and orderly fashion in order '\n",
      "             'to avoid losses due to the asset freeze required by this Order.',\n",
      "             'Il.',\n",
      "             'MAINTENANCE OF AND ACCESS TO BUSINESS RECORDS IT IS FURTHER '\n",
      "             'ORDERED that: 14.'],\n",
      " 'header': 'MAINTENANCE OF AND ACCESS TO BUSINESS RECORDS IT IS FURTHER '\n",
      "           'ORDERED that: 14.',\n",
      " 'id': 8}\n",
      "None\n",
      "\n",
      "------\n",
      "\n",
      "{'content': ['Defendants and all persons or entities who receive notice of '\n",
      "             'this Order by personal service or otherwise, are restrained from '\n",
      "             'directly or indirectly destroying, mutilating, erasing, '\n",
      "             'altering, concealing or disposing of, in any manner, directly or '\n",
      "             'indirectly, any documents?',\n",
      "             'that relate to the business practices or business or personal '\n",
      "             'finances of any Defendant.',\n",
      "             'IV.'],\n",
      " 'header': 'IV.',\n",
      " 'id': 9}\n",
      "None\n",
      "\n",
      "------\n",
      "\n"
     ]
    }
   ],
   "source": [
    "# explore get_structure 1\n",
    "for k in structured_text[:10]: \n",
    "    print(pprint.pprint(k))\n",
    "    print(\"\\n------\\n\")"
   ]
  },
  {
   "cell_type": "code",
   "execution_count": 13,
   "metadata": {},
   "outputs": [
    {
     "name": "stdout",
     "output_type": "stream",
     "text": [
      "header : UNITED STATES DISTRICT COURT MIDDLE DISTRICT OF FLORIDA Jacksonville Division U.S. COMMODITY FUTURES TRADING COMMISSION, Plaintiff, v. Case No.\n",
      " id:0,\n",
      " content:['UNITED STATES DISTRICT COURT MIDDLE DISTRICT OF FLORIDA Jacksonville Division U.S. COMMODITY FUTURES TRADING COMMISSION, Plaintiff, v. Case No.'] \n",
      "\n",
      "-----\n",
      "\n",
      "header : 3:15-cv-5-J-34MCR ALLIED MARKETS LLC, JOSHUA GILLILAND, and CHAWALIT WONGKHIAOQO, Defendants.\n",
      " id:1,\n",
      " content:['3:15-cv-5-J-34MCR ALLIED MARKETS LLC, JOSHUA GILLILAND, and CHAWALIT WONGKHIAOQO, Defendants.'] \n",
      "\n",
      "-----\n",
      "\n",
      "header : A.\n",
      " id:2,\n",
      " content:[\"ORDER GRANTING PLAINTIFF’S EX PARTE MOTION FOR STATUTORY RESTRAINING ORDER AND SCHEDULING PRELIMINARY INJUNCTION HEARING THIS CAUSE is before the Court on Plaintiff's Ex Parte Motion for Statutory Restraining Order and Motion for Preliminary Injunction (Doc.\", 'S-4; Motion), filed on January 5, 2015.', 'Simultaneously with the Motion, the United States Commodity Futures Trading Commission (Plaintiff or CFTC) filed a Complaint for Injunctive Relief, Civil Monetary Penalty, and Other Equitable Relief (Doc.', 'S-3) against Defendants Allied Markets LLC, Joshua Gilliland, and Chawalit Wongkhiao (collectively, Defendants).', 'In the Motion, the CFTC moves, pursuant to Section 6c(a) of the Commodity Exchange Act (CEA), 7 U.S.C.', '§ 13a-1(a) (2012), for an ex parte statutory restraining order freezing assets and prohibiting the destruction of books, records, or other documents; and for an order requiring Defendants to show cause why a preliminary injunction should not issue.', 'The Court has considered the pleadings, declarations, exhibits, and memorandum filed in support of the CFTC’s Motion, and now, being fully advised, finds as follows: l. The Court possesses jurisdiction over the parties and over the subject matter of this action pursuant to Section 6c of the CEA, 7 U.S.C.', '§ 13a-1 (2012).', 'om Venue properly lies in this District, pursuant to Section 6c(e) of the CEA, 7 U.S.C.', '§ 13a-1(e) (2012).', 'as There is good cause to believe that Defendant Allied Markets LLC (“Allied Markets”), by and through its agents, principals and control persons, Defendants Joshua Gilliland and Chawalit Wongkhiao have engaged in, are engaging in, and may continue to engage in violations of Sections 2(c)(2)(C)Gii)(D(cc), 4b(a)(2)(A) and (C), 4k(2), 4m(1), and 40(1) of the CEA, 7 U.S.C.', '§§ 2(c)(2)(C)Gu)(D(cc), 6b(a)(2)(A), (C), 6k(2), 6m(1), 60(1) (2012); and CFTC Regulations 3.12, 4.20(a)-(c), 4.41(a), 5.2(b)(1) and (3), 5.3(a)(2)@), and 5.3(a)(2)(ii), 17 C.F.R.', '§§ 3.12, 4.20(a)-(c), 4.41 (a), 5.2(b)(1), (3), 5.3(a)(2)G), (41) (2014).', '4, The CFTC has presented evidence that, since at least January 2012, Defendants fraudulently solicited more than $1 million from members of the public to participate in a supposed commodity pool purportedly trading leveraged or margined retail off-exchange foreign currency contracts, commonly known as “forex.” The CFTC has also presented evidence that Defendants misappropriated pool participants’ funds to pay Defendants Gilliland’s and Wongkhiao’s personal expenses.', 'Additionally, the CFTC has presented evidence that Defendants failed to register with the CFTC as required, failed to segregate customer funds, and failed to operate the commodity pool as a separate entity, and failed to accurately report or disclose the performance of the relevant investments, as required by the CEA and CFTC Regulations.', '» There is good cause to believe that immediate and irreparable damage to the Court’s ability to grant effective final relief in the form of monetary redress will occur from the sale, transfer, assignment, or other disposition by Defendants of assets or records unless Defendants are immediately restrained and enjoined by order of this Court; 6.', 'There is good cause for entry of an order freezing assets owned, controlled, managed, or held by or on behalf of, or for the benefit of, Defendants.', '7: There is good cause for entry of an order prohibiting Defendants, their agents, servants, employees, assigns, attorneys, and persons in active concert or participation with Defendants, including any successor thereof, from destroying records and/or denying agents of the CFTC immediate and complete access to Defendants’ books and records for inspection and copying.', '8.', 'Absent the entry of this order, Defendants would have the ability to dissipate or transfer assets and destroy books and records.', '9.', 'An ex parte statutory restraining order is warranted here to preserve the status quo, protect customers from loss and damage, and enable the CFTC to fulfill its statutory duties.', 'Accordingly, it is ORDERED: 10.', \"‘Plaintiff's Ex Parte Motion for Statutory Restraining Order and Motion for Preliminary Injunction (Doc.\", 'S-4) is GRANTED, in part, and TAKEN UNDER ADVISEMENT, in part.', 'A.'] \n",
      "\n",
      "-----\n",
      "\n",
      "header : B.\n",
      " id:3,\n",
      " content:['To the extent the CFTC requests an ex parte statutory restraining order, the Motion is GRANTED as set forth below.', 'B.'] \n",
      "\n",
      "-----\n",
      "\n",
      "header : RELIEF GRANTED I.\n",
      " id:4,\n",
      " content:['To the extent the CFTC requests the entry of a preliminary injunction, the Motion is TAKEN UNDER ADVISEMENT.', 'RELIEF GRANTED I.'] \n",
      "\n",
      "-----\n",
      "\n",
      "header : ASSET!\n",
      " id:5,\n",
      " content:['ASSET!'] \n",
      "\n",
      "-----\n",
      "\n",
      "header : FREEZE IT IS HEREBY ORDERED that: 11.\n",
      " id:6,\n",
      " content:['FREEZE IT IS HEREBY ORDERED that: 11.'] \n",
      "\n",
      "-----\n",
      "\n",
      "header : NOTICE TO FINANCIAL INSTUTIONS AND OTHERS [3.\n",
      " id:7,\n",
      " content:['Defendants?', \"and their agents, servants, employees, assigns, attorneys, including any successor thereof, and persons in active concert or participation with them, who receive actual notice of this Order by personal service or otherwise, are immediately restrained and enjoined from directly or indirectly transferring, selling, alienating, liquidating, encumbering, pledging, leasing, loaning, assigning, concealing, dissipating, converting, withdrawing, or otherwise disposing of any assets, wherever located, including Defendants’ assets held outside the United States, except as otherwise ordered by the Court. '\", 'For the purposes of this Order, the term “Assets” means any legal or equitable interest in, right to, or claim to, any real or personal property, whether individually or jointly, directly or indirectly controlled, and wherever located, including, but not limited to: chattels, goods, instruments, equipment, fixtures, general intangibles, effects, leaseholds mail or other deliveries, inventory, checks, notes, accounts (including, but not limited to, bank accounts and accounts at other financial institutions), credits, receivables, lines of credit, contracts (including spot, futures, options, or swaps contracts), insurance policies, and all cash, wherever located, whether within or outside the United States.', '2 For purposes of this Order, the term “Defendants” refers to Allied Markets LLC, Joshua Gilliland, and Chawalit Wongkhiao, and any person insofar as he or she is acting in the capacity of an officer, agent servant, employee, or attorney of Defendants and any person who receives actual notice of this Order by personal service or otherwise insofar as he or she is acting in concert or participation with Defendants.', '“Defendants” also refers to any d/b/a, successor, affiliate, subsidiary, or other entity owned, controlled, managed, or held by, on behalf of, or for the benefit of Allied Markets, Joshua Gilliland, or Chawalit Wongkhiao.', '12; This Order shall apply to any assets derived from or otherwise related to the activities alleged in the CFTC’s complaint, regardless of when the asset is obtained.', 'However, the assets affected by this Order shall not include assets obtained after the effective date of this Order, to the extent such assets are not derived from or otherwise related to the activities alleged in the CFTC’s complaint.', 'Il.', 'NOTICE TO FINANCIAL INSTUTIONS AND OTHERS [3.'] \n",
      "\n",
      "-----\n",
      "\n",
      "header : MAINTENANCE OF AND ACCESS TO BUSINESS RECORDS IT IS FURTHER ORDERED that: 14.\n",
      " id:8,\n",
      " content:['Any financial or brokerage institution, business entity, or person that holds, controls, or maintains custody of any account or asset titled in the name of, held for the benefit of, or otherwise under the control of any Defendant, or has held, controlled, or maintained custody of any such account or asset of any Defendant at any time since January 1, 2012 are hereby notified that this Order prohibits any Defendant and all other persons from withdrawing, removing, assigning, transferring, pledging, encumbering, disbursing, dissipating, converting, selling or otherwise disposing of Defendants’ assets, except as directed by further order of the Court; provided, however, nothing in this Order shall limit the discretion of any compliance official of any retail foreign exchange dealer or futures commission merchant with which Defendants maintain an account to liquidate, or close out, any and all open positions in Defendants’ account, in a prompt and orderly fashion in order to avoid losses due to the asset freeze required by this Order.', 'Il.', 'MAINTENANCE OF AND ACCESS TO BUSINESS RECORDS IT IS FURTHER ORDERED that: 14.'] \n",
      "\n",
      "-----\n",
      "\n",
      "header : IV.\n",
      " id:9,\n",
      " content:['Defendants and all persons or entities who receive notice of this Order by personal service or otherwise, are restrained from directly or indirectly destroying, mutilating, erasing, altering, concealing or disposing of, in any manner, directly or indirectly, any documents?', 'that relate to the business practices or business or personal finances of any Defendant.', 'IV.'] \n",
      "\n",
      "-----\n",
      "\n",
      "header : V. INSPECTION AND COPYING OF BOOKS AND RECORDS IT IS FURTHER ORDERED that: 16.\n",
      " id:10,\n",
      " content:['BOND NOT REQUIRED OF PLAINTIFF IT IS FURTHER ORDERED that: Ibs Because Plaintiff CFTC is an agency of the United States of America and has made a proper showing under Section 6c(b) of the CEA, 7 U.S.C.', '§ 13a-1(b) (2012), this restraining order is granted without bond.', 'V. INSPECTION AND COPYING OF BOOKS AND RECORDS IT IS FURTHER ORDERED that: 16.'] \n",
      "\n",
      "-----\n",
      "\n",
      "header : VI.\n",
      " id:11,\n",
      " content:['Defendants shall immediately allow representatives of the CFTC to inspect the books, records, and other documents of Defendants and their agents including, but not limited to, paper documents, electronically stored information, tape recordings, and computer discs, wherever they may be situated and whether they are in the possession of Defendants or others, and to copy said documents, data and records, either on or off the premises where they may be situated.', 'VI.'] \n",
      "\n",
      "-----\n",
      "\n",
      "header : SERVICE OF ORDER AND ASSISTANCE OF UNITED STATES MARSHALS SERVICE IT IS FURTHER ORDERED that: 17.\n",
      " id:12,\n",
      " content:['SERVICE OF ORDER AND ASSISTANCE OF UNITED STATES MARSHALS SERVICE IT IS FURTHER ORDERED that: 17.'] \n",
      "\n",
      "-----\n",
      "\n",
      "header : VII.\n",
      " id:13,\n",
      " content:['Copies of this Order may be served by any means, including facsimile transmission, upon any financial institution or other entity or person that may have 3 For purposes of this Order, the term “document” is synonymous in meaning and equal in scope to the broad usage of the term in Federal Rule of Civil Procedure 34(a).', 'possession, custody, or control of any documents or assets of any Defendant, or that may be subject to any provision of this Order.', '18.', 'Representatives of the CFTC, the United States Marshals Service, the Florida Office of Financial Regulation, and the police departments of Jacksonville and Jacksonville Beach, Florida are specially appointed by the Court to effect service of this Order.', '19, The United States Marshals Service, the Florida Office of Financial Regulation, and the police departments of Jacksonville and Jacksonville Beach, Florida, in order to ensure the safety of CFTC representatives, are authorized to accompany and assist the CFTC in the service on Defendants of the summons, complaint, and supporting motions, memoranda, and orders entered with this Order.', '20.', 'The CFTC shall immediately file proof of service with the Court once accomplished.', 'VII.'] \n",
      "\n",
      "-----\n",
      "\n",
      "header : B.\n",
      " id:14,\n",
      " content:[\"PRELIMINARY INJUNCTION HEARING IT IS FURTHER ORDERED that: 21, This matter is set for a HEARING on Plaintiff's Motion for Preliminary Injunction (Doc.\", 'S-4) on Wednesday, January 21, 2015, at 10:00 a.m., before the undersigned at the Bryan Simpson United States Courthouse, 300 North Hogan Street, Jacksonville, Florida, 32202, in Courtroom 10B.', 'Counsel for Plaintiff and Defendants shall appear in person and telephonic appearances will not be permitted.’ * All persons entering the Courthouse must present photo identification to Court Security Officers.', 'Although cell phones, laptop computers, and similar electronic devices generally are not permitted in the building, attorneys may bring those items with them upon presentation to Court Security Officers of a Florida Bar card (presentation of the Duval County Courthouse lawyer identification card will suffice) or Order of special admission pro hac vice.', 'However, all cell phones must be turned off while in the courtroom.', '22.', 'The following expedited briefing schedule shall govern this case: A.', 'Defendants shall have up to and including 5:00 p.m. on Thursday, January 15, 2015, to file a memorandum in opposition to Plaintiffs Motion for Preliminary Injunction (Doc.', 'S-4), including any affidavits or declarations on which they rely.', 'B.'] \n",
      "\n",
      "-----\n",
      "\n",
      "header : FORCE AND EFFECT IT IS FURTHER ORDERED that: 25.\n",
      " id:15,\n",
      " content:['Plaintiff shall have up to and including 11:00 a.m. on Tuesday, January 20, 2015, to file a reply, if mecessary, in support of its Motion for Preliminary Injunction, which shall not exceed TEN (10) PAGES in length.', '23, The hearing will be conducted in accordance with Local Rule 4.06, United States District Court, Middle District of Florida, and Rule 65, Federal Rules of Civil Procedure.', 'The case does not appear to involve the exceptional situation wherein the Court will allow the parties to submit evidence at the hearing.', 'See Local Rule 4.06(b).', 'Thus, absent further order,’ the hearing will be limited to the written submissions and arguments of counsel.', '24.', 'In issuing this Statutory Restraining Order, the Court understands that Defendants have not yet been given an opportunity to be heard and emphasizes that it is not making a final decision on any request for preliminary injunctive relief.', 'However, the Court is persuaded that issuing the Statutory Restraining Order until a full hearing can be held on the CFTC’s request for preliminary injunctive relief is the lawful and proper action.', '> McDonald’s Corp. v. Robertson, 147 F.3d 1301, 1312-13 (11th Cir.', '1998) (“[W]here facts are bitterly contested and credibility determinations must be made to decide whether injunctive relief should issue, an evidentiary hearing must be held... .', '[W]here material facts are not in dispute, or where facts in dispute are not material to the preliminary injunction sought, district courts need not hold an evidentiary hearing.”) In the event either party believes such a hearing is warranted in this action, the party must, after conferring with opposing counsel, file a motion requesting an evidentiary hearing and identifying the factual issues or dispute which necessitate such relief, Vill.', 'FORCE AND EFFECT IT IS FURTHER ORDERED that: 25.'] \n",
      "\n",
      "-----\n",
      "\n",
      "header : aed UNITED STATES DISTRICT JUDGE\n",
      " id:16,\n",
      " content:['Unless earlier dissolved or extended by Order of the Court, the Statutory Restraining Order granted herein shall expire at midnight on January 21, 2015.', 'IT IS SO ORDERED at Jacksonville, Florida on this 7th day of January, 2015, at AO@.m.', 'aed UNITED STATES DISTRICT JUDGE'] \n",
      "\n",
      "-----\n",
      "\n"
     ]
    }
   ],
   "source": [
    "# explore get_structure 2\n",
    "for k in structured_text : \n",
    "    print(f\"header : {k.get('header')}\\n id:{k.get('id')},\\n content:{k.get('content')[:400]} \")\n",
    "    print(\"\\n-----\\n\")"
   ]
  },
  {
   "cell_type": "code",
   "execution_count": 14,
   "metadata": {
    "colab": {
     "base_uri": "https://localhost:8080/"
    },
    "id": "kwP38Yp_ETve",
    "outputId": "a85cc34b-4d32-4354-a55e-0896a1504f0c"
   },
   "outputs": [
    {
     "data": {
      "text/plain": [
       "{'content': [\"ORDER GRANTING PLAINTIFF’S EX PARTE MOTION FOR STATUTORY RESTRAINING ORDER AND SCHEDULING PRELIMINARY INJUNCTION HEARING THIS CAUSE is before the Court on Plaintiff's Ex Parte Motion for Statutory Restraining Order and Motion for Preliminary Injunction (Doc.\",\n",
       "  'S-4; Motion), filed on January 5, 2015.',\n",
       "  'Simultaneously with the Motion, the United States Commodity Futures Trading Commission (Plaintiff or CFTC) filed a Complaint for Injunctive Relief, Civil Monetary Penalty, and Other Equitable Relief (Doc.',\n",
       "  'S-3) against Defendants Allied Markets LLC, Joshua Gilliland, and Chawalit Wongkhiao (collectively, Defendants).',\n",
       "  'In the Motion, the CFTC moves, pursuant to Section 6c(a) of the Commodity Exchange Act (CEA), 7 U.S.C.',\n",
       "  '§ 13a-1(a) (2012), for an ex parte statutory restraining order freezing assets and prohibiting the destruction of books, records, or other documents; and for an order requiring Defendants to show cause why a preliminary injunction should not issue.',\n",
       "  'The Court has considered the pleadings, declarations, exhibits, and memorandum filed in support of the CFTC’s Motion, and now, being fully advised, finds as follows: l. The Court possesses jurisdiction over the parties and over the subject matter of this action pursuant to Section 6c of the CEA, 7 U.S.C.',\n",
       "  '§ 13a-1 (2012).',\n",
       "  'om Venue properly lies in this District, pursuant to Section 6c(e) of the CEA, 7 U.S.C.',\n",
       "  '§ 13a-1(e) (2012).',\n",
       "  'as There is good cause to believe that Defendant Allied Markets LLC (“Allied Markets”), by and through its agents, principals and control persons, Defendants Joshua Gilliland and Chawalit Wongkhiao have engaged in, are engaging in, and may continue to engage in violations of Sections 2(c)(2)(C)Gii)(D(cc), 4b(a)(2)(A) and (C), 4k(2), 4m(1), and 40(1) of the CEA, 7 U.S.C.',\n",
       "  '§§ 2(c)(2)(C)Gu)(D(cc), 6b(a)(2)(A), (C), 6k(2), 6m(1), 60(1) (2012); and CFTC Regulations 3.12, 4.20(a)-(c), 4.41(a), 5.2(b)(1) and (3), 5.3(a)(2)@), and 5.3(a)(2)(ii), 17 C.F.R.',\n",
       "  '§§ 3.12, 4.20(a)-(c), 4.41 (a), 5.2(b)(1), (3), 5.3(a)(2)G), (41) (2014).',\n",
       "  '4, The CFTC has presented evidence that, since at least January 2012, Defendants fraudulently solicited more than $1 million from members of the public to participate in a supposed commodity pool purportedly trading leveraged or margined retail off-exchange foreign currency contracts, commonly known as “forex.” The CFTC has also presented evidence that Defendants misappropriated pool participants’ funds to pay Defendants Gilliland’s and Wongkhiao’s personal expenses.',\n",
       "  'Additionally, the CFTC has presented evidence that Defendants failed to register with the CFTC as required, failed to segregate customer funds, and failed to operate the commodity pool as a separate entity, and failed to accurately report or disclose the performance of the relevant investments, as required by the CEA and CFTC Regulations.',\n",
       "  '» There is good cause to believe that immediate and irreparable damage to the Court’s ability to grant effective final relief in the form of monetary redress will occur from the sale, transfer, assignment, or other disposition by Defendants of assets or records unless Defendants are immediately restrained and enjoined by order of this Court; 6.',\n",
       "  'There is good cause for entry of an order freezing assets owned, controlled, managed, or held by or on behalf of, or for the benefit of, Defendants.',\n",
       "  '7: There is good cause for entry of an order prohibiting Defendants, their agents, servants, employees, assigns, attorneys, and persons in active concert or participation with Defendants, including any successor thereof, from destroying records and/or denying agents of the CFTC immediate and complete access to Defendants’ books and records for inspection and copying.',\n",
       "  '8.',\n",
       "  'Absent the entry of this order, Defendants would have the ability to dissipate or transfer assets and destroy books and records.',\n",
       "  '9.',\n",
       "  'An ex parte statutory restraining order is warranted here to preserve the status quo, protect customers from loss and damage, and enable the CFTC to fulfill its statutory duties.',\n",
       "  'Accordingly, it is ORDERED: 10.',\n",
       "  \"‘Plaintiff's Ex Parte Motion for Statutory Restraining Order and Motion for Preliminary Injunction (Doc.\",\n",
       "  'S-4) is GRANTED, in part, and TAKEN UNDER ADVISEMENT, in part.',\n",
       "  'A.'],\n",
       " 'header': 'A.',\n",
       " 'id': 2}"
      ]
     },
     "execution_count": 14,
     "metadata": {},
     "output_type": "execute_result"
    }
   ],
   "source": [
    "# explore get_structure\n",
    "structured_text[2]"
   ]
  },
  {
   "cell_type": "code",
   "execution_count": 15,
   "metadata": {
    "colab": {
     "base_uri": "https://localhost:8080/",
     "height": 54
    },
    "id": "T0k0pZbkwift",
    "outputId": "f363ff5b-ae0c-4a8f-e59d-cf621e083192"
   },
   "outputs": [
    {
     "data": {
      "text/plain": [
       "'UNITED STATES DISTRICT COURT MIDDLE DISTRICT OF FLORIDA Jacksonville Division U.S. COMMODITY FUTURES TRADING COMMISSION, Plaintiff, v. Case No.3:15-cv-5-J-34MCR ALLIED MARKETS LLC, JOSHUA GILLILAND, and CHAWALIT WONGKHIAOQO, Defendants.'"
      ]
     },
     "execution_count": 15,
     "metadata": {},
     "output_type": "execute_result"
    }
   ],
   "source": [
    "# get_header \n",
    "text_header = get_header(structured_text)\n",
    "text_header"
   ]
  },
  {
   "cell_type": "code",
   "execution_count": null,
   "metadata": {
    "colab": {
     "base_uri": "https://localhost:8080/"
    },
    "id": "4PiWquReBWbH",
    "outputId": "a7576bc8-0602-45bf-ca9e-a6314450d957"
   },
   "outputs": [],
   "source": [
    "# get_defendant \n",
    "def who_defendant(text:str, nlpipe = nlpipe):\n",
    "    return nlpipe(question=\"Who is the Defendant?\", context=text,topk=3)\n",
    "\n",
    "def who_violated(text:str, nlpipe = nlpipe):   \n",
    "    return nlpipe(question=\"Who violated?\", context=text,topk=3)\n",
    "\n",
    "def who_accused(text:str, nlpipe = nlpipe):\n",
    "    return nlpipe(question=\"Who is acused?\", context=text,topk=3)\n",
    "\n",
    "def get_charged(text:str, nlpipe = nlpipe):\n",
    "    return nlpipe(question=\"Who is charged?\", context=text,topk=3)\n",
    "\n",
    "defendant_funct_list = [(who_defendant, \"who_defendant\"), (who_violated, \"who_violated\"), (who_accused, \"who_accused\"), (get_charged, \"get_charged\")]"
   ]
  },
  {
   "cell_type": "code",
   "execution_count": 133,
   "metadata": {},
   "outputs": [],
   "source": [
    "# get_plaintiff\n",
    "def who_plaintiff(text:str, nlpipe = nlpipe):\n",
    "    return nlpipe(question=\"Who is the plaintiff?\", context=text,topk=3)\n",
    "\n",
    "def who_victim(text:str, nlpipe = nlpipe):   \n",
    "    return nlpipe(question=\"Who is the victim?\", context=text,topk=3)\n",
    "\n",
    "def who_accuse(text:str, nlpipe = nlpipe):\n",
    "    return nlpipe(question=\"Who is the acusator?\", context=text,topk=3)\n",
    "\n",
    "def get_charge(text:str, nlpipe = nlpipe):\n",
    "    return nlpipe(question=\"Who is charging?\", context=text,topk=3)\n",
    "\n",
    "plaintiff_funct_list = [(who_plaintiff, \"who_plaintiff\"), (who_victim, \"who_victim\"), (who_accuse, \"who_accuse\"), (get_charge, \"get_charge\")]"
   ]
  },
  {
   "cell_type": "code",
   "execution_count": 87,
   "metadata": {},
   "outputs": [
    {
     "data": {
      "text/plain": [
       "\"ORDER GRANTING PLAINTIFF’S EX PARTE MOTION FOR STATUTORY RESTRAINING ORDER AND SCHEDULING PRELIMINARY INJUNCTION HEARING THIS CAUSE is before the Court on Plaintiff's Ex Parte Motion for Statutory Restraining Order and Motion for Preliminary Injunction (Doc. S-4; Motion), filed on January 5, 2015. S\""
      ]
     },
     "execution_count": 87,
     "metadata": {},
     "output_type": "execute_result"
    }
   ],
   "source": [
    "# join a context section in text\n",
    "context_text = \" \".join( structured_text[2].get(\"content\"))\n",
    "context_text[:300]"
   ]
  },
  {
   "cell_type": "code",
   "execution_count": 98,
   "metadata": {},
   "outputs": [
    {
     "data": {
      "text/plain": [
       "[{'score': 0.09882518649101257,\n",
       "  'start': 2450,\n",
       "  'end': 2475,\n",
       "  'answer': 'Gilliland’s and Wongkhiao'},\n",
       " {'score': 0.08408939093351364,\n",
       "  'start': 570,\n",
       "  'end': 588,\n",
       "  'answer': 'Chawalit Wongkhiao'},\n",
       " {'score': 0.05622170865535736,\n",
       "  'start': 528,\n",
       "  'end': 546,\n",
       "  'answer': 'Allied Markets LLC'}]"
      ]
     },
     "execution_count": 98,
     "metadata": {},
     "output_type": "execute_result"
    }
   ],
   "source": [
    "# predict from context\n",
    "defendant_from_content = get_defendant(text=context_text, nlpipe=nlpipe)\n",
    "defendant_from_content"
   ]
  },
  {
   "cell_type": "code",
   "execution_count": 100,
   "metadata": {
    "id": "FHN-ooSITEZn"
   },
   "outputs": [
    {
     "data": {
      "text/plain": [
       "[{'score': 0.9367556571960449,\n",
       "  'start': 203,\n",
       "  'end': 223,\n",
       "  'answer': 'CHAWALIT WONGKHIAOQO'},\n",
       " {'score': 0.03780966252088547,\n",
       "  'start': 203,\n",
       "  'end': 211,\n",
       "  'answer': 'CHAWALIT'},\n",
       " {'score': 0.006723633036017418,\n",
       "  'start': 212,\n",
       "  'end': 223,\n",
       "  'answer': 'WONGKHIAOQO'}]"
      ]
     },
     "execution_count": 100,
     "metadata": {},
     "output_type": "execute_result"
    }
   ],
   "source": [
    "# predict from header\n",
    "defendant_from_header = get_defendant(text=text_header, nlpipe=nlpipe)\n",
    "defendant_from_header"
   ]
  },
  {
   "cell_type": "code",
   "execution_count": 104,
   "metadata": {
    "id": "EHgT19oXTaQI",
    "scrolled": false
   },
   "outputs": [
    {
     "name": "stdout",
     "output_type": "stream",
     "text": [
      "id: 2\n",
      "header : A.\n",
      " _content : ORDER GRANTING PLAINTIFF’S EX PARTE MOTION FOR STATUTORY RESTRAINING ORDER AND SCHEDULING PRELIMINARY INJUNCTION HEARING THIS CAUSE is before the Court on Plaintiff's Ex Parte Motion for Statutory Restraining Order and Motion for Preliminary Injunction (Doc. S-4; Motion), filed on January 5, 2015. S\n",
      "defendant : [{'score': 0.09882518649101257, 'start': 2450, 'end': 2475, 'answer': 'Gilliland’s and Wongkhiao'}, {'score': 0.08408939093351364, 'start': 570, 'end': 588, 'answer': 'Chawalit Wongkhiao'}, {'score': 0.05622170865535736, 'start': 528, 'end': 546, 'answer': 'Allied Markets LLC'}]    \n",
      "-----\n",
      "\n",
      "id: 7\n",
      "header : NOTICE TO FINANCIAL INSTUTIONS AND OTHERS [3.\n",
      " _content : Defendants? and their agents, servants, employees, assigns, attorneys, including any successor thereof, and persons in active concert or participation with them, who receive actual notice of this Order by personal service or otherwise, are immediately restrained and enjoined from directly or indirec\n",
      "defendant : [{'score': 0.06407205015420914, 'start': 1392, 'end': 1410, 'answer': 'Allied Markets LLC'}, {'score': 0.006931839045137167, 'start': 1392, 'end': 1428, 'answer': 'Allied Markets LLC, Joshua Gilliland'}, {'score': 0.0056947264820337296, 'start': 1392, 'end': 1410, 'answer': 'Allied Markets LLC'}]    \n",
      "-----\n",
      "\n",
      "id: 8\n",
      "header : MAINTENANCE OF AND ACCESS TO BUSINESS RECORDS IT IS FURTHER ORDERED that: 14.\n",
      " _content : Any financial or brokerage institution, business entity, or person that holds, controls, or maintains custody of any account or asset titled in the name of, held for the benefit of, or otherwise under the control of any Defendant, or has held, controlled, or maintained custody of any such account or\n",
      "defendant : [{'score': 0.349486768245697, 'start': 0, 'end': 38, 'answer': 'Any financial or brokerage institution'}, {'score': 0.15639689564704895, 'start': 0, 'end': 55, 'answer': 'Any financial or brokerage institution, business entity'}, {'score': 0.03395562246441841, 'start': 4, 'end': 38, 'answer': 'financial or brokerage institution'}]    \n",
      "-----\n",
      "\n"
     ]
    }
   ],
   "source": [
    "for sec in structured_text[2:10] : \n",
    "    _content = \" \".join( sec[\"content\"])\n",
    "    if len(_content)> 500 : \n",
    "        defendant = get_defendant(_content, nlpipe)\n",
    "        print(f\"id: {sec.get('id')}\\nheader : {sec.get('header')}\\n _content : {_content[:300]}\\ndefendant : {defendant}\\\n",
    "    \\n-----\\n\" )"
   ]
  },
  {
   "cell_type": "code",
   "execution_count": 124,
   "metadata": {},
   "outputs": [
    {
     "data": {
      "text/plain": [
       "[{'score': 0.09882518649101257,\n",
       "  'start': 2450,\n",
       "  'end': 2475,\n",
       "  'answer': 'Gilliland’s and Wongkhiao'},\n",
       " {'score': 0.08408939093351364,\n",
       "  'start': 570,\n",
       "  'end': 588,\n",
       "  'answer': 'Chawalit Wongkhiao'},\n",
       " {'score': 0.06407205015420914,\n",
       "  'start': 1392,\n",
       "  'end': 1410,\n",
       "  'answer': 'Allied Markets LLC'},\n",
       " {'score': 0.05622170865535736,\n",
       "  'start': 528,\n",
       "  'end': 546,\n",
       "  'answer': 'Allied Markets LLC'},\n",
       " {'score': 0.006931839045137167,\n",
       "  'start': 1392,\n",
       "  'end': 1428,\n",
       "  'answer': 'Allied Markets LLC, Joshua Gilliland'},\n",
       " {'score': 0.0056947264820337296,\n",
       "  'start': 1392,\n",
       "  'end': 1410,\n",
       "  'answer': 'Allied Markets LLC'}]"
      ]
     },
     "execution_count": 124,
     "metadata": {},
     "output_type": "execute_result"
    }
   ],
   "source": [
    "def predict_something(funct, structured_text, sections=[2, 7]) : \n",
    "    \"\"\" \"\"\"\n",
    "    \n",
    "    preds = list()\n",
    "    for k in  sections: \n",
    "        _content = \" \".join( structured_text[k][\"content\"])\n",
    "        preds.extend( funct(_content, nlpipe=nlpipe))\n",
    "    preds = sorted(preds, reverse=True, key=lambda i : i[\"score\"] ) \n",
    "    return preds    \n",
    "    \n",
    "    \n",
    "pred_defendant = predict_something(get_defendant, structured_text )\n",
    "pred_defendant"
   ]
  },
  {
   "cell_type": "code",
   "execution_count": 127,
   "metadata": {},
   "outputs": [
    {
     "data": {
      "text/plain": [
       "[{'ans': 'Allied Markets LLC', 'cum_score': 0.12598848529160023},\n",
       " {'ans': 'Allied Markets LLC, Joshua Gilliland',\n",
       "  'cum_score': 0.006931839045137167},\n",
       " {'ans': 'Chawalit Wongkhiao', 'cum_score': 0.08408939093351364},\n",
       " {'ans': 'Gilliland’s and Wongkhiao', 'cum_score': 0.09882518649101257}]"
      ]
     },
     "execution_count": 127,
     "metadata": {},
     "output_type": "execute_result"
    }
   ],
   "source": [
    "def grouped_predictions(funct, structured_text, sections=[2, 7]) : \n",
    "    \"\"\" \"\"\"\n",
    "    \n",
    "    pred_defendant = predict_something(get_defendant, structured_text , sections=sections)\n",
    "    df = pd.DataFrame(pred_defendant)\n",
    "    \n",
    "    gp_answer = list() \n",
    "    for k, sub_df in df.groupby(\"answer\") : \n",
    "        gp_answer.append({\"ans\": k, \"cum_score\" : sub_df.score.sum()})\n",
    "    \n",
    "    return gp_answer\n",
    "\n",
    "# ---- \n",
    "\n",
    "predicted=grouped_predictions(get_defendant, structured_text)"
   ]
  },
  {
   "cell_type": "code",
   "execution_count": null,
   "metadata": {},
   "outputs": [],
   "source": [
    "potentiel_defendant=[]\n",
    "for i in predicted:\n",
    "  defend=i['ans']\n",
    "  if 'Defendant' != defend:\n",
    "     potentiel_defendant.append(defend)\n",
    "\n",
    "print(set(potentiel_defendant))"
   ]
  },
  {
   "cell_type": "code",
   "execution_count": 135,
   "metadata": {
    "scrolled": false
   },
   "outputs": [
    {
     "name": "stdout",
     "output_type": "stream",
     "text": [
      "---- who_defendant ----\n",
      "[{'ans': 'Allied Markets LLC', 'cum_score': 0.12598848529160023}, {'ans': 'Allied Markets LLC, Joshua Gilliland', 'cum_score': 0.006931839045137167}, {'ans': 'Chawalit Wongkhiao', 'cum_score': 0.08408939093351364}, {'ans': 'Gilliland’s and Wongkhiao', 'cum_score': 0.09882518649101257}]\n",
      "\n",
      "\n",
      "---- who_violated ----\n",
      "[{'ans': 'Allied Markets LLC', 'cum_score': 0.12598848529160023}, {'ans': 'Allied Markets LLC, Joshua Gilliland', 'cum_score': 0.006931839045137167}, {'ans': 'Chawalit Wongkhiao', 'cum_score': 0.08408939093351364}, {'ans': 'Gilliland’s and Wongkhiao', 'cum_score': 0.09882518649101257}]\n",
      "\n",
      "\n",
      "---- who_accused ----\n",
      "[{'ans': 'Allied Markets LLC', 'cum_score': 0.12598848529160023}, {'ans': 'Allied Markets LLC, Joshua Gilliland', 'cum_score': 0.006931839045137167}, {'ans': 'Chawalit Wongkhiao', 'cum_score': 0.08408939093351364}, {'ans': 'Gilliland’s and Wongkhiao', 'cum_score': 0.09882518649101257}]\n",
      "\n",
      "\n",
      "---- get_charged ----\n",
      "[{'ans': 'Allied Markets LLC', 'cum_score': 0.12598848529160023}, {'ans': 'Allied Markets LLC, Joshua Gilliland', 'cum_score': 0.006931839045137167}, {'ans': 'Chawalit Wongkhiao', 'cum_score': 0.08408939093351364}, {'ans': 'Gilliland’s and Wongkhiao', 'cum_score': 0.09882518649101257}]\n",
      "\n",
      "\n"
     ]
    }
   ],
   "source": [
    "# defenant question list\n",
    "\n",
    "for funct, name in defendant_funct_list: \n",
    "    print(f\"---- {name} ----\" )\n",
    "    print(grouped_predictions(get_defendant, structured_text))\n",
    "    print(\"\\n\")"
   ]
  },
  {
   "cell_type": "code",
   "execution_count": 136,
   "metadata": {
    "scrolled": true
   },
   "outputs": [
    {
     "name": "stdout",
     "output_type": "stream",
     "text": [
      "---- who_plaintiff ----\n",
      "[{'ans': 'Allied Markets LLC', 'cum_score': 0.12598848529160023}, {'ans': 'Allied Markets LLC, Joshua Gilliland', 'cum_score': 0.006931839045137167}, {'ans': 'Chawalit Wongkhiao', 'cum_score': 0.08408939093351364}, {'ans': 'Gilliland’s and Wongkhiao', 'cum_score': 0.09882518649101257}]\n",
      "\n",
      "\n",
      "---- who_victim ----\n",
      "[{'ans': 'Allied Markets LLC', 'cum_score': 0.12598848529160023}, {'ans': 'Allied Markets LLC, Joshua Gilliland', 'cum_score': 0.006931839045137167}, {'ans': 'Chawalit Wongkhiao', 'cum_score': 0.08408939093351364}, {'ans': 'Gilliland’s and Wongkhiao', 'cum_score': 0.09882518649101257}]\n",
      "\n",
      "\n",
      "---- who_accuse ----\n",
      "[{'ans': 'Allied Markets LLC', 'cum_score': 0.12598848529160023}, {'ans': 'Allied Markets LLC, Joshua Gilliland', 'cum_score': 0.006931839045137167}, {'ans': 'Chawalit Wongkhiao', 'cum_score': 0.08408939093351364}, {'ans': 'Gilliland’s and Wongkhiao', 'cum_score': 0.09882518649101257}]\n",
      "\n",
      "\n",
      "---- get_charge ----\n",
      "[{'ans': 'Allied Markets LLC', 'cum_score': 0.12598848529160023}, {'ans': 'Allied Markets LLC, Joshua Gilliland', 'cum_score': 0.006931839045137167}, {'ans': 'Chawalit Wongkhiao', 'cum_score': 0.08408939093351364}, {'ans': 'Gilliland’s and Wongkhiao', 'cum_score': 0.09882518649101257}]\n",
      "\n",
      "\n"
     ]
    }
   ],
   "source": [
    "# plaintiff_funct_list\n",
    "\n",
    "for funct, name in plaintiff_funct_list: \n",
    "    print(f\"---- {name} ----\" )\n",
    "    print(grouped_predictions(get_defendant, structured_text))\n",
    "    print(\"\\n\")"
   ]
  },
  {
   "cell_type": "code",
   "execution_count": null,
   "metadata": {},
   "outputs": [
    {
     "data": {
      "application/vnd.jupyter.widget-view+json": {
       "model_id": "6d80fc8cf4324e7a849d71df49682217"
      }
     },
     "metadata": {},
     "output_type": "display_data"
    },
    {
     "name": "stdout",
     "output_type": "stream",
     "text": [
      "\n"
     ]
    },
    {
     "data": {
      "application/vnd.jupyter.widget-view+json": {
       "model_id": "e332e629f2c24c5da42076af3f7150f2"
      }
     },
     "metadata": {},
     "output_type": "display_data"
    }
   ],
   "source": [
    "model_name = \"deepset/roberta-base-squad2\"\n",
    "nlp = pipeline('question-answering', model=model_name, tokenizer=model_name)\n"
   ]
  },
  {
   "cell_type": "code",
   "execution_count": null,
   "metadata": {},
   "outputs": [],
   "source": [
    "QA_input = {\n",
    "    'question': 'Who is defenadents?',\n",
    "    'context': context_text\n",
    "}\n",
    "res = nlp(QA_input)\n",
    "print(res)\n",
    "\n",
    "# b) Load model & tokenizer\n",
    "model = AutoModelForQuestionAnswering.from_pretrained(model_name)\n",
    "tokenizer = AutoTokenizer.from_pretrained(model_name)"
   ]
  },
  {
   "cell_type": "code",
   "execution_count": null,
   "metadata": {},
   "outputs": [],
   "source": []
  }
 ],
 "metadata": {
  "accelerator": "GPU",
  "colab": {
   "collapsed_sections": [
    "6RVn2LBiBWbH",
    "xmWs8IE1BWbI",
    "MH2JPPfpBWbJ",
    "IHsg9Zd2BWbJ",
    "rPwjJ-TYBWbJ",
    "pmOL4K6SBWbK",
    "ibyLkvm_BWbK",
    "zfmaJcRhBWbM",
    "wVvIdO8nBWbM",
    "gvVDyZy6BWbN"
   ],
   "name": "OCR_files_post_process_text_summury.ipynb",
   "provenance": []
  },
  "kernelspec": {
   "display_name": "Python 3",
   "language": "python",
   "name": "python3"
  },
  "language_info": {
   "codemirror_mode": {
    "name": "ipython",
    "version": 3
   },
   "file_extension": ".py",
   "mimetype": "text/x-python",
   "name": "python",
   "nbconvert_exporter": "python",
   "pygments_lexer": "ipython3",
   "version": "3.7.3"
  }
 },
 "nbformat": 4,
 "nbformat_minor": 1
}
