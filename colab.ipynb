{
 "cells": [
  {
   "cell_type": "code",
   "execution_count": 1,
   "metadata": {
    "id": "oD-Ubq4oBWay"
   },
   "outputs": [],
   "source": [
    "import os\n",
    "import re\n",
    "import string\n",
    "\n",
    "import bs4 as bs\n",
    "import urllib.request\n",
    "import requests\n",
    "import json\n",
    "import glob\n",
    "import time\n",
    "import pprint\n",
    "\n",
    "import pandas as pd\n",
    "import numpy as np\n",
    "\n",
    "import dateparser\n",
    "\n",
    "from cleantext import clean\n",
    "import nltk\n",
    "from nltk.corpus import stopwords\n",
    "from nltk.tokenize import sent_tokenize\n",
    "from transformers import pipeline, AutoModelForTokenClassification, AutoTokenizer\n",
    "from sklearn.feature_extraction.text import CountVectorizer"
   ]
  },
  {
   "cell_type": "code",
   "execution_count": 2,
   "metadata": {},
   "outputs": [
    {
     "name": "stderr",
     "output_type": "stream",
     "text": [
      "[nltk_data] Downloading package stopwords to /home/alex/nltk_data...\n",
      "[nltk_data]   Package stopwords is already up-to-date!\n"
     ]
    }
   ],
   "source": [
    "from legal_doc_processing.utils import load_data\n",
    "from legal_doc_processing.legal_doc.segmentation.utils import clean_spec_chars\n",
    "from legal_doc_processing.legal_doc.segmentation.structure import get_structure, get_header"
   ]
  },
  {
   "cell_type": "code",
   "execution_count": 3,
   "metadata": {},
   "outputs": [
    {
     "name": "stderr",
     "output_type": "stream",
     "text": [
      "[nltk_data] Downloading package punkt to /home/alex/nltk_data...\n",
      "[nltk_data]   Package punkt is already up-to-date!\n",
      "[nltk_data] Downloading package stopwords to /home/alex/nltk_data...\n",
      "[nltk_data]   Package stopwords is already up-to-date!\n"
     ]
    }
   ],
   "source": [
    "nltk.download('punkt')\n",
    "nltk.download(\"stopwords\")\n",
    "chachedWords = stopwords.words('english')\n",
    "nlpipe = pipeline('question-answering', model='distilbert-base-cased-distilled-squad', tokenizer='distilbert-base-cased')"
   ]
  },
  {
   "cell_type": "code",
   "execution_count": 4,
   "metadata": {},
   "outputs": [
    {
     "data": {
      "text/plain": [
       "'text=unicode(file)'"
      ]
     },
     "execution_count": 4,
     "metadata": {},
     "output_type": "execute_result"
    }
   ],
   "source": [
    "\"\"\"text=unicode(file)\"\"\""
   ]
  },
  {
   "cell_type": "code",
   "execution_count": null,
   "metadata": {},
   "outputs": [],
   "source": [
    "# load ciolab\n",
    "from google.colab import drive\n",
    "drive.mount('/content/drive')"
   ]
  },
  {
   "cell_type": "code",
   "execution_count": 5,
   "metadata": {
    "colab": {
     "base_uri": "https://localhost:8080/"
    },
    "id": "e6j84g2lBk2l",
    "outputId": "392b6055-ae15-4fa1-daf7-99d6924966a2"
   },
   "outputs": [
    {
     "name": "stdout",
     "output_type": "stream",
     "text": [
      "/content/drive/MyDrive/Theolex/theolex_document_processing\n"
     ]
    }
   ],
   "source": [
    "cd drive/MyDrive/Theolex/theolex_document_processing/"
   ]
  },
  {
   "cell_type": "code",
   "execution_count": 5,
   "metadata": {
    "id": "Qmh_JcskBWa5"
   },
   "outputs": [],
   "source": [
    "# text_path\n",
    "text_path = \"./data/files/7100-15/order-allied-markets-llc-et-al.txt\""
   ]
  },
  {
   "cell_type": "code",
   "execution_count": 7,
   "metadata": {
    "id": "kOhMdLEwETrF"
   },
   "outputs": [
    {
     "data": {
      "text/plain": [
       "'UNITED STATES DISTRICT COURT\\nMIDDLE DISTRICT OF FLORIDA\\nJacksonville Division\\n\\nU.S. COMMODITY FUTURES\\nTRADING COMMISSION,\\nPlaintiff,\\nv. Case No. 3:15-cv-5-J-34MCR\\nALLIED MARKETS LLC,\\nJOSHUA GILLILAND, and\\nCHAWALIT WONGKHIAOQO,\\n\\nDefendants.\\n\\n \\n\\n \\n\\n \\n\\nORDER GRANTING PLAINTIFF’S EX PARTE\\nMOTION FOR STA'"
      ]
     },
     "execution_count": 7,
     "metadata": {},
     "output_type": "execute_result"
    }
   ],
   "source": [
    "# load raw text\n",
    "raw_text = load_data(text_path)\n",
    "raw_text[:300]"
   ]
  },
  {
   "cell_type": "code",
   "execution_count": 8,
   "metadata": {},
   "outputs": [
    {
     "data": {
      "text/plain": [
       "'UNITED STATES DISTRICT COURT MIDDLE DISTRICT OF FLORIDA Jacksonville Division U.S. COMMODITY FUTURES TRADING COMMISSION, Plaintiff, v. Case No. 3:15-cv-5-J-34MCR ALLIED MARKETS LLC, JOSHUA GILLILAND, and CHAWALIT WONGKHIAOQO, Defendants. ORDER GRANTING PLAINTIFF’S EX PARTE MOTION FOR STATUTORY RESTR'"
      ]
     },
     "execution_count": 8,
     "metadata": {},
     "output_type": "execute_result"
    }
   ],
   "source": [
    "# clean_spec_chars\n",
    "cleaned_text, cleaned_formatted_text = clean_spec_chars(raw_text)\n",
    "cleaned_text[:300]"
   ]
  },
  {
   "cell_type": "code",
   "execution_count": 9,
   "metadata": {},
   "outputs": [
    {
     "data": {
      "text/plain": [
       "[{'content': ['UNITED STATES DISTRICT COURT MIDDLE DISTRICT OF FLORIDA Jacksonville Division U.S. COMMODITY FUTURES TRADING COMMISSION, Plaintiff, v. Case No.'],\n",
       "  'header': 'UNITED STATES DISTRICT COURT MIDDLE DISTRICT OF FLORIDA Jacksonville Division U.S. COMMODITY FUTURES TRADING COMMISSION, Plaintiff, v. Case No.',\n",
       "  'id': 0},\n",
       " {'content': ['3:15-cv-5-J-34MCR ALLIED MARKETS LLC, JOSHUA GILLILAND, and CHAWALIT WONGKHIAOQO, Defendants.'],\n",
       "  'header': '3:15-cv-5-J-34MCR ALLIED MARKETS LLC, JOSHUA GILLILAND, and CHAWALIT WONGKHIAOQO, Defendants.',\n",
       "  'id': 1},\n",
       " {'content': [\"ORDER GRANTING PLAINTIFF’S EX PARTE MOTION FOR STATUTORY RESTRAINING ORDER AND SCHEDULING PRELIMINARY INJUNCTION HEARING THIS CAUSE is before the Court on Plaintiff's Ex Parte Motion for Statutory Restraining Order and Motion for Preliminary Injunction (Doc.\",\n",
       "   'S-4; Motion), filed on January 5, 2015.',\n",
       "   'Simultaneously with the Motion, the United States Commodity Futures Trading Commission (Plaintiff or CFTC) filed a Complaint for Injunctive Relief, Civil Monetary Penalty, and Other Equitable Relief (Doc.',\n",
       "   'S-3) against Defendants Allied Markets LLC, Joshua Gilliland, and Chawalit Wongkhiao (collectively, Defendants).',\n",
       "   'In the Motion, the CFTC moves, pursuant to Section 6c(a) of the Commodity Exchange Act (CEA), 7 U.S.C.',\n",
       "   '§ 13a-1(a) (2012), for an ex parte statutory restraining order freezing assets and prohibiting the destruction of books, records, or other documents; and for an order requiring Defendants to show cause why a preliminary injunction should not issue.',\n",
       "   'The Court has considered the pleadings, declarations, exhibits, and memorandum filed in support of the CFTC’s Motion, and now, being fully advised, finds as follows: l. The Court possesses jurisdiction over the parties and over the subject matter of this action pursuant to Section 6c of the CEA, 7 U.S.C.',\n",
       "   '§ 13a-1 (2012).',\n",
       "   'om Venue properly lies in this District, pursuant to Section 6c(e) of the CEA, 7 U.S.C.',\n",
       "   '§ 13a-1(e) (2012).',\n",
       "   'as There is good cause to believe that Defendant Allied Markets LLC (“Allied Markets”), by and through its agents, principals and control persons, Defendants Joshua Gilliland and Chawalit Wongkhiao have engaged in, are engaging in, and may continue to engage in violations of Sections 2(c)(2)(C)Gii)(D(cc), 4b(a)(2)(A) and (C), 4k(2), 4m(1), and 40(1) of the CEA, 7 U.S.C.',\n",
       "   '§§ 2(c)(2)(C)Gu)(D(cc), 6b(a)(2)(A), (C), 6k(2), 6m(1), 60(1) (2012); and CFTC Regulations 3.12, 4.20(a)-(c), 4.41(a), 5.2(b)(1) and (3), 5.3(a)(2)@), and 5.3(a)(2)(ii), 17 C.F.R.',\n",
       "   '§§ 3.12, 4.20(a)-(c), 4.41 (a), 5.2(b)(1), (3), 5.3(a)(2)G), (41) (2014).',\n",
       "   '4, The CFTC has presented evidence that, since at least January 2012, Defendants fraudulently solicited more than $1 million from members of the public to participate in a supposed commodity pool purportedly trading leveraged or margined retail off-exchange foreign currency contracts, commonly known as “forex.” The CFTC has also presented evidence that Defendants misappropriated pool participants’ funds to pay Defendants Gilliland’s and Wongkhiao’s personal expenses.',\n",
       "   'Additionally, the CFTC has presented evidence that Defendants failed to register with the CFTC as required, failed to segregate customer funds, and failed to operate the commodity pool as a separate entity, and failed to accurately report or disclose the performance of the relevant investments, as required by the CEA and CFTC Regulations.',\n",
       "   '» There is good cause to believe that immediate and irreparable damage to the Court’s ability to grant effective final relief in the form of monetary redress will occur from the sale, transfer, assignment, or other disposition by Defendants of assets or records unless Defendants are immediately restrained and enjoined by order of this Court; 6.',\n",
       "   'There is good cause for entry of an order freezing assets owned, controlled, managed, or held by or on behalf of, or for the benefit of, Defendants.',\n",
       "   '7: There is good cause for entry of an order prohibiting Defendants, their agents, servants, employees, assigns, attorneys, and persons in active concert or participation with Defendants, including any successor thereof, from destroying records and/or denying agents of the CFTC immediate and complete access to Defendants’ books and records for inspection and copying.',\n",
       "   '8.',\n",
       "   'Absent the entry of this order, Defendants would have the ability to dissipate or transfer assets and destroy books and records.',\n",
       "   '9.',\n",
       "   'An ex parte statutory restraining order is warranted here to preserve the status quo, protect customers from loss and damage, and enable the CFTC to fulfill its statutory duties.',\n",
       "   'Accordingly, it is ORDERED: 10.',\n",
       "   \"‘Plaintiff's Ex Parte Motion for Statutory Restraining Order and Motion for Preliminary Injunction (Doc.\",\n",
       "   'S-4) is GRANTED, in part, and TAKEN UNDER ADVISEMENT, in part.',\n",
       "   'A.'],\n",
       "  'header': 'A.',\n",
       "  'id': 2},\n",
       " {'content': ['To the extent the CFTC requests an ex parte statutory restraining order, the Motion is GRANTED as set forth below.',\n",
       "   'B.'],\n",
       "  'header': 'B.',\n",
       "  'id': 3},\n",
       " {'content': ['To the extent the CFTC requests the entry of a preliminary injunction, the Motion is TAKEN UNDER ADVISEMENT.',\n",
       "   'RELIEF GRANTED I.'],\n",
       "  'header': 'RELIEF GRANTED I.',\n",
       "  'id': 4},\n",
       " {'content': ['ASSET!'], 'header': 'ASSET!', 'id': 5},\n",
       " {'content': ['FREEZE IT IS HEREBY ORDERED that: 11.'],\n",
       "  'header': 'FREEZE IT IS HEREBY ORDERED that: 11.',\n",
       "  'id': 6},\n",
       " {'content': ['Defendants?',\n",
       "   \"and their agents, servants, employees, assigns, attorneys, including any successor thereof, and persons in active concert or participation with them, who receive actual notice of this Order by personal service or otherwise, are immediately restrained and enjoined from directly or indirectly transferring, selling, alienating, liquidating, encumbering, pledging, leasing, loaning, assigning, concealing, dissipating, converting, withdrawing, or otherwise disposing of any assets, wherever located, including Defendants’ assets held outside the United States, except as otherwise ordered by the Court. '\",\n",
       "   'For the purposes of this Order, the term “Assets” means any legal or equitable interest in, right to, or claim to, any real or personal property, whether individually or jointly, directly or indirectly controlled, and wherever located, including, but not limited to: chattels, goods, instruments, equipment, fixtures, general intangibles, effects, leaseholds mail or other deliveries, inventory, checks, notes, accounts (including, but not limited to, bank accounts and accounts at other financial institutions), credits, receivables, lines of credit, contracts (including spot, futures, options, or swaps contracts), insurance policies, and all cash, wherever located, whether within or outside the United States.',\n",
       "   '2 For purposes of this Order, the term “Defendants” refers to Allied Markets LLC, Joshua Gilliland, and Chawalit Wongkhiao, and any person insofar as he or she is acting in the capacity of an officer, agent servant, employee, or attorney of Defendants and any person who receives actual notice of this Order by personal service or otherwise insofar as he or she is acting in concert or participation with Defendants.',\n",
       "   '“Defendants” also refers to any d/b/a, successor, affiliate, subsidiary, or other entity owned, controlled, managed, or held by, on behalf of, or for the benefit of Allied Markets, Joshua Gilliland, or Chawalit Wongkhiao.',\n",
       "   '12; This Order shall apply to any assets derived from or otherwise related to the activities alleged in the CFTC’s complaint, regardless of when the asset is obtained.',\n",
       "   'However, the assets affected by this Order shall not include assets obtained after the effective date of this Order, to the extent such assets are not derived from or otherwise related to the activities alleged in the CFTC’s complaint.',\n",
       "   'Il.',\n",
       "   'NOTICE TO FINANCIAL INSTUTIONS AND OTHERS [3.'],\n",
       "  'header': 'NOTICE TO FINANCIAL INSTUTIONS AND OTHERS [3.',\n",
       "  'id': 7},\n",
       " {'content': ['Any financial or brokerage institution, business entity, or person that holds, controls, or maintains custody of any account or asset titled in the name of, held for the benefit of, or otherwise under the control of any Defendant, or has held, controlled, or maintained custody of any such account or asset of any Defendant at any time since January 1, 2012 are hereby notified that this Order prohibits any Defendant and all other persons from withdrawing, removing, assigning, transferring, pledging, encumbering, disbursing, dissipating, converting, selling or otherwise disposing of Defendants’ assets, except as directed by further order of the Court; provided, however, nothing in this Order shall limit the discretion of any compliance official of any retail foreign exchange dealer or futures commission merchant with which Defendants maintain an account to liquidate, or close out, any and all open positions in Defendants’ account, in a prompt and orderly fashion in order to avoid losses due to the asset freeze required by this Order.',\n",
       "   'Il.',\n",
       "   'MAINTENANCE OF AND ACCESS TO BUSINESS RECORDS IT IS FURTHER ORDERED that: 14.'],\n",
       "  'header': 'MAINTENANCE OF AND ACCESS TO BUSINESS RECORDS IT IS FURTHER ORDERED that: 14.',\n",
       "  'id': 8},\n",
       " {'content': ['Defendants and all persons or entities who receive notice of this Order by personal service or otherwise, are restrained from directly or indirectly destroying, mutilating, erasing, altering, concealing or disposing of, in any manner, directly or indirectly, any documents?',\n",
       "   'that relate to the business practices or business or personal finances of any Defendant.',\n",
       "   'IV.'],\n",
       "  'header': 'IV.',\n",
       "  'id': 9}]"
      ]
     },
     "execution_count": 9,
     "metadata": {},
     "output_type": "execute_result"
    }
   ],
   "source": [
    "# get_structure\n",
    "structured_text = get_structure(cleaned_text)\n",
    "structured_text[:10]"
   ]
  },
  {
   "cell_type": "code",
   "execution_count": 10,
   "metadata": {},
   "outputs": [
    {
     "name": "stdout",
     "output_type": "stream",
     "text": [
      "{'content': ['UNITED STATES DISTRICT COURT MIDDLE DISTRICT OF FLORIDA '\n",
      "             'Jacksonville Division U.S. COMMODITY FUTURES TRADING COMMISSION, '\n",
      "             'Plaintiff, v. Case No.'],\n",
      " 'header': 'UNITED STATES DISTRICT COURT MIDDLE DISTRICT OF FLORIDA '\n",
      "           'Jacksonville Division U.S. COMMODITY FUTURES TRADING COMMISSION, '\n",
      "           'Plaintiff, v. Case No.',\n",
      " 'id': 0}\n",
      "None\n",
      "\n",
      "------\n",
      "\n",
      "{'content': ['3:15-cv-5-J-34MCR ALLIED MARKETS LLC, JOSHUA GILLILAND, and '\n",
      "             'CHAWALIT WONGKHIAOQO, Defendants.'],\n",
      " 'header': '3:15-cv-5-J-34MCR ALLIED MARKETS LLC, JOSHUA GILLILAND, and '\n",
      "           'CHAWALIT WONGKHIAOQO, Defendants.',\n",
      " 'id': 1}\n",
      "None\n",
      "\n",
      "------\n",
      "\n",
      "{'content': ['ORDER GRANTING PLAINTIFF’S EX PARTE MOTION FOR STATUTORY '\n",
      "             'RESTRAINING ORDER AND SCHEDULING PRELIMINARY INJUNCTION HEARING '\n",
      "             \"THIS CAUSE is before the Court on Plaintiff's Ex Parte Motion \"\n",
      "             'for Statutory Restraining Order and Motion for Preliminary '\n",
      "             'Injunction (Doc.',\n",
      "             'S-4; Motion), filed on January 5, 2015.',\n",
      "             'Simultaneously with the Motion, the United States Commodity '\n",
      "             'Futures Trading Commission (Plaintiff or CFTC) filed a Complaint '\n",
      "             'for Injunctive Relief, Civil Monetary Penalty, and Other '\n",
      "             'Equitable Relief (Doc.',\n",
      "             'S-3) against Defendants Allied Markets LLC, Joshua Gilliland, '\n",
      "             'and Chawalit Wongkhiao (collectively, Defendants).',\n",
      "             'In the Motion, the CFTC moves, pursuant to Section 6c(a) of the '\n",
      "             'Commodity Exchange Act (CEA), 7 U.S.C.',\n",
      "             '§ 13a-1(a) (2012), for an ex parte statutory restraining order '\n",
      "             'freezing assets and prohibiting the destruction of books, '\n",
      "             'records, or other documents; and for an order requiring '\n",
      "             'Defendants to show cause why a preliminary injunction should not '\n",
      "             'issue.',\n",
      "             'The Court has considered the pleadings, declarations, exhibits, '\n",
      "             'and memorandum filed in support of the CFTC’s Motion, and now, '\n",
      "             'being fully advised, finds as follows: l. The Court possesses '\n",
      "             'jurisdiction over the parties and over the subject matter of '\n",
      "             'this action pursuant to Section 6c of the CEA, 7 U.S.C.',\n",
      "             '§ 13a-1 (2012).',\n",
      "             'om Venue properly lies in this District, pursuant to Section '\n",
      "             '6c(e) of the CEA, 7 U.S.C.',\n",
      "             '§ 13a-1(e) (2012).',\n",
      "             'as There is good cause to believe that Defendant Allied Markets '\n",
      "             'LLC (“Allied Markets”), by and through its agents, principals '\n",
      "             'and control persons, Defendants Joshua Gilliland and Chawalit '\n",
      "             'Wongkhiao have engaged in, are engaging in, and may continue to '\n",
      "             'engage in violations of Sections 2(c)(2)(C)Gii)(D(cc), '\n",
      "             '4b(a)(2)(A) and (C), 4k(2), 4m(1), and 40(1) of the CEA, 7 '\n",
      "             'U.S.C.',\n",
      "             '§§ 2(c)(2)(C)Gu)(D(cc), 6b(a)(2)(A), (C), 6k(2), 6m(1), 60(1) '\n",
      "             '(2012); and CFTC Regulations 3.12, 4.20(a)-(c), 4.41(a), '\n",
      "             '5.2(b)(1) and (3), 5.3(a)(2)@), and 5.3(a)(2)(ii), 17 C.F.R.',\n",
      "             '§§ 3.12, 4.20(a)-(c), 4.41 (a), 5.2(b)(1), (3), 5.3(a)(2)G), '\n",
      "             '(41) (2014).',\n",
      "             '4, The CFTC has presented evidence that, since at least January '\n",
      "             '2012, Defendants fraudulently solicited more than $1 million '\n",
      "             'from members of the public to participate in a supposed '\n",
      "             'commodity pool purportedly trading leveraged or margined retail '\n",
      "             'off-exchange foreign currency contracts, commonly known as '\n",
      "             '“forex.” The CFTC has also presented evidence that Defendants '\n",
      "             'misappropriated pool participants’ funds to pay Defendants '\n",
      "             'Gilliland’s and Wongkhiao’s personal expenses.',\n",
      "             'Additionally, the CFTC has presented evidence that Defendants '\n",
      "             'failed to register with the CFTC as required, failed to '\n",
      "             'segregate customer funds, and failed to operate the commodity '\n",
      "             'pool as a separate entity, and failed to accurately report or '\n",
      "             'disclose the performance of the relevant investments, as '\n",
      "             'required by the CEA and CFTC Regulations.',\n",
      "             '» There is good cause to believe that immediate and irreparable '\n",
      "             'damage to the Court’s ability to grant effective final relief in '\n",
      "             'the form of monetary redress will occur from the sale, transfer, '\n",
      "             'assignment, or other disposition by Defendants of assets or '\n",
      "             'records unless Defendants are immediately restrained and '\n",
      "             'enjoined by order of this Court; 6.',\n",
      "             'There is good cause for entry of an order freezing assets owned, '\n",
      "             'controlled, managed, or held by or on behalf of, or for the '\n",
      "             'benefit of, Defendants.',\n",
      "             '7: There is good cause for entry of an order prohibiting '\n",
      "             'Defendants, their agents, servants, employees, assigns, '\n",
      "             'attorneys, and persons in active concert or participation with '\n",
      "             'Defendants, including any successor thereof, from destroying '\n",
      "             'records and/or denying agents of the CFTC immediate and complete '\n",
      "             'access to Defendants’ books and records for inspection and '\n",
      "             'copying.',\n",
      "             '8.',\n",
      "             'Absent the entry of this order, Defendants would have the '\n",
      "             'ability to dissipate or transfer assets and destroy books and '\n",
      "             'records.',\n",
      "             '9.',\n",
      "             'An ex parte statutory restraining order is warranted here to '\n",
      "             'preserve the status quo, protect customers from loss and damage, '\n",
      "             'and enable the CFTC to fulfill its statutory duties.',\n",
      "             'Accordingly, it is ORDERED: 10.',\n",
      "             \"‘Plaintiff's Ex Parte Motion for Statutory Restraining Order and \"\n",
      "             'Motion for Preliminary Injunction (Doc.',\n",
      "             'S-4) is GRANTED, in part, and TAKEN UNDER ADVISEMENT, in part.',\n",
      "             'A.'],\n",
      " 'header': 'A.',\n",
      " 'id': 2}\n",
      "None\n",
      "\n",
      "------\n",
      "\n",
      "{'content': ['To the extent the CFTC requests an ex parte statutory '\n",
      "             'restraining order, the Motion is GRANTED as set forth below.',\n",
      "             'B.'],\n",
      " 'header': 'B.',\n",
      " 'id': 3}\n",
      "None\n",
      "\n",
      "------\n",
      "\n",
      "{'content': ['To the extent the CFTC requests the entry of a preliminary '\n",
      "             'injunction, the Motion is TAKEN UNDER ADVISEMENT.',\n",
      "             'RELIEF GRANTED I.'],\n",
      " 'header': 'RELIEF GRANTED I.',\n",
      " 'id': 4}\n",
      "None\n",
      "\n",
      "------\n",
      "\n",
      "{'content': ['ASSET!'], 'header': 'ASSET!', 'id': 5}\n",
      "None\n",
      "\n",
      "------\n",
      "\n",
      "{'content': ['FREEZE IT IS HEREBY ORDERED that: 11.'],\n",
      " 'header': 'FREEZE IT IS HEREBY ORDERED that: 11.',\n",
      " 'id': 6}\n",
      "None\n",
      "\n",
      "------\n",
      "\n",
      "{'content': ['Defendants?',\n",
      "             'and their agents, servants, employees, assigns, attorneys, '\n",
      "             'including any successor thereof, and persons in active concert '\n",
      "             'or participation with them, who receive actual notice of this '\n",
      "             'Order by personal service or otherwise, are immediately '\n",
      "             'restrained and enjoined from directly or indirectly '\n",
      "             'transferring, selling, alienating, liquidating, encumbering, '\n",
      "             'pledging, leasing, loaning, assigning, concealing, dissipating, '\n",
      "             'converting, withdrawing, or otherwise disposing of any assets, '\n",
      "             'wherever located, including Defendants’ assets held outside the '\n",
      "             \"United States, except as otherwise ordered by the Court. '\",\n",
      "             'For the purposes of this Order, the term “Assets” means any '\n",
      "             'legal or equitable interest in, right to, or claim to, any real '\n",
      "             'or personal property, whether individually or jointly, directly '\n",
      "             'or indirectly controlled, and wherever located, including, but '\n",
      "             'not limited to: chattels, goods, instruments, equipment, '\n",
      "             'fixtures, general intangibles, effects, leaseholds mail or other '\n",
      "             'deliveries, inventory, checks, notes, accounts (including, but '\n",
      "             'not limited to, bank accounts and accounts at other financial '\n",
      "             'institutions), credits, receivables, lines of credit, contracts '\n",
      "             '(including spot, futures, options, or swaps contracts), '\n",
      "             'insurance policies, and all cash, wherever located, whether '\n",
      "             'within or outside the United States.',\n",
      "             '2 For purposes of this Order, the term “Defendants” refers to '\n",
      "             'Allied Markets LLC, Joshua Gilliland, and Chawalit Wongkhiao, '\n",
      "             'and any person insofar as he or she is acting in the capacity of '\n",
      "             'an officer, agent servant, employee, or attorney of Defendants '\n",
      "             'and any person who receives actual notice of this Order by '\n",
      "             'personal service or otherwise insofar as he or she is acting in '\n",
      "             'concert or participation with Defendants.',\n",
      "             '“Defendants” also refers to any d/b/a, successor, affiliate, '\n",
      "             'subsidiary, or other entity owned, controlled, managed, or held '\n",
      "             'by, on behalf of, or for the benefit of Allied Markets, Joshua '\n",
      "             'Gilliland, or Chawalit Wongkhiao.',\n",
      "             '12; This Order shall apply to any assets derived from or '\n",
      "             'otherwise related to the activities alleged in the CFTC’s '\n",
      "             'complaint, regardless of when the asset is obtained.',\n",
      "             'However, the assets affected by this Order shall not include '\n",
      "             'assets obtained after the effective date of this Order, to the '\n",
      "             'extent such assets are not derived from or otherwise related to '\n",
      "             'the activities alleged in the CFTC’s complaint.',\n",
      "             'Il.',\n",
      "             'NOTICE TO FINANCIAL INSTUTIONS AND OTHERS [3.'],\n",
      " 'header': 'NOTICE TO FINANCIAL INSTUTIONS AND OTHERS [3.',\n",
      " 'id': 7}\n",
      "None\n",
      "\n",
      "------\n",
      "\n",
      "{'content': ['Any financial or brokerage institution, business entity, or '\n",
      "             'person that holds, controls, or maintains custody of any account '\n",
      "             'or asset titled in the name of, held for the benefit of, or '\n",
      "             'otherwise under the control of any Defendant, or has held, '\n",
      "             'controlled, or maintained custody of any such account or asset '\n",
      "             'of any Defendant at any time since January 1, 2012 are hereby '\n",
      "             'notified that this Order prohibits any Defendant and all other '\n",
      "             'persons from withdrawing, removing, assigning, transferring, '\n",
      "             'pledging, encumbering, disbursing, dissipating, converting, '\n",
      "             'selling or otherwise disposing of Defendants’ assets, except as '\n",
      "             'directed by further order of the Court; provided, however, '\n",
      "             'nothing in this Order shall limit the discretion of any '\n",
      "             'compliance official of any retail foreign exchange dealer or '\n",
      "             'futures commission merchant with which Defendants maintain an '\n",
      "             'account to liquidate, or close out, any and all open positions '\n",
      "             'in Defendants’ account, in a prompt and orderly fashion in order '\n",
      "             'to avoid losses due to the asset freeze required by this Order.',\n",
      "             'Il.',\n",
      "             'MAINTENANCE OF AND ACCESS TO BUSINESS RECORDS IT IS FURTHER '\n",
      "             'ORDERED that: 14.'],\n",
      " 'header': 'MAINTENANCE OF AND ACCESS TO BUSINESS RECORDS IT IS FURTHER '\n",
      "           'ORDERED that: 14.',\n",
      " 'id': 8}\n",
      "None\n",
      "\n",
      "------\n",
      "\n",
      "{'content': ['Defendants and all persons or entities who receive notice of '\n",
      "             'this Order by personal service or otherwise, are restrained from '\n",
      "             'directly or indirectly destroying, mutilating, erasing, '\n",
      "             'altering, concealing or disposing of, in any manner, directly or '\n",
      "             'indirectly, any documents?',\n",
      "             'that relate to the business practices or business or personal '\n",
      "             'finances of any Defendant.',\n",
      "             'IV.'],\n",
      " 'header': 'IV.',\n",
      " 'id': 9}\n",
      "None\n",
      "\n",
      "------\n",
      "\n"
     ]
    }
   ],
   "source": [
    "# explore get_structure 1\n",
    "for k in structured_text[:10]: \n",
    "    print(pprint.pprint(k))\n",
    "    print(\"\\n------\\n\")"
   ]
  },
  {
   "cell_type": "code",
   "execution_count": 11,
   "metadata": {},
   "outputs": [
    {
     "name": "stdout",
     "output_type": "stream",
     "text": [
      "header : UNITED STATES DISTRICT COURT MIDDLE DISTRICT OF FLORIDA Jacksonville Division U.S. COMMODITY FUTURES TRADING COMMISSION, Plaintiff, v. Case No.\n",
      " id:0,\n",
      " content:['UNITED STATES DISTRICT COURT MIDDLE DISTRICT OF FLORIDA Jacksonville Division U.S. COMMODITY FUTURES TRADING COMMISSION, Plaintiff, v. Case No.'] \n",
      "\n",
      "-----\n",
      "\n",
      "header : 3:15-cv-5-J-34MCR ALLIED MARKETS LLC, JOSHUA GILLILAND, and CHAWALIT WONGKHIAOQO, Defendants.\n",
      " id:1,\n",
      " content:['3:15-cv-5-J-34MCR ALLIED MARKETS LLC, JOSHUA GILLILAND, and CHAWALIT WONGKHIAOQO, Defendants.'] \n",
      "\n",
      "-----\n",
      "\n",
      "header : A.\n",
      " id:2,\n",
      " content:[\"ORDER GRANTING PLAINTIFF’S EX PARTE MOTION FOR STATUTORY RESTRAINING ORDER AND SCHEDULING PRELIMINARY INJUNCTION HEARING THIS CAUSE is before the Court on Plaintiff's Ex Parte Motion for Statutory Restraining Order and Motion for Preliminary Injunction (Doc.\", 'S-4; Motion), filed on January 5, 2015.', 'Simultaneously with the Motion, the United States Commodity Futures Trading Commission (Plaintiff or CFTC) filed a Complaint for Injunctive Relief, Civil Monetary Penalty, and Other Equitable Relief (Doc.', 'S-3) against Defendants Allied Markets LLC, Joshua Gilliland, and Chawalit Wongkhiao (collectively, Defendants).', 'In the Motion, the CFTC moves, pursuant to Section 6c(a) of the Commodity Exchange Act (CEA), 7 U.S.C.', '§ 13a-1(a) (2012), for an ex parte statutory restraining order freezing assets and prohibiting the destruction of books, records, or other documents; and for an order requiring Defendants to show cause why a preliminary injunction should not issue.', 'The Court has considered the pleadings, declarations, exhibits, and memorandum filed in support of the CFTC’s Motion, and now, being fully advised, finds as follows: l. The Court possesses jurisdiction over the parties and over the subject matter of this action pursuant to Section 6c of the CEA, 7 U.S.C.', '§ 13a-1 (2012).', 'om Venue properly lies in this District, pursuant to Section 6c(e) of the CEA, 7 U.S.C.', '§ 13a-1(e) (2012).', 'as There is good cause to believe that Defendant Allied Markets LLC (“Allied Markets”), by and through its agents, principals and control persons, Defendants Joshua Gilliland and Chawalit Wongkhiao have engaged in, are engaging in, and may continue to engage in violations of Sections 2(c)(2)(C)Gii)(D(cc), 4b(a)(2)(A) and (C), 4k(2), 4m(1), and 40(1) of the CEA, 7 U.S.C.', '§§ 2(c)(2)(C)Gu)(D(cc), 6b(a)(2)(A), (C), 6k(2), 6m(1), 60(1) (2012); and CFTC Regulations 3.12, 4.20(a)-(c), 4.41(a), 5.2(b)(1) and (3), 5.3(a)(2)@), and 5.3(a)(2)(ii), 17 C.F.R.', '§§ 3.12, 4.20(a)-(c), 4.41 (a), 5.2(b)(1), (3), 5.3(a)(2)G), (41) (2014).', '4, The CFTC has presented evidence that, since at least January 2012, Defendants fraudulently solicited more than $1 million from members of the public to participate in a supposed commodity pool purportedly trading leveraged or margined retail off-exchange foreign currency contracts, commonly known as “forex.” The CFTC has also presented evidence that Defendants misappropriated pool participants’ funds to pay Defendants Gilliland’s and Wongkhiao’s personal expenses.', 'Additionally, the CFTC has presented evidence that Defendants failed to register with the CFTC as required, failed to segregate customer funds, and failed to operate the commodity pool as a separate entity, and failed to accurately report or disclose the performance of the relevant investments, as required by the CEA and CFTC Regulations.', '» There is good cause to believe that immediate and irreparable damage to the Court’s ability to grant effective final relief in the form of monetary redress will occur from the sale, transfer, assignment, or other disposition by Defendants of assets or records unless Defendants are immediately restrained and enjoined by order of this Court; 6.', 'There is good cause for entry of an order freezing assets owned, controlled, managed, or held by or on behalf of, or for the benefit of, Defendants.', '7: There is good cause for entry of an order prohibiting Defendants, their agents, servants, employees, assigns, attorneys, and persons in active concert or participation with Defendants, including any successor thereof, from destroying records and/or denying agents of the CFTC immediate and complete access to Defendants’ books and records for inspection and copying.', '8.', 'Absent the entry of this order, Defendants would have the ability to dissipate or transfer assets and destroy books and records.', '9.', 'An ex parte statutory restraining order is warranted here to preserve the status quo, protect customers from loss and damage, and enable the CFTC to fulfill its statutory duties.', 'Accordingly, it is ORDERED: 10.', \"‘Plaintiff's Ex Parte Motion for Statutory Restraining Order and Motion for Preliminary Injunction (Doc.\", 'S-4) is GRANTED, in part, and TAKEN UNDER ADVISEMENT, in part.', 'A.'] \n",
      "\n",
      "-----\n",
      "\n",
      "header : B.\n",
      " id:3,\n",
      " content:['To the extent the CFTC requests an ex parte statutory restraining order, the Motion is GRANTED as set forth below.', 'B.'] \n",
      "\n",
      "-----\n",
      "\n",
      "header : RELIEF GRANTED I.\n",
      " id:4,\n",
      " content:['To the extent the CFTC requests the entry of a preliminary injunction, the Motion is TAKEN UNDER ADVISEMENT.', 'RELIEF GRANTED I.'] \n",
      "\n",
      "-----\n",
      "\n",
      "header : ASSET!\n",
      " id:5,\n",
      " content:['ASSET!'] \n",
      "\n",
      "-----\n",
      "\n",
      "header : FREEZE IT IS HEREBY ORDERED that: 11.\n",
      " id:6,\n",
      " content:['FREEZE IT IS HEREBY ORDERED that: 11.'] \n",
      "\n",
      "-----\n",
      "\n",
      "header : NOTICE TO FINANCIAL INSTUTIONS AND OTHERS [3.\n",
      " id:7,\n",
      " content:['Defendants?', \"and their agents, servants, employees, assigns, attorneys, including any successor thereof, and persons in active concert or participation with them, who receive actual notice of this Order by personal service or otherwise, are immediately restrained and enjoined from directly or indirectly transferring, selling, alienating, liquidating, encumbering, pledging, leasing, loaning, assigning, concealing, dissipating, converting, withdrawing, or otherwise disposing of any assets, wherever located, including Defendants’ assets held outside the United States, except as otherwise ordered by the Court. '\", 'For the purposes of this Order, the term “Assets” means any legal or equitable interest in, right to, or claim to, any real or personal property, whether individually or jointly, directly or indirectly controlled, and wherever located, including, but not limited to: chattels, goods, instruments, equipment, fixtures, general intangibles, effects, leaseholds mail or other deliveries, inventory, checks, notes, accounts (including, but not limited to, bank accounts and accounts at other financial institutions), credits, receivables, lines of credit, contracts (including spot, futures, options, or swaps contracts), insurance policies, and all cash, wherever located, whether within or outside the United States.', '2 For purposes of this Order, the term “Defendants” refers to Allied Markets LLC, Joshua Gilliland, and Chawalit Wongkhiao, and any person insofar as he or she is acting in the capacity of an officer, agent servant, employee, or attorney of Defendants and any person who receives actual notice of this Order by personal service or otherwise insofar as he or she is acting in concert or participation with Defendants.', '“Defendants” also refers to any d/b/a, successor, affiliate, subsidiary, or other entity owned, controlled, managed, or held by, on behalf of, or for the benefit of Allied Markets, Joshua Gilliland, or Chawalit Wongkhiao.', '12; This Order shall apply to any assets derived from or otherwise related to the activities alleged in the CFTC’s complaint, regardless of when the asset is obtained.', 'However, the assets affected by this Order shall not include assets obtained after the effective date of this Order, to the extent such assets are not derived from or otherwise related to the activities alleged in the CFTC’s complaint.', 'Il.', 'NOTICE TO FINANCIAL INSTUTIONS AND OTHERS [3.'] \n",
      "\n",
      "-----\n",
      "\n",
      "header : MAINTENANCE OF AND ACCESS TO BUSINESS RECORDS IT IS FURTHER ORDERED that: 14.\n",
      " id:8,\n",
      " content:['Any financial or brokerage institution, business entity, or person that holds, controls, or maintains custody of any account or asset titled in the name of, held for the benefit of, or otherwise under the control of any Defendant, or has held, controlled, or maintained custody of any such account or asset of any Defendant at any time since January 1, 2012 are hereby notified that this Order prohibits any Defendant and all other persons from withdrawing, removing, assigning, transferring, pledging, encumbering, disbursing, dissipating, converting, selling or otherwise disposing of Defendants’ assets, except as directed by further order of the Court; provided, however, nothing in this Order shall limit the discretion of any compliance official of any retail foreign exchange dealer or futures commission merchant with which Defendants maintain an account to liquidate, or close out, any and all open positions in Defendants’ account, in a prompt and orderly fashion in order to avoid losses due to the asset freeze required by this Order.', 'Il.', 'MAINTENANCE OF AND ACCESS TO BUSINESS RECORDS IT IS FURTHER ORDERED that: 14.'] \n",
      "\n",
      "-----\n",
      "\n",
      "header : IV.\n",
      " id:9,\n",
      " content:['Defendants and all persons or entities who receive notice of this Order by personal service or otherwise, are restrained from directly or indirectly destroying, mutilating, erasing, altering, concealing or disposing of, in any manner, directly or indirectly, any documents?', 'that relate to the business practices or business or personal finances of any Defendant.', 'IV.'] \n",
      "\n",
      "-----\n",
      "\n",
      "header : V. INSPECTION AND COPYING OF BOOKS AND RECORDS IT IS FURTHER ORDERED that: 16.\n",
      " id:10,\n",
      " content:['BOND NOT REQUIRED OF PLAINTIFF IT IS FURTHER ORDERED that: Ibs Because Plaintiff CFTC is an agency of the United States of America and has made a proper showing under Section 6c(b) of the CEA, 7 U.S.C.', '§ 13a-1(b) (2012), this restraining order is granted without bond.', 'V. INSPECTION AND COPYING OF BOOKS AND RECORDS IT IS FURTHER ORDERED that: 16.'] \n",
      "\n",
      "-----\n",
      "\n",
      "header : VI.\n",
      " id:11,\n",
      " content:['Defendants shall immediately allow representatives of the CFTC to inspect the books, records, and other documents of Defendants and their agents including, but not limited to, paper documents, electronically stored information, tape recordings, and computer discs, wherever they may be situated and whether they are in the possession of Defendants or others, and to copy said documents, data and records, either on or off the premises where they may be situated.', 'VI.'] \n",
      "\n",
      "-----\n",
      "\n",
      "header : SERVICE OF ORDER AND ASSISTANCE OF UNITED STATES MARSHALS SERVICE IT IS FURTHER ORDERED that: 17.\n",
      " id:12,\n",
      " content:['SERVICE OF ORDER AND ASSISTANCE OF UNITED STATES MARSHALS SERVICE IT IS FURTHER ORDERED that: 17.'] \n",
      "\n",
      "-----\n",
      "\n",
      "header : VII.\n",
      " id:13,\n",
      " content:['Copies of this Order may be served by any means, including facsimile transmission, upon any financial institution or other entity or person that may have 3 For purposes of this Order, the term “document” is synonymous in meaning and equal in scope to the broad usage of the term in Federal Rule of Civil Procedure 34(a).', 'possession, custody, or control of any documents or assets of any Defendant, or that may be subject to any provision of this Order.', '18.', 'Representatives of the CFTC, the United States Marshals Service, the Florida Office of Financial Regulation, and the police departments of Jacksonville and Jacksonville Beach, Florida are specially appointed by the Court to effect service of this Order.', '19, The United States Marshals Service, the Florida Office of Financial Regulation, and the police departments of Jacksonville and Jacksonville Beach, Florida, in order to ensure the safety of CFTC representatives, are authorized to accompany and assist the CFTC in the service on Defendants of the summons, complaint, and supporting motions, memoranda, and orders entered with this Order.', '20.', 'The CFTC shall immediately file proof of service with the Court once accomplished.', 'VII.'] \n",
      "\n",
      "-----\n",
      "\n",
      "header : B.\n",
      " id:14,\n",
      " content:[\"PRELIMINARY INJUNCTION HEARING IT IS FURTHER ORDERED that: 21, This matter is set for a HEARING on Plaintiff's Motion for Preliminary Injunction (Doc.\", 'S-4) on Wednesday, January 21, 2015, at 10:00 a.m., before the undersigned at the Bryan Simpson United States Courthouse, 300 North Hogan Street, Jacksonville, Florida, 32202, in Courtroom 10B.', 'Counsel for Plaintiff and Defendants shall appear in person and telephonic appearances will not be permitted.’ * All persons entering the Courthouse must present photo identification to Court Security Officers.', 'Although cell phones, laptop computers, and similar electronic devices generally are not permitted in the building, attorneys may bring those items with them upon presentation to Court Security Officers of a Florida Bar card (presentation of the Duval County Courthouse lawyer identification card will suffice) or Order of special admission pro hac vice.', 'However, all cell phones must be turned off while in the courtroom.', '22.', 'The following expedited briefing schedule shall govern this case: A.', 'Defendants shall have up to and including 5:00 p.m. on Thursday, January 15, 2015, to file a memorandum in opposition to Plaintiffs Motion for Preliminary Injunction (Doc.', 'S-4), including any affidavits or declarations on which they rely.', 'B.'] \n",
      "\n",
      "-----\n",
      "\n",
      "header : FORCE AND EFFECT IT IS FURTHER ORDERED that: 25.\n",
      " id:15,\n",
      " content:['Plaintiff shall have up to and including 11:00 a.m. on Tuesday, January 20, 2015, to file a reply, if mecessary, in support of its Motion for Preliminary Injunction, which shall not exceed TEN (10) PAGES in length.', '23, The hearing will be conducted in accordance with Local Rule 4.06, United States District Court, Middle District of Florida, and Rule 65, Federal Rules of Civil Procedure.', 'The case does not appear to involve the exceptional situation wherein the Court will allow the parties to submit evidence at the hearing.', 'See Local Rule 4.06(b).', 'Thus, absent further order,’ the hearing will be limited to the written submissions and arguments of counsel.', '24.', 'In issuing this Statutory Restraining Order, the Court understands that Defendants have not yet been given an opportunity to be heard and emphasizes that it is not making a final decision on any request for preliminary injunctive relief.', 'However, the Court is persuaded that issuing the Statutory Restraining Order until a full hearing can be held on the CFTC’s request for preliminary injunctive relief is the lawful and proper action.', '> McDonald’s Corp. v. Robertson, 147 F.3d 1301, 1312-13 (11th Cir.', '1998) (“[W]here facts are bitterly contested and credibility determinations must be made to decide whether injunctive relief should issue, an evidentiary hearing must be held... .', '[W]here material facts are not in dispute, or where facts in dispute are not material to the preliminary injunction sought, district courts need not hold an evidentiary hearing.”) In the event either party believes such a hearing is warranted in this action, the party must, after conferring with opposing counsel, file a motion requesting an evidentiary hearing and identifying the factual issues or dispute which necessitate such relief, Vill.', 'FORCE AND EFFECT IT IS FURTHER ORDERED that: 25.'] \n",
      "\n",
      "-----\n",
      "\n",
      "header : aed UNITED STATES DISTRICT JUDGE\n",
      " id:16,\n",
      " content:['Unless earlier dissolved or extended by Order of the Court, the Statutory Restraining Order granted herein shall expire at midnight on January 21, 2015.', 'IT IS SO ORDERED at Jacksonville, Florida on this 7th day of January, 2015, at AO@.m.', 'aed UNITED STATES DISTRICT JUDGE'] \n",
      "\n",
      "-----\n",
      "\n"
     ]
    }
   ],
   "source": [
    "# explore get_structure 2\n",
    "for k in structured_text : \n",
    "    print(f\"header : {k.get('header')}\\n id:{k.get('id')},\\n content:{k.get('content')[:400]} \")\n",
    "    print(\"\\n-----\\n\")"
   ]
  },
  {
   "cell_type": "code",
   "execution_count": 12,
   "metadata": {
    "colab": {
     "base_uri": "https://localhost:8080/"
    },
    "id": "kwP38Yp_ETve",
    "outputId": "a85cc34b-4d32-4354-a55e-0896a1504f0c"
   },
   "outputs": [
    {
     "data": {
      "text/plain": [
       "{'content': [\"ORDER GRANTING PLAINTIFF’S EX PARTE MOTION FOR STATUTORY RESTRAINING ORDER AND SCHEDULING PRELIMINARY INJUNCTION HEARING THIS CAUSE is before the Court on Plaintiff's Ex Parte Motion for Statutory Restraining Order and Motion for Preliminary Injunction (Doc.\",\n",
       "  'S-4; Motion), filed on January 5, 2015.',\n",
       "  'Simultaneously with the Motion, the United States Commodity Futures Trading Commission (Plaintiff or CFTC) filed a Complaint for Injunctive Relief, Civil Monetary Penalty, and Other Equitable Relief (Doc.',\n",
       "  'S-3) against Defendants Allied Markets LLC, Joshua Gilliland, and Chawalit Wongkhiao (collectively, Defendants).',\n",
       "  'In the Motion, the CFTC moves, pursuant to Section 6c(a) of the Commodity Exchange Act (CEA), 7 U.S.C.',\n",
       "  '§ 13a-1(a) (2012), for an ex parte statutory restraining order freezing assets and prohibiting the destruction of books, records, or other documents; and for an order requiring Defendants to show cause why a preliminary injunction should not issue.',\n",
       "  'The Court has considered the pleadings, declarations, exhibits, and memorandum filed in support of the CFTC’s Motion, and now, being fully advised, finds as follows: l. The Court possesses jurisdiction over the parties and over the subject matter of this action pursuant to Section 6c of the CEA, 7 U.S.C.',\n",
       "  '§ 13a-1 (2012).',\n",
       "  'om Venue properly lies in this District, pursuant to Section 6c(e) of the CEA, 7 U.S.C.',\n",
       "  '§ 13a-1(e) (2012).',\n",
       "  'as There is good cause to believe that Defendant Allied Markets LLC (“Allied Markets”), by and through its agents, principals and control persons, Defendants Joshua Gilliland and Chawalit Wongkhiao have engaged in, are engaging in, and may continue to engage in violations of Sections 2(c)(2)(C)Gii)(D(cc), 4b(a)(2)(A) and (C), 4k(2), 4m(1), and 40(1) of the CEA, 7 U.S.C.',\n",
       "  '§§ 2(c)(2)(C)Gu)(D(cc), 6b(a)(2)(A), (C), 6k(2), 6m(1), 60(1) (2012); and CFTC Regulations 3.12, 4.20(a)-(c), 4.41(a), 5.2(b)(1) and (3), 5.3(a)(2)@), and 5.3(a)(2)(ii), 17 C.F.R.',\n",
       "  '§§ 3.12, 4.20(a)-(c), 4.41 (a), 5.2(b)(1), (3), 5.3(a)(2)G), (41) (2014).',\n",
       "  '4, The CFTC has presented evidence that, since at least January 2012, Defendants fraudulently solicited more than $1 million from members of the public to participate in a supposed commodity pool purportedly trading leveraged or margined retail off-exchange foreign currency contracts, commonly known as “forex.” The CFTC has also presented evidence that Defendants misappropriated pool participants’ funds to pay Defendants Gilliland’s and Wongkhiao’s personal expenses.',\n",
       "  'Additionally, the CFTC has presented evidence that Defendants failed to register with the CFTC as required, failed to segregate customer funds, and failed to operate the commodity pool as a separate entity, and failed to accurately report or disclose the performance of the relevant investments, as required by the CEA and CFTC Regulations.',\n",
       "  '» There is good cause to believe that immediate and irreparable damage to the Court’s ability to grant effective final relief in the form of monetary redress will occur from the sale, transfer, assignment, or other disposition by Defendants of assets or records unless Defendants are immediately restrained and enjoined by order of this Court; 6.',\n",
       "  'There is good cause for entry of an order freezing assets owned, controlled, managed, or held by or on behalf of, or for the benefit of, Defendants.',\n",
       "  '7: There is good cause for entry of an order prohibiting Defendants, their agents, servants, employees, assigns, attorneys, and persons in active concert or participation with Defendants, including any successor thereof, from destroying records and/or denying agents of the CFTC immediate and complete access to Defendants’ books and records for inspection and copying.',\n",
       "  '8.',\n",
       "  'Absent the entry of this order, Defendants would have the ability to dissipate or transfer assets and destroy books and records.',\n",
       "  '9.',\n",
       "  'An ex parte statutory restraining order is warranted here to preserve the status quo, protect customers from loss and damage, and enable the CFTC to fulfill its statutory duties.',\n",
       "  'Accordingly, it is ORDERED: 10.',\n",
       "  \"‘Plaintiff's Ex Parte Motion for Statutory Restraining Order and Motion for Preliminary Injunction (Doc.\",\n",
       "  'S-4) is GRANTED, in part, and TAKEN UNDER ADVISEMENT, in part.',\n",
       "  'A.'],\n",
       " 'header': 'A.',\n",
       " 'id': 2}"
      ]
     },
     "execution_count": 12,
     "metadata": {},
     "output_type": "execute_result"
    }
   ],
   "source": [
    "# explore get_structure\n",
    "structured_text[2]"
   ]
  },
  {
   "cell_type": "code",
   "execution_count": 13,
   "metadata": {
    "colab": {
     "base_uri": "https://localhost:8080/",
     "height": 54
    },
    "id": "T0k0pZbkwift",
    "outputId": "f363ff5b-ae0c-4a8f-e59d-cf621e083192"
   },
   "outputs": [
    {
     "data": {
      "text/plain": [
       "'UNITED STATES DISTRICT COURT MIDDLE DISTRICT OF FLORIDA Jacksonville Division U.S. COMMODITY FUTURES TRADING COMMISSION, Plaintiff, v. Case No.3:15-cv-5-J-34MCR ALLIED MARKETS LLC, JOSHUA GILLILAND, and CHAWALIT WONGKHIAOQO, Defendants.'"
      ]
     },
     "execution_count": 13,
     "metadata": {},
     "output_type": "execute_result"
    }
   ],
   "source": [
    "# get_header \n",
    "text_header = get_header(structured_text)\n",
    "text_header"
   ]
  },
  {
   "cell_type": "code",
   "execution_count": 21,
   "metadata": {
    "colab": {
     "base_uri": "https://localhost:8080/"
    },
    "id": "4PiWquReBWbH",
    "outputId": "a7576bc8-0602-45bf-ca9e-a6314450d957"
   },
   "outputs": [],
   "source": [
    "# get_defendant \n",
    "\n",
    "def who_defendant(text:str, nlpipe = nlpipe):\n",
    "    return nlpipe(question=\"Who is the Defendant?\", context=text,topk=3)\n",
    "\n",
    "def who_violated(text:str, nlpipe = nlpipe):   \n",
    "    return nlpipe(question=\"Who violated?\", context=text,topk=3)\n",
    "\n",
    "def who_accused(text:str, nlpipe = nlpipe):\n",
    "    return nlpipe(question=\"Who is acused?\", context=text,topk=3)\n",
    "\n",
    "def get_charged(text:str, nlpipe = nlpipe):\n",
    "    return nlpipe(question=\"Who is charged?\", context=text,topk=3)\n",
    "\n",
    "defendant_funct_list = [(who_defendant, \"who_defendant\"), (who_violated, \"who_violated\"), (who_accused, \"who_accused\"), (get_charged, \"get_charged\")]"
   ]
  },
  {
   "cell_type": "code",
   "execution_count": 22,
   "metadata": {},
   "outputs": [],
   "source": [
    "# get_plaintiff\n",
    "\n",
    "def who_plaintiff(text:str, nlpipe = nlpipe):\n",
    "    return nlpipe(question=\"Who is the plaintiff?\", context=text,topk=3)\n",
    "\n",
    "def who_victim(text:str, nlpipe = nlpipe):   \n",
    "    return nlpipe(question=\"Who is the victim?\", context=text,topk=3)\n",
    "\n",
    "def who_accuse(text:str, nlpipe = nlpipe):\n",
    "    return nlpipe(question=\"Who is the acusator?\", context=text,topk=3)\n",
    "\n",
    "def get_charge(text:str, nlpipe = nlpipe):\n",
    "    return nlpipe(question=\"Who is charging?\", context=text,topk=3)\n",
    "\n",
    "plaintiff_funct_list = [(who_plaintiff, \"who_plaintiff\"), (who_victim, \"who_victim\"), (who_accuse, \"who_accuse\"), (get_charge, \"get_charge\")]"
   ]
  },
  {
   "cell_type": "code",
   "execution_count": 23,
   "metadata": {},
   "outputs": [
    {
     "data": {
      "text/plain": [
       "\"ORDER GRANTING PLAINTIFF’S EX PARTE MOTION FOR STATUTORY RESTRAINING ORDER AND SCHEDULING PRELIMINARY INJUNCTION HEARING THIS CAUSE is before the Court on Plaintiff's Ex Parte Motion for Statutory Restraining Order and Motion for Preliminary Injunction (Doc. S-4; Motion), filed on January 5, 2015. S\""
      ]
     },
     "execution_count": 23,
     "metadata": {},
     "output_type": "execute_result"
    }
   ],
   "source": [
    "# join a context section in text\n",
    "context_text = \" \".join( structured_text[2].get(\"content\"))\n",
    "context_text[:300]"
   ]
  },
  {
   "cell_type": "code",
   "execution_count": 24,
   "metadata": {},
   "outputs": [
    {
     "data": {
      "text/plain": [
       "[{'score': 0.09882518649101257,\n",
       "  'start': 2450,\n",
       "  'end': 2475,\n",
       "  'answer': 'Gilliland’s and Wongkhiao'},\n",
       " {'score': 0.08408939093351364,\n",
       "  'start': 570,\n",
       "  'end': 588,\n",
       "  'answer': 'Chawalit Wongkhiao'},\n",
       " {'score': 0.05622170865535736,\n",
       "  'start': 528,\n",
       "  'end': 546,\n",
       "  'answer': 'Allied Markets LLC'}]"
      ]
     },
     "execution_count": 24,
     "metadata": {},
     "output_type": "execute_result"
    }
   ],
   "source": [
    "# predict from context\n",
    "defendant_from_content = who_defendant(text=context_text, nlpipe=nlpipe)\n",
    "defendant_from_content"
   ]
  },
  {
   "cell_type": "code",
   "execution_count": 25,
   "metadata": {
    "id": "FHN-ooSITEZn"
   },
   "outputs": [
    {
     "ename": "NameError",
     "evalue": "name 'get_defendant' is not defined",
     "output_type": "error",
     "traceback": [
      "\u001b[0;31m---------------------------------------------------------------------------\u001b[0m",
      "\u001b[0;31mNameError\u001b[0m                                 Traceback (most recent call last)",
      "\u001b[0;32m<ipython-input-25-643fac125a9a>\u001b[0m in \u001b[0;36m<module>\u001b[0;34m\u001b[0m\n\u001b[1;32m      1\u001b[0m \u001b[0;31m# predict from header\u001b[0m\u001b[0;34m\u001b[0m\u001b[0;34m\u001b[0m\u001b[0;34m\u001b[0m\u001b[0m\n\u001b[0;32m----> 2\u001b[0;31m \u001b[0mdefendant_from_header\u001b[0m \u001b[0;34m=\u001b[0m \u001b[0mget_defendant\u001b[0m\u001b[0;34m(\u001b[0m\u001b[0mtext\u001b[0m\u001b[0;34m=\u001b[0m\u001b[0mtext_header\u001b[0m\u001b[0;34m,\u001b[0m \u001b[0mnlpipe\u001b[0m\u001b[0;34m=\u001b[0m\u001b[0mnlpipe\u001b[0m\u001b[0;34m)\u001b[0m\u001b[0;34m\u001b[0m\u001b[0;34m\u001b[0m\u001b[0m\n\u001b[0m\u001b[1;32m      3\u001b[0m \u001b[0mdefendant_from_header\u001b[0m\u001b[0;34m\u001b[0m\u001b[0;34m\u001b[0m\u001b[0m\n",
      "\u001b[0;31mNameError\u001b[0m: name 'get_defendant' is not defined"
     ]
    }
   ],
   "source": [
    "# predict from header\n",
    "defendant_from_header = get_defendant(text=text_header, nlpipe=nlpipe)\n",
    "defendant_from_header"
   ]
  },
  {
   "cell_type": "code",
   "execution_count": 26,
   "metadata": {
    "id": "EHgT19oXTaQI",
    "scrolled": false
   },
   "outputs": [
    {
     "ename": "NameError",
     "evalue": "name 'get_defendant' is not defined",
     "output_type": "error",
     "traceback": [
      "\u001b[0;31m---------------------------------------------------------------------------\u001b[0m",
      "\u001b[0;31mNameError\u001b[0m                                 Traceback (most recent call last)",
      "\u001b[0;32m<ipython-input-26-246925ba2d5a>\u001b[0m in \u001b[0;36m<module>\u001b[0;34m\u001b[0m\n\u001b[1;32m      2\u001b[0m     \u001b[0m_content\u001b[0m \u001b[0;34m=\u001b[0m \u001b[0;34m\" \"\u001b[0m\u001b[0;34m.\u001b[0m\u001b[0mjoin\u001b[0m\u001b[0;34m(\u001b[0m \u001b[0msec\u001b[0m\u001b[0;34m[\u001b[0m\u001b[0;34m\"content\"\u001b[0m\u001b[0;34m]\u001b[0m\u001b[0;34m)\u001b[0m\u001b[0;34m\u001b[0m\u001b[0;34m\u001b[0m\u001b[0m\n\u001b[1;32m      3\u001b[0m     \u001b[0;32mif\u001b[0m \u001b[0mlen\u001b[0m\u001b[0;34m(\u001b[0m\u001b[0m_content\u001b[0m\u001b[0;34m)\u001b[0m\u001b[0;34m>\u001b[0m \u001b[0;36m500\u001b[0m \u001b[0;34m:\u001b[0m\u001b[0;34m\u001b[0m\u001b[0;34m\u001b[0m\u001b[0m\n\u001b[0;32m----> 4\u001b[0;31m         \u001b[0mdefendant\u001b[0m \u001b[0;34m=\u001b[0m \u001b[0mget_defendant\u001b[0m\u001b[0;34m(\u001b[0m\u001b[0m_content\u001b[0m\u001b[0;34m,\u001b[0m \u001b[0mnlpipe\u001b[0m\u001b[0;34m)\u001b[0m\u001b[0;34m\u001b[0m\u001b[0;34m\u001b[0m\u001b[0m\n\u001b[0m\u001b[1;32m      5\u001b[0m         print(f\"id: {sec.get('id')}\\nheader : {sec.get('header')}\\n _content : {_content[:300]}\\ndefendant : {defendant}\\\n\u001b[1;32m      6\u001b[0m     \\n-----\\n\" )\n",
      "\u001b[0;31mNameError\u001b[0m: name 'get_defendant' is not defined"
     ]
    }
   ],
   "source": [
    "for sec in structured_text[2:10] : \n",
    "    _content = \" \".join( sec[\"content\"])\n",
    "    if len(_content)> 500 : \n",
    "        defendant = get_defendant(_content, nlpipe)\n",
    "        print(f\"id: {sec.get('id')}\\nheader : {sec.get('header')}\\n _content : {_content[:300]}\\ndefendant : {defendant}\\\n",
    "    \\n-----\\n\" )"
   ]
  },
  {
   "cell_type": "code",
   "execution_count": 30,
   "metadata": {},
   "outputs": [
    {
     "data": {
      "text/plain": [
       "[{'score': 0.09882518649101257,\n",
       "  'start': 2450,\n",
       "  'end': 2475,\n",
       "  'answer': 'Gilliland’s and Wongkhiao'},\n",
       " {'score': 0.08408939093351364,\n",
       "  'start': 570,\n",
       "  'end': 588,\n",
       "  'answer': 'Chawalit Wongkhiao'},\n",
       " {'score': 0.06407205015420914,\n",
       "  'start': 1392,\n",
       "  'end': 1410,\n",
       "  'answer': 'Allied Markets LLC'},\n",
       " {'score': 0.05622170865535736,\n",
       "  'start': 528,\n",
       "  'end': 546,\n",
       "  'answer': 'Allied Markets LLC'},\n",
       " {'score': 0.006931839045137167,\n",
       "  'start': 1392,\n",
       "  'end': 1428,\n",
       "  'answer': 'Allied Markets LLC, Joshua Gilliland'},\n",
       " {'score': 0.0056947264820337296,\n",
       "  'start': 1392,\n",
       "  'end': 1410,\n",
       "  'answer': 'Allied Markets LLC'}]"
      ]
     },
     "execution_count": 30,
     "metadata": {},
     "output_type": "execute_result"
    }
   ],
   "source": [
    "def predict_something(funct, structured_text, sections=[2, 7]) : \n",
    "    \"\"\" \"\"\"\n",
    "    \n",
    "    preds = list()\n",
    "    for k in  sections: \n",
    "        _content = \" \".join( structured_text[k][\"content\"])\n",
    "        preds.extend( funct(_content, nlpipe=nlpipe))\n",
    "    preds = sorted(preds, reverse=True, key=lambda i : i[\"score\"] ) \n",
    "    return preds    \n",
    "    \n",
    "    \n",
    "pred_defendant = predict_something(who_defendant, structured_text )\n",
    "pred_defendant"
   ]
  },
  {
   "cell_type": "code",
   "execution_count": 28,
   "metadata": {},
   "outputs": [
    {
     "ename": "NameError",
     "evalue": "name 'get_defendant' is not defined",
     "output_type": "error",
     "traceback": [
      "\u001b[0;31m---------------------------------------------------------------------------\u001b[0m",
      "\u001b[0;31mNameError\u001b[0m                                 Traceback (most recent call last)",
      "\u001b[0;32m<ipython-input-28-8332c3d2567d>\u001b[0m in \u001b[0;36m<module>\u001b[0;34m\u001b[0m\n\u001b[1;32m     13\u001b[0m \u001b[0;31m# ----\u001b[0m\u001b[0;34m\u001b[0m\u001b[0;34m\u001b[0m\u001b[0;34m\u001b[0m\u001b[0m\n\u001b[1;32m     14\u001b[0m \u001b[0;34m\u001b[0m\u001b[0m\n\u001b[0;32m---> 15\u001b[0;31m \u001b[0mgrouped_predictions\u001b[0m\u001b[0;34m(\u001b[0m\u001b[0mget_defendant\u001b[0m\u001b[0;34m,\u001b[0m \u001b[0mstructured_text\u001b[0m\u001b[0;34m)\u001b[0m\u001b[0;34m\u001b[0m\u001b[0;34m\u001b[0m\u001b[0m\n\u001b[0m",
      "\u001b[0;31mNameError\u001b[0m: name 'get_defendant' is not defined"
     ]
    }
   ],
   "source": [
    "def grouped_predictions(funct, structured_text, sections=[2, 7]) : \n",
    "    \"\"\" \"\"\"\n",
    "    \n",
    "    pred_defendant = predict_something(get_defendant, structured_text , sections=sections)\n",
    "    df = pd.DataFrame(pred_defendant)\n",
    "    \n",
    "    gp_answer = list() \n",
    "    for k, sub_df in df.groupby(\"answer\") : \n",
    "        gp_answer.append({\"ans\": k, \"cum_score\" : sub_df.score.sum()})\n",
    "    \n",
    "    return gp_answer\n",
    "\n",
    "# ---- \n",
    "\n",
    "grouped_predictions(get_defendant, structured_text)"
   ]
  },
  {
   "cell_type": "code",
   "execution_count": 135,
   "metadata": {
    "scrolled": false
   },
   "outputs": [
    {
     "name": "stdout",
     "output_type": "stream",
     "text": [
      "---- who_defendant ----\n",
      "[{'ans': 'Allied Markets LLC', 'cum_score': 0.12598848529160023}, {'ans': 'Allied Markets LLC, Joshua Gilliland', 'cum_score': 0.006931839045137167}, {'ans': 'Chawalit Wongkhiao', 'cum_score': 0.08408939093351364}, {'ans': 'Gilliland’s and Wongkhiao', 'cum_score': 0.09882518649101257}]\n",
      "\n",
      "\n",
      "---- who_violated ----\n",
      "[{'ans': 'Allied Markets LLC', 'cum_score': 0.12598848529160023}, {'ans': 'Allied Markets LLC, Joshua Gilliland', 'cum_score': 0.006931839045137167}, {'ans': 'Chawalit Wongkhiao', 'cum_score': 0.08408939093351364}, {'ans': 'Gilliland’s and Wongkhiao', 'cum_score': 0.09882518649101257}]\n",
      "\n",
      "\n",
      "---- who_accused ----\n",
      "[{'ans': 'Allied Markets LLC', 'cum_score': 0.12598848529160023}, {'ans': 'Allied Markets LLC, Joshua Gilliland', 'cum_score': 0.006931839045137167}, {'ans': 'Chawalit Wongkhiao', 'cum_score': 0.08408939093351364}, {'ans': 'Gilliland’s and Wongkhiao', 'cum_score': 0.09882518649101257}]\n",
      "\n",
      "\n",
      "---- get_charged ----\n",
      "[{'ans': 'Allied Markets LLC', 'cum_score': 0.12598848529160023}, {'ans': 'Allied Markets LLC, Joshua Gilliland', 'cum_score': 0.006931839045137167}, {'ans': 'Chawalit Wongkhiao', 'cum_score': 0.08408939093351364}, {'ans': 'Gilliland’s and Wongkhiao', 'cum_score': 0.09882518649101257}]\n",
      "\n",
      "\n"
     ]
    }
   ],
   "source": [
    "# defenant question list\n",
    "\n",
    "for funct, name in defendant_funct_list: \n",
    "    print(f\"---- {name} ----\" )\n",
    "    print(grouped_predictions(get_defendant, structured_text))\n",
    "    print(\"\\n\")"
   ]
  },
  {
   "cell_type": "code",
   "execution_count": 136,
   "metadata": {},
   "outputs": [
    {
     "name": "stdout",
     "output_type": "stream",
     "text": [
      "---- who_plaintiff ----\n",
      "[{'ans': 'Allied Markets LLC', 'cum_score': 0.12598848529160023}, {'ans': 'Allied Markets LLC, Joshua Gilliland', 'cum_score': 0.006931839045137167}, {'ans': 'Chawalit Wongkhiao', 'cum_score': 0.08408939093351364}, {'ans': 'Gilliland’s and Wongkhiao', 'cum_score': 0.09882518649101257}]\n",
      "\n",
      "\n",
      "---- who_victim ----\n",
      "[{'ans': 'Allied Markets LLC', 'cum_score': 0.12598848529160023}, {'ans': 'Allied Markets LLC, Joshua Gilliland', 'cum_score': 0.006931839045137167}, {'ans': 'Chawalit Wongkhiao', 'cum_score': 0.08408939093351364}, {'ans': 'Gilliland’s and Wongkhiao', 'cum_score': 0.09882518649101257}]\n",
      "\n",
      "\n",
      "---- who_accuse ----\n",
      "[{'ans': 'Allied Markets LLC', 'cum_score': 0.12598848529160023}, {'ans': 'Allied Markets LLC, Joshua Gilliland', 'cum_score': 0.006931839045137167}, {'ans': 'Chawalit Wongkhiao', 'cum_score': 0.08408939093351364}, {'ans': 'Gilliland’s and Wongkhiao', 'cum_score': 0.09882518649101257}]\n",
      "\n",
      "\n",
      "---- get_charge ----\n",
      "[{'ans': 'Allied Markets LLC', 'cum_score': 0.12598848529160023}, {'ans': 'Allied Markets LLC, Joshua Gilliland', 'cum_score': 0.006931839045137167}, {'ans': 'Chawalit Wongkhiao', 'cum_score': 0.08408939093351364}, {'ans': 'Gilliland’s and Wongkhiao', 'cum_score': 0.09882518649101257}]\n",
      "\n",
      "\n"
     ]
    }
   ],
   "source": [
    "# plaintiff_funct_list\n",
    "\n",
    "for funct, name in plaintiff_funct_list: \n",
    "    print(f\"---- {name} ----\" )\n",
    "    print(grouped_predictions(get_defendant, structured_text))\n",
    "    print(\"\\n\")"
   ]
  },
  {
   "cell_type": "code",
   "execution_count": 119,
   "metadata": {},
   "outputs": [
    {
     "data": {
      "text/plain": [
       "[{'ans': 'Allied Markets LLC', 'cum_score': 0.12598848529160023},\n",
       " {'ans': 'Allied Markets LLC, Joshua Gilliland',\n",
       "  'cum_score': 0.006931839045137167},\n",
       " {'ans': 'Chawalit Wongkhiao', 'cum_score': 0.08408939093351364},\n",
       " {'ans': 'Gilliland’s and Wongkhiao', 'cum_score': 0.09882518649101257}]"
      ]
     },
     "execution_count": 119,
     "metadata": {},
     "output_type": "execute_result"
    }
   ],
   "source": []
  }
 ],
 "metadata": {
  "accelerator": "GPU",
  "colab": {
   "collapsed_sections": [
    "6RVn2LBiBWbH",
    "xmWs8IE1BWbI",
    "MH2JPPfpBWbJ",
    "IHsg9Zd2BWbJ",
    "rPwjJ-TYBWbJ",
    "pmOL4K6SBWbK",
    "ibyLkvm_BWbK",
    "zfmaJcRhBWbM",
    "wVvIdO8nBWbM",
    "gvVDyZy6BWbN"
   ],
   "name": "OCR_files_post_process_text_summury.ipynb",
   "provenance": []
  },
  "kernelspec": {
   "display_name": "Python 3",
   "language": "python",
   "name": "python3"
  },
  "language_info": {
   "codemirror_mode": {
    "name": "ipython",
    "version": 3
   },
   "file_extension": ".py",
   "mimetype": "text/x-python",
   "name": "python",
   "nbconvert_exporter": "python",
   "pygments_lexer": "ipython3",
   "version": "3.8.5"
  }
 },
 "nbformat": 4,
 "nbformat_minor": 1
}
