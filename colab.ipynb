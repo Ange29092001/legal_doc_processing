{
  "nbformat": 4,
  "nbformat_minor": 0,
  "metadata": {
    "kernelspec": {
      "display_name": "Python 3",
      "language": "python",
      "name": "python3"
    },
    "language_info": {
      "codemirror_mode": {
        "name": "ipython",
        "version": 3
      },
      "file_extension": ".py",
      "mimetype": "text/x-python",
      "name": "python",
      "nbconvert_exporter": "python",
      "pygments_lexer": "ipython3",
      "version": "3.7.3"
    },
    "colab": {
      "name": "OCR_files_post_process_text_summury.ipynb",
      "provenance": [],
      "collapsed_sections": [
        "6RVn2LBiBWbH",
        "xmWs8IE1BWbI",
        "MH2JPPfpBWbJ",
        "IHsg9Zd2BWbJ",
        "rPwjJ-TYBWbJ",
        "pmOL4K6SBWbK",
        "ibyLkvm_BWbK",
        "zfmaJcRhBWbM",
        "wVvIdO8nBWbM",
        "gvVDyZy6BWbN"
      ]
    },
    "accelerator": "GPU"
  },
  "cells": [
    {
      "cell_type": "code",
      "metadata": {
        "colab": {
          "base_uri": "https://localhost:8080/"
        },
        "id": "4v2z528hWyIK",
        "outputId": "905b32cc-23cf-4c59-e903-16068c44ff8f"
      },
      "source": [
        "!pip3 install cleantext\n",
        "!pip3 install dateparser"
      ],
      "execution_count": 1,
      "outputs": [
        {
          "output_type": "stream",
          "text": [
            "Collecting cleantext\n",
            "  Downloading https://files.pythonhosted.org/packages/49/48/897230ef3a3544e5fab107b2e999729ea46091b6eabdcb95c3e5760dbd65/cleantext-1.1.3-py3-none-any.whl\n",
            "Requirement already satisfied: nltk in /usr/local/lib/python3.7/dist-packages (from cleantext) (3.2.5)\n",
            "Requirement already satisfied: six in /usr/local/lib/python3.7/dist-packages (from nltk->cleantext) (1.15.0)\n",
            "Installing collected packages: cleantext\n",
            "Successfully installed cleantext-1.1.3\n",
            "Collecting dateparser\n",
            "\u001b[?25l  Downloading https://files.pythonhosted.org/packages/78/c4/b5ddc3eeac974d85055d88c1e6b62cc492fc1a93dbe3b66a45a756a7b807/dateparser-1.0.0-py2.py3-none-any.whl (279kB)\n",
            "\u001b[K     |████████████████████████████████| 286kB 13.9MB/s \n",
            "\u001b[?25hRequirement already satisfied: pytz in /usr/local/lib/python3.7/dist-packages (from dateparser) (2018.9)\n",
            "Requirement already satisfied: tzlocal in /usr/local/lib/python3.7/dist-packages (from dateparser) (1.5.1)\n",
            "Requirement already satisfied: python-dateutil in /usr/local/lib/python3.7/dist-packages (from dateparser) (2.8.1)\n",
            "Requirement already satisfied: regex!=2019.02.19 in /usr/local/lib/python3.7/dist-packages (from dateparser) (2019.12.20)\n",
            "Requirement already satisfied: six>=1.5 in /usr/local/lib/python3.7/dist-packages (from python-dateutil->dateparser) (1.15.0)\n",
            "Installing collected packages: dateparser\n",
            "Successfully installed dateparser-1.0.0\n"
          ],
          "name": "stdout"
        }
      ]
    },
    {
      "cell_type": "code",
      "metadata": {
        "id": "oD-Ubq4oBWay"
      },
      "source": [
        "import re\n",
        "import string\n",
        "from cleantext import clean\n",
        "import requests\n",
        "import json\n",
        "import glob\n",
        "import os\n",
        "import pandas as pd\n",
        "import numpy as np\n",
        "import dateparser\n",
        "import string \n",
        "#Data cleaning \n",
        "import bs4 as bs\n",
        "import urllib.request\n",
        "import re\n",
        "import nltk"
      ],
      "execution_count": 2,
      "outputs": []
    },
    {
      "cell_type": "code",
      "metadata": {
        "id": "qSOvTsspWjT1",
        "colab": {
          "base_uri": "https://localhost:8080/"
        },
        "outputId": "9700b350-f24a-4a96-cf77-f507390c7a19"
      },
      "source": [
        "from nltk.corpus import stopwords\n",
        "import nltk\n",
        "import nltk\n",
        "nltk.download('punkt')\n",
        "nltk.download(\"stopwords\")\n",
        "chachedWords = stopwords.words('english')"
      ],
      "execution_count": 3,
      "outputs": [
        {
          "output_type": "stream",
          "text": [
            "[nltk_data] Downloading package punkt to /root/nltk_data...\n",
            "[nltk_data]   Unzipping tokenizers/punkt.zip.\n",
            "[nltk_data] Downloading package stopwords to /root/nltk_data...\n",
            "[nltk_data]   Unzipping corpora/stopwords.zip.\n"
          ],
          "name": "stdout"
        }
      ]
    },
    {
      "cell_type": "code",
      "metadata": {
        "colab": {
          "base_uri": "https://localhost:8080/"
        },
        "id": "f9FVFE8FBgnf",
        "outputId": "0abfaef5-cb10-497b-beb7-0b062b7572af"
      },
      "source": [
        "from google.colab import drive\n",
        "drive.mount('/content/drive')"
      ],
      "execution_count": 4,
      "outputs": [
        {
          "output_type": "stream",
          "text": [
            "Mounted at /content/drive\n"
          ],
          "name": "stdout"
        }
      ]
    },
    {
      "cell_type": "code",
      "metadata": {
        "colab": {
          "base_uri": "https://localhost:8080/"
        },
        "id": "e6j84g2lBk2l",
        "outputId": "392b6055-ae15-4fa1-daf7-99d6924966a2"
      },
      "source": [
        "cd drive/MyDrive/Theolex/theolex_document_processing/"
      ],
      "execution_count": 5,
      "outputs": [
        {
          "output_type": "stream",
          "text": [
            "/content/drive/MyDrive/Theolex/theolex_document_processing\n"
          ],
          "name": "stdout"
        }
      ]
    },
    {
      "cell_type": "code",
      "metadata": {
        "id": "Qmh_JcskBWa5"
      },
      "source": [
        "def clean(file):\n",
        "    article_text = re.sub(r'\\[[0-9]*\\]', ' ', file)\n",
        "    article_text = re.sub(r'\\s+', ' ', article_text)\n",
        "    formatted_article_text = re.sub('[^a-zA-Z]', ' ', article_text )\n",
        "    formatted_article_text = re.sub(r'\\s+', ' ', formatted_article_text)\n",
        "    return  article_text,formatted_article_text\n"
      ],
      "execution_count": 6,
      "outputs": []
    },
    {
      "cell_type": "code",
      "metadata": {
        "id": "xm74KEHvBWa5"
      },
      "source": [
        "text_path = \"7100-15/cftc_text_7100-15_press-release.txt\"\n",
        "def load_data(text_path):\n",
        "    with open(text_path) as f:\n",
        "        file = f.read()\n",
        "    return file\n",
        "file=load_data(text_path)\n",
        "doc,format=clean(file)"
      ],
      "execution_count": 7,
      "outputs": []
    },
    {
      "cell_type": "code",
      "metadata": {
        "id": "c9buT-FyBWa5"
      },
      "source": [
        "def unicode(text):\n",
        "    text_unicode = doc \n",
        "    # encoding the text to ASCII format\n",
        "    text_encode = text_unicode.encode(encoding=\"ascii\", errors=\"ignore\")\n",
        "    # decoding the text\n",
        "    text_decode = text_encode.decode()\n",
        "    # cleaning the text to remove extra whitespace \n",
        "    clean_text = \" \".join([word for word in text_decode.split()])\n",
        "    return clean_text"
      ],
      "execution_count": 8,
      "outputs": []
    },
    {
      "cell_type": "code",
      "metadata": {
        "id": "BIl5OHC4BWa6",
        "colab": {
          "base_uri": "https://localhost:8080/"
        },
        "outputId": "af26e585-c0de-46da-d9ce-66a6b65a3c14"
      },
      "source": [
        "import nltk\n",
        "text=unicode(file)\n",
        "nltk.download('punkt')"
      ],
      "execution_count": 9,
      "outputs": [
        {
          "output_type": "stream",
          "text": [
            "[nltk_data] Downloading package punkt to /root/nltk_data...\n",
            "[nltk_data]   Package punkt is already up-to-date!\n"
          ],
          "name": "stdout"
        },
        {
          "output_type": "execute_result",
          "data": {
            "text/plain": [
              "True"
            ]
          },
          "metadata": {
            "tags": []
          },
          "execution_count": 9
        }
      ]
    },
    {
      "cell_type": "code",
      "metadata": {
        "id": "Ey5cHvL_BWa6"
      },
      "source": [
        "sentence_list = nltk.sent_tokenize(text)\n"
      ],
      "execution_count": 10,
      "outputs": []
    },
    {
      "cell_type": "code",
      "metadata": {
        "id": "_8fz68GKBWa6"
      },
      "source": [
        "#cleaned_text = ' '.join(sentence_list)\n"
      ],
      "execution_count": 11,
      "outputs": []
    },
    {
      "cell_type": "code",
      "metadata": {
        "id": "iUIeqRnhBWa7",
        "colab": {
          "base_uri": "https://localhost:8080/"
        },
        "outputId": "e18b3e1b-9dcf-4976-a4ed-40f4f0220263"
      },
      "source": [
        "def is_section_num(text):\n",
        "    \n",
        "    return re.search(r'^[MDCLXVIAB]+\\.$',text) is not None\n",
        "\n",
        "    \n",
        "def ends_with_ponc(text):\n",
        "    return text[-1] in punctuation if text else False \n",
        "\n",
        "def start_with_upper(text):\n",
        "    return re.match('^[A-Z]', text) is not None\n",
        "\n",
        "def is_title(text):\n",
        "    uppers = [word.isupper() for word in text.split(\" \")]\n",
        "    return sum(uppers) / len(uppers) > 0.6\n",
        "is_title(\"UNITED STATES OF AMERICA Before the COMMODITY FUTURES TRADING COMMISSION\")\n",
        "\n"
      ],
      "execution_count": 12,
      "outputs": [
        {
          "output_type": "execute_result",
          "data": {
            "text/plain": [
              "True"
            ]
          },
          "metadata": {
            "tags": []
          },
          "execution_count": 12
        }
      ]
    },
    {
      "cell_type": "code",
      "metadata": {
        "id": "5u7WeoEXBWa9"
      },
      "source": [
        "import nltk\n",
        "from nltk.tokenize import sent_tokenize\n",
        "t = sent_tokenize(\"Three days later, the SEC  filed a federal injunctive action against Sentinel, SEC v.  Sentinel,  et al., No.  07 CV 4684 (N.D. Ill. filed Aug. 20, 2007), and on April 28, 2008, the CFTC filed a Complaint against Sentinel, Bloom and Sentinel's Senior Vice President and head trader, Charles K. Mosley, seeking injunctive and other equitable relief, as well as the imposition of civil penalties, for violating various provisions of the Act and Commission Regulations.\")"
      ],
      "execution_count": 13,
      "outputs": []
    },
    {
      "cell_type": "code",
      "metadata": {
        "id": "2MpzP8uBBWa-"
      },
      "source": [
        "def same_sentence(sent1, sent2):\n",
        "    #print(sent1,\"\\n\",sent2)\n",
        "    \n",
        "    # sent empty\n",
        "    if (not sent1) or (not sent1['text']) :\n",
        "        return True\n",
        "    # section number\n",
        "    if sent1['is_section_num']:\n",
        "        return True\n",
        "    \n",
        "    # very short sentence\n",
        "    if len(sent1['text']) < 50:\n",
        "        return False\n",
        "    \n",
        "    # ponctuation\n",
        "    if sent1['ends_with_ponc']:\n",
        "        return False\n",
        "    \n",
        "    if sent1['is_title']:\n",
        "        return False\n",
        "\n",
        "    if sent2['is_title']:\n",
        "        return False\n",
        "    \n",
        "    return True"
      ],
      "execution_count": 14,
      "outputs": []
    },
    {
      "cell_type": "code",
      "metadata": {
        "id": "cSL34EF2BWa-"
      },
      "source": [
        "punctuation=['.','?','!']"
      ],
      "execution_count": 15,
      "outputs": []
    },
    {
      "cell_type": "code",
      "metadata": {
        "id": "QYw0u9IYBWa-"
      },
      "source": [
        "def clean_doc(file_text):\n",
        "    pages=[]\n",
        "    for page in file_text.split(\"\\x0c\"):\n",
        "        # clen text\n",
        "        page_meta = [{'text': clean(para)} \n",
        "                            for para in page.split('\\n')]\n",
        "        clean_page = []\n",
        "        previous_line = {}\n",
        "        text= \"\"\n",
        "        # add meta data\n",
        "        for line in page_meta:\n",
        "            line['is_section_num'] = is_section_num(str(line['text']))\n",
        "            line['is_title'] = is_title(str(line['text']))\n",
        "            line['ends_with_ponc'] = ends_with_ponc(str(line['text']))\n",
        "            line['is_alpha'] = sum(c.isalpha() for c in str(line['text']))\n",
        "            line['start_with_upper']  = start_with_upper(str(line['text']))\n",
        "                                \n",
        "            # not relevant line\n",
        "            if not line['is_alpha']:\n",
        "                continue\n",
        "            \n",
        "            if not same_sentence(previous_line, line):\n",
        "                if text:\n",
        "                    clean_page.append(text)\n",
        "                    text = \"\"\n",
        "                \n",
        "            previous_line = line\n",
        "            text = \" \".join([text, str(line['text'])])\n",
        "        if len(clean_page):\n",
        "            pages.append(clean_page)\n",
        "    return pages"
      ],
      "execution_count": 16,
      "outputs": []
    },
    {
      "cell_type": "code",
      "metadata": {
        "id": "37AAN8EvBWbA"
      },
      "source": [
        "\n",
        "def word_frequency(text):\n",
        "    word_frequencies = {}\n",
        "    for word in nltk.word_tokenize(text):\n",
        "        if word not in stopwords:\n",
        "            if word not in word_frequencies.keys():\n",
        "                word_frequencies[word] = 1\n",
        "            else:\n",
        "                word_frequencies[word] += 1\n",
        "    return word_frequencies"
      ],
      "execution_count": 19,
      "outputs": []
    },
    {
      "cell_type": "code",
      "metadata": {
        "id": "a9Mdkvg7BWbA"
      },
      "source": [
        "def sentence_score(sentence_list,word_frequencies):\n",
        "    sentence_scores = {}\n",
        "    for sent in sentence_list:\n",
        "        for word in nltk.word_tokenize(sent.lower()):\n",
        "            if word in word_frequencies.keys():\n",
        "                if len(sent.split(' ')) < 30:\n",
        "                    if sent not in sentence_scores.keys():\n",
        "                        sentence_scores[sent] = word_frequencies[word]\n",
        "                    else:\n",
        "                        sentence_scores[sent] += word_frequencies[word]\n",
        "    return sentence_scores\n"
      ],
      "execution_count": 20,
      "outputs": []
    },
    {
      "cell_type": "code",
      "metadata": {
        "id": "MJBRZa1aBWbB"
      },
      "source": [
        "import heapq\n",
        "def summary(sentence_scores):\n",
        "    summary_sentences = heapq.nlargest(10, sentence_scores, key=sentence_scores.get)\n",
        "\n",
        "    \n",
        "    return summary"
      ],
      "execution_count": 21,
      "outputs": []
    },
    {
      "cell_type": "code",
      "metadata": {
        "id": "5A98AuW6BWbB"
      },
      "source": [
        "text_path = \"./7100-15/cftc_text_7100-15_order-allied-markets-llc-et-al.txt\"\n",
        "with open(text_path) as f:\n",
        "    file = f.read()\n",
        "article_text, formatted_article_text=clean(file)\n",
        "\n",
        "sentence_list = nltk.sent_tokenize(article_text)\n",
        "# word_frequencies=word_frequency(formatted_article_text)\n",
        "# stopwords = nltk.corpus.stopwords.words('english')\n",
        "\n",
        "# maximum_frequncy = max(word_frequencies.values())\n",
        "\n",
        "# for word in word_frequencies.keys():\n",
        "#     word_frequencies[word] = (word_frequencies[word]/maximum_frequncy)\n",
        "    \n",
        "# sentence_scores = sentence_score(sentence_list, word_frequencies)\n",
        "    \n",
        "# summary(sentence_scores)\n",
        "\n"
      ],
      "execution_count": 22,
      "outputs": []
    },
    {
      "cell_type": "markdown",
      "metadata": {
        "id": "Pv0BnO2PBWbB"
      },
      "source": [
        "##  Training textsplit model using word vector"
      ]
    },
    {
      "cell_type": "code",
      "metadata": {
        "id": "ahpQsJKOBWbB"
      },
      "source": [
        "import os\n",
        "import pandas as pd\n",
        "import numpy as np\n",
        "from sklearn.feature_extraction.text import CountVectorizer\n",
        "%matplotlib inline\n"
      ],
      "execution_count": 23,
      "outputs": []
    },
    {
      "cell_type": "code",
      "metadata": {
        "colab": {
          "base_uri": "https://localhost:8080/"
        },
        "id": "fkLKNct7bHvI",
        "outputId": "b88cf658-2b7c-4732-dadb-e8e21906905d"
      },
      "source": [
        "!ls 7100-15"
      ],
      "execution_count": 24,
      "outputs": [
        {
          "output_type": "stream",
          "text": [
            "cftc_text_7100-15_complaint-allied-markets-llc-et-al.txt\n",
            "cftc_text_7100-15_order-allied-markets-llc-et-al.txt\n",
            "cftc_text_7100-15_press-release.txt\n"
          ],
          "name": "stdout"
        }
      ]
    },
    {
      "cell_type": "code",
      "metadata": {
        "scrolled": true,
        "id": "JtW_kiOLBWbC"
      },
      "source": [
        "corpus_path = './text8'  # be sure your corpus is cleaned from punctuation and lowercased\n",
        "if not os.path.exists(corpus_path):\n",
        "    !wget http://mattmahoney.net/dc/text8.zip\n",
        "    !unzip {corpus_path}"
      ],
      "execution_count": 25,
      "outputs": []
    },
    {
      "cell_type": "code",
      "metadata": {
        "id": "CAp2o2zJBWbC"
      },
      "source": [
        "links = './7100-15/cftc_text_7100-15_complaint-allied-markets-llc-et-al.txt'"
      ],
      "execution_count": 26,
      "outputs": []
    },
    {
      "cell_type": "markdown",
      "metadata": {
        "id": "FypHeBnvBWbD"
      },
      "source": [
        "## No case/docket"
      ]
    },
    {
      "cell_type": "code",
      "metadata": {
        "scrolled": true,
        "id": "gt-aMd_yBWbE",
        "colab": {
          "base_uri": "https://localhost:8080/"
        },
        "outputId": "ab7de795-d5a0-4bea-9051-d30619d224c1"
      },
      "source": [
        "clean_page = clean_doc(file)\n",
        "clean_page[1][2:4]"
      ],
      "execution_count": 27,
      "outputs": [
        {
          "output_type": "execute_result",
          "data": {
            "text/plain": [
              "[\" ('The Court possesses jurisdiction over the parties and over the subject matter ', 'The Court possesses jurisdiction over the parties and over the subject matter ')\",\n",
              " \" ('of this action pursuant to Section 6c of the CEA, 7 U.S.C. § 13a- l (2012). ', 'of this action pursuant to Section c of the CEA U S C a l ')\"]"
            ]
          },
          "metadata": {
            "tags": []
          },
          "execution_count": 27
        }
      ]
    },
    {
      "cell_type": "code",
      "metadata": {
        "id": "jKfiKkoIBWbE"
      },
      "source": [
        "def get_case(first_page):\n",
        "    for line in first_page:\n",
        "        if len(line) < 40:\n",
        "            p = re.compile(\"NO[\\.:]\\s*.+\")\n",
        "            result = p.search(line.upper())\n",
        "            if result:\n",
        "                return result.group(0).strip()\n",
        "            \n",
        "    for line in first_page:   \n",
        "        if len(line) < 40:    \n",
        "            p = re.compile(\"\\d*-?CV-\\d+.*\")\n",
        "            result = p.search(line.upper())\n",
        "            if result:\n",
        "                return result.group(0).strip()"
      ],
      "execution_count": 28,
      "outputs": []
    },
    {
      "cell_type": "code",
      "metadata": {
        "id": "MFByJskNBWbF",
        "colab": {
          "base_uri": "https://localhost:8080/",
          "height": 35
        },
        "outputId": "fc01a0ab-2b1c-4ede-99d6-1fc6368f8c20"
      },
      "source": [
        "get_case([' CFTC Docket No. SD 20-01'])"
      ],
      "execution_count": 29,
      "outputs": [
        {
          "output_type": "execute_result",
          "data": {
            "application/vnd.google.colaboratory.intrinsic+json": {
              "type": "string"
            },
            "text/plain": [
              "'NO. SD 20-01'"
            ]
          },
          "metadata": {
            "tags": []
          },
          "execution_count": 29
        }
      ]
    },
    {
      "cell_type": "markdown",
      "metadata": {
        "id": "PsBty6QuBWbF"
      },
      "source": [
        "## Defendant"
      ]
    },
    {
      "cell_type": "code",
      "metadata": {
        "scrolled": true,
        "id": "gJ0zVNRdBWbF",
        "colab": {
          "base_uri": "https://localhost:8080/"
        },
        "outputId": "9c00e447-6d14-4127-8551-003f53e8d4ca"
      },
      "source": [
        "!pip3 install spacy"
      ],
      "execution_count": 30,
      "outputs": [
        {
          "output_type": "stream",
          "text": [
            "Requirement already satisfied: spacy in /usr/local/lib/python3.7/dist-packages (2.2.4)\n",
            "Requirement already satisfied: tqdm<5.0.0,>=4.38.0 in /usr/local/lib/python3.7/dist-packages (from spacy) (4.41.1)\n",
            "Requirement already satisfied: thinc==7.4.0 in /usr/local/lib/python3.7/dist-packages (from spacy) (7.4.0)\n",
            "Requirement already satisfied: setuptools in /usr/local/lib/python3.7/dist-packages (from spacy) (57.0.0)\n",
            "Requirement already satisfied: srsly<1.1.0,>=1.0.2 in /usr/local/lib/python3.7/dist-packages (from spacy) (1.0.5)\n",
            "Requirement already satisfied: murmurhash<1.1.0,>=0.28.0 in /usr/local/lib/python3.7/dist-packages (from spacy) (1.0.5)\n",
            "Requirement already satisfied: blis<0.5.0,>=0.4.0 in /usr/local/lib/python3.7/dist-packages (from spacy) (0.4.1)\n",
            "Requirement already satisfied: cymem<2.1.0,>=2.0.2 in /usr/local/lib/python3.7/dist-packages (from spacy) (2.0.5)\n",
            "Requirement already satisfied: numpy>=1.15.0 in /usr/local/lib/python3.7/dist-packages (from spacy) (1.19.5)\n",
            "Requirement already satisfied: preshed<3.1.0,>=3.0.2 in /usr/local/lib/python3.7/dist-packages (from spacy) (3.0.5)\n",
            "Requirement already satisfied: wasabi<1.1.0,>=0.4.0 in /usr/local/lib/python3.7/dist-packages (from spacy) (0.8.2)\n",
            "Requirement already satisfied: plac<1.2.0,>=0.9.6 in /usr/local/lib/python3.7/dist-packages (from spacy) (1.1.3)\n",
            "Requirement already satisfied: catalogue<1.1.0,>=0.0.7 in /usr/local/lib/python3.7/dist-packages (from spacy) (1.0.0)\n",
            "Requirement already satisfied: requests<3.0.0,>=2.13.0 in /usr/local/lib/python3.7/dist-packages (from spacy) (2.23.0)\n",
            "Requirement already satisfied: importlib-metadata>=0.20; python_version < \"3.8\" in /usr/local/lib/python3.7/dist-packages (from catalogue<1.1.0,>=0.0.7->spacy) (4.0.1)\n",
            "Requirement already satisfied: idna<3,>=2.5 in /usr/local/lib/python3.7/dist-packages (from requests<3.0.0,>=2.13.0->spacy) (2.10)\n",
            "Requirement already satisfied: urllib3!=1.25.0,!=1.25.1,<1.26,>=1.21.1 in /usr/local/lib/python3.7/dist-packages (from requests<3.0.0,>=2.13.0->spacy) (1.24.3)\n",
            "Requirement already satisfied: certifi>=2017.4.17 in /usr/local/lib/python3.7/dist-packages (from requests<3.0.0,>=2.13.0->spacy) (2020.12.5)\n",
            "Requirement already satisfied: chardet<4,>=3.0.2 in /usr/local/lib/python3.7/dist-packages (from requests<3.0.0,>=2.13.0->spacy) (3.0.4)\n",
            "Requirement already satisfied: zipp>=0.5 in /usr/local/lib/python3.7/dist-packages (from importlib-metadata>=0.20; python_version < \"3.8\"->catalogue<1.1.0,>=0.0.7->spacy) (3.4.1)\n",
            "Requirement already satisfied: typing-extensions>=3.6.4; python_version < \"3.8\" in /usr/local/lib/python3.7/dist-packages (from importlib-metadata>=0.20; python_version < \"3.8\"->catalogue<1.1.0,>=0.0.7->spacy) (3.7.4.3)\n"
          ],
          "name": "stdout"
        }
      ]
    },
    {
      "cell_type": "code",
      "metadata": {
        "id": "z2Qyu-AuBWbF",
        "colab": {
          "base_uri": "https://localhost:8080/"
        },
        "outputId": "fc17087f-6e0d-4b5e-802a-d1d0043741dd"
      },
      "source": [
        "!python3 -m spacy download en_core_web_sm\n"
      ],
      "execution_count": 31,
      "outputs": [
        {
          "output_type": "stream",
          "text": [
            "Requirement already satisfied: en_core_web_sm==2.2.5 from https://github.com/explosion/spacy-models/releases/download/en_core_web_sm-2.2.5/en_core_web_sm-2.2.5.tar.gz#egg=en_core_web_sm==2.2.5 in /usr/local/lib/python3.7/dist-packages (2.2.5)\n",
            "Requirement already satisfied: spacy>=2.2.2 in /usr/local/lib/python3.7/dist-packages (from en_core_web_sm==2.2.5) (2.2.4)\n",
            "Requirement already satisfied: murmurhash<1.1.0,>=0.28.0 in /usr/local/lib/python3.7/dist-packages (from spacy>=2.2.2->en_core_web_sm==2.2.5) (1.0.5)\n",
            "Requirement already satisfied: preshed<3.1.0,>=3.0.2 in /usr/local/lib/python3.7/dist-packages (from spacy>=2.2.2->en_core_web_sm==2.2.5) (3.0.5)\n",
            "Requirement already satisfied: setuptools in /usr/local/lib/python3.7/dist-packages (from spacy>=2.2.2->en_core_web_sm==2.2.5) (57.0.0)\n",
            "Requirement already satisfied: catalogue<1.1.0,>=0.0.7 in /usr/local/lib/python3.7/dist-packages (from spacy>=2.2.2->en_core_web_sm==2.2.5) (1.0.0)\n",
            "Requirement already satisfied: tqdm<5.0.0,>=4.38.0 in /usr/local/lib/python3.7/dist-packages (from spacy>=2.2.2->en_core_web_sm==2.2.5) (4.41.1)\n",
            "Requirement already satisfied: blis<0.5.0,>=0.4.0 in /usr/local/lib/python3.7/dist-packages (from spacy>=2.2.2->en_core_web_sm==2.2.5) (0.4.1)\n",
            "Requirement already satisfied: plac<1.2.0,>=0.9.6 in /usr/local/lib/python3.7/dist-packages (from spacy>=2.2.2->en_core_web_sm==2.2.5) (1.1.3)\n",
            "Requirement already satisfied: requests<3.0.0,>=2.13.0 in /usr/local/lib/python3.7/dist-packages (from spacy>=2.2.2->en_core_web_sm==2.2.5) (2.23.0)\n",
            "Requirement already satisfied: srsly<1.1.0,>=1.0.2 in /usr/local/lib/python3.7/dist-packages (from spacy>=2.2.2->en_core_web_sm==2.2.5) (1.0.5)\n",
            "Requirement already satisfied: numpy>=1.15.0 in /usr/local/lib/python3.7/dist-packages (from spacy>=2.2.2->en_core_web_sm==2.2.5) (1.19.5)\n",
            "Requirement already satisfied: cymem<2.1.0,>=2.0.2 in /usr/local/lib/python3.7/dist-packages (from spacy>=2.2.2->en_core_web_sm==2.2.5) (2.0.5)\n",
            "Requirement already satisfied: thinc==7.4.0 in /usr/local/lib/python3.7/dist-packages (from spacy>=2.2.2->en_core_web_sm==2.2.5) (7.4.0)\n",
            "Requirement already satisfied: wasabi<1.1.0,>=0.4.0 in /usr/local/lib/python3.7/dist-packages (from spacy>=2.2.2->en_core_web_sm==2.2.5) (0.8.2)\n",
            "Requirement already satisfied: importlib-metadata>=0.20; python_version < \"3.8\" in /usr/local/lib/python3.7/dist-packages (from catalogue<1.1.0,>=0.0.7->spacy>=2.2.2->en_core_web_sm==2.2.5) (4.0.1)\n",
            "Requirement already satisfied: urllib3!=1.25.0,!=1.25.1,<1.26,>=1.21.1 in /usr/local/lib/python3.7/dist-packages (from requests<3.0.0,>=2.13.0->spacy>=2.2.2->en_core_web_sm==2.2.5) (1.24.3)\n",
            "Requirement already satisfied: idna<3,>=2.5 in /usr/local/lib/python3.7/dist-packages (from requests<3.0.0,>=2.13.0->spacy>=2.2.2->en_core_web_sm==2.2.5) (2.10)\n",
            "Requirement already satisfied: certifi>=2017.4.17 in /usr/local/lib/python3.7/dist-packages (from requests<3.0.0,>=2.13.0->spacy>=2.2.2->en_core_web_sm==2.2.5) (2020.12.5)\n",
            "Requirement already satisfied: chardet<4,>=3.0.2 in /usr/local/lib/python3.7/dist-packages (from requests<3.0.0,>=2.13.0->spacy>=2.2.2->en_core_web_sm==2.2.5) (3.0.4)\n",
            "Requirement already satisfied: zipp>=0.5 in /usr/local/lib/python3.7/dist-packages (from importlib-metadata>=0.20; python_version < \"3.8\"->catalogue<1.1.0,>=0.0.7->spacy>=2.2.2->en_core_web_sm==2.2.5) (3.4.1)\n",
            "Requirement already satisfied: typing-extensions>=3.6.4; python_version < \"3.8\" in /usr/local/lib/python3.7/dist-packages (from importlib-metadata>=0.20; python_version < \"3.8\"->catalogue<1.1.0,>=0.0.7->spacy>=2.2.2->en_core_web_sm==2.2.5) (3.7.4.3)\n",
            "\u001b[38;5;2m✔ Download and installation successful\u001b[0m\n",
            "You can now load the model via spacy.load('en_core_web_sm')\n"
          ],
          "name": "stdout"
        }
      ]
    },
    {
      "cell_type": "code",
      "metadata": {
        "id": "yiXa1dXlBWbG",
        "colab": {
          "base_uri": "https://localhost:8080/"
        },
        "outputId": "7f01215f-8dc0-4106-fd43-5559ffa4ac9b"
      },
      "source": [
        "import spacy\n",
        "# Load English tokenizer, tagger, parser and NER\n",
        "nlp = spacy.load(\"en_core_web_sm\")\n",
        "# Process whole documents\n",
        "text = (\"\\n\".join(clean_page[0]))\n",
        "print(text)\n",
        "doc = nlp(text)\n",
        "\n",
        "for entity in doc.ents:\n",
        "    if entity.label_ == \"ORG\":\n",
        "        print(entity.text,\":       \", entity.label_)"
      ],
      "execution_count": 32,
      "outputs": [
        {
          "output_type": "stream",
          "text": [
            " ('UNITED STATES DISTRICT COURT ', 'UNITED STATES DISTRICT COURT ')\n",
            " ('MIDDLE DISTRICT OF FLORIDA ', 'MIDDLE DISTRICT OF FLORIDA ')\n",
            " ('Jacksonville Division ', 'Jacksonville Division ')\n",
            " ('v. ', 'v ')\n",
            " ('Case No. 3:15-cv-5-J-34MCR ', 'Case No cv J MCR ')\n",
            " ('U.S. COMMODITY FUTURES ', 'U S COMMODITY FUTURES ')\n",
            " ('TRADING COMMISSION, ', 'TRADING COMMISSION ')\n",
            " ('Plaintiff, ', 'Plaintiff ')\n",
            " ('ALLIED MARKETS LLC, ', 'ALLIED MARKETS LLC ')\n",
            " ('JOSHUA GILLILAND, and ', 'JOSHUA GILLILAND and ')\n",
            " ('CHAWALIT WONGKHIAO, ', 'CHAWALIT WONGKHIAO ')\n",
            " ('Defendants. ', 'Defendants ')\n",
            " (\"ORDER GRANTING PLAINTIFF'S EX PARTE \", 'ORDER GRANTING PLAINTIFF S EX PARTE ')\n",
            " ('MOTION FOR STATUTORY RESTRAINING ORDER AND SCHEDULING ', 'MOTION FOR STATUTORY RESTRAINING ORDER AND SCHEDULING ')\n",
            " ('PRELIMINARY fNJUNCTION HEARING ', 'PRELIMINARY fNJUNCTION HEARING ')\n",
            " ('THIS CAUSE is before the Court on Plaintiffs Ex Parte Motion for Statutory ', 'THIS CAUSE is before the Court on Plaintiffs Ex Parte Motion for Statutory ')\n",
            " ('Restraining Order and Motion for Preliminary Injunction (Doc. S-4; Motion), filed on ', 'Restraining Order and Motion for Preliminary Injunction Doc S Motion filed on ')\n",
            " ('January 5, 2015. Simultaneously with the Motion, the United States Commodity Futures ', 'January Simultaneously with the Motion the United States Commodity Futures ')\n",
            " ('Trading Commission (Plaintiff or CFTC) filed a Complaint for Injunctive Relief, Civil ', 'Trading Commission Plaintiff or CFTC filed a Complaint for Injunctive Relief Civil ')\n",
            " ('Monetary Penalty, and Other Equitable Relief (Doc. S-3) against Defendants Allied Markets ', 'Monetary Penalty and Other Equitable Relief Doc S against Defendants Allied Markets ')\n",
            " ('LLC, Joshua Gilliland, and Chawalit Wongkhiao (collectively, Defendants). In the Motion, ', 'LLC Joshua Gilliland and Chawalit Wongkhiao collectively Defendants In the Motion ')\n",
            " ('the CFTC moves, pursuant to Section 6c(a) of the Commodity Exchange Act (CEA), 7 ', 'the CFTC moves pursuant to Section c a of the Commodity Exchange Act CEA ')\n",
            " ('U.S.C. § 13a-l (a) (2012), for an ex parte statutory restraining order freezing assets and ', 'U S C a l a for an ex parte statutory restraining order freezing assets and ')\n",
            " ('prohibiting the destruction of books, records, or other documents; and for an order requiring ', 'prohibiting the destruction of books records or other documents and for an order requiring ')\n",
            "UNITED STATES DISTRICT COURT ' :        ORG\n",
            "UNITED STATES DISTRICT COURT ' :        ORG\n",
            "DISTRICT OF FLORIDA ' :        ORG\n",
            "DISTRICT OF FLORIDA ' :        ORG\n",
            "Jacksonville Division ' :        ORG\n",
            "'Jacksonville Division ' :        ORG\n",
            "U.S. COMMODITY FUTURES ' :        ORG\n",
            "ALLIED MARKETS LLC :        ORG\n",
            "ALLIED MARKETS LLC ' :        ORG\n",
            "the Court on Plaintiffs Ex Parte Motion for Statutory ' :        ORG\n",
            "the Court on Plaintiffs :        ORG\n",
            "Doc :        ORG\n",
            "Motion :        ORG\n",
            "Motion :        ORG\n",
            "the United States Commodity Futures ' :        ORG\n",
            "Plaintiff :        ORG\n",
            "CFTC :        ORG\n",
            "Trading Commission Plaintiff :        ORG\n",
            "CFTC :        ORG\n",
            "Doc :        ORG\n",
            "Defendants Allied Markets ' :        ORG\n",
            "Monetary Penalty :        ORG\n",
            "Defendants Allied Markets ' :        ORG\n",
            "LLC :        ORG\n",
            "Chawalit Wongkhiao :        ORG\n",
            "Motion :        ORG\n",
            "Chawalit Wongkhiao :        ORG\n",
            "CFTC :        ORG\n",
            "the Commodity Exchange Act :        ORG\n",
            "CFTC :        ORG\n",
            "Section c :        ORG\n",
            "the Commodity Exchange Act CEA ' :        ORG\n"
          ],
          "name": "stdout"
        }
      ]
    },
    {
      "cell_type": "code",
      "metadata": {
        "id": "zj1gDqRfBWbG",
        "colab": {
          "base_uri": "https://localhost:8080/"
        },
        "outputId": "c03a7d77-597c-4927-a3a4-7aa7b951d9f9"
      },
      "source": [
        "print(\"\\n\".join(clean_page[0]))"
      ],
      "execution_count": 33,
      "outputs": [
        {
          "output_type": "stream",
          "text": [
            " ('UNITED STATES DISTRICT COURT ', 'UNITED STATES DISTRICT COURT ')\n",
            " ('MIDDLE DISTRICT OF FLORIDA ', 'MIDDLE DISTRICT OF FLORIDA ')\n",
            " ('Jacksonville Division ', 'Jacksonville Division ')\n",
            " ('v. ', 'v ')\n",
            " ('Case No. 3:15-cv-5-J-34MCR ', 'Case No cv J MCR ')\n",
            " ('U.S. COMMODITY FUTURES ', 'U S COMMODITY FUTURES ')\n",
            " ('TRADING COMMISSION, ', 'TRADING COMMISSION ')\n",
            " ('Plaintiff, ', 'Plaintiff ')\n",
            " ('ALLIED MARKETS LLC, ', 'ALLIED MARKETS LLC ')\n",
            " ('JOSHUA GILLILAND, and ', 'JOSHUA GILLILAND and ')\n",
            " ('CHAWALIT WONGKHIAO, ', 'CHAWALIT WONGKHIAO ')\n",
            " ('Defendants. ', 'Defendants ')\n",
            " (\"ORDER GRANTING PLAINTIFF'S EX PARTE \", 'ORDER GRANTING PLAINTIFF S EX PARTE ')\n",
            " ('MOTION FOR STATUTORY RESTRAINING ORDER AND SCHEDULING ', 'MOTION FOR STATUTORY RESTRAINING ORDER AND SCHEDULING ')\n",
            " ('PRELIMINARY fNJUNCTION HEARING ', 'PRELIMINARY fNJUNCTION HEARING ')\n",
            " ('THIS CAUSE is before the Court on Plaintiffs Ex Parte Motion for Statutory ', 'THIS CAUSE is before the Court on Plaintiffs Ex Parte Motion for Statutory ')\n",
            " ('Restraining Order and Motion for Preliminary Injunction (Doc. S-4; Motion), filed on ', 'Restraining Order and Motion for Preliminary Injunction Doc S Motion filed on ')\n",
            " ('January 5, 2015. Simultaneously with the Motion, the United States Commodity Futures ', 'January Simultaneously with the Motion the United States Commodity Futures ')\n",
            " ('Trading Commission (Plaintiff or CFTC) filed a Complaint for Injunctive Relief, Civil ', 'Trading Commission Plaintiff or CFTC filed a Complaint for Injunctive Relief Civil ')\n",
            " ('Monetary Penalty, and Other Equitable Relief (Doc. S-3) against Defendants Allied Markets ', 'Monetary Penalty and Other Equitable Relief Doc S against Defendants Allied Markets ')\n",
            " ('LLC, Joshua Gilliland, and Chawalit Wongkhiao (collectively, Defendants). In the Motion, ', 'LLC Joshua Gilliland and Chawalit Wongkhiao collectively Defendants In the Motion ')\n",
            " ('the CFTC moves, pursuant to Section 6c(a) of the Commodity Exchange Act (CEA), 7 ', 'the CFTC moves pursuant to Section c a of the Commodity Exchange Act CEA ')\n",
            " ('U.S.C. § 13a-l (a) (2012), for an ex parte statutory restraining order freezing assets and ', 'U S C a l a for an ex parte statutory restraining order freezing assets and ')\n",
            " ('prohibiting the destruction of books, records, or other documents; and for an order requiring ', 'prohibiting the destruction of books records or other documents and for an order requiring ')\n"
          ],
          "name": "stdout"
        }
      ]
    },
    {
      "cell_type": "code",
      "metadata": {
        "id": "sTe6DwvLBWbG",
        "colab": {
          "base_uri": "https://localhost:8080/"
        },
        "outputId": "014d783a-1df5-47e4-97e6-effd39979542"
      },
      "source": [
        "!pip3 install transformers\n",
        "#!pip3 install torch torchvision torchaudio\n",
        "#!python -c \"from transformers import pipeline; print(pipeline('sentiment-analysis')('we love you'))\""
      ],
      "execution_count": 34,
      "outputs": [
        {
          "output_type": "stream",
          "text": [
            "Requirement already satisfied: transformers in /usr/local/lib/python3.7/dist-packages (4.6.1)\n",
            "Requirement already satisfied: tqdm>=4.27 in /usr/local/lib/python3.7/dist-packages (from transformers) (4.41.1)\n",
            "Requirement already satisfied: sacremoses in /usr/local/lib/python3.7/dist-packages (from transformers) (0.0.45)\n",
            "Requirement already satisfied: packaging in /usr/local/lib/python3.7/dist-packages (from transformers) (20.9)\n",
            "Requirement already satisfied: importlib-metadata; python_version < \"3.8\" in /usr/local/lib/python3.7/dist-packages (from transformers) (4.0.1)\n",
            "Requirement already satisfied: numpy>=1.17 in /usr/local/lib/python3.7/dist-packages (from transformers) (1.19.5)\n",
            "Requirement already satisfied: requests in /usr/local/lib/python3.7/dist-packages (from transformers) (2.23.0)\n",
            "Requirement already satisfied: filelock in /usr/local/lib/python3.7/dist-packages (from transformers) (3.0.12)\n",
            "Requirement already satisfied: huggingface-hub==0.0.8 in /usr/local/lib/python3.7/dist-packages (from transformers) (0.0.8)\n",
            "Requirement already satisfied: regex!=2019.12.17 in /usr/local/lib/python3.7/dist-packages (from transformers) (2019.12.20)\n",
            "Requirement already satisfied: tokenizers<0.11,>=0.10.1 in /usr/local/lib/python3.7/dist-packages (from transformers) (0.10.3)\n",
            "Requirement already satisfied: click in /usr/local/lib/python3.7/dist-packages (from sacremoses->transformers) (7.1.2)\n",
            "Requirement already satisfied: six in /usr/local/lib/python3.7/dist-packages (from sacremoses->transformers) (1.15.0)\n",
            "Requirement already satisfied: joblib in /usr/local/lib/python3.7/dist-packages (from sacremoses->transformers) (1.0.1)\n",
            "Requirement already satisfied: pyparsing>=2.0.2 in /usr/local/lib/python3.7/dist-packages (from packaging->transformers) (2.4.7)\n",
            "Requirement already satisfied: typing-extensions>=3.6.4; python_version < \"3.8\" in /usr/local/lib/python3.7/dist-packages (from importlib-metadata; python_version < \"3.8\"->transformers) (3.7.4.3)\n",
            "Requirement already satisfied: zipp>=0.5 in /usr/local/lib/python3.7/dist-packages (from importlib-metadata; python_version < \"3.8\"->transformers) (3.4.1)\n",
            "Requirement already satisfied: urllib3!=1.25.0,!=1.25.1,<1.26,>=1.21.1 in /usr/local/lib/python3.7/dist-packages (from requests->transformers) (1.24.3)\n",
            "Requirement already satisfied: idna<3,>=2.5 in /usr/local/lib/python3.7/dist-packages (from requests->transformers) (2.10)\n",
            "Requirement already satisfied: chardet<4,>=3.0.2 in /usr/local/lib/python3.7/dist-packages (from requests->transformers) (3.0.4)\n",
            "Requirement already satisfied: certifi>=2017.4.17 in /usr/local/lib/python3.7/dist-packages (from requests->transformers) (2020.12.5)\n"
          ],
          "name": "stdout"
        }
      ]
    },
    {
      "cell_type": "code",
      "metadata": {
        "id": "MP3pothGBWbG"
      },
      "source": [
        "from transformers import pipeline, AutoModelForTokenClassification, AutoTokenizer\n",
        "\n",
        "# Question answering pipeline, specifying the checkpoint identifier\n",
        "nlp = pipeline('question-answering', model='distilbert-base-cased-distilled-squad', tokenizer='distilbert-base-cased')"
      ],
      "execution_count": 35,
      "outputs": []
    },
    {
      "cell_type": "code",
      "metadata": {
        "id": "iHBzgftkE3xR"
      },
      "source": [
        "def clean_spec_chars(text: str) -> tuple:\n",
        "    \"\"\"first text cleaning based on regex, just keep text not spec chars\n",
        "    return tupple of text\"\"\"\n",
        "\n",
        "    # article text\n",
        "    article_text = re.sub(r\"\\[[0-9]*\\]\", \" \", text)\n",
        "    article_text = re.sub(r\"\\s+\", \" \", article_text)\n",
        "\n",
        "    # formated text\n",
        "    formatted_article_text = re.sub(\"[^a-zA-Z]\", \" \", article_text)\n",
        "    formatted_article_text = re.sub(r\"\\s+\", \" \", formatted_article_text)\n",
        "\n",
        "    return article_text, formatted_article_text"
      ],
      "execution_count": 36,
      "outputs": []
    },
    {
      "cell_type": "code",
      "metadata": {
        "id": "yfOJ3eu_Fn2U"
      },
      "source": [
        "def get_token(text):\n",
        "    sentence_list = nltk.sent_tokenize(text)\n",
        "    sentence_list\n",
        "    return sentence_list"
      ],
      "execution_count": 37,
      "outputs": []
    },
    {
      "cell_type": "code",
      "metadata": {
        "colab": {
          "base_uri": "https://localhost:8080/"
        },
        "id": "BUxNKs3EETnL",
        "outputId": "3cf874f9-ceca-4af7-d7dc-1a6118f264b4"
      },
      "source": [
        "data, _=clean_spec_chars(file)\n",
        "print(data)\n",
        "list_=get_token(data)\n",
        "print(len(list_))"
      ],
      "execution_count": 38,
      "outputs": [
        {
          "output_type": "stream",
          "text": [
            "UNITED STATES DISTRICT COURT MIDDLE DISTRICT OF FLORIDA Jacksonville Division v. Case No. 3:15-cv-5-J-34MCR U.S. COMMODITY FUTURES TRADING COMMISSION, Plaintiff, ALLIED MARKETS LLC, JOSHUA GILLILAND, and CHAWALIT WONGKHIAO, Defendants. ORDER GRANTING PLAINTIFF'S EX PARTE MOTION FOR STATUTORY RESTRAINING ORDER AND SCHEDULING PRELIMINARY fNJUNCTION HEARING THIS CAUSE is before the Court on Plaintiffs Ex Parte Motion for Statutory Restraining Order and Motion for Preliminary Injunction (Doc. S-4; Motion), filed on January 5, 2015. Simultaneously with the Motion, the United States Commodity Futures Trading Commission (Plaintiff or CFTC) filed a Complaint for Injunctive Relief, Civil Monetary Penalty, and Other Equitable Relief (Doc. S-3) against Defendants Allied Markets LLC, Joshua Gilliland, and Chawalit Wongkhiao (collectively, Defendants). In the Motion, the CFTC moves, pursuant to Section 6c(a) of the Commodity Exchange Act (CEA), 7 U.S.C. § 13a-l (a) (2012), for an ex parte statutory restraining order freezing assets and prohibiting the destruction of books, records, or other documents; and for an order requiring Defendants to show cause why a preliminary injunction should not issue. The Court has considered the pleadings, declarations, exhibits, and memorandum filed in support of the CFTC's Motion, and now, being fully advised, finds as follows: 1. The Court possesses jurisdiction over the parties and over the subject matter of this action pursuant to Section 6c of the CEA, 7 U.S.C. § 13a- l (2012). 2. Venue properly lies in this District, pursuant to Section 6c( e) of the CEA, 7 U.S.C. § 13a-l(e) (2012). 3. There is good cause to believe that Defendant Allied Markets LLC (\"Allied Markets\"), by and through its agents, principals and control persons, Defendants Joshua Gilliland and Chawalit Wongkhiao have engaged in, are engaging in, and may continue to engage in violations of Sections 2(c)(2)(C)(iii)(I)(cc), 4b(a)(2)(A) and (C), 4k(2), 4m(l), and 4o(l) of the CEA, 7 U.S.C. §§ 2(c)(2)(C)(iii)(I)(cc), 6b(a)(2)(A), (C), 6k(2), 6m(l), 60(1) (2012); and CFTC Regulations 3. 12, 4.20(a)-(c), 4.4l(a), 5.2(b)(l) and (3), 5.3(a)(2)(i), and 5.3(a)(2)(ii), 17 C.F.R. §§ 3.12, 4.20(a)-(c), 4.4l(a), 5.2(b)(l), (3), 5.3(a)(2)(i), (ii) (2014). 4. The CFTC has presented evidence that, since at least January 2012, Defendants fraudulently solicited more than $1 million from members of the public to participate in a supposed commodity pool purportedly trading leveraged or margined retail off-exchange foreign currency contracts, commonly known as \"forex.\" The CFTC has also presented evidence that Defendants misappropriated pool participants' funds to pay Defendants Gilliland's and Wongkhiao's personal expenses. Additionally, the CFTC has presented evidence that Defendants failed to register with the CFTC as required, failed to segregate customer funds, and failed to operate the commodity pool as a separate entity, and 2 failed to accurately report or disclose the performance of the relevant investments, as required by the CEA and CFTC Regulations. 5. There is good cause to believe that immediate and irreparable damage to the Court's ability to grant effective final relief in the form of monetary redress will occur from the sale, transfer, assignment, or other disposition by Defendants of assets or records unless Defendants are immediately restrained and enjoined by order of this Court; 6. There is good cause for entry of an order freezing assets owned, controlled, managed, or held by or on behalf of, or for the benefit of, Defendants. 7. There is good cause for entry of an order prohibiting Defendants, their agents, servants, employees, assigns, attorneys, and persons in active concert or participation with Defendants, including any successor thereof, from destroying records and/or denying agents of the CFTC immediate and complete access to Defendants' books and records for inspection and copying. 8. Absent the entry of this order, Defendants would have the ability to dissipate or transfer assets and destroy books and records. 9. An ex parte statutory restraining order is warranted here to preserve the status quo, protect customers from loss and damage, and enable the CFTC to fulfill its statutory duties. Accordingly, it is ORDERED: 10. Plaintiff's Ex Parte Motion for Statutory Restraining Order and Motion for Preliminary Injunction (Doc. S-4) is GRANTED, in part, and TAKEN UNDER ADVISEMENT, in part. 3 A. To the extent the CFTC requests an ex parte statutory restraining order, the Motion is GRANTED as set forth below. B. To the extent the CFTC requests the entry of a preliminary injunction, the Motion is TAKEN UNDER ADVISEMENT. RELIEF GRANTED I. ASSET 1 FREEZE IT IS HEREBY ORDERED that: 11. Defendants2 and their agents, servants, employees, assigns, attorneys, including any successor thereof, and persons in active concert or participation with them, who receive actual notice of this Order by personal service or otherwise, are immediately restrained and enj oined from directly or indirectly transferring, selling, alienating, liquidating, encumbering, pledging, leasing, loaning, assigning, concealing, dissipating, converting, withdrawing, or otherwise disposing of any assets, wherever located, including Defendants' assets held outside the United States, except as otherwise ordered by the Court. 1 For the purposes of this Order, the term ''Assets\" means any legal or equitable interest in, right to, or c laim to, any real or personal property, whether individually or jointly, directly or indirectly controlled, and wherever located, including, but not limited to: chattels, goods, instruments, equipment, fixtures, general intangibles, effects, leaseholds mail or other deliveries, inventory, checks, notes, accounts (including, but not limited to, bank accounts and accounts at other financial institutions), credits, receivables, lines of credit, contracts (including spot, futures, options, or swaps contracts), insurance policies, and all cash, wherever located, whether within or outside the United States. 2 For purposes of this Order, the term \" Defendants\" refers to Allied Markets LLC, Joshua Gilliland, and Chawalit Wongkhiao, and any person insofar as he or she is acting in the capacity of an officer, agent servant, employee, or attorney of Defendants and any person who receives actual notice of this Order by personal service or otherwise insofar as he or she is acting in concert or participation with Defendants. \" Defendants\" also refers to any d/b/a, successor, affiliate, subsidiary, or other entity owned, controlled, managed, or held by, on behalf of, or for the benefit of Allied Markets, Joshua Gilliland, or Chawalit Wongkhiao. 4 12. This Order shall apply to any assets derived from or otherwise related to the activities alleged in the CFTC's complaint, regardless of when the asset is obtained. However, the assets affected by this Order shall not include assets obtained after the effective date of this Order, to the extent such assets are not derived from or otherwise related to the activities alleged in the CFTC's complaint. II. NOTICE TO FINANCIAL INSTUTIONS AND OTHERS 13. Any financial or brokerage institution, business entity, or person that holds, controls, or maintains custody of any account or asset titled in the name of, held for the benefit of, or otherwise under the control of any Defendant, or has held, controlled, or maintained custody of any such account or asset of any Defendant at any time since January 1, 2012 are hereby notified that this Order prohibits any Defendant and all other persons from withdrawing, removing, assigning, transferring, pledging, encumbering, disbursing, dissipating, converting, selling or otherwise disposing of Defendants' assets, except as directed by further order of the Court; provided, however, nothing in this Order shall limit the discretion of any compliance official of any retail foreign exchange dealer or futures commission merchant with which Defendants maintain an account to liquidate, or close out, any and all open positions in Defendants' account, in a prompt and orderly fashion in order to avoid losse.s due to the asset freeze required by this Order. III. MAINTENANCE OF AND ACCESS TO BUSINESS RECORDS IT IS FURTHER ORDERED that: 14. Defendants and all persons or entities who receive notice of this Order by personal service or otherwise, are restrained from directly or indirectly destroying, 5 mutilating, erasing, altering, concealing or disposing of, in any manner, directly or indirectly, any documents3 that relate to the business practices or business or personal finances of any Defendant. IV. BOND NOT REQUIRED OF PLAINTIFF IT IS FURTHER ORDERED that: 15. Because Plaintiff CFTC is an agency of the United States of America and has made a proper showing under Section 6c(b) of the CEA, 7 U.S.C. § 13a-1(b) (2012), this restraining order is granted without bond. V. INSPECTION AND COPYING OF BOOKS AND RECORDS IT IS FURTHER ORDERED that: 16. Defendants shall immediately allow representatives of the CFTC to inspect the books, records, and other documents of Defendants and their agents including, but not limited to, paper documents, electronically stored information, tape recordings, and computer discs, wherever they may be situated and whether they are in the possession of Defendants or others, and to copy said documents, data and records, either on or off the premises where they may be situated. VI. SERVICE OF ORDER AND ASSISTANCE OF UNITED ST A TES MARSHALS SERVICE IT IS FURTHER ORDERED that: 1 7. Copies of thls Order may be served by any means, including facsimile transmission, upon any financial institution or other entity or person that may have 3 For purposes of this Order, the term \"document\" is synonymous in meaning and equal in scope to the broad usage of the tenn in Federal Rule of Civil Procedure 34(a). 6 possession, custody, or control of any documents or assets of any Defendant, or that may be subject to any provision of this Order. 18. Representatives of the CFTC, the United States Marshals Service, the Florida Office of Financial Regulation, and the police departments of Jacksonville and Jacksonville Beach, Florida are specially appointed by the Court to effect service of this Order. 19. The United States Marshals Service, the Florida Office of Financial Regulation, and the police departments of Jacksonville and Jacksonville Beach, Florida, in order to ensure the safety of CFTC representatives, are authorized to accompany and assist the CFTC in the service on Defendants of the summons, complaint, and supporting motions, memoranda, and orders entered with this Order. 20. The CFTC shall immediately file proof of service with the Court once accomplished. VII. PRELIMINARY INJUNCTION HEARING IT IS FURTHER ORDERED that: 21 . This matter is set for a HEARING on Plaintiffs Motion for Preliminary Injunction (Doc. S-4) on Wednesday, January 21, 2015, at 10:00 a.m., before the undersigned at the Bryan Simpson United States Courthouse, 300 North Hogan Street, Jacksonville, Florida, 32202, in Courtroom 1 OB. Counsel for Plaintiff and Defendants shall appear in person and telephonic appearances will not be permitted.4 4 All persons entering the Courthouse must present photo identification to Court Security Officers. Although cell phones, laptop computers, and similar electronic devices generally are not permitted in the building, attorneys may bring those items with them upon presentation to Court Security Officers of a Florida Bar card (presentation of the Duval County Courthouse lawyer identification card will suffice) or Order of special admission pro hac vice. However, all cell phones must be turned off while in the courtroom. 7 22. The following expedited briefing schedule shall govern this case: A. Defendants shall have up to and including 5:00 p.m. on Thursday, January 15, 2015, to file a memorandum in opposition to Plaintiffs Motion for Preliminary Injunction (Doc. S-4), including any affidavits or declarations on which they rely. B. Plaintiff shall have up to and including 11:00 a.m. on Tuesday, January 20, 2015, to file a reply, if necessary, in support of its Motion for Preliminary Injunction, which shall not exceed TEN (10) PAGES in length. 23. The hearing will be conducted in accordance with Local Rule 4.06, United States District Court, Middle District of Florida, and Rule 65, Federal Rules of Civil Procedure. The case does not appear to involve the exceptional situation wherein the Court will allow the parties to submit evidence at the hearing. See Local Rule 4.06(b). Thus, absent further order,5 the hearing will be limited to the written submissions and arguments of counsel. 24. In issuing this Statutory Restraining Order, the Court understands that Defendants have not yet been given an opportunity to be heard and emphasizes that it is not making a final decision on any request for preliminary injunctive relief. However, the Court is persuaded that issuing the Statutory Restraining Order until a full hearing can be held on the CFTC's request for preliminary injunctive relief is the lawful and proper action. 5 McDonald's Com. v. Robertson, 147 F.3d 1301, 1312-13 (I Ith Cir. 1998) (\"[W]here facts are bitterly contested and credibility determinations must be made to decide whether injunctive relief should issue, an evidentiary hearing must be held .... [W]here material facts are not in dispute, or where facts in dispute are not material to the preliminary injunction sought, district courts need not hold an evidentiary hearing.\") In the event either party believes such a hearing is warranted in this action, the party must, after conferring with opposing counsel, file a motion requesting an evidentiary hearing and identifying the factual issues or dispute which necessitate such relief. 8 VIII. FORCE AND EFFECT IT IS FURTHER ORDERED that: 25. Unless earlier dissolved or extended by Order of the Court, the Statutory Restraining Order granted herein shall expire at midnight on January 21, 2015. IT IS SO ORDERED at Jacksonville, Florida on this 7th day of January, 2015, at ~ C<A iAa.llc.b<i ±kv&,, d UNITE D STAT ES DISTRICT JUDGE 9 UNITED STATES DISTRICT COURT MIDDLE DISTRICT OF FLORIDA Jacksonville Division v. Case No. 3:15-cv-5-J-34MCR U.S. COMMODITY FUTURES TRADING COMMISSION, Plaintiff, ALLIED MARKETS LLC, JOSHUA GILLILAND, and CHAWALIT WONGKHIAO, Defendants. ORDER GRANTING PLAINTIFF'S EX PARTE MOTION FOR STATUTORY RESTRAINING ORDER AND SCHEDULING PRELIMINARY fNJUNCTION HEARING THIS CAUSE is before the Court on Plaintiffs Ex Parte Motion for Statutory Restraining Order and Motion for Preliminary Injunction (Doc. S-4; Motion), filed on January 5, 2015. Simultaneously with the Motion, the United States Commodity Futures Trading Commission (Plaintiff or CFTC) filed a Complaint for Injunctive Relief, Civil Monetary Penalty, and Other Equitable Relief (Doc. S-3) against Defendants Allied Markets LLC, Joshua Gilliland, and Chawalit Wongkhiao (collectively, Defendants). In the Motion, the CFTC moves, pursuant to Section 6c(a) of the Commodity Exchange Act (CEA), 7 U.S.C. § 13a-l (a) (2012), for an ex parte statutory restraining order freezing assets and prohibiting the destruction of books, records, or other documents; and for an order requiring Defendants to show cause why a preliminary injunction should not issue. The Court has considered the pleadings, declarations, exhibits, and memorandum filed in support of the CFTC's Motion, and now, being fully advised, finds as follows: 1. The Court possesses jurisdiction over the parties and over the subject matter of this action pursuant to Section 6c of the CEA, 7 U.S.C. § 13a- l (2012). 2. Venue properly lies in this District, pursuant to Section 6c( e) of the CEA, 7 U.S.C. § 13a-l(e) (2012). 3. There is good cause to believe that Defendant Allied Markets LLC (\"Allied Markets\"), by and through its agents, principals and control persons, Defendants Joshua Gilliland and Chawalit Wongkhiao have engaged in, are engaging in, and may continue to engage in violations of Sections 2(c)(2)(C)(iii)(I)(cc), 4b(a)(2)(A) and (C), 4k(2), 4m(l), and 4o(l) of the CEA, 7 U.S.C. §§ 2(c)(2)(C)(iii)(I)(cc), 6b(a)(2)(A), (C), 6k(2), 6m(l), 60(1) (2012); and CFTC Regulations 3. 12, 4.20(a)-(c), 4.4l(a), 5.2(b)(l) and (3), 5.3(a)(2)(i), and 5.3(a)(2)(ii), 17 C.F.R. §§ 3.12, 4.20(a)-(c), 4.4l(a), 5.2(b)(l), (3), 5.3(a)(2)(i), (ii) (2014). 4. The CFTC has presented evidence that, since at least January 2012, Defendants fraudulently solicited more than $1 million from members of the public to participate in a supposed commodity pool purportedly trading leveraged or margined retail off-exchange foreign currency contracts, commonly known as \"forex.\" The CFTC has also presented evidence that Defendants misappropriated pool participants' funds to pay Defendants Gilliland's and Wongkhiao's personal expenses. Additionally, the CFTC has presented evidence that Defendants failed to register with the CFTC as required, failed to segregate customer funds, and failed to operate the commodity pool as a separate entity, and 2 failed to accurately report or disclose the performance of the relevant investments, as required by the CEA and CFTC Regulations. 5. There is good cause to believe that immediate and irreparable damage to the Court's ability to grant effective final relief in the form of monetary redress will occur from the sale, transfer, assignment, or other disposition by Defendants of assets or records unless Defendants are immediately restrained and enjoined by order of this Court; 6. There is good cause for entry of an order freezing assets owned, controlled, managed, or held by or on behalf of, or for the benefit of, Defendants. 7. There is good cause for entry of an order prohibiting Defendants, their agents, servants, employees, assigns, attorneys, and persons in active concert or participation with Defendants, including any successor thereof, from destroying records and/or denying agents of the CFTC immediate and complete access to Defendants' books and records for inspection and copying. 8. Absent the entry of this order, Defendants would have the ability to dissipate or transfer assets and destroy books and records. 9. An ex parte statutory restraining order is warranted here to preserve the status quo, protect customers from loss and damage, and enable the CFTC to fulfill its statutory duties. Accordingly, it is ORDERED: 10. Plaintiff's Ex Parte Motion for Statutory Restraining Order and Motion for Preliminary Injunction (Doc. S-4) is GRANTED, in part, and TAKEN UNDER ADVISEMENT, in part. 3 A. To the extent the CFTC requests an ex parte statutory restraining order, the Motion is GRANTED as set forth below. B. To the extent the CFTC requests the entry of a preliminary injunction, the Motion is TAKEN UNDER ADVISEMENT. RELIEF GRANTED I. ASSET 1 FREEZE IT IS HEREBY ORDERED that: 11. Defendants2 and their agents, servants, employees, assigns, attorneys, including any successor thereof, and persons in active concert or participation with them, who receive actual notice of this Order by personal service or otherwise, are immediately restrained and enj oined from directly or indirectly transferring, selling, alienating, liquidating, encumbering, pledging, leasing, loaning, assigning, concealing, dissipating, converting, withdrawing, or otherwise disposing of any assets, wherever located, including Defendants' assets held outside the United States, except as otherwise ordered by the Court. 1 For the purposes of this Order, the term ''Assets\" means any legal or equitable interest in, right to, or c laim to, any real or personal property, whether individually or jointly, directly or indirectly controlled, and wherever located, including, but not limited to: chattels, goods, instruments, equipment, fixtures, general intangibles, effects, leaseholds mail or other deliveries, inventory, checks, notes, accounts (including, but not limited to, bank accounts and accounts at other financial institutions), credits, receivables, lines of credit, contracts (including spot, futures, options, or swaps contracts), insurance policies, and all cash, wherever located, whether within or outside the United States. 2 For purposes of this Order, the term \" Defendants\" refers to Allied Markets LLC, Joshua Gilliland, and Chawalit Wongkhiao, and any person insofar as he or she is acting in the capacity of an officer, agent servant, employee, or attorney of Defendants and any person who receives actual notice of this Order by personal service or otherwise insofar as he or she is acting in concert or participation with Defendants. \" Defendants\" also refers to any d/b/a, successor, affiliate, subsidiary, or other entity owned, controlled, managed, or held by, on behalf of, or for the benefit of Allied Markets, Joshua Gilliland, or Chawalit Wongkhiao. 4 12. This Order shall apply to any assets derived from or otherwise related to the activities alleged in the CFTC's complaint, regardless of when the asset is obtained. However, the assets affected by this Order shall not include assets obtained after the effective date of this Order, to the extent such assets are not derived from or otherwise related to the activities alleged in the CFTC's complaint. II. NOTICE TO FINANCIAL INSTUTIONS AND OTHERS 13. Any financial or brokerage institution, business entity, or person that holds, controls, or maintains custody of any account or asset titled in the name of, held for the benefit of, or otherwise under the control of any Defendant, or has held, controlled, or maintained custody of any such account or asset of any Defendant at any time since January 1, 2012 are hereby notified that this Order prohibits any Defendant and all other persons from withdrawing, removing, assigning, transferring, pledging, encumbering, disbursing, dissipating, converting, selling or otherwise disposing of Defendants' assets, except as directed by further order of the Court; provided, however, nothing in this Order shall limit the discretion of any compliance official of any retail foreign exchange dealer or futures commission merchant with which Defendants maintain an account to liquidate, or close out, any and all open positions in Defendants' account, in a prompt and orderly fashion in order to avoid losse.s due to the asset freeze required by this Order. III. MAINTENANCE OF AND ACCESS TO BUSINESS RECORDS IT IS FURTHER ORDERED that: 14. Defendants and all persons or entities who receive notice of this Order by personal service or otherwise, are restrained from directly or indirectly destroying, 5 mutilating, erasing, altering, concealing or disposing of, in any manner, directly or indirectly, any documents3 that relate to the business practices or business or personal finances of any Defendant. IV. BOND NOT REQUIRED OF PLAINTIFF IT IS FURTHER ORDERED that: 15. Because Plaintiff CFTC is an agency of the United States of America and has made a proper showing under Section 6c(b) of the CEA, 7 U.S.C. § 13a-1(b) (2012), this restraining order is granted without bond. V. INSPECTION AND COPYING OF BOOKS AND RECORDS IT IS FURTHER ORDERED that: 16. Defendants shall immediately allow representatives of the CFTC to inspect the books, records, and other documents of Defendants and their agents including, but not limited to, paper documents, electronically stored information, tape recordings, and computer discs, wherever they may be situated and whether they are in the possession of Defendants or others, and to copy said documents, data and records, either on or off the premises where they may be situated. VI. SERVICE OF ORDER AND ASSISTANCE OF UNITED ST A TES MARSHALS SERVICE IT IS FURTHER ORDERED that: 1 7. Copies of thls Order may be served by any means, including facsimile transmission, upon any financial institution or other entity or person that may have 3 For purposes of this Order, the term \"document\" is synonymous in meaning and equal in scope to the broad usage of the tenn in Federal Rule of Civil Procedure 34(a). 6 possession, custody, or control of any documents or assets of any Defendant, or that may be subject to any provision of this Order. 18. Representatives of the CFTC, the United States Marshals Service, the Florida Office of Financial Regulation, and the police departments of Jacksonville and Jacksonville Beach, Florida are specially appointed by the Court to effect service of this Order. 19. The United States Marshals Service, the Florida Office of Financial Regulation, and the police departments of Jacksonville and Jacksonville Beach, Florida, in order to ensure the safety of CFTC representatives, are authorized to accompany and assist the CFTC in the service on Defendants of the summons, complaint, and supporting motions, memoranda, and orders entered with this Order. 20. The CFTC shall immediately file proof of service with the Court once accomplished. VII. PRELIMINARY INJUNCTION HEARING IT IS FURTHER ORDERED that: 21 . This matter is set for a HEARING on Plaintiffs Motion for Preliminary Injunction (Doc. S-4) on Wednesday, January 21, 2015, at 10:00 a.m., before the undersigned at the Bryan Simpson United States Courthouse, 300 North Hogan Street, Jacksonville, Florida, 32202, in Courtroom 1 OB. Counsel for Plaintiff and Defendants shall appear in person and telephonic appearances will not be permitted.4 4 All persons entering the Courthouse must present photo identification to Court Security Officers. Although cell phones, laptop computers, and similar electronic devices generally are not permitted in the building, attorneys may bring those items with them upon presentation to Court Security Officers of a Florida Bar card (presentation of the Duval County Courthouse lawyer identification card will suffice) or Order of special admission pro hac vice. However, all cell phones must be turned off while in the courtroom. 7 22. The following expedited briefing schedule shall govern this case: A. Defendants shall have up to and including 5:00 p.m. on Thursday, January 15, 2015, to file a memorandum in opposition to Plaintiffs Motion for Preliminary Injunction (Doc. S-4), including any affidavits or declarations on which they rely. B. Plaintiff shall have up to and including 11:00 a.m. on Tuesday, January 20, 2015, to file a reply, if necessary, in support of its Motion for Preliminary Injunction, which shall not exceed TEN (10) PAGES in length. 23. The hearing will be conducted in accordance with Local Rule 4.06, United States District Court, Middle District of Florida, and Rule 65, Federal Rules of Civil Procedure. The case does not appear to involve the exceptional situation wherein the Court will allow the parties to submit evidence at the hearing. See Local Rule 4.06(b). Thus, absent further order,5 the hearing will be limited to the written submissions and arguments of counsel. 24. In issuing this Statutory Restraining Order, the Court understands that Defendants have not yet been given an opportunity to be heard and emphasizes that it is not making a final decision on any request for preliminary injunctive relief. However, the Court is persuaded that issuing the Statutory Restraining Order until a full hearing can be held on the CFTC's request for preliminary injunctive relief is the lawful and proper action. 5 McDonald's Com. v. Robertson, 147 F.3d 1301, 1312-13 (I Ith Cir. 1998) (\"[W]here facts are bitterly contested and credibility determinations must be made to decide whether injunctive relief should issue, an evidentiary hearing must be held .... [W]here material facts are not in dispute, or where facts in dispute are not material to the preliminary injunction sought, district courts need not hold an evidentiary hearing.\") In the event either party believes such a hearing is warranted in this action, the party must, after conferring with opposing counsel, file a motion requesting an evidentiary hearing and identifying the factual issues or dispute which necessitate such relief. 8 VIII. FORCE AND EFFECT IT IS FURTHER ORDERED that: 25. Unless earlier dissolved or extended by Order of the Court, the Statutory Restraining Order granted herein shall expire at midnight on January 21, 2015. IT IS SO ORDERED at Jacksonville, Florida on this 7th day of January, 2015, at ~ C<A iAa.llc.b<i ±kv&,, d UNITE D STAT ES DISTRICT JUDGE 9 UNITED STATES DISTRICT COURT MIDDLE DISTRICT OF FLORIDA Jacksonville Division v. Case No. 3:15-cv-5-J-34MCR U.S. COMMODITY FUTURES TRADING COMMISSION, Plaintiff, ALLIED MARKETS LLC, JOSHUA GILLILAND, and CHAWALIT WONGKHIAO, Defendants. ORDER GRANTING PLAINTIFF'S EX PARTE MOTION FOR STATUTORY RESTRAINING ORDER AND SCHEDULING PRELIMINARY fNJUNCTION HEARING THIS CAUSE is before the Court on Plaintiffs Ex Parte Motion for Statutory Restraining Order and Motion for Preliminary Injunction (Doc. S-4; Motion), filed on January 5, 2015. Simultaneously with the Motion, the United States Commodity Futures Trading Commission (Plaintiff or CFTC) filed a Complaint for Injunctive Relief, Civil Monetary Penalty, and Other Equitable Relief (Doc. S-3) against Defendants Allied Markets LLC, Joshua Gilliland, and Chawalit Wongkhiao (collectively, Defendants). In the Motion, the CFTC moves, pursuant to Section 6c(a) of the Commodity Exchange Act (CEA), 7 U.S.C. § 13a-l (a) (2012), for an ex parte statutory restraining order freezing assets and prohibiting the destruction of books, records, or other documents; and for an order requiring Defendants to show cause why a preliminary injunction should not issue. The Court has considered the pleadings, declarations, exhibits, and memorandum filed in support of the CFTC's Motion, and now, being fully advised, finds as follows: 1. The Court possesses jurisdiction over the parties and over the subject matter of this action pursuant to Section 6c of the CEA, 7 U.S.C. § 13a- l (2012). 2. Venue properly lies in this District, pursuant to Section 6c( e) of the CEA, 7 U.S.C. § 13a-l(e) (2012). 3. There is good cause to believe that Defendant Allied Markets LLC (\"Allied Markets\"), by and through its agents, principals and control persons, Defendants Joshua Gilliland and Chawalit Wongkhiao have engaged in, are engaging in, and may continue to engage in violations of Sections 2(c)(2)(C)(iii)(I)(cc), 4b(a)(2)(A) and (C), 4k(2), 4m(l), and 4o(l) of the CEA, 7 U.S.C. §§ 2(c)(2)(C)(iii)(I)(cc), 6b(a)(2)(A), (C), 6k(2), 6m(l), 60(1) (2012); and CFTC Regulations 3. 12, 4.20(a)-(c), 4.4l(a), 5.2(b)(l) and (3), 5.3(a)(2)(i), and 5.3(a)(2)(ii), 17 C.F.R. §§ 3.12, 4.20(a)-(c), 4.4l(a), 5.2(b)(l), (3), 5.3(a)(2)(i), (ii) (2014). 4. The CFTC has presented evidence that, since at least January 2012, Defendants fraudulently solicited more than $1 million from members of the public to participate in a supposed commodity pool purportedly trading leveraged or margined retail off-exchange foreign currency contracts, commonly known as \"forex.\" The CFTC has also presented evidence that Defendants misappropriated pool participants' funds to pay Defendants Gilliland's and Wongkhiao's personal expenses. Additionally, the CFTC has presented evidence that Defendants failed to register with the CFTC as required, failed to segregate customer funds, and failed to operate the commodity pool as a separate entity, and 2 failed to accurately report or disclose the performance of the relevant investments, as required by the CEA and CFTC Regulations. 5. There is good cause to believe that immediate and irreparable damage to the Court's ability to grant effective final relief in the form of monetary redress will occur from the sale, transfer, assignment, or other disposition by Defendants of assets or records unless Defendants are immediately restrained and enjoined by order of this Court; 6. There is good cause for entry of an order freezing assets owned, controlled, managed, or held by or on behalf of, or for the benefit of, Defendants. 7. There is good cause for entry of an order prohibiting Defendants, their agents, servants, employees, assigns, attorneys, and persons in active concert or participation with Defendants, including any successor thereof, from destroying records and/or denying agents of the CFTC immediate and complete access to Defendants' books and records for inspection and copying. 8. Absent the entry of this order, Defendants would have the ability to dissipate or transfer assets and destroy books and records. 9. An ex parte statutory restraining order is warranted here to preserve the status quo, protect customers from loss and damage, and enable the CFTC to fulfill its statutory duties. Accordingly, it is ORDERED: 10. Plaintiff's Ex Parte Motion for Statutory Restraining Order and Motion for Preliminary Injunction (Doc. S-4) is GRANTED, in part, and TAKEN UNDER ADVISEMENT, in part. 3 A. To the extent the CFTC requests an ex parte statutory restraining order, the Motion is GRANTED as set forth below. B. To the extent the CFTC requests the entry of a preliminary injunction, the Motion is TAKEN UNDER ADVISEMENT. RELIEF GRANTED I. ASSET 1 FREEZE IT IS HEREBY ORDERED that: 11. Defendants2 and their agents, servants, employees, assigns, attorneys, including any successor thereof, and persons in active concert or participation with them, who receive actual notice of this Order by personal service or otherwise, are immediately restrained and enj oined from directly or indirectly transferring, selling, alienating, liquidating, encumbering, pledging, leasing, loaning, assigning, concealing, dissipating, converting, withdrawing, or otherwise disposing of any assets, wherever located, including Defendants' assets held outside the United States, except as otherwise ordered by the Court. 1 For the purposes of this Order, the term ''Assets\" means any legal or equitable interest in, right to, or c laim to, any real or personal property, whether individually or jointly, directly or indirectly controlled, and wherever located, including, but not limited to: chattels, goods, instruments, equipment, fixtures, general intangibles, effects, leaseholds mail or other deliveries, inventory, checks, notes, accounts (including, but not limited to, bank accounts and accounts at other financial institutions), credits, receivables, lines of credit, contracts (including spot, futures, options, or swaps contracts), insurance policies, and all cash, wherever located, whether within or outside the United States. 2 For purposes of this Order, the term \" Defendants\" refers to Allied Markets LLC, Joshua Gilliland, and Chawalit Wongkhiao, and any person insofar as he or she is acting in the capacity of an officer, agent servant, employee, or attorney of Defendants and any person who receives actual notice of this Order by personal service or otherwise insofar as he or she is acting in concert or participation with Defendants. \" Defendants\" also refers to any d/b/a, successor, affiliate, subsidiary, or other entity owned, controlled, managed, or held by, on behalf of, or for the benefit of Allied Markets, Joshua Gilliland, or Chawalit Wongkhiao. 4 12. This Order shall apply to any assets derived from or otherwise related to the activities alleged in the CFTC's complaint, regardless of when the asset is obtained. However, the assets affected by this Order shall not include assets obtained after the effective date of this Order, to the extent such assets are not derived from or otherwise related to the activities alleged in the CFTC's complaint. II. NOTICE TO FINANCIAL INSTUTIONS AND OTHERS 13. Any financial or brokerage institution, business entity, or person that holds, controls, or maintains custody of any account or asset titled in the name of, held for the benefit of, or otherwise under the control of any Defendant, or has held, controlled, or maintained custody of any such account or asset of any Defendant at any time since January 1, 2012 are hereby notified that this Order prohibits any Defendant and all other persons from withdrawing, removing, assigning, transferring, pledging, encumbering, disbursing, dissipating, converting, selling or otherwise disposing of Defendants' assets, except as directed by further order of the Court; provided, however, nothing in this Order shall limit the discretion of any compliance official of any retail foreign exchange dealer or futures commission merchant with which Defendants maintain an account to liquidate, or close out, any and all open positions in Defendants' account, in a prompt and orderly fashion in order to avoid losse.s due to the asset freeze required by this Order. III. MAINTENANCE OF AND ACCESS TO BUSINESS RECORDS IT IS FURTHER ORDERED that: 14. Defendants and all persons or entities who receive notice of this Order by personal service or otherwise, are restrained from directly or indirectly destroying, 5 mutilating, erasing, altering, concealing or disposing of, in any manner, directly or indirectly, any documents3 that relate to the business practices or business or personal finances of any Defendant. IV. BOND NOT REQUIRED OF PLAINTIFF IT IS FURTHER ORDERED that: 15. Because Plaintiff CFTC is an agency of the United States of America and has made a proper showing under Section 6c(b) of the CEA, 7 U.S.C. § 13a-1(b) (2012), this restraining order is granted without bond. V. INSPECTION AND COPYING OF BOOKS AND RECORDS IT IS FURTHER ORDERED that: 16. Defendants shall immediately allow representatives of the CFTC to inspect the books, records, and other documents of Defendants and their agents including, but not limited to, paper documents, electronically stored information, tape recordings, and computer discs, wherever they may be situated and whether they are in the possession of Defendants or others, and to copy said documents, data and records, either on or off the premises where they may be situated. VI. SERVICE OF ORDER AND ASSISTANCE OF UNITED ST A TES MARSHALS SERVICE IT IS FURTHER ORDERED that: 1 7. Copies of thls Order may be served by any means, including facsimile transmission, upon any financial institution or other entity or person that may have 3 For purposes of this Order, the term \"document\" is synonymous in meaning and equal in scope to the broad usage of the tenn in Federal Rule of Civil Procedure 34(a). 6 possession, custody, or control of any documents or assets of any Defendant, or that may be subject to any provision of this Order. 18. Representatives of the CFTC, the United States Marshals Service, the Florida Office of Financial Regulation, and the police departments of Jacksonville and Jacksonville Beach, Florida are specially appointed by the Court to effect service of this Order. 19. The United States Marshals Service, the Florida Office of Financial Regulation, and the police departments of Jacksonville and Jacksonville Beach, Florida, in order to ensure the safety of CFTC representatives, are authorized to accompany and assist the CFTC in the service on Defendants of the summons, complaint, and supporting motions, memoranda, and orders entered with this Order. 20. The CFTC shall immediately file proof of service with the Court once accomplished. VII. PRELIMINARY INJUNCTION HEARING IT IS FURTHER ORDERED that: 21 . This matter is set for a HEARING on Plaintiffs Motion for Preliminary Injunction (Doc. S-4) on Wednesday, January 21, 2015, at 10:00 a.m., before the undersigned at the Bryan Simpson United States Courthouse, 300 North Hogan Street, Jacksonville, Florida, 32202, in Courtroom 1 OB. Counsel for Plaintiff and Defendants shall appear in person and telephonic appearances will not be permitted.4 4 All persons entering the Courthouse must present photo identification to Court Security Officers. Although cell phones, laptop computers, and similar electronic devices generally are not permitted in the building, attorneys may bring those items with them upon presentation to Court Security Officers of a Florida Bar card (presentation of the Duval County Courthouse lawyer identification card will suffice) or Order of special admission pro hac vice. However, all cell phones must be turned off while in the courtroom. 7 22. The following expedited briefing schedule shall govern this case: A. Defendants shall have up to and including 5:00 p.m. on Thursday, January 15, 2015, to file a memorandum in opposition to Plaintiffs Motion for Preliminary Injunction (Doc. S-4), including any affidavits or declarations on which they rely. B. Plaintiff shall have up to and including 11:00 a.m. on Tuesday, January 20, 2015, to file a reply, if necessary, in support of its Motion for Preliminary Injunction, which shall not exceed TEN (10) PAGES in length. 23. The hearing will be conducted in accordance with Local Rule 4.06, United States District Court, Middle District of Florida, and Rule 65, Federal Rules of Civil Procedure. The case does not appear to involve the exceptional situation wherein the Court will allow the parties to submit evidence at the hearing. See Local Rule 4.06(b). Thus, absent further order,5 the hearing will be limited to the written submissions and arguments of counsel. 24. In issuing this Statutory Restraining Order, the Court understands that Defendants have not yet been given an opportunity to be heard and emphasizes that it is not making a final decision on any request for preliminary injunctive relief. However, the Court is persuaded that issuing the Statutory Restraining Order until a full hearing can be held on the CFTC's request for preliminary injunctive relief is the lawful and proper action. 5 McDonald's Com. v. Robertson, 147 F.3d 1301, 1312-13 (I Ith Cir. 1998) (\"[W]here facts are bitterly contested and credibility determinations must be made to decide whether injunctive relief should issue, an evidentiary hearing must be held .... [W]here material facts are not in dispute, or where facts in dispute are not material to the preliminary injunction sought, district courts need not hold an evidentiary hearing.\") In the event either party believes such a hearing is warranted in this action, the party must, after conferring with opposing counsel, file a motion requesting an evidentiary hearing and identifying the factual issues or dispute which necessitate such relief. 8 VIII. FORCE AND EFFECT IT IS FURTHER ORDERED that: 25. Unless earlier dissolved or extended by Order of the Court, the Statutory Restraining Order granted herein shall expire at midnight on January 21, 2015. IT IS SO ORDERED at Jacksonville, Florida on this 7th day of January, 2015, at ~ C<A iAa.llc.b<i ±kv&,, d UNITE D STAT ES DISTRICT JUDGE 9 UNITED STATES DISTRICT COURT MIDDLE DISTRICT OF FLORIDA Jacksonville Division v. Case No. 3:15-cv-5-J-34MCR U.S. COMMODITY FUTURES TRADING COMMISSION, Plaintiff, ALLIED MARKETS LLC, JOSHUA GILLILAND, and CHAWALIT WONGKHIAO, Defendants. ORDER GRANTING PLAINTIFF'S EX PARTE MOTION FOR STATUTORY RESTRAINING ORDER AND SCHEDULING PRELIMINARY fNJUNCTION HEARING THIS CAUSE is before the Court on Plaintiffs Ex Parte Motion for Statutory Restraining Order and Motion for Preliminary Injunction (Doc. S-4; Motion), filed on January 5, 2015. Simultaneously with the Motion, the United States Commodity Futures Trading Commission (Plaintiff or CFTC) filed a Complaint for Injunctive Relief, Civil Monetary Penalty, and Other Equitable Relief (Doc. S-3) against Defendants Allied Markets LLC, Joshua Gilliland, and Chawalit Wongkhiao (collectively, Defendants). In the Motion, the CFTC moves, pursuant to Section 6c(a) of the Commodity Exchange Act (CEA), 7 U.S.C. § 13a-l (a) (2012), for an ex parte statutory restraining order freezing assets and prohibiting the destruction of books, records, or other documents; and for an order requiring Defendants to show cause why a preliminary injunction should not issue. The Court has considered the pleadings, declarations, exhibits, and memorandum filed in support of the CFTC's Motion, and now, being fully advised, finds as follows: 1. The Court possesses jurisdiction over the parties and over the subject matter of this action pursuant to Section 6c of the CEA, 7 U.S.C. § 13a- l (2012). 2. Venue properly lies in this District, pursuant to Section 6c( e) of the CEA, 7 U.S.C. § 13a-l(e) (2012). 3. There is good cause to believe that Defendant Allied Markets LLC (\"Allied Markets\"), by and through its agents, principals and control persons, Defendants Joshua Gilliland and Chawalit Wongkhiao have engaged in, are engaging in, and may continue to engage in violations of Sections 2(c)(2)(C)(iii)(I)(cc), 4b(a)(2)(A) and (C), 4k(2), 4m(l), and 4o(l) of the CEA, 7 U.S.C. §§ 2(c)(2)(C)(iii)(I)(cc), 6b(a)(2)(A), (C), 6k(2), 6m(l), 60(1) (2012); and CFTC Regulations 3. 12, 4.20(a)-(c), 4.4l(a), 5.2(b)(l) and (3), 5.3(a)(2)(i), and 5.3(a)(2)(ii), 17 C.F.R. §§ 3.12, 4.20(a)-(c), 4.4l(a), 5.2(b)(l), (3), 5.3(a)(2)(i), (ii) (2014). 4. The CFTC has presented evidence that, since at least January 2012, Defendants fraudulently solicited more than $1 million from members of the public to participate in a supposed commodity pool purportedly trading leveraged or margined retail off-exchange foreign currency contracts, commonly known as \"forex.\" The CFTC has also presented evidence that Defendants misappropriated pool participants' funds to pay Defendants Gilliland's and Wongkhiao's personal expenses. Additionally, the CFTC has presented evidence that Defendants failed to register with the CFTC as required, failed to segregate customer funds, and failed to operate the commodity pool as a separate entity, and 2 failed to accurately report or disclose the performance of the relevant investments, as required by the CEA and CFTC Regulations. 5. There is good cause to believe that immediate and irreparable damage to the Court's ability to grant effective final relief in the form of monetary redress will occur from the sale, transfer, assignment, or other disposition by Defendants of assets or records unless Defendants are immediately restrained and enjoined by order of this Court; 6. There is good cause for entry of an order freezing assets owned, controlled, managed, or held by or on behalf of, or for the benefit of, Defendants. 7. There is good cause for entry of an order prohibiting Defendants, their agents, servants, employees, assigns, attorneys, and persons in active concert or participation with Defendants, including any successor thereof, from destroying records and/or denying agents of the CFTC immediate and complete access to Defendants' books and records for inspection and copying. 8. Absent the entry of this order, Defendants would have the ability to dissipate or transfer assets and destroy books and records. 9. An ex parte statutory restraining order is warranted here to preserve the status quo, protect customers from loss and damage, and enable the CFTC to fulfill its statutory duties. Accordingly, it is ORDERED: 10. Plaintiff's Ex Parte Motion for Statutory Restraining Order and Motion for Preliminary Injunction (Doc. S-4) is GRANTED, in part, and TAKEN UNDER ADVISEMENT, in part. 3 A. To the extent the CFTC requests an ex parte statutory restraining order, the Motion is GRANTED as set forth below. B. To the extent the CFTC requests the entry of a preliminary injunction, the Motion is TAKEN UNDER ADVISEMENT. RELIEF GRANTED I. ASSET 1 FREEZE IT IS HEREBY ORDERED that: 11. Defendants2 and their agents, servants, employees, assigns, attorneys, including any successor thereof, and persons in active concert or participation with them, who receive actual notice of this Order by personal service or otherwise, are immediately restrained and enj oined from directly or indirectly transferring, selling, alienating, liquidating, encumbering, pledging, leasing, loaning, assigning, concealing, dissipating, converting, withdrawing, or otherwise disposing of any assets, wherever located, including Defendants' assets held outside the United States, except as otherwise ordered by the Court. 1 For the purposes of this Order, the term ''Assets\" means any legal or equitable interest in, right to, or c laim to, any real or personal property, whether individually or jointly, directly or indirectly controlled, and wherever located, including, but not limited to: chattels, goods, instruments, equipment, fixtures, general intangibles, effects, leaseholds mail or other deliveries, inventory, checks, notes, accounts (including, but not limited to, bank accounts and accounts at other financial institutions), credits, receivables, lines of credit, contracts (including spot, futures, options, or swaps contracts), insurance policies, and all cash, wherever located, whether within or outside the United States. 2 For purposes of this Order, the term \" Defendants\" refers to Allied Markets LLC, Joshua Gilliland, and Chawalit Wongkhiao, and any person insofar as he or she is acting in the capacity of an officer, agent servant, employee, or attorney of Defendants and any person who receives actual notice of this Order by personal service or otherwise insofar as he or she is acting in concert or participation with Defendants. \" Defendants\" also refers to any d/b/a, successor, affiliate, subsidiary, or other entity owned, controlled, managed, or held by, on behalf of, or for the benefit of Allied Markets, Joshua Gilliland, or Chawalit Wongkhiao. 4 12. This Order shall apply to any assets derived from or otherwise related to the activities alleged in the CFTC's complaint, regardless of when the asset is obtained. However, the assets affected by this Order shall not include assets obtained after the effective date of this Order, to the extent such assets are not derived from or otherwise related to the activities alleged in the CFTC's complaint. II. NOTICE TO FINANCIAL INSTUTIONS AND OTHERS 13. Any financial or brokerage institution, business entity, or person that holds, controls, or maintains custody of any account or asset titled in the name of, held for the benefit of, or otherwise under the control of any Defendant, or has held, controlled, or maintained custody of any such account or asset of any Defendant at any time since January 1, 2012 are hereby notified that this Order prohibits any Defendant and all other persons from withdrawing, removing, assigning, transferring, pledging, encumbering, disbursing, dissipating, converting, selling or otherwise disposing of Defendants' assets, except as directed by further order of the Court; provided, however, nothing in this Order shall limit the discretion of any compliance official of any retail foreign exchange dealer or futures commission merchant with which Defendants maintain an account to liquidate, or close out, any and all open positions in Defendants' account, in a prompt and orderly fashion in order to avoid losse.s due to the asset freeze required by this Order. III. MAINTENANCE OF AND ACCESS TO BUSINESS RECORDS IT IS FURTHER ORDERED that: 14. Defendants and all persons or entities who receive notice of this Order by personal service or otherwise, are restrained from directly or indirectly destroying, 5 mutilating, erasing, altering, concealing or disposing of, in any manner, directly or indirectly, any documents3 that relate to the business practices or business or personal finances of any Defendant. IV. BOND NOT REQUIRED OF PLAINTIFF IT IS FURTHER ORDERED that: 15. Because Plaintiff CFTC is an agency of the United States of America and has made a proper showing under Section 6c(b) of the CEA, 7 U.S.C. § 13a-1(b) (2012), this restraining order is granted without bond. V. INSPECTION AND COPYING OF BOOKS AND RECORDS IT IS FURTHER ORDERED that: 16. Defendants shall immediately allow representatives of the CFTC to inspect the books, records, and other documents of Defendants and their agents including, but not limited to, paper documents, electronically stored information, tape recordings, and computer discs, wherever they may be situated and whether they are in the possession of Defendants or others, and to copy said documents, data and records, either on or off the premises where they may be situated. VI. SERVICE OF ORDER AND ASSISTANCE OF UNITED ST A TES MARSHALS SERVICE IT IS FURTHER ORDERED that: 1 7. Copies of thls Order may be served by any means, including facsimile transmission, upon any financial institution or other entity or person that may have 3 For purposes of this Order, the term \"document\" is synonymous in meaning and equal in scope to the broad usage of the tenn in Federal Rule of Civil Procedure 34(a). 6 possession, custody, or control of any documents or assets of any Defendant, or that may be subject to any provision of this Order. 18. Representatives of the CFTC, the United States Marshals Service, the Florida Office of Financial Regulation, and the police departments of Jacksonville and Jacksonville Beach, Florida are specially appointed by the Court to effect service of this Order. 19. The United States Marshals Service, the Florida Office of Financial Regulation, and the police departments of Jacksonville and Jacksonville Beach, Florida, in order to ensure the safety of CFTC representatives, are authorized to accompany and assist the CFTC in the service on Defendants of the summons, complaint, and supporting motions, memoranda, and orders entered with this Order. 20. The CFTC shall immediately file proof of service with the Court once accomplished. VII. PRELIMINARY INJUNCTION HEARING IT IS FURTHER ORDERED that: 21 . This matter is set for a HEARING on Plaintiffs Motion for Preliminary Injunction (Doc. S-4) on Wednesday, January 21, 2015, at 10:00 a.m., before the undersigned at the Bryan Simpson United States Courthouse, 300 North Hogan Street, Jacksonville, Florida, 32202, in Courtroom 1 OB. Counsel for Plaintiff and Defendants shall appear in person and telephonic appearances will not be permitted.4 4 All persons entering the Courthouse must present photo identification to Court Security Officers. Although cell phones, laptop computers, and similar electronic devices generally are not permitted in the building, attorneys may bring those items with them upon presentation to Court Security Officers of a Florida Bar card (presentation of the Duval County Courthouse lawyer identification card will suffice) or Order of special admission pro hac vice. However, all cell phones must be turned off while in the courtroom. 7 22. The following expedited briefing schedule shall govern this case: A. Defendants shall have up to and including 5:00 p.m. on Thursday, January 15, 2015, to file a memorandum in opposition to Plaintiffs Motion for Preliminary Injunction (Doc. S-4), including any affidavits or declarations on which they rely. B. Plaintiff shall have up to and including 11:00 a.m. on Tuesday, January 20, 2015, to file a reply, if necessary, in support of its Motion for Preliminary Injunction, which shall not exceed TEN (10) PAGES in length. 23. The hearing will be conducted in accordance with Local Rule 4.06, United States District Court, Middle District of Florida, and Rule 65, Federal Rules of Civil Procedure. The case does not appear to involve the exceptional situation wherein the Court will allow the parties to submit evidence at the hearing. See Local Rule 4.06(b). Thus, absent further order,5 the hearing will be limited to the written submissions and arguments of counsel. 24. In issuing this Statutory Restraining Order, the Court understands that Defendants have not yet been given an opportunity to be heard and emphasizes that it is not making a final decision on any request for preliminary injunctive relief. However, the Court is persuaded that issuing the Statutory Restraining Order until a full hearing can be held on the CFTC's request for preliminary injunctive relief is the lawful and proper action. 5 McDonald's Com. v. Robertson, 147 F.3d 1301, 1312-13 (I Ith Cir. 1998) (\"[W]here facts are bitterly contested and credibility determinations must be made to decide whether injunctive relief should issue, an evidentiary hearing must be held .... [W]here material facts are not in dispute, or where facts in dispute are not material to the preliminary injunction sought, district courts need not hold an evidentiary hearing.\") In the event either party believes such a hearing is warranted in this action, the party must, after conferring with opposing counsel, file a motion requesting an evidentiary hearing and identifying the factual issues or dispute which necessitate such relief. 8 VIII. FORCE AND EFFECT IT IS FURTHER ORDERED that: 25. Unless earlier dissolved or extended by Order of the Court, the Statutory Restraining Order granted herein shall expire at midnight on January 21, 2015. IT IS SO ORDERED at Jacksonville, Florida on this 7th day of January, 2015, at ~ C<A iAa.llc.b<i ±kv&,, d UNITE D STAT ES DISTRICT JUDGE 9 UNITED STATES DISTRICT COURT MIDDLE DISTRICT OF FLORIDA Jacksonville Division v. Case No. 3:15-cv-5-J-34MCR U.S. COMMODITY FUTURES TRADING COMMISSION, Plaintiff, ALLIED MARKETS LLC, JOSHUA GILLILAND, and CHAWALIT WONGKHIAO, Defendants. ORDER GRANTING PLAINTIFF'S EX PARTE MOTION FOR STATUTORY RESTRAINING ORDER AND SCHEDULING PRELIMINARY fNJUNCTION HEARING THIS CAUSE is before the Court on Plaintiffs Ex Parte Motion for Statutory Restraining Order and Motion for Preliminary Injunction (Doc. S-4; Motion), filed on January 5, 2015. Simultaneously with the Motion, the United States Commodity Futures Trading Commission (Plaintiff or CFTC) filed a Complaint for Injunctive Relief, Civil Monetary Penalty, and Other Equitable Relief (Doc. S-3) against Defendants Allied Markets LLC, Joshua Gilliland, and Chawalit Wongkhiao (collectively, Defendants). In the Motion, the CFTC moves, pursuant to Section 6c(a) of the Commodity Exchange Act (CEA), 7 U.S.C. § 13a-l (a) (2012), for an ex parte statutory restraining order freezing assets and prohibiting the destruction of books, records, or other documents; and for an order requiring Defendants to show cause why a preliminary injunction should not issue. The Court has considered the pleadings, declarations, exhibits, and memorandum filed in support of the CFTC's Motion, and now, being fully advised, finds as follows: 1. The Court possesses jurisdiction over the parties and over the subject matter of this action pursuant to Section 6c of the CEA, 7 U.S.C. § 13a- l (2012). 2. Venue properly lies in this District, pursuant to Section 6c( e) of the CEA, 7 U.S.C. § 13a-l(e) (2012). 3. There is good cause to believe that Defendant Allied Markets LLC (\"Allied Markets\"), by and through its agents, principals and control persons, Defendants Joshua Gilliland and Chawalit Wongkhiao have engaged in, are engaging in, and may continue to engage in violations of Sections 2(c)(2)(C)(iii)(I)(cc), 4b(a)(2)(A) and (C), 4k(2), 4m(l), and 4o(l) of the CEA, 7 U.S.C. §§ 2(c)(2)(C)(iii)(I)(cc), 6b(a)(2)(A), (C), 6k(2), 6m(l), 60(1) (2012); and CFTC Regulations 3. 12, 4.20(a)-(c), 4.4l(a), 5.2(b)(l) and (3), 5.3(a)(2)(i), and 5.3(a)(2)(ii), 17 C.F.R. §§ 3.12, 4.20(a)-(c), 4.4l(a), 5.2(b)(l), (3), 5.3(a)(2)(i), (ii) (2014). 4. The CFTC has presented evidence that, since at least January 2012, Defendants fraudulently solicited more than $1 million from members of the public to participate in a supposed commodity pool purportedly trading leveraged or margined retail off-exchange foreign currency contracts, commonly known as \"forex.\" The CFTC has also presented evidence that Defendants misappropriated pool participants' funds to pay Defendants Gilliland's and Wongkhiao's personal expenses. Additionally, the CFTC has presented evidence that Defendants failed to register with the CFTC as required, failed to segregate customer funds, and failed to operate the commodity pool as a separate entity, and 2 failed to accurately report or disclose the performance of the relevant investments, as required by the CEA and CFTC Regulations. 5. There is good cause to believe that immediate and irreparable damage to the Court's ability to grant effective final relief in the form of monetary redress will occur from the sale, transfer, assignment, or other disposition by Defendants of assets or records unless Defendants are immediately restrained and enjoined by order of this Court; 6. There is good cause for entry of an order freezing assets owned, controlled, managed, or held by or on behalf of, or for the benefit of, Defendants. 7. There is good cause for entry of an order prohibiting Defendants, their agents, servants, employees, assigns, attorneys, and persons in active concert or participation with Defendants, including any successor thereof, from destroying records and/or denying agents of the CFTC immediate and complete access to Defendants' books and records for inspection and copying. 8. Absent the entry of this order, Defendants would have the ability to dissipate or transfer assets and destroy books and records. 9. An ex parte statutory restraining order is warranted here to preserve the status quo, protect customers from loss and damage, and enable the CFTC to fulfill its statutory duties. Accordingly, it is ORDERED: 10. Plaintiff's Ex Parte Motion for Statutory Restraining Order and Motion for Preliminary Injunction (Doc. S-4) is GRANTED, in part, and TAKEN UNDER ADVISEMENT, in part. 3 A. To the extent the CFTC requests an ex parte statutory restraining order, the Motion is GRANTED as set forth below. B. To the extent the CFTC requests the entry of a preliminary injunction, the Motion is TAKEN UNDER ADVISEMENT. RELIEF GRANTED I. ASSET 1 FREEZE IT IS HEREBY ORDERED that: 11. Defendants2 and their agents, servants, employees, assigns, attorneys, including any successor thereof, and persons in active concert or participation with them, who receive actual notice of this Order by personal service or otherwise, are immediately restrained and enj oined from directly or indirectly transferring, selling, alienating, liquidating, encumbering, pledging, leasing, loaning, assigning, concealing, dissipating, converting, withdrawing, or otherwise disposing of any assets, wherever located, including Defendants' assets held outside the United States, except as otherwise ordered by the Court. 1 For the purposes of this Order, the term ''Assets\" means any legal or equitable interest in, right to, or c laim to, any real or personal property, whether individually or jointly, directly or indirectly controlled, and wherever located, including, but not limited to: chattels, goods, instruments, equipment, fixtures, general intangibles, effects, leaseholds mail or other deliveries, inventory, checks, notes, accounts (including, but not limited to, bank accounts and accounts at other financial institutions), credits, receivables, lines of credit, contracts (including spot, futures, options, or swaps contracts), insurance policies, and all cash, wherever located, whether within or outside the United States. 2 For purposes of this Order, the term \" Defendants\" refers to Allied Markets LLC, Joshua Gilliland, and Chawalit Wongkhiao, and any person insofar as he or she is acting in the capacity of an officer, agent servant, employee, or attorney of Defendants and any person who receives actual notice of this Order by personal service or otherwise insofar as he or she is acting in concert or participation with Defendants. \" Defendants\" also refers to any d/b/a, successor, affiliate, subsidiary, or other entity owned, controlled, managed, or held by, on behalf of, or for the benefit of Allied Markets, Joshua Gilliland, or Chawalit Wongkhiao. 4 12. This Order shall apply to any assets derived from or otherwise related to the activities alleged in the CFTC's complaint, regardless of when the asset is obtained. However, the assets affected by this Order shall not include assets obtained after the effective date of this Order, to the extent such assets are not derived from or otherwise related to the activities alleged in the CFTC's complaint. II. NOTICE TO FINANCIAL INSTUTIONS AND OTHERS 13. Any financial or brokerage institution, business entity, or person that holds, controls, or maintains custody of any account or asset titled in the name of, held for the benefit of, or otherwise under the control of any Defendant, or has held, controlled, or maintained custody of any such account or asset of any Defendant at any time since January 1, 2012 are hereby notified that this Order prohibits any Defendant and all other persons from withdrawing, removing, assigning, transferring, pledging, encumbering, disbursing, dissipating, converting, selling or otherwise disposing of Defendants' assets, except as directed by further order of the Court; provided, however, nothing in this Order shall limit the discretion of any compliance official of any retail foreign exchange dealer or futures commission merchant with which Defendants maintain an account to liquidate, or close out, any and all open positions in Defendants' account, in a prompt and orderly fashion in order to avoid losse.s due to the asset freeze required by this Order. III. MAINTENANCE OF AND ACCESS TO BUSINESS RECORDS IT IS FURTHER ORDERED that: 14. Defendants and all persons or entities who receive notice of this Order by personal service or otherwise, are restrained from directly or indirectly destroying, 5 mutilating, erasing, altering, concealing or disposing of, in any manner, directly or indirectly, any documents3 that relate to the business practices or business or personal finances of any Defendant. IV. BOND NOT REQUIRED OF PLAINTIFF IT IS FURTHER ORDERED that: 15. Because Plaintiff CFTC is an agency of the United States of America and has made a proper showing under Section 6c(b) of the CEA, 7 U.S.C. § 13a-1(b) (2012), this restraining order is granted without bond. V. INSPECTION AND COPYING OF BOOKS AND RECORDS IT IS FURTHER ORDERED that: 16. Defendants shall immediately allow representatives of the CFTC to inspect the books, records, and other documents of Defendants and their agents including, but not limited to, paper documents, electronically stored information, tape recordings, and computer discs, wherever they may be situated and whether they are in the possession of Defendants or others, and to copy said documents, data and records, either on or off the premises where they may be situated. VI. SERVICE OF ORDER AND ASSISTANCE OF UNITED ST A TES MARSHALS SERVICE IT IS FURTHER ORDERED that: 1 7. Copies of thls Order may be served by any means, including facsimile transmission, upon any financial institution or other entity or person that may have 3 For purposes of this Order, the term \"document\" is synonymous in meaning and equal in scope to the broad usage of the tenn in Federal Rule of Civil Procedure 34(a). 6 possession, custody, or control of any documents or assets of any Defendant, or that may be subject to any provision of this Order. 18. Representatives of the CFTC, the United States Marshals Service, the Florida Office of Financial Regulation, and the police departments of Jacksonville and Jacksonville Beach, Florida are specially appointed by the Court to effect service of this Order. 19. The United States Marshals Service, the Florida Office of Financial Regulation, and the police departments of Jacksonville and Jacksonville Beach, Florida, in order to ensure the safety of CFTC representatives, are authorized to accompany and assist the CFTC in the service on Defendants of the summons, complaint, and supporting motions, memoranda, and orders entered with this Order. 20. The CFTC shall immediately file proof of service with the Court once accomplished. VII. PRELIMINARY INJUNCTION HEARING IT IS FURTHER ORDERED that: 21 . This matter is set for a HEARING on Plaintiffs Motion for Preliminary Injunction (Doc. S-4) on Wednesday, January 21, 2015, at 10:00 a.m., before the undersigned at the Bryan Simpson United States Courthouse, 300 North Hogan Street, Jacksonville, Florida, 32202, in Courtroom 1 OB. Counsel for Plaintiff and Defendants shall appear in person and telephonic appearances will not be permitted.4 4 All persons entering the Courthouse must present photo identification to Court Security Officers. Although cell phones, laptop computers, and similar electronic devices generally are not permitted in the building, attorneys may bring those items with them upon presentation to Court Security Officers of a Florida Bar card (presentation of the Duval County Courthouse lawyer identification card will suffice) or Order of special admission pro hac vice. However, all cell phones must be turned off while in the courtroom. 7 22. The following expedited briefing schedule shall govern this case: A. Defendants shall have up to and including 5:00 p.m. on Thursday, January 15, 2015, to file a memorandum in opposition to Plaintiffs Motion for Preliminary Injunction (Doc. S-4), including any affidavits or declarations on which they rely. B. Plaintiff shall have up to and including 11:00 a.m. on Tuesday, January 20, 2015, to file a reply, if necessary, in support of its Motion for Preliminary Injunction, which shall not exceed TEN (10) PAGES in length. 23. The hearing will be conducted in accordance with Local Rule 4.06, United States District Court, Middle District of Florida, and Rule 65, Federal Rules of Civil Procedure. The case does not appear to involve the exceptional situation wherein the Court will allow the parties to submit evidence at the hearing. See Local Rule 4.06(b). Thus, absent further order,5 the hearing will be limited to the written submissions and arguments of counsel. 24. In issuing this Statutory Restraining Order, the Court understands that Defendants have not yet been given an opportunity to be heard and emphasizes that it is not making a final decision on any request for preliminary injunctive relief. However, the Court is persuaded that issuing the Statutory Restraining Order until a full hearing can be held on the CFTC's request for preliminary injunctive relief is the lawful and proper action. 5 McDonald's Com. v. Robertson, 147 F.3d 1301, 1312-13 (I Ith Cir. 1998) (\"[W]here facts are bitterly contested and credibility determinations must be made to decide whether injunctive relief should issue, an evidentiary hearing must be held .... [W]here material facts are not in dispute, or where facts in dispute are not material to the preliminary injunction sought, district courts need not hold an evidentiary hearing.\") In the event either party believes such a hearing is warranted in this action, the party must, after conferring with opposing counsel, file a motion requesting an evidentiary hearing and identifying the factual issues or dispute which necessitate such relief. 8 VIII. FORCE AND EFFECT IT IS FURTHER ORDERED that: 25. Unless earlier dissolved or extended by Order of the Court, the Statutory Restraining Order granted herein shall expire at midnight on January 21, 2015. IT IS SO ORDERED at Jacksonville, Florida on this 7th day of January, 2015, at ~ C<A iAa.llc.b<i ±kv&,, d UNITE D STAT ES DISTRICT JUDGE 9 \n",
            "491\n"
          ],
          "name": "stdout"
        }
      ]
    },
    {
      "cell_type": "code",
      "metadata": {
        "id": "kOhMdLEwETrF"
      },
      "source": [
        "def get_section_indx(list_token):\n",
        "    idx=[]\n",
        "    for i in range(len(list_token)):\n",
        "        if is_title(list_token[i]):\n",
        "            idx.append(i)\n",
        "            \n",
        "    return idx\n",
        "\n",
        "def get_structure(text):     \n",
        "    list_token=get_token(text)\n",
        "    idx=get_section_indx(list_token)\n",
        "    j=0\n",
        "    structure=[]\n",
        "    k=0\n",
        "    for i in idx:\n",
        "        section={}\n",
        "        section['content']=list_token[j:i+1]\n",
        "        section['header']=list_token[i]\n",
        "        section['id']=k\n",
        "        structure.append(section)\n",
        "        j=i+1\n",
        "        k=k+1\n",
        "        \n",
        "    return structure"
      ],
      "execution_count": 39,
      "outputs": []
    },
    {
      "cell_type": "code",
      "metadata": {
        "colab": {
          "base_uri": "https://localhost:8080/"
        },
        "id": "kwP38Yp_ETve",
        "outputId": "a85cc34b-4d32-4354-a55e-0896a1504f0c"
      },
      "source": [
        "section=get_structure(data)\n",
        "section"
      ],
      "execution_count": 40,
      "outputs": [
        {
          "output_type": "execute_result",
          "data": {
            "text/plain": [
              "[{'content': ['UNITED STATES DISTRICT COURT MIDDLE DISTRICT OF FLORIDA Jacksonville Division v. Case No.'],\n",
              "  'header': 'UNITED STATES DISTRICT COURT MIDDLE DISTRICT OF FLORIDA Jacksonville Division v. Case No.',\n",
              "  'id': 0},\n",
              " {'content': ['3:15-cv-5-J-34MCR U.S. COMMODITY FUTURES TRADING COMMISSION, Plaintiff, ALLIED MARKETS LLC, JOSHUA GILLILAND, and CHAWALIT WONGKHIAO, Defendants.'],\n",
              "  'header': '3:15-cv-5-J-34MCR U.S. COMMODITY FUTURES TRADING COMMISSION, Plaintiff, ALLIED MARKETS LLC, JOSHUA GILLILAND, and CHAWALIT WONGKHIAO, Defendants.',\n",
              "  'id': 1},\n",
              " {'content': [\"ORDER GRANTING PLAINTIFF'S EX PARTE MOTION FOR STATUTORY RESTRAINING ORDER AND SCHEDULING PRELIMINARY fNJUNCTION HEARING THIS CAUSE is before the Court on Plaintiffs Ex Parte Motion for Statutory Restraining Order and Motion for Preliminary Injunction (Doc.\",\n",
              "   'S-4; Motion), filed on January 5, 2015.',\n",
              "   'Simultaneously with the Motion, the United States Commodity Futures Trading Commission (Plaintiff or CFTC) filed a Complaint for Injunctive Relief, Civil Monetary Penalty, and Other Equitable Relief (Doc.',\n",
              "   'S-3) against Defendants Allied Markets LLC, Joshua Gilliland, and Chawalit Wongkhiao (collectively, Defendants).',\n",
              "   'In the Motion, the CFTC moves, pursuant to Section 6c(a) of the Commodity Exchange Act (CEA), 7 U.S.C.',\n",
              "   '§ 13a-l (a) (2012), for an ex parte statutory restraining order freezing assets and prohibiting the destruction of books, records, or other documents; and for an order requiring Defendants to show cause why a preliminary injunction should not issue.',\n",
              "   \"The Court has considered the pleadings, declarations, exhibits, and memorandum filed in support of the CFTC's Motion, and now, being fully advised, finds as follows: 1.\",\n",
              "   'The Court possesses jurisdiction over the parties and over the subject matter of this action pursuant to Section 6c of the CEA, 7 U.S.C.',\n",
              "   '§ 13a- l (2012).',\n",
              "   '2.',\n",
              "   'Venue properly lies in this District, pursuant to Section 6c( e) of the CEA, 7 U.S.C.',\n",
              "   '§ 13a-l(e) (2012).',\n",
              "   '3.',\n",
              "   'There is good cause to believe that Defendant Allied Markets LLC (\"Allied Markets\"), by and through its agents, principals and control persons, Defendants Joshua Gilliland and Chawalit Wongkhiao have engaged in, are engaging in, and may continue to engage in violations of Sections 2(c)(2)(C)(iii)(I)(cc), 4b(a)(2)(A) and (C), 4k(2), 4m(l), and 4o(l) of the CEA, 7 U.S.C.',\n",
              "   '§§ 2(c)(2)(C)(iii)(I)(cc), 6b(a)(2)(A), (C), 6k(2), 6m(l), 60(1) (2012); and CFTC Regulations 3.',\n",
              "   '12, 4.20(a)-(c), 4.4l(a), 5.2(b)(l) and (3), 5.3(a)(2)(i), and 5.3(a)(2)(ii), 17 C.F.R.',\n",
              "   '§§ 3.12, 4.20(a)-(c), 4.4l(a), 5.2(b)(l), (3), 5.3(a)(2)(i), (ii) (2014).',\n",
              "   '4.',\n",
              "   'The CFTC has presented evidence that, since at least January 2012, Defendants fraudulently solicited more than $1 million from members of the public to participate in a supposed commodity pool purportedly trading leveraged or margined retail off-exchange foreign currency contracts, commonly known as \"forex.\"',\n",
              "   \"The CFTC has also presented evidence that Defendants misappropriated pool participants' funds to pay Defendants Gilliland's and Wongkhiao's personal expenses.\",\n",
              "   'Additionally, the CFTC has presented evidence that Defendants failed to register with the CFTC as required, failed to segregate customer funds, and failed to operate the commodity pool as a separate entity, and 2 failed to accurately report or disclose the performance of the relevant investments, as required by the CEA and CFTC Regulations.',\n",
              "   '5.',\n",
              "   \"There is good cause to believe that immediate and irreparable damage to the Court's ability to grant effective final relief in the form of monetary redress will occur from the sale, transfer, assignment, or other disposition by Defendants of assets or records unless Defendants are immediately restrained and enjoined by order of this Court; 6.\",\n",
              "   'There is good cause for entry of an order freezing assets owned, controlled, managed, or held by or on behalf of, or for the benefit of, Defendants.',\n",
              "   '7.',\n",
              "   \"There is good cause for entry of an order prohibiting Defendants, their agents, servants, employees, assigns, attorneys, and persons in active concert or participation with Defendants, including any successor thereof, from destroying records and/or denying agents of the CFTC immediate and complete access to Defendants' books and records for inspection and copying.\",\n",
              "   '8.',\n",
              "   'Absent the entry of this order, Defendants would have the ability to dissipate or transfer assets and destroy books and records.',\n",
              "   '9.',\n",
              "   'An ex parte statutory restraining order is warranted here to preserve the status quo, protect customers from loss and damage, and enable the CFTC to fulfill its statutory duties.',\n",
              "   'Accordingly, it is ORDERED: 10.',\n",
              "   \"Plaintiff's Ex Parte Motion for Statutory Restraining Order and Motion for Preliminary Injunction (Doc.\",\n",
              "   'S-4) is GRANTED, in part, and TAKEN UNDER ADVISEMENT, in part.',\n",
              "   '3 A.',\n",
              "   'To the extent the CFTC requests an ex parte statutory restraining order, the Motion is GRANTED as set forth below.',\n",
              "   'B.'],\n",
              "  'header': 'B.',\n",
              "  'id': 2},\n",
              " {'content': ['To the extent the CFTC requests the entry of a preliminary injunction, the Motion is TAKEN UNDER ADVISEMENT.',\n",
              "   'RELIEF GRANTED I.'],\n",
              "  'header': 'RELIEF GRANTED I.',\n",
              "  'id': 3},\n",
              " {'content': ['ASSET 1 FREEZE IT IS HEREBY ORDERED that: 11.'],\n",
              "  'header': 'ASSET 1 FREEZE IT IS HEREBY ORDERED that: 11.',\n",
              "  'id': 4},\n",
              " {'content': [\"Defendants2 and their agents, servants, employees, assigns, attorneys, including any successor thereof, and persons in active concert or participation with them, who receive actual notice of this Order by personal service or otherwise, are immediately restrained and enj oined from directly or indirectly transferring, selling, alienating, liquidating, encumbering, pledging, leasing, loaning, assigning, concealing, dissipating, converting, withdrawing, or otherwise disposing of any assets, wherever located, including Defendants' assets held outside the United States, except as otherwise ordered by the Court.\",\n",
              "   '1 For the purposes of this Order, the term \\'\\'Assets\" means any legal or equitable interest in, right to, or c laim to, any real or personal property, whether individually or jointly, directly or indirectly controlled, and wherever located, including, but not limited to: chattels, goods, instruments, equipment, fixtures, general intangibles, effects, leaseholds mail or other deliveries, inventory, checks, notes, accounts (including, but not limited to, bank accounts and accounts at other financial institutions), credits, receivables, lines of credit, contracts (including spot, futures, options, or swaps contracts), insurance policies, and all cash, wherever located, whether within or outside the United States.',\n",
              "   '2 For purposes of this Order, the term \" Defendants\" refers to Allied Markets LLC, Joshua Gilliland, and Chawalit Wongkhiao, and any person insofar as he or she is acting in the capacity of an officer, agent servant, employee, or attorney of Defendants and any person who receives actual notice of this Order by personal service or otherwise insofar as he or she is acting in concert or participation with Defendants. \"',\n",
              "   'Defendants\" also refers to any d/b/a, successor, affiliate, subsidiary, or other entity owned, controlled, managed, or held by, on behalf of, or for the benefit of Allied Markets, Joshua Gilliland, or Chawalit Wongkhiao.',\n",
              "   '4 12.',\n",
              "   \"This Order shall apply to any assets derived from or otherwise related to the activities alleged in the CFTC's complaint, regardless of when the asset is obtained.\",\n",
              "   \"However, the assets affected by this Order shall not include assets obtained after the effective date of this Order, to the extent such assets are not derived from or otherwise related to the activities alleged in the CFTC's complaint.\",\n",
              "   'II.'],\n",
              "  'header': 'II.',\n",
              "  'id': 5},\n",
              " {'content': ['NOTICE TO FINANCIAL INSTUTIONS AND OTHERS 13.'],\n",
              "  'header': 'NOTICE TO FINANCIAL INSTUTIONS AND OTHERS 13.',\n",
              "  'id': 6},\n",
              " {'content': [\"Any financial or brokerage institution, business entity, or person that holds, controls, or maintains custody of any account or asset titled in the name of, held for the benefit of, or otherwise under the control of any Defendant, or has held, controlled, or maintained custody of any such account or asset of any Defendant at any time since January 1, 2012 are hereby notified that this Order prohibits any Defendant and all other persons from withdrawing, removing, assigning, transferring, pledging, encumbering, disbursing, dissipating, converting, selling or otherwise disposing of Defendants' assets, except as directed by further order of the Court; provided, however, nothing in this Order shall limit the discretion of any compliance official of any retail foreign exchange dealer or futures commission merchant with which Defendants maintain an account to liquidate, or close out, any and all open positions in Defendants' account, in a prompt and orderly fashion in order to avoid losse.s due to the asset freeze required by this Order.\",\n",
              "   'III.'],\n",
              "  'header': 'III.',\n",
              "  'id': 7},\n",
              " {'content': ['MAINTENANCE OF AND ACCESS TO BUSINESS RECORDS IT IS FURTHER ORDERED that: 14.'],\n",
              "  'header': 'MAINTENANCE OF AND ACCESS TO BUSINESS RECORDS IT IS FURTHER ORDERED that: 14.',\n",
              "  'id': 8},\n",
              " {'content': ['Defendants and all persons or entities who receive notice of this Order by personal service or otherwise, are restrained from directly or indirectly destroying, 5 mutilating, erasing, altering, concealing or disposing of, in any manner, directly or indirectly, any documents3 that relate to the business practices or business or personal finances of any Defendant.',\n",
              "   'IV.'],\n",
              "  'header': 'IV.',\n",
              "  'id': 9},\n",
              " {'content': ['BOND NOT REQUIRED OF PLAINTIFF IT IS FURTHER ORDERED that: 15.'],\n",
              "  'header': 'BOND NOT REQUIRED OF PLAINTIFF IT IS FURTHER ORDERED that: 15.',\n",
              "  'id': 10},\n",
              " {'content': ['Because Plaintiff CFTC is an agency of the United States of America and has made a proper showing under Section 6c(b) of the CEA, 7 U.S.C.',\n",
              "   '§ 13a-1(b) (2012), this restraining order is granted without bond.',\n",
              "   'V. INSPECTION AND COPYING OF BOOKS AND RECORDS IT IS FURTHER ORDERED that: 16.'],\n",
              "  'header': 'V. INSPECTION AND COPYING OF BOOKS AND RECORDS IT IS FURTHER ORDERED that: 16.',\n",
              "  'id': 11},\n",
              " {'content': ['Defendants shall immediately allow representatives of the CFTC to inspect the books, records, and other documents of Defendants and their agents including, but not limited to, paper documents, electronically stored information, tape recordings, and computer discs, wherever they may be situated and whether they are in the possession of Defendants or others, and to copy said documents, data and records, either on or off the premises where they may be situated.',\n",
              "   'VI.'],\n",
              "  'header': 'VI.',\n",
              "  'id': 12},\n",
              " {'content': ['SERVICE OF ORDER AND ASSISTANCE OF UNITED ST A TES MARSHALS SERVICE IT IS FURTHER ORDERED that: 1 7.'],\n",
              "  'header': 'SERVICE OF ORDER AND ASSISTANCE OF UNITED ST A TES MARSHALS SERVICE IT IS FURTHER ORDERED that: 1 7.',\n",
              "  'id': 13},\n",
              " {'content': ['Copies of thls Order may be served by any means, including facsimile transmission, upon any financial institution or other entity or person that may have 3 For purposes of this Order, the term \"document\" is synonymous in meaning and equal in scope to the broad usage of the tenn in Federal Rule of Civil Procedure 34(a).',\n",
              "   '6 possession, custody, or control of any documents or assets of any Defendant, or that may be subject to any provision of this Order.',\n",
              "   '18.',\n",
              "   'Representatives of the CFTC, the United States Marshals Service, the Florida Office of Financial Regulation, and the police departments of Jacksonville and Jacksonville Beach, Florida are specially appointed by the Court to effect service of this Order.',\n",
              "   '19.',\n",
              "   'The United States Marshals Service, the Florida Office of Financial Regulation, and the police departments of Jacksonville and Jacksonville Beach, Florida, in order to ensure the safety of CFTC representatives, are authorized to accompany and assist the CFTC in the service on Defendants of the summons, complaint, and supporting motions, memoranda, and orders entered with this Order.',\n",
              "   '20.',\n",
              "   'The CFTC shall immediately file proof of service with the Court once accomplished.',\n",
              "   'VII.'],\n",
              "  'header': 'VII.',\n",
              "  'id': 14},\n",
              " {'content': ['PRELIMINARY INJUNCTION HEARING IT IS FURTHER ORDERED that: 21 .'],\n",
              "  'header': 'PRELIMINARY INJUNCTION HEARING IT IS FURTHER ORDERED that: 21 .',\n",
              "  'id': 15},\n",
              " {'content': ['This matter is set for a HEARING on Plaintiffs Motion for Preliminary Injunction (Doc.',\n",
              "   'S-4) on Wednesday, January 21, 2015, at 10:00 a.m., before the undersigned at the Bryan Simpson United States Courthouse, 300 North Hogan Street, Jacksonville, Florida, 32202, in Courtroom 1 OB.',\n",
              "   'Counsel for Plaintiff and Defendants shall appear in person and telephonic appearances will not be permitted.4 4 All persons entering the Courthouse must present photo identification to Court Security Officers.',\n",
              "   'Although cell phones, laptop computers, and similar electronic devices generally are not permitted in the building, attorneys may bring those items with them upon presentation to Court Security Officers of a Florida Bar card (presentation of the Duval County Courthouse lawyer identification card will suffice) or Order of special admission pro hac vice.',\n",
              "   'However, all cell phones must be turned off while in the courtroom.',\n",
              "   '7 22.',\n",
              "   'The following expedited briefing schedule shall govern this case: A.',\n",
              "   'Defendants shall have up to and including 5:00 p.m. on Thursday, January 15, 2015, to file a memorandum in opposition to Plaintiffs Motion for Preliminary Injunction (Doc.',\n",
              "   'S-4), including any affidavits or declarations on which they rely.',\n",
              "   'B.'],\n",
              "  'header': 'B.',\n",
              "  'id': 16},\n",
              " {'content': ['Plaintiff shall have up to and including 11:00 a.m. on Tuesday, January 20, 2015, to file a reply, if necessary, in support of its Motion for Preliminary Injunction, which shall not exceed TEN (10) PAGES in length.',\n",
              "   '23.',\n",
              "   'The hearing will be conducted in accordance with Local Rule 4.06, United States District Court, Middle District of Florida, and Rule 65, Federal Rules of Civil Procedure.',\n",
              "   'The case does not appear to involve the exceptional situation wherein the Court will allow the parties to submit evidence at the hearing.',\n",
              "   'See Local Rule 4.06(b).',\n",
              "   'Thus, absent further order,5 the hearing will be limited to the written submissions and arguments of counsel.',\n",
              "   '24.',\n",
              "   'In issuing this Statutory Restraining Order, the Court understands that Defendants have not yet been given an opportunity to be heard and emphasizes that it is not making a final decision on any request for preliminary injunctive relief.',\n",
              "   \"However, the Court is persuaded that issuing the Statutory Restraining Order until a full hearing can be held on the CFTC's request for preliminary injunctive relief is the lawful and proper action.\",\n",
              "   \"5 McDonald's Com.\",\n",
              "   'v. Robertson, 147 F.3d 1301, 1312-13 (I Ith Cir.',\n",
              "   '1998) (\"[W]here facts are bitterly contested and credibility determinations must be made to decide whether injunctive relief should issue, an evidentiary hearing must be held .... [W]here material facts are not in dispute, or where facts in dispute are not material to the preliminary injunction sought, district courts need not hold an evidentiary hearing.\")',\n",
              "   'In the event either party believes such a hearing is warranted in this action, the party must, after conferring with opposing counsel, file a motion requesting an evidentiary hearing and identifying the factual issues or dispute which necessitate such relief.',\n",
              "   '8 VIII.',\n",
              "   'FORCE AND EFFECT IT IS FURTHER ORDERED that: 25.'],\n",
              "  'header': 'FORCE AND EFFECT IT IS FURTHER ORDERED that: 25.',\n",
              "  'id': 17},\n",
              " {'content': ['Unless earlier dissolved or extended by Order of the Court, the Statutory Restraining Order granted herein shall expire at midnight on January 21, 2015.',\n",
              "   'IT IS SO ORDERED at Jacksonville, Florida on this 7th day of January, 2015, at ~ C<A iAa.llc.b<i ±kv&,, d UNITE D STAT ES DISTRICT JUDGE 9 UNITED STATES DISTRICT COURT MIDDLE DISTRICT OF FLORIDA Jacksonville Division v. Case No.',\n",
              "   '3:15-cv-5-J-34MCR U.S. COMMODITY FUTURES TRADING COMMISSION, Plaintiff, ALLIED MARKETS LLC, JOSHUA GILLILAND, and CHAWALIT WONGKHIAO, Defendants.'],\n",
              "  'header': '3:15-cv-5-J-34MCR U.S. COMMODITY FUTURES TRADING COMMISSION, Plaintiff, ALLIED MARKETS LLC, JOSHUA GILLILAND, and CHAWALIT WONGKHIAO, Defendants.',\n",
              "  'id': 18},\n",
              " {'content': [\"ORDER GRANTING PLAINTIFF'S EX PARTE MOTION FOR STATUTORY RESTRAINING ORDER AND SCHEDULING PRELIMINARY fNJUNCTION HEARING THIS CAUSE is before the Court on Plaintiffs Ex Parte Motion for Statutory Restraining Order and Motion for Preliminary Injunction (Doc.\",\n",
              "   'S-4; Motion), filed on January 5, 2015.',\n",
              "   'Simultaneously with the Motion, the United States Commodity Futures Trading Commission (Plaintiff or CFTC) filed a Complaint for Injunctive Relief, Civil Monetary Penalty, and Other Equitable Relief (Doc.',\n",
              "   'S-3) against Defendants Allied Markets LLC, Joshua Gilliland, and Chawalit Wongkhiao (collectively, Defendants).',\n",
              "   'In the Motion, the CFTC moves, pursuant to Section 6c(a) of the Commodity Exchange Act (CEA), 7 U.S.C.',\n",
              "   '§ 13a-l (a) (2012), for an ex parte statutory restraining order freezing assets and prohibiting the destruction of books, records, or other documents; and for an order requiring Defendants to show cause why a preliminary injunction should not issue.',\n",
              "   \"The Court has considered the pleadings, declarations, exhibits, and memorandum filed in support of the CFTC's Motion, and now, being fully advised, finds as follows: 1.\",\n",
              "   'The Court possesses jurisdiction over the parties and over the subject matter of this action pursuant to Section 6c of the CEA, 7 U.S.C.',\n",
              "   '§ 13a- l (2012).',\n",
              "   '2.',\n",
              "   'Venue properly lies in this District, pursuant to Section 6c( e) of the CEA, 7 U.S.C.',\n",
              "   '§ 13a-l(e) (2012).',\n",
              "   '3.',\n",
              "   'There is good cause to believe that Defendant Allied Markets LLC (\"Allied Markets\"), by and through its agents, principals and control persons, Defendants Joshua Gilliland and Chawalit Wongkhiao have engaged in, are engaging in, and may continue to engage in violations of Sections 2(c)(2)(C)(iii)(I)(cc), 4b(a)(2)(A) and (C), 4k(2), 4m(l), and 4o(l) of the CEA, 7 U.S.C.',\n",
              "   '§§ 2(c)(2)(C)(iii)(I)(cc), 6b(a)(2)(A), (C), 6k(2), 6m(l), 60(1) (2012); and CFTC Regulations 3.',\n",
              "   '12, 4.20(a)-(c), 4.4l(a), 5.2(b)(l) and (3), 5.3(a)(2)(i), and 5.3(a)(2)(ii), 17 C.F.R.',\n",
              "   '§§ 3.12, 4.20(a)-(c), 4.4l(a), 5.2(b)(l), (3), 5.3(a)(2)(i), (ii) (2014).',\n",
              "   '4.',\n",
              "   'The CFTC has presented evidence that, since at least January 2012, Defendants fraudulently solicited more than $1 million from members of the public to participate in a supposed commodity pool purportedly trading leveraged or margined retail off-exchange foreign currency contracts, commonly known as \"forex.\"',\n",
              "   \"The CFTC has also presented evidence that Defendants misappropriated pool participants' funds to pay Defendants Gilliland's and Wongkhiao's personal expenses.\",\n",
              "   'Additionally, the CFTC has presented evidence that Defendants failed to register with the CFTC as required, failed to segregate customer funds, and failed to operate the commodity pool as a separate entity, and 2 failed to accurately report or disclose the performance of the relevant investments, as required by the CEA and CFTC Regulations.',\n",
              "   '5.',\n",
              "   \"There is good cause to believe that immediate and irreparable damage to the Court's ability to grant effective final relief in the form of monetary redress will occur from the sale, transfer, assignment, or other disposition by Defendants of assets or records unless Defendants are immediately restrained and enjoined by order of this Court; 6.\",\n",
              "   'There is good cause for entry of an order freezing assets owned, controlled, managed, or held by or on behalf of, or for the benefit of, Defendants.',\n",
              "   '7.',\n",
              "   \"There is good cause for entry of an order prohibiting Defendants, their agents, servants, employees, assigns, attorneys, and persons in active concert or participation with Defendants, including any successor thereof, from destroying records and/or denying agents of the CFTC immediate and complete access to Defendants' books and records for inspection and copying.\",\n",
              "   '8.',\n",
              "   'Absent the entry of this order, Defendants would have the ability to dissipate or transfer assets and destroy books and records.',\n",
              "   '9.',\n",
              "   'An ex parte statutory restraining order is warranted here to preserve the status quo, protect customers from loss and damage, and enable the CFTC to fulfill its statutory duties.',\n",
              "   'Accordingly, it is ORDERED: 10.',\n",
              "   \"Plaintiff's Ex Parte Motion for Statutory Restraining Order and Motion for Preliminary Injunction (Doc.\",\n",
              "   'S-4) is GRANTED, in part, and TAKEN UNDER ADVISEMENT, in part.',\n",
              "   '3 A.',\n",
              "   'To the extent the CFTC requests an ex parte statutory restraining order, the Motion is GRANTED as set forth below.',\n",
              "   'B.'],\n",
              "  'header': 'B.',\n",
              "  'id': 19},\n",
              " {'content': ['To the extent the CFTC requests the entry of a preliminary injunction, the Motion is TAKEN UNDER ADVISEMENT.',\n",
              "   'RELIEF GRANTED I.'],\n",
              "  'header': 'RELIEF GRANTED I.',\n",
              "  'id': 20},\n",
              " {'content': ['ASSET 1 FREEZE IT IS HEREBY ORDERED that: 11.'],\n",
              "  'header': 'ASSET 1 FREEZE IT IS HEREBY ORDERED that: 11.',\n",
              "  'id': 21},\n",
              " {'content': [\"Defendants2 and their agents, servants, employees, assigns, attorneys, including any successor thereof, and persons in active concert or participation with them, who receive actual notice of this Order by personal service or otherwise, are immediately restrained and enj oined from directly or indirectly transferring, selling, alienating, liquidating, encumbering, pledging, leasing, loaning, assigning, concealing, dissipating, converting, withdrawing, or otherwise disposing of any assets, wherever located, including Defendants' assets held outside the United States, except as otherwise ordered by the Court.\",\n",
              "   '1 For the purposes of this Order, the term \\'\\'Assets\" means any legal or equitable interest in, right to, or c laim to, any real or personal property, whether individually or jointly, directly or indirectly controlled, and wherever located, including, but not limited to: chattels, goods, instruments, equipment, fixtures, general intangibles, effects, leaseholds mail or other deliveries, inventory, checks, notes, accounts (including, but not limited to, bank accounts and accounts at other financial institutions), credits, receivables, lines of credit, contracts (including spot, futures, options, or swaps contracts), insurance policies, and all cash, wherever located, whether within or outside the United States.',\n",
              "   '2 For purposes of this Order, the term \" Defendants\" refers to Allied Markets LLC, Joshua Gilliland, and Chawalit Wongkhiao, and any person insofar as he or she is acting in the capacity of an officer, agent servant, employee, or attorney of Defendants and any person who receives actual notice of this Order by personal service or otherwise insofar as he or she is acting in concert or participation with Defendants. \"',\n",
              "   'Defendants\" also refers to any d/b/a, successor, affiliate, subsidiary, or other entity owned, controlled, managed, or held by, on behalf of, or for the benefit of Allied Markets, Joshua Gilliland, or Chawalit Wongkhiao.',\n",
              "   '4 12.',\n",
              "   \"This Order shall apply to any assets derived from or otherwise related to the activities alleged in the CFTC's complaint, regardless of when the asset is obtained.\",\n",
              "   \"However, the assets affected by this Order shall not include assets obtained after the effective date of this Order, to the extent such assets are not derived from or otherwise related to the activities alleged in the CFTC's complaint.\",\n",
              "   'II.'],\n",
              "  'header': 'II.',\n",
              "  'id': 22},\n",
              " {'content': ['NOTICE TO FINANCIAL INSTUTIONS AND OTHERS 13.'],\n",
              "  'header': 'NOTICE TO FINANCIAL INSTUTIONS AND OTHERS 13.',\n",
              "  'id': 23},\n",
              " {'content': [\"Any financial or brokerage institution, business entity, or person that holds, controls, or maintains custody of any account or asset titled in the name of, held for the benefit of, or otherwise under the control of any Defendant, or has held, controlled, or maintained custody of any such account or asset of any Defendant at any time since January 1, 2012 are hereby notified that this Order prohibits any Defendant and all other persons from withdrawing, removing, assigning, transferring, pledging, encumbering, disbursing, dissipating, converting, selling or otherwise disposing of Defendants' assets, except as directed by further order of the Court; provided, however, nothing in this Order shall limit the discretion of any compliance official of any retail foreign exchange dealer or futures commission merchant with which Defendants maintain an account to liquidate, or close out, any and all open positions in Defendants' account, in a prompt and orderly fashion in order to avoid losse.s due to the asset freeze required by this Order.\",\n",
              "   'III.'],\n",
              "  'header': 'III.',\n",
              "  'id': 24},\n",
              " {'content': ['MAINTENANCE OF AND ACCESS TO BUSINESS RECORDS IT IS FURTHER ORDERED that: 14.'],\n",
              "  'header': 'MAINTENANCE OF AND ACCESS TO BUSINESS RECORDS IT IS FURTHER ORDERED that: 14.',\n",
              "  'id': 25},\n",
              " {'content': ['Defendants and all persons or entities who receive notice of this Order by personal service or otherwise, are restrained from directly or indirectly destroying, 5 mutilating, erasing, altering, concealing or disposing of, in any manner, directly or indirectly, any documents3 that relate to the business practices or business or personal finances of any Defendant.',\n",
              "   'IV.'],\n",
              "  'header': 'IV.',\n",
              "  'id': 26},\n",
              " {'content': ['BOND NOT REQUIRED OF PLAINTIFF IT IS FURTHER ORDERED that: 15.'],\n",
              "  'header': 'BOND NOT REQUIRED OF PLAINTIFF IT IS FURTHER ORDERED that: 15.',\n",
              "  'id': 27},\n",
              " {'content': ['Because Plaintiff CFTC is an agency of the United States of America and has made a proper showing under Section 6c(b) of the CEA, 7 U.S.C.',\n",
              "   '§ 13a-1(b) (2012), this restraining order is granted without bond.',\n",
              "   'V. INSPECTION AND COPYING OF BOOKS AND RECORDS IT IS FURTHER ORDERED that: 16.'],\n",
              "  'header': 'V. INSPECTION AND COPYING OF BOOKS AND RECORDS IT IS FURTHER ORDERED that: 16.',\n",
              "  'id': 28},\n",
              " {'content': ['Defendants shall immediately allow representatives of the CFTC to inspect the books, records, and other documents of Defendants and their agents including, but not limited to, paper documents, electronically stored information, tape recordings, and computer discs, wherever they may be situated and whether they are in the possession of Defendants or others, and to copy said documents, data and records, either on or off the premises where they may be situated.',\n",
              "   'VI.'],\n",
              "  'header': 'VI.',\n",
              "  'id': 29},\n",
              " {'content': ['SERVICE OF ORDER AND ASSISTANCE OF UNITED ST A TES MARSHALS SERVICE IT IS FURTHER ORDERED that: 1 7.'],\n",
              "  'header': 'SERVICE OF ORDER AND ASSISTANCE OF UNITED ST A TES MARSHALS SERVICE IT IS FURTHER ORDERED that: 1 7.',\n",
              "  'id': 30},\n",
              " {'content': ['Copies of thls Order may be served by any means, including facsimile transmission, upon any financial institution or other entity or person that may have 3 For purposes of this Order, the term \"document\" is synonymous in meaning and equal in scope to the broad usage of the tenn in Federal Rule of Civil Procedure 34(a).',\n",
              "   '6 possession, custody, or control of any documents or assets of any Defendant, or that may be subject to any provision of this Order.',\n",
              "   '18.',\n",
              "   'Representatives of the CFTC, the United States Marshals Service, the Florida Office of Financial Regulation, and the police departments of Jacksonville and Jacksonville Beach, Florida are specially appointed by the Court to effect service of this Order.',\n",
              "   '19.',\n",
              "   'The United States Marshals Service, the Florida Office of Financial Regulation, and the police departments of Jacksonville and Jacksonville Beach, Florida, in order to ensure the safety of CFTC representatives, are authorized to accompany and assist the CFTC in the service on Defendants of the summons, complaint, and supporting motions, memoranda, and orders entered with this Order.',\n",
              "   '20.',\n",
              "   'The CFTC shall immediately file proof of service with the Court once accomplished.',\n",
              "   'VII.'],\n",
              "  'header': 'VII.',\n",
              "  'id': 31},\n",
              " {'content': ['PRELIMINARY INJUNCTION HEARING IT IS FURTHER ORDERED that: 21 .'],\n",
              "  'header': 'PRELIMINARY INJUNCTION HEARING IT IS FURTHER ORDERED that: 21 .',\n",
              "  'id': 32},\n",
              " {'content': ['This matter is set for a HEARING on Plaintiffs Motion for Preliminary Injunction (Doc.',\n",
              "   'S-4) on Wednesday, January 21, 2015, at 10:00 a.m., before the undersigned at the Bryan Simpson United States Courthouse, 300 North Hogan Street, Jacksonville, Florida, 32202, in Courtroom 1 OB.',\n",
              "   'Counsel for Plaintiff and Defendants shall appear in person and telephonic appearances will not be permitted.4 4 All persons entering the Courthouse must present photo identification to Court Security Officers.',\n",
              "   'Although cell phones, laptop computers, and similar electronic devices generally are not permitted in the building, attorneys may bring those items with them upon presentation to Court Security Officers of a Florida Bar card (presentation of the Duval County Courthouse lawyer identification card will suffice) or Order of special admission pro hac vice.',\n",
              "   'However, all cell phones must be turned off while in the courtroom.',\n",
              "   '7 22.',\n",
              "   'The following expedited briefing schedule shall govern this case: A.',\n",
              "   'Defendants shall have up to and including 5:00 p.m. on Thursday, January 15, 2015, to file a memorandum in opposition to Plaintiffs Motion for Preliminary Injunction (Doc.',\n",
              "   'S-4), including any affidavits or declarations on which they rely.',\n",
              "   'B.'],\n",
              "  'header': 'B.',\n",
              "  'id': 33},\n",
              " {'content': ['Plaintiff shall have up to and including 11:00 a.m. on Tuesday, January 20, 2015, to file a reply, if necessary, in support of its Motion for Preliminary Injunction, which shall not exceed TEN (10) PAGES in length.',\n",
              "   '23.',\n",
              "   'The hearing will be conducted in accordance with Local Rule 4.06, United States District Court, Middle District of Florida, and Rule 65, Federal Rules of Civil Procedure.',\n",
              "   'The case does not appear to involve the exceptional situation wherein the Court will allow the parties to submit evidence at the hearing.',\n",
              "   'See Local Rule 4.06(b).',\n",
              "   'Thus, absent further order,5 the hearing will be limited to the written submissions and arguments of counsel.',\n",
              "   '24.',\n",
              "   'In issuing this Statutory Restraining Order, the Court understands that Defendants have not yet been given an opportunity to be heard and emphasizes that it is not making a final decision on any request for preliminary injunctive relief.',\n",
              "   \"However, the Court is persuaded that issuing the Statutory Restraining Order until a full hearing can be held on the CFTC's request for preliminary injunctive relief is the lawful and proper action.\",\n",
              "   \"5 McDonald's Com.\",\n",
              "   'v. Robertson, 147 F.3d 1301, 1312-13 (I Ith Cir.',\n",
              "   '1998) (\"[W]here facts are bitterly contested and credibility determinations must be made to decide whether injunctive relief should issue, an evidentiary hearing must be held .... [W]here material facts are not in dispute, or where facts in dispute are not material to the preliminary injunction sought, district courts need not hold an evidentiary hearing.\")',\n",
              "   'In the event either party believes such a hearing is warranted in this action, the party must, after conferring with opposing counsel, file a motion requesting an evidentiary hearing and identifying the factual issues or dispute which necessitate such relief.',\n",
              "   '8 VIII.',\n",
              "   'FORCE AND EFFECT IT IS FURTHER ORDERED that: 25.'],\n",
              "  'header': 'FORCE AND EFFECT IT IS FURTHER ORDERED that: 25.',\n",
              "  'id': 34},\n",
              " {'content': ['Unless earlier dissolved or extended by Order of the Court, the Statutory Restraining Order granted herein shall expire at midnight on January 21, 2015.',\n",
              "   'IT IS SO ORDERED at Jacksonville, Florida on this 7th day of January, 2015, at ~ C<A iAa.llc.b<i ±kv&,, d UNITE D STAT ES DISTRICT JUDGE 9 UNITED STATES DISTRICT COURT MIDDLE DISTRICT OF FLORIDA Jacksonville Division v. Case No.',\n",
              "   '3:15-cv-5-J-34MCR U.S. COMMODITY FUTURES TRADING COMMISSION, Plaintiff, ALLIED MARKETS LLC, JOSHUA GILLILAND, and CHAWALIT WONGKHIAO, Defendants.'],\n",
              "  'header': '3:15-cv-5-J-34MCR U.S. COMMODITY FUTURES TRADING COMMISSION, Plaintiff, ALLIED MARKETS LLC, JOSHUA GILLILAND, and CHAWALIT WONGKHIAO, Defendants.',\n",
              "  'id': 35},\n",
              " {'content': [\"ORDER GRANTING PLAINTIFF'S EX PARTE MOTION FOR STATUTORY RESTRAINING ORDER AND SCHEDULING PRELIMINARY fNJUNCTION HEARING THIS CAUSE is before the Court on Plaintiffs Ex Parte Motion for Statutory Restraining Order and Motion for Preliminary Injunction (Doc.\",\n",
              "   'S-4; Motion), filed on January 5, 2015.',\n",
              "   'Simultaneously with the Motion, the United States Commodity Futures Trading Commission (Plaintiff or CFTC) filed a Complaint for Injunctive Relief, Civil Monetary Penalty, and Other Equitable Relief (Doc.',\n",
              "   'S-3) against Defendants Allied Markets LLC, Joshua Gilliland, and Chawalit Wongkhiao (collectively, Defendants).',\n",
              "   'In the Motion, the CFTC moves, pursuant to Section 6c(a) of the Commodity Exchange Act (CEA), 7 U.S.C.',\n",
              "   '§ 13a-l (a) (2012), for an ex parte statutory restraining order freezing assets and prohibiting the destruction of books, records, or other documents; and for an order requiring Defendants to show cause why a preliminary injunction should not issue.',\n",
              "   \"The Court has considered the pleadings, declarations, exhibits, and memorandum filed in support of the CFTC's Motion, and now, being fully advised, finds as follows: 1.\",\n",
              "   'The Court possesses jurisdiction over the parties and over the subject matter of this action pursuant to Section 6c of the CEA, 7 U.S.C.',\n",
              "   '§ 13a- l (2012).',\n",
              "   '2.',\n",
              "   'Venue properly lies in this District, pursuant to Section 6c( e) of the CEA, 7 U.S.C.',\n",
              "   '§ 13a-l(e) (2012).',\n",
              "   '3.',\n",
              "   'There is good cause to believe that Defendant Allied Markets LLC (\"Allied Markets\"), by and through its agents, principals and control persons, Defendants Joshua Gilliland and Chawalit Wongkhiao have engaged in, are engaging in, and may continue to engage in violations of Sections 2(c)(2)(C)(iii)(I)(cc), 4b(a)(2)(A) and (C), 4k(2), 4m(l), and 4o(l) of the CEA, 7 U.S.C.',\n",
              "   '§§ 2(c)(2)(C)(iii)(I)(cc), 6b(a)(2)(A), (C), 6k(2), 6m(l), 60(1) (2012); and CFTC Regulations 3.',\n",
              "   '12, 4.20(a)-(c), 4.4l(a), 5.2(b)(l) and (3), 5.3(a)(2)(i), and 5.3(a)(2)(ii), 17 C.F.R.',\n",
              "   '§§ 3.12, 4.20(a)-(c), 4.4l(a), 5.2(b)(l), (3), 5.3(a)(2)(i), (ii) (2014).',\n",
              "   '4.',\n",
              "   'The CFTC has presented evidence that, since at least January 2012, Defendants fraudulently solicited more than $1 million from members of the public to participate in a supposed commodity pool purportedly trading leveraged or margined retail off-exchange foreign currency contracts, commonly known as \"forex.\"',\n",
              "   \"The CFTC has also presented evidence that Defendants misappropriated pool participants' funds to pay Defendants Gilliland's and Wongkhiao's personal expenses.\",\n",
              "   'Additionally, the CFTC has presented evidence that Defendants failed to register with the CFTC as required, failed to segregate customer funds, and failed to operate the commodity pool as a separate entity, and 2 failed to accurately report or disclose the performance of the relevant investments, as required by the CEA and CFTC Regulations.',\n",
              "   '5.',\n",
              "   \"There is good cause to believe that immediate and irreparable damage to the Court's ability to grant effective final relief in the form of monetary redress will occur from the sale, transfer, assignment, or other disposition by Defendants of assets or records unless Defendants are immediately restrained and enjoined by order of this Court; 6.\",\n",
              "   'There is good cause for entry of an order freezing assets owned, controlled, managed, or held by or on behalf of, or for the benefit of, Defendants.',\n",
              "   '7.',\n",
              "   \"There is good cause for entry of an order prohibiting Defendants, their agents, servants, employees, assigns, attorneys, and persons in active concert or participation with Defendants, including any successor thereof, from destroying records and/or denying agents of the CFTC immediate and complete access to Defendants' books and records for inspection and copying.\",\n",
              "   '8.',\n",
              "   'Absent the entry of this order, Defendants would have the ability to dissipate or transfer assets and destroy books and records.',\n",
              "   '9.',\n",
              "   'An ex parte statutory restraining order is warranted here to preserve the status quo, protect customers from loss and damage, and enable the CFTC to fulfill its statutory duties.',\n",
              "   'Accordingly, it is ORDERED: 10.',\n",
              "   \"Plaintiff's Ex Parte Motion for Statutory Restraining Order and Motion for Preliminary Injunction (Doc.\",\n",
              "   'S-4) is GRANTED, in part, and TAKEN UNDER ADVISEMENT, in part.',\n",
              "   '3 A.',\n",
              "   'To the extent the CFTC requests an ex parte statutory restraining order, the Motion is GRANTED as set forth below.',\n",
              "   'B.'],\n",
              "  'header': 'B.',\n",
              "  'id': 36},\n",
              " {'content': ['To the extent the CFTC requests the entry of a preliminary injunction, the Motion is TAKEN UNDER ADVISEMENT.',\n",
              "   'RELIEF GRANTED I.'],\n",
              "  'header': 'RELIEF GRANTED I.',\n",
              "  'id': 37},\n",
              " {'content': ['ASSET 1 FREEZE IT IS HEREBY ORDERED that: 11.'],\n",
              "  'header': 'ASSET 1 FREEZE IT IS HEREBY ORDERED that: 11.',\n",
              "  'id': 38},\n",
              " {'content': [\"Defendants2 and their agents, servants, employees, assigns, attorneys, including any successor thereof, and persons in active concert or participation with them, who receive actual notice of this Order by personal service or otherwise, are immediately restrained and enj oined from directly or indirectly transferring, selling, alienating, liquidating, encumbering, pledging, leasing, loaning, assigning, concealing, dissipating, converting, withdrawing, or otherwise disposing of any assets, wherever located, including Defendants' assets held outside the United States, except as otherwise ordered by the Court.\",\n",
              "   '1 For the purposes of this Order, the term \\'\\'Assets\" means any legal or equitable interest in, right to, or c laim to, any real or personal property, whether individually or jointly, directly or indirectly controlled, and wherever located, including, but not limited to: chattels, goods, instruments, equipment, fixtures, general intangibles, effects, leaseholds mail or other deliveries, inventory, checks, notes, accounts (including, but not limited to, bank accounts and accounts at other financial institutions), credits, receivables, lines of credit, contracts (including spot, futures, options, or swaps contracts), insurance policies, and all cash, wherever located, whether within or outside the United States.',\n",
              "   '2 For purposes of this Order, the term \" Defendants\" refers to Allied Markets LLC, Joshua Gilliland, and Chawalit Wongkhiao, and any person insofar as he or she is acting in the capacity of an officer, agent servant, employee, or attorney of Defendants and any person who receives actual notice of this Order by personal service or otherwise insofar as he or she is acting in concert or participation with Defendants. \"',\n",
              "   'Defendants\" also refers to any d/b/a, successor, affiliate, subsidiary, or other entity owned, controlled, managed, or held by, on behalf of, or for the benefit of Allied Markets, Joshua Gilliland, or Chawalit Wongkhiao.',\n",
              "   '4 12.',\n",
              "   \"This Order shall apply to any assets derived from or otherwise related to the activities alleged in the CFTC's complaint, regardless of when the asset is obtained.\",\n",
              "   \"However, the assets affected by this Order shall not include assets obtained after the effective date of this Order, to the extent such assets are not derived from or otherwise related to the activities alleged in the CFTC's complaint.\",\n",
              "   'II.'],\n",
              "  'header': 'II.',\n",
              "  'id': 39},\n",
              " {'content': ['NOTICE TO FINANCIAL INSTUTIONS AND OTHERS 13.'],\n",
              "  'header': 'NOTICE TO FINANCIAL INSTUTIONS AND OTHERS 13.',\n",
              "  'id': 40},\n",
              " {'content': [\"Any financial or brokerage institution, business entity, or person that holds, controls, or maintains custody of any account or asset titled in the name of, held for the benefit of, or otherwise under the control of any Defendant, or has held, controlled, or maintained custody of any such account or asset of any Defendant at any time since January 1, 2012 are hereby notified that this Order prohibits any Defendant and all other persons from withdrawing, removing, assigning, transferring, pledging, encumbering, disbursing, dissipating, converting, selling or otherwise disposing of Defendants' assets, except as directed by further order of the Court; provided, however, nothing in this Order shall limit the discretion of any compliance official of any retail foreign exchange dealer or futures commission merchant with which Defendants maintain an account to liquidate, or close out, any and all open positions in Defendants' account, in a prompt and orderly fashion in order to avoid losse.s due to the asset freeze required by this Order.\",\n",
              "   'III.'],\n",
              "  'header': 'III.',\n",
              "  'id': 41},\n",
              " {'content': ['MAINTENANCE OF AND ACCESS TO BUSINESS RECORDS IT IS FURTHER ORDERED that: 14.'],\n",
              "  'header': 'MAINTENANCE OF AND ACCESS TO BUSINESS RECORDS IT IS FURTHER ORDERED that: 14.',\n",
              "  'id': 42},\n",
              " {'content': ['Defendants and all persons or entities who receive notice of this Order by personal service or otherwise, are restrained from directly or indirectly destroying, 5 mutilating, erasing, altering, concealing or disposing of, in any manner, directly or indirectly, any documents3 that relate to the business practices or business or personal finances of any Defendant.',\n",
              "   'IV.'],\n",
              "  'header': 'IV.',\n",
              "  'id': 43},\n",
              " {'content': ['BOND NOT REQUIRED OF PLAINTIFF IT IS FURTHER ORDERED that: 15.'],\n",
              "  'header': 'BOND NOT REQUIRED OF PLAINTIFF IT IS FURTHER ORDERED that: 15.',\n",
              "  'id': 44},\n",
              " {'content': ['Because Plaintiff CFTC is an agency of the United States of America and has made a proper showing under Section 6c(b) of the CEA, 7 U.S.C.',\n",
              "   '§ 13a-1(b) (2012), this restraining order is granted without bond.',\n",
              "   'V. INSPECTION AND COPYING OF BOOKS AND RECORDS IT IS FURTHER ORDERED that: 16.'],\n",
              "  'header': 'V. INSPECTION AND COPYING OF BOOKS AND RECORDS IT IS FURTHER ORDERED that: 16.',\n",
              "  'id': 45},\n",
              " {'content': ['Defendants shall immediately allow representatives of the CFTC to inspect the books, records, and other documents of Defendants and their agents including, but not limited to, paper documents, electronically stored information, tape recordings, and computer discs, wherever they may be situated and whether they are in the possession of Defendants or others, and to copy said documents, data and records, either on or off the premises where they may be situated.',\n",
              "   'VI.'],\n",
              "  'header': 'VI.',\n",
              "  'id': 46},\n",
              " {'content': ['SERVICE OF ORDER AND ASSISTANCE OF UNITED ST A TES MARSHALS SERVICE IT IS FURTHER ORDERED that: 1 7.'],\n",
              "  'header': 'SERVICE OF ORDER AND ASSISTANCE OF UNITED ST A TES MARSHALS SERVICE IT IS FURTHER ORDERED that: 1 7.',\n",
              "  'id': 47},\n",
              " {'content': ['Copies of thls Order may be served by any means, including facsimile transmission, upon any financial institution or other entity or person that may have 3 For purposes of this Order, the term \"document\" is synonymous in meaning and equal in scope to the broad usage of the tenn in Federal Rule of Civil Procedure 34(a).',\n",
              "   '6 possession, custody, or control of any documents or assets of any Defendant, or that may be subject to any provision of this Order.',\n",
              "   '18.',\n",
              "   'Representatives of the CFTC, the United States Marshals Service, the Florida Office of Financial Regulation, and the police departments of Jacksonville and Jacksonville Beach, Florida are specially appointed by the Court to effect service of this Order.',\n",
              "   '19.',\n",
              "   'The United States Marshals Service, the Florida Office of Financial Regulation, and the police departments of Jacksonville and Jacksonville Beach, Florida, in order to ensure the safety of CFTC representatives, are authorized to accompany and assist the CFTC in the service on Defendants of the summons, complaint, and supporting motions, memoranda, and orders entered with this Order.',\n",
              "   '20.',\n",
              "   'The CFTC shall immediately file proof of service with the Court once accomplished.',\n",
              "   'VII.'],\n",
              "  'header': 'VII.',\n",
              "  'id': 48},\n",
              " {'content': ['PRELIMINARY INJUNCTION HEARING IT IS FURTHER ORDERED that: 21 .'],\n",
              "  'header': 'PRELIMINARY INJUNCTION HEARING IT IS FURTHER ORDERED that: 21 .',\n",
              "  'id': 49},\n",
              " {'content': ['This matter is set for a HEARING on Plaintiffs Motion for Preliminary Injunction (Doc.',\n",
              "   'S-4) on Wednesday, January 21, 2015, at 10:00 a.m., before the undersigned at the Bryan Simpson United States Courthouse, 300 North Hogan Street, Jacksonville, Florida, 32202, in Courtroom 1 OB.',\n",
              "   'Counsel for Plaintiff and Defendants shall appear in person and telephonic appearances will not be permitted.4 4 All persons entering the Courthouse must present photo identification to Court Security Officers.',\n",
              "   'Although cell phones, laptop computers, and similar electronic devices generally are not permitted in the building, attorneys may bring those items with them upon presentation to Court Security Officers of a Florida Bar card (presentation of the Duval County Courthouse lawyer identification card will suffice) or Order of special admission pro hac vice.',\n",
              "   'However, all cell phones must be turned off while in the courtroom.',\n",
              "   '7 22.',\n",
              "   'The following expedited briefing schedule shall govern this case: A.',\n",
              "   'Defendants shall have up to and including 5:00 p.m. on Thursday, January 15, 2015, to file a memorandum in opposition to Plaintiffs Motion for Preliminary Injunction (Doc.',\n",
              "   'S-4), including any affidavits or declarations on which they rely.',\n",
              "   'B.'],\n",
              "  'header': 'B.',\n",
              "  'id': 50},\n",
              " {'content': ['Plaintiff shall have up to and including 11:00 a.m. on Tuesday, January 20, 2015, to file a reply, if necessary, in support of its Motion for Preliminary Injunction, which shall not exceed TEN (10) PAGES in length.',\n",
              "   '23.',\n",
              "   'The hearing will be conducted in accordance with Local Rule 4.06, United States District Court, Middle District of Florida, and Rule 65, Federal Rules of Civil Procedure.',\n",
              "   'The case does not appear to involve the exceptional situation wherein the Court will allow the parties to submit evidence at the hearing.',\n",
              "   'See Local Rule 4.06(b).',\n",
              "   'Thus, absent further order,5 the hearing will be limited to the written submissions and arguments of counsel.',\n",
              "   '24.',\n",
              "   'In issuing this Statutory Restraining Order, the Court understands that Defendants have not yet been given an opportunity to be heard and emphasizes that it is not making a final decision on any request for preliminary injunctive relief.',\n",
              "   \"However, the Court is persuaded that issuing the Statutory Restraining Order until a full hearing can be held on the CFTC's request for preliminary injunctive relief is the lawful and proper action.\",\n",
              "   \"5 McDonald's Com.\",\n",
              "   'v. Robertson, 147 F.3d 1301, 1312-13 (I Ith Cir.',\n",
              "   '1998) (\"[W]here facts are bitterly contested and credibility determinations must be made to decide whether injunctive relief should issue, an evidentiary hearing must be held .... [W]here material facts are not in dispute, or where facts in dispute are not material to the preliminary injunction sought, district courts need not hold an evidentiary hearing.\")',\n",
              "   'In the event either party believes such a hearing is warranted in this action, the party must, after conferring with opposing counsel, file a motion requesting an evidentiary hearing and identifying the factual issues or dispute which necessitate such relief.',\n",
              "   '8 VIII.',\n",
              "   'FORCE AND EFFECT IT IS FURTHER ORDERED that: 25.'],\n",
              "  'header': 'FORCE AND EFFECT IT IS FURTHER ORDERED that: 25.',\n",
              "  'id': 51},\n",
              " {'content': ['Unless earlier dissolved or extended by Order of the Court, the Statutory Restraining Order granted herein shall expire at midnight on January 21, 2015.',\n",
              "   'IT IS SO ORDERED at Jacksonville, Florida on this 7th day of January, 2015, at ~ C<A iAa.llc.b<i ±kv&,, d UNITE D STAT ES DISTRICT JUDGE 9 UNITED STATES DISTRICT COURT MIDDLE DISTRICT OF FLORIDA Jacksonville Division v. Case No.',\n",
              "   '3:15-cv-5-J-34MCR U.S. COMMODITY FUTURES TRADING COMMISSION, Plaintiff, ALLIED MARKETS LLC, JOSHUA GILLILAND, and CHAWALIT WONGKHIAO, Defendants.'],\n",
              "  'header': '3:15-cv-5-J-34MCR U.S. COMMODITY FUTURES TRADING COMMISSION, Plaintiff, ALLIED MARKETS LLC, JOSHUA GILLILAND, and CHAWALIT WONGKHIAO, Defendants.',\n",
              "  'id': 52},\n",
              " {'content': [\"ORDER GRANTING PLAINTIFF'S EX PARTE MOTION FOR STATUTORY RESTRAINING ORDER AND SCHEDULING PRELIMINARY fNJUNCTION HEARING THIS CAUSE is before the Court on Plaintiffs Ex Parte Motion for Statutory Restraining Order and Motion for Preliminary Injunction (Doc.\",\n",
              "   'S-4; Motion), filed on January 5, 2015.',\n",
              "   'Simultaneously with the Motion, the United States Commodity Futures Trading Commission (Plaintiff or CFTC) filed a Complaint for Injunctive Relief, Civil Monetary Penalty, and Other Equitable Relief (Doc.',\n",
              "   'S-3) against Defendants Allied Markets LLC, Joshua Gilliland, and Chawalit Wongkhiao (collectively, Defendants).',\n",
              "   'In the Motion, the CFTC moves, pursuant to Section 6c(a) of the Commodity Exchange Act (CEA), 7 U.S.C.',\n",
              "   '§ 13a-l (a) (2012), for an ex parte statutory restraining order freezing assets and prohibiting the destruction of books, records, or other documents; and for an order requiring Defendants to show cause why a preliminary injunction should not issue.',\n",
              "   \"The Court has considered the pleadings, declarations, exhibits, and memorandum filed in support of the CFTC's Motion, and now, being fully advised, finds as follows: 1.\",\n",
              "   'The Court possesses jurisdiction over the parties and over the subject matter of this action pursuant to Section 6c of the CEA, 7 U.S.C.',\n",
              "   '§ 13a- l (2012).',\n",
              "   '2.',\n",
              "   'Venue properly lies in this District, pursuant to Section 6c( e) of the CEA, 7 U.S.C.',\n",
              "   '§ 13a-l(e) (2012).',\n",
              "   '3.',\n",
              "   'There is good cause to believe that Defendant Allied Markets LLC (\"Allied Markets\"), by and through its agents, principals and control persons, Defendants Joshua Gilliland and Chawalit Wongkhiao have engaged in, are engaging in, and may continue to engage in violations of Sections 2(c)(2)(C)(iii)(I)(cc), 4b(a)(2)(A) and (C), 4k(2), 4m(l), and 4o(l) of the CEA, 7 U.S.C.',\n",
              "   '§§ 2(c)(2)(C)(iii)(I)(cc), 6b(a)(2)(A), (C), 6k(2), 6m(l), 60(1) (2012); and CFTC Regulations 3.',\n",
              "   '12, 4.20(a)-(c), 4.4l(a), 5.2(b)(l) and (3), 5.3(a)(2)(i), and 5.3(a)(2)(ii), 17 C.F.R.',\n",
              "   '§§ 3.12, 4.20(a)-(c), 4.4l(a), 5.2(b)(l), (3), 5.3(a)(2)(i), (ii) (2014).',\n",
              "   '4.',\n",
              "   'The CFTC has presented evidence that, since at least January 2012, Defendants fraudulently solicited more than $1 million from members of the public to participate in a supposed commodity pool purportedly trading leveraged or margined retail off-exchange foreign currency contracts, commonly known as \"forex.\"',\n",
              "   \"The CFTC has also presented evidence that Defendants misappropriated pool participants' funds to pay Defendants Gilliland's and Wongkhiao's personal expenses.\",\n",
              "   'Additionally, the CFTC has presented evidence that Defendants failed to register with the CFTC as required, failed to segregate customer funds, and failed to operate the commodity pool as a separate entity, and 2 failed to accurately report or disclose the performance of the relevant investments, as required by the CEA and CFTC Regulations.',\n",
              "   '5.',\n",
              "   \"There is good cause to believe that immediate and irreparable damage to the Court's ability to grant effective final relief in the form of monetary redress will occur from the sale, transfer, assignment, or other disposition by Defendants of assets or records unless Defendants are immediately restrained and enjoined by order of this Court; 6.\",\n",
              "   'There is good cause for entry of an order freezing assets owned, controlled, managed, or held by or on behalf of, or for the benefit of, Defendants.',\n",
              "   '7.',\n",
              "   \"There is good cause for entry of an order prohibiting Defendants, their agents, servants, employees, assigns, attorneys, and persons in active concert or participation with Defendants, including any successor thereof, from destroying records and/or denying agents of the CFTC immediate and complete access to Defendants' books and records for inspection and copying.\",\n",
              "   '8.',\n",
              "   'Absent the entry of this order, Defendants would have the ability to dissipate or transfer assets and destroy books and records.',\n",
              "   '9.',\n",
              "   'An ex parte statutory restraining order is warranted here to preserve the status quo, protect customers from loss and damage, and enable the CFTC to fulfill its statutory duties.',\n",
              "   'Accordingly, it is ORDERED: 10.',\n",
              "   \"Plaintiff's Ex Parte Motion for Statutory Restraining Order and Motion for Preliminary Injunction (Doc.\",\n",
              "   'S-4) is GRANTED, in part, and TAKEN UNDER ADVISEMENT, in part.',\n",
              "   '3 A.',\n",
              "   'To the extent the CFTC requests an ex parte statutory restraining order, the Motion is GRANTED as set forth below.',\n",
              "   'B.'],\n",
              "  'header': 'B.',\n",
              "  'id': 53},\n",
              " {'content': ['To the extent the CFTC requests the entry of a preliminary injunction, the Motion is TAKEN UNDER ADVISEMENT.',\n",
              "   'RELIEF GRANTED I.'],\n",
              "  'header': 'RELIEF GRANTED I.',\n",
              "  'id': 54},\n",
              " {'content': ['ASSET 1 FREEZE IT IS HEREBY ORDERED that: 11.'],\n",
              "  'header': 'ASSET 1 FREEZE IT IS HEREBY ORDERED that: 11.',\n",
              "  'id': 55},\n",
              " {'content': [\"Defendants2 and their agents, servants, employees, assigns, attorneys, including any successor thereof, and persons in active concert or participation with them, who receive actual notice of this Order by personal service or otherwise, are immediately restrained and enj oined from directly or indirectly transferring, selling, alienating, liquidating, encumbering, pledging, leasing, loaning, assigning, concealing, dissipating, converting, withdrawing, or otherwise disposing of any assets, wherever located, including Defendants' assets held outside the United States, except as otherwise ordered by the Court.\",\n",
              "   '1 For the purposes of this Order, the term \\'\\'Assets\" means any legal or equitable interest in, right to, or c laim to, any real or personal property, whether individually or jointly, directly or indirectly controlled, and wherever located, including, but not limited to: chattels, goods, instruments, equipment, fixtures, general intangibles, effects, leaseholds mail or other deliveries, inventory, checks, notes, accounts (including, but not limited to, bank accounts and accounts at other financial institutions), credits, receivables, lines of credit, contracts (including spot, futures, options, or swaps contracts), insurance policies, and all cash, wherever located, whether within or outside the United States.',\n",
              "   '2 For purposes of this Order, the term \" Defendants\" refers to Allied Markets LLC, Joshua Gilliland, and Chawalit Wongkhiao, and any person insofar as he or she is acting in the capacity of an officer, agent servant, employee, or attorney of Defendants and any person who receives actual notice of this Order by personal service or otherwise insofar as he or she is acting in concert or participation with Defendants. \"',\n",
              "   'Defendants\" also refers to any d/b/a, successor, affiliate, subsidiary, or other entity owned, controlled, managed, or held by, on behalf of, or for the benefit of Allied Markets, Joshua Gilliland, or Chawalit Wongkhiao.',\n",
              "   '4 12.',\n",
              "   \"This Order shall apply to any assets derived from or otherwise related to the activities alleged in the CFTC's complaint, regardless of when the asset is obtained.\",\n",
              "   \"However, the assets affected by this Order shall not include assets obtained after the effective date of this Order, to the extent such assets are not derived from or otherwise related to the activities alleged in the CFTC's complaint.\",\n",
              "   'II.'],\n",
              "  'header': 'II.',\n",
              "  'id': 56},\n",
              " {'content': ['NOTICE TO FINANCIAL INSTUTIONS AND OTHERS 13.'],\n",
              "  'header': 'NOTICE TO FINANCIAL INSTUTIONS AND OTHERS 13.',\n",
              "  'id': 57},\n",
              " {'content': [\"Any financial or brokerage institution, business entity, or person that holds, controls, or maintains custody of any account or asset titled in the name of, held for the benefit of, or otherwise under the control of any Defendant, or has held, controlled, or maintained custody of any such account or asset of any Defendant at any time since January 1, 2012 are hereby notified that this Order prohibits any Defendant and all other persons from withdrawing, removing, assigning, transferring, pledging, encumbering, disbursing, dissipating, converting, selling or otherwise disposing of Defendants' assets, except as directed by further order of the Court; provided, however, nothing in this Order shall limit the discretion of any compliance official of any retail foreign exchange dealer or futures commission merchant with which Defendants maintain an account to liquidate, or close out, any and all open positions in Defendants' account, in a prompt and orderly fashion in order to avoid losse.s due to the asset freeze required by this Order.\",\n",
              "   'III.'],\n",
              "  'header': 'III.',\n",
              "  'id': 58},\n",
              " {'content': ['MAINTENANCE OF AND ACCESS TO BUSINESS RECORDS IT IS FURTHER ORDERED that: 14.'],\n",
              "  'header': 'MAINTENANCE OF AND ACCESS TO BUSINESS RECORDS IT IS FURTHER ORDERED that: 14.',\n",
              "  'id': 59},\n",
              " {'content': ['Defendants and all persons or entities who receive notice of this Order by personal service or otherwise, are restrained from directly or indirectly destroying, 5 mutilating, erasing, altering, concealing or disposing of, in any manner, directly or indirectly, any documents3 that relate to the business practices or business or personal finances of any Defendant.',\n",
              "   'IV.'],\n",
              "  'header': 'IV.',\n",
              "  'id': 60},\n",
              " {'content': ['BOND NOT REQUIRED OF PLAINTIFF IT IS FURTHER ORDERED that: 15.'],\n",
              "  'header': 'BOND NOT REQUIRED OF PLAINTIFF IT IS FURTHER ORDERED that: 15.',\n",
              "  'id': 61},\n",
              " {'content': ['Because Plaintiff CFTC is an agency of the United States of America and has made a proper showing under Section 6c(b) of the CEA, 7 U.S.C.',\n",
              "   '§ 13a-1(b) (2012), this restraining order is granted without bond.',\n",
              "   'V. INSPECTION AND COPYING OF BOOKS AND RECORDS IT IS FURTHER ORDERED that: 16.'],\n",
              "  'header': 'V. INSPECTION AND COPYING OF BOOKS AND RECORDS IT IS FURTHER ORDERED that: 16.',\n",
              "  'id': 62},\n",
              " {'content': ['Defendants shall immediately allow representatives of the CFTC to inspect the books, records, and other documents of Defendants and their agents including, but not limited to, paper documents, electronically stored information, tape recordings, and computer discs, wherever they may be situated and whether they are in the possession of Defendants or others, and to copy said documents, data and records, either on or off the premises where they may be situated.',\n",
              "   'VI.'],\n",
              "  'header': 'VI.',\n",
              "  'id': 63},\n",
              " {'content': ['SERVICE OF ORDER AND ASSISTANCE OF UNITED ST A TES MARSHALS SERVICE IT IS FURTHER ORDERED that: 1 7.'],\n",
              "  'header': 'SERVICE OF ORDER AND ASSISTANCE OF UNITED ST A TES MARSHALS SERVICE IT IS FURTHER ORDERED that: 1 7.',\n",
              "  'id': 64},\n",
              " {'content': ['Copies of thls Order may be served by any means, including facsimile transmission, upon any financial institution or other entity or person that may have 3 For purposes of this Order, the term \"document\" is synonymous in meaning and equal in scope to the broad usage of the tenn in Federal Rule of Civil Procedure 34(a).',\n",
              "   '6 possession, custody, or control of any documents or assets of any Defendant, or that may be subject to any provision of this Order.',\n",
              "   '18.',\n",
              "   'Representatives of the CFTC, the United States Marshals Service, the Florida Office of Financial Regulation, and the police departments of Jacksonville and Jacksonville Beach, Florida are specially appointed by the Court to effect service of this Order.',\n",
              "   '19.',\n",
              "   'The United States Marshals Service, the Florida Office of Financial Regulation, and the police departments of Jacksonville and Jacksonville Beach, Florida, in order to ensure the safety of CFTC representatives, are authorized to accompany and assist the CFTC in the service on Defendants of the summons, complaint, and supporting motions, memoranda, and orders entered with this Order.',\n",
              "   '20.',\n",
              "   'The CFTC shall immediately file proof of service with the Court once accomplished.',\n",
              "   'VII.'],\n",
              "  'header': 'VII.',\n",
              "  'id': 65},\n",
              " {'content': ['PRELIMINARY INJUNCTION HEARING IT IS FURTHER ORDERED that: 21 .'],\n",
              "  'header': 'PRELIMINARY INJUNCTION HEARING IT IS FURTHER ORDERED that: 21 .',\n",
              "  'id': 66},\n",
              " {'content': ['This matter is set for a HEARING on Plaintiffs Motion for Preliminary Injunction (Doc.',\n",
              "   'S-4) on Wednesday, January 21, 2015, at 10:00 a.m., before the undersigned at the Bryan Simpson United States Courthouse, 300 North Hogan Street, Jacksonville, Florida, 32202, in Courtroom 1 OB.',\n",
              "   'Counsel for Plaintiff and Defendants shall appear in person and telephonic appearances will not be permitted.4 4 All persons entering the Courthouse must present photo identification to Court Security Officers.',\n",
              "   'Although cell phones, laptop computers, and similar electronic devices generally are not permitted in the building, attorneys may bring those items with them upon presentation to Court Security Officers of a Florida Bar card (presentation of the Duval County Courthouse lawyer identification card will suffice) or Order of special admission pro hac vice.',\n",
              "   'However, all cell phones must be turned off while in the courtroom.',\n",
              "   '7 22.',\n",
              "   'The following expedited briefing schedule shall govern this case: A.',\n",
              "   'Defendants shall have up to and including 5:00 p.m. on Thursday, January 15, 2015, to file a memorandum in opposition to Plaintiffs Motion for Preliminary Injunction (Doc.',\n",
              "   'S-4), including any affidavits or declarations on which they rely.',\n",
              "   'B.'],\n",
              "  'header': 'B.',\n",
              "  'id': 67},\n",
              " {'content': ['Plaintiff shall have up to and including 11:00 a.m. on Tuesday, January 20, 2015, to file a reply, if necessary, in support of its Motion for Preliminary Injunction, which shall not exceed TEN (10) PAGES in length.',\n",
              "   '23.',\n",
              "   'The hearing will be conducted in accordance with Local Rule 4.06, United States District Court, Middle District of Florida, and Rule 65, Federal Rules of Civil Procedure.',\n",
              "   'The case does not appear to involve the exceptional situation wherein the Court will allow the parties to submit evidence at the hearing.',\n",
              "   'See Local Rule 4.06(b).',\n",
              "   'Thus, absent further order,5 the hearing will be limited to the written submissions and arguments of counsel.',\n",
              "   '24.',\n",
              "   'In issuing this Statutory Restraining Order, the Court understands that Defendants have not yet been given an opportunity to be heard and emphasizes that it is not making a final decision on any request for preliminary injunctive relief.',\n",
              "   \"However, the Court is persuaded that issuing the Statutory Restraining Order until a full hearing can be held on the CFTC's request for preliminary injunctive relief is the lawful and proper action.\",\n",
              "   \"5 McDonald's Com.\",\n",
              "   'v. Robertson, 147 F.3d 1301, 1312-13 (I Ith Cir.',\n",
              "   '1998) (\"[W]here facts are bitterly contested and credibility determinations must be made to decide whether injunctive relief should issue, an evidentiary hearing must be held .... [W]here material facts are not in dispute, or where facts in dispute are not material to the preliminary injunction sought, district courts need not hold an evidentiary hearing.\")',\n",
              "   'In the event either party believes such a hearing is warranted in this action, the party must, after conferring with opposing counsel, file a motion requesting an evidentiary hearing and identifying the factual issues or dispute which necessitate such relief.',\n",
              "   '8 VIII.',\n",
              "   'FORCE AND EFFECT IT IS FURTHER ORDERED that: 25.'],\n",
              "  'header': 'FORCE AND EFFECT IT IS FURTHER ORDERED that: 25.',\n",
              "  'id': 68},\n",
              " {'content': ['Unless earlier dissolved or extended by Order of the Court, the Statutory Restraining Order granted herein shall expire at midnight on January 21, 2015.',\n",
              "   'IT IS SO ORDERED at Jacksonville, Florida on this 7th day of January, 2015, at ~ C<A iAa.llc.b<i ±kv&,, d UNITE D STAT ES DISTRICT JUDGE 9 UNITED STATES DISTRICT COURT MIDDLE DISTRICT OF FLORIDA Jacksonville Division v. Case No.',\n",
              "   '3:15-cv-5-J-34MCR U.S. COMMODITY FUTURES TRADING COMMISSION, Plaintiff, ALLIED MARKETS LLC, JOSHUA GILLILAND, and CHAWALIT WONGKHIAO, Defendants.'],\n",
              "  'header': '3:15-cv-5-J-34MCR U.S. COMMODITY FUTURES TRADING COMMISSION, Plaintiff, ALLIED MARKETS LLC, JOSHUA GILLILAND, and CHAWALIT WONGKHIAO, Defendants.',\n",
              "  'id': 69},\n",
              " {'content': [\"ORDER GRANTING PLAINTIFF'S EX PARTE MOTION FOR STATUTORY RESTRAINING ORDER AND SCHEDULING PRELIMINARY fNJUNCTION HEARING THIS CAUSE is before the Court on Plaintiffs Ex Parte Motion for Statutory Restraining Order and Motion for Preliminary Injunction (Doc.\",\n",
              "   'S-4; Motion), filed on January 5, 2015.',\n",
              "   'Simultaneously with the Motion, the United States Commodity Futures Trading Commission (Plaintiff or CFTC) filed a Complaint for Injunctive Relief, Civil Monetary Penalty, and Other Equitable Relief (Doc.',\n",
              "   'S-3) against Defendants Allied Markets LLC, Joshua Gilliland, and Chawalit Wongkhiao (collectively, Defendants).',\n",
              "   'In the Motion, the CFTC moves, pursuant to Section 6c(a) of the Commodity Exchange Act (CEA), 7 U.S.C.',\n",
              "   '§ 13a-l (a) (2012), for an ex parte statutory restraining order freezing assets and prohibiting the destruction of books, records, or other documents; and for an order requiring Defendants to show cause why a preliminary injunction should not issue.',\n",
              "   \"The Court has considered the pleadings, declarations, exhibits, and memorandum filed in support of the CFTC's Motion, and now, being fully advised, finds as follows: 1.\",\n",
              "   'The Court possesses jurisdiction over the parties and over the subject matter of this action pursuant to Section 6c of the CEA, 7 U.S.C.',\n",
              "   '§ 13a- l (2012).',\n",
              "   '2.',\n",
              "   'Venue properly lies in this District, pursuant to Section 6c( e) of the CEA, 7 U.S.C.',\n",
              "   '§ 13a-l(e) (2012).',\n",
              "   '3.',\n",
              "   'There is good cause to believe that Defendant Allied Markets LLC (\"Allied Markets\"), by and through its agents, principals and control persons, Defendants Joshua Gilliland and Chawalit Wongkhiao have engaged in, are engaging in, and may continue to engage in violations of Sections 2(c)(2)(C)(iii)(I)(cc), 4b(a)(2)(A) and (C), 4k(2), 4m(l), and 4o(l) of the CEA, 7 U.S.C.',\n",
              "   '§§ 2(c)(2)(C)(iii)(I)(cc), 6b(a)(2)(A), (C), 6k(2), 6m(l), 60(1) (2012); and CFTC Regulations 3.',\n",
              "   '12, 4.20(a)-(c), 4.4l(a), 5.2(b)(l) and (3), 5.3(a)(2)(i), and 5.3(a)(2)(ii), 17 C.F.R.',\n",
              "   '§§ 3.12, 4.20(a)-(c), 4.4l(a), 5.2(b)(l), (3), 5.3(a)(2)(i), (ii) (2014).',\n",
              "   '4.',\n",
              "   'The CFTC has presented evidence that, since at least January 2012, Defendants fraudulently solicited more than $1 million from members of the public to participate in a supposed commodity pool purportedly trading leveraged or margined retail off-exchange foreign currency contracts, commonly known as \"forex.\"',\n",
              "   \"The CFTC has also presented evidence that Defendants misappropriated pool participants' funds to pay Defendants Gilliland's and Wongkhiao's personal expenses.\",\n",
              "   'Additionally, the CFTC has presented evidence that Defendants failed to register with the CFTC as required, failed to segregate customer funds, and failed to operate the commodity pool as a separate entity, and 2 failed to accurately report or disclose the performance of the relevant investments, as required by the CEA and CFTC Regulations.',\n",
              "   '5.',\n",
              "   \"There is good cause to believe that immediate and irreparable damage to the Court's ability to grant effective final relief in the form of monetary redress will occur from the sale, transfer, assignment, or other disposition by Defendants of assets or records unless Defendants are immediately restrained and enjoined by order of this Court; 6.\",\n",
              "   'There is good cause for entry of an order freezing assets owned, controlled, managed, or held by or on behalf of, or for the benefit of, Defendants.',\n",
              "   '7.',\n",
              "   \"There is good cause for entry of an order prohibiting Defendants, their agents, servants, employees, assigns, attorneys, and persons in active concert or participation with Defendants, including any successor thereof, from destroying records and/or denying agents of the CFTC immediate and complete access to Defendants' books and records for inspection and copying.\",\n",
              "   '8.',\n",
              "   'Absent the entry of this order, Defendants would have the ability to dissipate or transfer assets and destroy books and records.',\n",
              "   '9.',\n",
              "   'An ex parte statutory restraining order is warranted here to preserve the status quo, protect customers from loss and damage, and enable the CFTC to fulfill its statutory duties.',\n",
              "   'Accordingly, it is ORDERED: 10.',\n",
              "   \"Plaintiff's Ex Parte Motion for Statutory Restraining Order and Motion for Preliminary Injunction (Doc.\",\n",
              "   'S-4) is GRANTED, in part, and TAKEN UNDER ADVISEMENT, in part.',\n",
              "   '3 A.',\n",
              "   'To the extent the CFTC requests an ex parte statutory restraining order, the Motion is GRANTED as set forth below.',\n",
              "   'B.'],\n",
              "  'header': 'B.',\n",
              "  'id': 70},\n",
              " {'content': ['To the extent the CFTC requests the entry of a preliminary injunction, the Motion is TAKEN UNDER ADVISEMENT.',\n",
              "   'RELIEF GRANTED I.'],\n",
              "  'header': 'RELIEF GRANTED I.',\n",
              "  'id': 71},\n",
              " {'content': ['ASSET 1 FREEZE IT IS HEREBY ORDERED that: 11.'],\n",
              "  'header': 'ASSET 1 FREEZE IT IS HEREBY ORDERED that: 11.',\n",
              "  'id': 72},\n",
              " {'content': [\"Defendants2 and their agents, servants, employees, assigns, attorneys, including any successor thereof, and persons in active concert or participation with them, who receive actual notice of this Order by personal service or otherwise, are immediately restrained and enj oined from directly or indirectly transferring, selling, alienating, liquidating, encumbering, pledging, leasing, loaning, assigning, concealing, dissipating, converting, withdrawing, or otherwise disposing of any assets, wherever located, including Defendants' assets held outside the United States, except as otherwise ordered by the Court.\",\n",
              "   '1 For the purposes of this Order, the term \\'\\'Assets\" means any legal or equitable interest in, right to, or c laim to, any real or personal property, whether individually or jointly, directly or indirectly controlled, and wherever located, including, but not limited to: chattels, goods, instruments, equipment, fixtures, general intangibles, effects, leaseholds mail or other deliveries, inventory, checks, notes, accounts (including, but not limited to, bank accounts and accounts at other financial institutions), credits, receivables, lines of credit, contracts (including spot, futures, options, or swaps contracts), insurance policies, and all cash, wherever located, whether within or outside the United States.',\n",
              "   '2 For purposes of this Order, the term \" Defendants\" refers to Allied Markets LLC, Joshua Gilliland, and Chawalit Wongkhiao, and any person insofar as he or she is acting in the capacity of an officer, agent servant, employee, or attorney of Defendants and any person who receives actual notice of this Order by personal service or otherwise insofar as he or she is acting in concert or participation with Defendants. \"',\n",
              "   'Defendants\" also refers to any d/b/a, successor, affiliate, subsidiary, or other entity owned, controlled, managed, or held by, on behalf of, or for the benefit of Allied Markets, Joshua Gilliland, or Chawalit Wongkhiao.',\n",
              "   '4 12.',\n",
              "   \"This Order shall apply to any assets derived from or otherwise related to the activities alleged in the CFTC's complaint, regardless of when the asset is obtained.\",\n",
              "   \"However, the assets affected by this Order shall not include assets obtained after the effective date of this Order, to the extent such assets are not derived from or otherwise related to the activities alleged in the CFTC's complaint.\",\n",
              "   'II.'],\n",
              "  'header': 'II.',\n",
              "  'id': 73},\n",
              " {'content': ['NOTICE TO FINANCIAL INSTUTIONS AND OTHERS 13.'],\n",
              "  'header': 'NOTICE TO FINANCIAL INSTUTIONS AND OTHERS 13.',\n",
              "  'id': 74},\n",
              " {'content': [\"Any financial or brokerage institution, business entity, or person that holds, controls, or maintains custody of any account or asset titled in the name of, held for the benefit of, or otherwise under the control of any Defendant, or has held, controlled, or maintained custody of any such account or asset of any Defendant at any time since January 1, 2012 are hereby notified that this Order prohibits any Defendant and all other persons from withdrawing, removing, assigning, transferring, pledging, encumbering, disbursing, dissipating, converting, selling or otherwise disposing of Defendants' assets, except as directed by further order of the Court; provided, however, nothing in this Order shall limit the discretion of any compliance official of any retail foreign exchange dealer or futures commission merchant with which Defendants maintain an account to liquidate, or close out, any and all open positions in Defendants' account, in a prompt and orderly fashion in order to avoid losse.s due to the asset freeze required by this Order.\",\n",
              "   'III.'],\n",
              "  'header': 'III.',\n",
              "  'id': 75},\n",
              " {'content': ['MAINTENANCE OF AND ACCESS TO BUSINESS RECORDS IT IS FURTHER ORDERED that: 14.'],\n",
              "  'header': 'MAINTENANCE OF AND ACCESS TO BUSINESS RECORDS IT IS FURTHER ORDERED that: 14.',\n",
              "  'id': 76},\n",
              " {'content': ['Defendants and all persons or entities who receive notice of this Order by personal service or otherwise, are restrained from directly or indirectly destroying, 5 mutilating, erasing, altering, concealing or disposing of, in any manner, directly or indirectly, any documents3 that relate to the business practices or business or personal finances of any Defendant.',\n",
              "   'IV.'],\n",
              "  'header': 'IV.',\n",
              "  'id': 77},\n",
              " {'content': ['BOND NOT REQUIRED OF PLAINTIFF IT IS FURTHER ORDERED that: 15.'],\n",
              "  'header': 'BOND NOT REQUIRED OF PLAINTIFF IT IS FURTHER ORDERED that: 15.',\n",
              "  'id': 78},\n",
              " {'content': ['Because Plaintiff CFTC is an agency of the United States of America and has made a proper showing under Section 6c(b) of the CEA, 7 U.S.C.',\n",
              "   '§ 13a-1(b) (2012), this restraining order is granted without bond.',\n",
              "   'V. INSPECTION AND COPYING OF BOOKS AND RECORDS IT IS FURTHER ORDERED that: 16.'],\n",
              "  'header': 'V. INSPECTION AND COPYING OF BOOKS AND RECORDS IT IS FURTHER ORDERED that: 16.',\n",
              "  'id': 79},\n",
              " {'content': ['Defendants shall immediately allow representatives of the CFTC to inspect the books, records, and other documents of Defendants and their agents including, but not limited to, paper documents, electronically stored information, tape recordings, and computer discs, wherever they may be situated and whether they are in the possession of Defendants or others, and to copy said documents, data and records, either on or off the premises where they may be situated.',\n",
              "   'VI.'],\n",
              "  'header': 'VI.',\n",
              "  'id': 80},\n",
              " {'content': ['SERVICE OF ORDER AND ASSISTANCE OF UNITED ST A TES MARSHALS SERVICE IT IS FURTHER ORDERED that: 1 7.'],\n",
              "  'header': 'SERVICE OF ORDER AND ASSISTANCE OF UNITED ST A TES MARSHALS SERVICE IT IS FURTHER ORDERED that: 1 7.',\n",
              "  'id': 81},\n",
              " {'content': ['Copies of thls Order may be served by any means, including facsimile transmission, upon any financial institution or other entity or person that may have 3 For purposes of this Order, the term \"document\" is synonymous in meaning and equal in scope to the broad usage of the tenn in Federal Rule of Civil Procedure 34(a).',\n",
              "   '6 possession, custody, or control of any documents or assets of any Defendant, or that may be subject to any provision of this Order.',\n",
              "   '18.',\n",
              "   'Representatives of the CFTC, the United States Marshals Service, the Florida Office of Financial Regulation, and the police departments of Jacksonville and Jacksonville Beach, Florida are specially appointed by the Court to effect service of this Order.',\n",
              "   '19.',\n",
              "   'The United States Marshals Service, the Florida Office of Financial Regulation, and the police departments of Jacksonville and Jacksonville Beach, Florida, in order to ensure the safety of CFTC representatives, are authorized to accompany and assist the CFTC in the service on Defendants of the summons, complaint, and supporting motions, memoranda, and orders entered with this Order.',\n",
              "   '20.',\n",
              "   'The CFTC shall immediately file proof of service with the Court once accomplished.',\n",
              "   'VII.'],\n",
              "  'header': 'VII.',\n",
              "  'id': 82},\n",
              " {'content': ['PRELIMINARY INJUNCTION HEARING IT IS FURTHER ORDERED that: 21 .'],\n",
              "  'header': 'PRELIMINARY INJUNCTION HEARING IT IS FURTHER ORDERED that: 21 .',\n",
              "  'id': 83},\n",
              " {'content': ['This matter is set for a HEARING on Plaintiffs Motion for Preliminary Injunction (Doc.',\n",
              "   'S-4) on Wednesday, January 21, 2015, at 10:00 a.m., before the undersigned at the Bryan Simpson United States Courthouse, 300 North Hogan Street, Jacksonville, Florida, 32202, in Courtroom 1 OB.',\n",
              "   'Counsel for Plaintiff and Defendants shall appear in person and telephonic appearances will not be permitted.4 4 All persons entering the Courthouse must present photo identification to Court Security Officers.',\n",
              "   'Although cell phones, laptop computers, and similar electronic devices generally are not permitted in the building, attorneys may bring those items with them upon presentation to Court Security Officers of a Florida Bar card (presentation of the Duval County Courthouse lawyer identification card will suffice) or Order of special admission pro hac vice.',\n",
              "   'However, all cell phones must be turned off while in the courtroom.',\n",
              "   '7 22.',\n",
              "   'The following expedited briefing schedule shall govern this case: A.',\n",
              "   'Defendants shall have up to and including 5:00 p.m. on Thursday, January 15, 2015, to file a memorandum in opposition to Plaintiffs Motion for Preliminary Injunction (Doc.',\n",
              "   'S-4), including any affidavits or declarations on which they rely.',\n",
              "   'B.'],\n",
              "  'header': 'B.',\n",
              "  'id': 84},\n",
              " {'content': ['Plaintiff shall have up to and including 11:00 a.m. on Tuesday, January 20, 2015, to file a reply, if necessary, in support of its Motion for Preliminary Injunction, which shall not exceed TEN (10) PAGES in length.',\n",
              "   '23.',\n",
              "   'The hearing will be conducted in accordance with Local Rule 4.06, United States District Court, Middle District of Florida, and Rule 65, Federal Rules of Civil Procedure.',\n",
              "   'The case does not appear to involve the exceptional situation wherein the Court will allow the parties to submit evidence at the hearing.',\n",
              "   'See Local Rule 4.06(b).',\n",
              "   'Thus, absent further order,5 the hearing will be limited to the written submissions and arguments of counsel.',\n",
              "   '24.',\n",
              "   'In issuing this Statutory Restraining Order, the Court understands that Defendants have not yet been given an opportunity to be heard and emphasizes that it is not making a final decision on any request for preliminary injunctive relief.',\n",
              "   \"However, the Court is persuaded that issuing the Statutory Restraining Order until a full hearing can be held on the CFTC's request for preliminary injunctive relief is the lawful and proper action.\",\n",
              "   \"5 McDonald's Com.\",\n",
              "   'v. Robertson, 147 F.3d 1301, 1312-13 (I Ith Cir.',\n",
              "   '1998) (\"[W]here facts are bitterly contested and credibility determinations must be made to decide whether injunctive relief should issue, an evidentiary hearing must be held .... [W]here material facts are not in dispute, or where facts in dispute are not material to the preliminary injunction sought, district courts need not hold an evidentiary hearing.\")',\n",
              "   'In the event either party believes such a hearing is warranted in this action, the party must, after conferring with opposing counsel, file a motion requesting an evidentiary hearing and identifying the factual issues or dispute which necessitate such relief.',\n",
              "   '8 VIII.',\n",
              "   'FORCE AND EFFECT IT IS FURTHER ORDERED that: 25.'],\n",
              "  'header': 'FORCE AND EFFECT IT IS FURTHER ORDERED that: 25.',\n",
              "  'id': 85}]"
            ]
          },
          "metadata": {
            "tags": []
          },
          "execution_count": 40
        }
      ]
    },
    {
      "cell_type": "code",
      "metadata": {
        "id": "EiFYwjHcGvVC"
      },
      "source": [
        "def get_case(page):\n",
        "    for line in page[1]['content']:\n",
        "        \n",
        "        print(line)\n",
        "        if len(line) < 50:\n",
        "            p = re.compile(\"NO[\\.:]\\s*.+\")\n",
        "            result = p.search(line.upper())\n",
        "            if result:\n",
        "                return result.group(0).strip()\n",
        "            \n",
        "    for line in  page[0]['content']:   \n",
        "        if len(line) < 50:    \n",
        "            p = re.compile(\"\\d*-?CV-\\d+.*\")\n",
        "            result = p.search(line.upper())\n",
        "            if result:\n",
        "                return result.group(0).strip()"
      ],
      "execution_count": 41,
      "outputs": []
    },
    {
      "cell_type": "code",
      "metadata": {
        "colab": {
          "base_uri": "https://localhost:8080/"
        },
        "id": "yBYlfMWqzrNQ",
        "outputId": "fec0a75e-f842-4096-eeee-9c712f85dd3a"
      },
      "source": [
        "section[2]"
      ],
      "execution_count": 95,
      "outputs": [
        {
          "output_type": "execute_result",
          "data": {
            "text/plain": [
              "{'content': [\"ORDER GRANTING PLAINTIFF'S EX PARTE MOTION FOR STATUTORY RESTRAINING ORDER AND SCHEDULING PRELIMINARY fNJUNCTION HEARING THIS CAUSE is before the Court on Plaintiffs Ex Parte Motion for Statutory Restraining Order and Motion for Preliminary Injunction (Doc.\",\n",
              "  'S-4; Motion), filed on January 5, 2015.',\n",
              "  'Simultaneously with the Motion, the United States Commodity Futures Trading Commission (Plaintiff or CFTC) filed a Complaint for Injunctive Relief, Civil Monetary Penalty, and Other Equitable Relief (Doc.',\n",
              "  'S-3) against Defendants Allied Markets LLC, Joshua Gilliland, and Chawalit Wongkhiao (collectively, Defendants).',\n",
              "  'In the Motion, the CFTC moves, pursuant to Section 6c(a) of the Commodity Exchange Act (CEA), 7 U.S.C.',\n",
              "  '§ 13a-l (a) (2012), for an ex parte statutory restraining order freezing assets and prohibiting the destruction of books, records, or other documents; and for an order requiring Defendants to show cause why a preliminary injunction should not issue.',\n",
              "  \"The Court has considered the pleadings, declarations, exhibits, and memorandum filed in support of the CFTC's Motion, and now, being fully advised, finds as follows: 1.\",\n",
              "  'The Court possesses jurisdiction over the parties and over the subject matter of this action pursuant to Section 6c of the CEA, 7 U.S.C.',\n",
              "  '§ 13a- l (2012).',\n",
              "  '2.',\n",
              "  'Venue properly lies in this District, pursuant to Section 6c( e) of the CEA, 7 U.S.C.',\n",
              "  '§ 13a-l(e) (2012).',\n",
              "  '3.',\n",
              "  'There is good cause to believe that Defendant Allied Markets LLC (\"Allied Markets\"), by and through its agents, principals and control persons, Defendants Joshua Gilliland and Chawalit Wongkhiao have engaged in, are engaging in, and may continue to engage in violations of Sections 2(c)(2)(C)(iii)(I)(cc), 4b(a)(2)(A) and (C), 4k(2), 4m(l), and 4o(l) of the CEA, 7 U.S.C.',\n",
              "  '§§ 2(c)(2)(C)(iii)(I)(cc), 6b(a)(2)(A), (C), 6k(2), 6m(l), 60(1) (2012); and CFTC Regulations 3.',\n",
              "  '12, 4.20(a)-(c), 4.4l(a), 5.2(b)(l) and (3), 5.3(a)(2)(i), and 5.3(a)(2)(ii), 17 C.F.R.',\n",
              "  '§§ 3.12, 4.20(a)-(c), 4.4l(a), 5.2(b)(l), (3), 5.3(a)(2)(i), (ii) (2014).',\n",
              "  '4.',\n",
              "  'The CFTC has presented evidence that, since at least January 2012, Defendants fraudulently solicited more than $1 million from members of the public to participate in a supposed commodity pool purportedly trading leveraged or margined retail off-exchange foreign currency contracts, commonly known as \"forex.\"',\n",
              "  \"The CFTC has also presented evidence that Defendants misappropriated pool participants' funds to pay Defendants Gilliland's and Wongkhiao's personal expenses.\",\n",
              "  'Additionally, the CFTC has presented evidence that Defendants failed to register with the CFTC as required, failed to segregate customer funds, and failed to operate the commodity pool as a separate entity, and 2 failed to accurately report or disclose the performance of the relevant investments, as required by the CEA and CFTC Regulations.',\n",
              "  '5.',\n",
              "  \"There is good cause to believe that immediate and irreparable damage to the Court's ability to grant effective final relief in the form of monetary redress will occur from the sale, transfer, assignment, or other disposition by Defendants of assets or records unless Defendants are immediately restrained and enjoined by order of this Court; 6.\",\n",
              "  'There is good cause for entry of an order freezing assets owned, controlled, managed, or held by or on behalf of, or for the benefit of, Defendants.',\n",
              "  '7.',\n",
              "  \"There is good cause for entry of an order prohibiting Defendants, their agents, servants, employees, assigns, attorneys, and persons in active concert or participation with Defendants, including any successor thereof, from destroying records and/or denying agents of the CFTC immediate and complete access to Defendants' books and records for inspection and copying.\",\n",
              "  '8.',\n",
              "  'Absent the entry of this order, Defendants would have the ability to dissipate or transfer assets and destroy books and records.',\n",
              "  '9.',\n",
              "  'An ex parte statutory restraining order is warranted here to preserve the status quo, protect customers from loss and damage, and enable the CFTC to fulfill its statutory duties.',\n",
              "  'Accordingly, it is ORDERED: 10.',\n",
              "  \"Plaintiff's Ex Parte Motion for Statutory Restraining Order and Motion for Preliminary Injunction (Doc.\",\n",
              "  'S-4) is GRANTED, in part, and TAKEN UNDER ADVISEMENT, in part.',\n",
              "  '3 A.',\n",
              "  'To the extent the CFTC requests an ex parte statutory restraining order, the Motion is GRANTED as set forth below.',\n",
              "  'B.'],\n",
              " 'header': 'B.',\n",
              " 'id': 2}"
            ]
          },
          "metadata": {
            "tags": []
          },
          "execution_count": 95
        }
      ]
    },
    {
      "cell_type": "code",
      "metadata": {
        "id": "yC7x37K5GvdM"
      },
      "source": [
        "import spacy\n",
        "def get_entities(section):\n",
        "    entities=[]\n",
        "    # Load English tokenizer, tagger, parser and NER\n",
        "    nlp = spacy.load(\"en_core_web_sm\")\n",
        "    # Process whole documents\n",
        "    for text in section:\n",
        "        text = (\"\\n\".join(section[2]['content']))\n",
        "        doc = nlp(text)\n",
        "        # Find named entities, phrases and concepts\n",
        "        for entity in doc.ents:\n",
        "            if entity.label_ == \"ORG\":\n",
        "                entities.append([entity.text,\":       \", entity.label_])\n",
        "            \n",
        "    return entities"
      ],
      "execution_count": 67,
      "outputs": []
    },
    {
      "cell_type": "code",
      "metadata": {
        "id": "FyNv1NtovlrH"
      },
      "source": [
        "def get_header(section):\n",
        "  sec0=\"\".join(section[0]['content'])\n",
        "  sec1=\"\".join(section[1]['content'])\n",
        "  entete=[sec0]\n",
        "  entete.append(sec1)\n",
        "  header=\"\".join(entete)\n",
        "  return header\n"
      ],
      "execution_count": 87,
      "outputs": []
    },
    {
      "cell_type": "code",
      "metadata": {
        "colab": {
          "base_uri": "https://localhost:8080/",
          "height": 54
        },
        "id": "T0k0pZbkwift",
        "outputId": "f363ff5b-ae0c-4a8f-e59d-cf621e083192"
      },
      "source": [
        "header=create_header(section)\n",
        "header"
      ],
      "execution_count": 82,
      "outputs": [
        {
          "output_type": "execute_result",
          "data": {
            "application/vnd.google.colaboratory.intrinsic+json": {
              "type": "string"
            },
            "text/plain": [
              "'UNITED STATES DISTRICT COURT MIDDLE DISTRICT OF FLORIDA Jacksonville Division v. Case No.3:15-cv-5-J-34MCR U.S. COMMODITY FUTURES TRADING COMMISSION, Plaintiff, ALLIED MARKETS LLC, JOSHUA GILLILAND, and CHAWALIT WONGKHIAO, Defendants.'"
            ]
          },
          "metadata": {
            "tags": []
          },
          "execution_count": 82
        }
      ]
    },
    {
      "cell_type": "code",
      "metadata": {
        "id": "htHi0B-sESLn",
        "colab": {
          "base_uri": "https://localhost:8080/"
        },
        "outputId": "b417ce33-b9d3-4667-985b-d54bcb218927"
      },
      "source": [
        "print(nlp(question=\"what is the case No?\", context=header, topk=4))"
      ],
      "execution_count": 89,
      "outputs": [
        {
          "output_type": "stream",
          "text": [
            "[{'score': 0.4023226201534271, 'start': 89, 'end': 106, 'answer': '3:15-cv-5-J-34MCR'}, {'score': 0.049178872257471085, 'start': 91, 'end': 106, 'answer': '15-cv-5-J-34MCR'}, {'score': 0.04214375838637352, 'start': 89, 'end': 90, 'answer': '3'}, {'score': 0.009276355616748333, 'start': 81, 'end': 90, 'answer': 'Case No.3'}]\n"
          ],
          "name": "stdout"
        }
      ]
    },
    {
      "cell_type": "code",
      "metadata": {
        "id": "4PiWquReBWbH",
        "colab": {
          "base_uri": "https://localhost:8080/"
        },
        "outputId": "a7576bc8-0602-45bf-ca9e-a6314450d957"
      },
      "source": [
        "print(nlp(question=\"Who is  Defendants\", context=header, topk=3))"
      ],
      "execution_count": 93,
      "outputs": [
        {
          "output_type": "stream",
          "text": [
            "[{'score': 0.6581836342811584, 'start': 203, 'end': 221, 'answer': 'CHAWALIT WONGKHIAO'}, {'score': 0.019663704559206963, 'start': 203, 'end': 211, 'answer': 'CHAWALIT'}, {'score': 0.006906569469720125, 'start': 223, 'end': 233, 'answer': 'Defendants'}]\n"
          ],
          "name": "stdout"
        }
      ]
    },
    {
      "cell_type": "code",
      "metadata": {
        "id": "FHN-ooSITEZn"
      },
      "source": [
        "def get_defendant(section):\n",
        "    nlp = pipeline('question-answering', model='distilbert-base-cased-distilled-squad', tokenizer='distilbert-base-cased')\n",
        "    defendant=nlp(question=\"Who is Defendant?\", context=get_header(section),topk=3)\n",
        "    return defendant"
      ],
      "execution_count": 88,
      "outputs": []
    },
    {
      "cell_type": "code",
      "metadata": {
        "id": "EHgT19oXTaQI"
      },
      "source": [
        "defendant=get_defendant(section)\n",
        "list_defend=[]\n",
        "for defend in defendant:\n",
        "  if defend['score']> 0.5:\n",
        "    list_defend.append(defend['answer'])"
      ],
      "execution_count": null,
      "outputs": []
    },
    {
      "cell_type": "code",
      "metadata": {
        "colab": {
          "base_uri": "https://localhost:8080/"
        },
        "id": "sKD9_n2LrrD-",
        "outputId": "a2bb3d84-9a58-4712-f365-5a1d6c92ecec"
      },
      "source": [
        "list_defend"
      ],
      "execution_count": null,
      "outputs": [
        {
          "output_type": "execute_result",
          "data": {
            "text/plain": [
              "['Joshua Gilliland and Chawalit Wongkhiao', 'Allied Markets LLC']"
            ]
          },
          "metadata": {
            "tags": []
          },
          "execution_count": 58
        }
      ]
    },
    {
      "cell_type": "markdown",
      "metadata": {
        "id": "6RVn2LBiBWbH"
      },
      "source": [
        "# STOP HERE"
      ]
    },
    {
      "cell_type": "code",
      "metadata": {
        "id": "e7lLRHdSBWbI",
        "colab": {
          "base_uri": "https://localhost:8080/"
        },
        "outputId": "515ab5c3-a562-4b4b-ddfb-5f86efbabd30"
      },
      "source": [
        "section[2]['content']\n",
        "\n"
      ],
      "execution_count": null,
      "outputs": [
        {
          "output_type": "execute_result",
          "data": {
            "text/plain": [
              "['3:15-cv-5-J-34MCR U.S. COMMODITY FUTURES TRADING COMMISSION, Plaintiff, ALLIED MARKETS LLC, JOSHUA GILLILAND, and CHAWALIT WONGKHIAO, Defendants.',\n",
              " \"ORDER GRANTING PLAINTIFF'S EX PARTE MOTION FOR STATUTORY RESTRAINING ORDER AND SCHEDULING PRELIMINARY fNJUNCTION HEARING THIS CAUSE is before the Court on Plaintiffs Ex Parte Motion for Statutory Restraining Order and Motion for Preliminary Injunction (Doc.\",\n",
              " 'S-4; Motion), filed on January 5, 2015.',\n",
              " 'Simultaneously with the Motion, the United States Commodity Futures Trading Commission (Plaintiff or CFTC) filed a Complaint for Injunctive Relief, Civil Monetary Penalty, and Other Equitable Relief (Doc.',\n",
              " 'S-3) against Defendants Allied Markets LLC, Joshua Gilliland, and Chawalit Wongkhiao (collectively, Defendants).',\n",
              " 'In the Motion, the CFTC moves, pursuant to Section 6c(a) of the Commodity Exchange Act (CEA), 7 U.S.C.',\n",
              " '§ 13a-l (a) (2012), for an ex parte statutory restraining order freezing assets and prohibiting the destruction of books, records, or other documents; and for an order requiring Defendants to show cause why a preliminary injunction should not issue.',\n",
              " \"The Court has considered the pleadings, declarations, exhibits, and memorandum filed in support of the CFTC's Motion, and now, being fully advised, finds as follows: 1.\",\n",
              " 'The Court possesses jurisdiction over the parties and over the subject matter of this action pursuant to Section 6c of the CEA, 7 U.S.C.',\n",
              " '§ 13a- l (2012).',\n",
              " '2.',\n",
              " 'Venue properly lies in this District, pursuant to Section 6c( e) of the CEA, 7 U.S.C.',\n",
              " '§ 13a-l(e) (2012).',\n",
              " '3.',\n",
              " 'There is good cause to believe that Defendant Allied Markets LLC (\"Allied Markets\"), by and through its agents, principals and control persons, Defendants Joshua Gilliland and Chawalit Wongkhiao have engaged in, are engaging in, and may continue to engage in violations of Sections 2(c)(2)(C)(iii)(I)(cc), 4b(a)(2)(A) and (C), 4k(2), 4m(l), and 4o(l) of the CEA, 7 U.S.C.',\n",
              " '§§ 2(c)(2)(C)(iii)(I)(cc), 6b(a)(2)(A), (C), 6k(2), 6m(l), 60(1) (2012); and CFTC Regulations 3.',\n",
              " '12, 4.20(a)-(c), 4.4l(a), 5.2(b)(l) and (3), 5.3(a)(2)(i), and 5.3(a)(2)(ii), 17 C.F.R.',\n",
              " '§§ 3.12, 4.20(a)-(c), 4.4l(a), 5.2(b)(l), (3), 5.3(a)(2)(i), (ii) (2014).',\n",
              " '4.',\n",
              " 'The CFTC has presented evidence that, since at least January 2012, Defendants fraudulently solicited more than $1 million from members of the public to participate in a supposed commodity pool purportedly trading leveraged or margined retail off-exchange foreign currency contracts, commonly known as \"forex.\"',\n",
              " \"The CFTC has also presented evidence that Defendants misappropriated pool participants' funds to pay Defendants Gilliland's and Wongkhiao's personal expenses.\",\n",
              " 'Additionally, the CFTC has presented evidence that Defendants failed to register with the CFTC as required, failed to segregate customer funds, and failed to operate the commodity pool as a separate entity, and 2 failed to accurately report or disclose the performance of the relevant investments, as required by the CEA and CFTC Regulations.',\n",
              " '5.',\n",
              " \"There is good cause to believe that immediate and irreparable damage to the Court's ability to grant effective final relief in the form of monetary redress will occur from the sale, transfer, assignment, or other disposition by Defendants of assets or records unless Defendants are immediately restrained and enjoined by order of this Court; 6.\",\n",
              " 'There is good cause for entry of an order freezing assets owned, controlled, managed, or held by or on behalf of, or for the benefit of, Defendants.',\n",
              " '7.',\n",
              " \"There is good cause for entry of an order prohibiting Defendants, their agents, servants, employees, assigns, attorneys, and persons in active concert or participation with Defendants, including any successor thereof, from destroying records and/or denying agents of the CFTC immediate and complete access to Defendants' books and records for inspection and copying.\",\n",
              " '8.',\n",
              " 'Absent the entry of this order, Defendants would have the ability to dissipate or transfer assets and destroy books and records.',\n",
              " '9.',\n",
              " 'An ex parte statutory restraining order is warranted here to preserve the status quo, protect customers from loss and damage, and enable the CFTC to fulfill its statutory duties.',\n",
              " 'Accordingly, it is ORDERED: 10.',\n",
              " \"Plaintiff's Ex Parte Motion for Statutory Restraining Order and Motion for Preliminary Injunction (Doc.\",\n",
              " 'S-4) is GRANTED, in part, and TAKEN UNDER ADVISEMENT, in part.',\n",
              " '3 A.',\n",
              " 'To the extent the CFTC requests an ex parte statutory restraining order, the Motion is GRANTED as set forth below.']"
            ]
          },
          "metadata": {
            "tags": []
          },
          "execution_count": 71
        }
      ]
    },
    {
      "cell_type": "code",
      "metadata": {
        "id": "IzhmLR51BWbI"
      },
      "source": [
        ""
      ],
      "execution_count": null,
      "outputs": []
    },
    {
      "cell_type": "code",
      "metadata": {
        "id": "qJwIah_CBWbI"
      },
      "source": [
        ""
      ],
      "execution_count": null,
      "outputs": []
    },
    {
      "cell_type": "code",
      "metadata": {
        "id": "p_hMReCOBWbI"
      },
      "source": [
        ""
      ],
      "execution_count": null,
      "outputs": []
    },
    {
      "cell_type": "code",
      "metadata": {
        "id": "mTnUaU25BWbI"
      },
      "source": [
        ""
      ],
      "execution_count": null,
      "outputs": []
    },
    {
      "cell_type": "code",
      "metadata": {
        "id": "_fHqQF2PBWbI"
      },
      "source": [
        ""
      ],
      "execution_count": null,
      "outputs": []
    },
    {
      "cell_type": "code",
      "metadata": {
        "id": "vpKWebfQBWbI"
      },
      "source": [
        ""
      ],
      "execution_count": null,
      "outputs": []
    },
    {
      "cell_type": "markdown",
      "metadata": {
        "id": "xmWs8IE1BWbI"
      },
      "source": [
        "## Extracted authorities"
      ]
    },
    {
      "cell_type": "code",
      "metadata": {
        "id": "yaApsWvbBWbI"
      },
      "source": [
        "UNITED STATES DISTRICT COURT\n",
        "FOR THE MIDDLE DISTRICT OF FLORIDA "
      ],
      "execution_count": null,
      "outputs": []
    },
    {
      "cell_type": "markdown",
      "metadata": {
        "id": "MH2JPPfpBWbJ"
      },
      "source": [
        "## Code law violation"
      ]
    },
    {
      "cell_type": "code",
      "metadata": {
        "id": "4r5j7Vq0BWbJ"
      },
      "source": [
        "violated Section 4c(a)(5)(C) of the Commodity Exchange Act (\"Act\"), 7 U.S.C.\n",
        "§ 6c(a)(5)(C) (2018)."
      ],
      "execution_count": null,
      "outputs": []
    },
    {
      "cell_type": "code",
      "metadata": {
        "id": "MMKZ7OGBBWbJ"
      },
      "source": [
        "Section 4c(a)(5) of the Act, 7 U.S.C.\n",
        "§ 6c(a)(5) (2012)."
      ],
      "execution_count": null,
      "outputs": []
    },
    {
      "cell_type": "markdown",
      "metadata": {
        "id": "IHsg9Zd2BWbJ"
      },
      "source": [
        "## Violation period"
      ]
    },
    {
      "cell_type": "code",
      "metadata": {
        "id": "2xfzJ41SBWbJ"
      },
      "source": [
        "line = 'The Commodity Futures Trading Commission (\"Commission\") has reason to believe that from at least July 2012 through March 2017 (\"Relevant Period\"), Propex Derivatives Pty Ltd. (\"Propex\") violated Section 4c(a)(5)(C) of the Commodity Exchange Act (\"Act\"), 7 U.S.C. 6c(a)(5)(C) (2018). Therefore, the Commission deems it appropriate and in the public interest that public administrative proceedings be, and hereby are, instituted to determine whether Propex engaged in the violations set forth herein and to determine whether any order should be issued imposing remedial sanctions.'"
      ],
      "execution_count": null,
      "outputs": []
    },
    {
      "cell_type": "code",
      "metadata": {
        "id": "8nLbQPGpBWbJ"
      },
      "source": [
        "(\"Relevant Period\")"
      ],
      "execution_count": null,
      "outputs": []
    },
    {
      "cell_type": "markdown",
      "metadata": {
        "id": "rPwjJ-TYBWbJ"
      },
      "source": [
        "## Transaction amount"
      ]
    },
    {
      "cell_type": "code",
      "metadata": {
        "id": "xyTBwIT4BWbK"
      },
      "source": [
        "pour complaint tous les montants vers Transaction amounts"
      ],
      "execution_count": null,
      "outputs": []
    },
    {
      "cell_type": "markdown",
      "metadata": {
        "id": "pmOL4K6SBWbK"
      },
      "source": [
        "## Defendant"
      ]
    },
    {
      "cell_type": "code",
      "metadata": {
        "id": "8ZWr0ukeBWbK"
      },
      "source": [
        "Propex Derivatives Pty Ltd, Respondent."
      ],
      "execution_count": null,
      "outputs": []
    },
    {
      "cell_type": "code",
      "metadata": {
        "scrolled": true,
        "id": "1bxfou-dBWbK"
      },
      "source": [
        "#!pip install -U spacy\n",
        "#!python -m spacy download en_core_web_sm"
      ],
      "execution_count": null,
      "outputs": []
    },
    {
      "cell_type": "markdown",
      "metadata": {
        "id": "ibyLkvm_BWbK"
      },
      "source": [
        "## Nature of violations"
      ]
    },
    {
      "cell_type": "code",
      "metadata": {
        "id": "_2H_AcvYBWbK"
      },
      "source": [
        "II. FINDINGS\n",
        "The Commission finds the following:\n",
        "A. SUMMARY\n",
        "During the Relevant Period, Propex, by and through a Propex trader (\"Trader A\"),·\n",
        "engaged in thousands of instances of the disruptive trading practice known as \"spoofing\"\n",
        "(bidding or offering with the intent to cancel the bid or offer before execution) in the E-mini\n",
        "S&P 500 futures contracts traded on the Chicago Mercantile Exchange (\"CME\"), a futures\n",
        "exchange and designated contract market which is owned and operated by CME Group Inc. This\n",
        "conduct violated Section 4c(a)(5)(C) of the Act, 7 U.S.C. § 6c(a)(5)(C) (2018). "
      ],
      "execution_count": null,
      "outputs": []
    },
    {
      "cell_type": "code",
      "metadata": {
        "id": "bz9_hqwdBWbL"
      },
      "source": [
        "cftc_full_list = pd.read_excel(\"cftc_full_list.xlsx\")"
      ],
      "execution_count": null,
      "outputs": []
    },
    {
      "cell_type": "code",
      "metadata": {
        "id": "V8GdxN8vBWbL"
      },
      "source": [
        "def gen_line_rep(rep):\n",
        "    original_path = f\"./cftc/original/{rep}\"\n",
        "    text_path = f\"./cftc/text/{rep}\"\n",
        "    meta_path = f\"./cftc/meta-data/{rep}\"\n",
        "    lines = []\n",
        "    for file in glob.glob(f\"{meta_path}/*.json\"):\n",
        "        filename = os.path.basename(file)\n",
        "\n",
        "        with open(file) as json_file: \n",
        "            data = json.load(json_file)     \n",
        "\n",
        "        data['filename'] = filename.replace(\".json\",\"\")\n",
        "        data['folder'] = rep\n",
        "        with open(f\"{text_path}/{filename.replace('.json','.txt')}\") as f:\n",
        "            data['doc_text'] = f.read()  \n",
        "\n",
        "\n",
        "        lines.append(data)\n",
        "    return lines"
      ],
      "execution_count": null,
      "outputs": []
    },
    {
      "cell_type": "code",
      "metadata": {
        "id": "xC9wjaaOBWbL",
        "outputId": "0379f7ab-dc17-44b7-e383-f197028819a0"
      },
      "source": [
        "meta_data = []\n",
        "for index, row in cftc_full_list[~cftc_full_list.scraped_folder.isnull()].iterrows():\n",
        "    try:\n",
        "        meta_data.extend(gen_line_rep(row['scraped_folder']))\n",
        "    except:\n",
        "        print(\"error on\",  row['scraped_folder'])\n",
        "len(meta_data)"
      ],
      "execution_count": null,
      "outputs": [
        {
          "output_type": "stream",
          "text": [
            "error on 7882-19\n",
            "error on 8262-20\n",
            "error on 8239-20\n"
          ],
          "name": "stdout"
        },
        {
          "output_type": "execute_result",
          "data": {
            "text/plain": [
              "756"
            ]
          },
          "metadata": {
            "tags": []
          },
          "execution_count": 69
        }
      ]
    },
    {
      "cell_type": "code",
      "metadata": {
        "id": "IpRKPgztBWbL"
      },
      "source": [
        "df_meta_data = pd.DataFrame(meta_data)"
      ],
      "execution_count": null,
      "outputs": []
    },
    {
      "cell_type": "code",
      "metadata": {
        "id": "jt8OSJ3ZBWbL"
      },
      "source": [
        "df_meta_data['doc_clean'] = df_meta_data.doc_text.apply(clean_doc)"
      ],
      "execution_count": null,
      "outputs": []
    },
    {
      "cell_type": "code",
      "metadata": {
        "id": "4BjTCWP7BWbL"
      },
      "source": [
        "df_meta_data['first_page'] = df_meta_data['doc_clean'].str[0]"
      ],
      "execution_count": null,
      "outputs": []
    },
    {
      "cell_type": "code",
      "metadata": {
        "id": "jt4KRC0QBWbM"
      },
      "source": [
        "df_meta_data = df_meta_data[~df_meta_data['first_page'].isnull()]"
      ],
      "execution_count": null,
      "outputs": []
    },
    {
      "cell_type": "markdown",
      "metadata": {
        "id": "zfmaJcRhBWbM"
      },
      "source": [
        "## Get reference"
      ]
    },
    {
      "cell_type": "code",
      "metadata": {
        "id": "RTxasRqNBWbM"
      },
      "source": [
        "df_meta_data['reference'] = df_meta_data.first_page.apply(get_case)"
      ],
      "execution_count": null,
      "outputs": []
    },
    {
      "cell_type": "code",
      "metadata": {
        "id": "NUaZI8C0BWbM"
      },
      "source": [
        ""
      ],
      "execution_count": null,
      "outputs": []
    },
    {
      "cell_type": "markdown",
      "metadata": {
        "id": "wVvIdO8nBWbM"
      },
      "source": [
        "## Get defendant"
      ]
    },
    {
      "cell_type": "code",
      "metadata": {
        "id": "cTuZyYpsBWbM"
      },
      "source": [
        "first_page = [text for text in df_meta_data.first_page.values[3] if len(text) > 100]"
      ],
      "execution_count": null,
      "outputs": []
    },
    {
      "cell_type": "code",
      "metadata": {
        "id": "aQFvYsqsBWbM",
        "outputId": "370e044e-beda-4fcf-ccf8-a09a5236a901"
      },
      "source": [
        "first_page"
      ],
      "execution_count": null,
      "outputs": [
        {
          "output_type": "execute_result",
          "data": {
            "text/plain": [
              "[' The Commodity Futures Trading Commission (\"Commission\") has reason to believe that from in or about August 2012 to at least January 2015 (the \"Relevant Period\"), Respondents Sharpe Signa, LLC (\"Sharpe\") and Garen Ovsepyan (\"Ovsepyan\") violated Sections 2(c)(2)(C)(iii)(I)(bb), 4b(a)(2)(A) and (C), 4o(l)(A) and (B), and 6(c)(2) of the Act, 7 U.S.C.',\n",
              " ' SSSS 2(c)(2)(C)(iii)(I)(bb), 6b(a)(2)(A) and (C), 6o(l)(A) and (B), and 9(2) (2012), and Commission Regulation (\"Regulation\") 5.3(a)(3)(i), 17 C.F.R. SS 5.3(a)(3)(i) (2014), and Respondent Haeres Capital, LLC (\"Haeres\") and Ovsepyan violated Section 6(c )(2) of the Act, 7 U.S.C. SS 9(2) (2012). Therefore, the Commission deems it appropriate and in the public interest that public administrative proceedings be, and hereby are, instituted to determine whether Respondent(s) engaged in the violations set forth herein and to determine whether any order should be issued imposing remedial sanctions.',\n",
              " ' In anticipation of the institution of an administrative proceeding, Respondents have submitted an Offer of Settlement (\"Offer\"), which the Commission has determined to accept.',\n",
              " ' Without admitting or denying any of the findings or conclusions herein, Respondents consent to the entry of this Order Instituting Proceedings Pursuant to Sections 6( c) and 6(d) of the Commodity Exchange Act, Making Findings and Imposing Remedial Sanctions (\"Order\") and acknowledge service of this Order. 1']"
            ]
          },
          "metadata": {
            "tags": []
          },
          "execution_count": 179
        }
      ]
    },
    {
      "cell_type": "code",
      "metadata": {
        "id": "J47Y5dhXBWbN",
        "outputId": "0eaf6c9c-337f-490d-b786-a2c99d535946"
      },
      "source": [
        "print(nlp(question=\"Who violeted?\", context=\".\".join(first_page)))"
      ],
      "execution_count": null,
      "outputs": [
        {
          "output_type": "stream",
          "text": [
            "{'score': 0.1322660595178604, 'start': 175, 'end': 187, 'answer': 'Sharpe Signa'}\n"
          ],
          "name": "stdout"
        }
      ]
    },
    {
      "cell_type": "code",
      "metadata": {
        "id": "O_Bna-Y7BWbN",
        "outputId": "a1a19549-e912-4166-cabb-b00e373bbf0d"
      },
      "source": [
        "print(nlp(question=\"Who is the defendant?\", context=\".\".join(first_page), topk=3))"
      ],
      "execution_count": null,
      "outputs": [
        {
          "output_type": "stream",
          "text": [
            "[{'score': 0.009618670679628849, 'start': 208, 'end': 222, 'answer': 'Garen Ovsepyan'}, {'score': 0.0038621597923338413, 'start': 175, 'end': 187, 'answer': 'Sharpe Signa'}, {'score': 0.0027537851128727198, 'start': 175, 'end': 203, 'answer': 'Sharpe Signa, LLC (\"Sharpe\")'}]\n"
          ],
          "name": "stdout"
        }
      ]
    },
    {
      "cell_type": "code",
      "metadata": {
        "scrolled": false,
        "id": "VuBdMYVpBWbN"
      },
      "source": [
        "#df_meta_data[['reference', 'folder', 'filename']][df_meta_data.reference.isnull()]"
      ],
      "execution_count": null,
      "outputs": []
    },
    {
      "cell_type": "markdown",
      "metadata": {
        "id": "gvVDyZy6BWbN"
      },
      "source": [
        "## Type"
      ]
    },
    {
      "cell_type": "code",
      "metadata": {
        "id": "HiQM3SWTBWbN"
      },
      "source": [
        "df_meta_data['is_order'] = df_meta_data.filename.str.contains(\"order\")"
      ],
      "execution_count": null,
      "outputs": []
    },
    {
      "cell_type": "code",
      "metadata": {
        "id": "U7gtoASeBWbN"
      },
      "source": [
        "df_meta_data['is_complaint'] = df_meta_data.filename.str.contains(\"complaint\")"
      ],
      "execution_count": null,
      "outputs": []
    },
    {
      "cell_type": "code",
      "metadata": {
        "id": "kXQOp6RPBWbO"
      },
      "source": [
        "df_meta_data['type'] = np.where(df_meta_data['is_order'], \"Order CFTC\", \n",
        "         np.where(df_meta_data['is_complaint'], \n",
        "                  \"Complaint CFTC\", None))"
      ],
      "execution_count": null,
      "outputs": []
    }
  ]
}