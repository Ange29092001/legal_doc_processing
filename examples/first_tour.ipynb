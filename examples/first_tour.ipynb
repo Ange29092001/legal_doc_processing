{
 "metadata": {
  "language_info": {
   "codemirror_mode": {
    "name": "ipython",
    "version": 3
   },
   "file_extension": ".py",
   "mimetype": "text/x-python",
   "name": "python",
   "nbconvert_exporter": "python",
   "pygments_lexer": "ipython3",
   "version": 3
  },
  "orig_nbformat": 2
 },
 "nbformat": 4,
 "nbformat_minor": 2,
 "cells": [
  {
   "cell_type": "code",
   "execution_count": null,
   "metadata": {},
   "outputs": [],
   "source": [
    "!pip install legal_doc_processing"
   ]
  },
  {
   "cell_type": "code",
   "execution_count": null,
   "metadata": {},
   "outputs": [],
   "source": [
    "from legal_doc_processing.press_release import PressRelease"
   ]
  },
  {
   "cell_type": "code",
   "execution_count": null,
   "metadata": {},
   "outputs": [],
   "source": [
    "txt=\"\"\"Release Number 7100-15\n",
    "\n",
    " \n",
    "\n",
    "January 12, 2015\n",
    "\n",
    "Federal Court in Florida Enters Order Freezing Assets in CFTC Foreign Currency Anti-\n",
    "Fraud Action against Allied Markets LLC and its Principals Joshua Gilliland and Chawalit\n",
    "Wongkhiao\n",
    "\n",
    "CFIC Charges Jacksonville, Florida, Defendants with Operating a\n",
    "Fraudulent Forex Pool and Misappropriating Customer Funds to Pay\n",
    "Personal Expenses\n",
    "\n",
    "Washington, DC — The U.S. Commodity Futures Trading Commission (CFTC) today announced that it filed a civil\n",
    "enforcement Complaint in the U.S. District Court for the Middle District of Florida, charging Defendants Allied Markets\n",
    "LLC, and its principals Joshua Gilliland and Chawalit Wongkhiao, all of Jacksonville, Florida, with operating a\n",
    "fraudulent foreign currency (forex) commodity pool in violations of the Commodity Exchange Act (CEA) and CFTC\n",
    "Regulations. In addition, none of the Defendants has ever been registered with the CFTC, as required.\n",
    "\n",
    "On January 7, 2015, the day after the CFTC Complaint was filed under seal, U.S. District Judge Marcia Morales Howard\n",
    "issued an emergency Order freezing and preserving assets under the Defendants’ control and prohibiting them from\n",
    "destroying documents or denying CFTC staff access to their books and records. The Court has scheduled a hearing for\n",
    "January 21, 2015, on the CFTC’s motion for a preliminary injunction.\n",
    "\n",
    "The CFTC Complaint charges that, as early as January 2012, the Defendants fraudulently solicited more than $1 million\n",
    "from members of the public to trade forex in a commodity pool. As alleged, Defendants Gilliland and Wongkhiao\n",
    "misappropriated funds to pay their personal expenses. For example, instead of trading forex as promised, they allegedly\n",
    "withdrew approximately $850,000 in pool participant funds from the Allied Markets forex account, spending more than\n",
    "$64,000 of the stolen funds on restaurants and entertainment; approximately $33,000 on travel, hotels and rental cars;\n",
    "and approximately $66,000 on rent for their residence in Jacksonville Beach, Florida. They also transferred at least\n",
    "$83,200 to their personal bank accounts and withdrew approximately $139,000 in cash from automated teller machines\n",
    "and at bank branches, the Complaint charges.\"\"\""
   ]
  },
  {
   "cell_type": "code",
   "execution_count": null,
   "metadata": {},
   "outputs": [],
   "source": [
    "pr = PressRelease(txt)"
   ]
  },
  {
   "cell_type": "code",
   "execution_count": null,
   "metadata": {},
   "outputs": [],
   "source": [
    "print(pr)"
   ]
  },
  {
   "cell_type": "code",
   "execution_count": null,
   "metadata": {},
   "outputs": [],
   "source": [
    "preds = pr.predict_all()"
   ]
  },
  {
   "cell_type": "code",
   "execution_count": null,
   "metadata": {},
   "outputs": [],
   "source": [
    "import pprint\n",
    "\n",
    "pprint.pprint(preds)"
   ]
  },
  {
   "cell_type": "code",
   "execution_count": null,
   "metadata": {},
   "outputs": [],
   "source": []
  }
 ]
}