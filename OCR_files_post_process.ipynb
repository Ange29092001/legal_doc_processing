{
 "cells": [
  {
   "cell_type": "markdown",
   "metadata": {},
   "source": [
    "## 1 - INTRO\n",
    "--------------------"
   ]
  },
  {
   "cell_type": "markdown",
   "metadata": {},
   "source": [
    "### 1.1 - import builtin packages"
   ]
  },
  {
   "cell_type": "code",
   "execution_count": 1,
   "metadata": {},
   "outputs": [],
   "source": [
    "# builtin\n",
    "import os\n",
    "import sys\n",
    "import dateparser\n",
    "import string \n",
    "import re\n",
    "import urllib.request\n",
    "import json\n",
    "import glob\n",
    "import heapq"
   ]
  },
  {
   "cell_type": "markdown",
   "metadata": {},
   "source": [
    "### 1.2 - import external packages"
   ]
  },
  {
   "cell_type": "code",
   "execution_count": 2,
   "metadata": {},
   "outputs": [
    {
     "name": "stderr",
     "output_type": "stream",
     "text": [
      "Since the GPL-licensed package `unidecode` is not installed, using Python's `unicodedata` package which yields worse results.\n"
     ]
    }
   ],
   "source": [
    "# request and web parse\n",
    "import requests\n",
    "import bs4 as bs\n",
    "\n",
    "# data\n",
    "import pandas as pd\n",
    "import numpy as np\n",
    "from sklearn.feature_extraction.text import CountVectorizer\n",
    "\n",
    "# nlp\n",
    "import nltk\n",
    "from nltk.tokenize import sent_tokenize\n",
    "from transformers import pipeline, AutoModelForTokenClassification, AutoTokenizer\n",
    "from cleantext import clean\n",
    "import spacy\n",
    "import textsplit\n",
    "from textsplit.tools import SimpleSentenceTokenizer\n",
    "from textsplit.tools import get_penalty, get_segments\n",
    "from textsplit.algorithm import split_optimal, split_greedy, get_total\n",
    "import word2vec"
   ]
  },
  {
   "cell_type": "markdown",
   "metadata": {},
   "source": [
    "### 1.3 - Import local packages"
   ]
  },
  {
   "cell_type": "code",
   "execution_count": 3,
   "metadata": {},
   "outputs": [],
   "source": [
    "import legal_doc_processing as ldp\n",
    "from legal_doc_processing.information_extraction import * \n",
    "from legal_doc_processing.segmentation import * \n",
    "from legal_doc_processing.utils import * "
   ]
  },
  {
   "cell_type": "markdown",
   "metadata": {},
   "source": [
    "### 1.4 - Bootstrap packages"
   ]
  },
  {
   "cell_type": "code",
   "execution_count": 4,
   "metadata": {},
   "outputs": [
    {
     "name": "stderr",
     "output_type": "stream",
     "text": [
      "[nltk_data] Downloading collection 'popular'\n",
      "[nltk_data]    | \n",
      "[nltk_data]    | Downloading package cmudict to\n",
      "[nltk_data]    |     /home/alex/nltk_data...\n",
      "[nltk_data]    |   Package cmudict is already up-to-date!\n",
      "[nltk_data]    | Downloading package gazetteers to\n",
      "[nltk_data]    |     /home/alex/nltk_data...\n",
      "[nltk_data]    |   Package gazetteers is already up-to-date!\n",
      "[nltk_data]    | Downloading package genesis to\n",
      "[nltk_data]    |     /home/alex/nltk_data...\n",
      "[nltk_data]    |   Package genesis is already up-to-date!\n",
      "[nltk_data]    | Downloading package gutenberg to\n",
      "[nltk_data]    |     /home/alex/nltk_data...\n",
      "[nltk_data]    |   Package gutenberg is already up-to-date!\n",
      "[nltk_data]    | Downloading package inaugural to\n",
      "[nltk_data]    |     /home/alex/nltk_data...\n",
      "[nltk_data]    |   Package inaugural is already up-to-date!\n",
      "[nltk_data]    | Downloading package movie_reviews to\n",
      "[nltk_data]    |     /home/alex/nltk_data...\n",
      "[nltk_data]    |   Package movie_reviews is already up-to-date!\n",
      "[nltk_data]    | Downloading package names to /home/alex/nltk_data...\n",
      "[nltk_data]    |   Package names is already up-to-date!\n",
      "[nltk_data]    | Downloading package shakespeare to\n",
      "[nltk_data]    |     /home/alex/nltk_data...\n",
      "[nltk_data]    |   Package shakespeare is already up-to-date!\n",
      "[nltk_data]    | Downloading package stopwords to\n",
      "[nltk_data]    |     /home/alex/nltk_data...\n",
      "[nltk_data]    |   Package stopwords is already up-to-date!\n",
      "[nltk_data]    | Downloading package treebank to\n",
      "[nltk_data]    |     /home/alex/nltk_data...\n",
      "[nltk_data]    |   Package treebank is already up-to-date!\n",
      "[nltk_data]    | Downloading package twitter_samples to\n",
      "[nltk_data]    |     /home/alex/nltk_data...\n",
      "[nltk_data]    |   Package twitter_samples is already up-to-date!\n",
      "[nltk_data]    | Downloading package omw to /home/alex/nltk_data...\n",
      "[nltk_data]    |   Package omw is already up-to-date!\n",
      "[nltk_data]    | Downloading package wordnet to\n",
      "[nltk_data]    |     /home/alex/nltk_data...\n",
      "[nltk_data]    |   Package wordnet is already up-to-date!\n",
      "[nltk_data]    | Downloading package wordnet_ic to\n",
      "[nltk_data]    |     /home/alex/nltk_data...\n",
      "[nltk_data]    |   Package wordnet_ic is already up-to-date!\n",
      "[nltk_data]    | Downloading package words to /home/alex/nltk_data...\n",
      "[nltk_data]    |   Package words is already up-to-date!\n",
      "[nltk_data]    | Downloading package maxent_ne_chunker to\n",
      "[nltk_data]    |     /home/alex/nltk_data...\n",
      "[nltk_data]    |   Package maxent_ne_chunker is already up-to-date!\n",
      "[nltk_data]    | Downloading package punkt to /home/alex/nltk_data...\n",
      "[nltk_data]    |   Package punkt is already up-to-date!\n",
      "[nltk_data]    | Downloading package snowball_data to\n",
      "[nltk_data]    |     /home/alex/nltk_data...\n",
      "[nltk_data]    |   Package snowball_data is already up-to-date!\n",
      "[nltk_data]    | Downloading package averaged_perceptron_tagger to\n",
      "[nltk_data]    |     /home/alex/nltk_data...\n",
      "[nltk_data]    |   Package averaged_perceptron_tagger is already up-\n",
      "[nltk_data]    |       to-date!\n",
      "[nltk_data]    | \n",
      "[nltk_data]  Done downloading collection popular\n"
     ]
    }
   ],
   "source": [
    "nltk.download(\"popular\")\n",
    "nlp = spacy.load(\"en_core_web_sm\")\n",
    "%matplotlib inline"
   ]
  },
  {
   "cell_type": "markdown",
   "metadata": {},
   "source": [
    "## 2 - CASE\n",
    "----------------------------------\n"
   ]
  },
  {
   "cell_type": "markdown",
   "metadata": {},
   "source": [
    "### 2.1 -  For one doc\n",
    "\n",
    "\n",
    "from data"
   ]
  },
  {
   "cell_type": "code",
   "execution_count": 5,
   "metadata": {},
   "outputs": [],
   "source": [
    "# file_path\n",
    "file = \"data/order-vision-financial-markets-llc.txt\"\n",
    "file_path = os.getcwd() + \"/\" + file\n",
    "assert os.path.isfile(file_path)"
   ]
  },
  {
   "cell_type": "code",
   "execution_count": 6,
   "metadata": {},
   "outputs": [
    {
     "data": {
      "text/plain": [
       "' \\n\\n(— RECEIVED CFTC >\\n\\nUNITED STATES OF AMERICA\\nBefore the\\nCOMMODITY FUTURES TRADING COMMISSION\\n\\n \\n\\n \\n\\nOffice of Proceedings\\nProceedings Clerk\\n\\n\\\\ 5:00 pm, Jul 12, 2019]\\n\\nIn the Matter of:\\n\\n \\n\\n \\n\\nVision Financial Markets LLC,\\nCFTC Docket No. _ 19-13\\n\\n \\n\\nRespondent.\\n\\n \\n\\nORDER INSTITUTING PROCEEDINGS P'"
      ]
     },
     "execution_count": 6,
     "metadata": {},
     "output_type": "execute_result"
    }
   ],
   "source": [
    "# read file \n",
    "raw_text = load_data(file_path)\n",
    "raw_text[:300]"
   ]
  },
  {
   "cell_type": "code",
   "execution_count": 7,
   "metadata": {},
   "outputs": [
    {
     "data": {
      "text/plain": [
       "[' ( RECEIVED CFTC >',\n",
       " ' UNITED STATES OF AMERICA',\n",
       " ' Before the',\n",
       " ' COMMODITY FUTURES TRADING COMMISSION',\n",
       " ' Office of Proceedings',\n",
       " ' Proceedings Clerk',\n",
       " ' \\\\ 5:00 pm, Jul 12, 2019]',\n",
       " ' In the Matter of:',\n",
       " ' Vision Financial Markets LLC,',\n",
       " ' CFTC Docket No.  19-13']"
      ]
     },
     "execution_count": 7,
     "metadata": {},
     "output_type": "execute_result"
    }
   ],
   "source": [
    "# clean and first \n",
    "clean_pages = clean_doc(raw_text)\n",
    "first_page = clean_pages[0]\n",
    "first_page[:10]"
   ]
  },
  {
   "cell_type": "code",
   "execution_count": 8,
   "metadata": {
    "scrolled": true
   },
   "outputs": [
    {
     "data": {
      "text/plain": [
       "'NO.  19-13'"
      ]
     },
     "execution_count": 8,
     "metadata": {},
     "output_type": "execute_result"
    }
   ],
   "source": [
    "# pred case\n",
    "case = get_case(clean_pages[0])\n",
    "case"
   ]
  },
  {
   "cell_type": "markdown",
   "metadata": {},
   "source": [
    "### 2.2 -  For all test doc"
   ]
  },
  {
   "cell_type": "code",
   "execution_count": 9,
   "metadata": {},
   "outputs": [
    {
     "data": {
      "text/plain": [
       "['/home/alex/Desktop/legal_doc_processing/tests/dataset/features/szatmari.txt',\n",
       " '/home/alex/Desktop/legal_doc_processing/tests/dataset/features/hartshorn.txt',\n",
       " '/home/alex/Desktop/legal_doc_processing/tests/dataset/features/eyal.txt',\n",
       " '/home/alex/Desktop/legal_doc_processing/tests/dataset/features/vorley.txt',\n",
       " '/home/alex/Desktop/legal_doc_processing/tests/dataset/features/mirae.txt']"
      ]
     },
     "execution_count": 9,
     "metadata": {},
     "output_type": "execute_result"
    }
   ],
   "source": [
    "# file_path\n",
    "folder = \"tests/dataset/features\"\n",
    "_files_path = os.getcwd() + \"/\" + folder\n",
    "files_path_list = [_files_path + \"/\" + filename for filename in os.listdir(_files_path) ]\n",
    "files_path_list"
   ]
  },
  {
   "cell_type": "code",
   "execution_count": 10,
   "metadata": {},
   "outputs": [
    {
     "data": {
      "text/plain": [
       "'Case 1:19-cv-00544-DKW-KJM Document 34 Filed 08/13/20 Pagelof2 PagelD#: 716\\n\\nIN THE UNITED STATES DISTRICT COURT\\n\\nFOR THE DISTRICT OF HAWAITI\\n\\nUNITED STATES COMMODITY CV 19-00544 DKW-KJM\\n\\n)\\nFUTURES TRADING )\\nCOMMISSION, )\\n) ORDER ADOPTING\\nPlaintiff, ) MAGISTRATE JUDGE’S\\n) FINDINGS AND\\nVS. ) RECOMMENDATION\\n)\\nPETER SZATMARI, )\\n)\\nDefendant. )\\n)\\n\\n \\n\\nORDER ADOPTING MAGISTRATE JUDGE’S\\nFINDINGS AND RECOMMENDATION\\n\\nFindings and Recommendation having been filed on July 28, 2020 and\\nserved on all parties on July 29, 2020, and no objections having been filed by any\\nparty,\\n\\nIT IS HEREBY ORDERED AND ADJUDGED that, pursuant to Title 28,\\nUnited States Code, Section 636(b)(1)(C) and Local Rule 74.1, the \"Findings and\\nRecommendation to Grant Plaintiff\\'s Motion for Final Judgment by Default,\\n\\n//\\n//\\n\\n//\\n\\x0cCase 1:19-cv-00544-DKW-KJM Document 34 Filed 08/13/20 Page2of2 PagelD#: 717\\n\\nPermanent Injunction, Civil Monetary Penalties, and Other Statutory Equitable\\nRelief\", ECF No. 33, are adopted as the opinion and order of this Court.\\nIT IS SO ORDERED.\\n\\nDATED: August 13, 2020 at Honolulu, Hawai’1.\\n\\nves Disyz,\\not Pp < agp Ped Rig\\n\\nf SS... I ~\\n\\n   \\n\\nG\\n\\na /s/ Derrick K. Watson\\nDerrick K. Watson\\n\\nUnited States District Judge\\n\\n \\n\\nia EN \"Ba\\n\\nveg SS & gs\\nnee\\nRre7 oF re\\n\\n \\n\\nUnited States Commodity Futures Trading Commission v. Peter Szatmari; Civil\\nNo. 19-00544 DKW-KJM; ORDER ADOPTING MAGISTRATE JUDGE’S\\nFINDINGS AND RECOMMENDATION\\n'"
      ]
     },
     "execution_count": 10,
     "metadata": {},
     "output_type": "execute_result"
    }
   ],
   "source": [
    "# read file\n",
    "raw_text_list = [load_data(file_path) for file_path in files_path_list]\n",
    "raw_text_list[0]"
   ]
  },
  {
   "cell_type": "code",
   "execution_count": 11,
   "metadata": {},
   "outputs": [
    {
     "data": {
      "text/plain": [
       "[' Case 1:19-cv-00544-DKW-KJM Document 34 Filed 08/13/20 Pagelof2 PagelD#: 716',\n",
       " ' IN THE UNITED STATES DISTRICT COURT',\n",
       " ' FOR THE DISTRICT OF HAWAITI',\n",
       " ' UNITED STATES COMMODITY CV 19-00544 DKW-KJM',\n",
       " ' FUTURES TRADING )',\n",
       " ' COMMISSION, )',\n",
       " ' ) ORDER ADOPTING',\n",
       " \" Plaintiff, ) MAGISTRATE JUDGE'S\",\n",
       " ' ) FINDINGS AND',\n",
       " ' VS. ) RECOMMENDATION',\n",
       " ' PETER SZATMARI, )',\n",
       " ' Defendant. )',\n",
       " \" ORDER ADOPTING MAGISTRATE JUDGE'S\",\n",
       " ' FINDINGS AND RECOMMENDATION',\n",
       " ' Findings and Recommendation having been filed on July 28, 2020 and served on all parties on July 29, 2020, and no objections having been filed by any party,']"
      ]
     },
     "execution_count": 11,
     "metadata": {},
     "output_type": "execute_result"
    }
   ],
   "source": [
    "# clean and first \n",
    "clean_pages_list = [ clean_doc(raw_text) for  raw_text in raw_text_list]\n",
    "first_page_list = [pages[0] for pages in clean_pages_list]\n",
    "first_page_list[0]"
   ]
  },
  {
   "cell_type": "code",
   "execution_count": 12,
   "metadata": {},
   "outputs": [
    {
     "data": {
      "text/plain": [
       "['-- error : case not founded --',\n",
       " 'NO. 16-CV-9802',\n",
       " 'NO. 7:19-CV-09832-CS',\n",
       " 'NO: 18-CV-00603',\n",
       " 'NO. 20-11']"
      ]
     },
     "execution_count": 12,
     "metadata": {},
     "output_type": "execute_result"
    }
   ],
   "source": [
    "# pred case\n",
    "case_list = [get_case(fp) for fp in first_page_list]\n",
    "case_list"
   ]
  },
  {
   "cell_type": "markdown",
   "metadata": {},
   "source": [
    "## 2 - Defendant\n",
    "-------------------------------------"
   ]
  },
  {
   "cell_type": "markdown",
   "metadata": {},
   "source": [
    "### 2.1 - One file"
   ]
  },
  {
   "cell_type": "code",
   "execution_count": 13,
   "metadata": {},
   "outputs": [],
   "source": [
    "# file_path\n",
    "file = \"data/order-vision-financial-markets-llc.txt\"\n",
    "file_path = os.getcwd() + \"/\" + file\n",
    "assert os.path.isfile(file_path)"
   ]
  },
  {
   "cell_type": "code",
   "execution_count": 14,
   "metadata": {},
   "outputs": [
    {
     "data": {
      "text/plain": [
       "' \\n\\n(— RECEIVED CFTC >\\n\\nUNITED STATES OF AMERICA\\nBefore the\\nCOMMODITY FUTURES TRADING COMMISSION\\n\\n \\n\\n \\n\\nOffice of Proceedings\\nProceedings Clerk\\n\\n\\\\ 5:00 pm, Jul 12, 2019]\\n\\nIn the Matter of:\\n\\n \\n\\n \\n\\nVision Financial Markets LLC,\\nCFTC Docket No. _ 19-13\\n\\n \\n\\nRespondent.\\n\\n \\n\\nORDER INSTITUTING PROCEEDINGS P'"
      ]
     },
     "execution_count": 14,
     "metadata": {},
     "output_type": "execute_result"
    }
   ],
   "source": [
    "# read file \n",
    "raw_text = load_data(file_path)\n",
    "raw_text[:300]"
   ]
  },
  {
   "cell_type": "code",
   "execution_count": 26,
   "metadata": {},
   "outputs": [
    {
     "name": "stdout",
     "output_type": "stream",
     "text": [
      " ( RECEIVED CFTC >\n",
      " UNITED STATES OF AMERICA\n",
      " Before the\n",
      " COMMODITY FUTURES TRADING COMMISSION\n",
      " Office of Proceedings\n",
      " Proceedings Clerk\n",
      " \\ 5:00 pm, Jul 12, 2019]\n",
      " In the Matter of:\n",
      " Vision Financial Markets LLC,\n",
      " CFTC Docket No.  19-13\n",
      " Respondent.\n",
      " ORDER INSTITUTING PROCEEDINGS PURSUANT TO\n",
      " SECTIO\n"
     ]
    }
   ],
   "source": [
    "# clean first join\n",
    "clean_pages = clean_doc(raw_text)\n",
    "first_page = clean_pages[0]\n",
    "joined_first_page = (\"\\n\".join(first_page))\n"
   ]
  },
  {
   "cell_type": "code",
   "execution_count": 21,
   "metadata": {},
   "outputs": [],
   "source": [
    "# Process whole documents\n",
    "doc = nlp(joined_first_page)"
   ]
  },
  {
   "cell_type": "code",
   "execution_count": 33,
   "metadata": {},
   "outputs": [
    {
     "name": "stdout",
     "output_type": "stream",
     "text": [
      "CFTC                                     :  ORG \n",
      "THE COMMODITY EXCHANGE ACT               :  ORG \n",
      "The Commodity Futures Trading            :  ORG \n",
      "Vision Financial Markets LLC             :  ORG \n",
      "Commission Regulation                    :  ORG \n",
      "Commission                               :  ORG \n",
      "this Order Instituting Proceed           :  ORG \n",
      "the Commodity Exchange Act               :  ORG \n",
      "Imposing Remedial Sanctions              :  ORG \n",
      "Commission                               :  ORG \n",
      "Commission                               :  ORG \n",
      "Commission                               :  ORG \n",
      "Commission                               :  ORG \n"
     ]
    }
   ],
   "source": [
    "# Analyze syntax\n",
    "#print(\"Noun phrases:\", [chunk.text for chunk in doc.noun_chunks])\n",
    "#print(\"Verbs:\", [token.lemma_ for token in doc if token.pos_ == \"VERB\"])\n",
    "\n",
    "# Find named entities, phrases and concepts\n",
    "for entity in doc.ents:\n",
    "    if entity.label_ == \"ORG\":\n",
    "        #  print(entity.text,\":       \", entity.label_)\n",
    "        print(f\"{entity.text[:30].ljust(40)} :  {entity.label_} \")"
   ]
  },
  {
   "cell_type": "code",
   "execution_count": null,
   "metadata": {},
   "outputs": [],
   "source": []
  },
  {
   "cell_type": "code",
   "execution_count": 34,
   "metadata": {},
   "outputs": [],
   "source": [
    "# Question answering pipeline, specifying the checkpoint identifier\n",
    "nlpipe = pipeline('question-answering', model='distilbert-base-cased-distilled-squad', tokenizer='distilbert-base-cased')"
   ]
  },
  {
   "cell_type": "code",
   "execution_count": 38,
   "metadata": {},
   "outputs": [
    {
     "data": {
      "text/plain": [
       "[' The Commodity Futures Trading Commission (\"Commission\") has reason to believe that Vision Financial Markets LLC (\"Respondent\") violated Commission Regulation (\"Regulation\") 166.3, 17 C.F.R. 166.3 (2018). Therefore, the Commission deems it appropriate and in the public interest that public administrative proceedings be, and hereby are, instituted to determine whether Respondent engaged in the violations set forth herein and to determine whether any order should be issued imposing remedial sanctions.',\n",
       " ' In anticipation of the institution of an administrative proceeding, Respondent has submitted an Offer of Settlement (\"Offer\"), which the Commission has determined to accept.',\n",
       " ' Without admitting or denying any of the findings or conclusions herein, Respondent consents to the entry of this Order Instituting Proceedings Pursuant to Section 6(c) and (d) of the Commodity Exchange Act, Making Findings, and Imposing Remedial Sanctions (\"Order\") and acknowledges service of this Order.',\n",
       " \" ' Respondent consents to the use of these findings of fact and conclusion of law in this Order in this proceeding and in any other proceeding brought by the Commission or to which the Commission is a party or claimant, and agrees that they shall be taken as true and correct and be given preclusive effect therein, without further proof. Respondent does not consent, however, to the use of this Order, or the findings or conclusions herein, as the sole basis for any other proceeding brought by the Commission or to which the Commission is a party or claimant, other than: a proceeding in bankruptcy or receivership; or a proceeding to enforce the terms of this Order. Respondent does not consent to the use of the Offer or this Order, or the findings or conclusions in this Order, by any other party in any other proceeding.\"]"
      ]
     },
     "execution_count": 38,
     "metadata": {},
     "output_type": "execute_result"
    }
   ],
   "source": [
    "first_page_100 = [text for text in first_page if len(text) > 100]\n",
    "first_page_100[:10]"
   ]
  },
  {
   "cell_type": "code",
   "execution_count": 49,
   "metadata": {
    "scrolled": true
   },
   "outputs": [
    {
     "data": {
      "text/plain": [
       "[{'score': 0.5201619863510132,\n",
       "  'start': 1326,\n",
       "  'end': 1336,\n",
       "  'answer': 'Respondent'},\n",
       " {'score': 0.018238907679915428,\n",
       "  'start': 1657,\n",
       "  'end': 1667,\n",
       "  'answer': 'Respondent'},\n",
       " {'score': 0.0016895169392228127,\n",
       "  'start': 1326,\n",
       "  'end': 1353,\n",
       "  'answer': 'Respondent does not consent'}]"
      ]
     },
     "execution_count": 49,
     "metadata": {},
     "output_type": "execute_result"
    }
   ],
   "source": [
    "violeted_ans = nlpipe(question=\"Who violeted?\", context=\".\".join(first_page_100), topk=3)\n",
    "violeted_ans"
   ]
  },
  {
   "cell_type": "code",
   "execution_count": 51,
   "metadata": {},
   "outputs": [
    {
     "data": {
      "text/plain": [
       "[{'score': 0.35667505860328674,\n",
       "  'start': 1528,\n",
       "  'end': 1547,\n",
       "  'answer': 'a party or claimant'},\n",
       " {'score': 0.1386204957962036,\n",
       "  'start': 1186,\n",
       "  'end': 1205,\n",
       "  'answer': 'a party or claimant'},\n",
       " {'score': 0.11748140305280685,\n",
       "  'start': 1528,\n",
       "  'end': 1547,\n",
       "  'answer': 'a party or claimant'}]"
      ]
     },
     "execution_count": 51,
     "metadata": {},
     "output_type": "execute_result"
    }
   ],
   "source": [
    "defendant_ans = nlpipe(question=\"Who is the defendant?\", context=\".\".join(first_page_100), topk=3)\n",
    "defendant_ans[:3]"
   ]
  },
  {
   "cell_type": "markdown",
   "metadata": {},
   "source": [
    "# STOP HERE"
   ]
  },
  {
   "cell_type": "code",
   "execution_count": null,
   "metadata": {},
   "outputs": [],
   "source": []
  },
  {
   "cell_type": "code",
   "execution_count": null,
   "metadata": {},
   "outputs": [],
   "source": []
  },
  {
   "cell_type": "code",
   "execution_count": null,
   "metadata": {},
   "outputs": [],
   "source": []
  },
  {
   "cell_type": "code",
   "execution_count": null,
   "metadata": {},
   "outputs": [],
   "source": []
  },
  {
   "cell_type": "code",
   "execution_count": null,
   "metadata": {},
   "outputs": [],
   "source": []
  },
  {
   "cell_type": "code",
   "execution_count": null,
   "metadata": {},
   "outputs": [],
   "source": []
  },
  {
   "cell_type": "code",
   "execution_count": null,
   "metadata": {},
   "outputs": [],
   "source": []
  },
  {
   "cell_type": "markdown",
   "metadata": {},
   "source": [
    "## Extracted authorities"
   ]
  },
  {
   "cell_type": "code",
   "execution_count": null,
   "metadata": {},
   "outputs": [],
   "source": [
    "UNITED STATES DISTRICT COURT\n",
    "FOR THE MIDDLE DISTRICT OF FLORIDA "
   ]
  },
  {
   "cell_type": "markdown",
   "metadata": {},
   "source": [
    "## Code law violation"
   ]
  },
  {
   "cell_type": "code",
   "execution_count": null,
   "metadata": {},
   "outputs": [],
   "source": [
    "violated Section 4c(a)(5)(C) of the Commodity Exchange Act (\"Act\"), 7 U.S.C.\n",
    "§ 6c(a)(5)(C) (2018)."
   ]
  },
  {
   "cell_type": "code",
   "execution_count": null,
   "metadata": {},
   "outputs": [],
   "source": [
    "Section 4c(a)(5) of the Act, 7 U.S.C.\n",
    "§ 6c(a)(5) (2012)."
   ]
  },
  {
   "cell_type": "markdown",
   "metadata": {},
   "source": [
    "## Violation period"
   ]
  },
  {
   "cell_type": "code",
   "execution_count": null,
   "metadata": {},
   "outputs": [],
   "source": [
    "line = 'The Commodity Futures Trading Commission (\"Commission\") has reason to believe that from at least July 2012 through March 2017 (\"Relevant Period\"), Propex Derivatives Pty Ltd. (\"Propex\") violated Section 4c(a)(5)(C) of the Commodity Exchange Act (\"Act\"), 7 U.S.C. 6c(a)(5)(C) (2018). Therefore, the Commission deems it appropriate and in the public interest that public administrative proceedings be, and hereby are, instituted to determine whether Propex engaged in the violations set forth herein and to determine whether any order should be issued imposing remedial sanctions.'"
   ]
  },
  {
   "cell_type": "code",
   "execution_count": null,
   "metadata": {},
   "outputs": [],
   "source": [
    "(\"Relevant Period\")"
   ]
  },
  {
   "cell_type": "markdown",
   "metadata": {},
   "source": [
    "## Transaction amount"
   ]
  },
  {
   "cell_type": "code",
   "execution_count": null,
   "metadata": {},
   "outputs": [],
   "source": [
    "pour complaint tous les montants vers Transaction amounts"
   ]
  },
  {
   "cell_type": "markdown",
   "metadata": {},
   "source": [
    "## Defendant"
   ]
  },
  {
   "cell_type": "code",
   "execution_count": null,
   "metadata": {},
   "outputs": [],
   "source": [
    "Propex Derivatives Pty Ltd, Respondent."
   ]
  },
  {
   "cell_type": "code",
   "execution_count": null,
   "metadata": {
    "scrolled": true
   },
   "outputs": [],
   "source": [
    "#!pip install -U spacy\n",
    "#!python -m spacy download en_core_web_sm"
   ]
  },
  {
   "cell_type": "markdown",
   "metadata": {},
   "source": [
    "## Nature of violations"
   ]
  },
  {
   "cell_type": "code",
   "execution_count": null,
   "metadata": {},
   "outputs": [],
   "source": [
    "II. FINDINGS\n",
    "The Commission finds the following:\n",
    "A. SUMMARY\n",
    "During the Relevant Period, Propex, by and through a Propex trader (\"Trader A\"),·\n",
    "engaged in thousands of instances of the disruptive trading practice known as \"spoofing\"\n",
    "(bidding or offering with the intent to cancel the bid or offer before execution) in the E-mini\n",
    "S&P 500 futures contracts traded on the Chicago Mercantile Exchange (\"CME\"), a futures\n",
    "exchange and designated contract market which is owned and operated by CME Group Inc. This\n",
    "conduct violated Section 4c(a)(5)(C) of the Act, 7 U.S.C. § 6c(a)(5)(C) (2018). "
   ]
  },
  {
   "cell_type": "code",
   "execution_count": null,
   "metadata": {},
   "outputs": [],
   "source": [
    "cftc_full_list = pd.read_excel(\"cftc_full_list.xlsx\")"
   ]
  },
  {
   "cell_type": "code",
   "execution_count": null,
   "metadata": {},
   "outputs": [],
   "source": [
    "def gen_line_rep(rep):\n",
    "    original_path = f\"./cftc/original/{rep}\"\n",
    "    text_path = f\"./cftc/text/{rep}\"\n",
    "    meta_path = f\"./cftc/meta-data/{rep}\"\n",
    "    lines = []\n",
    "    for file in glob.glob(f\"{meta_path}/*.json\"):\n",
    "        filename = os.path.basename(file)\n",
    "\n",
    "        with open(file) as json_file: \n",
    "            data = json.load(json_file)     \n",
    "\n",
    "        data['filename'] = filename.replace(\".json\",\"\")\n",
    "        data['folder'] = rep\n",
    "        with open(f\"{text_path}/{filename.replace('.json','.txt')}\") as f:\n",
    "            data['doc_text'] = f.read()  \n",
    "\n",
    "\n",
    "        lines.append(data)\n",
    "    return lines"
   ]
  },
  {
   "cell_type": "code",
   "execution_count": null,
   "metadata": {},
   "outputs": [],
   "source": [
    "meta_data = []\n",
    "for index, row in cftc_full_list[~cftc_full_list.scraped_folder.isnull()].iterrows():\n",
    "    try:\n",
    "        meta_data.extend(gen_line_rep(row['scraped_folder']))\n",
    "    except:\n",
    "        print(\"error on\",  row['scraped_folder'])\n",
    "len(meta_data)"
   ]
  },
  {
   "cell_type": "code",
   "execution_count": null,
   "metadata": {},
   "outputs": [],
   "source": [
    "df_meta_data = pd.DataFrame(meta_data)"
   ]
  },
  {
   "cell_type": "code",
   "execution_count": null,
   "metadata": {},
   "outputs": [],
   "source": [
    "df_meta_data['doc_clean'] = df_meta_data.doc_text.apply(clean_doc)"
   ]
  },
  {
   "cell_type": "code",
   "execution_count": null,
   "metadata": {},
   "outputs": [],
   "source": [
    "df_meta_data['first_page'] = df_meta_data['doc_clean'].str[0]"
   ]
  },
  {
   "cell_type": "code",
   "execution_count": null,
   "metadata": {},
   "outputs": [],
   "source": [
    "df_meta_data = df_meta_data[~df_meta_data['first_page'].isnull()]"
   ]
  },
  {
   "cell_type": "markdown",
   "metadata": {},
   "source": [
    "## Get reference"
   ]
  },
  {
   "cell_type": "code",
   "execution_count": null,
   "metadata": {},
   "outputs": [],
   "source": [
    "df_meta_data['reference'] = df_meta_data.first_page.apply(get_case)"
   ]
  },
  {
   "cell_type": "code",
   "execution_count": null,
   "metadata": {},
   "outputs": [],
   "source": []
  },
  {
   "cell_type": "markdown",
   "metadata": {},
   "source": [
    "## Get defendant"
   ]
  },
  {
   "cell_type": "code",
   "execution_count": null,
   "metadata": {},
   "outputs": [],
   "source": [
    "first_page = [text for text in df_meta_data.first_page.values[3] if len(text) > 100]"
   ]
  },
  {
   "cell_type": "code",
   "execution_count": null,
   "metadata": {},
   "outputs": [],
   "source": [
    "first_page"
   ]
  },
  {
   "cell_type": "code",
   "execution_count": null,
   "metadata": {},
   "outputs": [],
   "source": [
    "print(nlp(question=\"Who violeted?\", context=\".\".join(first_page)))"
   ]
  },
  {
   "cell_type": "code",
   "execution_count": null,
   "metadata": {},
   "outputs": [],
   "source": [
    "print(nlp(question=\"Who is the defendant?\", context=\".\".join(first_page), topk=3))"
   ]
  },
  {
   "cell_type": "code",
   "execution_count": null,
   "metadata": {
    "scrolled": false
   },
   "outputs": [],
   "source": [
    "#df_meta_data[['reference', 'folder', 'filename']][df_meta_data.reference.isnull()]"
   ]
  },
  {
   "cell_type": "markdown",
   "metadata": {},
   "source": [
    "## Type"
   ]
  },
  {
   "cell_type": "code",
   "execution_count": null,
   "metadata": {},
   "outputs": [],
   "source": [
    "df_meta_data['is_order'] = df_meta_data.filename.str.contains(\"order\")"
   ]
  },
  {
   "cell_type": "code",
   "execution_count": null,
   "metadata": {},
   "outputs": [],
   "source": [
    "df_meta_data['is_complaint'] = df_meta_data.filename.str.contains(\"complaint\")"
   ]
  },
  {
   "cell_type": "code",
   "execution_count": null,
   "metadata": {},
   "outputs": [],
   "source": [
    "df_meta_data['type'] = np.where(df_meta_data['is_order'], \"Order CFTC\", \n",
    "         np.where(df_meta_data['is_complaint'], \n",
    "                  \"Complaint CFTC\", None))"
   ]
  }
 ],
 "metadata": {
  "kernelspec": {
   "display_name": "Python 3",
   "language": "python",
   "name": "python3"
  },
  "language_info": {
   "codemirror_mode": {
    "name": "ipython",
    "version": 3
   },
   "file_extension": ".py",
   "mimetype": "text/x-python",
   "name": "python",
   "nbconvert_exporter": "python",
   "pygments_lexer": "ipython3",
   "version": "3.8.5"
  }
 },
 "nbformat": 4,
 "nbformat_minor": 4
}
