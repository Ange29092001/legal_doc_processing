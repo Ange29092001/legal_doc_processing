{
 "cells": [
  {
   "cell_type": "code",
   "execution_count": 1,
   "metadata": {},
   "outputs": [],
   "source": [
    "#!pip install pandas\n",
    "#!pip install numpy\n",
    "#!pip sklearn\n",
    "#!pip install requests\n",
    "#!pip install bs4\n",
    "#!pip install nltk\n",
    "#!pip install spacy\n",
    "#!pip install cleantext\n",
    "#!pip install clean-text\n",
    "#!pip install unidecode\n",
    "#!python3 -m spacy download en_core_web_sm\n"
   ]
  },
  {
   "cell_type": "code",
   "execution_count": 2,
   "metadata": {},
   "outputs": [
    {
     "name": "stderr",
     "output_type": "stream",
     "text": [
      "Since the GPL-licensed package `unidecode` is not installed, using Python's `unicodedata` package which yields worse results.\n"
     ]
    }
   ],
   "source": [
    "# builtin\n",
    "import os\n",
    "import sys\n",
    "import dateparser\n",
    "import string \n",
    "import re\n",
    "import urllib.request\n",
    "import json\n",
    "import glob\n",
    "import heapq\n",
    "\n",
    "# request and web parse\n",
    "import requests\n",
    "import bs4 as bs\n",
    "\n",
    "# data\n",
    "import pandas as pd\n",
    "import numpy as np\n",
    "from sklearn.feature_extraction.text import CountVectorizer\n",
    "\n",
    "# nlp\n",
    "import nltk\n",
    "from nltk.tokenize import sent_tokenize\n",
    "from transformers import pipeline, AutoModelForTokenClassification, AutoTokenizer\n",
    "from cleantext import clean\n",
    "import spacy\n",
    "import textsplit\n",
    "from textsplit.tools import SimpleSentenceTokenizer\n",
    "from textsplit.tools import get_penalty, get_segments\n",
    "from textsplit.algorithm import split_optimal, split_greedy, get_total\n",
    "import word2vec\n"
   ]
  },
  {
   "cell_type": "code",
   "execution_count": 3,
   "metadata": {},
   "outputs": [
    {
     "name": "stderr",
     "output_type": "stream",
     "text": [
      "[nltk_data] Downloading collection 'popular'\n",
      "[nltk_data]    | \n",
      "[nltk_data]    | Downloading package cmudict to\n",
      "[nltk_data]    |     /home/alex/nltk_data...\n",
      "[nltk_data]    |   Package cmudict is already up-to-date!\n",
      "[nltk_data]    | Downloading package gazetteers to\n",
      "[nltk_data]    |     /home/alex/nltk_data...\n",
      "[nltk_data]    |   Package gazetteers is already up-to-date!\n",
      "[nltk_data]    | Downloading package genesis to\n",
      "[nltk_data]    |     /home/alex/nltk_data...\n",
      "[nltk_data]    |   Package genesis is already up-to-date!\n",
      "[nltk_data]    | Downloading package gutenberg to\n",
      "[nltk_data]    |     /home/alex/nltk_data...\n",
      "[nltk_data]    |   Package gutenberg is already up-to-date!\n",
      "[nltk_data]    | Downloading package inaugural to\n",
      "[nltk_data]    |     /home/alex/nltk_data...\n",
      "[nltk_data]    |   Package inaugural is already up-to-date!\n",
      "[nltk_data]    | Downloading package movie_reviews to\n",
      "[nltk_data]    |     /home/alex/nltk_data...\n",
      "[nltk_data]    |   Package movie_reviews is already up-to-date!\n",
      "[nltk_data]    | Downloading package names to /home/alex/nltk_data...\n",
      "[nltk_data]    |   Package names is already up-to-date!\n",
      "[nltk_data]    | Downloading package shakespeare to\n",
      "[nltk_data]    |     /home/alex/nltk_data...\n",
      "[nltk_data]    |   Package shakespeare is already up-to-date!\n",
      "[nltk_data]    | Downloading package stopwords to\n",
      "[nltk_data]    |     /home/alex/nltk_data...\n",
      "[nltk_data]    |   Package stopwords is already up-to-date!\n",
      "[nltk_data]    | Downloading package treebank to\n",
      "[nltk_data]    |     /home/alex/nltk_data...\n",
      "[nltk_data]    |   Package treebank is already up-to-date!\n",
      "[nltk_data]    | Downloading package twitter_samples to\n",
      "[nltk_data]    |     /home/alex/nltk_data...\n",
      "[nltk_data]    |   Package twitter_samples is already up-to-date!\n",
      "[nltk_data]    | Downloading package omw to /home/alex/nltk_data...\n",
      "[nltk_data]    |   Package omw is already up-to-date!\n",
      "[nltk_data]    | Downloading package wordnet to\n",
      "[nltk_data]    |     /home/alex/nltk_data...\n",
      "[nltk_data]    |   Package wordnet is already up-to-date!\n",
      "[nltk_data]    | Downloading package wordnet_ic to\n",
      "[nltk_data]    |     /home/alex/nltk_data...\n",
      "[nltk_data]    |   Package wordnet_ic is already up-to-date!\n",
      "[nltk_data]    | Downloading package words to /home/alex/nltk_data...\n",
      "[nltk_data]    |   Package words is already up-to-date!\n",
      "[nltk_data]    | Downloading package maxent_ne_chunker to\n",
      "[nltk_data]    |     /home/alex/nltk_data...\n",
      "[nltk_data]    |   Package maxent_ne_chunker is already up-to-date!\n",
      "[nltk_data]    | Downloading package punkt to /home/alex/nltk_data...\n",
      "[nltk_data]    |   Package punkt is already up-to-date!\n",
      "[nltk_data]    | Downloading package snowball_data to\n",
      "[nltk_data]    |     /home/alex/nltk_data...\n",
      "[nltk_data]    |   Package snowball_data is already up-to-date!\n",
      "[nltk_data]    | Downloading package averaged_perceptron_tagger to\n",
      "[nltk_data]    |     /home/alex/nltk_data...\n",
      "[nltk_data]    |   Package averaged_perceptron_tagger is already up-\n",
      "[nltk_data]    |       to-date!\n",
      "[nltk_data]    | \n",
      "[nltk_data]  Done downloading collection popular\n"
     ]
    }
   ],
   "source": [
    "# bootsparp pâckages\n",
    "nltk.download(\"popular\")\n",
    "nlp = spacy.load(\"en_core_web_sm\")\n",
    "%matplotlib inline\n"
   ]
  },
  {
   "cell_type": "code",
   "execution_count": 4,
   "metadata": {},
   "outputs": [
    {
     "name": "stdout",
     "output_type": "stream",
     "text": [
      "/home/alex/Desktop/legal_doc_processing\r\n"
     ]
    }
   ],
   "source": [
    "# pwd\n",
    "!pwd\n",
    "\n",
    "# update sys path\n",
    "# module_path = os.path.abspath(os.path.join('..'))\n",
    "# print(module_path)\n",
    "# if module_path not in sys.path:\n",
    "#     sys.path.append(module_path+\"/\"+\"legal_doc_processing\")"
   ]
  },
  {
   "cell_type": "code",
   "execution_count": 5,
   "metadata": {},
   "outputs": [
    {
     "data": {
      "text/plain": [
       "'world'"
      ]
     },
     "execution_count": 5,
     "metadata": {},
     "output_type": "execute_result"
    }
   ],
   "source": [
    "# package import\n",
    "import legal_doc_processing as ldp\n",
    "from legal_doc_processing.utils import *\n",
    "\n",
    "# test ok import  \n",
    "hello()"
   ]
  },
  {
   "cell_type": "code",
   "execution_count": 6,
   "metadata": {},
   "outputs": [
    {
     "name": "stdout",
     "output_type": "stream",
     "text": [
      "/home/alex/Desktop/legal_doc_processing\n",
      "data/cftc_text_7100-15_press-release.txt\n",
      "/home/alex/Desktop/legal_doc_processing/data/cftc_text_7100-15_press-release.txt\n"
     ]
    },
    {
     "data": {
      "text/plain": [
       "True"
      ]
     },
     "execution_count": 6,
     "metadata": {},
     "output_type": "execute_result"
    }
   ],
   "source": [
    "# root\n",
    "root = os.getcwd()\n",
    "print(root)\n",
    "\n",
    "# file\n",
    "file = \"data/cftc_text_7100-15_press-release.txt\"\n",
    "print(file)\n",
    "\n",
    "# text_path\n",
    "text_path = root + \"/\" + file\n",
    "print(text_path)\n",
    "\n",
    "# sanitary check\n",
    "os.path.isfile(text_path)"
   ]
  },
  {
   "cell_type": "code",
   "execution_count": 7,
   "metadata": {},
   "outputs": [
    {
     "data": {
      "text/plain": [
       "'Release\\tNumber\\t7100-15\\n\\nJanuary\\t12,\\t2015\\n\\nFederal\\tCourt\\tin\\tFlorida\\tEnters\\tOrder\\tFreezing\\tAssets\\tin\\tCFTC\\tForeign\\tCurrency\\tAnti-\\nFraud\\tAction\\tagainst\\tAllied\\tMarkets\\tLLC\\tand\\tits\\tPrincipals\\tJoshua\\tGilliland\\tand\\tChawalit\\nWongkhiao\\n\\nCFTC\\tCharges\\tJacksonville,\\tFlorida,\\tDefendants\\twith\\tOperating\\ta\\nFraudulen'"
      ]
     },
     "execution_count": 7,
     "metadata": {},
     "output_type": "execute_result"
    }
   ],
   "source": [
    "# load doc\n",
    "raw_text=load_data(text_path)\n",
    "raw_text[:300]"
   ]
  },
  {
   "cell_type": "code",
   "execution_count": 8,
   "metadata": {},
   "outputs": [
    {
     "data": {
      "text/plain": [
       "'Release Number 7100-15 January 12, 2015 Federal Court in Florida Enters Order Freezing Assets in CFTC Foreign Currency Anti- Fraud Action against Allied Markets LLC and its Principals Joshua Gilliland and Chawalit Wongkhiao CFTC Charges Jacksonville, Florida, Defendants with Operating a Fraudulent F'"
      ]
     },
     "execution_count": 8,
     "metadata": {},
     "output_type": "execute_result"
    }
   ],
   "source": [
    "# first text cleaning based on regex, just keep text not spec chars\n",
    "clean_text, formatted_clean_text = clean_spec_chars(raw_text)\n",
    "clean_text[:300]"
   ]
  },
  {
   "cell_type": "code",
   "execution_count": 9,
   "metadata": {},
   "outputs": [
    {
     "data": {
      "text/plain": [
       "'Release Number 7100-15 January 12, 2015 Federal Court in Florida Enters Order Freezing Assets in CFTC Foreign Currency Anti- Fraud Action against Allied Markets LLC and its Principals Joshua Gilliland and Chawalit Wongkhiao CFTC Charges Jacksonville, Florida, Defendants with Operating a Fraudulent F'"
      ]
     },
     "execution_count": 9,
     "metadata": {},
     "output_type": "execute_result"
    }
   ],
   "source": [
    "# handle encoding problems and force ascii conversion ; return clean text\n",
    "clean_text = handle_encoding(clean_text)\n",
    "clean_text[:300]"
   ]
  },
  {
   "cell_type": "code",
   "execution_count": 10,
   "metadata": {},
   "outputs": [
    {
     "data": {
      "text/plain": [
       "'Three days later, the SEC  filed a federal injunctive action against Sentinel, SEC v.  Sentinel,  et al., No.'"
      ]
     },
     "execution_count": 10,
     "metadata": {},
     "output_type": "execute_result"
    }
   ],
   "source": [
    "# test tokenize sentences\n",
    "# ???\n",
    "tokenized_text = sent_tokenize(\"Three days later, the SEC  filed a federal injunctive action against Sentinel, SEC v.  Sentinel,  et al., No.  07 CV 4684 (N.D. Ill. filed Aug. 20, 2007), and on April 28, 2008, the CFTC filed a Complaint against Sentinel, Bloom and Sentinel's Senior Vice President and head trader, Charles K. Mosley, seeking injunctive and other equitable relief, as well as the imposition of civil penalties, for violating various provisions of the Act and Commission Regulations.\")\n",
    "tokenized_text[0]"
   ]
  },
  {
   "cell_type": "code",
   "execution_count": 11,
   "metadata": {},
   "outputs": [
    {
     "data": {
      "text/plain": [
       "\"07 CV 4684 (N.D. Ill. filed Aug. 20, 2007), and on April 28, 2008, the CFTC filed a Complaint against Sentinel, Bloom and Sentinel's Senior Vice President and head trader, Charles K. Mosley, seeking injunctive and other equitable relief, as well as the imposition of civil penalties, for violating various provisions of the Act and Commission Regulations.\""
      ]
     },
     "execution_count": 11,
     "metadata": {},
     "output_type": "execute_result"
    }
   ],
   "source": [
    "tokenized_text[1]"
   ]
  },
  {
   "cell_type": "code",
   "execution_count": 12,
   "metadata": {},
   "outputs": [],
   "source": [
    "punctuation=[\".\", \"?\", \"!\"]"
   ]
  },
  {
   "cell_type": "code",
   "execution_count": 14,
   "metadata": {},
   "outputs": [
    {
     "data": {
      "text/plain": [
       "'{\\'content\\': [\" (\\'Release Number 7100-15\\', \\'Release Number \\')\", \" (\\'January 12, 2015\\', \\'January \\')\", \" (\\'Federal Court in Florida Enters Order Freezing Assets in CFTC Foreign Currency Anti-\\', \\'Federal Court in Florida Enters Order Freezing Assets in CFTC Foreign Currency Anti \\')\", \" (\\'Fraud Action ag'"
      ]
     },
     "execution_count": 14,
     "metadata": {},
     "output_type": "execute_result"
    }
   ],
   "source": [
    "section=get_structured_document(raw_text)\n",
    "str(section[4])[:300]"
   ]
  },
  {
   "cell_type": "code",
   "execution_count": 15,
   "metadata": {},
   "outputs": [],
   "source": [
    "def summary(sentence_scores):\n",
    "    summary_sentences = heapq.nlargest(10, sentence_scores, key=sentence_scores.get)\n",
    "    return summary_sentences"
   ]
  },
  {
   "cell_type": "code",
   "execution_count": 16,
   "metadata": {},
   "outputs": [
    {
     "name": "stdout",
     "output_type": "stream",
     "text": [
      "/home/alex/Desktop/legal_doc_processing\n",
      "data/cftc_text_7100-15_order-allied-markets-llc-et-al.txt\n",
      "/home/alex/Desktop/legal_doc_processing/data/cftc_text_7100-15_order-allied-markets-llc-et-al.txt\n"
     ]
    },
    {
     "data": {
      "text/plain": [
       "True"
      ]
     },
     "execution_count": 16,
     "metadata": {},
     "output_type": "execute_result"
    }
   ],
   "source": [
    "# root\n",
    "root = os.getcwd()\n",
    "print(root)\n",
    "\n",
    "# file\n",
    "file = \"data/cftc_text_7100-15_order-allied-markets-llc-et-al.txt\"\n",
    "print(file)\n",
    "\n",
    "# text_path\n",
    "text_path = root + \"/\" + file\n",
    "print(text_path)\n",
    "\n",
    "# sanitary check\n",
    "os.path.isfile(text_path)"
   ]
  },
  {
   "cell_type": "code",
   "execution_count": 17,
   "metadata": {},
   "outputs": [],
   "source": [
    "# load text\n",
    "raw_text = load_data(text_path)"
   ]
  },
  {
   "cell_type": "code",
   "execution_count": 18,
   "metadata": {},
   "outputs": [],
   "source": [
    "# clean\n",
    "article_text, formatted_article_text=clean_spec_chars(file)\n",
    "\n",
    "# frequencies\n",
    "sentence_list = nltk.sent_tokenize(article_text)\n",
    "word_frequencies=word_frequency(formatted_article_text)\n",
    "stopwords = nltk.corpus.stopwords.words('english')\n",
    "\n",
    "maximum_frequncy = max(word_frequencies.values())"
   ]
  },
  {
   "cell_type": "code",
   "execution_count": 19,
   "metadata": {},
   "outputs": [
    {
     "data": {
      "text/plain": [
       "[]"
      ]
     },
     "execution_count": 19,
     "metadata": {},
     "output_type": "execute_result"
    }
   ],
   "source": [
    "# summary\n",
    "for word in word_frequencies.keys():\n",
    "    word_frequencies[word] = (word_frequencies[word]/maximum_frequncy)\n",
    "    \n",
    "sentence_scores = sentence_score(sentence_list, word_frequencies)\n",
    "    \n",
    "summary(sentence_scores)"
   ]
  },
  {
   "cell_type": "markdown",
   "metadata": {},
   "source": [
    "##  Training textsplit model using word vector"
   ]
  },
  {
   "cell_type": "code",
   "execution_count": null,
   "metadata": {
    "scrolled": true
   },
   "outputs": [],
   "source": [
    "corpus_path = './text8'  # be sure your corpus is cleaned from punctuation and lowercased\n",
    "if not os.path.exists(corpus_path):\n",
    "    !wget http://mattmahoney.net/dc/text8.zip\n",
    "    !unzip {corpus_path}"
   ]
  },
  {
   "cell_type": "code",
   "execution_count": null,
   "metadata": {},
   "outputs": [],
   "source": [
    "links = './7100-15/cftc_text_7100-15_order-allied-markets-llc-et-al.txt'"
   ]
  },
  {
   "cell_type": "code",
   "execution_count": null,
   "metadata": {},
   "outputs": [],
   "source": [
    "wrdvec_path = 'wrdvecs.bin'\n",
    "if not os.path.exists(wrdvec_path):\n",
    "    %time word2vec.word2vec(corpus_path, wrdvec_path, cbow=1, iter_=5, hs=1, threads=8, sample='1e-5', window=15, size=200, binary=1)"
   ]
  },
  {
   "cell_type": "code",
   "execution_count": null,
   "metadata": {},
   "outputs": [],
   "source": [
    "model = word2vec.load(wrdvec_path)\n",
    "wrdvecs = pd.DataFrame(model.vectors, index=model.vocab)\n",
    "del model\n",
    "print(wrdvecs.shape)"
   ]
  },
  {
   "cell_type": "code",
   "execution_count": null,
   "metadata": {},
   "outputs": [],
   "source": [
    "sentence_tokenizer = SimpleSentenceTokenizer()\n"
   ]
  },
  {
   "cell_type": "code",
   "execution_count": null,
   "metadata": {},
   "outputs": [],
   "source": [
    "link = links\n",
    "segment_len = 30  # segment target length in sentences\n",
    "book_path = os.path.basename(link)\n",
    "\n",
    "with open(book_path, 'rt') as f:\n",
    "    text = f.read()  #.replace('\\n', ' ')  # punkt tokenizer handles newlines not so nice\n",
    "\n",
    "sentenced_text = sentence_tokenizer(text)\n",
    "vecr = CountVectorizer(vocabulary=wrdvecs.index)\n",
    "\n",
    "sentence_vectors = vecr.transform(sentenced_text).dot(wrdvecs)\n",
    "\n",
    "penalty = get_penalty([sentence_vectors], segment_len)\n",
    "print('penalty %4.2f' % penalty)\n",
    "\n",
    "optimal_segmentation = split_optimal(sentence_vectors, penalty, seg_limit=250)\n",
    "segmented_text = get_segments(sentenced_text, optimal_segmentation)\n",
    "\n",
    "print('%d sentences, %d segments, avg %4.2f sentences per segment' % (\n",
    "    len(sentenced_text), len(segmented_text), len(sentenced_text) / len(segmented_text)))\n",
    "\n",
    "with open(book_path + '.seg', 'wt') as f:\n",
    "    for i, segment_sentences in enumerate(segmented_text):\n",
    "        segment_str = ' // '.join(segment_sentences)\n",
    "        gain = optimal_segmentation.gains[i] if i < len(segmented_text) - 1 else 0\n",
    "        segment_info = ' [%d sentences, %4.3f] ' % (len(segment_sentences), gain) \n",
    "        print(segment_str + '\\n8<' + '=' * 30 + segment_info + \"=\" * 30, file=f)\n",
    "\n",
    "greedy_segmentation = split_greedy(sentence_vectors, max_splits=len(optimal_segmentation.splits))\n",
    "greedy_segmented_text = get_segments(sentenced_text, greedy_segmentation)\n",
    "lengths_optimal = [len(segment) for segment in segmented_text for sentence in segment]\n",
    "lengths_greedy = [len(segment) for segment in greedy_segmented_text for sentence in segment]\n",
    "df = pd.DataFrame({'greedy':lengths_greedy, 'optimal': lengths_optimal})\n",
    "df.plot.line(figsize=(18, 3), title='Segment lenghts over text')\n",
    "df.plot.hist(bins=30, alpha=0.5, figsize=(10, 3), title='Histogram of segment lengths')\n",
    "\n",
    "totals = [get_total(sentence_vectors, seg.splits, penalty) \n",
    "          for seg in [optimal_segmentation, greedy_segmentation]]\n",
    "print('optimal score %4.2f, greedy score %4.2f' % tuple(totals))\n",
    "print('ratio of scores %5.4f' % (totals[0] / totals[1]))"
   ]
  },
  {
   "cell_type": "markdown",
   "metadata": {},
   "source": [
    "## No case/docket"
   ]
  },
  {
   "cell_type": "code",
   "execution_count": 21,
   "metadata": {
    "scrolled": true
   },
   "outputs": [
    {
     "data": {
      "text/plain": [
       "[\" ('The Court possesses jurisdiction over the parties and over the subject matter ', 'The Court possesses jurisdiction over the parties and over the subject matter ')\",\n",
       " \" ('of this action pursuant to Section 6c of the CEA, 7 U.S.C. § 13a- l (2012). ', 'of this action pursuant to Section c of the CEA U S C a l ')\"]"
      ]
     },
     "execution_count": 21,
     "metadata": {},
     "output_type": "execute_result"
    }
   ],
   "source": [
    "clean_page = clean_doc(load_data(text_path))\n",
    "clean_page[1][2:4]"
   ]
  },
  {
   "cell_type": "code",
   "execution_count": 22,
   "metadata": {},
   "outputs": [],
   "source": [
    "def get_case(first_page):\n",
    "    for line in first_page:\n",
    "        if len(line) < 40:\n",
    "            p = re.compile(\"NO[\\.:]\\s*.+\")\n",
    "            result = p.search(line.upper())\n",
    "            if result:\n",
    "                return result.group(0).strip()\n",
    "            \n",
    "    for line in first_page:   \n",
    "        if len(line) < 40:    \n",
    "            p = re.compile(\"\\d*-?CV-\\d+.*\")\n",
    "            result = p.search(line.upper())\n",
    "            if result:\n",
    "                return result.group(0).strip()"
   ]
  },
  {
   "cell_type": "code",
   "execution_count": 24,
   "metadata": {},
   "outputs": [],
   "source": [
    "get_case(clean_page[1])"
   ]
  },
  {
   "cell_type": "code",
   "execution_count": 25,
   "metadata": {},
   "outputs": [
    {
     "data": {
      "text/plain": [
       "'NO. SD 20-01'"
      ]
     },
     "execution_count": 25,
     "metadata": {},
     "output_type": "execute_result"
    }
   ],
   "source": [
    "get_case([' CFTC Docket No. SD 20-01'])"
   ]
  },
  {
   "cell_type": "markdown",
   "metadata": {},
   "source": [
    "## Defendant"
   ]
  },
  {
   "cell_type": "code",
   "execution_count": 26,
   "metadata": {},
   "outputs": [
    {
     "name": "stdout",
     "output_type": "stream",
     "text": [
      " ('UNITED STATES DISTRICT COURT ', 'UNITED STATES DISTRICT COURT ')\n",
      " ('MIDDLE DISTRICT OF FLORIDA ', 'MIDDLE DISTRICT OF FLORIDA ')\n",
      " ('Jacksonville Division ', 'Jacksonville Division ')\n",
      " ('v. ', 'v ')\n",
      " ('Case No. 3:15-cv-5-J-34MCR ', 'Case No cv J MCR ')\n",
      " ('U.S. COMMODITY FUTURES ', 'U S COMMODITY FUTURES ')\n",
      " ('TRADING COMMISSION, ', 'TRADING COMMISSION ')\n",
      " ('Plaintiff, ', 'Plaintiff ')\n",
      " ('ALLIED MARKETS LLC, ', 'ALLIED MARKETS LLC ')\n",
      " ('JOSHUA GILLILAND, and ', 'JOSHUA GILLILAND and ')\n",
      " ('CHAWALIT WONGKHIAO, ', 'CHAWALIT WONGKHIAO ')\n",
      " ('Defendants. ', 'Defendants ')\n",
      " (\"ORDER GRANTING PLAINTIFF'S EX PARTE \", 'ORDER GRANTING PLAINTIFF S EX PARTE ')\n",
      " ('MOTION FOR STATUTORY RESTRAINING ORDER AND SCHEDULING ', 'MOTION FOR STATUTORY RESTRAINING ORDER AND SCHEDULING ')\n",
      " ('PRELIMINARY fNJUNCTION HEARING ', 'PRELIMINARY fNJUNCTION HEARING ')\n",
      " ('THIS CAUSE is before the Court on Plaintiffs Ex Parte Motion for Statutory ', 'THIS CAUSE is before the Court on Plaintiffs Ex Parte Motion for Statutory ')\n",
      " ('Restraining Order and Motion for Preliminary Injunction (Doc. S-4; Motion), filed on ', 'Restraining Order and Motion for Preliminary Injunction Doc S Motion filed on ')\n",
      " ('January 5, 2015. Simultaneously with the Motion, the United States Commodity Futures ', 'January Simultaneously with the Motion the United States Commodity Futures ')\n",
      " ('Trading Commission (Plaintiff or CFTC) filed a Complaint for Injunctive Relief, Civil ', 'Trading Commission Plaintiff or CFTC filed a Complaint for Injunctive Relief Civil ')\n",
      " ('Monetary Penalty, and Other Equitable Relief (Doc. S-3) against Defendants Allied Markets ', 'Monetary Penalty and Other Equitable Relief Doc S against Defendants Allied Markets ')\n",
      " ('LLC, Joshua Gilliland, and Chawalit Wongkhiao (collectively, Defendants). In the Motion, ', 'LLC Joshua Gilliland and Chawalit Wongkhiao collectively Defendants In the Motion ')\n",
      " ('the CFTC moves, pursuant to Section 6c(a) of the Commodity Exchange Act (CEA), 7 ', 'the CFTC moves pursuant to Section c a of the Commodity Exchange Act CEA ')\n",
      " ('U.S.C. § 13a-l (a) (2012), for an ex parte statutory restraining order freezing assets and ', 'U S C a l a for an ex parte statutory restraining order freezing assets and ')\n",
      " ('prohibiting the destruction of books, records, or other documents; and for an order requiring ', 'prohibiting the destruction of books records or other documents and for an order requiring ')\n",
      "U.S. COMMODITY FUTURES ' :        ORG\n",
      "U S COMMODITY FUTURES ' :        ORG\n",
      "CAUSE :        ORG\n",
      "the Court on Plaintiffs Ex Parte Motion for Statutory ' :        ORG\n",
      "CAUSE :        ORG\n",
      "the Court on Plaintiffs Ex Parte Motion for Statutory ' :        ORG\n",
      "the Motion the United States Commodity Futures ' :        ORG\n",
      "Plaintiff :        ORG\n",
      "CFTC :        ORG\n",
      "Complaint for Injunctive Relief, Civil ' :        ORG\n",
      "CFTC :        ORG\n",
      "Complaint for Injunctive Relief Civil ' :        ORG\n",
      "Defendants Allied Markets ' :        ORG\n",
      "Defendants Allied Markets ' :        ORG\n",
      "CFTC :        ORG\n",
      "the Commodity Exchange Act :        ORG\n",
      "CEA :        ORG\n",
      "CFTC :        ORG\n",
      "the Commodity Exchange :        ORG\n",
      "CEA :        ORG\n",
      "U S C :        ORG\n"
     ]
    }
   ],
   "source": [
    "# Load English tokenizer, tagger, parser and NER\n",
    "nlp = spacy.load(\"en_core_web_sm\")\n",
    "\n",
    "# Process whole documents\n",
    "text = (\"\\n\".join(clean_page[0]))\n",
    "print(text)\n",
    "doc = nlp(text)\n",
    "\n",
    "# Analyze syntax\n",
    "#print(\"Noun phrases:\", [chunk.text for chunk in doc.noun_chunks])\n",
    "#print(\"Verbs:\", [token.lemma_ for token in doc if token.pos_ == \"VERB\"])\n",
    "\n",
    "# Find named entities, phrases and concepts\n",
    "for entity in doc.ents:\n",
    "    if entity.label_ == \"ORG\":\n",
    "        print(entity.text,\":       \", entity.label_)"
   ]
  },
  {
   "cell_type": "code",
   "execution_count": 27,
   "metadata": {},
   "outputs": [
    {
     "name": "stdout",
     "output_type": "stream",
     "text": [
      " ('UNITED STATES DISTRICT COURT ', 'UNITED STATES DISTRICT COURT ')\n",
      " ('MIDDLE DISTRICT OF FLORIDA ', 'MIDDLE DISTRICT OF FLORIDA ')\n",
      " ('Jacksonville Division ', 'Jacksonville Division ')\n",
      " ('v. ', 'v ')\n",
      " ('Case No. 3:15-cv-5-J-34MCR ', 'Case No cv J MCR ')\n",
      " ('U.S. COMMODITY FUTURES ', 'U S COMMODITY FUTURES ')\n",
      " ('TRADING COMMISSION, ', 'TRADING COMMISSION ')\n",
      " ('Plaintiff, ', 'Plaintiff ')\n",
      " ('ALLIED MARKETS LLC, ', 'ALLIED MARKETS LLC ')\n",
      " ('JOSHUA GILLILAND, and ', 'JOSHUA GILLILAND and ')\n",
      " ('CHAWALIT WONGKHIAO, ', 'CHAWALIT WONGKHIAO ')\n",
      " ('Defendants. ', 'Defendants ')\n",
      " (\"ORDER GRANTING PLAINTIFF'S EX PARTE \", 'ORDER GRANTING PLAINTIFF S EX PARTE ')\n",
      " ('MOTION FOR STATUTORY RESTRAINING ORDER AND SCHEDULING ', 'MOTION FOR STATUTORY RESTRAINING ORDER AND SCHEDULING ')\n",
      " ('PRELIMINARY fNJUNCTION HEARING ', 'PRELIMINARY fNJUNCTION HEARING ')\n",
      " ('THIS CAUSE is before the Court on Plaintiffs Ex Parte Motion for Statutory ', 'THIS CAUSE is before the Court on Plaintiffs Ex Parte Motion for Statutory ')\n",
      " ('Restraining Order and Motion for Preliminary Injunction (Doc. S-4; Motion), filed on ', 'Restraining Order and Motion for Preliminary Injunction Doc S Motion filed on ')\n",
      " ('January 5, 2015. Simultaneously with the Motion, the United States Commodity Futures ', 'January Simultaneously with the Motion the United States Commodity Futures ')\n",
      " ('Trading Commission (Plaintiff or CFTC) filed a Complaint for Injunctive Relief, Civil ', 'Trading Commission Plaintiff or CFTC filed a Complaint for Injunctive Relief Civil ')\n",
      " ('Monetary Penalty, and Other Equitable Relief (Doc. S-3) against Defendants Allied Markets ', 'Monetary Penalty and Other Equitable Relief Doc S against Defendants Allied Markets ')\n",
      " ('LLC, Joshua Gilliland, and Chawalit Wongkhiao (collectively, Defendants). In the Motion, ', 'LLC Joshua Gilliland and Chawalit Wongkhiao collectively Defendants In the Motion ')\n",
      " ('the CFTC moves, pursuant to Section 6c(a) of the Commodity Exchange Act (CEA), 7 ', 'the CFTC moves pursuant to Section c a of the Commodity Exchange Act CEA ')\n",
      " ('U.S.C. § 13a-l (a) (2012), for an ex parte statutory restraining order freezing assets and ', 'U S C a l a for an ex parte statutory restraining order freezing assets and ')\n",
      " ('prohibiting the destruction of books, records, or other documents; and for an order requiring ', 'prohibiting the destruction of books records or other documents and for an order requiring ')\n"
     ]
    }
   ],
   "source": [
    "print(\"\\n\".join(clean_page[0]))"
   ]
  },
  {
   "cell_type": "code",
   "execution_count": 28,
   "metadata": {},
   "outputs": [],
   "source": [
    "# Question answering pipeline, specifying the checkpoint identifier\n",
    "nlp = pipeline('question-answering', model='distilbert-base-cased-distilled-squad', tokenizer='distilbert-base-cased')"
   ]
  },
  {
   "cell_type": "code",
   "execution_count": 29,
   "metadata": {},
   "outputs": [],
   "source": [
    "first_page = [text for text in clean_page[0] if len(text) > 5]"
   ]
  },
  {
   "cell_type": "code",
   "execution_count": 30,
   "metadata": {
    "scrolled": true
   },
   "outputs": [
    {
     "data": {
      "text/plain": [
       "[\" ('UNITED STATES DISTRICT COURT ', 'UNITED STATES DISTRICT COURT ')\",\n",
       " \" ('MIDDLE DISTRICT OF FLORIDA ', 'MIDDLE DISTRICT OF FLORIDA ')\",\n",
       " \" ('Jacksonville Division ', 'Jacksonville Division ')\",\n",
       " \" ('v. ', 'v ')\",\n",
       " \" ('Case No. 3:15-cv-5-J-34MCR ', 'Case No cv J MCR ')\",\n",
       " \" ('U.S. COMMODITY FUTURES ', 'U S COMMODITY FUTURES ')\",\n",
       " \" ('TRADING COMMISSION, ', 'TRADING COMMISSION ')\",\n",
       " \" ('Plaintiff, ', 'Plaintiff ')\",\n",
       " \" ('ALLIED MARKETS LLC, ', 'ALLIED MARKETS LLC ')\",\n",
       " \" ('JOSHUA GILLILAND, and ', 'JOSHUA GILLILAND and ')\",\n",
       " \" ('CHAWALIT WONGKHIAO, ', 'CHAWALIT WONGKHIAO ')\",\n",
       " \" ('Defendants. ', 'Defendants ')\",\n",
       " ' (\"ORDER GRANTING PLAINTIFF\\'S EX PARTE \", \\'ORDER GRANTING PLAINTIFF S EX PARTE \\')',\n",
       " \" ('MOTION FOR STATUTORY RESTRAINING ORDER AND SCHEDULING ', 'MOTION FOR STATUTORY RESTRAINING ORDER AND SCHEDULING ')\",\n",
       " \" ('PRELIMINARY fNJUNCTION HEARING ', 'PRELIMINARY fNJUNCTION HEARING ')\",\n",
       " \" ('THIS CAUSE is before the Court on Plaintiffs Ex Parte Motion for Statutory ', 'THIS CAUSE is before the Court on Plaintiffs Ex Parte Motion for Statutory ')\",\n",
       " \" ('Restraining Order and Motion for Preliminary Injunction (Doc. S-4; Motion), filed on ', 'Restraining Order and Motion for Preliminary Injunction Doc S Motion filed on ')\",\n",
       " \" ('January 5, 2015. Simultaneously with the Motion, the United States Commodity Futures ', 'January Simultaneously with the Motion the United States Commodity Futures ')\",\n",
       " \" ('Trading Commission (Plaintiff or CFTC) filed a Complaint for Injunctive Relief, Civil ', 'Trading Commission Plaintiff or CFTC filed a Complaint for Injunctive Relief Civil ')\",\n",
       " \" ('Monetary Penalty, and Other Equitable Relief (Doc. S-3) against Defendants Allied Markets ', 'Monetary Penalty and Other Equitable Relief Doc S against Defendants Allied Markets ')\",\n",
       " \" ('LLC, Joshua Gilliland, and Chawalit Wongkhiao (collectively, Defendants). In the Motion, ', 'LLC Joshua Gilliland and Chawalit Wongkhiao collectively Defendants In the Motion ')\",\n",
       " \" ('the CFTC moves, pursuant to Section 6c(a) of the Commodity Exchange Act (CEA), 7 ', 'the CFTC moves pursuant to Section c a of the Commodity Exchange Act CEA ')\",\n",
       " \" ('U.S.C. § 13a-l (a) (2012), for an ex parte statutory restraining order freezing assets and ', 'U S C a l a for an ex parte statutory restraining order freezing assets and ')\",\n",
       " \" ('prohibiting the destruction of books, records, or other documents; and for an order requiring ', 'prohibiting the destruction of books records or other documents and for an order requiring ')\"]"
      ]
     },
     "execution_count": 30,
     "metadata": {},
     "output_type": "execute_result"
    }
   ],
   "source": [
    "first_page"
   ]
  },
  {
   "cell_type": "code",
   "execution_count": 31,
   "metadata": {},
   "outputs": [
    {
     "name": "stdout",
     "output_type": "stream",
     "text": [
      "{'score': 0.19786383211612701, 'start': 21, 'end': 49, 'answer': 'allied markets llc et al txt'}\n"
     ]
    }
   ],
   "source": [
    "print(nlp(question=\"Who violeted?\", context=formatted_article_text))"
   ]
  },
  {
   "cell_type": "code",
   "execution_count": 32,
   "metadata": {},
   "outputs": [
    {
     "name": "stdout",
     "output_type": "stream",
     "text": [
      "[{'score': 0.38688942790031433, 'start': 21, 'end': 35, 'answer': 'allied markets'}, {'score': 0.2808257043361664, 'start': 21, 'end': 27, 'answer': 'allied'}]\n"
     ]
    }
   ],
   "source": [
    "print(nlp(question=\"Who is the defendant?\", context=formatted_article_text, topk=2))"
   ]
  },
  {
   "cell_type": "markdown",
   "metadata": {},
   "source": [
    "# STOP HERE"
   ]
  },
  {
   "cell_type": "code",
   "execution_count": null,
   "metadata": {},
   "outputs": [],
   "source": []
  },
  {
   "cell_type": "code",
   "execution_count": null,
   "metadata": {},
   "outputs": [],
   "source": []
  },
  {
   "cell_type": "code",
   "execution_count": null,
   "metadata": {},
   "outputs": [],
   "source": []
  },
  {
   "cell_type": "code",
   "execution_count": null,
   "metadata": {},
   "outputs": [],
   "source": []
  },
  {
   "cell_type": "code",
   "execution_count": null,
   "metadata": {},
   "outputs": [],
   "source": []
  },
  {
   "cell_type": "code",
   "execution_count": null,
   "metadata": {},
   "outputs": [],
   "source": []
  },
  {
   "cell_type": "code",
   "execution_count": null,
   "metadata": {},
   "outputs": [],
   "source": []
  },
  {
   "cell_type": "markdown",
   "metadata": {},
   "source": [
    "## Extracted authorities"
   ]
  },
  {
   "cell_type": "code",
   "execution_count": null,
   "metadata": {},
   "outputs": [],
   "source": [
    "UNITED STATES DISTRICT COURT\n",
    "FOR THE MIDDLE DISTRICT OF FLORIDA "
   ]
  },
  {
   "cell_type": "markdown",
   "metadata": {},
   "source": [
    "## Code law violation"
   ]
  },
  {
   "cell_type": "code",
   "execution_count": null,
   "metadata": {},
   "outputs": [],
   "source": [
    "violated Section 4c(a)(5)(C) of the Commodity Exchange Act (\"Act\"), 7 U.S.C.\n",
    "§ 6c(a)(5)(C) (2018)."
   ]
  },
  {
   "cell_type": "code",
   "execution_count": null,
   "metadata": {},
   "outputs": [],
   "source": [
    "Section 4c(a)(5) of the Act, 7 U.S.C.\n",
    "§ 6c(a)(5) (2012)."
   ]
  },
  {
   "cell_type": "markdown",
   "metadata": {},
   "source": [
    "## Violation period"
   ]
  },
  {
   "cell_type": "code",
   "execution_count": null,
   "metadata": {},
   "outputs": [],
   "source": [
    "line = 'The Commodity Futures Trading Commission (\"Commission\") has reason to believe that from at least July 2012 through March 2017 (\"Relevant Period\"), Propex Derivatives Pty Ltd. (\"Propex\") violated Section 4c(a)(5)(C) of the Commodity Exchange Act (\"Act\"), 7 U.S.C. 6c(a)(5)(C) (2018). Therefore, the Commission deems it appropriate and in the public interest that public administrative proceedings be, and hereby are, instituted to determine whether Propex engaged in the violations set forth herein and to determine whether any order should be issued imposing remedial sanctions.'"
   ]
  },
  {
   "cell_type": "code",
   "execution_count": null,
   "metadata": {},
   "outputs": [],
   "source": [
    "(\"Relevant Period\")"
   ]
  },
  {
   "cell_type": "markdown",
   "metadata": {},
   "source": [
    "## Transaction amount"
   ]
  },
  {
   "cell_type": "code",
   "execution_count": null,
   "metadata": {},
   "outputs": [],
   "source": [
    "pour complaint tous les montants vers Transaction amounts"
   ]
  },
  {
   "cell_type": "markdown",
   "metadata": {},
   "source": [
    "## Defendant"
   ]
  },
  {
   "cell_type": "code",
   "execution_count": null,
   "metadata": {},
   "outputs": [],
   "source": [
    "Propex Derivatives Pty Ltd, Respondent."
   ]
  },
  {
   "cell_type": "code",
   "execution_count": null,
   "metadata": {
    "scrolled": true
   },
   "outputs": [],
   "source": [
    "#!pip install -U spacy\n",
    "#!python -m spacy download en_core_web_sm"
   ]
  },
  {
   "cell_type": "markdown",
   "metadata": {},
   "source": [
    "## Nature of violations"
   ]
  },
  {
   "cell_type": "code",
   "execution_count": null,
   "metadata": {},
   "outputs": [],
   "source": [
    "II. FINDINGS\n",
    "The Commission finds the following:\n",
    "A. SUMMARY\n",
    "During the Relevant Period, Propex, by and through a Propex trader (\"Trader A\"),·\n",
    "engaged in thousands of instances of the disruptive trading practice known as \"spoofing\"\n",
    "(bidding or offering with the intent to cancel the bid or offer before execution) in the E-mini\n",
    "S&P 500 futures contracts traded on the Chicago Mercantile Exchange (\"CME\"), a futures\n",
    "exchange and designated contract market which is owned and operated by CME Group Inc. This\n",
    "conduct violated Section 4c(a)(5)(C) of the Act, 7 U.S.C. § 6c(a)(5)(C) (2018). "
   ]
  },
  {
   "cell_type": "code",
   "execution_count": null,
   "metadata": {},
   "outputs": [],
   "source": [
    "cftc_full_list = pd.read_excel(\"cftc_full_list.xlsx\")"
   ]
  },
  {
   "cell_type": "code",
   "execution_count": null,
   "metadata": {},
   "outputs": [],
   "source": [
    "def gen_line_rep(rep):\n",
    "    original_path = f\"./cftc/original/{rep}\"\n",
    "    text_path = f\"./cftc/text/{rep}\"\n",
    "    meta_path = f\"./cftc/meta-data/{rep}\"\n",
    "    lines = []\n",
    "    for file in glob.glob(f\"{meta_path}/*.json\"):\n",
    "        filename = os.path.basename(file)\n",
    "\n",
    "        with open(file) as json_file: \n",
    "            data = json.load(json_file)     \n",
    "\n",
    "        data['filename'] = filename.replace(\".json\",\"\")\n",
    "        data['folder'] = rep\n",
    "        with open(f\"{text_path}/{filename.replace('.json','.txt')}\") as f:\n",
    "            data['doc_text'] = f.read()  \n",
    "\n",
    "\n",
    "        lines.append(data)\n",
    "    return lines"
   ]
  },
  {
   "cell_type": "code",
   "execution_count": null,
   "metadata": {},
   "outputs": [],
   "source": [
    "meta_data = []\n",
    "for index, row in cftc_full_list[~cftc_full_list.scraped_folder.isnull()].iterrows():\n",
    "    try:\n",
    "        meta_data.extend(gen_line_rep(row['scraped_folder']))\n",
    "    except:\n",
    "        print(\"error on\",  row['scraped_folder'])\n",
    "len(meta_data)"
   ]
  },
  {
   "cell_type": "code",
   "execution_count": null,
   "metadata": {},
   "outputs": [],
   "source": [
    "df_meta_data = pd.DataFrame(meta_data)"
   ]
  },
  {
   "cell_type": "code",
   "execution_count": null,
   "metadata": {},
   "outputs": [],
   "source": [
    "df_meta_data['doc_clean'] = df_meta_data.doc_text.apply(clean_doc)"
   ]
  },
  {
   "cell_type": "code",
   "execution_count": null,
   "metadata": {},
   "outputs": [],
   "source": [
    "df_meta_data['first_page'] = df_meta_data['doc_clean'].str[0]"
   ]
  },
  {
   "cell_type": "code",
   "execution_count": null,
   "metadata": {},
   "outputs": [],
   "source": [
    "df_meta_data = df_meta_data[~df_meta_data['first_page'].isnull()]"
   ]
  },
  {
   "cell_type": "markdown",
   "metadata": {},
   "source": [
    "## Get reference"
   ]
  },
  {
   "cell_type": "code",
   "execution_count": null,
   "metadata": {},
   "outputs": [],
   "source": [
    "df_meta_data['reference'] = df_meta_data.first_page.apply(get_case)"
   ]
  },
  {
   "cell_type": "code",
   "execution_count": null,
   "metadata": {},
   "outputs": [],
   "source": []
  },
  {
   "cell_type": "markdown",
   "metadata": {},
   "source": [
    "## Get defendant"
   ]
  },
  {
   "cell_type": "code",
   "execution_count": null,
   "metadata": {},
   "outputs": [],
   "source": [
    "first_page = [text for text in df_meta_data.first_page.values[3] if len(text) > 100]"
   ]
  },
  {
   "cell_type": "code",
   "execution_count": null,
   "metadata": {},
   "outputs": [],
   "source": [
    "first_page"
   ]
  },
  {
   "cell_type": "code",
   "execution_count": null,
   "metadata": {},
   "outputs": [],
   "source": [
    "print(nlp(question=\"Who violeted?\", context=\".\".join(first_page)))"
   ]
  },
  {
   "cell_type": "code",
   "execution_count": null,
   "metadata": {},
   "outputs": [],
   "source": [
    "print(nlp(question=\"Who is the defendant?\", context=\".\".join(first_page), topk=3))"
   ]
  },
  {
   "cell_type": "code",
   "execution_count": null,
   "metadata": {
    "scrolled": false
   },
   "outputs": [],
   "source": [
    "#df_meta_data[['reference', 'folder', 'filename']][df_meta_data.reference.isnull()]"
   ]
  },
  {
   "cell_type": "markdown",
   "metadata": {},
   "source": [
    "## Type"
   ]
  },
  {
   "cell_type": "code",
   "execution_count": null,
   "metadata": {},
   "outputs": [],
   "source": [
    "df_meta_data['is_order'] = df_meta_data.filename.str.contains(\"order\")"
   ]
  },
  {
   "cell_type": "code",
   "execution_count": null,
   "metadata": {},
   "outputs": [],
   "source": [
    "df_meta_data['is_complaint'] = df_meta_data.filename.str.contains(\"complaint\")"
   ]
  },
  {
   "cell_type": "code",
   "execution_count": null,
   "metadata": {},
   "outputs": [],
   "source": [
    "df_meta_data['type'] = np.where(df_meta_data['is_order'], \"Order CFTC\", \n",
    "         np.where(df_meta_data['is_complaint'], \n",
    "                  \"Complaint CFTC\", None))"
   ]
  }
 ],
 "metadata": {
  "kernelspec": {
   "display_name": "Python 3",
   "language": "python",
   "name": "python3"
  },
  "language_info": {
   "codemirror_mode": {
    "name": "ipython",
    "version": 3
   },
   "file_extension": ".py",
   "mimetype": "text/x-python",
   "name": "python",
   "nbconvert_exporter": "python",
   "pygments_lexer": "ipython3",
   "version": "3.8.5"
  }
 },
 "nbformat": 4,
 "nbformat_minor": 4
}
