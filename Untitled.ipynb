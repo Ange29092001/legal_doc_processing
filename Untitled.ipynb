{
 "cells": [
  {
   "cell_type": "code",
   "execution_count": 36,
   "metadata": {},
   "outputs": [],
   "source": [
    "from legal_doc_processing.utils import*"
   ]
  },
  {
   "cell_type": "code",
   "execution_count": 37,
   "metadata": {},
   "outputs": [],
   "source": [
    "file = \"data/order-vision-financial-markets-llc.txt\"\n",
    "#cftc_text_7100-15_order-allied-markets-llc-et-al.txt\"\n",
    "data=load_data(file)\n",
    "\n"
   ]
  },
  {
   "cell_type": "code",
   "execution_count": 38,
   "metadata": {},
   "outputs": [
    {
     "data": {
      "text/plain": [
       "[[' ( received cftc >',\n",
       "  ' united states of america',\n",
       "  ' before the',\n",
       "  ' commodity futures trading commission',\n",
       "  ' office of proceedings',\n",
       "  ' proceedings clerk',\n",
       "  ' \\\\ 5:00 pm, jul 12, 2019]',\n",
       "  ' in the matter of:',\n",
       "  ' vision financial markets llc,',\n",
       "  ' cftc docket no. _ 19-13',\n",
       "  ' respondent.',\n",
       "  ' order instituting proceedings pursuant to',\n",
       "  ' sections 6(c) and 6(d) of the commodity exchange act, making findings and imposing remedial sanctions',\n",
       "  ' i. introduction',\n",
       "  ' the commodity futures trading commission (\"commission\") has reason to believe that vision financial markets llc (\"respondent\") violated commission regulation (\"regulation\") 166.3, 17 c.f.r. 166.3 (2018). therefore, the commission deems it appropriate and in the public interest that public administrative proceedings be, and hereby are, instituted to determine whether respondent engaged in the violations set forth herein and to determine whether any order should be issued imposing remedial sanctions.',\n",
       "  ' in anticipation of the institution of an administrative proceeding, respondent has submitted an offer of settlement (\"offer\"), which the commission has determined to accept.',\n",
       "  ' without admitting or denying any of the findings or conclusions herein, respondent consents to the entry of this order instituting proceedings pursuant to section 6(c) and (d) of the commodity exchange act, making findings, and imposing remedial sanctions (\"order\") and acknowledges service of this order.',\n",
       "  \" ' respondent consents to the use of these findings of fact and conclusion of law in this order in this proceeding and in any other proceeding brought by the commission or to which the commission is a party or claimant, and agrees that they shall be taken as true and correct and be given preclusive effect therein, without further proof. respondent does not consent, however, to the use of this order, or the findings or conclusions herein, as the sole basis for any other proceeding brought by the commission or to which the commission is a party or claimant, other than: a proceeding in bankruptcy or receivership; or a proceeding to enforce the terms of this order. respondent does not consent to the use of the offer or this order, or the findings or conclusions in this order, by any other party in any other proceeding.\"],\n",
       " [' il. findings',\n",
       "  ' the commission finds the following:',\n",
       "  ' a. summary',\n",
       "  ' from at least january 1 to november 30, 2014 (the \"relevant period\"), respondent, a then-registered futures commission merchant (\"fcm\"), failed to diligently supervise the handling by its employees and agents of commodity interest accounts carried by respondent and introduced by a respondent guaranteed introducing broker (\"gib\"), as well as the activities of its employees and agents relating to its business as a then-registered fcm to ensure compliance with the act and regulations, and to deter and detect wrongdoing, in violation of regulation 166.3, 17 c.f.r. 166.3 (2018).',\n",
       "  \" in particular, respondent had a supervisory system in place as evidenced by its compliance manual; nevertheless, respondent failed to adequately supervise its employees and agents to ensure they: (1) executed bunched orders that properly segregated the gib's proprietary trades from its customer trades; (2) executed bunched orders that properly segregated trades from discretionary and non-discretionary gib customer accounts; and (3) executed orders for non-discretionary gib customers only when the gib had obtained specific customer authorization for the transaction.\",\n",
       "  \" in accepting respondent's offer of settlement, the commission recognizes respondent's cooperation during the division of enforcement's investigation of this matter.\",\n",
       "  ' b. respondent',\n",
       "  ' vision financial markets llc is a securities broker dealer located in stamford, connecticut. from at least may 1990 until april 2015, respondent was a registered fcm and commodity pool operator. the gib discussed herein was a gib of respondent from at least october 2000 to november 2014.',\n",
       "  ' cc. facts'],\n",
       " [' accounts with customer accounts; and (b) discretionary customer accounts with non- discretionary customer accounts but continued to process the unlawful bunched orders.',\n",
       "  \" 2. respondent executed bunched orders for the gib's non-discretionary customers when respondent was aware or should have been aware that the gib had not obtained specific customer authorization for the transaction during the relevant period, respondent executed bunched orders for the gib's non- discretionary customers when the gib had not obtained specific authorization from the customer for the transaction. specifically, the gib exercised trading discretion over non-discretionary customer accounts. however, the gib did not have powers of attorney from those customers and in certain instances had not obtained the requisite specific authorizations from those customers as to, among other things, the precise commodity interest that it was selling or the exact amount of the commodity interest that was being sold.\",\n",
       "  \" during the relevant period, respondent was aware or should have been aware that certain trades it executed on behalf of the gib's non-discretionary customers, including as part of bunched orders, were not specifically authorized by the customers. for example, in july 2014, respondent conducted an audit of the gib. during that audit, respondent noted that on multiple occasions that the gib did not appear to be properly timestamping the trade tickets for certain bunched orders. in particular, the initial timestamps on certain trade tickets, which evidenced when the gib purportedly contacted a non-discretionary customer to obtain their specific authorization for the trade, appeared to match the exact same timestamp that the gib supposedly submitted these trades to respondent for execution. this raised a red flag for respondent that the gib was not obtaining specific customer authorizations. notwithstanding this red flag, respondent continued to accept orders from the gib for which the gib failed to obtain the requisite customer authorizations.\",\n",
       "  ' similarly, in october 2014, the gib informed respondent that the gib did not obtain from its customers specific authorization when it canceled and replaced orders on behalf of those customers. this again raised a red flag for respondent that the gib was not obtaining specific customer authorizations. subsequently in 2014, the gib accounts relevant here were transferred to a different fcm.',\n",
       "  \" 3. respondent's compliance manual\",\n",
       "  \" respondent's compliance manual was, in relevant part, consistent with the requirements of certain regulations pertinent to the issues in this case, specifically, regulations 1.35(b)(5), 155.3 155.4(a)(1), 166.2, 17 c.f.r. 1.35 (b)(5), 155.3 155.4(a)(1), and 166.2 (2018).\"],\n",
       " [\" compliance manual further required that a non-discretionary customer be informed of, and agree to all parameters of a trade (i.e., quantity, commodity, delivery month, option type, and strike price(s)) prior to executing the transaction on the customer's behalf).\",\n",
       "  ' i. legal discussion',\n",
       "  ' regulation 166.3, 17 c.f.r. 166.3 (2018), requires: each commission registrant, except an associated person who has no supervisory duties, must diligently supervise the handling by its partners, officers, employees and agents (or other persons occupying a similar status or performing a similar function) of all commodity interest accounts carried, operated, advised or introduced by the registrant and all other activities of its partners, officers, employees, and agents (or other persons occupying a similar status or performing a similar function) relating to its business as a registrant.',\n",
       "  ' under regulation 166.3, a registrant has a \"duty to develop procedures for the \\'detection and deterrence of possible wrongdoing by its agents.\\'\" samson refining co. v. drexel burnham lambert, inc., cftc no. 82-r448, 1990 wl 282783, at *11 (feb. 16, 1990) (quoting lobb v.',\n",
       "  ' j.t. mckerr & co., cftc no. 85-r185, 1989 wl 242384, at *11 (dec. 14, 1989)).',\n",
       "  ' a violation of regulation 166.3 is established by showing either that: (1) the registrant\\'s supervisory system was generally inadequate, or (2) the registrant failed to perform its supervisory duties diligently. in re fcstone, llc, cftc no. 15-21, 2015 wl 2066891, at *3 (may 1, 2015) (consent order) (citing jn re murlas commodities, cftc no. 85-29, 1995 wl 523563 (sept. 1, 1995)). so, even if proper procedures are in place, a supervisory violation may occur if a registrant fails to implement those procedures, or fails to ensure that its agents follow those procedures. see, e.g., gnp commodities, 1992 wl 201158, at *17 (providing that, even if an adequate supervisory system is in place, regulation 166.3 can still be violated if the supervisory system is not diligently administered and stating that \"a proper determination of a fcm\\'s supervisory diligence must remain sensitive to the particular facts and circumstances that influenced the design and execution of the system at issue\"), aff\\'d sub nom. monieson v. cftc, 996 f.2d 852 (7th cir. 1993).',\n",
       "  ' further, a violation of regulation 166.3 is an independent violation for which no underlying violation is necessary. fcstone, 2015 wl 2066891, at *3. instead, evidence of underlying violations that \"should be detected by a diligent system of supervision, either because of the nature of the violations or because the violations have occurred repeatedly\" is probative of a failure to supervise. cftc v. sidoti, 178 f.3d 1132, 1137 (1 1\" cir. 1999) (defendant was liable for failure to supervise because he \"knew of specific instances of misconduct yet failed to take reasonable steps to correct the problems\").',\n",
       "  ' during the relevant period, respondent was registered with the commission and had an obligation to diligently supervise its employees and agents in their handling of customer orders.'],\n",
       " [' specific customer accounts post-execution, regulation 1.35(b)(5) places an affirmative obligation on fcms to monitor for unusual or suspicious activity and to make reasonable inquiry if an fcm has actual or constructive knowledge of red flags indicating a likelihood of such activity. see account identification for eligible bunched orders, 68 fed. reg. 34,790, 34,792 (june 11, 2003); see also nfa notice 9029. consistent with these obligations, during the relevant period respondent had a compliance manual that required respondent employees, among other things, to take appropriate measures to ensure that: trades for proprietary accounts and customer accounts were not contained in the same bunched order; trades for discretionary accounts and non-discretionary accounts were not contained in the same bunched order; and the requisite customer authorization was obtained for trades for non-discretionary accounts.',\n",
       "  \" thus, respondent here had an obligation to monitor the post-execution allocation process for unusual or suspicious activityparticularly after respondent had knowledge of red flags including that the gib was not obtaining specific customer authorizations for certain of the bunched order transactions. notwithstanding these obligations, however, with respect to orders placed by its gib, respondent employees and agents routinely: (1) executed bunched orders that contained trades for the gib's proprietary and gib's customer accounts; (2) executed bunched orders that contained trades for the gib's discretionary and non-discretionary customer accounts; and (3) executed orders for the gib's non-discretionary customers, including bunched orders, when the gib had failed to obtain specific customer authorization for the transaction. as noted, this occurred even after respondent had identified that the gib's orders were not compliant with the act and regulations. in failing to supervise its employees and agents to ensure they carried out these obligations in their handling of the commodity interest accounts, respondent violated regulation 166.3.\",\n",
       "  ' iv. findings of violations',\n",
       "  ' based on the foregoing, the commission finds that, during the relevant period, respondent violated regulation 166.3, 17 c.f.r. 166.3 (2018).',\n",
       "  ' v. offer of settlement',\n",
       "  ' respondent has submitted the offer in which it, without admitting or denying the findings and conclusions herein:',\n",
       "  ' a. acknowledges service of this order;',\n",
       "  ' b. admits the jurisdiction of the commission with respect to all matters set forth in this order and for any action or proceeding brought or authorized by the commission based on violation of or enforcement of this order;',\n",
       "  ' c. waives:',\n",
       "  ' 1. the filing and service of a complaint and notice of hearing; 2. a hearing;'],\n",
       " [' judicial review by any court;',\n",
       "  \" any and all objections to the participation by any member of the commission's staff in the commission's consideration of the offer; any and all claims that it may possess under the equal access to justice act, 5 u.s.c. 504 (2012), and 28 u.s.c. 2412 (2012), and/or the rules promulgated by the commission in conformity therewith, part 148 of the regulations, 17 c.f.r.\",\n",
       "  ' pt. 148 (2018), relating to, or arising from, this proceeding; any and all claims that it may possess under the small business regulatory enforcement fairness act of 1996, pub. l. no. 104-121, tit. i], 201-53, 110 stat. 847, 857-74 (codified as amended at 28 u.s.c. 2412 and in scattered sections of 5 u.s.c. and 15 u.s.c.), relating to, or arising from, this proceeding; and',\n",
       "  ' any claims of double jeopardy based on the institution of this proceeding or the entry in this proceeding of any order imposing a civil monetary penalty or any other relief, including this order.',\n",
       "  \" stipulates that the record basis on which this order is entered shall consist solely of the findings contained in this order to which respondent has consented in the offer; consents, solely on the basis of the offer, to the commission's entry of this order that: i.\",\n",
       "  ' makes findings by the commission that respondent violated regulation 166.3, 17 c.f.r. 166.3 (2018);',\n",
       "  ' orders respondent to cease and desist from violating regulation 166.3; orders respondent to pay a civil monetary penalty in the amount of two-hundred thousand dollars ($200,000), plus post-judgment interest; orders respondent to comply with the conditions and undertakings consented to in the offer and as set forth in part vi of this order.',\n",
       "  ' upon consideration, the commission has determined to accept the offer.',\n",
       "  ' vi. order',\n",
       "  ' accordingly, it is hereby ordered that:',\n",
       "  ' respondent shall cease and desist from violating regulation 166.3, 17 c.f.r. 166.3 a,'],\n",
       " [' the entry of the order and shall be determined by using the treasury bill rate prevailing on the date of entry of this order pursuant to 28 u.s.c. 1961 (2012).',\n",
       "  \" respondent shall pay the cmp obligation by electronic funds transfer, u.s. postal money order, certified check, bank cashier's check, or bank money order. if payment is to be made other than by electronic funds transfer, then the payment shall be made payable to the commodity futures trading commission and sent to the address below: mmac/esc/amk326\",\n",
       "  ' commodity futures trading commission',\n",
       "  ' division of enforcement',\n",
       "  ' 6500 s. macarthur blvd.',\n",
       "  ' oklahoma city, ok 73169',\n",
       "  ' (405) 954-6569 office',\n",
       "  ' (405) 954-1620 fax',\n",
       "  ' 9-amc-ar-cftc@faa.gov',\n",
       "  ' if payment is to be made by electronic funds transfer, respondent shall contact marie thorne or her successor at the above address to receive payment instructions and shall fully comply with those instructions. respondent shall accompany payment of the cmp obligation with a cover letter that identifies the paying respondent and the name and docket number of this proceeding. the paying respondent shall simultaneously transmit copies of the cover letter and the form of payment to the chief financial officer, commodity futures trading commission, three lafayette centre, 1155 21st street, nw, washington, d.c. 20581.',\n",
       "  ' respondent shall comply with the following conditions and undertakings set forth in the offer:',\n",
       "  \" 1. public statements: respondent agrees that neither it nor any agents or employees under its authority or control shall take any action or make any public statement denying, directly or indirectly, any findings or conclusions in this order or creating, or tending to create, the impression that this order is without a factual basis; provided, however, that nothing in this provision shall affect respondent's: (i) testimonial obligations; or (ii) right to take legal positions in other proceedings to which the commission is not a party. respondent shall comply with this agreement, and shall undertake all steps necessary to ensure that all of his agents and/or employees under his authority or control understand and comply with this agreement.\"],\n",
       " [\" 3, partial satisfaction: respondent understands and agrees that any acceptance by the commission or the monitor of any partial payment of respondent's cmp obligation shall not be deemed a waiver of his obligation to make further payments pursuant to this order, or a waiver of the commission's right to seek to compel payment of any remaining balance.\",\n",
       "  ' 4, change of address/phone: until such time as respondent satisfies in full his cmp obligation as set forth in this consent order, respondent shall provide written notice to the commission by certified mail of any change to his telephone number and mailing address within ten (10) calendar days of the change.',\n",
       "  ' the provisions of this order shall be effective as of this date.',\n",
       "  ' by the commission.',\n",
       "  ' cub | 2a',\n",
       "  ' christopher j uirkpatrick',\n",
       "  ' secretary of the commission',\n",
       "  ' commodity futures trading commission']]"
      ]
     },
     "execution_count": 38,
     "metadata": {},
     "output_type": "execute_result"
    }
   ],
   "source": [
    "data_cleaned=clean_doc(data)\n",
    "data_cleaned\n"
   ]
  },
  {
   "cell_type": "code",
   "execution_count": 39,
   "metadata": {},
   "outputs": [],
   "source": [
    "data, _=clean_spec_chars(data)\n",
    "list_=get_token(data)\n",
    "\n"
   ]
  },
  {
   "cell_type": "code",
   "execution_count": 40,
   "metadata": {},
   "outputs": [],
   "source": [
    "\n",
    "def get_section_indx(list_token):\n",
    "\n",
    "    idx=[]\n",
    "    for i in range(len(list_token)):\n",
    "        if is_title(list_token[i]):\n",
    "            idx.append(i)\n",
    "            \n",
    "    return idx\n",
    "def get_structure(text):     \n",
    "    list_token=get_token(text)\n",
    "    idx=get_section_indx(list_token)\n",
    "    j=0\n",
    "    \n",
    "    structure=[]\n",
    "    k=0\n",
    "    for i in idx:\n",
    "        section={}\n",
    "        section['content']=list_token[j:i]\n",
    "        section['header']=list_token[j]\n",
    "        section['id']=k\n",
    "        structure.append(section)\n",
    "        j=i\n",
    "        k=k+1\n",
    "        \n",
    "    return structure"
   ]
  },
  {
   "cell_type": "code",
   "execution_count": 58,
   "metadata": {},
   "outputs": [
    {
     "data": {
      "text/plain": [
       "['ORDER INSTITUTING PROCEEDINGS PURSUANT TO SECTIONS 6(c) AND 6(d) OF THE COMMODITY EXCHANGE ACT, MAKING FINDINGS AND IMPOSING REMEDIAL SANCTIONS I.',\n",
       " 'INTRODUCTION The Commodity Futures Trading Commission (“Commission”) has reason to believe that Vision Financial Markets LLC (“Respondent”) violated Commission Regulation (“Regulation”) 166.3, 17 C.F.R.',\n",
       " '§ 166.3 (2018).',\n",
       " 'Therefore, the Commission deems it appropriate and in the public interest that public administrative proceedings be, and hereby are, instituted to determine whether Respondent engaged in the violations set forth herein and to determine whether any order should be issued imposing remedial sanctions.',\n",
       " 'In anticipation of the institution of an administrative proceeding, Respondent has submitted an Offer of Settlement (“Offer”), which the Commission has determined to accept.',\n",
       " \"Without admitting or denying any of the findings or conclusions herein, Respondent consents to the entry of this Order Instituting Proceedings Pursuant to Section 6(c) and (d) of the Commodity Exchange Act, Making Findings, and Imposing Remedial Sanctions (“Order”) and acknowledges service of this Order. '\",\n",
       " 'Respondent consents to the use of these findings of fact and conclusion of law in this Order in this proceeding and in any other proceeding brought by the Commission or to which the Commission is a party or claimant, and agrees that they shall be taken as true and correct and be given preclusive effect therein, without further proof.',\n",
       " 'Respondent does not consent, however, to the use of this Order, or the findings or conclusions herein, as the sole basis for any other proceeding brought by the Commission or to which the Commission is a party or claimant, other than: a proceeding in bankruptcy or receivership; or a proceeding to enforce the terms of this Order.',\n",
       " 'Respondent does not consent to the use of the Offer or this Order, or the findings or conclusions in this Order, by any other party in any other proceeding.',\n",
       " 'l IL.',\n",
       " 'FINDINGS The Commission finds the following: A.',\n",
       " 'SUMMARY From at least January 1 to November 30, 2014 (the “Relevant Period”), Respondent, a then-registered futures commission merchant (“FCM”), failed to diligently supervise the handling by its employees and agents of commodity interest accounts carried by Respondent and introduced by a Respondent guaranteed introducing broker (“GIB”), as well as the activities of its employees and agents relating to its business as a then-registered FCM to ensure compliance with the Act and Regulations, and to deter and detect wrongdoing, in violation of Regulation 166.3, 17 C.F.R.',\n",
       " '§ 166.3 (2018).',\n",
       " 'In particular, Respondent had a supervisory system in place as evidenced by its compliance manual; nevertheless, Respondent failed to adequately supervise its employees and agents to ensure they: (1) executed bunched orders that properly segregated the GIB’s proprietary trades from its customer trades; (2) executed bunched orders that properly segregated trades from discretionary and non-discretionary GIB customer accounts; and (3) executed orders for non-discretionary GIB customers only when the GIB had obtained specific customer authorization for the transaction.',\n",
       " 'In accepting Respondent’s Offer of Settlement, the Commission recognizes Respondent’s cooperation during the Division of Enforcement’s investigation of this matter.',\n",
       " 'B. RESPONDENT Vision Financial Markets LLC is a securities broker dealer located in Stamford, Connecticut.',\n",
       " 'From at least May 1990 until April 2015, Respondent was a registered FCM and commodity pool operator.',\n",
       " 'The GIB discussed herein was a GIB of Respondent from at least October 2000 to November 2014.',\n",
       " 'Cc.',\n",
       " 'FACTS 1.',\n",
       " 'Respondent Executed Bunched Orders That Contained Trades for the GIB’s Proprietary and Customer Accounts and Bunched Orders That Contained Trades for the GIB’s Discretionary and Non-Discretionary Customer Accounts During the Relevant Period, the GIB regularly submitted to Respondent bunched orders for post execution allocation that included both: (1) proprietary and customer trades; and (2) discretionary and non-discretionary customer trades.',\n",
       " 'Further, during the Relevant Period, after submitting these bunched orders to Respondent, the GIB provided Respondent’s floor brokers with post-allocation fill instructions informing the floor brokers which of the proprietary, discretionary and non-discretionary accounts would receive the executed transactions.',\n",
       " 'Accordingly, because of these instructions, Respondent knew that the bunched orders submitted by the GIB for execution combined trades for (a) the GIB’s proprietary accounts with customer accounts; and (b) discretionary customer accounts with non- discretionary customer accounts but continued to process the unlawful bunched orders.',\n",
       " '2.',\n",
       " 'Respondent Executed Bunched Orders for the GIB’s Non-Discretionary Customers When Respondent Was Aware or Should Have Been Aware That the GIB Had Not Obtained Specific Customer Authorization for the Transaction During the Relevant Period, Respondent executed bunched orders for the GIB’s non- discretionary customers when the GIB had not obtained specific authorization from the customer for the transaction.',\n",
       " 'Specifically, the GIB exercised trading discretion over non-discretionary customer accounts.',\n",
       " 'However, the GIB did not have powers of attorney from those customers and in certain instances had not obtained the requisite specific authorizations from those customers as to, among other things, the precise commodity interest that it was selling or the exact amount of the commodity interest that was being sold.',\n",
       " 'During the Relevant Period, Respondent was aware or should have been aware that certain trades it executed on behalf of the GIB’s non-discretionary customers, including as part of bunched orders, were not specifically authorized by the customers.',\n",
       " 'For example, in July 2014, Respondent conducted an audit of the GIB.',\n",
       " 'During that audit, Respondent noted that on multiple occasions that the GIB did not appear to be properly timestamping the trade tickets for certain bunched orders.',\n",
       " 'In particular, the initial timestamps on certain trade tickets, which evidenced when the GIB purportedly contacted a non-discretionary customer to obtain their specific authorization for the trade, appeared to match the exact same timestamp that the GIB supposedly submitted these trades to Respondent for execution.',\n",
       " 'This raised a red flag for Respondent that the GIB was not obtaining specific customer authorizations.',\n",
       " 'Notwithstanding this red flag, Respondent continued to accept orders from the GIB for which the GIB failed to obtain the requisite customer authorizations.',\n",
       " 'Similarly, in October 2014, the GIB informed Respondent that the GIB did not obtain from its customers specific authorization when it canceled and replaced orders on behalf of those customers.',\n",
       " 'This again raised a red flag for Respondent that the GIB was not obtaining specific customer authorizations.',\n",
       " 'Subsequently in 2014, the GIB accounts relevant here were transferred to a different FCM.',\n",
       " '3.',\n",
       " 'Respondent’s Compliance Manual Respondent’s compliance manual was, in relevant part, consistent with the requirements of certain Regulations pertinent to the issues in this case, specifically, Regulations 1.35(b)(5), 155.3 155.4(a)(1), 166.2, 17 C.F.R.',\n",
       " '§§ 1.35 (b)(5), 155.3 155.4(a)(1), and 166.2 (2018).',\n",
       " 'During the Relevant Period, Respondent’s compliance manual thus provided that orders for proprietary accounts, that is, accounts in which a firm had an ownership interest, could not be bunched with orders for customer accounts.',\n",
       " 'The compliance manual also provided that orders for discretionary customer accounts, that is, accounts that had provided powers-of-attorney, could not be bunched with orders for non-discretionary customer accounts.',\n",
       " 'Respondent’s compliance manual further required that a non-discretionary customer be informed of, and agree to all parameters of a trade (i.e., quantity, commodity, delivery month, option type, and strike price(s)) prior to executing the transaction on the customer’s behalf).']"
      ]
     },
     "execution_count": 58,
     "metadata": {},
     "output_type": "execute_result"
    }
   ],
   "source": [
    "section=get_structure(data)\n",
    "section[1]['content']"
   ]
  },
  {
   "cell_type": "code",
   "execution_count": 80,
   "metadata": {},
   "outputs": [],
   "source": [
    "def get_case(page):\n",
    "    for line in page[0]['content']:\n",
    "        \n",
    "        print(line)\n",
    "        if len(line) < 50:\n",
    "            p = re.compile(\"NO[\\.:]\\s*.+\")\n",
    "            result = p.search(line.upper())\n",
    "            if result:\n",
    "                return result.group(0).strip()\n",
    "            \n",
    "    for line in  page[0]['content']:   \n",
    "        if len(line) < 50:    \n",
    "            p = re.compile(\"\\d*-?CV-\\d+.*\")\n",
    "            result = p.search(line.upper())\n",
    "            if result:\n",
    "                return result.group(0).strip()"
   ]
  },
  {
   "cell_type": "code",
   "execution_count": 81,
   "metadata": {},
   "outputs": [
    {
     "name": "stdout",
     "output_type": "stream",
     "text": [
      " (— RECEIVED CFTC > UNITED STATES OF AMERICA Before the COMMODITY FUTURES TRADING COMMISSION Office of Proceedings Proceedings Clerk \\ 5:00 pm, Jul 12, 2019] In the Matter of: Vision Financial Markets LLC, CFTC Docket No.\n",
      "_ 19-13 Respondent.\n"
     ]
    }
   ],
   "source": [
    "get_case(section)"
   ]
  },
  {
   "cell_type": "code",
   "execution_count": 82,
   "metadata": {},
   "outputs": [],
   "source": [
    "from transformers import DistilBertModel, DistilBertConfig\n",
    "    "
   ]
  },
  {
   "cell_type": "code",
   "execution_count": 83,
   "metadata": {},
   "outputs": [
    {
     "name": "stdout",
     "output_type": "stream",
     "text": [
      "WARNING: pip is being invoked by an old script wrapper. This will fail in a future version of pip.\n",
      "Please see https://github.com/pypa/pip/issues/5599 for advice on fixing the underlying issue.\n",
      "To avoid this problem you can invoke Python with '-m pip' instead of running pip directly.\n",
      "\u001b[33mWARNING: Value for scheme.platlib does not match. Please report this to <https://github.com/pypa/pip/issues/9617>\n",
      "distutils: /usr/local/lib/python3.7/dist-packages\n",
      "sysconfig: /usr/lib/python3.7/site-packages\u001b[0m\n",
      "\u001b[33mWARNING: Value for scheme.purelib does not match. Please report this to <https://github.com/pypa/pip/issues/9617>\n",
      "distutils: /usr/local/lib/python3.7/dist-packages\n",
      "sysconfig: /usr/lib/python3.7/site-packages\u001b[0m\n",
      "\u001b[33mWARNING: Value for scheme.headers does not match. Please report this to <https://github.com/pypa/pip/issues/9617>\n",
      "distutils: /usr/local/include/python3.7/UNKNOWN\n",
      "sysconfig: /usr/include/python3.7m\u001b[0m\n",
      "\u001b[33mWARNING: Value for scheme.scripts does not match. Please report this to <https://github.com/pypa/pip/issues/9617>\n",
      "distutils: /usr/local/bin\n",
      "sysconfig: /usr/bin\u001b[0m\n",
      "\u001b[33mWARNING: Value for scheme.data does not match. Please report this to <https://github.com/pypa/pip/issues/9617>\n",
      "distutils: /usr/local\n",
      "sysconfig: /usr\u001b[0m\n",
      "\u001b[33mWARNING: Additional context:\n",
      "user = False\n",
      "home = None\n",
      "root = None\n",
      "prefix = None\u001b[0m\n",
      "Defaulting to user installation because normal site-packages is not writeable\n",
      "Requirement already satisfied: spacy in /home/aimsg/.local/lib/python3.7/site-packages (3.0.6)\n",
      "Requirement already satisfied: requests<3.0.0,>=2.13.0 in /usr/lib/python3/dist-packages (from spacy) (2.21.0)\n",
      "Requirement already satisfied: pydantic<1.8.0,>=1.7.1 in /home/aimsg/.local/lib/python3.7/site-packages (from spacy) (1.7.3)\n",
      "Requirement already satisfied: preshed<3.1.0,>=3.0.2 in /home/aimsg/.local/lib/python3.7/site-packages (from spacy) (3.0.5)\n",
      "Requirement already satisfied: setuptools in /home/aimsg/.local/lib/python3.7/site-packages (from spacy) (56.0.0)\n",
      "Requirement already satisfied: cymem<2.1.0,>=2.0.2 in /home/aimsg/.local/lib/python3.7/site-packages (from spacy) (2.0.5)\n",
      "Requirement already satisfied: typing-extensions<4.0.0.0,>=3.7.4 in /home/aimsg/.local/lib/python3.7/site-packages (from spacy) (3.7.4.3)\n",
      "Requirement already satisfied: catalogue<2.1.0,>=2.0.3 in /home/aimsg/.local/lib/python3.7/site-packages (from spacy) (2.0.3)\n",
      "Requirement already satisfied: thinc<8.1.0,>=8.0.3 in /home/aimsg/.local/lib/python3.7/site-packages (from spacy) (8.0.3)\n",
      "Requirement already satisfied: srsly<3.0.0,>=2.4.1 in /home/aimsg/.local/lib/python3.7/site-packages (from spacy) (2.4.1)\n",
      "Requirement already satisfied: pathy>=0.3.5 in /home/aimsg/.local/lib/python3.7/site-packages (from spacy) (0.5.2)\n",
      "Requirement already satisfied: murmurhash<1.1.0,>=0.28.0 in /home/aimsg/.local/lib/python3.7/site-packages (from spacy) (1.0.5)\n",
      "Requirement already satisfied: typer<0.4.0,>=0.3.0 in /home/aimsg/.local/lib/python3.7/site-packages (from spacy) (0.3.2)\n",
      "Requirement already satisfied: numpy>=1.15.0 in /home/aimsg/.local/lib/python3.7/site-packages (from spacy) (1.18.5)\n",
      "Requirement already satisfied: jinja2 in /usr/lib/python3/dist-packages (from spacy) (2.10)\n",
      "Requirement already satisfied: wasabi<1.1.0,>=0.8.1 in /home/aimsg/.local/lib/python3.7/site-packages (from spacy) (0.8.2)\n",
      "Requirement already satisfied: spacy-legacy<3.1.0,>=3.0.4 in /home/aimsg/.local/lib/python3.7/site-packages (from spacy) (3.0.5)\n",
      "Requirement already satisfied: tqdm<5.0.0,>=4.38.0 in /home/aimsg/.local/lib/python3.7/site-packages (from spacy) (4.47.0)\n",
      "Requirement already satisfied: packaging>=20.0 in /home/aimsg/.local/lib/python3.7/site-packages (from spacy) (20.9)\n",
      "Requirement already satisfied: blis<0.8.0,>=0.4.0 in /home/aimsg/.local/lib/python3.7/site-packages (from spacy) (0.7.4)\n",
      "Requirement already satisfied: zipp>=0.5 in /home/aimsg/.local/lib/python3.7/site-packages (from catalogue<2.1.0,>=2.0.3->spacy) (3.4.0)\n",
      "Requirement already satisfied: pyparsing>=2.0.2 in /usr/lib/python3/dist-packages (from packaging>=20.0->spacy) (2.2.0)\n",
      "Requirement already satisfied: smart-open<4.0.0,>=2.2.0 in /home/aimsg/.local/lib/python3.7/site-packages (from pathy>=0.3.5->spacy) (3.0.0)\n",
      "Requirement already satisfied: click<7.2.0,>=7.1.1 in /home/aimsg/.local/lib/python3.7/site-packages (from typer<0.4.0,>=0.3.0->spacy) (7.1.2)\n",
      "\u001b[33mWARNING: Value for scheme.headers does not match. Please report this to <https://github.com/pypa/pip/issues/9617>\n",
      "distutils: /home/aimsg/.local/include/python3.7m/UNKNOWN\n",
      "sysconfig: /home/aimsg/.local/include/python3.7\u001b[0m\n",
      "\u001b[33mWARNING: Additional context:\n",
      "user = True\n",
      "home = None\n",
      "root = None\n",
      "prefix = None\u001b[0m\n",
      "\u001b[33mWARNING: You are using pip version 21.1; however, version 21.1.2 is available.\n",
      "You should consider upgrading via the '/usr/bin/python3 -m pip install --upgrade pip' command.\u001b[0m\n"
     ]
    }
   ],
   "source": [
    "!pip3 install spacy"
   ]
  },
  {
   "cell_type": "code",
   "execution_count": 64,
   "metadata": {},
   "outputs": [
    {
     "name": "stdout",
     "output_type": "stream",
     "text": [
      "2021-05-28 12:46:09.320849: W tensorflow/stream_executor/platform/default/dso_loader.cc:59] Could not load dynamic library 'libcudart.so.10.1'; dlerror: libcudart.so.10.1: cannot open shared object file: No such file or directory\n",
      "2021-05-28 12:46:09.320902: I tensorflow/stream_executor/cuda/cudart_stub.cc:29] Ignore above cudart dlerror if you do not have a GPU set up on your machine.\n",
      "\u001b[33mWARNING: Value for scheme.platlib does not match. Please report this to <https://github.com/pypa/pip/issues/9617>\n",
      "distutils: /usr/local/lib/python3.7/dist-packages\n",
      "sysconfig: /usr/lib/python3.7/site-packages\u001b[0m\n",
      "\u001b[33mWARNING: Value for scheme.purelib does not match. Please report this to <https://github.com/pypa/pip/issues/9617>\n",
      "distutils: /usr/local/lib/python3.7/dist-packages\n",
      "sysconfig: /usr/lib/python3.7/site-packages\u001b[0m\n",
      "\u001b[33mWARNING: Value for scheme.headers does not match. Please report this to <https://github.com/pypa/pip/issues/9617>\n",
      "distutils: /usr/local/include/python3.7/UNKNOWN\n",
      "sysconfig: /usr/include/python3.7m\u001b[0m\n",
      "\u001b[33mWARNING: Value for scheme.scripts does not match. Please report this to <https://github.com/pypa/pip/issues/9617>\n",
      "distutils: /usr/local/bin\n",
      "sysconfig: /usr/bin\u001b[0m\n",
      "\u001b[33mWARNING: Value for scheme.data does not match. Please report this to <https://github.com/pypa/pip/issues/9617>\n",
      "distutils: /usr/local\n",
      "sysconfig: /usr\u001b[0m\n",
      "\u001b[33mWARNING: Additional context:\n",
      "user = False\n",
      "home = None\n",
      "root = None\n",
      "prefix = None\u001b[0m\n",
      "Defaulting to user installation because normal site-packages is not writeable\n",
      "Collecting en-core-web-sm==3.0.0\n",
      "  Downloading https://github.com/explosion/spacy-models/releases/download/en_core_web_sm-3.0.0/en_core_web_sm-3.0.0-py3-none-any.whl (13.7 MB)\n",
      "\u001b[K     |████████████████████████████████| 13.7 MB 4.7 MB/s eta 0:00:01\n",
      "\u001b[?25hRequirement already satisfied: spacy<3.1.0,>=3.0.0 in /home/aimsg/.local/lib/python3.7/site-packages (from en-core-web-sm==3.0.0) (3.0.6)\n",
      "Requirement already satisfied: tqdm<5.0.0,>=4.38.0 in /home/aimsg/.local/lib/python3.7/site-packages (from spacy<3.1.0,>=3.0.0->en-core-web-sm==3.0.0) (4.47.0)\n",
      "Requirement already satisfied: srsly<3.0.0,>=2.4.1 in /home/aimsg/.local/lib/python3.7/site-packages (from spacy<3.1.0,>=3.0.0->en-core-web-sm==3.0.0) (2.4.1)\n",
      "Requirement already satisfied: typer<0.4.0,>=0.3.0 in /home/aimsg/.local/lib/python3.7/site-packages (from spacy<3.1.0,>=3.0.0->en-core-web-sm==3.0.0) (0.3.2)\n",
      "Requirement already satisfied: numpy>=1.15.0 in /home/aimsg/.local/lib/python3.7/site-packages (from spacy<3.1.0,>=3.0.0->en-core-web-sm==3.0.0) (1.18.5)\n",
      "Requirement already satisfied: jinja2 in /usr/lib/python3/dist-packages (from spacy<3.1.0,>=3.0.0->en-core-web-sm==3.0.0) (2.10)\n",
      "Requirement already satisfied: wasabi<1.1.0,>=0.8.1 in /home/aimsg/.local/lib/python3.7/site-packages (from spacy<3.1.0,>=3.0.0->en-core-web-sm==3.0.0) (0.8.2)\n",
      "Requirement already satisfied: catalogue<2.1.0,>=2.0.3 in /home/aimsg/.local/lib/python3.7/site-packages (from spacy<3.1.0,>=3.0.0->en-core-web-sm==3.0.0) (2.0.3)\n",
      "Requirement already satisfied: murmurhash<1.1.0,>=0.28.0 in /home/aimsg/.local/lib/python3.7/site-packages (from spacy<3.1.0,>=3.0.0->en-core-web-sm==3.0.0) (1.0.5)\n",
      "Requirement already satisfied: cymem<2.1.0,>=2.0.2 in /home/aimsg/.local/lib/python3.7/site-packages (from spacy<3.1.0,>=3.0.0->en-core-web-sm==3.0.0) (2.0.5)\n",
      "Requirement already satisfied: blis<0.8.0,>=0.4.0 in /home/aimsg/.local/lib/python3.7/site-packages (from spacy<3.1.0,>=3.0.0->en-core-web-sm==3.0.0) (0.7.4)\n",
      "Requirement already satisfied: typing-extensions<4.0.0.0,>=3.7.4 in /home/aimsg/.local/lib/python3.7/site-packages (from spacy<3.1.0,>=3.0.0->en-core-web-sm==3.0.0) (3.7.4.3)\n",
      "Requirement already satisfied: spacy-legacy<3.1.0,>=3.0.4 in /home/aimsg/.local/lib/python3.7/site-packages (from spacy<3.1.0,>=3.0.0->en-core-web-sm==3.0.0) (3.0.5)\n",
      "Requirement already satisfied: thinc<8.1.0,>=8.0.3 in /home/aimsg/.local/lib/python3.7/site-packages (from spacy<3.1.0,>=3.0.0->en-core-web-sm==3.0.0) (8.0.3)\n",
      "Requirement already satisfied: pydantic<1.8.0,>=1.7.1 in /home/aimsg/.local/lib/python3.7/site-packages (from spacy<3.1.0,>=3.0.0->en-core-web-sm==3.0.0) (1.7.3)\n",
      "Requirement already satisfied: requests<3.0.0,>=2.13.0 in /usr/lib/python3/dist-packages (from spacy<3.1.0,>=3.0.0->en-core-web-sm==3.0.0) (2.21.0)\n",
      "Requirement already satisfied: packaging>=20.0 in /home/aimsg/.local/lib/python3.7/site-packages (from spacy<3.1.0,>=3.0.0->en-core-web-sm==3.0.0) (20.9)\n",
      "Requirement already satisfied: pathy>=0.3.5 in /home/aimsg/.local/lib/python3.7/site-packages (from spacy<3.1.0,>=3.0.0->en-core-web-sm==3.0.0) (0.5.2)\n",
      "Requirement already satisfied: setuptools in /home/aimsg/.local/lib/python3.7/site-packages (from spacy<3.1.0,>=3.0.0->en-core-web-sm==3.0.0) (56.0.0)\n",
      "Requirement already satisfied: preshed<3.1.0,>=3.0.2 in /home/aimsg/.local/lib/python3.7/site-packages (from spacy<3.1.0,>=3.0.0->en-core-web-sm==3.0.0) (3.0.5)\n",
      "Requirement already satisfied: zipp>=0.5 in /home/aimsg/.local/lib/python3.7/site-packages (from catalogue<2.1.0,>=2.0.3->spacy<3.1.0,>=3.0.0->en-core-web-sm==3.0.0) (3.4.0)\n",
      "Requirement already satisfied: pyparsing>=2.0.2 in /usr/lib/python3/dist-packages (from packaging>=20.0->spacy<3.1.0,>=3.0.0->en-core-web-sm==3.0.0) (2.2.0)\n",
      "Requirement already satisfied: smart-open<4.0.0,>=2.2.0 in /home/aimsg/.local/lib/python3.7/site-packages (from pathy>=0.3.5->spacy<3.1.0,>=3.0.0->en-core-web-sm==3.0.0) (3.0.0)\n",
      "Requirement already satisfied: click<7.2.0,>=7.1.1 in /home/aimsg/.local/lib/python3.7/site-packages (from typer<0.4.0,>=0.3.0->spacy<3.1.0,>=3.0.0->en-core-web-sm==3.0.0) (7.1.2)\n",
      "\u001b[33mWARNING: Value for scheme.headers does not match. Please report this to <https://github.com/pypa/pip/issues/9617>\n",
      "distutils: /home/aimsg/.local/include/python3.7m/UNKNOWN\n",
      "sysconfig: /home/aimsg/.local/include/python3.7\u001b[0m\n",
      "\u001b[33mWARNING: Additional context:\n",
      "user = True\n",
      "home = None\n",
      "root = None\n",
      "prefix = None\u001b[0m\n",
      "\u001b[33mWARNING: You are using pip version 21.1; however, version 21.1.2 is available.\n",
      "You should consider upgrading via the '/usr/bin/python3 -m pip install --upgrade pip' command.\u001b[0m\n",
      "\u001b[38;5;2m✔ Download and installation successful\u001b[0m\n",
      "You can now load the package via spacy.load('en_core_web_sm')\n"
     ]
    }
   ],
   "source": [
    "!python3 -m spacy download en_core_web_sm\n"
   ]
  },
  {
   "cell_type": "code",
   "execution_count": 84,
   "metadata": {},
   "outputs": [],
   "source": [
    "from transformers import pipeline, AutoModelForTokenClassification, AutoTokenizer\n"
   ]
  },
  {
   "cell_type": "code",
   "execution_count": 85,
   "metadata": {},
   "outputs": [
    {
     "ename": "RuntimeError",
     "evalue": "a view of a leaf Variable that requires grad is being used in an in-place operation.",
     "output_type": "error",
     "traceback": [
      "\u001b[0;31m---------------------------------------------------------------------------\u001b[0m",
      "\u001b[0;31mRuntimeError\u001b[0m                              Traceback (most recent call last)",
      "\u001b[0;32m<ipython-input-85-1696bde2666e>\u001b[0m in \u001b[0;36m<module>\u001b[0;34m()\u001b[0m\n\u001b[0;32m----> 1\u001b[0;31m \u001b[0mnlp\u001b[0m \u001b[0;34m=\u001b[0m \u001b[0mpipeline\u001b[0m\u001b[0;34m(\u001b[0m\u001b[0;34m'question-answering'\u001b[0m\u001b[0;34m)\u001b[0m\u001b[0;34m\u001b[0m\u001b[0;34m\u001b[0m\u001b[0m\n\u001b[0m",
      "\u001b[0;32m/home/aimsg/.local/lib/python3.7/site-packages/transformers/pipelines.py\u001b[0m in \u001b[0;36mpipeline\u001b[0;34m(task, model, config, tokenizer, framework, **kwargs)\u001b[0m\n\u001b[1;32m   2627\u001b[0m                 \u001b[0;34m\"Trying to load the model with Tensorflow.\"\u001b[0m\u001b[0;34m\u001b[0m\u001b[0;34m\u001b[0m\u001b[0m\n\u001b[1;32m   2628\u001b[0m             )\n\u001b[0;32m-> 2629\u001b[0;31m         \u001b[0mmodel\u001b[0m \u001b[0;34m=\u001b[0m \u001b[0mmodel_class\u001b[0m\u001b[0;34m.\u001b[0m\u001b[0mfrom_pretrained\u001b[0m\u001b[0;34m(\u001b[0m\u001b[0mmodel\u001b[0m\u001b[0;34m,\u001b[0m \u001b[0mconfig\u001b[0m\u001b[0;34m=\u001b[0m\u001b[0mconfig\u001b[0m\u001b[0;34m,\u001b[0m \u001b[0;34m**\u001b[0m\u001b[0mmodel_kwargs\u001b[0m\u001b[0;34m)\u001b[0m\u001b[0;34m\u001b[0m\u001b[0;34m\u001b[0m\u001b[0m\n\u001b[0m\u001b[1;32m   2630\u001b[0m \u001b[0;34m\u001b[0m\u001b[0m\n\u001b[1;32m   2631\u001b[0m     \u001b[0;32mreturn\u001b[0m \u001b[0mtask_class\u001b[0m\u001b[0;34m(\u001b[0m\u001b[0mmodel\u001b[0m\u001b[0;34m=\u001b[0m\u001b[0mmodel\u001b[0m\u001b[0;34m,\u001b[0m \u001b[0mtokenizer\u001b[0m\u001b[0;34m=\u001b[0m\u001b[0mtokenizer\u001b[0m\u001b[0;34m,\u001b[0m \u001b[0mmodelcard\u001b[0m\u001b[0;34m=\u001b[0m\u001b[0mmodelcard\u001b[0m\u001b[0;34m,\u001b[0m \u001b[0mframework\u001b[0m\u001b[0;34m=\u001b[0m\u001b[0mframework\u001b[0m\u001b[0;34m,\u001b[0m \u001b[0mtask\u001b[0m\u001b[0;34m=\u001b[0m\u001b[0mtask\u001b[0m\u001b[0;34m,\u001b[0m \u001b[0;34m**\u001b[0m\u001b[0mkwargs\u001b[0m\u001b[0;34m)\u001b[0m\u001b[0;34m\u001b[0m\u001b[0;34m\u001b[0m\u001b[0m\n",
      "\u001b[0;32m/home/aimsg/.local/lib/python3.7/site-packages/transformers/modeling_auto.py\u001b[0m in \u001b[0;36mfrom_pretrained\u001b[0;34m(cls, pretrained_model_name_or_path, *model_args, **kwargs)\u001b[0m\n\u001b[1;32m   1538\u001b[0m         \u001b[0;32mfor\u001b[0m \u001b[0mconfig_class\u001b[0m\u001b[0;34m,\u001b[0m \u001b[0mmodel_class\u001b[0m \u001b[0;32min\u001b[0m \u001b[0mMODEL_FOR_QUESTION_ANSWERING_MAPPING\u001b[0m\u001b[0;34m.\u001b[0m\u001b[0mitems\u001b[0m\u001b[0;34m(\u001b[0m\u001b[0;34m)\u001b[0m\u001b[0;34m:\u001b[0m\u001b[0;34m\u001b[0m\u001b[0;34m\u001b[0m\u001b[0m\n\u001b[1;32m   1539\u001b[0m             \u001b[0;32mif\u001b[0m \u001b[0misinstance\u001b[0m\u001b[0;34m(\u001b[0m\u001b[0mconfig\u001b[0m\u001b[0;34m,\u001b[0m \u001b[0mconfig_class\u001b[0m\u001b[0;34m)\u001b[0m\u001b[0;34m:\u001b[0m\u001b[0;34m\u001b[0m\u001b[0;34m\u001b[0m\u001b[0m\n\u001b[0;32m-> 1540\u001b[0;31m                 \u001b[0;32mreturn\u001b[0m \u001b[0mmodel_class\u001b[0m\u001b[0;34m.\u001b[0m\u001b[0mfrom_pretrained\u001b[0m\u001b[0;34m(\u001b[0m\u001b[0mpretrained_model_name_or_path\u001b[0m\u001b[0;34m,\u001b[0m \u001b[0;34m*\u001b[0m\u001b[0mmodel_args\u001b[0m\u001b[0;34m,\u001b[0m \u001b[0mconfig\u001b[0m\u001b[0;34m=\u001b[0m\u001b[0mconfig\u001b[0m\u001b[0;34m,\u001b[0m \u001b[0;34m**\u001b[0m\u001b[0mkwargs\u001b[0m\u001b[0;34m)\u001b[0m\u001b[0;34m\u001b[0m\u001b[0;34m\u001b[0m\u001b[0m\n\u001b[0m\u001b[1;32m   1541\u001b[0m \u001b[0;34m\u001b[0m\u001b[0m\n\u001b[1;32m   1542\u001b[0m         raise ValueError(\n",
      "\u001b[0;32m/home/aimsg/.local/lib/python3.7/site-packages/transformers/modeling_utils.py\u001b[0m in \u001b[0;36mfrom_pretrained\u001b[0;34m(cls, pretrained_model_name_or_path, *model_args, **kwargs)\u001b[0m\n\u001b[1;32m    850\u001b[0m \u001b[0;34m\u001b[0m\u001b[0m\n\u001b[1;32m    851\u001b[0m         \u001b[0;31m# Instantiate model.\u001b[0m\u001b[0;34m\u001b[0m\u001b[0;34m\u001b[0m\u001b[0;34m\u001b[0m\u001b[0m\n\u001b[0;32m--> 852\u001b[0;31m         \u001b[0mmodel\u001b[0m \u001b[0;34m=\u001b[0m \u001b[0mcls\u001b[0m\u001b[0;34m(\u001b[0m\u001b[0mconfig\u001b[0m\u001b[0;34m,\u001b[0m \u001b[0;34m*\u001b[0m\u001b[0mmodel_args\u001b[0m\u001b[0;34m,\u001b[0m \u001b[0;34m**\u001b[0m\u001b[0mmodel_kwargs\u001b[0m\u001b[0;34m)\u001b[0m\u001b[0;34m\u001b[0m\u001b[0;34m\u001b[0m\u001b[0m\n\u001b[0m\u001b[1;32m    853\u001b[0m \u001b[0;34m\u001b[0m\u001b[0m\n\u001b[1;32m    854\u001b[0m         \u001b[0;32mif\u001b[0m \u001b[0mstate_dict\u001b[0m \u001b[0;32mis\u001b[0m \u001b[0;32mNone\u001b[0m \u001b[0;32mand\u001b[0m \u001b[0;32mnot\u001b[0m \u001b[0mfrom_tf\u001b[0m\u001b[0;34m:\u001b[0m\u001b[0;34m\u001b[0m\u001b[0;34m\u001b[0m\u001b[0m\n",
      "\u001b[0;32m/home/aimsg/.local/lib/python3.7/site-packages/transformers/modeling_distilbert.py\u001b[0m in \u001b[0;36m__init__\u001b[0;34m(self, config)\u001b[0m\n\u001b[1;32m    675\u001b[0m         \u001b[0msuper\u001b[0m\u001b[0;34m(\u001b[0m\u001b[0;34m)\u001b[0m\u001b[0;34m.\u001b[0m\u001b[0m__init__\u001b[0m\u001b[0;34m(\u001b[0m\u001b[0mconfig\u001b[0m\u001b[0;34m)\u001b[0m\u001b[0;34m\u001b[0m\u001b[0;34m\u001b[0m\u001b[0m\n\u001b[1;32m    676\u001b[0m \u001b[0;34m\u001b[0m\u001b[0m\n\u001b[0;32m--> 677\u001b[0;31m         \u001b[0mself\u001b[0m\u001b[0;34m.\u001b[0m\u001b[0mdistilbert\u001b[0m \u001b[0;34m=\u001b[0m \u001b[0mDistilBertModel\u001b[0m\u001b[0;34m(\u001b[0m\u001b[0mconfig\u001b[0m\u001b[0;34m)\u001b[0m\u001b[0;34m\u001b[0m\u001b[0;34m\u001b[0m\u001b[0m\n\u001b[0m\u001b[1;32m    678\u001b[0m         \u001b[0mself\u001b[0m\u001b[0;34m.\u001b[0m\u001b[0mqa_outputs\u001b[0m \u001b[0;34m=\u001b[0m \u001b[0mnn\u001b[0m\u001b[0;34m.\u001b[0m\u001b[0mLinear\u001b[0m\u001b[0;34m(\u001b[0m\u001b[0mconfig\u001b[0m\u001b[0;34m.\u001b[0m\u001b[0mdim\u001b[0m\u001b[0;34m,\u001b[0m \u001b[0mconfig\u001b[0m\u001b[0;34m.\u001b[0m\u001b[0mnum_labels\u001b[0m\u001b[0;34m)\u001b[0m\u001b[0;34m\u001b[0m\u001b[0;34m\u001b[0m\u001b[0m\n\u001b[1;32m    679\u001b[0m         \u001b[0;32massert\u001b[0m \u001b[0mconfig\u001b[0m\u001b[0;34m.\u001b[0m\u001b[0mnum_labels\u001b[0m \u001b[0;34m==\u001b[0m \u001b[0;36m2\u001b[0m\u001b[0;34m\u001b[0m\u001b[0;34m\u001b[0m\u001b[0m\n",
      "\u001b[0;32m/home/aimsg/.local/lib/python3.7/site-packages/transformers/modeling_distilbert.py\u001b[0m in \u001b[0;36m__init__\u001b[0;34m(self, config)\u001b[0m\n\u001b[1;32m    425\u001b[0m         \u001b[0msuper\u001b[0m\u001b[0;34m(\u001b[0m\u001b[0;34m)\u001b[0m\u001b[0;34m.\u001b[0m\u001b[0m__init__\u001b[0m\u001b[0;34m(\u001b[0m\u001b[0mconfig\u001b[0m\u001b[0;34m)\u001b[0m\u001b[0;34m\u001b[0m\u001b[0;34m\u001b[0m\u001b[0m\n\u001b[1;32m    426\u001b[0m \u001b[0;34m\u001b[0m\u001b[0m\n\u001b[0;32m--> 427\u001b[0;31m         \u001b[0mself\u001b[0m\u001b[0;34m.\u001b[0m\u001b[0membeddings\u001b[0m \u001b[0;34m=\u001b[0m \u001b[0mEmbeddings\u001b[0m\u001b[0;34m(\u001b[0m\u001b[0mconfig\u001b[0m\u001b[0;34m)\u001b[0m  \u001b[0;31m# Embeddings\u001b[0m\u001b[0;34m\u001b[0m\u001b[0;34m\u001b[0m\u001b[0m\n\u001b[0m\u001b[1;32m    428\u001b[0m         \u001b[0mself\u001b[0m\u001b[0;34m.\u001b[0m\u001b[0mtransformer\u001b[0m \u001b[0;34m=\u001b[0m \u001b[0mTransformer\u001b[0m\u001b[0;34m(\u001b[0m\u001b[0mconfig\u001b[0m\u001b[0;34m)\u001b[0m  \u001b[0;31m# Encoder\u001b[0m\u001b[0;34m\u001b[0m\u001b[0;34m\u001b[0m\u001b[0m\n\u001b[1;32m    429\u001b[0m \u001b[0;34m\u001b[0m\u001b[0m\n",
      "\u001b[0;32m/home/aimsg/.local/lib/python3.7/site-packages/transformers/modeling_distilbert.py\u001b[0m in \u001b[0;36m__init__\u001b[0;34m(self, config)\u001b[0m\n\u001b[1;32m     88\u001b[0m         \u001b[0;32mif\u001b[0m \u001b[0mconfig\u001b[0m\u001b[0;34m.\u001b[0m\u001b[0msinusoidal_pos_embds\u001b[0m\u001b[0;34m:\u001b[0m\u001b[0;34m\u001b[0m\u001b[0;34m\u001b[0m\u001b[0m\n\u001b[1;32m     89\u001b[0m             create_sinusoidal_embeddings(\n\u001b[0;32m---> 90\u001b[0;31m                 \u001b[0mn_pos\u001b[0m\u001b[0;34m=\u001b[0m\u001b[0mconfig\u001b[0m\u001b[0;34m.\u001b[0m\u001b[0mmax_position_embeddings\u001b[0m\u001b[0;34m,\u001b[0m \u001b[0mdim\u001b[0m\u001b[0;34m=\u001b[0m\u001b[0mconfig\u001b[0m\u001b[0;34m.\u001b[0m\u001b[0mdim\u001b[0m\u001b[0;34m,\u001b[0m \u001b[0mout\u001b[0m\u001b[0;34m=\u001b[0m\u001b[0mself\u001b[0m\u001b[0;34m.\u001b[0m\u001b[0mposition_embeddings\u001b[0m\u001b[0;34m.\u001b[0m\u001b[0mweight\u001b[0m\u001b[0;34m\u001b[0m\u001b[0;34m\u001b[0m\u001b[0m\n\u001b[0m\u001b[1;32m     91\u001b[0m             )\n\u001b[1;32m     92\u001b[0m \u001b[0;34m\u001b[0m\u001b[0m\n",
      "\u001b[0;32m/home/aimsg/.local/lib/python3.7/site-packages/transformers/modeling_distilbert.py\u001b[0m in \u001b[0;36mcreate_sinusoidal_embeddings\u001b[0;34m(n_pos, dim, out)\u001b[0m\n\u001b[1;32m     75\u001b[0m \u001b[0;32mdef\u001b[0m \u001b[0mcreate_sinusoidal_embeddings\u001b[0m\u001b[0;34m(\u001b[0m\u001b[0mn_pos\u001b[0m\u001b[0;34m,\u001b[0m \u001b[0mdim\u001b[0m\u001b[0;34m,\u001b[0m \u001b[0mout\u001b[0m\u001b[0;34m)\u001b[0m\u001b[0;34m:\u001b[0m\u001b[0;34m\u001b[0m\u001b[0;34m\u001b[0m\u001b[0m\n\u001b[1;32m     76\u001b[0m     \u001b[0mposition_enc\u001b[0m \u001b[0;34m=\u001b[0m \u001b[0mnp\u001b[0m\u001b[0;34m.\u001b[0m\u001b[0marray\u001b[0m\u001b[0;34m(\u001b[0m\u001b[0;34m[\u001b[0m\u001b[0;34m[\u001b[0m\u001b[0mpos\u001b[0m \u001b[0;34m/\u001b[0m \u001b[0mnp\u001b[0m\u001b[0;34m.\u001b[0m\u001b[0mpower\u001b[0m\u001b[0;34m(\u001b[0m\u001b[0;36m10000\u001b[0m\u001b[0;34m,\u001b[0m \u001b[0;36m2\u001b[0m \u001b[0;34m*\u001b[0m \u001b[0;34m(\u001b[0m\u001b[0mj\u001b[0m \u001b[0;34m//\u001b[0m \u001b[0;36m2\u001b[0m\u001b[0;34m)\u001b[0m \u001b[0;34m/\u001b[0m \u001b[0mdim\u001b[0m\u001b[0;34m)\u001b[0m \u001b[0;32mfor\u001b[0m \u001b[0mj\u001b[0m \u001b[0;32min\u001b[0m \u001b[0mrange\u001b[0m\u001b[0;34m(\u001b[0m\u001b[0mdim\u001b[0m\u001b[0;34m)\u001b[0m\u001b[0;34m]\u001b[0m \u001b[0;32mfor\u001b[0m \u001b[0mpos\u001b[0m \u001b[0;32min\u001b[0m \u001b[0mrange\u001b[0m\u001b[0;34m(\u001b[0m\u001b[0mn_pos\u001b[0m\u001b[0;34m)\u001b[0m\u001b[0;34m]\u001b[0m\u001b[0;34m)\u001b[0m\u001b[0;34m\u001b[0m\u001b[0;34m\u001b[0m\u001b[0m\n\u001b[0;32m---> 77\u001b[0;31m     \u001b[0mout\u001b[0m\u001b[0;34m[\u001b[0m\u001b[0;34m:\u001b[0m\u001b[0;34m,\u001b[0m \u001b[0;36m0\u001b[0m\u001b[0;34m:\u001b[0m\u001b[0;34m:\u001b[0m\u001b[0;36m2\u001b[0m\u001b[0;34m]\u001b[0m \u001b[0;34m=\u001b[0m \u001b[0mtorch\u001b[0m\u001b[0;34m.\u001b[0m\u001b[0mFloatTensor\u001b[0m\u001b[0;34m(\u001b[0m\u001b[0mnp\u001b[0m\u001b[0;34m.\u001b[0m\u001b[0msin\u001b[0m\u001b[0;34m(\u001b[0m\u001b[0mposition_enc\u001b[0m\u001b[0;34m[\u001b[0m\u001b[0;34m:\u001b[0m\u001b[0;34m,\u001b[0m \u001b[0;36m0\u001b[0m\u001b[0;34m:\u001b[0m\u001b[0;34m:\u001b[0m\u001b[0;36m2\u001b[0m\u001b[0;34m]\u001b[0m\u001b[0;34m)\u001b[0m\u001b[0;34m)\u001b[0m\u001b[0;34m\u001b[0m\u001b[0;34m\u001b[0m\u001b[0m\n\u001b[0m\u001b[1;32m     78\u001b[0m     \u001b[0mout\u001b[0m\u001b[0;34m[\u001b[0m\u001b[0;34m:\u001b[0m\u001b[0;34m,\u001b[0m \u001b[0;36m1\u001b[0m\u001b[0;34m:\u001b[0m\u001b[0;34m:\u001b[0m\u001b[0;36m2\u001b[0m\u001b[0;34m]\u001b[0m \u001b[0;34m=\u001b[0m \u001b[0mtorch\u001b[0m\u001b[0;34m.\u001b[0m\u001b[0mFloatTensor\u001b[0m\u001b[0;34m(\u001b[0m\u001b[0mnp\u001b[0m\u001b[0;34m.\u001b[0m\u001b[0mcos\u001b[0m\u001b[0;34m(\u001b[0m\u001b[0mposition_enc\u001b[0m\u001b[0;34m[\u001b[0m\u001b[0;34m:\u001b[0m\u001b[0;34m,\u001b[0m \u001b[0;36m1\u001b[0m\u001b[0;34m:\u001b[0m\u001b[0;34m:\u001b[0m\u001b[0;36m2\u001b[0m\u001b[0;34m]\u001b[0m\u001b[0;34m)\u001b[0m\u001b[0;34m)\u001b[0m\u001b[0;34m\u001b[0m\u001b[0;34m\u001b[0m\u001b[0m\n\u001b[1;32m     79\u001b[0m     \u001b[0mout\u001b[0m\u001b[0;34m.\u001b[0m\u001b[0mdetach_\u001b[0m\u001b[0;34m(\u001b[0m\u001b[0;34m)\u001b[0m\u001b[0;34m\u001b[0m\u001b[0;34m\u001b[0m\u001b[0m\n",
      "\u001b[0;31mRuntimeError\u001b[0m: a view of a leaf Variable that requires grad is being used in an in-place operation."
     ]
    }
   ],
   "source": [
    "nlp = pipeline('question-answering')"
   ]
  },
  {
   "cell_type": "code",
   "execution_count": null,
   "metadata": {},
   "outputs": [],
   "source": [
    "print(nlp(question=\"Who violeted?\", context=section[1]['content']))"
   ]
  },
  {
   "cell_type": "code",
   "execution_count": null,
   "metadata": {},
   "outputs": [],
   "source": []
  },
  {
   "cell_type": "code",
   "execution_count": null,
   "metadata": {},
   "outputs": [],
   "source": []
  },
  {
   "cell_type": "code",
   "execution_count": null,
   "metadata": {},
   "outputs": [],
   "source": []
  }
 ],
 "metadata": {
  "kernelspec": {
   "display_name": "Python 3",
   "language": "python",
   "name": "python3"
  },
  "language_info": {
   "codemirror_mode": {
    "name": "ipython",
    "version": 3
   },
   "file_extension": ".py",
   "mimetype": "text/x-python",
   "name": "python",
   "nbconvert_exporter": "python",
   "pygments_lexer": "ipython3",
   "version": "3.7.3"
  }
 },
 "nbformat": 4,
 "nbformat_minor": 2
}
