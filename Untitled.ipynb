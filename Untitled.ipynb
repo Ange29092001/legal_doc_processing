{
 "cells": [
  {
   "cell_type": "code",
   "execution_count": 1,
   "metadata": {},
   "outputs": [
    {
     "name": "stderr",
     "output_type": "stream",
     "text": [
      "Since the GPL-licensed package `unidecode` is not installed, using Python's `unicodedata` package which yields worse results.\n"
     ]
    }
   ],
   "source": [
    "from legal_doc_processing.utils import*"
   ]
  },
  {
   "cell_type": "code",
   "execution_count": 2,
   "metadata": {},
   "outputs": [],
   "source": [
    "file = \"data/order-vision-financial-markets-llc.txt\"\n",
    "#cftc_text_7100-15_order-allied-markets-llc-et-al.txt\"\n",
    "data=load_data(file)\n",
    "\n"
   ]
  },
  {
   "cell_type": "code",
   "execution_count": 3,
   "metadata": {},
   "outputs": [
    {
     "data": {
      "text/plain": [
       "[[' ( received cftc >',\n",
       "  ' united states of america',\n",
       "  ' before the',\n",
       "  ' commodity futures trading commission',\n",
       "  ' office of proceedings',\n",
       "  ' proceedings clerk',\n",
       "  ' \\\\ 5:00 pm, jul 12, 2019]',\n",
       "  ' in the matter of:',\n",
       "  ' vision financial markets llc,',\n",
       "  ' cftc docket no. _ 19-13',\n",
       "  ' respondent.',\n",
       "  ' order instituting proceedings pursuant to',\n",
       "  ' sections 6(c) and 6(d) of the commodity exchange act, making findings and imposing remedial sanctions',\n",
       "  ' i. introduction',\n",
       "  ' the commodity futures trading commission (\"commission\") has reason to believe that vision financial markets llc (\"respondent\") violated commission regulation (\"regulation\") 166.3, 17 c.f.r. 166.3 (2018). therefore, the commission deems it appropriate and in the public interest that public administrative proceedings be, and hereby are, instituted to determine whether respondent engaged in the violations set forth herein and to determine whether any order should be issued imposing remedial sanctions.',\n",
       "  ' in anticipation of the institution of an administrative proceeding, respondent has submitted an offer of settlement (\"offer\"), which the commission has determined to accept.',\n",
       "  ' without admitting or denying any of the findings or conclusions herein, respondent consents to the entry of this order instituting proceedings pursuant to section 6(c) and (d) of the commodity exchange act, making findings, and imposing remedial sanctions (\"order\") and acknowledges service of this order.',\n",
       "  \" ' respondent consents to the use of these findings of fact and conclusion of law in this order in this proceeding and in any other proceeding brought by the commission or to which the commission is a party or claimant, and agrees that they shall be taken as true and correct and be given preclusive effect therein, without further proof. respondent does not consent, however, to the use of this order, or the findings or conclusions herein, as the sole basis for any other proceeding brought by the commission or to which the commission is a party or claimant, other than: a proceeding in bankruptcy or receivership; or a proceeding to enforce the terms of this order. respondent does not consent to the use of the offer or this order, or the findings or conclusions in this order, by any other party in any other proceeding.\"],\n",
       " [' il. findings',\n",
       "  ' the commission finds the following:',\n",
       "  ' a. summary',\n",
       "  ' from at least january 1 to november 30, 2014 (the \"relevant period\"), respondent, a then-registered futures commission merchant (\"fcm\"), failed to diligently supervise the handling by its employees and agents of commodity interest accounts carried by respondent and introduced by a respondent guaranteed introducing broker (\"gib\"), as well as the activities of its employees and agents relating to its business as a then-registered fcm to ensure compliance with the act and regulations, and to deter and detect wrongdoing, in violation of regulation 166.3, 17 c.f.r. 166.3 (2018).',\n",
       "  \" in particular, respondent had a supervisory system in place as evidenced by its compliance manual; nevertheless, respondent failed to adequately supervise its employees and agents to ensure they: (1) executed bunched orders that properly segregated the gib's proprietary trades from its customer trades; (2) executed bunched orders that properly segregated trades from discretionary and non-discretionary gib customer accounts; and (3) executed orders for non-discretionary gib customers only when the gib had obtained specific customer authorization for the transaction.\",\n",
       "  \" in accepting respondent's offer of settlement, the commission recognizes respondent's cooperation during the division of enforcement's investigation of this matter.\",\n",
       "  ' b. respondent',\n",
       "  ' vision financial markets llc is a securities broker dealer located in stamford, connecticut. from at least may 1990 until april 2015, respondent was a registered fcm and commodity pool operator. the gib discussed herein was a gib of respondent from at least october 2000 to november 2014.',\n",
       "  ' cc. facts'],\n",
       " [' accounts with customer accounts; and (b) discretionary customer accounts with non- discretionary customer accounts but continued to process the unlawful bunched orders.',\n",
       "  \" 2. respondent executed bunched orders for the gib's non-discretionary customers when respondent was aware or should have been aware that the gib had not obtained specific customer authorization for the transaction during the relevant period, respondent executed bunched orders for the gib's non- discretionary customers when the gib had not obtained specific authorization from the customer for the transaction. specifically, the gib exercised trading discretion over non-discretionary customer accounts. however, the gib did not have powers of attorney from those customers and in certain instances had not obtained the requisite specific authorizations from those customers as to, among other things, the precise commodity interest that it was selling or the exact amount of the commodity interest that was being sold.\",\n",
       "  \" during the relevant period, respondent was aware or should have been aware that certain trades it executed on behalf of the gib's non-discretionary customers, including as part of bunched orders, were not specifically authorized by the customers. for example, in july 2014, respondent conducted an audit of the gib. during that audit, respondent noted that on multiple occasions that the gib did not appear to be properly timestamping the trade tickets for certain bunched orders. in particular, the initial timestamps on certain trade tickets, which evidenced when the gib purportedly contacted a non-discretionary customer to obtain their specific authorization for the trade, appeared to match the exact same timestamp that the gib supposedly submitted these trades to respondent for execution. this raised a red flag for respondent that the gib was not obtaining specific customer authorizations. notwithstanding this red flag, respondent continued to accept orders from the gib for which the gib failed to obtain the requisite customer authorizations.\",\n",
       "  ' similarly, in october 2014, the gib informed respondent that the gib did not obtain from its customers specific authorization when it canceled and replaced orders on behalf of those customers. this again raised a red flag for respondent that the gib was not obtaining specific customer authorizations. subsequently in 2014, the gib accounts relevant here were transferred to a different fcm.',\n",
       "  \" 3. respondent's compliance manual\",\n",
       "  \" respondent's compliance manual was, in relevant part, consistent with the requirements of certain regulations pertinent to the issues in this case, specifically, regulations 1.35(b)(5), 155.3 155.4(a)(1), 166.2, 17 c.f.r. 1.35 (b)(5), 155.3 155.4(a)(1), and 166.2 (2018).\"],\n",
       " [\" compliance manual further required that a non-discretionary customer be informed of, and agree to all parameters of a trade (i.e., quantity, commodity, delivery month, option type, and strike price(s)) prior to executing the transaction on the customer's behalf).\",\n",
       "  ' i. legal discussion',\n",
       "  ' regulation 166.3, 17 c.f.r. 166.3 (2018), requires: each commission registrant, except an associated person who has no supervisory duties, must diligently supervise the handling by its partners, officers, employees and agents (or other persons occupying a similar status or performing a similar function) of all commodity interest accounts carried, operated, advised or introduced by the registrant and all other activities of its partners, officers, employees, and agents (or other persons occupying a similar status or performing a similar function) relating to its business as a registrant.',\n",
       "  ' under regulation 166.3, a registrant has a \"duty to develop procedures for the \\'detection and deterrence of possible wrongdoing by its agents.\\'\" samson refining co. v. drexel burnham lambert, inc., cftc no. 82-r448, 1990 wl 282783, at *11 (feb. 16, 1990) (quoting lobb v.',\n",
       "  ' j.t. mckerr & co., cftc no. 85-r185, 1989 wl 242384, at *11 (dec. 14, 1989)).',\n",
       "  ' a violation of regulation 166.3 is established by showing either that: (1) the registrant\\'s supervisory system was generally inadequate, or (2) the registrant failed to perform its supervisory duties diligently. in re fcstone, llc, cftc no. 15-21, 2015 wl 2066891, at *3 (may 1, 2015) (consent order) (citing jn re murlas commodities, cftc no. 85-29, 1995 wl 523563 (sept. 1, 1995)). so, even if proper procedures are in place, a supervisory violation may occur if a registrant fails to implement those procedures, or fails to ensure that its agents follow those procedures. see, e.g., gnp commodities, 1992 wl 201158, at *17 (providing that, even if an adequate supervisory system is in place, regulation 166.3 can still be violated if the supervisory system is not diligently administered and stating that \"a proper determination of a fcm\\'s supervisory diligence must remain sensitive to the particular facts and circumstances that influenced the design and execution of the system at issue\"), aff\\'d sub nom. monieson v. cftc, 996 f.2d 852 (7th cir. 1993).',\n",
       "  ' further, a violation of regulation 166.3 is an independent violation for which no underlying violation is necessary. fcstone, 2015 wl 2066891, at *3. instead, evidence of underlying violations that \"should be detected by a diligent system of supervision, either because of the nature of the violations or because the violations have occurred repeatedly\" is probative of a failure to supervise. cftc v. sidoti, 178 f.3d 1132, 1137 (1 1\" cir. 1999) (defendant was liable for failure to supervise because he \"knew of specific instances of misconduct yet failed to take reasonable steps to correct the problems\").',\n",
       "  ' during the relevant period, respondent was registered with the commission and had an obligation to diligently supervise its employees and agents in their handling of customer orders.'],\n",
       " [' specific customer accounts post-execution, regulation 1.35(b)(5) places an affirmative obligation on fcms to monitor for unusual or suspicious activity and to make reasonable inquiry if an fcm has actual or constructive knowledge of red flags indicating a likelihood of such activity. see account identification for eligible bunched orders, 68 fed. reg. 34,790, 34,792 (june 11, 2003); see also nfa notice 9029. consistent with these obligations, during the relevant period respondent had a compliance manual that required respondent employees, among other things, to take appropriate measures to ensure that: trades for proprietary accounts and customer accounts were not contained in the same bunched order; trades for discretionary accounts and non-discretionary accounts were not contained in the same bunched order; and the requisite customer authorization was obtained for trades for non-discretionary accounts.',\n",
       "  \" thus, respondent here had an obligation to monitor the post-execution allocation process for unusual or suspicious activityparticularly after respondent had knowledge of red flags including that the gib was not obtaining specific customer authorizations for certain of the bunched order transactions. notwithstanding these obligations, however, with respect to orders placed by its gib, respondent employees and agents routinely: (1) executed bunched orders that contained trades for the gib's proprietary and gib's customer accounts; (2) executed bunched orders that contained trades for the gib's discretionary and non-discretionary customer accounts; and (3) executed orders for the gib's non-discretionary customers, including bunched orders, when the gib had failed to obtain specific customer authorization for the transaction. as noted, this occurred even after respondent had identified that the gib's orders were not compliant with the act and regulations. in failing to supervise its employees and agents to ensure they carried out these obligations in their handling of the commodity interest accounts, respondent violated regulation 166.3.\",\n",
       "  ' iv. findings of violations',\n",
       "  ' based on the foregoing, the commission finds that, during the relevant period, respondent violated regulation 166.3, 17 c.f.r. 166.3 (2018).',\n",
       "  ' v. offer of settlement',\n",
       "  ' respondent has submitted the offer in which it, without admitting or denying the findings and conclusions herein:',\n",
       "  ' a. acknowledges service of this order;',\n",
       "  ' b. admits the jurisdiction of the commission with respect to all matters set forth in this order and for any action or proceeding brought or authorized by the commission based on violation of or enforcement of this order;',\n",
       "  ' c. waives:',\n",
       "  ' 1. the filing and service of a complaint and notice of hearing; 2. a hearing;'],\n",
       " [' judicial review by any court;',\n",
       "  \" any and all objections to the participation by any member of the commission's staff in the commission's consideration of the offer; any and all claims that it may possess under the equal access to justice act, 5 u.s.c. 504 (2012), and 28 u.s.c. 2412 (2012), and/or the rules promulgated by the commission in conformity therewith, part 148 of the regulations, 17 c.f.r.\",\n",
       "  ' pt. 148 (2018), relating to, or arising from, this proceeding; any and all claims that it may possess under the small business regulatory enforcement fairness act of 1996, pub. l. no. 104-121, tit. i], 201-53, 110 stat. 847, 857-74 (codified as amended at 28 u.s.c. 2412 and in scattered sections of 5 u.s.c. and 15 u.s.c.), relating to, or arising from, this proceeding; and',\n",
       "  ' any claims of double jeopardy based on the institution of this proceeding or the entry in this proceeding of any order imposing a civil monetary penalty or any other relief, including this order.',\n",
       "  \" stipulates that the record basis on which this order is entered shall consist solely of the findings contained in this order to which respondent has consented in the offer; consents, solely on the basis of the offer, to the commission's entry of this order that: i.\",\n",
       "  ' makes findings by the commission that respondent violated regulation 166.3, 17 c.f.r. 166.3 (2018);',\n",
       "  ' orders respondent to cease and desist from violating regulation 166.3; orders respondent to pay a civil monetary penalty in the amount of two-hundred thousand dollars ($200,000), plus post-judgment interest; orders respondent to comply with the conditions and undertakings consented to in the offer and as set forth in part vi of this order.',\n",
       "  ' upon consideration, the commission has determined to accept the offer.',\n",
       "  ' vi. order',\n",
       "  ' accordingly, it is hereby ordered that:',\n",
       "  ' respondent shall cease and desist from violating regulation 166.3, 17 c.f.r. 166.3 a,'],\n",
       " [' the entry of the order and shall be determined by using the treasury bill rate prevailing on the date of entry of this order pursuant to 28 u.s.c. 1961 (2012).',\n",
       "  \" respondent shall pay the cmp obligation by electronic funds transfer, u.s. postal money order, certified check, bank cashier's check, or bank money order. if payment is to be made other than by electronic funds transfer, then the payment shall be made payable to the commodity futures trading commission and sent to the address below: mmac/esc/amk326\",\n",
       "  ' commodity futures trading commission',\n",
       "  ' division of enforcement',\n",
       "  ' 6500 s. macarthur blvd.',\n",
       "  ' oklahoma city, ok 73169',\n",
       "  ' (405) 954-6569 office',\n",
       "  ' (405) 954-1620 fax',\n",
       "  ' 9-amc-ar-cftc@faa.gov',\n",
       "  ' if payment is to be made by electronic funds transfer, respondent shall contact marie thorne or her successor at the above address to receive payment instructions and shall fully comply with those instructions. respondent shall accompany payment of the cmp obligation with a cover letter that identifies the paying respondent and the name and docket number of this proceeding. the paying respondent shall simultaneously transmit copies of the cover letter and the form of payment to the chief financial officer, commodity futures trading commission, three lafayette centre, 1155 21st street, nw, washington, d.c. 20581.',\n",
       "  ' respondent shall comply with the following conditions and undertakings set forth in the offer:',\n",
       "  \" 1. public statements: respondent agrees that neither it nor any agents or employees under its authority or control shall take any action or make any public statement denying, directly or indirectly, any findings or conclusions in this order or creating, or tending to create, the impression that this order is without a factual basis; provided, however, that nothing in this provision shall affect respondent's: (i) testimonial obligations; or (ii) right to take legal positions in other proceedings to which the commission is not a party. respondent shall comply with this agreement, and shall undertake all steps necessary to ensure that all of his agents and/or employees under his authority or control understand and comply with this agreement.\"],\n",
       " [\" 3, partial satisfaction: respondent understands and agrees that any acceptance by the commission or the monitor of any partial payment of respondent's cmp obligation shall not be deemed a waiver of his obligation to make further payments pursuant to this order, or a waiver of the commission's right to seek to compel payment of any remaining balance.\",\n",
       "  ' 4, change of address/phone: until such time as respondent satisfies in full his cmp obligation as set forth in this consent order, respondent shall provide written notice to the commission by certified mail of any change to his telephone number and mailing address within ten (10) calendar days of the change.',\n",
       "  ' the provisions of this order shall be effective as of this date.',\n",
       "  ' by the commission.',\n",
       "  ' cub | 2a',\n",
       "  ' christopher j uirkpatrick',\n",
       "  ' secretary of the commission',\n",
       "  ' commodity futures trading commission']]"
      ]
     },
     "execution_count": 3,
     "metadata": {},
     "output_type": "execute_result"
    }
   ],
   "source": [
    "data_cleaned=clean_doc(data)\n",
    "data_cleaned\n"
   ]
  },
  {
   "cell_type": "code",
   "execution_count": 5,
   "metadata": {},
   "outputs": [],
   "source": [
    "data, _=clean_spec_chars(data)\n",
    "list_=get_token(data)\n",
    "\n"
   ]
  },
  {
   "cell_type": "code",
   "execution_count": 7,
   "metadata": {},
   "outputs": [],
   "source": [
    "\n",
    "def get_section_indx(list_token):\n",
    "\n",
    "    idx=[]\n",
    "    for i in range(len(list_token)):\n",
    "        if is_title(list_token[i]):\n",
    "            idx.append(i)\n",
    "            \n",
    "    return idx\n",
    "def get_structure(text):     \n",
    "    list_token=get_token(text)\n",
    "    idx=get_section_indx(list_token)\n",
    "    j=0\n",
    "    \n",
    "    structure=[]\n",
    "    k=0\n",
    "    for i in idx:\n",
    "        section={}\n",
    "        section['content']=' '.join(list_token[j:i])\n",
    "        section['header']=list_token[j]\n",
    "        section['id']=k\n",
    "        structure.append(section)\n",
    "        j=i\n",
    "        k=k+1\n",
    "        \n",
    "        \n",
    "    return structure\n",
    "    \n",
    "\n",
    " "
   ]
  },
  {
   "cell_type": "code",
   "execution_count": 8,
   "metadata": {},
   "outputs": [
    {
     "data": {
      "text/plain": [
       "{'content': ' (— RECEIVED CFTC > UNITED STATES OF AMERICA Before the COMMODITY FUTURES TRADING COMMISSION Office of Proceedings Proceedings Clerk \\\\ 5:00 pm, Jul 12, 2019] In the Matter of: Vision Financial Markets LLC, CFTC Docket No. _ 19-13 Respondent.',\n",
       " 'header': ' (— RECEIVED CFTC > UNITED STATES OF AMERICA Before the COMMODITY FUTURES TRADING COMMISSION Office of Proceedings Proceedings Clerk \\\\ 5:00 pm, Jul 12, 2019] In the Matter of: Vision Financial Markets LLC, CFTC Docket No.',\n",
       " 'id': 0}"
      ]
     },
     "execution_count": 8,
     "metadata": {},
     "output_type": "execute_result"
    }
   ],
   "source": [
    "section=get_structure(data)\n",
    "section[0]"
   ]
  },
  {
   "cell_type": "code",
   "execution_count": 9,
   "metadata": {},
   "outputs": [],
   "source": [
    "def feature_extraction(data):\n",
    "    structure=get_structure(data)\n",
    "    features={}\n",
    "    features['autority_name']=structure[0]['header']\n",
    "    \n",
    "    return features"
   ]
  },
  {
   "cell_type": "code",
   "execution_count": 10,
   "metadata": {},
   "outputs": [
    {
     "data": {
      "text/plain": [
       "{'autority_name': ' (— RECEIVED CFTC > UNITED STATES OF AMERICA Before the COMMODITY FUTURES TRADING COMMISSION Office of Proceedings Proceedings Clerk \\\\ 5:00 pm, Jul 12, 2019] In the Matter of: Vision Financial Markets LLC, CFTC Docket No.'}"
      ]
     },
     "execution_count": 10,
     "metadata": {},
     "output_type": "execute_result"
    }
   ],
   "source": [
    "feature_extraction(data)"
   ]
  },
  {
   "cell_type": "code",
   "execution_count": null,
   "metadata": {},
   "outputs": [],
   "source": []
  }
 ],
 "metadata": {
  "kernelspec": {
   "display_name": "Python 3",
   "language": "python",
   "name": "python3"
  },
  "language_info": {
   "codemirror_mode": {
    "name": "ipython",
    "version": 3
   },
   "file_extension": ".py",
   "mimetype": "text/x-python",
   "name": "python",
   "nbconvert_exporter": "python",
   "pygments_lexer": "ipython3",
   "version": "3.7.3"
  }
 },
 "nbformat": 4,
 "nbformat_minor": 2
}
