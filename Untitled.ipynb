{
 "cells": [
  {
   "cell_type": "code",
   "execution_count": 1,
   "metadata": {},
   "outputs": [],
   "source": [
    "# import \n",
    "\n",
    "from sklearn.feature_extraction.text import TfidfVectorizer\n",
    "import pandas as pd\n",
    "import numpy as np"
   ]
  },
  {
   "cell_type": "code",
   "execution_count": 2,
   "metadata": {},
   "outputs": [],
   "source": [
    "# compute cosine_similarity\n",
    "\n",
    "def cosine_similarity(list_corpus :list) -> object :\n",
    "    \"\"\" \"\"\"\n",
    "                                                                                                                                                                                                 \n",
    "    vect = TfidfVectorizer(min_df=1, stop_words=\"english\")                                                                                                                                                                                                   \n",
    "    tfidf = vect.fit_transform(list_corpus)                                                                                                                                                                                                                       \n",
    "    pairwise_similarity = tfidf * tfidf.T \n",
    "    \n",
    "    return pairwise_similarity"
   ]
  },
  {
   "cell_type": "code",
   "execution_count": 3,
   "metadata": {},
   "outputs": [],
   "source": [
    "# test corpus\n",
    "\n",
    "corpus_0 = [\"I'd like to eat an apple\", \n",
    "              \"Never compare an apple to an orange\", \n",
    "              \"I prefer scikit-learn to Orange\", \n",
    "              \"The scikit-learn docs are Orange and Blue\",\n",
    "            \"An apple a day keeps the doctor away\", \n",
    "              \"Apple is good for health\"\n",
    "             ]  "
   ]
  },
  {
   "cell_type": "code",
   "execution_count": 4,
   "metadata": {},
   "outputs": [],
   "source": [
    "# cosine\n",
    "\n",
    "cos_0 = cosine_similarity(corpus_0)"
   ]
  },
  {
   "cell_type": "code",
   "execution_count": 5,
   "metadata": {},
   "outputs": [
    {
     "data": {
      "text/html": [
       "<div>\n",
       "<style scoped>\n",
       "    .dataframe tbody tr th:only-of-type {\n",
       "        vertical-align: middle;\n",
       "    }\n",
       "\n",
       "    .dataframe tbody tr th {\n",
       "        vertical-align: top;\n",
       "    }\n",
       "\n",
       "    .dataframe thead th {\n",
       "        text-align: right;\n",
       "    }\n",
       "</style>\n",
       "<table border=\"1\" class=\"dataframe\">\n",
       "  <thead>\n",
       "    <tr style=\"text-align: right;\">\n",
       "      <th></th>\n",
       "      <th>0</th>\n",
       "      <th>1</th>\n",
       "      <th>2</th>\n",
       "      <th>3</th>\n",
       "      <th>4</th>\n",
       "      <th>5</th>\n",
       "    </tr>\n",
       "  </thead>\n",
       "  <tbody>\n",
       "    <tr>\n",
       "      <th>0</th>\n",
       "      <td>1.000000</td>\n",
       "      <td>0.169590</td>\n",
       "      <td>0.000000</td>\n",
       "      <td>0.000000</td>\n",
       "      <td>0.110010</td>\n",
       "      <td>0.149644</td>\n",
       "    </tr>\n",
       "    <tr>\n",
       "      <th>1</th>\n",
       "      <td>0.169590</td>\n",
       "      <td>1.000000</td>\n",
       "      <td>0.210759</td>\n",
       "      <td>0.181119</td>\n",
       "      <td>0.124673</td>\n",
       "      <td>0.169590</td>\n",
       "    </tr>\n",
       "    <tr>\n",
       "      <th>2</th>\n",
       "      <td>0.000000</td>\n",
       "      <td>0.210759</td>\n",
       "      <td>1.000000</td>\n",
       "      <td>0.555071</td>\n",
       "      <td>0.000000</td>\n",
       "      <td>0.000000</td>\n",
       "    </tr>\n",
       "    <tr>\n",
       "      <th>3</th>\n",
       "      <td>0.000000</td>\n",
       "      <td>0.181119</td>\n",
       "      <td>0.555071</td>\n",
       "      <td>1.000000</td>\n",
       "      <td>0.000000</td>\n",
       "      <td>0.000000</td>\n",
       "    </tr>\n",
       "    <tr>\n",
       "      <th>4</th>\n",
       "      <td>0.110010</td>\n",
       "      <td>0.124673</td>\n",
       "      <td>0.000000</td>\n",
       "      <td>0.000000</td>\n",
       "      <td>1.000000</td>\n",
       "      <td>0.110010</td>\n",
       "    </tr>\n",
       "    <tr>\n",
       "      <th>5</th>\n",
       "      <td>0.149644</td>\n",
       "      <td>0.169590</td>\n",
       "      <td>0.000000</td>\n",
       "      <td>0.000000</td>\n",
       "      <td>0.110010</td>\n",
       "      <td>1.000000</td>\n",
       "    </tr>\n",
       "  </tbody>\n",
       "</table>\n",
       "</div>"
      ],
      "text/plain": [
       "          0         1         2         3         4         5\n",
       "0  1.000000  0.169590  0.000000  0.000000  0.110010  0.149644\n",
       "1  0.169590  1.000000  0.210759  0.181119  0.124673  0.169590\n",
       "2  0.000000  0.210759  1.000000  0.555071  0.000000  0.000000\n",
       "3  0.000000  0.181119  0.555071  1.000000  0.000000  0.000000\n",
       "4  0.110010  0.124673  0.000000  0.000000  1.000000  0.110010\n",
       "5  0.149644  0.169590  0.000000  0.000000  0.110010  1.000000"
      ]
     },
     "execution_count": 5,
     "metadata": {},
     "output_type": "execute_result"
    }
   ],
   "source": [
    "# check dataframe, each row / col refers to corpus_0 string\n",
    "\n",
    "df_0 = pd.DataFrame(cos_0.toarray())\n",
    "df_0"
   ]
  },
  {
   "cell_type": "code",
   "execution_count": 6,
   "metadata": {},
   "outputs": [],
   "source": [
    "# check for allied markets\n",
    "\n",
    "corpus_1 = [\"allied market\", \"allied market LLC\"]"
   ]
  },
  {
   "cell_type": "code",
   "execution_count": 7,
   "metadata": {},
   "outputs": [
    {
     "data": {
      "text/html": [
       "<div>\n",
       "<style scoped>\n",
       "    .dataframe tbody tr th:only-of-type {\n",
       "        vertical-align: middle;\n",
       "    }\n",
       "\n",
       "    .dataframe tbody tr th {\n",
       "        vertical-align: top;\n",
       "    }\n",
       "\n",
       "    .dataframe thead th {\n",
       "        text-align: right;\n",
       "    }\n",
       "</style>\n",
       "<table border=\"1\" class=\"dataframe\">\n",
       "  <thead>\n",
       "    <tr style=\"text-align: right;\">\n",
       "      <th></th>\n",
       "      <th>0</th>\n",
       "      <th>1</th>\n",
       "    </tr>\n",
       "  </thead>\n",
       "  <tbody>\n",
       "    <tr>\n",
       "      <th>0</th>\n",
       "      <td>1.000000</td>\n",
       "      <td>0.709297</td>\n",
       "    </tr>\n",
       "    <tr>\n",
       "      <th>1</th>\n",
       "      <td>0.709297</td>\n",
       "      <td>1.000000</td>\n",
       "    </tr>\n",
       "  </tbody>\n",
       "</table>\n",
       "</div>"
      ],
      "text/plain": [
       "          0         1\n",
       "0  1.000000  0.709297\n",
       "1  0.709297  1.000000"
      ]
     },
     "execution_count": 7,
     "metadata": {},
     "output_type": "execute_result"
    }
   ],
   "source": [
    "# dataframe\n",
    "\n",
    "cos_1 = cosine_similarity(corpus_1)\n",
    "df_1 = pd.DataFrame(cos_1.toarray())\n",
    "df_1"
   ]
  },
  {
   "cell_type": "markdown",
   "metadata": {},
   "source": [
    "# Hypothesis"
   ]
  },
  {
   "cell_type": "code",
   "execution_count": 25,
   "metadata": {},
   "outputs": [],
   "source": [
    "# take true y, true pred and a volontary degraded pres\n",
    "\n",
    "y = \"Allied Markets,Joshua Gilliland,Chawalit Wongkhiao\"\n",
    "pred = \"Joshua Gilliland,Chawalit Wongkhiao,Marcia Morales Howard,Allied Markets\"\n",
    "pred_mod = \"Allied Markets LLC,Mr Joshua Gilliland,Marcia Morales,Chawalit Wongkhiao Senior\""
   ]
  },
  {
   "cell_type": "code",
   "execution_count": 9,
   "metadata": {},
   "outputs": [],
   "source": [
    "# from string to list\n",
    "\n",
    "y_list = [i.strip().lower() for i in y.split(\",\")]\n",
    "pred_list = [i.strip().lower() for i in pred.split(\",\")]\n",
    "pred_list_mod = [i.strip().lower() for i in pred_mod.split(\",\")]"
   ]
  },
  {
   "cell_type": "code",
   "execution_count": 10,
   "metadata": {},
   "outputs": [
    {
     "name": "stdout",
     "output_type": "stream",
     "text": [
      "['allied markets', 'joshua gilliland', 'chawalit wongkhiao']\n",
      "['joshua gilliland', 'chawalit wongkhiao', 'marcia morales howard', 'allied markets']\n",
      "['allied markets llc', 'mr joshua gilliland', 'marcia morales', 'chawaaalit woongkhiao senior']\n"
     ]
    }
   ],
   "source": [
    "# print \n",
    "\n",
    "print(y_list)\n",
    "print(pred_list)\n",
    "print(pred_list_mod)"
   ]
  },
  {
   "cell_type": "code",
   "execution_count": 11,
   "metadata": {},
   "outputs": [
    {
     "data": {
      "text/plain": [
       "[['joshua gilliland',\n",
       "  'allied markets',\n",
       "  'joshua gilliland',\n",
       "  'chawalit wongkhiao'],\n",
       " ['chawalit wongkhiao',\n",
       "  'allied markets',\n",
       "  'joshua gilliland',\n",
       "  'chawalit wongkhiao'],\n",
       " ['marcia morales howard',\n",
       "  'allied markets',\n",
       "  'joshua gilliland',\n",
       "  'chawalit wongkhiao'],\n",
       " ['allied markets',\n",
       "  'allied markets',\n",
       "  'joshua gilliland',\n",
       "  'chawalit wongkhiao']]"
      ]
     },
     "execution_count": 11,
     "metadata": {},
     "output_type": "execute_result"
    }
   ],
   "source": [
    "# mix y and pred : pred[i] + y for each pred\n",
    "\n",
    "y_pred_list = [[i] + y_list for i in pred_list]\n",
    "y_pred_list_mod = [[i] + y_list for i in pred_list_mod ]\n",
    "y_pred_list"
   ]
  },
  {
   "cell_type": "markdown",
   "metadata": {},
   "source": [
    "# Perfect predictions"
   ]
  },
  {
   "cell_type": "code",
   "execution_count": 12,
   "metadata": {},
   "outputs": [
    {
     "data": {
      "text/plain": [
       "[array([[1., 0., 1., 0.],\n",
       "        [0., 1., 0., 0.],\n",
       "        [1., 0., 1., 0.],\n",
       "        [0., 0., 0., 1.]]),\n",
       " array([[1., 0., 0., 1.],\n",
       "        [0., 1., 0., 0.],\n",
       "        [0., 0., 1., 0.],\n",
       "        [1., 0., 0., 1.]]),\n",
       " array([[1., 0., 0., 0.],\n",
       "        [0., 1., 0., 0.],\n",
       "        [0., 0., 1., 0.],\n",
       "        [0., 0., 0., 1.]]),\n",
       " array([[1., 1., 0., 0.],\n",
       "        [1., 1., 0., 0.],\n",
       "        [0., 0., 1., 0.],\n",
       "        [0., 0., 0., 1.]])]"
      ]
     },
     "execution_count": 12,
     "metadata": {},
     "output_type": "execute_result"
    }
   ],
   "source": [
    "# compute 2d cosine arrays\n",
    "\n",
    "cos_y_pred_arrays = [cosine_similarity(i).toarray() for i in y_pred_list ]\n",
    "cos_y_pred_arrays"
   ]
  },
  {
   "cell_type": "code",
   "execution_count": 13,
   "metadata": {},
   "outputs": [
    {
     "data": {
      "text/plain": [
       "array([[0., 1., 0.],\n",
       "       [0., 0., 1.],\n",
       "       [0., 0., 0.],\n",
       "       [1., 0., 0.]])"
      ]
     },
     "execution_count": 13,
     "metadata": {},
     "output_type": "execute_result"
    }
   ],
   "source": [
    "# keep 1st line as list, drop 1st occurence because value is 1 (due to diagonal ) \n",
    "\n",
    "cos_y_pred_list = np.array([i[0][1:] for i in cos_y_pred_arrays ])\n",
    "cos_y_pred_list"
   ]
  },
  {
   "cell_type": "code",
   "execution_count": 14,
   "metadata": {},
   "outputs": [
    {
     "data": {
      "text/html": [
       "<div>\n",
       "<style scoped>\n",
       "    .dataframe tbody tr th:only-of-type {\n",
       "        vertical-align: middle;\n",
       "    }\n",
       "\n",
       "    .dataframe tbody tr th {\n",
       "        vertical-align: top;\n",
       "    }\n",
       "\n",
       "    .dataframe thead th {\n",
       "        text-align: right;\n",
       "    }\n",
       "</style>\n",
       "<table border=\"1\" class=\"dataframe\">\n",
       "  <thead>\n",
       "    <tr style=\"text-align: right;\">\n",
       "      <th></th>\n",
       "      <th>allied markets</th>\n",
       "      <th>joshua gilliland</th>\n",
       "      <th>chawalit wongkhiao</th>\n",
       "    </tr>\n",
       "  </thead>\n",
       "  <tbody>\n",
       "    <tr>\n",
       "      <th>joshua gilliland</th>\n",
       "      <td>0.0</td>\n",
       "      <td>1.0</td>\n",
       "      <td>0.0</td>\n",
       "    </tr>\n",
       "    <tr>\n",
       "      <th>chawalit wongkhiao</th>\n",
       "      <td>0.0</td>\n",
       "      <td>0.0</td>\n",
       "      <td>1.0</td>\n",
       "    </tr>\n",
       "    <tr>\n",
       "      <th>marcia morales howard</th>\n",
       "      <td>0.0</td>\n",
       "      <td>0.0</td>\n",
       "      <td>0.0</td>\n",
       "    </tr>\n",
       "    <tr>\n",
       "      <th>allied markets</th>\n",
       "      <td>1.0</td>\n",
       "      <td>0.0</td>\n",
       "      <td>0.0</td>\n",
       "    </tr>\n",
       "  </tbody>\n",
       "</table>\n",
       "</div>"
      ],
      "text/plain": [
       "                       allied markets  joshua gilliland  chawalit wongkhiao\n",
       "joshua gilliland                  0.0               1.0                 0.0\n",
       "chawalit wongkhiao                0.0               0.0                 1.0\n",
       "marcia morales howard             0.0               0.0                 0.0\n",
       "allied markets                    1.0               0.0                 0.0"
      ]
     },
     "execution_count": 14,
     "metadata": {},
     "output_type": "execute_result"
    }
   ],
   "source": [
    "pd.DataFrame(cos_y_pred_list, columns=y_list, index=pred_list)"
   ]
  },
  {
   "cell_type": "code",
   "execution_count": 15,
   "metadata": {},
   "outputs": [
    {
     "data": {
      "text/plain": [
       "array([1., 1., 0., 1.])"
      ]
     },
     "execution_count": 15,
     "metadata": {},
     "output_type": "execute_result"
    }
   ],
   "source": [
    "# max of each line (except the 1.0 diagonal :) )\n",
    "max_cos_y_pred = np.array([max(i) for i in cos_y_pred_list ])\n",
    "max_cos_y_pred"
   ]
  },
  {
   "cell_type": "code",
   "execution_count": 16,
   "metadata": {},
   "outputs": [
    {
     "data": {
      "text/plain": [
       "{'joshua gilliland': 1.0,\n",
       " 'chawalit wongkhiao': 1.0,\n",
       " 'marcia morales howard': 0.0,\n",
       " 'allied markets': 1.0}"
      ]
     },
     "execution_count": 16,
     "metadata": {},
     "output_type": "execute_result"
    }
   ],
   "source": [
    "{ j:round(i,2) for i, j in zip(max_cos_y_pred,pred_list )}"
   ]
  },
  {
   "cell_type": "code",
   "execution_count": 17,
   "metadata": {},
   "outputs": [
    {
     "data": {
      "text/plain": [
       "0.7499999999999998"
      ]
     },
     "execution_count": 17,
     "metadata": {},
     "output_type": "execute_result"
    }
   ],
   "source": [
    "# mean\n",
    "max_cos_y_pred.mean()"
   ]
  },
  {
   "cell_type": "markdown",
   "metadata": {},
   "source": [
    "# Modified predictions"
   ]
  },
  {
   "cell_type": "code",
   "execution_count": 18,
   "metadata": {},
   "outputs": [
    {
     "data": {
      "text/plain": [
       "[['allied markets llc',\n",
       "  'allied markets',\n",
       "  'joshua gilliland',\n",
       "  'chawalit wongkhiao'],\n",
       " ['mr joshua gilliland',\n",
       "  'allied markets',\n",
       "  'joshua gilliland',\n",
       "  'chawalit wongkhiao'],\n",
       " ['marcia morales',\n",
       "  'allied markets',\n",
       "  'joshua gilliland',\n",
       "  'chawalit wongkhiao'],\n",
       " ['chawaaalit woongkhiao senior',\n",
       "  'allied markets',\n",
       "  'joshua gilliland',\n",
       "  'chawalit wongkhiao']]"
      ]
     },
     "execution_count": 18,
     "metadata": {},
     "output_type": "execute_result"
    }
   ],
   "source": [
    "y_pred_list_mod"
   ]
  },
  {
   "cell_type": "code",
   "execution_count": 19,
   "metadata": {},
   "outputs": [
    {
     "data": {
      "text/plain": [
       "[array([[1.       , 0.7444497, 0.       , 0.       ],\n",
       "        [0.7444497, 1.       , 0.       , 0.       ],\n",
       "        [0.       , 0.       , 1.       , 0.       ],\n",
       "        [0.       , 0.       , 0.       , 1.       ]]),\n",
       " array([[1.       , 0.       , 0.7444497, 0.       ],\n",
       "        [0.       , 1.       , 0.       , 0.       ],\n",
       "        [0.7444497, 0.       , 1.       , 0.       ],\n",
       "        [0.       , 0.       , 0.       , 1.       ]]),\n",
       " array([[1., 0., 0., 0.],\n",
       "        [0., 1., 0., 0.],\n",
       "        [0., 0., 1., 0.],\n",
       "        [0., 0., 0., 1.]]),\n",
       " array([[1., 0., 0., 0.],\n",
       "        [0., 1., 0., 0.],\n",
       "        [0., 0., 1., 0.],\n",
       "        [0., 0., 0., 1.]])]"
      ]
     },
     "execution_count": 19,
     "metadata": {},
     "output_type": "execute_result"
    }
   ],
   "source": [
    "cos_y_pred_arrays_mod = [cosine_similarity(i).toarray() for i in y_pred_list_mod ]\n",
    "cos_y_pred_arrays_mod"
   ]
  },
  {
   "cell_type": "code",
   "execution_count": 20,
   "metadata": {},
   "outputs": [
    {
     "data": {
      "text/plain": [
       "array([[0.7444497, 0.       , 0.       ],\n",
       "       [0.       , 0.7444497, 0.       ],\n",
       "       [0.       , 0.       , 0.       ],\n",
       "       [0.       , 0.       , 0.       ]])"
      ]
     },
     "execution_count": 20,
     "metadata": {},
     "output_type": "execute_result"
    }
   ],
   "source": [
    "cos_y_pred_list_mod = np.array([i[0][1:] for i in cos_y_pred_arrays_mod ])\n",
    "cos_y_pred_list_mod"
   ]
  },
  {
   "cell_type": "code",
   "execution_count": 21,
   "metadata": {},
   "outputs": [
    {
     "data": {
      "text/html": [
       "<div>\n",
       "<style scoped>\n",
       "    .dataframe tbody tr th:only-of-type {\n",
       "        vertical-align: middle;\n",
       "    }\n",
       "\n",
       "    .dataframe tbody tr th {\n",
       "        vertical-align: top;\n",
       "    }\n",
       "\n",
       "    .dataframe thead th {\n",
       "        text-align: right;\n",
       "    }\n",
       "</style>\n",
       "<table border=\"1\" class=\"dataframe\">\n",
       "  <thead>\n",
       "    <tr style=\"text-align: right;\">\n",
       "      <th></th>\n",
       "      <th>allied markets</th>\n",
       "      <th>joshua gilliland</th>\n",
       "      <th>chawalit wongkhiao</th>\n",
       "    </tr>\n",
       "  </thead>\n",
       "  <tbody>\n",
       "    <tr>\n",
       "      <th>allied markets llc</th>\n",
       "      <td>0.74445</td>\n",
       "      <td>0.00000</td>\n",
       "      <td>0.0</td>\n",
       "    </tr>\n",
       "    <tr>\n",
       "      <th>mr joshua gilliland</th>\n",
       "      <td>0.00000</td>\n",
       "      <td>0.74445</td>\n",
       "      <td>0.0</td>\n",
       "    </tr>\n",
       "    <tr>\n",
       "      <th>marcia morales</th>\n",
       "      <td>0.00000</td>\n",
       "      <td>0.00000</td>\n",
       "      <td>0.0</td>\n",
       "    </tr>\n",
       "    <tr>\n",
       "      <th>chawaaalit woongkhiao senior</th>\n",
       "      <td>0.00000</td>\n",
       "      <td>0.00000</td>\n",
       "      <td>0.0</td>\n",
       "    </tr>\n",
       "  </tbody>\n",
       "</table>\n",
       "</div>"
      ],
      "text/plain": [
       "                              allied markets  joshua gilliland  \\\n",
       "allied markets llc                   0.74445           0.00000   \n",
       "mr joshua gilliland                  0.00000           0.74445   \n",
       "marcia morales                       0.00000           0.00000   \n",
       "chawaaalit woongkhiao senior         0.00000           0.00000   \n",
       "\n",
       "                              chawalit wongkhiao  \n",
       "allied markets llc                           0.0  \n",
       "mr joshua gilliland                          0.0  \n",
       "marcia morales                               0.0  \n",
       "chawaaalit woongkhiao senior                 0.0  "
      ]
     },
     "execution_count": 21,
     "metadata": {},
     "output_type": "execute_result"
    }
   ],
   "source": [
    "pd.DataFrame(cos_y_pred_list_mod, columns=y_list, index=pred_list_mod)"
   ]
  },
  {
   "cell_type": "code",
   "execution_count": 22,
   "metadata": {},
   "outputs": [
    {
     "data": {
      "text/plain": [
       "array([0.7444497, 0.7444497, 0.       , 0.       ])"
      ]
     },
     "execution_count": 22,
     "metadata": {},
     "output_type": "execute_result"
    }
   ],
   "source": [
    "max_cos_y_pred_mod = np.array([max(i) for i in cos_y_pred_list_mod ])\n",
    "max_cos_y_pred_mod"
   ]
  },
  {
   "cell_type": "code",
   "execution_count": 23,
   "metadata": {},
   "outputs": [
    {
     "data": {
      "text/plain": [
       "{'allied markets llc': 0.74,\n",
       " 'mr joshua gilliland': 0.74,\n",
       " 'marcia morales': 0.0,\n",
       " 'chawaaalit woongkhiao senior': 0.0}"
      ]
     },
     "execution_count": 23,
     "metadata": {},
     "output_type": "execute_result"
    }
   ],
   "source": [
    "{ j:round(i,2) for i, j in zip(max_cos_y_pred_mod,pred_list_mod )}"
   ]
  },
  {
   "cell_type": "code",
   "execution_count": 24,
   "metadata": {},
   "outputs": [
    {
     "data": {
      "text/plain": [
       "0.3722248517590162"
      ]
     },
     "execution_count": 24,
     "metadata": {},
     "output_type": "execute_result"
    }
   ],
   "source": [
    "max_cos_y_pred_mod.mean()"
   ]
  },
  {
   "cell_type": "markdown",
   "metadata": {},
   "source": [
    "# Diff entre 'alexandre' de 'alexxandre' -> 0.9"
   ]
  },
  {
   "cell_type": "code",
   "execution_count": null,
   "metadata": {},
   "outputs": [],
   "source": [
    "pred = \"alexandre\"\n",
    "y = \"alexxandre\""
   ]
  },
  {
   "cell_type": "code",
   "execution_count": null,
   "metadata": {},
   "outputs": [],
   "source": []
  }
 ],
 "metadata": {
  "kernelspec": {
   "display_name": "Python 3",
   "language": "python",
   "name": "python3"
  },
  "language_info": {
   "codemirror_mode": {
    "name": "ipython",
    "version": 3
   },
   "file_extension": ".py",
   "mimetype": "text/x-python",
   "name": "python",
   "nbconvert_exporter": "python",
   "pygments_lexer": "ipython3",
   "version": "3.8.5"
  }
 },
 "nbformat": 4,
 "nbformat_minor": 2
}
