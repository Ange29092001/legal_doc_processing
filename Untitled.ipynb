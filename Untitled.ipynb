{
 "cells": [
  {
   "cell_type": "code",
   "execution_count": 102,
   "metadata": {},
   "outputs": [],
   "source": [
    "# import \n",
    "\n",
    "from sklearn.feature_extraction.text import TfidfVectorizer\n",
    "import pandas as pd\n",
    "import numpy as np"
   ]
  },
  {
   "cell_type": "code",
   "execution_count": 18,
   "metadata": {},
   "outputs": [],
   "source": [
    "# compute cosine_similarity\n",
    "\n",
    "def cosine_similarity(list_corpus :list) -> object :\n",
    "    \"\"\" \"\"\"\n",
    "                                                                                                                                                                                                 \n",
    "    vect = TfidfVectorizer(min_df=1, stop_words=\"english\")                                                                                                                                                                                                   \n",
    "    tfidf = vect.fit_transform(list_corpus)                                                                                                                                                                                                                       \n",
    "    pairwise_similarity = tfidf * tfidf.T \n",
    "    \n",
    "    return pairwise_similarity"
   ]
  },
  {
   "cell_type": "code",
   "execution_count": 19,
   "metadata": {},
   "outputs": [],
   "source": [
    "# test corpus\n",
    "\n",
    "corpus_0 = [\"I'd like to eat an apple\", \n",
    "              \"Never compare an apple to an orange\", \n",
    "              \"I prefer scikit-learn to Orange\", \n",
    "              \"The scikit-learn docs are Orange and Blue\",\n",
    "            \"An apple a day keeps the doctor away\", \n",
    "              \"Apple is good for health\"\n",
    "             ]  "
   ]
  },
  {
   "cell_type": "code",
   "execution_count": 103,
   "metadata": {},
   "outputs": [],
   "source": [
    "# cosine\n",
    "\n",
    "cos_0 = cosine_similarity(corpus_0)"
   ]
  },
  {
   "cell_type": "code",
   "execution_count": 104,
   "metadata": {},
   "outputs": [
    {
     "data": {
      "text/html": [
       "<div>\n",
       "<style scoped>\n",
       "    .dataframe tbody tr th:only-of-type {\n",
       "        vertical-align: middle;\n",
       "    }\n",
       "\n",
       "    .dataframe tbody tr th {\n",
       "        vertical-align: top;\n",
       "    }\n",
       "\n",
       "    .dataframe thead th {\n",
       "        text-align: right;\n",
       "    }\n",
       "</style>\n",
       "<table border=\"1\" class=\"dataframe\">\n",
       "  <thead>\n",
       "    <tr style=\"text-align: right;\">\n",
       "      <th></th>\n",
       "      <th>0</th>\n",
       "      <th>1</th>\n",
       "      <th>2</th>\n",
       "      <th>3</th>\n",
       "      <th>4</th>\n",
       "      <th>5</th>\n",
       "    </tr>\n",
       "  </thead>\n",
       "  <tbody>\n",
       "    <tr>\n",
       "      <th>0</th>\n",
       "      <td>1.000000</td>\n",
       "      <td>0.169590</td>\n",
       "      <td>0.000000</td>\n",
       "      <td>0.000000</td>\n",
       "      <td>0.110010</td>\n",
       "      <td>0.149644</td>\n",
       "    </tr>\n",
       "    <tr>\n",
       "      <th>1</th>\n",
       "      <td>0.169590</td>\n",
       "      <td>1.000000</td>\n",
       "      <td>0.210759</td>\n",
       "      <td>0.181119</td>\n",
       "      <td>0.124673</td>\n",
       "      <td>0.169590</td>\n",
       "    </tr>\n",
       "    <tr>\n",
       "      <th>2</th>\n",
       "      <td>0.000000</td>\n",
       "      <td>0.210759</td>\n",
       "      <td>1.000000</td>\n",
       "      <td>0.555071</td>\n",
       "      <td>0.000000</td>\n",
       "      <td>0.000000</td>\n",
       "    </tr>\n",
       "    <tr>\n",
       "      <th>3</th>\n",
       "      <td>0.000000</td>\n",
       "      <td>0.181119</td>\n",
       "      <td>0.555071</td>\n",
       "      <td>1.000000</td>\n",
       "      <td>0.000000</td>\n",
       "      <td>0.000000</td>\n",
       "    </tr>\n",
       "    <tr>\n",
       "      <th>4</th>\n",
       "      <td>0.110010</td>\n",
       "      <td>0.124673</td>\n",
       "      <td>0.000000</td>\n",
       "      <td>0.000000</td>\n",
       "      <td>1.000000</td>\n",
       "      <td>0.110010</td>\n",
       "    </tr>\n",
       "    <tr>\n",
       "      <th>5</th>\n",
       "      <td>0.149644</td>\n",
       "      <td>0.169590</td>\n",
       "      <td>0.000000</td>\n",
       "      <td>0.000000</td>\n",
       "      <td>0.110010</td>\n",
       "      <td>1.000000</td>\n",
       "    </tr>\n",
       "  </tbody>\n",
       "</table>\n",
       "</div>"
      ],
      "text/plain": [
       "          0         1         2         3         4         5\n",
       "0  1.000000  0.169590  0.000000  0.000000  0.110010  0.149644\n",
       "1  0.169590  1.000000  0.210759  0.181119  0.124673  0.169590\n",
       "2  0.000000  0.210759  1.000000  0.555071  0.000000  0.000000\n",
       "3  0.000000  0.181119  0.555071  1.000000  0.000000  0.000000\n",
       "4  0.110010  0.124673  0.000000  0.000000  1.000000  0.110010\n",
       "5  0.149644  0.169590  0.000000  0.000000  0.110010  1.000000"
      ]
     },
     "execution_count": 104,
     "metadata": {},
     "output_type": "execute_result"
    }
   ],
   "source": [
    "# check dataframe, each row / col refers to corpus_0 string\n",
    "\n",
    "df_0 = pd.DataFrame(cos_0.toarray())\n",
    "df_0"
   ]
  },
  {
   "cell_type": "code",
   "execution_count": 22,
   "metadata": {},
   "outputs": [],
   "source": [
    "# check for allied markets\n",
    "\n",
    "corpus_1 = [\"allied market\", \"allied market LLC\"]"
   ]
  },
  {
   "cell_type": "code",
   "execution_count": 106,
   "metadata": {},
   "outputs": [
    {
     "data": {
      "text/html": [
       "<div>\n",
       "<style scoped>\n",
       "    .dataframe tbody tr th:only-of-type {\n",
       "        vertical-align: middle;\n",
       "    }\n",
       "\n",
       "    .dataframe tbody tr th {\n",
       "        vertical-align: top;\n",
       "    }\n",
       "\n",
       "    .dataframe thead th {\n",
       "        text-align: right;\n",
       "    }\n",
       "</style>\n",
       "<table border=\"1\" class=\"dataframe\">\n",
       "  <thead>\n",
       "    <tr style=\"text-align: right;\">\n",
       "      <th></th>\n",
       "      <th>0</th>\n",
       "      <th>1</th>\n",
       "    </tr>\n",
       "  </thead>\n",
       "  <tbody>\n",
       "    <tr>\n",
       "      <th>0</th>\n",
       "      <td>1.000000</td>\n",
       "      <td>0.709297</td>\n",
       "    </tr>\n",
       "    <tr>\n",
       "      <th>1</th>\n",
       "      <td>0.709297</td>\n",
       "      <td>1.000000</td>\n",
       "    </tr>\n",
       "  </tbody>\n",
       "</table>\n",
       "</div>"
      ],
      "text/plain": [
       "          0         1\n",
       "0  1.000000  0.709297\n",
       "1  0.709297  1.000000"
      ]
     },
     "execution_count": 106,
     "metadata": {},
     "output_type": "execute_result"
    }
   ],
   "source": [
    "# dataframe\n",
    "\n",
    "cos_1 = cosine_similarity(corpus_1)\n",
    "df_1 = pd.DataFrame(cos_1.toarray())\n",
    "df_1"
   ]
  },
  {
   "cell_type": "markdown",
   "metadata": {},
   "source": [
    "# Hypothesis"
   ]
  },
  {
   "cell_type": "code",
   "execution_count": 107,
   "metadata": {},
   "outputs": [],
   "source": [
    "# take true y, true pred and a volontary degraded pres\n",
    "\n",
    "y = \"Allied Markets,Joshua Gilliland,Chawalit Wongkhiao\"\n",
    "pred = \"Joshua Gilliland,Chawalit Wongkhiao,Marcia Morales Howard,Allied Markets\"\n",
    "pred_mod = \"Allied Markets LLC,Mr Joshua Gilliland,Marcia Morales,Chawalit Wongkhiao Senior\""
   ]
  },
  {
   "cell_type": "code",
   "execution_count": 108,
   "metadata": {},
   "outputs": [],
   "source": [
    "# from string to list\n",
    "\n",
    "y_list = [i.strip().lower() for i in y.split(\",\")]\n",
    "pred_list = [i.strip().lower() for i in pred.split(\",\")]\n",
    "pred_list_mod = [i.strip().lower() for i in pred_mod.split(\",\")]"
   ]
  },
  {
   "cell_type": "code",
   "execution_count": 109,
   "metadata": {},
   "outputs": [
    {
     "name": "stdout",
     "output_type": "stream",
     "text": [
      "['allied markets', 'joshua gilliland', 'chawalit wongkhiao']\n",
      "['joshua gilliland', 'chawalit wongkhiao', 'marcia morales howard', 'allied markets']\n",
      "['allied markets llc', 'mr joshua gilliland', 'marcia morales', 'chawalit wongkhiao senior']\n"
     ]
    }
   ],
   "source": [
    "# print \n",
    "\n",
    "print(y_list)\n",
    "print(pred_list)\n",
    "print(pred_list_mod)"
   ]
  },
  {
   "cell_type": "code",
   "execution_count": 110,
   "metadata": {},
   "outputs": [
    {
     "data": {
      "text/plain": [
       "[['joshua gilliland',\n",
       "  'allied markets',\n",
       "  'joshua gilliland',\n",
       "  'chawalit wongkhiao'],\n",
       " ['chawalit wongkhiao',\n",
       "  'allied markets',\n",
       "  'joshua gilliland',\n",
       "  'chawalit wongkhiao'],\n",
       " ['marcia morales howard',\n",
       "  'allied markets',\n",
       "  'joshua gilliland',\n",
       "  'chawalit wongkhiao'],\n",
       " ['allied markets',\n",
       "  'allied markets',\n",
       "  'joshua gilliland',\n",
       "  'chawalit wongkhiao']]"
      ]
     },
     "execution_count": 110,
     "metadata": {},
     "output_type": "execute_result"
    }
   ],
   "source": [
    "# mix y and pred : pred[i] + y for each pred\n",
    "\n",
    "y_pred_list = [[i] + y_list for i in pred_list]\n",
    "y_pred_list_mod = [[i] + y_list for i in pred_list_mod ]\n",
    "y_pred_list"
   ]
  },
  {
   "cell_type": "markdown",
   "metadata": {},
   "source": [
    "# Perfect predictions"
   ]
  },
  {
   "cell_type": "code",
   "execution_count": 111,
   "metadata": {},
   "outputs": [
    {
     "data": {
      "text/plain": [
       "[array([[1., 0., 1., 0.],\n",
       "        [0., 1., 0., 0.],\n",
       "        [1., 0., 1., 0.],\n",
       "        [0., 0., 0., 1.]]),\n",
       " array([[1., 0., 0., 1.],\n",
       "        [0., 1., 0., 0.],\n",
       "        [0., 0., 1., 0.],\n",
       "        [1., 0., 0., 1.]]),\n",
       " array([[1., 0., 0., 0.],\n",
       "        [0., 1., 0., 0.],\n",
       "        [0., 0., 1., 0.],\n",
       "        [0., 0., 0., 1.]]),\n",
       " array([[1., 1., 0., 0.],\n",
       "        [1., 1., 0., 0.],\n",
       "        [0., 0., 1., 0.],\n",
       "        [0., 0., 0., 1.]])]"
      ]
     },
     "execution_count": 111,
     "metadata": {},
     "output_type": "execute_result"
    }
   ],
   "source": [
    "# compute 2d cosine arrays\n",
    "\n",
    "cos_y_pred_arrays = [cosine_similarity(i).toarray() for i in y_pred_list ]\n",
    "cos_y_pred_arrays"
   ]
  },
  {
   "cell_type": "code",
   "execution_count": 112,
   "metadata": {},
   "outputs": [
    {
     "data": {
      "text/plain": [
       "array([[0., 1., 0.],\n",
       "       [0., 0., 1.],\n",
       "       [0., 0., 0.],\n",
       "       [1., 0., 0.]])"
      ]
     },
     "execution_count": 112,
     "metadata": {},
     "output_type": "execute_result"
    }
   ],
   "source": [
    "# keep 1st line as list, drop 1st occurence because value is 1 (due to diagonal ) \n",
    "\n",
    "cos_y_pred_list = np.array([i[0][1:] for i in cos_y_pred_arrays ])\n",
    "cos_y_pred_list"
   ]
  },
  {
   "cell_type": "code",
   "execution_count": 114,
   "metadata": {},
   "outputs": [
    {
     "data": {
      "text/html": [
       "<div>\n",
       "<style scoped>\n",
       "    .dataframe tbody tr th:only-of-type {\n",
       "        vertical-align: middle;\n",
       "    }\n",
       "\n",
       "    .dataframe tbody tr th {\n",
       "        vertical-align: top;\n",
       "    }\n",
       "\n",
       "    .dataframe thead th {\n",
       "        text-align: right;\n",
       "    }\n",
       "</style>\n",
       "<table border=\"1\" class=\"dataframe\">\n",
       "  <thead>\n",
       "    <tr style=\"text-align: right;\">\n",
       "      <th></th>\n",
       "      <th>allied markets</th>\n",
       "      <th>joshua gilliland</th>\n",
       "      <th>chawalit wongkhiao</th>\n",
       "    </tr>\n",
       "  </thead>\n",
       "  <tbody>\n",
       "    <tr>\n",
       "      <th>joshua gilliland</th>\n",
       "      <td>0.0</td>\n",
       "      <td>1.0</td>\n",
       "      <td>0.0</td>\n",
       "    </tr>\n",
       "    <tr>\n",
       "      <th>chawalit wongkhiao</th>\n",
       "      <td>0.0</td>\n",
       "      <td>0.0</td>\n",
       "      <td>1.0</td>\n",
       "    </tr>\n",
       "    <tr>\n",
       "      <th>marcia morales howard</th>\n",
       "      <td>0.0</td>\n",
       "      <td>0.0</td>\n",
       "      <td>0.0</td>\n",
       "    </tr>\n",
       "    <tr>\n",
       "      <th>allied markets</th>\n",
       "      <td>1.0</td>\n",
       "      <td>0.0</td>\n",
       "      <td>0.0</td>\n",
       "    </tr>\n",
       "  </tbody>\n",
       "</table>\n",
       "</div>"
      ],
      "text/plain": [
       "                       allied markets  joshua gilliland  chawalit wongkhiao\n",
       "joshua gilliland                  0.0               1.0                 0.0\n",
       "chawalit wongkhiao                0.0               0.0                 1.0\n",
       "marcia morales howard             0.0               0.0                 0.0\n",
       "allied markets                    1.0               0.0                 0.0"
      ]
     },
     "execution_count": 114,
     "metadata": {},
     "output_type": "execute_result"
    }
   ],
   "source": [
    "pd.DataFrame(cos_y_pred_list, columns=y_list, index=pred_list)"
   ]
  },
  {
   "cell_type": "code",
   "execution_count": 113,
   "metadata": {},
   "outputs": [
    {
     "data": {
      "text/plain": [
       "array([1., 1., 0., 1.])"
      ]
     },
     "execution_count": 113,
     "metadata": {},
     "output_type": "execute_result"
    }
   ],
   "source": [
    "# max of each line (except the 1.0 diagonal :) )\n",
    "max_cos_y_pred = np.array([max(i) for i in cos_y_pred_list ])\n",
    "max_cos_y_pred"
   ]
  },
  {
   "cell_type": "code",
   "execution_count": 118,
   "metadata": {},
   "outputs": [
    {
     "data": {
      "text/plain": [
       "{'joshua gilliland': 1.0,\n",
       " 'chawalit wongkhiao': 1.0,\n",
       " 'marcia morales howard': 0.0,\n",
       " 'allied markets': 1.0}"
      ]
     },
     "execution_count": 118,
     "metadata": {},
     "output_type": "execute_result"
    }
   ],
   "source": [
    "{ j:round(i,2) for i, j in zip(max_cos_y_pred,pred_list )}"
   ]
  },
  {
   "cell_type": "code",
   "execution_count": 98,
   "metadata": {},
   "outputs": [
    {
     "data": {
      "text/plain": [
       "0.5583372776385243"
      ]
     },
     "execution_count": 98,
     "metadata": {},
     "output_type": "execute_result"
    }
   ],
   "source": [
    "# mean\n",
    "max_cos_y_pred.mean()"
   ]
  },
  {
   "cell_type": "markdown",
   "metadata": {},
   "source": [
    "# Modified predictions"
   ]
  },
  {
   "cell_type": "code",
   "execution_count": 99,
   "metadata": {},
   "outputs": [
    {
     "data": {
      "text/plain": [
       "[['allied markets llc',\n",
       "  'allied markets',\n",
       "  'joshua gilliland',\n",
       "  'chawalit wongkhiao'],\n",
       " ['mr joshua gilliland',\n",
       "  'allied markets',\n",
       "  'joshua gilliland',\n",
       "  'chawalit wongkhiao'],\n",
       " ['marcia morales',\n",
       "  'allied markets',\n",
       "  'joshua gilliland',\n",
       "  'chawalit wongkhiao'],\n",
       " ['chawalit wongkhiao senior',\n",
       "  'allied markets',\n",
       "  'joshua gilliland',\n",
       "  'chawalit wongkhiao']]"
      ]
     },
     "execution_count": 99,
     "metadata": {},
     "output_type": "execute_result"
    }
   ],
   "source": [
    "y_pred_list_mod"
   ]
  },
  {
   "cell_type": "code",
   "execution_count": 100,
   "metadata": {},
   "outputs": [
    {
     "data": {
      "text/plain": [
       "[array([[1.       , 0.7444497, 0.       , 0.       ],\n",
       "        [0.7444497, 1.       , 0.       , 0.       ],\n",
       "        [0.       , 0.       , 1.       , 0.       ],\n",
       "        [0.       , 0.       , 0.       , 1.       ]]),\n",
       " array([[1.       , 0.       , 0.7444497, 0.       ],\n",
       "        [0.       , 1.       , 0.       , 0.       ],\n",
       "        [0.7444497, 0.       , 1.       , 0.       ],\n",
       "        [0.       , 0.       , 0.       , 1.       ]]),\n",
       " array([[1., 0., 0., 0.],\n",
       "        [0., 1., 0., 0.],\n",
       "        [0., 0., 1., 0.],\n",
       "        [0., 0., 0., 1.]]),\n",
       " array([[1.       , 0.       , 0.       , 0.7444497],\n",
       "        [0.       , 1.       , 0.       , 0.       ],\n",
       "        [0.       , 0.       , 1.       , 0.       ],\n",
       "        [0.7444497, 0.       , 0.       , 1.       ]])]"
      ]
     },
     "execution_count": 100,
     "metadata": {},
     "output_type": "execute_result"
    }
   ],
   "source": [
    "cos_y_pred_arrays_mod = [cosine_similarity(i).toarray() for i in y_pred_list_mod ]\n",
    "cos_y_pred_arrays_mod"
   ]
  },
  {
   "cell_type": "code",
   "execution_count": 101,
   "metadata": {},
   "outputs": [
    {
     "data": {
      "text/plain": [
       "array([[0.7444497, 0.       , 0.       ],\n",
       "       [0.       , 0.7444497, 0.       ],\n",
       "       [0.       , 0.       , 0.       ],\n",
       "       [0.       , 0.       , 0.7444497]])"
      ]
     },
     "execution_count": 101,
     "metadata": {},
     "output_type": "execute_result"
    }
   ],
   "source": [
    "cos_y_pred_list_mod = np.array([i[0][1:] for i in cos_y_pred_arrays_mod ])\n",
    "cos_y_pred_list_mod"
   ]
  },
  {
   "cell_type": "code",
   "execution_count": 119,
   "metadata": {},
   "outputs": [
    {
     "data": {
      "text/html": [
       "<div>\n",
       "<style scoped>\n",
       "    .dataframe tbody tr th:only-of-type {\n",
       "        vertical-align: middle;\n",
       "    }\n",
       "\n",
       "    .dataframe tbody tr th {\n",
       "        vertical-align: top;\n",
       "    }\n",
       "\n",
       "    .dataframe thead th {\n",
       "        text-align: right;\n",
       "    }\n",
       "</style>\n",
       "<table border=\"1\" class=\"dataframe\">\n",
       "  <thead>\n",
       "    <tr style=\"text-align: right;\">\n",
       "      <th></th>\n",
       "      <th>allied markets</th>\n",
       "      <th>joshua gilliland</th>\n",
       "      <th>chawalit wongkhiao</th>\n",
       "    </tr>\n",
       "  </thead>\n",
       "  <tbody>\n",
       "    <tr>\n",
       "      <th>allied markets llc</th>\n",
       "      <td>0.74445</td>\n",
       "      <td>0.00000</td>\n",
       "      <td>0.00000</td>\n",
       "    </tr>\n",
       "    <tr>\n",
       "      <th>mr joshua gilliland</th>\n",
       "      <td>0.00000</td>\n",
       "      <td>0.74445</td>\n",
       "      <td>0.00000</td>\n",
       "    </tr>\n",
       "    <tr>\n",
       "      <th>marcia morales</th>\n",
       "      <td>0.00000</td>\n",
       "      <td>0.00000</td>\n",
       "      <td>0.00000</td>\n",
       "    </tr>\n",
       "    <tr>\n",
       "      <th>chawalit wongkhiao senior</th>\n",
       "      <td>0.00000</td>\n",
       "      <td>0.00000</td>\n",
       "      <td>0.74445</td>\n",
       "    </tr>\n",
       "  </tbody>\n",
       "</table>\n",
       "</div>"
      ],
      "text/plain": [
       "                           allied markets  joshua gilliland  \\\n",
       "allied markets llc                0.74445           0.00000   \n",
       "mr joshua gilliland               0.00000           0.74445   \n",
       "marcia morales                    0.00000           0.00000   \n",
       "chawalit wongkhiao senior         0.00000           0.00000   \n",
       "\n",
       "                           chawalit wongkhiao  \n",
       "allied markets llc                    0.00000  \n",
       "mr joshua gilliland                   0.00000  \n",
       "marcia morales                        0.00000  \n",
       "chawalit wongkhiao senior             0.74445  "
      ]
     },
     "execution_count": 119,
     "metadata": {},
     "output_type": "execute_result"
    }
   ],
   "source": [
    "pd.DataFrame(cos_y_pred_list_mod, columns=y_list, index=pred_list_mod)"
   ]
  },
  {
   "cell_type": "code",
   "execution_count": 96,
   "metadata": {},
   "outputs": [
    {
     "data": {
      "text/plain": [
       "array([0.7444497, 0.7444497, 0.       , 0.7444497])"
      ]
     },
     "execution_count": 96,
     "metadata": {},
     "output_type": "execute_result"
    }
   ],
   "source": [
    "max_cos_y_pred_mod = np.array([max(i) for i in cos_y_pred_list_mod ])\n",
    "max_cos_y_pred_mod"
   ]
  },
  {
   "cell_type": "code",
   "execution_count": null,
   "metadata": {},
   "outputs": [],
   "source": [
    "{ j:round(i,2) for i, j in zip(max_cos_y_pred,pred_list )}"
   ]
  },
  {
   "cell_type": "code",
   "execution_count": 97,
   "metadata": {},
   "outputs": [
    {
     "data": {
      "text/plain": [
       "0.5583372776385243"
      ]
     },
     "execution_count": 97,
     "metadata": {},
     "output_type": "execute_result"
    }
   ],
   "source": [
    "max_cos_y_pred_mod.mean()"
   ]
  }
 ],
 "metadata": {
  "kernelspec": {
   "display_name": "Python 3",
   "language": "python",
   "name": "python3"
  },
  "language_info": {
   "codemirror_mode": {
    "name": "ipython",
    "version": 3
   },
   "file_extension": ".py",
   "mimetype": "text/x-python",
   "name": "python",
   "nbconvert_exporter": "python",
   "pygments_lexer": "ipython3",
   "version": "3.8.5"
  }
 },
 "nbformat": 4,
 "nbformat_minor": 2
}
