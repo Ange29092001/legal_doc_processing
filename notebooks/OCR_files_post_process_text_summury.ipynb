{
 "cells": [
  {
   "cell_type": "code",
   "execution_count": 167,
   "metadata": {},
   "outputs": [],
   "source": [
    "import re\n",
    "import string\n",
    "from cleantext import clean\n",
    "import requests\n",
    "import json\n",
    "import glob\n",
    "import os\n",
    "import pandas as pd\n",
    "import numpy as np\n",
    "import dateparser\n",
    "import string \n",
    "#Data cleaning \n",
    "import bs4 as bs\n",
    "import urllib.request\n",
    "import re\n",
    "import nltk"
   ]
  },
  {
   "cell_type": "code",
   "execution_count": 168,
   "metadata": {},
   "outputs": [],
   "source": [
    "#!pip install clean-text\n",
    "#!pip install unidecode"
   ]
  },
  {
   "cell_type": "code",
   "execution_count": 169,
   "metadata": {},
   "outputs": [],
   "source": [
    "def clean(file):\n",
    "    article_text = re.sub(r'\\[[0-9]*\\]', ' ', file)\n",
    "    article_text = re.sub(r'\\s+', ' ', article_text)\n",
    "    formatted_article_text = re.sub('[^a-zA-Z]', ' ', article_text )\n",
    "    formatted_article_text = re.sub(r'\\s+', ' ', formatted_article_text)\n",
    "    return  article_text,formatted_article_text\n"
   ]
  },
  {
   "cell_type": "code",
   "execution_count": 170,
   "metadata": {},
   "outputs": [],
   "source": [
    "text_path = \"./7100-15/cftc_text_7100-15_press-release.txt\"\n",
    "def load_data(text_path):\n",
    "    with open(text_path) as f:\n",
    "        file = f.read()\n",
    "    return file\n",
    "file=load_data(text_path)\n",
    "doc,format_=clean(file)"
   ]
  },
  {
   "cell_type": "code",
   "execution_count": 171,
   "metadata": {},
   "outputs": [],
   "source": [
    "def unicode(text):\n",
    "    text_unicode = doc \n",
    "    # encoding the text to ASCII format\n",
    "    text_encode = text_unicode.encode(encoding=\"ascii\", errors=\"ignore\")\n",
    "    # decoding the text\n",
    "    text_decode = text_encode.decode()\n",
    "    # cleaning the text to remove extra whitespace \n",
    "    clean_text = \" \".join([word for word in text_decode.split()])\n",
    "    return clean_text"
   ]
  },
  {
   "cell_type": "code",
   "execution_count": 172,
   "metadata": {},
   "outputs": [],
   "source": [
    "text=unicode(doc)"
   ]
  },
  {
   "cell_type": "code",
   "execution_count": 173,
   "metadata": {},
   "outputs": [],
   "source": [
    "sentence_list = nltk.sent_tokenize(text)\n"
   ]
  },
  {
   "cell_type": "code",
   "execution_count": 174,
   "metadata": {},
   "outputs": [],
   "source": [
    "cleaned_text = ' '.join(sentence_list)\n"
   ]
  },
  {
   "cell_type": "code",
   "execution_count": 175,
   "metadata": {},
   "outputs": [
    {
     "data": {
      "text/plain": [
       "'Release Number 7100-15 January 12, 2015 Federal Court in Florida Enters Order Freezing Assets in CFTC Foreign Currency Anti- Fraud Action against Allied Markets LLC and its Principals Joshua Gilliland and Chawalit Wongkhiao CFTC Charges Jacksonville, Florida, Defendants with Operating a Fraudulent Forex Pool and Misappropriating Customer Funds to Pay Personal Expenses Washington, DC The U.S. Commodity Futures Trading Commission (CFTC) today announced that it filed a civil enforcement Complaint in the U.S. District Court for the Middle District of Florida, charging Defendants Allied Markets LLC, and its principals Joshua Gilliland and Chawalit Wongkhiao, all of Jacksonville, Florida, with operating a fraudulent foreign currency (forex) commodity pool in violation of the Commodity Exchange Act (CEA) and CFTC Regulations. In addition, none of the Defendants has ever been registered with the CFTC, as required. On January 7, 2015, the day after the CFTC Complaint was filed under seal, U.S. District Judge Marcia Morales Howard issued an emergency Order freezing and preserving assets under the Defendants control and prohibiting them from destroying documents or denying CFTC staff access to their books and records. The Court has scheduled a hearing for January 21, 2015, on the CFTCs motion for a preliminary injunction. The CFTC Complaint charges that, as early as January 2012, the Defendants fraudulently solicited more than $1 million from members of the public to trade forex in a commodity pool. As alleged, Defendants Gilliland and Wongkhiao misappropriated funds to pay their personal expenses. For example, instead of trading forex as promised, they allegedly withdrew approximately $850,000 in pool participant funds from the Allied Markets forex account, spending more than $64,000 of the stolen funds on restaurants and entertainment; approximately $33,000 on travel, hotels and rental cars; and approximately $66,000 on rent for their residence in Jacksonville Beach, Florida. They also transferred at least $83,200 to their personal bank accounts and withdrew approximately $139,000 in cash from automated teller machines and at bank branches, the Complaint charges. Defendants also used pool participant funds to pay purported trading profits and supposedly returned pool participants principal in the manner of a Ponzi scheme, according to the Complaint. Specifically, according to the Complaint, the Defendants solicited members of the public to send them money for forex trading by fraudulently guaranteeing specific trading returns and by making material misrepresentations regarding their trading expertise and results, including that Defendants forex trading was generating large profits. In its continuing litigation, the CFTC seeks full restitution to defrauded pool participants, disgorgement of any ill-gotten gains, a civil monetary penalty, permanent registration and trading bans, and a permanent injunction against future violations of the CEA and CFTC Regulations, as charged. The CFTC appreciates the assistance of the Jacksonville Beach Police Department, the Jacksonville Sheriffs Office, the Florida Office of Financial Regulation, the United States Marshals Service, and the National Futures Association. CFTC Division of Enforcement staff members responsible for this action are Jonah McCarthy, Patricia Gomersall, Dmitriy Vilenskiy, Jonathan Robell, John Einstman, and Paul Hayeck. (See Complaint and Asset Freeze Order under Related Links.) * * * * * * * CFTCs Foreign Currency (Forex) Fraud and Commodity Pool Fraud Advisories The CFTC has issued several customer protection Fraud Advisories that provide the warning signs of fraud, including the Foreign Currency Trading (Forex) Fraud Advisory, which states that the CFTC has witnessed a sharp rise in Forex trading scams in recent years and helps customers identify this potential fraud. The CFTC has also issued a Commodity Pool Fraud Advisory, which warns customers about a type of fraud that involves individuals and firms, often unregistered, offering investments in commodity pools. Customers can report suspicious activities or information, such as possible violations of commodity trading laws, to the CFTC Division of Enforcement via a Toll-Free Hotline 866-FON-CFTC (866-366-2382) or file a tip or complaint online. Media Contact Dennis Holden 202-418-5088 Last Updated: January 12, 2015 Release Number 7100-15 January 12, 2015 Federal Court in Florida Enters Order Freezing Assets in CFTC Foreign Currency Anti- Fraud Action against Allied Markets LLC and its Principals Joshua Gilliland and Chawalit Wongkhiao CFTC Charges Jacksonville, Florida, Defendants with Operating a Fraudulent Forex Pool and Misappropriating Customer Funds to Pay Personal Expenses Washington, DC The U.S. Commodity Futures Trading Commission (CFTC) today announced that it filed a civil enforcement Complaint in the U.S. District Court for the Middle District of Florida, charging Defendants Allied Markets LLC, and its principals Joshua Gilliland and Chawalit Wongkhiao, all of Jacksonville, Florida, with operating a fraudulent foreign currency (forex) commodity pool in violation of the Commodity Exchange Act (CEA) and CFTC Regulations. In addition, none of the Defendants has ever been registered with the CFTC, as required. On January 7, 2015, the day after the CFTC Complaint was filed under seal, U.S. District Judge Marcia Morales Howard issued an emergency Order freezing and preserving assets under the Defendants control and prohibiting them from destroying documents or denying CFTC staff access to their books and records. The Court has scheduled a hearing for January 21, 2015, on the CFTCs motion for a preliminary injunction. The CFTC Complaint charges that, as early as January 2012, the Defendants fraudulently solicited more than $1 million from members of the public to trade forex in a commodity pool. As alleged, Defendants Gilliland and Wongkhiao misappropriated funds to pay their personal expenses. For example, instead of trading forex as promised, they allegedly withdrew approximately $850,000 in pool participant funds from the Allied Markets forex account, spending more than $64,000 of the stolen funds on restaurants and entertainment; approximately $33,000 on travel, hotels and rental cars; and approximately $66,000 on rent for their residence in Jacksonville Beach, Florida. They also transferred at least $83,200 to their personal bank accounts and withdrew approximately $139,000 in cash from automated teller machines and at bank branches, the Complaint charges. Defendants also used pool participant funds to pay purported trading profits and supposedly returned pool participants principal in the manner of a Ponzi scheme, according to the Complaint. Specifically, according to the Complaint, the Defendants solicited members of the public to send them money for forex trading by fraudulently guaranteeing specific trading returns and by making material misrepresentations regarding their trading expertise and results, including that Defendants forex trading was generating large profits. In its continuing litigation, the CFTC seeks full restitution to defrauded pool participants, disgorgement of any ill-gotten gains, a civil monetary penalty, permanent registration and trading bans, and a permanent injunction against future violations of the CEA and CFTC Regulations, as charged. The CFTC appreciates the assistance of the Jacksonville Beach Police Department, the Jacksonville Sheriffs Office, the Florida Office of Financial Regulation, the United States Marshals Service, and the National Futures Association. CFTC Division of Enforcement staff members responsible for this action are Jonah McCarthy, Patricia Gomersall, Dmitriy Vilenskiy, Jonathan Robell, John Einstman, and Paul Hayeck. (See Complaint and Asset Freeze Order under Related Links.) * * * * * * * CFTCs Foreign Currency (Forex) Fraud and Commodity Pool Fraud Advisories The CFTC has issued several customer protection Fraud Advisories that provide the warning signs of fraud, including the Foreign Currency Trading (Forex) Fraud Advisory, which states that the CFTC has witnessed a sharp rise in Forex trading scams in recent years and helps customers identify this potential fraud. The CFTC has also issued a Commodity Pool Fraud Advisory, which warns customers about a type of fraud that involves individuals and firms, often unregistered, offering investments in commodity pools. Customers can report suspicious activities or information, such as possible violations of commodity trading laws, to the CFTC Division of Enforcement via a Toll-Free Hotline 866-FON-CFTC (866-366-2382) or file a tip or complaint online. Media Contact Dennis Holden 202-418-5088 Last Updated: January 12, 2015 Release Number 7100-15 January 12, 2015 Federal Court in Florida Enters Order Freezing Assets in CFTC Foreign Currency Anti- Fraud Action against Allied Markets LLC and its Principals Joshua Gilliland and Chawalit Wongkhiao CFTC Charges Jacksonville, Florida, Defendants with Operating a Fraudulent Forex Pool and Misappropriating Customer Funds to Pay Personal Expenses Washington, DC The U.S. Commodity Futures Trading Commission (CFTC) today announced that it filed a civil enforcement Complaint in the U.S. District Court for the Middle District of Florida, charging Defendants Allied Markets LLC, and its principals Joshua Gilliland and Chawalit Wongkhiao, all of Jacksonville, Florida, with operating a fraudulent foreign currency (forex) commodity pool in violation of the Commodity Exchange Act (CEA) and CFTC Regulations. In addition, none of the Defendants has ever been registered with the CFTC, as required. On January 7, 2015, the day after the CFTC Complaint was filed under seal, U.S. District Judge Marcia Morales Howard issued an emergency Order freezing and preserving assets under the Defendants control and prohibiting them from destroying documents or denying CFTC staff access to their books and records. The Court has scheduled a hearing for January 21, 2015, on the CFTCs motion for a preliminary injunction. The CFTC Complaint charges that, as early as January 2012, the Defendants fraudulently solicited more than $1 million from members of the public to trade forex in a commodity pool. As alleged, Defendants Gilliland and Wongkhiao misappropriated funds to pay their personal expenses. For example, instead of trading forex as promised, they allegedly withdrew approximately $850,000 in pool participant funds from the Allied Markets forex account, spending more than $64,000 of the stolen funds on restaurants and entertainment; approximately $33,000 on travel, hotels and rental cars; and approximately $66,000 on rent for their residence in Jacksonville Beach, Florida. They also transferred at least $83,200 to their personal bank accounts and withdrew approximately $139,000 in cash from automated teller machines and at bank branches, the Complaint charges. Defendants also used pool participant funds to pay purported trading profits and supposedly returned pool participants principal in the manner of a Ponzi scheme, according to the Complaint. Specifically, according to the Complaint, the Defendants solicited members of the public to send them money for forex trading by fraudulently guaranteeing specific trading returns and by making material misrepresentations regarding their trading expertise and results, including that Defendants forex trading was generating large profits. In its continuing litigation, the CFTC seeks full restitution to defrauded pool participants, disgorgement of any ill-gotten gains, a civil monetary penalty, permanent registration and trading bans, and a permanent injunction against future violations of the CEA and CFTC Regulations, as charged. The CFTC appreciates the assistance of the Jacksonville Beach Police Department, the Jacksonville Sheriffs Office, the Florida Office of Financial Regulation, the United States Marshals Service, and the National Futures Association. CFTC Division of Enforcement staff members responsible for this action are Jonah McCarthy, Patricia Gomersall, Dmitriy Vilenskiy, Jonathan Robell, John Einstman, and Paul Hayeck. (See Complaint and Asset Freeze Order under Related Links.) * * * * * * * CFTCs Foreign Currency (Forex) Fraud and Commodity Pool Fraud Advisories The CFTC has issued several customer protection Fraud Advisories that provide the warning signs of fraud, including the Foreign Currency Trading (Forex) Fraud Advisory, which states that the CFTC has witnessed a sharp rise in Forex trading scams in recent years and helps customers identify this potential fraud. The CFTC has also issued a Commodity Pool Fraud Advisory, which warns customers about a type of fraud that involves individuals and firms, often unregistered, offering investments in commodity pools. Customers can report suspicious activities or information, such as possible violations of commodity trading laws, to the CFTC Division of Enforcement via a Toll-Free Hotline 866-FON-CFTC (866-366-2382) or file a tip or complaint online. Media Contact Dennis Holden 202-418-5088 Last Updated: January 12, 2015 Release Number 7100-15 January 12, 2015 Federal Court in Florida Enters Order Freezing Assets in CFTC Foreign Currency Anti- Fraud Action against Allied Markets LLC and its Principals Joshua Gilliland and Chawalit Wongkhiao CFTC Charges Jacksonville, Florida, Defendants with Operating a Fraudulent Forex Pool and Misappropriating Customer Funds to Pay Personal Expenses Washington, DC The U.S. Commodity Futures Trading Commission (CFTC) today announced that it filed a civil enforcement Complaint in the U.S. District Court for the Middle District of Florida, charging Defendants Allied Markets LLC, and its principals Joshua Gilliland and Chawalit Wongkhiao, all of Jacksonville, Florida, with operating a fraudulent foreign currency (forex) commodity pool in violation of the Commodity Exchange Act (CEA) and CFTC Regulations. In addition, none of the Defendants has ever been registered with the CFTC, as required. On January 7, 2015, the day after the CFTC Complaint was filed under seal, U.S. District Judge Marcia Morales Howard issued an emergency Order freezing and preserving assets under the Defendants control and prohibiting them from destroying documents or denying CFTC staff access to their books and records. The Court has scheduled a hearing for January 21, 2015, on the CFTCs motion for a preliminary injunction. The CFTC Complaint charges that, as early as January 2012, the Defendants fraudulently solicited more than $1 million from members of the public to trade forex in a commodity pool. As alleged, Defendants Gilliland and Wongkhiao misappropriated funds to pay their personal expenses. For example, instead of trading forex as promised, they allegedly withdrew approximately $850,000 in pool participant funds from the Allied Markets forex account, spending more than $64,000 of the stolen funds on restaurants and entertainment; approximately $33,000 on travel, hotels and rental cars; and approximately $66,000 on rent for their residence in Jacksonville Beach, Florida. They also transferred at least $83,200 to their personal bank accounts and withdrew approximately $139,000 in cash from automated teller machines and at bank branches, the Complaint charges. Defendants also used pool participant funds to pay purported trading profits and supposedly returned pool participants principal in the manner of a Ponzi scheme, according to the Complaint. Specifically, according to the Complaint, the Defendants solicited members of the public to send them money for forex trading by fraudulently guaranteeing specific trading returns and by making material misrepresentations regarding their trading expertise and results, including that Defendants forex trading was generating large profits. In its continuing litigation, the CFTC seeks full restitution to defrauded pool participants, disgorgement of any ill-gotten gains, a civil monetary penalty, permanent registration and trading bans, and a permanent injunction against future violations of the CEA and CFTC Regulations, as charged. The CFTC appreciates the assistance of the Jacksonville Beach Police Department, the Jacksonville Sheriffs Office, the Florida Office of Financial Regulation, the United States Marshals Service, and the National Futures Association. CFTC Division of Enforcement staff members responsible for this action are Jonah McCarthy, Patricia Gomersall, Dmitriy Vilenskiy, Jonathan Robell, John Einstman, and Paul Hayeck. (See Complaint and Asset Freeze Order under Related Links.) * * * * * * * CFTCs Foreign Currency (Forex) Fraud and Commodity Pool Fraud Advisories The CFTC has issued several customer protection Fraud Advisories that provide the warning signs of fraud, including the Foreign Currency Trading (Forex) Fraud Advisory, which states that the CFTC has witnessed a sharp rise in Forex trading scams in recent years and helps customers identify this potential fraud. The CFTC has also issued a Commodity Pool Fraud Advisory, which warns customers about a type of fraud that involves individuals and firms, often unregistered, offering investments in commodity pools. Customers can report suspicious activities or information, such as possible violations of commodity trading laws, to the CFTC Division of Enforcement via a Toll-Free Hotline 866-FON-CFTC (866-366-2382) or file a tip or complaint online. Media Contact Dennis Holden 202-418-5088 Last Updated: January 12, 2015 Release Number 7100-15 January 12, 2015 Federal Court in Florida Enters Order Freezing Assets in CFTC Foreign Currency Anti- Fraud Action against Allied Markets LLC and its Principals Joshua Gilliland and Chawalit Wongkhiao CFTC Charges Jacksonville, Florida, Defendants with Operating a Fraudulent Forex Pool and Misappropriating Customer Funds to Pay Personal Expenses Washington, DC The U.S. Commodity Futures Trading Commission (CFTC) today announced that it filed a civil enforcement Complaint in the U.S. District Court for the Middle District of Florida, charging Defendants Allied Markets LLC, and its principals Joshua Gilliland and Chawalit Wongkhiao, all of Jacksonville, Florida, with operating a fraudulent foreign currency (forex) commodity pool in violation of the Commodity Exchange Act (CEA) and CFTC Regulations. In addition, none of the Defendants has ever been registered with the CFTC, as required. On January 7, 2015, the day after the CFTC Complaint was filed under seal, U.S. District Judge Marcia Morales Howard issued an emergency Order freezing and preserving assets under the Defendants control and prohibiting them from destroying documents or denying CFTC staff access to their books and records. The Court has scheduled a hearing for January 21, 2015, on the CFTCs motion for a preliminary injunction. The CFTC Complaint charges that, as early as January 2012, the Defendants fraudulently solicited more than $1 million from members of the public to trade forex in a commodity pool. As alleged, Defendants Gilliland and Wongkhiao misappropriated funds to pay their personal expenses. For example, instead of trading forex as promised, they allegedly withdrew approximately $850,000 in pool participant funds from the Allied Markets forex account, spending more than $64,000 of the stolen funds on restaurants and entertainment; approximately $33,000 on travel, hotels and rental cars; and approximately $66,000 on rent for their residence in Jacksonville Beach, Florida. They also transferred at least $83,200 to their personal bank accounts and withdrew approximately $139,000 in cash from automated teller machines and at bank branches, the Complaint charges. Defendants also used pool participant funds to pay purported trading profits and supposedly returned pool participants principal in the manner of a Ponzi scheme, according to the Complaint. Specifically, according to the Complaint, the Defendants solicited members of the public to send them money for forex trading by fraudulently guaranteeing specific trading returns and by making material misrepresentations regarding their trading expertise and results, including that Defendants forex trading was generating large profits. In its continuing litigation, the CFTC seeks full restitution to defrauded pool participants, disgorgement of any ill-gotten gains, a civil monetary penalty, permanent registration and trading bans, and a permanent injunction against future violations of the CEA and CFTC Regulations, as charged. The CFTC appreciates the assistance of the Jacksonville Beach Police Department, the Jacksonville Sheriffs Office, the Florida Office of Financial Regulation, the United States Marshals Service, and the National Futures Association. CFTC Division of Enforcement staff members responsible for this action are Jonah McCarthy, Patricia Gomersall, Dmitriy Vilenskiy, Jonathan Robell, John Einstman, and Paul Hayeck. (See Complaint and Asset Freeze Order under Related Links.) * * * * * * * CFTCs Foreign Currency (Forex) Fraud and Commodity Pool Fraud Advisories The CFTC has issued several customer protection Fraud Advisories that provide the warning signs of fraud, including the Foreign Currency Trading (Forex) Fraud Advisory, which states that the CFTC has witnessed a sharp rise in Forex trading scams in recent years and helps customers identify this potential fraud. The CFTC has also issued a Commodity Pool Fraud Advisory, which warns customers about a type of fraud that involves individuals and firms, often unregistered, offering investments in commodity pools. Customers can report suspicious activities or information, such as possible violations of commodity trading laws, to the CFTC Division of Enforcement via a Toll-Free Hotline 866-FON-CFTC (866-366-2382) or file a tip or complaint online. Media Contact Dennis Holden 202-418-5088 Last Updated: January 12, 2015'"
      ]
     },
     "execution_count": 175,
     "metadata": {},
     "output_type": "execute_result"
    }
   ],
   "source": [
    "cleaned_text"
   ]
  },
  {
   "cell_type": "code",
   "execution_count": null,
   "metadata": {},
   "outputs": [],
   "source": [
    "\n",
    "    "
   ]
  },
  {
   "cell_type": "code",
   "execution_count": 176,
   "metadata": {},
   "outputs": [],
   "source": [
    "def is_section_num(text):\n",
    "    \n",
    "    return re.search(r'^[MDCLXVIAB]+\\.$',text) is not None\n"
   ]
  },
  {
   "cell_type": "code",
   "execution_count": 177,
   "metadata": {},
   "outputs": [
    {
     "data": {
      "text/plain": [
       "False"
      ]
     },
     "execution_count": 177,
     "metadata": {},
     "output_type": "execute_result"
    }
   ],
   "source": [
    " is_section_num(doc)"
   ]
  },
  {
   "cell_type": "code",
   "execution_count": 178,
   "metadata": {},
   "outputs": [
    {
     "ename": "TypeError",
     "evalue": "sentence_score() missing 1 required positional argument: 'word_frequencies'",
     "output_type": "error",
     "traceback": [
      "\u001b[0;31m---------------------------------------------------------------------------\u001b[0m",
      "\u001b[0;31mTypeError\u001b[0m                                 Traceback (most recent call last)",
      "\u001b[0;32m<ipython-input-178-c5a66a78f62f>\u001b[0m in \u001b[0;36m<module>\u001b[0;34m()\u001b[0m\n\u001b[0;32m----> 1\u001b[0;31m \u001b[0msentence_scores\u001b[0m\u001b[0;34m=\u001b[0m\u001b[0msentence_score\u001b[0m\u001b[0;34m(\u001b[0m\u001b[0mcleaned_text\u001b[0m\u001b[0;34m)\u001b[0m\u001b[0;34m\u001b[0m\u001b[0;34m\u001b[0m\u001b[0m\n\u001b[0m",
      "\u001b[0;31mTypeError\u001b[0m: sentence_score() missing 1 required positional argument: 'word_frequencies'"
     ]
    }
   ],
   "source": [
    "sentence_scores=sentence_score(cleaned_text)"
   ]
  },
  {
   "cell_type": "code",
   "execution_count": 179,
   "metadata": {},
   "outputs": [],
   "source": [
    "def ends_with_ponc(text):\n",
    "    return text[-1] in punctuation if text else False \n",
    "#ends_with_ponc(\"Propex engaged in sanctions.\")"
   ]
  },
  {
   "cell_type": "code",
   "execution_count": 180,
   "metadata": {},
   "outputs": [
    {
     "data": {
      "text/plain": [
       "True"
      ]
     },
     "execution_count": 180,
     "metadata": {},
     "output_type": "execute_result"
    }
   ],
   "source": [
    "def start_with_upper(text):\n",
    "    return re.match('^[A-Z]', text) is not None\n",
    "start_with_upper(\"Fsfsd.\")"
   ]
  },
  {
   "cell_type": "code",
   "execution_count": 181,
   "metadata": {},
   "outputs": [
    {
     "data": {
      "text/plain": [
       "True"
      ]
     },
     "execution_count": 181,
     "metadata": {},
     "output_type": "execute_result"
    }
   ],
   "source": [
    "def is_title(text):\n",
    "    uppers = [word.isupper() for word in text.split(\" \")]\n",
    "    return sum(uppers) / len(uppers) > 0.6\n",
    "is_title(\"UNITED STATES OF AMERICA Before the COMMODITY FUTURES TRADING COMMISSION\")"
   ]
  },
  {
   "cell_type": "code",
   "execution_count": 182,
   "metadata": {},
   "outputs": [],
   "source": [
    "import nltk\n",
    "from nltk.tokenize import sent_tokenize\n",
    "t = sent_tokenize(\"Three days later, the SEC  filed a federal injunctive action against Sentinel, SEC v.  Sentinel,  et al., No.  07 CV 4684 (N.D. Ill. filed Aug. 20, 2007), and on April 28, 2008, the CFTC filed a Complaint against Sentinel, Bloom and Sentinel's Senior Vice President and head trader, Charles K. Mosley, seeking injunctive and other equitable relief, as well as the imposition of civil penalties, for violating various provisions of the Act and Commission Regulations.\")"
   ]
  },
  {
   "cell_type": "code",
   "execution_count": 98,
   "metadata": {},
   "outputs": [],
   "source": [
    "def same_sentence(sent1, sent2):\n",
    "    #print(sent1,\"\\n\",sent2)\n",
    "    \n",
    "    # sent empty\n",
    "    if (not sent1) or (not sent1['text']) :\n",
    "        return True\n",
    "    # section number\n",
    "    if sent1['is_section_num']:\n",
    "        return True\n",
    "    \n",
    "    # very short sentence\n",
    "    if len(sent1['text']) < 50:\n",
    "        return False\n",
    "    \n",
    "    # ponctuation\n",
    "    if sent1['ends_with_ponc']:\n",
    "        return False\n",
    "    \n",
    "    if sent1['is_title']:\n",
    "        return False\n",
    "\n",
    "    if sent2['is_title']:\n",
    "        return False\n",
    "    \n",
    "    return True"
   ]
  },
  {
   "cell_type": "code",
   "execution_count": null,
   "metadata": {},
   "outputs": [],
   "source": [
    "punctuation=['.','?','!']"
   ]
  },
  {
   "cell_type": "code",
   "execution_count": 147,
   "metadata": {},
   "outputs": [],
   "source": [
    "def clean_doc(file_text):\n",
    "    pages=[]\n",
    "    for page in file_text.split(\"\\x0c\"):\n",
    "        # clen text\n",
    "        page_meta = [{'text': clean(para)} \n",
    "                            for para in page.split('\\n')]\n",
    "        clean_page = []\n",
    "        previous_line = {}\n",
    "        text= \"\"\n",
    "        # add meta data\n",
    "        for line in page_meta:\n",
    "            line['is_section_num'] = is_section_num(str(line['text']))\n",
    "            line['is_title'] = is_title(str(line['text']))\n",
    "            line['ends_with_ponc'] = ends_with_ponc(str(line['text']))\n",
    "            line['is_alpha'] = sum(c.isalpha() for c in str(line['text']))\n",
    "            line['start_with_upper']  = start_with_upper(str(line['text']))\n",
    "                                \n",
    "            # not relevant line\n",
    "            if not line['is_alpha']:\n",
    "                continue\n",
    "            \n",
    "            if not same_sentence(previous_line, line):\n",
    "                if text:\n",
    "                    clean_page.append(text)\n",
    "                    text = \"\"\n",
    "                \n",
    "            previous_line = line\n",
    "            text = \" \".join([text, str(line['text'])])\n",
    "        if len(clean_page):\n",
    "            pages.append(clean_page)\n",
    "    return pages"
   ]
  },
  {
   "cell_type": "code",
   "execution_count": 250,
   "metadata": {},
   "outputs": [],
   "source": [
    "def get_structured_document(file):\n",
    "    text_structured=[]\n",
    "    file_cleaned=clean_doc(file)\n",
    "    i=0\n",
    "    for pages in file_cleaned:\n",
    "        text_={}\n",
    "        text_['content']=pages\n",
    "        text_['id']=i\n",
    "        if is_title(pages[0]):\n",
    "            text_['header']=pages[0]\n",
    "            \n",
    "        text_structured.append(text_)\n",
    "        i+=1\n",
    "                \n",
    "    return text_section        \n",
    "            "
   ]
  },
  {
   "cell_type": "code",
   "execution_count": 251,
   "metadata": {},
   "outputs": [],
   "source": [
    "section=get_structured_document(file)\n"
   ]
  },
  {
   "cell_type": "code",
   "execution_count": 31,
   "metadata": {},
   "outputs": [],
   "source": [
    "\n",
    "def word_frequency(text):\n",
    "    word_frequencies = {}\n",
    "    for word in nltk.word_tokenize(text):\n",
    "        if word not in stopwords:\n",
    "            if word not in word_frequencies.keys():\n",
    "                word_frequencies[word] = 1\n",
    "            else:\n",
    "                word_frequencies[word] += 1\n",
    "    return word_frequencies"
   ]
  },
  {
   "cell_type": "code",
   "execution_count": 32,
   "metadata": {},
   "outputs": [],
   "source": [
    "def sentence_score(sentence_list,word_frequencies):\n",
    "    sentence_scores = {}\n",
    "    for sent in sentence_list:\n",
    "        for word in nltk.word_tokenize(sent.lower()):\n",
    "            if word in word_frequencies.keys():\n",
    "                if len(sent.split(' ')) < 30:\n",
    "                    if sent not in sentence_scores.keys():\n",
    "                        sentence_scores[sent] = word_frequencies[word]\n",
    "                    else:\n",
    "                        sentence_scores[sent] += word_frequencies[word]\n",
    "    return sentence_scores\n"
   ]
  },
  {
   "cell_type": "code",
   "execution_count": 33,
   "metadata": {},
   "outputs": [],
   "source": [
    "import heapq\n",
    "def summary(sentence_scores):\n",
    "    summary_sentences = heapq.nlargest(10, sentence_scores, key=sentence_scores.get)\n",
    "\n",
    "    \n",
    "    return summary"
   ]
  },
  {
   "cell_type": "code",
   "execution_count": null,
   "metadata": {},
   "outputs": [],
   "source": [
    "text_path = \"./7100-15/cftc_text_7100-15_order-allied-markets-llc-et-al.txt\"\n",
    "with open(text_path) as f:\n",
    "    file = f.read()\n",
    "article_text, formatted_article_text=clean(file)\n",
    "\n",
    "sentence_list = nltk.sent_tokenize(article_text)\n",
    "word_frequencies=word_frequency(formatted_article_text)\n",
    "stopwords = nltk.corpus.stopwords.words('english')\n",
    "\n",
    "maximum_frequncy = max(word_frequencies.values())\n",
    "\n",
    "for word in word_frequencies.keys():\n",
    "    word_frequencies[word] = (word_frequencies[word]/maximum_frequncy)\n",
    "    \n",
    "sentence_scores = sentence_score(sentence_list, word_frequencies)\n",
    "    \n",
    "summary(sentence_scores)\n",
    "\n"
   ]
  },
  {
   "cell_type": "markdown",
   "metadata": {},
   "source": [
    "##  Training textsplit model using word vector"
   ]
  },
  {
   "cell_type": "code",
   "execution_count": 192,
   "metadata": {},
   "outputs": [],
   "source": [
    "import textsplit"
   ]
  },
  {
   "cell_type": "code",
   "execution_count": 274,
   "metadata": {},
   "outputs": [],
   "source": [
    "import os\n",
    "import word2vec\n",
    "import pandas as pd\n",
    "import numpy as np\n",
    "from sklearn.feature_extraction.text import CountVectorizer\n",
    "from textsplit.tools import SimpleSentenceTokenizer\n",
    "from textsplit.tools import get_penalty, get_segments\n",
    "from textsplit.algorithm import split_optimal, split_greedy, get_total\n",
    "%matplotlib inline\n"
   ]
  },
  {
   "cell_type": "code",
   "execution_count": 275,
   "metadata": {
    "scrolled": true
   },
   "outputs": [],
   "source": [
    "corpus_path = './text8'  # be sure your corpus is cleaned from punctuation and lowercased\n",
    "if not os.path.exists(corpus_path):\n",
    "    !wget http://mattmahoney.net/dc/text8.zip\n",
    "    !unzip {corpus_path}"
   ]
  },
  {
   "cell_type": "code",
   "execution_count": 276,
   "metadata": {},
   "outputs": [],
   "source": [
    "links = './7100-15/cftc_text_7100-15_order-allied-markets-llc-et-al.txt'"
   ]
  },
  {
   "cell_type": "code",
   "execution_count": null,
   "metadata": {},
   "outputs": [],
   "source": [
    "wrdvec_path = 'wrdvecs.bin'\n",
    "if not os.path.exists(wrdvec_path):\n",
    "    %time word2vec.word2vec(corpus_path, wrdvec_path, cbow=1, iter_=5, hs=1, threads=8, sample='1e-5', window=15, size=200, binary=1)"
   ]
  },
  {
   "cell_type": "code",
   "execution_count": 57,
   "metadata": {},
   "outputs": [
    {
     "data": {
      "text/plain": [
       "True"
      ]
     },
     "execution_count": 57,
     "metadata": {},
     "output_type": "execute_result"
    }
   ],
   "source": [
    "model = word2vec.load(wrdvec_path)\n",
    "wrdvecs = pd.DataFrame(model.vectors, index=model.vocab)\n",
    "del model\n",
    "print(wrdvecs.shape)"
   ]
  },
  {
   "cell_type": "code",
   "execution_count": 58,
   "metadata": {},
   "outputs": [],
   "source": [
    "sentence_tokenizer = SimpleSentenceTokenizer()\n"
   ]
  },
  {
   "cell_type": "code",
   "execution_count": 59,
   "metadata": {},
   "outputs": [],
   "source": [
    "link = links\n",
    "segment_len = 30  # segment target length in sentences\n",
    "book_path = os.path.basename(link)\n",
    "\n",
    "with open(book_path, 'rt') as f:\n",
    "    text = f.read()  #.replace('\\n', ' ')  # punkt tokenizer handles newlines not so nice\n",
    "\n",
    "sentenced_text = sentence_tokenizer(text)\n",
    "vecr = CountVectorizer(vocabulary=wrdvecs.index)\n",
    "\n",
    "sentence_vectors = vecr.transform(sentenced_text).dot(wrdvecs)\n",
    "\n",
    "penalty = get_penalty([sentence_vectors], segment_len)\n",
    "print('penalty %4.2f' % penalty)\n",
    "\n",
    "optimal_segmentation = split_optimal(sentence_vectors, penalty, seg_limit=250)\n",
    "segmented_text = get_segments(sentenced_text, optimal_segmentation)\n",
    "\n",
    "print('%d sentences, %d segments, avg %4.2f sentences per segment' % (\n",
    "    len(sentenced_text), len(segmented_text), len(sentenced_text) / len(segmented_text)))\n",
    "\n",
    "with open(book_path + '.seg', 'wt') as f:\n",
    "    for i, segment_sentences in enumerate(segmented_text):\n",
    "        segment_str = ' // '.join(segment_sentences)\n",
    "        gain = optimal_segmentation.gains[i] if i < len(segmented_text) - 1 else 0\n",
    "        segment_info = ' [%d sentences, %4.3f] ' % (len(segment_sentences), gain) \n",
    "        print(segment_str + '\\n8<' + '=' * 30 + segment_info + \"=\" * 30, file=f)\n",
    "\n",
    "greedy_segmentation = split_greedy(sentence_vectors, max_splits=len(optimal_segmentation.splits))\n",
    "greedy_segmented_text = get_segments(sentenced_text, greedy_segmentation)\n",
    "lengths_optimal = [len(segment) for segment in segmented_text for sentence in segment]\n",
    "lengths_greedy = [len(segment) for segment in greedy_segmented_text for sentence in segment]\n",
    "df = pd.DataFrame({'greedy':lengths_greedy, 'optimal': lengths_optimal})\n",
    "df.plot.line(figsize=(18, 3), title='Segment lenghts over text')\n",
    "df.plot.hist(bins=30, alpha=0.5, figsize=(10, 3), title='Histogram of segment lengths')\n",
    "\n",
    "totals = [get_total(sentence_vectors, seg.splits, penalty) \n",
    "          for seg in [optimal_segmentation, greedy_segmentation]]\n",
    "print('optimal score %4.2f, greedy score %4.2f' % tuple(totals))\n",
    "print('ratio of scores %5.4f' % (totals[0] / totals[1]))"
   ]
  },
  {
   "cell_type": "code",
   "execution_count": 60,
   "metadata": {},
   "outputs": [],
   "source": []
  },
  {
   "cell_type": "markdown",
   "metadata": {},
   "source": [
    "## No case/docket"
   ]
  },
  {
   "cell_type": "code",
   "execution_count": 61,
   "metadata": {
    "scrolled": true
   },
   "outputs": [
    {
     "data": {
      "text/plain": [
       "[' There is good cause to believe that Defendant Allied Markets LLC (\"Allied Markets\"), by and through its agents, principals and control persons, Defendants Joshua Gilliland and Chawalit Wongkhiao have engaged in, are engaging in, and may continue to engage in violations of Sections 2(c)(2)(C)(iii)(I)(cc), 4b(a)(2)(A) and (C), 4k(2), 4m(l), and 4o(l) of the CEA, 7 U.S.C. 2(c)(2)(C)(iii)(I)(cc), 6b(a)(2)(A), (C), 6k(2), 6m(l), 60(1) (2012); and CFTC Regulations 3. 12, 4.20(a)-(c), 4.4l(a), 5.2(b)(l) and (3), 5.3(a)(2)(i), and 5.3(a)(2)(ii), 17 C.F.R. 3.12, 4.20(a)-(c), 4.4l(a), 5.2(b)(l), (3), 5.3(a)(2)(i), (ii) (2014).']"
      ]
     },
     "execution_count": 61,
     "metadata": {},
     "output_type": "execute_result"
    }
   ],
   "source": [
    "clean_page = clean_doc(file)\n",
    "clean_page[1][2:4]"
   ]
  },
  {
   "cell_type": "code",
   "execution_count": 1,
   "metadata": {},
   "outputs": [],
   "source": [
    "def get_case(first_page):\n",
    "    for line in first_page:\n",
    "        if len(line) < 40:\n",
    "            p = re.compile(\"NO[\\.:]\\s*.+\")\n",
    "            result = p.search(line.upper())\n",
    "            if result:\n",
    "                return result.group(0).strip()\n",
    "            \n",
    "    for line in first_page:   \n",
    "        if len(line) < 40:    \n",
    "            p = re.compile(\"\\d*-?CV-\\d+.*\")\n",
    "            result = p.search(line.upper())\n",
    "            if result:\n",
    "                return result.group(0).strip()"
   ]
  },
  {
   "cell_type": "code",
   "execution_count": 63,
   "metadata": {},
   "outputs": [],
   "source": [
    "get_case(clean_page[1])"
   ]
  },
  {
   "cell_type": "code",
   "execution_count": 2,
   "metadata": {},
   "outputs": [
    {
     "ename": "NameError",
     "evalue": "name 're' is not defined",
     "output_type": "error",
     "traceback": [
      "\u001b[0;31m---------------------------------------------------------------------------\u001b[0m",
      "\u001b[0;31mNameError\u001b[0m                                 Traceback (most recent call last)",
      "\u001b[0;32m<ipython-input-2-a0644c8f5b1a>\u001b[0m in \u001b[0;36m<module>\u001b[0;34m\u001b[0m\n\u001b[0;32m----> 1\u001b[0;31m \u001b[0mget_case\u001b[0m\u001b[0;34m(\u001b[0m\u001b[0;34m[\u001b[0m\u001b[0;34m' CFTC Docket No. SD 20-01'\u001b[0m\u001b[0;34m]\u001b[0m\u001b[0;34m)\u001b[0m\u001b[0;34m\u001b[0m\u001b[0;34m\u001b[0m\u001b[0m\n\u001b[0m",
      "\u001b[0;32m<ipython-input-1-d16087828628>\u001b[0m in \u001b[0;36mget_case\u001b[0;34m(first_page)\u001b[0m\n\u001b[1;32m      2\u001b[0m     \u001b[0;32mfor\u001b[0m \u001b[0mline\u001b[0m \u001b[0;32min\u001b[0m \u001b[0mfirst_page\u001b[0m\u001b[0;34m:\u001b[0m\u001b[0;34m\u001b[0m\u001b[0;34m\u001b[0m\u001b[0m\n\u001b[1;32m      3\u001b[0m         \u001b[0;32mif\u001b[0m \u001b[0mlen\u001b[0m\u001b[0;34m(\u001b[0m\u001b[0mline\u001b[0m\u001b[0;34m)\u001b[0m \u001b[0;34m<\u001b[0m \u001b[0;36m40\u001b[0m\u001b[0;34m:\u001b[0m\u001b[0;34m\u001b[0m\u001b[0;34m\u001b[0m\u001b[0m\n\u001b[0;32m----> 4\u001b[0;31m             \u001b[0mp\u001b[0m \u001b[0;34m=\u001b[0m \u001b[0mre\u001b[0m\u001b[0;34m.\u001b[0m\u001b[0mcompile\u001b[0m\u001b[0;34m(\u001b[0m\u001b[0;34m\"NO[\\.:]\\s*.+\"\u001b[0m\u001b[0;34m)\u001b[0m\u001b[0;34m\u001b[0m\u001b[0;34m\u001b[0m\u001b[0m\n\u001b[0m\u001b[1;32m      5\u001b[0m             \u001b[0mresult\u001b[0m \u001b[0;34m=\u001b[0m \u001b[0mp\u001b[0m\u001b[0;34m.\u001b[0m\u001b[0msearch\u001b[0m\u001b[0;34m(\u001b[0m\u001b[0mline\u001b[0m\u001b[0;34m.\u001b[0m\u001b[0mupper\u001b[0m\u001b[0;34m(\u001b[0m\u001b[0;34m)\u001b[0m\u001b[0;34m)\u001b[0m\u001b[0;34m\u001b[0m\u001b[0;34m\u001b[0m\u001b[0m\n\u001b[1;32m      6\u001b[0m             \u001b[0;32mif\u001b[0m \u001b[0mresult\u001b[0m\u001b[0;34m:\u001b[0m\u001b[0;34m\u001b[0m\u001b[0;34m\u001b[0m\u001b[0m\n",
      "\u001b[0;31mNameError\u001b[0m: name 're' is not defined"
     ]
    }
   ],
   "source": [
    "get_case([' CFTC Docket No. SD 20-01'])"
   ]
  },
  {
   "cell_type": "markdown",
   "metadata": {},
   "source": [
    "## Defendant"
   ]
  },
  {
   "cell_type": "code",
   "execution_count": 50,
   "metadata": {
    "scrolled": true
   },
   "outputs": [
    {
     "name": "stdout",
     "output_type": "stream",
     "text": [
      "WARNING: pip is being invoked by an old script wrapper. This will fail in a future version of pip.\n",
      "Please see https://github.com/pypa/pip/issues/5599 for advice on fixing the underlying issue.\n",
      "To avoid this problem you can invoke Python with '-m pip' instead of running pip directly.\n",
      "\u001b[33mWARNING: Value for scheme.platlib does not match. Please report this to <https://github.com/pypa/pip/issues/9617>\n",
      "distutils: /usr/local/lib/python3.7/dist-packages\n",
      "sysconfig: /usr/lib/python3.7/site-packages\u001b[0m\n",
      "\u001b[33mWARNING: Value for scheme.purelib does not match. Please report this to <https://github.com/pypa/pip/issues/9617>\n",
      "distutils: /usr/local/lib/python3.7/dist-packages\n",
      "sysconfig: /usr/lib/python3.7/site-packages\u001b[0m\n",
      "\u001b[33mWARNING: Value for scheme.headers does not match. Please report this to <https://github.com/pypa/pip/issues/9617>\n",
      "distutils: /usr/local/include/python3.7/UNKNOWN\n",
      "sysconfig: /usr/include/python3.7m\u001b[0m\n",
      "\u001b[33mWARNING: Value for scheme.scripts does not match. Please report this to <https://github.com/pypa/pip/issues/9617>\n",
      "distutils: /usr/local/bin\n",
      "sysconfig: /usr/bin\u001b[0m\n",
      "\u001b[33mWARNING: Value for scheme.data does not match. Please report this to <https://github.com/pypa/pip/issues/9617>\n",
      "distutils: /usr/local\n",
      "sysconfig: /usr\u001b[0m\n",
      "\u001b[33mWARNING: Additional context:\n",
      "user = False\n",
      "home = None\n",
      "root = None\n",
      "prefix = None\u001b[0m\n",
      "Defaulting to user installation because normal site-packages is not writeable\n",
      "Requirement already satisfied: spacy in /home/aimsg/.local/lib/python3.7/site-packages (3.0.6)\n",
      "Requirement already satisfied: blis<0.8.0,>=0.4.0 in /home/aimsg/.local/lib/python3.7/site-packages (from spacy) (0.7.4)\n",
      "Requirement already satisfied: pathy>=0.3.5 in /home/aimsg/.local/lib/python3.7/site-packages (from spacy) (0.5.2)\n",
      "Requirement already satisfied: catalogue<2.1.0,>=2.0.3 in /home/aimsg/.local/lib/python3.7/site-packages (from spacy) (2.0.3)\n",
      "Requirement already satisfied: thinc<8.1.0,>=8.0.3 in /home/aimsg/.local/lib/python3.7/site-packages (from spacy) (8.0.3)\n",
      "Requirement already satisfied: spacy-legacy<3.1.0,>=3.0.4 in /home/aimsg/.local/lib/python3.7/site-packages (from spacy) (3.0.5)\n",
      "Requirement already satisfied: jinja2 in /usr/lib/python3/dist-packages (from spacy) (2.10)\n",
      "Requirement already satisfied: cymem<2.1.0,>=2.0.2 in /home/aimsg/.local/lib/python3.7/site-packages (from spacy) (2.0.5)\n",
      "Requirement already satisfied: tqdm<5.0.0,>=4.38.0 in /home/aimsg/.local/lib/python3.7/site-packages (from spacy) (4.47.0)\n",
      "Requirement already satisfied: requests<3.0.0,>=2.13.0 in /usr/lib/python3/dist-packages (from spacy) (2.21.0)\n",
      "Requirement already satisfied: typing-extensions<4.0.0.0,>=3.7.4 in /home/aimsg/.local/lib/python3.7/site-packages (from spacy) (3.7.4.3)\n",
      "Requirement already satisfied: preshed<3.1.0,>=3.0.2 in /home/aimsg/.local/lib/python3.7/site-packages (from spacy) (3.0.5)\n",
      "Requirement already satisfied: setuptools in /home/aimsg/.local/lib/python3.7/site-packages (from spacy) (56.0.0)\n",
      "Requirement already satisfied: pydantic<1.8.0,>=1.7.1 in /home/aimsg/.local/lib/python3.7/site-packages (from spacy) (1.7.3)\n",
      "Requirement already satisfied: murmurhash<1.1.0,>=0.28.0 in /home/aimsg/.local/lib/python3.7/site-packages (from spacy) (1.0.5)\n",
      "Requirement already satisfied: wasabi<1.1.0,>=0.8.1 in /home/aimsg/.local/lib/python3.7/site-packages (from spacy) (0.8.2)\n",
      "Requirement already satisfied: numpy>=1.15.0 in /home/aimsg/.local/lib/python3.7/site-packages (from spacy) (1.19.2)\n",
      "Requirement already satisfied: srsly<3.0.0,>=2.4.1 in /home/aimsg/.local/lib/python3.7/site-packages (from spacy) (2.4.1)\n",
      "Requirement already satisfied: typer<0.4.0,>=0.3.0 in /home/aimsg/.local/lib/python3.7/site-packages (from spacy) (0.3.2)\n",
      "Requirement already satisfied: packaging>=20.0 in /home/aimsg/.local/lib/python3.7/site-packages (from spacy) (20.9)\n",
      "Requirement already satisfied: zipp>=0.5 in /home/aimsg/.local/lib/python3.7/site-packages (from catalogue<2.1.0,>=2.0.3->spacy) (3.4.0)\n",
      "Requirement already satisfied: pyparsing>=2.0.2 in /usr/lib/python3/dist-packages (from packaging>=20.0->spacy) (2.2.0)\n",
      "Requirement already satisfied: smart-open<4.0.0,>=2.2.0 in /home/aimsg/.local/lib/python3.7/site-packages (from pathy>=0.3.5->spacy) (3.0.0)\n",
      "Requirement already satisfied: click<7.2.0,>=7.1.1 in /home/aimsg/.local/lib/python3.7/site-packages (from typer<0.4.0,>=0.3.0->spacy) (7.1.2)\n",
      "\u001b[33mWARNING: Value for scheme.headers does not match. Please report this to <https://github.com/pypa/pip/issues/9617>\n",
      "distutils: /home/aimsg/.local/include/python3.7m/UNKNOWN\n",
      "sysconfig: /home/aimsg/.local/include/python3.7\u001b[0m\n",
      "\u001b[33mWARNING: Additional context:\n",
      "user = True\n",
      "home = None\n",
      "root = None\n",
      "prefix = None\u001b[0m\n"
     ]
    }
   ],
   "source": [
    "!pip3 install spacy"
   ]
  },
  {
   "cell_type": "code",
   "execution_count": 51,
   "metadata": {},
   "outputs": [
    {
     "name": "stdout",
     "output_type": "stream",
     "text": [
      "/home/aimsg/.local/lib/python3.7/site-packages/tensorflow/python/framework/dtypes.py:516: FutureWarning: Passing (type, 1) or '1type' as a synonym of type is deprecated; in a future version of numpy, it will be understood as (type, (1,)) / '(1,)type'.\n",
      "  _np_qint8 = np.dtype([(\"qint8\", np.int8, 1)])\n",
      "/home/aimsg/.local/lib/python3.7/site-packages/tensorflow/python/framework/dtypes.py:517: FutureWarning: Passing (type, 1) or '1type' as a synonym of type is deprecated; in a future version of numpy, it will be understood as (type, (1,)) / '(1,)type'.\n",
      "  _np_quint8 = np.dtype([(\"quint8\", np.uint8, 1)])\n",
      "/home/aimsg/.local/lib/python3.7/site-packages/tensorflow/python/framework/dtypes.py:518: FutureWarning: Passing (type, 1) or '1type' as a synonym of type is deprecated; in a future version of numpy, it will be understood as (type, (1,)) / '(1,)type'.\n",
      "  _np_qint16 = np.dtype([(\"qint16\", np.int16, 1)])\n",
      "/home/aimsg/.local/lib/python3.7/site-packages/tensorflow/python/framework/dtypes.py:519: FutureWarning: Passing (type, 1) or '1type' as a synonym of type is deprecated; in a future version of numpy, it will be understood as (type, (1,)) / '(1,)type'.\n",
      "  _np_quint16 = np.dtype([(\"quint16\", np.uint16, 1)])\n",
      "/home/aimsg/.local/lib/python3.7/site-packages/tensorflow/python/framework/dtypes.py:520: FutureWarning: Passing (type, 1) or '1type' as a synonym of type is deprecated; in a future version of numpy, it will be understood as (type, (1,)) / '(1,)type'.\n",
      "  _np_qint32 = np.dtype([(\"qint32\", np.int32, 1)])\n",
      "/home/aimsg/.local/lib/python3.7/site-packages/tensorflow/python/framework/dtypes.py:525: FutureWarning: Passing (type, 1) or '1type' as a synonym of type is deprecated; in a future version of numpy, it will be understood as (type, (1,)) / '(1,)type'.\n",
      "  np_resource = np.dtype([(\"resource\", np.ubyte, 1)])\n",
      "/home/aimsg/.local/lib/python3.7/site-packages/tensorboard/compat/tensorflow_stub/dtypes.py:541: FutureWarning: Passing (type, 1) or '1type' as a synonym of type is deprecated; in a future version of numpy, it will be understood as (type, (1,)) / '(1,)type'.\n",
      "  _np_qint8 = np.dtype([(\"qint8\", np.int8, 1)])\n",
      "/home/aimsg/.local/lib/python3.7/site-packages/tensorboard/compat/tensorflow_stub/dtypes.py:542: FutureWarning: Passing (type, 1) or '1type' as a synonym of type is deprecated; in a future version of numpy, it will be understood as (type, (1,)) / '(1,)type'.\n",
      "  _np_quint8 = np.dtype([(\"quint8\", np.uint8, 1)])\n",
      "/home/aimsg/.local/lib/python3.7/site-packages/tensorboard/compat/tensorflow_stub/dtypes.py:543: FutureWarning: Passing (type, 1) or '1type' as a synonym of type is deprecated; in a future version of numpy, it will be understood as (type, (1,)) / '(1,)type'.\n",
      "  _np_qint16 = np.dtype([(\"qint16\", np.int16, 1)])\n",
      "/home/aimsg/.local/lib/python3.7/site-packages/tensorboard/compat/tensorflow_stub/dtypes.py:544: FutureWarning: Passing (type, 1) or '1type' as a synonym of type is deprecated; in a future version of numpy, it will be understood as (type, (1,)) / '(1,)type'.\n",
      "  _np_quint16 = np.dtype([(\"quint16\", np.uint16, 1)])\n",
      "/home/aimsg/.local/lib/python3.7/site-packages/tensorboard/compat/tensorflow_stub/dtypes.py:545: FutureWarning: Passing (type, 1) or '1type' as a synonym of type is deprecated; in a future version of numpy, it will be understood as (type, (1,)) / '(1,)type'.\n",
      "  _np_qint32 = np.dtype([(\"qint32\", np.int32, 1)])\n",
      "/home/aimsg/.local/lib/python3.7/site-packages/tensorboard/compat/tensorflow_stub/dtypes.py:550: FutureWarning: Passing (type, 1) or '1type' as a synonym of type is deprecated; in a future version of numpy, it will be understood as (type, (1,)) / '(1,)type'.\n",
      "  np_resource = np.dtype([(\"resource\", np.ubyte, 1)])\n",
      "\u001b[33mWARNING: Value for scheme.platlib does not match. Please report this to <https://github.com/pypa/pip/issues/9617>\n",
      "distutils: /usr/local/lib/python3.7/dist-packages\n",
      "sysconfig: /usr/lib/python3.7/site-packages\u001b[0m\n",
      "\u001b[33mWARNING: Value for scheme.purelib does not match. Please report this to <https://github.com/pypa/pip/issues/9617>\n",
      "distutils: /usr/local/lib/python3.7/dist-packages\n",
      "sysconfig: /usr/lib/python3.7/site-packages\u001b[0m\n",
      "\u001b[33mWARNING: Value for scheme.headers does not match. Please report this to <https://github.com/pypa/pip/issues/9617>\n",
      "distutils: /usr/local/include/python3.7/UNKNOWN\n",
      "sysconfig: /usr/include/python3.7m\u001b[0m\n",
      "\u001b[33mWARNING: Value for scheme.scripts does not match. Please report this to <https://github.com/pypa/pip/issues/9617>\n",
      "distutils: /usr/local/bin\n",
      "sysconfig: /usr/bin\u001b[0m\n",
      "\u001b[33mWARNING: Value for scheme.data does not match. Please report this to <https://github.com/pypa/pip/issues/9617>\n",
      "distutils: /usr/local\n",
      "sysconfig: /usr\u001b[0m\n",
      "\u001b[33mWARNING: Additional context:\n",
      "user = False\n",
      "home = None\n",
      "root = None\n",
      "prefix = None\u001b[0m\n",
      "Defaulting to user installation because normal site-packages is not writeable\n",
      "Collecting en-core-web-sm==3.0.0\n",
      "  Downloading https://github.com/explosion/spacy-models/releases/download/en_core_web_sm-3.0.0/en_core_web_sm-3.0.0-py3-none-any.whl (13.7 MB)\n",
      "\u001b[K     |                                | 30 kB 2.5 kB/s eta 1:30:48\u001b[31mERROR: Exception:\n",
      "Traceback (most recent call last):\n",
      "  File \"/home/aimsg/.local/lib/python3.7/site-packages/pip/_vendor/urllib3/response.py\", line 438, in _error_catcher\n",
      "    yield\n",
      "  File \"/home/aimsg/.local/lib/python3.7/site-packages/pip/_vendor/urllib3/response.py\", line 519, in read\n",
      "    data = self._fp.read(amt) if not fp_closed else b\"\"\n",
      "  File \"/home/aimsg/.local/lib/python3.7/site-packages/pip/_vendor/cachecontrol/filewrapper.py\", line 62, in read\n",
      "    data = self.__fp.read(amt)\n",
      "  File \"/usr/lib/python3.7/http/client.py\", line 457, in read\n",
      "    n = self.readinto(b)\n",
      "  File \"/usr/lib/python3.7/http/client.py\", line 501, in readinto\n",
      "    n = self.fp.readinto(b)\n",
      "  File \"/usr/lib/python3.7/socket.py\", line 589, in readinto\n",
      "    return self._sock.recv_into(b)\n",
      "  File \"/usr/lib/python3.7/ssl.py\", line 1052, in recv_into\n",
      "    return self.read(nbytes, buffer)\n",
      "  File \"/usr/lib/python3.7/ssl.py\", line 911, in read\n",
      "    return self._sslobj.read(len, buffer)\n",
      "socket.timeout: The read operation timed out\n",
      "\n",
      "During handling of the above exception, another exception occurred:\n",
      "\n",
      "Traceback (most recent call last):\n",
      "  File \"/home/aimsg/.local/lib/python3.7/site-packages/pip/_internal/cli/base_command.py\", line 180, in _main\n",
      "    status = self.run(options, args)\n",
      "  File \"/home/aimsg/.local/lib/python3.7/site-packages/pip/_internal/cli/req_command.py\", line 204, in wrapper\n",
      "    return func(self, options, args)\n",
      "  File \"/home/aimsg/.local/lib/python3.7/site-packages/pip/_internal/commands/install.py\", line 319, in run\n",
      "    reqs, check_supported_wheels=not options.target_dir\n",
      "  File \"/home/aimsg/.local/lib/python3.7/site-packages/pip/_internal/resolution/resolvelib/resolver.py\", line 104, in resolve\n",
      "    req, requested_extras=()\n",
      "  File \"/home/aimsg/.local/lib/python3.7/site-packages/pip/_internal/resolution/resolvelib/factory.py\", line 423, in make_requirement_from_install_req\n",
      "    version=None,\n",
      "  File \"/home/aimsg/.local/lib/python3.7/site-packages/pip/_internal/resolution/resolvelib/factory.py\", line 205, in _make_candidate_from_link\n",
      "    version=version,\n",
      "  File \"/home/aimsg/.local/lib/python3.7/site-packages/pip/_internal/resolution/resolvelib/candidates.py\", line 312, in __init__\n",
      "    version=version,\n",
      "  File \"/home/aimsg/.local/lib/python3.7/site-packages/pip/_internal/resolution/resolvelib/candidates.py\", line 151, in __init__\n",
      "    self.dist = self._prepare()\n",
      "  File \"/home/aimsg/.local/lib/python3.7/site-packages/pip/_internal/resolution/resolvelib/candidates.py\", line 234, in _prepare\n",
      "    dist = self._prepare_distribution()\n",
      "  File \"/home/aimsg/.local/lib/python3.7/site-packages/pip/_internal/resolution/resolvelib/candidates.py\", line 318, in _prepare_distribution\n",
      "    self._ireq, parallel_builds=True\n",
      "  File \"/home/aimsg/.local/lib/python3.7/site-packages/pip/_internal/operations/prepare.py\", line 508, in prepare_linked_requirement\n",
      "    return self._prepare_linked_requirement(req, parallel_builds)\n",
      "  File \"/home/aimsg/.local/lib/python3.7/site-packages/pip/_internal/operations/prepare.py\", line 552, in _prepare_linked_requirement\n",
      "    self.download_dir, hashes\n",
      "  File \"/home/aimsg/.local/lib/python3.7/site-packages/pip/_internal/operations/prepare.py\", line 243, in unpack_url\n",
      "    hashes=hashes,\n",
      "  File \"/home/aimsg/.local/lib/python3.7/site-packages/pip/_internal/operations/prepare.py\", line 102, in get_http_url\n",
      "    from_path, content_type = download(link, temp_dir.path)\n",
      "  File \"/home/aimsg/.local/lib/python3.7/site-packages/pip/_internal/network/download.py\", line 157, in __call__\n",
      "    for chunk in chunks:\n",
      "  File \"/home/aimsg/.local/lib/python3.7/site-packages/pip/_internal/cli/progress_bars.py\", line 152, in iter\n",
      "    for x in it:\n",
      "  File \"/home/aimsg/.local/lib/python3.7/site-packages/pip/_internal/network/utils.py\", line 86, in response_chunks\n",
      "    decode_content=False,\n",
      "  File \"/home/aimsg/.local/lib/python3.7/site-packages/pip/_vendor/urllib3/response.py\", line 576, in stream\n",
      "    data = self.read(amt=amt, decode_content=decode_content)\n",
      "  File \"/home/aimsg/.local/lib/python3.7/site-packages/pip/_vendor/urllib3/response.py\", line 541, in read\n",
      "    raise IncompleteRead(self._fp_bytes_read, self.length_remaining)\n",
      "  File \"/usr/lib/python3.7/contextlib.py\", line 130, in __exit__\n",
      "    self.gen.throw(type, value, traceback)\n",
      "  File \"/home/aimsg/.local/lib/python3.7/site-packages/pip/_vendor/urllib3/response.py\", line 443, in _error_catcher\n",
      "    raise ReadTimeoutError(self._pool, None, \"Read timed out.\")\n",
      "pip._vendor.urllib3.exceptions.ReadTimeoutError: HTTPSConnectionPool(host='github-releases.githubusercontent.com', port=443): Read timed out.\u001b[0m\n"
     ]
    }
   ],
   "source": [
    "!python3 -m spacy download en_core_web_sm\n"
   ]
  },
  {
   "cell_type": "code",
   "execution_count": 65,
   "metadata": {},
   "outputs": [
    {
     "name": "stdout",
     "output_type": "stream",
     "text": [
      " UNITED STATES DISTRICT COURT\n",
      " MIDDLE DISTRICT OF FLORIDA\n",
      " Jacksonville Division\n",
      " v.\n",
      " Case No. 3:15-cv-5-J-34MCR\n",
      " U.S. COMMODITY FUTURES\n",
      " TRADING COMMISSION,\n",
      " Plaintiff,\n",
      " ALLIED MARKETS LLC,\n",
      " JOSHUA GILLILAND, and\n",
      " CHAWALIT WONGKHIAO,\n",
      " Defendants.\n",
      " ORDER GRANTING PLAINTIFF'S EX PARTE\n",
      " MOTION FOR STATUTORY RESTRAINING ORDER AND SCHEDULING\n",
      " PRELIMINARY fNJUNCTION HEARING\n"
     ]
    }
   ],
   "source": [
    "import spacy\n",
    "\n",
    "\n",
    "# Load English tokenizer, tagger, parser and NER\n",
    "nlp = spacy.load(\"en_core_web_sm\")\n",
    "\n",
    "# Process whole documents\n",
    "text = (\"\\n\".join(clean_page[0]))\n",
    "print(text)\n",
    "doc = nlp(text)\n",
    "\n",
    "# Analyze syntax\n",
    "#print(\"Noun phrases:\", [chunk.text for chunk in doc.noun_chunks])\n",
    "#print(\"Verbs:\", [token.lemma_ for token in doc if token.pos_ == \"VERB\"])\n",
    "\n",
    "# Find named entities, phrases and concepts\n",
    "for entity in doc.ents:\n",
    "    if entity.label_ == \"ORG\":\n",
    "        print(entity.text,\":       \", entity.label_)"
   ]
  },
  {
   "cell_type": "code",
   "execution_count": 66,
   "metadata": {},
   "outputs": [
    {
     "name": "stdout",
     "output_type": "stream",
     "text": [
      " UNITED STATES DISTRICT COURT\n",
      " MIDDLE DISTRICT OF FLORIDA\n",
      " Jacksonville Division\n",
      " v.\n",
      " Case No. 3:15-cv-5-J-34MCR\n",
      " U.S. COMMODITY FUTURES\n",
      " TRADING COMMISSION,\n",
      " Plaintiff,\n",
      " ALLIED MARKETS LLC,\n",
      " JOSHUA GILLILAND, and\n",
      " CHAWALIT WONGKHIAO,\n",
      " Defendants.\n",
      " ORDER GRANTING PLAINTIFF'S EX PARTE\n",
      " MOTION FOR STATUTORY RESTRAINING ORDER AND SCHEDULING\n",
      " PRELIMINARY fNJUNCTION HEARING\n"
     ]
    }
   ],
   "source": [
    "print(\"\\n\".join(clean_page[0]))"
   ]
  },
  {
   "cell_type": "code",
   "execution_count": 44,
   "metadata": {},
   "outputs": [],
   "source": [
    "#!pip install transformers\n",
    "#!pip3 install torch torchvision torchaudio\n",
    "#!python -c \"from transformers import pipeline; print(pipeline('sentiment-analysis')('we love you'))\""
   ]
  },
  {
   "cell_type": "code",
   "execution_count": 67,
   "metadata": {},
   "outputs": [],
   "source": [
    "from transformers import pipeline, AutoModelForTokenClassification, AutoTokenizer\n",
    "\n",
    "# Question answering pipeline, specifying the checkpoint identifier\n",
    "nlp = pipeline('question-answering', model='distilbert-base-cased-distilled-squad', tokenizer='distilbert-base-cased')"
   ]
  },
  {
   "cell_type": "code",
   "execution_count": 68,
   "metadata": {},
   "outputs": [],
   "source": [
    "first_page = [text for text in clean_page[0] if len(text) > 5]"
   ]
  },
  {
   "cell_type": "code",
   "execution_count": 69,
   "metadata": {
    "scrolled": true
   },
   "outputs": [
    {
     "data": {
      "text/plain": [
       "[' UNITED STATES DISTRICT COURT',\n",
       " ' MIDDLE DISTRICT OF FLORIDA',\n",
       " ' Jacksonville Division',\n",
       " ' Case No. 3:15-cv-5-J-34MCR',\n",
       " ' U.S. COMMODITY FUTURES',\n",
       " ' TRADING COMMISSION,',\n",
       " ' Plaintiff,',\n",
       " ' ALLIED MARKETS LLC,',\n",
       " ' JOSHUA GILLILAND, and',\n",
       " ' CHAWALIT WONGKHIAO,',\n",
       " ' Defendants.',\n",
       " \" ORDER GRANTING PLAINTIFF'S EX PARTE\",\n",
       " ' MOTION FOR STATUTORY RESTRAINING ORDER AND SCHEDULING',\n",
       " ' PRELIMINARY fNJUNCTION HEARING']"
      ]
     },
     "execution_count": 69,
     "metadata": {},
     "output_type": "execute_result"
    }
   ],
   "source": [
    "first_page"
   ]
  },
  {
   "cell_type": "code",
   "execution_count": 73,
   "metadata": {},
   "outputs": [
    {
     "name": "stderr",
     "output_type": "stream",
     "text": [
      "/home/aimsg/.local/lib/python3.7/site-packages/transformers/tokenization_utils_base.py:1321: FutureWarning: The `max_len` attribute has been deprecated and will be removed in a future version, use `model_max_length` instead.\n",
      "  FutureWarning,\n"
     ]
    },
    {
     "name": "stdout",
     "output_type": "stream",
     "text": [
      "{'score': 0.011641628108918667, 'start': 632, 'end': 642, 'answer': 'Defendants'}\n"
     ]
    }
   ],
   "source": [
    "print(nlp(question=\"Who violeted?\", context=formatted_article_text))"
   ]
  },
  {
   "cell_type": "code",
   "execution_count": 76,
   "metadata": {},
   "outputs": [
    {
     "name": "stderr",
     "output_type": "stream",
     "text": [
      "/home/aimsg/.local/lib/python3.7/site-packages/transformers/tokenization_utils_base.py:1321: FutureWarning: The `max_len` attribute has been deprecated and will be removed in a future version, use `model_max_length` instead.\n",
      "  FutureWarning,\n"
     ]
    },
    {
     "name": "stdout",
     "output_type": "stream",
     "text": [
      "[{'score': 0.5419595241546631, 'start': 14031, 'end': 14047, 'answer': 'Joshua Gilliland'}, {'score': 0.33723416924476624, 'start': 27324, 'end': 27363, 'answer': 'Joshua Gilliland and Chawalit Wongkhiao'}]\n"
     ]
    }
   ],
   "source": [
    "print(nlp(question=\"Who is the defendant?\", context=formatted_article_text, topk=2))"
   ]
  },
  {
   "cell_type": "markdown",
   "metadata": {},
   "source": [
    "# STOP HERE"
   ]
  },
  {
   "cell_type": "code",
   "execution_count": null,
   "metadata": {},
   "outputs": [],
   "source": []
  },
  {
   "cell_type": "code",
   "execution_count": null,
   "metadata": {},
   "outputs": [],
   "source": []
  },
  {
   "cell_type": "code",
   "execution_count": null,
   "metadata": {},
   "outputs": [],
   "source": []
  },
  {
   "cell_type": "code",
   "execution_count": null,
   "metadata": {},
   "outputs": [],
   "source": []
  },
  {
   "cell_type": "code",
   "execution_count": null,
   "metadata": {},
   "outputs": [],
   "source": []
  },
  {
   "cell_type": "code",
   "execution_count": null,
   "metadata": {},
   "outputs": [],
   "source": []
  },
  {
   "cell_type": "code",
   "execution_count": null,
   "metadata": {},
   "outputs": [],
   "source": []
  },
  {
   "cell_type": "markdown",
   "metadata": {},
   "source": [
    "## Extracted authorities"
   ]
  },
  {
   "cell_type": "code",
   "execution_count": null,
   "metadata": {},
   "outputs": [],
   "source": [
    "UNITED STATES DISTRICT COURT\n",
    "FOR THE MIDDLE DISTRICT OF FLORIDA "
   ]
  },
  {
   "cell_type": "markdown",
   "metadata": {},
   "source": [
    "## Code law violation"
   ]
  },
  {
   "cell_type": "code",
   "execution_count": null,
   "metadata": {},
   "outputs": [],
   "source": [
    "violated Section 4c(a)(5)(C) of the Commodity Exchange Act (\"Act\"), 7 U.S.C.\n",
    "§ 6c(a)(5)(C) (2018)."
   ]
  },
  {
   "cell_type": "code",
   "execution_count": null,
   "metadata": {},
   "outputs": [],
   "source": [
    "Section 4c(a)(5) of the Act, 7 U.S.C.\n",
    "§ 6c(a)(5) (2012)."
   ]
  },
  {
   "cell_type": "markdown",
   "metadata": {},
   "source": [
    "## Violation period"
   ]
  },
  {
   "cell_type": "code",
   "execution_count": 428,
   "metadata": {},
   "outputs": [],
   "source": [
    "line = 'The Commodity Futures Trading Commission (\"Commission\") has reason to believe that from at least July 2012 through March 2017 (\"Relevant Period\"), Propex Derivatives Pty Ltd. (\"Propex\") violated Section 4c(a)(5)(C) of the Commodity Exchange Act (\"Act\"), 7 U.S.C. 6c(a)(5)(C) (2018). Therefore, the Commission deems it appropriate and in the public interest that public administrative proceedings be, and hereby are, instituted to determine whether Propex engaged in the violations set forth herein and to determine whether any order should be issued imposing remedial sanctions.'"
   ]
  },
  {
   "cell_type": "code",
   "execution_count": null,
   "metadata": {},
   "outputs": [],
   "source": [
    "(\"Relevant Period\")"
   ]
  },
  {
   "cell_type": "markdown",
   "metadata": {},
   "source": [
    "## Transaction amount"
   ]
  },
  {
   "cell_type": "code",
   "execution_count": null,
   "metadata": {},
   "outputs": [],
   "source": [
    "pour complaint tous les montants vers Transaction amounts"
   ]
  },
  {
   "cell_type": "markdown",
   "metadata": {},
   "source": [
    "## Defendant"
   ]
  },
  {
   "cell_type": "code",
   "execution_count": null,
   "metadata": {},
   "outputs": [],
   "source": [
    "Propex Derivatives Pty Ltd, Respondent."
   ]
  },
  {
   "cell_type": "code",
   "execution_count": 18,
   "metadata": {
    "scrolled": true
   },
   "outputs": [],
   "source": [
    "#!pip install -U spacy\n",
    "#!python -m spacy download en_core_web_sm"
   ]
  },
  {
   "cell_type": "markdown",
   "metadata": {},
   "source": [
    "## Nature of violations"
   ]
  },
  {
   "cell_type": "code",
   "execution_count": null,
   "metadata": {},
   "outputs": [],
   "source": [
    "II. FINDINGS\n",
    "The Commission finds the following:\n",
    "A. SUMMARY\n",
    "During the Relevant Period, Propex, by and through a Propex trader (\"Trader A\"),·\n",
    "engaged in thousands of instances of the disruptive trading practice known as \"spoofing\"\n",
    "(bidding or offering with the intent to cancel the bid or offer before execution) in the E-mini\n",
    "S&P 500 futures contracts traded on the Chicago Mercantile Exchange (\"CME\"), a futures\n",
    "exchange and designated contract market which is owned and operated by CME Group Inc. This\n",
    "conduct violated Section 4c(a)(5)(C) of the Act, 7 U.S.C. § 6c(a)(5)(C) (2018). "
   ]
  },
  {
   "cell_type": "code",
   "execution_count": 66,
   "metadata": {},
   "outputs": [],
   "source": [
    "cftc_full_list = pd.read_excel(\"cftc_full_list.xlsx\")"
   ]
  },
  {
   "cell_type": "code",
   "execution_count": 68,
   "metadata": {},
   "outputs": [],
   "source": [
    "def gen_line_rep(rep):\n",
    "    original_path = f\"./cftc/original/{rep}\"\n",
    "    text_path = f\"./cftc/text/{rep}\"\n",
    "    meta_path = f\"./cftc/meta-data/{rep}\"\n",
    "    lines = []\n",
    "    for file in glob.glob(f\"{meta_path}/*.json\"):\n",
    "        filename = os.path.basename(file)\n",
    "\n",
    "        with open(file) as json_file: \n",
    "            data = json.load(json_file)     \n",
    "\n",
    "        data['filename'] = filename.replace(\".json\",\"\")\n",
    "        data['folder'] = rep\n",
    "        with open(f\"{text_path}/{filename.replace('.json','.txt')}\") as f:\n",
    "            data['doc_text'] = f.read()  \n",
    "\n",
    "\n",
    "        lines.append(data)\n",
    "    return lines"
   ]
  },
  {
   "cell_type": "code",
   "execution_count": 69,
   "metadata": {},
   "outputs": [
    {
     "name": "stdout",
     "output_type": "stream",
     "text": [
      "error on 7882-19\n",
      "error on 8262-20\n",
      "error on 8239-20\n"
     ]
    },
    {
     "data": {
      "text/plain": [
       "756"
      ]
     },
     "execution_count": 69,
     "metadata": {},
     "output_type": "execute_result"
    }
   ],
   "source": [
    "meta_data = []\n",
    "for index, row in cftc_full_list[~cftc_full_list.scraped_folder.isnull()].iterrows():\n",
    "    try:\n",
    "        meta_data.extend(gen_line_rep(row['scraped_folder']))\n",
    "    except:\n",
    "        print(\"error on\",  row['scraped_folder'])\n",
    "len(meta_data)"
   ]
  },
  {
   "cell_type": "code",
   "execution_count": 70,
   "metadata": {},
   "outputs": [],
   "source": [
    "df_meta_data = pd.DataFrame(meta_data)"
   ]
  },
  {
   "cell_type": "code",
   "execution_count": 71,
   "metadata": {},
   "outputs": [],
   "source": [
    "df_meta_data['doc_clean'] = df_meta_data.doc_text.apply(clean_doc)"
   ]
  },
  {
   "cell_type": "code",
   "execution_count": 72,
   "metadata": {},
   "outputs": [],
   "source": [
    "df_meta_data['first_page'] = df_meta_data['doc_clean'].str[0]"
   ]
  },
  {
   "cell_type": "code",
   "execution_count": 73,
   "metadata": {},
   "outputs": [],
   "source": [
    "df_meta_data = df_meta_data[~df_meta_data['first_page'].isnull()]"
   ]
  },
  {
   "cell_type": "markdown",
   "metadata": {},
   "source": [
    "## Get reference"
   ]
  },
  {
   "cell_type": "code",
   "execution_count": 27,
   "metadata": {},
   "outputs": [],
   "source": [
    "df_meta_data['reference'] = df_meta_data.first_page.apply(get_case)"
   ]
  },
  {
   "cell_type": "code",
   "execution_count": null,
   "metadata": {},
   "outputs": [],
   "source": []
  },
  {
   "cell_type": "markdown",
   "metadata": {},
   "source": [
    "## Get defendant"
   ]
  },
  {
   "cell_type": "code",
   "execution_count": 178,
   "metadata": {},
   "outputs": [],
   "source": [
    "first_page = [text for text in df_meta_data.first_page.values[3] if len(text) > 100]"
   ]
  },
  {
   "cell_type": "code",
   "execution_count": 179,
   "metadata": {},
   "outputs": [
    {
     "data": {
      "text/plain": [
       "[' The Commodity Futures Trading Commission (\"Commission\") has reason to believe that from in or about August 2012 to at least January 2015 (the \"Relevant Period\"), Respondents Sharpe Signa, LLC (\"Sharpe\") and Garen Ovsepyan (\"Ovsepyan\") violated Sections 2(c)(2)(C)(iii)(I)(bb), 4b(a)(2)(A) and (C), 4o(l)(A) and (B), and 6(c)(2) of the Act, 7 U.S.C.',\n",
       " ' SSSS 2(c)(2)(C)(iii)(I)(bb), 6b(a)(2)(A) and (C), 6o(l)(A) and (B), and 9(2) (2012), and Commission Regulation (\"Regulation\") 5.3(a)(3)(i), 17 C.F.R. SS 5.3(a)(3)(i) (2014), and Respondent Haeres Capital, LLC (\"Haeres\") and Ovsepyan violated Section 6(c )(2) of the Act, 7 U.S.C. SS 9(2) (2012). Therefore, the Commission deems it appropriate and in the public interest that public administrative proceedings be, and hereby are, instituted to determine whether Respondent(s) engaged in the violations set forth herein and to determine whether any order should be issued imposing remedial sanctions.',\n",
       " ' In anticipation of the institution of an administrative proceeding, Respondents have submitted an Offer of Settlement (\"Offer\"), which the Commission has determined to accept.',\n",
       " ' Without admitting or denying any of the findings or conclusions herein, Respondents consent to the entry of this Order Instituting Proceedings Pursuant to Sections 6( c) and 6(d) of the Commodity Exchange Act, Making Findings and Imposing Remedial Sanctions (\"Order\") and acknowledge service of this Order. 1']"
      ]
     },
     "execution_count": 179,
     "metadata": {},
     "output_type": "execute_result"
    }
   ],
   "source": [
    "first_page"
   ]
  },
  {
   "cell_type": "code",
   "execution_count": 180,
   "metadata": {},
   "outputs": [
    {
     "name": "stdout",
     "output_type": "stream",
     "text": [
      "{'score': 0.1322660595178604, 'start': 175, 'end': 187, 'answer': 'Sharpe Signa'}\n"
     ]
    }
   ],
   "source": [
    "print(nlp(question=\"Who violeted?\", context=\".\".join(first_page)))"
   ]
  },
  {
   "cell_type": "code",
   "execution_count": 181,
   "metadata": {},
   "outputs": [
    {
     "name": "stdout",
     "output_type": "stream",
     "text": [
      "[{'score': 0.009618670679628849, 'start': 208, 'end': 222, 'answer': 'Garen Ovsepyan'}, {'score': 0.0038621597923338413, 'start': 175, 'end': 187, 'answer': 'Sharpe Signa'}, {'score': 0.0027537851128727198, 'start': 175, 'end': 203, 'answer': 'Sharpe Signa, LLC (\"Sharpe\")'}]\n"
     ]
    }
   ],
   "source": [
    "print(nlp(question=\"Who is the defendant?\", context=\".\".join(first_page), topk=3))"
   ]
  },
  {
   "cell_type": "code",
   "execution_count": 141,
   "metadata": {
    "scrolled": false
   },
   "outputs": [],
   "source": [
    "#df_meta_data[['reference', 'folder', 'filename']][df_meta_data.reference.isnull()]"
   ]
  },
  {
   "cell_type": "markdown",
   "metadata": {},
   "source": [
    "## Type"
   ]
  },
  {
   "cell_type": "code",
   "execution_count": 218,
   "metadata": {},
   "outputs": [],
   "source": [
    "df_meta_data['is_order'] = df_meta_data.filename.str.contains(\"order\")"
   ]
  },
  {
   "cell_type": "code",
   "execution_count": 219,
   "metadata": {},
   "outputs": [],
   "source": [
    "df_meta_data['is_complaint'] = df_meta_data.filename.str.contains(\"complaint\")"
   ]
  },
  {
   "cell_type": "code",
   "execution_count": 220,
   "metadata": {},
   "outputs": [],
   "source": [
    "df_meta_data['type'] = np.where(df_meta_data['is_order'], \"Order CFTC\", \n",
    "         np.where(df_meta_data['is_complaint'], \n",
    "                  \"Complaint CFTC\", None))"
   ]
  }
 ],
 "metadata": {
  "kernelspec": {
   "display_name": "Python 3",
   "language": "python",
   "name": "python3"
  },
  "language_info": {
   "codemirror_mode": {
    "name": "ipython",
    "version": 3
   },
   "file_extension": ".py",
   "mimetype": "text/x-python",
   "name": "python",
   "nbconvert_exporter": "python",
   "pygments_lexer": "ipython3",
   "version": "3.7.3"
  }
 },
 "nbformat": 4,
 "nbformat_minor": 4
}
