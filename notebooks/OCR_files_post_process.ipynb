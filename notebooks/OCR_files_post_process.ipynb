{
 "cells": [
  {
   "cell_type": "code",
   "execution_count": 1,
   "metadata": {},
   "outputs": [],
   "source": [
    "import os \n",
    "import re\n",
    "import string\n",
    "from cleantext import clean\n",
    "import requests\n",
    "import json\n",
    "import glob\n",
    "import os\n",
    "import pandas as pd\n",
    "import numpy as np\n",
    "import dateparser"
   ]
  },
  {
   "cell_type": "code",
   "execution_count": 3,
   "metadata": {},
   "outputs": [],
   "source": [
    "#!pip install clean-text\n",
    "#!pip install unidecode"
   ]
  },
  {
   "cell_type": "code",
   "execution_count": 4,
   "metadata": {},
   "outputs": [
    {
     "name": "stdout",
     "output_type": "stream",
     "text": [
      "/home/alex/Desktop/legal_doc_processing/notebooks\n",
      "data/order-vision-financial-markets-llc.txt\n",
      "/home/alex/Desktop/legal_doc_processing/notebooks/data/order-vision-financial-markets-llc.txt\n"
     ]
    },
    {
     "data": {
      "text/plain": [
       "True"
      ]
     },
     "execution_count": 4,
     "metadata": {},
     "output_type": "execute_result"
    }
   ],
   "source": [
    "# root\n",
    "root = os.getcwd()\n",
    "print(root)\n",
    "\n",
    "# file\n",
    "file = \"data/order-vision-financial-markets-llc.txt\"\n",
    "print(file)\n",
    "\n",
    "# text_path\n",
    "text_path = root + \"/\" + file\n",
    "print(text_path)\n",
    "\n",
    "# sanitary check\n",
    "os.path.isfile(text_path)"
   ]
  },
  {
   "cell_type": "code",
   "execution_count": 15,
   "metadata": {},
   "outputs": [
    {
     "ename": "FileNotFoundError",
     "evalue": "[Errno 2] No such file or directory: '/home/alex/Desktop/legal_doc_processing/notebooks/order-vision-financial-markets-llc.txt'",
     "output_type": "error",
     "traceback": [
      "\u001b[0;31m---------------------------------------------------------------------------\u001b[0m",
      "\u001b[0;31mFileNotFoundError\u001b[0m                         Traceback (most recent call last)",
      "\u001b[0;32m<ipython-input-15-432ce064d73d>\u001b[0m in \u001b[0;36m<module>\u001b[0;34m\u001b[0m\n\u001b[0;32m----> 1\u001b[0;31m \u001b[0;32mwith\u001b[0m \u001b[0mopen\u001b[0m\u001b[0;34m(\u001b[0m\u001b[0mtext_path\u001b[0m\u001b[0;34m)\u001b[0m \u001b[0;32mas\u001b[0m \u001b[0mf\u001b[0m\u001b[0;34m:\u001b[0m\u001b[0;34m\u001b[0m\u001b[0;34m\u001b[0m\u001b[0m\n\u001b[0m\u001b[1;32m      2\u001b[0m     \u001b[0mfile\u001b[0m \u001b[0;34m=\u001b[0m \u001b[0mf\u001b[0m\u001b[0;34m.\u001b[0m\u001b[0mread\u001b[0m\u001b[0;34m(\u001b[0m\u001b[0;34m)\u001b[0m\u001b[0;34m\u001b[0m\u001b[0;34m\u001b[0m\u001b[0m\n",
      "\u001b[0;31mFileNotFoundError\u001b[0m: [Errno 2] No such file or directory: '/home/alex/Desktop/legal_doc_processing/notebooks/order-vision-financial-markets-llc.txt'"
     ]
    }
   ],
   "source": [
    "with open(text_path) as f:\n",
    "    file = f.read()  "
   ]
  },
  {
   "cell_type": "code",
   "execution_count": 4,
   "metadata": {
    "scrolled": true
   },
   "outputs": [
    {
     "data": {
      "text/plain": [
       "True"
      ]
     },
     "execution_count": 4,
     "metadata": {},
     "output_type": "execute_result"
    }
   ],
   "source": [
    "def is_section_num(text):\n",
    "    return re.search(r'^[MDCLXVIAB]+\\.$',text) is not None\n",
    "is_section_num(\"IV.\")"
   ]
  },
  {
   "cell_type": "code",
   "execution_count": 6,
   "metadata": {},
   "outputs": [],
   "source": [
    "punctuation = '!.?'"
   ]
  },
  {
   "cell_type": "code",
   "execution_count": 7,
   "metadata": {},
   "outputs": [
    {
     "data": {
      "text/plain": [
       "True"
      ]
     },
     "execution_count": 7,
     "metadata": {},
     "output_type": "execute_result"
    }
   ],
   "source": [
    "def ends_with_ponc(text):\n",
    "    return text[-1] in punctuation if text else False \n",
    "ends_with_ponc(\"Propex engaged in sanctions.\")"
   ]
  },
  {
   "cell_type": "code",
   "execution_count": 8,
   "metadata": {},
   "outputs": [
    {
     "data": {
      "text/plain": [
       "True"
      ]
     },
     "execution_count": 8,
     "metadata": {},
     "output_type": "execute_result"
    }
   ],
   "source": [
    "def start_with_upper(text):\n",
    "    return re.match('^[A-Z]', text) is not None\n",
    "start_with_upper(\"Fsfsd.\")"
   ]
  },
  {
   "cell_type": "code",
   "execution_count": 9,
   "metadata": {},
   "outputs": [
    {
     "data": {
      "text/plain": [
       "True"
      ]
     },
     "execution_count": 9,
     "metadata": {},
     "output_type": "execute_result"
    }
   ],
   "source": [
    "def is_title(text):\n",
    "    uppers = [word.isupper() for word in text.split(\" \")]\n",
    "    return sum(uppers) / len(uppers) > 0.6\n",
    "is_title(\"UNITED STATES OF AMERICA Before the COMMODITY FUTURES TRADING COMMISSION\")"
   ]
  },
  {
   "cell_type": "code",
   "execution_count": 10,
   "metadata": {},
   "outputs": [],
   "source": [
    "import nltk\n",
    "from nltk.tokenize import sent_tokenize\n",
    "t = sent_tokenize(\"Three days later, the SEC  filed a federal injunctive action against Sentinel, SEC v.  Sentinel,  et al., No.  07 CV 4684 (N.D. Ill. filed Aug. 20, 2007), and on April 28, 2008, the CFTC filed a Complaint against Sentinel, Bloom and Sentinel's Senior Vice President and head trader, Charles K. Mosley, seeking injunctive and other equitable relief, as well as the imposition of civil penalties, for violating various provisions of the Act and Commission Regulations.\")"
   ]
  },
  {
   "cell_type": "code",
   "execution_count": 11,
   "metadata": {},
   "outputs": [],
   "source": [
    "def same_sentence(sent1, sent2):\n",
    "    #print(sent1,\"\\n\",sent2)\n",
    "    \n",
    "    # sent empty\n",
    "    if (not sent1) or (not sent1['text']) :\n",
    "        return True\n",
    "    # section number\n",
    "    if sent1['is_section_num']:\n",
    "        return True\n",
    "    \n",
    "    # very short sentence\n",
    "    if len(sent1['text']) < 50:\n",
    "        return False\n",
    "    \n",
    "    # ponctuation\n",
    "    if sent1['ends_with_ponc']:\n",
    "        return False\n",
    "    \n",
    "    if sent1['is_title']:\n",
    "        return False\n",
    "\n",
    "    if sent2['is_title']:\n",
    "        return False\n",
    "    \n",
    "    return True"
   ]
  },
  {
   "cell_type": "code",
   "execution_count": 12,
   "metadata": {},
   "outputs": [],
   "source": [
    "def clean_doc(file_text):\n",
    "    pages=[]\n",
    "    for page in file_text.split(\"\\x0c\"):\n",
    "        # clen text\n",
    "        page_meta = [{'text': clean(para, lower=False, no_line_breaks=True).replace(\"_\",\"\")} \n",
    "                            for para in page.split('\\n')]\n",
    "        clean_page = []\n",
    "        previous_line = {}\n",
    "        text= \"\"\n",
    "        # add meta data\n",
    "        for line in page_meta:\n",
    "            line['is_section_num'] = is_section_num(line['text'])\n",
    "            line['is_title'] = is_title(line['text'])\n",
    "            line['ends_with_ponc'] = ends_with_ponc(line['text'])\n",
    "            line['is_alpha'] = sum(c.isalpha() for c in line['text'])\n",
    "            line['start_with_upper']  = start_with_upper(line['text'])\n",
    "                                \n",
    "            # not relevant line\n",
    "            if not line['is_alpha']:\n",
    "                continue\n",
    "            \n",
    "            if not same_sentence(previous_line, line):\n",
    "                if text:\n",
    "                    clean_page.append(text)\n",
    "                    text = \"\"\n",
    "                \n",
    "            previous_line = line\n",
    "            text = \" \".join([text, line['text']])\n",
    "        if len(clean_page):\n",
    "            pages.append(clean_page)\n",
    "    return pages"
   ]
  },
  {
   "cell_type": "markdown",
   "metadata": {},
   "source": [
    "## No case/docket"
   ]
  },
  {
   "cell_type": "code",
   "execution_count": 155,
   "metadata": {
    "scrolled": true
   },
   "outputs": [
    {
     "data": {
      "text/plain": [
       "[' A. SUMMARY',\n",
       " ' From at least January 1 to November 30, 2014 (the \"Relevant Period\"), Respondent, a then-registered futures commission merchant (\"FCM\"), failed to diligently supervise the handling by its employees and agents of commodity interest accounts carried by Respondent and introduced by a Respondent guaranteed introducing broker (\"GIB\"), as well as the activities of its employees and agents relating to its business as a then-registered FCM to ensure compliance with the Act and Regulations, and to deter and detect wrongdoing, in violation of Regulation 166.3, 17 C.F.R. SS 166.3 (2018).']"
      ]
     },
     "execution_count": 155,
     "metadata": {},
     "output_type": "execute_result"
    }
   ],
   "source": [
    "clean_page = clean_doc(file)\n",
    "clean_page[1][2:4]"
   ]
  },
  {
   "cell_type": "code",
   "execution_count": 14,
   "metadata": {},
   "outputs": [],
   "source": [
    "def get_case(first_page):\n",
    "    for line in first_page:\n",
    "        if len(line) < 40:\n",
    "            p = re.compile(\"NO[\\.:]\\s*.+\")\n",
    "            result = p.search(line.upper())\n",
    "            if result:\n",
    "                return result.group(0).strip()\n",
    "            \n",
    "    for line in first_page:   \n",
    "        if len(line) < 40:    \n",
    "            p = re.compile(\"\\d*-?CV-\\d+.*\")\n",
    "            result = p.search(line.upper())\n",
    "            if result:\n",
    "                return result.group(0).strip()"
   ]
  },
  {
   "cell_type": "code",
   "execution_count": 15,
   "metadata": {},
   "outputs": [],
   "source": [
    "get_case(clean_page[0])"
   ]
  },
  {
   "cell_type": "code",
   "execution_count": 16,
   "metadata": {},
   "outputs": [
    {
     "data": {
      "text/plain": [
       "'NO. SD 20-01'"
      ]
     },
     "execution_count": 16,
     "metadata": {},
     "output_type": "execute_result"
    }
   ],
   "source": [
    "get_case([' CFTC Docket No. SD 20-01'])"
   ]
  },
  {
   "cell_type": "markdown",
   "metadata": {},
   "source": [
    "## Defendant"
   ]
  },
  {
   "cell_type": "code",
   "execution_count": 38,
   "metadata": {},
   "outputs": [
    {
     "name": "stdout",
     "output_type": "stream",
     "text": [
      "CFTC Docket :        ORG\n",
      "THE COMMODITY EXCHANGE ACT :        ORG\n",
      "The Commodity Futures Trading Commission :        ORG\n",
      "Vision Financial Markets LLC :        ORG\n",
      "Commission Regulation :        ORG\n",
      "Commission :        ORG\n",
      "this Order Instituting Proceedings Pursuant to Section 6 :        ORG\n",
      "the Commodity Exchange Act :        ORG\n",
      "Imposing Remedial Sanctions :        ORG\n"
     ]
    }
   ],
   "source": [
    "import spacy\n",
    "\n",
    "# Load English tokenizer, tagger, parser and NER\n",
    "nlp = spacy.load(\"en_core_web_sm\")\n",
    "\n",
    "# Process whole documents\n",
    "text = (\"\\n\".join(clean_page[0]))\n",
    "doc = nlp(text)\n",
    "\n",
    "# Analyze syntax\n",
    "#print(\"Noun phrases:\", [chunk.text for chunk in doc.noun_chunks])\n",
    "#print(\"Verbs:\", [token.lemma_ for token in doc if token.pos_ == \"VERB\"])\n",
    "\n",
    "# Find named entities, phrases and concepts\n",
    "for entity in doc.ents:\n",
    "    if entity.label_ == \"ORG\":\n",
    "        print(entity.text,\":       \", entity.label_)"
   ]
  },
  {
   "cell_type": "code",
   "execution_count": 34,
   "metadata": {},
   "outputs": [
    {
     "name": "stdout",
     "output_type": "stream",
     "text": [
      " UNITED STATES OF AMERICA\n",
      " Before the\n",
      " COMMODITY FUTURES TRADING COMMISSION\n",
      " In the Matter of:\n",
      " Vision Financial Markets LLC,\n",
      " ) CFTC Docket No.\n",
      " Respondent.\n",
      " ORDER INSTITUTING PROCEEDINGS PURSUANT TO\n",
      " SECTIONS 6(c) AND 6(d) OF THE COMMODITY EXCHANGE ACT, MAKING\n",
      " FINDINGS AND IMPOSING REMEDIAL SANCTIONS\n",
      " I. INTRODUCTION\n",
      " The Commodity Futures Trading Commission (\"Commission\") has reason to believe that Vision Financial Markets LLC ( \"Respondent\") violated Commission Regulation (\"Regulation\") 166.3, 17 C.F.R. SS 166.3 (2018). Therefore, the Commission deems it appropriate and in the public interest that public administrative proceedings be, and hereby are, instituted to determine whether Respondent engaged in the violations set forth herein and to determine whether any order should be issued imposing remedial sanctions.\n",
      " In anticipation of the institution of an administrative proceeding, Respondent has submitted an Offer of Settlement (\"Offer\"), which the Commission has determined to accept.\n",
      " Without admitting or denying any of the findings or conclusions herein, Respondent consents to the entry of this Order Instituting Proceedings Pursuant to Section 6( c) and ( d) of the Commodity Exchange Act, Making Findings, and Imposing Remedial Sanctions (\"Order\") and acknowledges service of this Order. 1\n"
     ]
    }
   ],
   "source": [
    "print(\"\\n\".join(clean_page[0]))"
   ]
  },
  {
   "cell_type": "code",
   "execution_count": 156,
   "metadata": {},
   "outputs": [],
   "source": [
    "#!pip install transformers\n",
    "#!pip3 install torch torchvision torchaudio\n",
    "#!python -c \"from transformers import pipeline; print(pipeline('sentiment-analysis')('we love you'))\""
   ]
  },
  {
   "cell_type": "code",
   "execution_count": 53,
   "metadata": {},
   "outputs": [
    {
     "data": {
      "application/vnd.jupyter.widget-view+json": {
       "model_id": "7ca157ed5fab4446a4a8016ba92f6082",
       "version_major": 2,
       "version_minor": 0
      },
      "text/plain": [
       "HBox(children=(FloatProgress(value=0.0, description='Downloading', max=411.0, style=ProgressStyle(description_…"
      ]
     },
     "metadata": {},
     "output_type": "display_data"
    },
    {
     "name": "stdout",
     "output_type": "stream",
     "text": [
      "\n"
     ]
    },
    {
     "data": {
      "application/vnd.jupyter.widget-view+json": {
       "model_id": "0b2ab66919ae43168e0394fa4cb5b61b",
       "version_major": 2,
       "version_minor": 0
      },
      "text/plain": [
       "HBox(children=(FloatProgress(value=0.0, description='Downloading', max=213450.0, style=ProgressStyle(descripti…"
      ]
     },
     "metadata": {},
     "output_type": "display_data"
    },
    {
     "name": "stdout",
     "output_type": "stream",
     "text": [
      "\n"
     ]
    },
    {
     "data": {
      "application/vnd.jupyter.widget-view+json": {
       "model_id": "96d13916ccc9478587a8a6ca4b258de2",
       "version_major": 2,
       "version_minor": 0
      },
      "text/plain": [
       "HBox(children=(FloatProgress(value=0.0, description='Downloading', max=435797.0, style=ProgressStyle(descripti…"
      ]
     },
     "metadata": {},
     "output_type": "display_data"
    },
    {
     "name": "stdout",
     "output_type": "stream",
     "text": [
      "\n"
     ]
    },
    {
     "data": {
      "application/vnd.jupyter.widget-view+json": {
       "model_id": "a0c904b37750477a97dc2db73be85347",
       "version_major": 2,
       "version_minor": 0
      },
      "text/plain": [
       "HBox(children=(FloatProgress(value=0.0, description='Downloading', max=29.0, style=ProgressStyle(description_w…"
      ]
     },
     "metadata": {},
     "output_type": "display_data"
    },
    {
     "name": "stdout",
     "output_type": "stream",
     "text": [
      "\n"
     ]
    }
   ],
   "source": [
    "from transformers import pipeline, AutoModelForTokenClassification, AutoTokenizer\n",
    "\n",
    "# Question answering pipeline, specifying the checkpoint identifier\n",
    "nlp = pipeline('question-answering', model='distilbert-base-cased-distilled-squad', tokenizer='distilbert-base-cased')"
   ]
  },
  {
   "cell_type": "code",
   "execution_count": 182,
   "metadata": {},
   "outputs": [],
   "source": [
    "first_page = [text for text in clean_page[0] if len(text) > 100]"
   ]
  },
  {
   "cell_type": "code",
   "execution_count": 183,
   "metadata": {
    "scrolled": true
   },
   "outputs": [
    {
     "data": {
      "text/plain": [
       "[' The Commodity Futures Trading Commission (\"Commission\") has reason to believe that Vision Financial Markets LLC ( \"Respondent\") violated Commission Regulation (\"Regulation\") 166.3, 17 C.F.R. SS 166.3 (2018). Therefore, the Commission deems it appropriate and in the public interest that public administrative proceedings be, and hereby are, instituted to determine whether Respondent engaged in the violations set forth herein and to determine whether any order should be issued imposing remedial sanctions.',\n",
       " ' In anticipation of the institution of an administrative proceeding, Respondent has submitted an Offer of Settlement (\"Offer\"), which the Commission has determined to accept.',\n",
       " ' Without admitting or denying any of the findings or conclusions herein, Respondent consents to the entry of this Order Instituting Proceedings Pursuant to Section 6( c) and ( d) of the Commodity Exchange Act, Making Findings, and Imposing Remedial Sanctions (\"Order\") and acknowledges service of this Order. 1']"
      ]
     },
     "execution_count": 183,
     "metadata": {},
     "output_type": "execute_result"
    }
   ],
   "source": [
    "first_page"
   ]
  },
  {
   "cell_type": "code",
   "execution_count": 184,
   "metadata": {},
   "outputs": [
    {
     "name": "stdout",
     "output_type": "stream",
     "text": [
      "{'score': 0.1251426488161087, 'start': 84, 'end': 112, 'answer': 'Vision Financial Markets LLC'}\n"
     ]
    }
   ],
   "source": [
    "print(nlp(question=\"Who violeted?\", context=\".\".join(first_page)))"
   ]
  },
  {
   "cell_type": "code",
   "execution_count": 185,
   "metadata": {},
   "outputs": [
    {
     "name": "stdout",
     "output_type": "stream",
     "text": [
      "[{'score': 0.22406990826129913, 'start': 84, 'end': 112, 'answer': 'Vision Financial Markets LLC'}, {'score': 0.040718793869018555, 'start': 84, 'end': 128, 'answer': 'Vision Financial Markets LLC ( \"Respondent\")'}, {'score': 0.02145378664135933, 'start': 84, 'end': 108, 'answer': 'Vision Financial Markets'}]\n"
     ]
    }
   ],
   "source": [
    "print(nlp(question=\"Who is the defendant?\", context=\".\".join(first_page), topk=3))"
   ]
  },
  {
   "cell_type": "markdown",
   "metadata": {},
   "source": [
    "# STOP HERE"
   ]
  },
  {
   "cell_type": "code",
   "execution_count": null,
   "metadata": {},
   "outputs": [],
   "source": []
  },
  {
   "cell_type": "code",
   "execution_count": null,
   "metadata": {},
   "outputs": [],
   "source": []
  },
  {
   "cell_type": "code",
   "execution_count": null,
   "metadata": {},
   "outputs": [],
   "source": []
  },
  {
   "cell_type": "code",
   "execution_count": null,
   "metadata": {},
   "outputs": [],
   "source": []
  },
  {
   "cell_type": "code",
   "execution_count": null,
   "metadata": {},
   "outputs": [],
   "source": []
  },
  {
   "cell_type": "code",
   "execution_count": null,
   "metadata": {},
   "outputs": [],
   "source": []
  },
  {
   "cell_type": "code",
   "execution_count": null,
   "metadata": {},
   "outputs": [],
   "source": []
  },
  {
   "cell_type": "markdown",
   "metadata": {},
   "source": [
    "## Extracted authorities"
   ]
  },
  {
   "cell_type": "code",
   "execution_count": null,
   "metadata": {},
   "outputs": [],
   "source": [
    "UNITED STATES DISTRICT COURT\n",
    "FOR THE MIDDLE DISTRICT OF FLORIDA "
   ]
  },
  {
   "cell_type": "markdown",
   "metadata": {},
   "source": [
    "## Code law violation"
   ]
  },
  {
   "cell_type": "code",
   "execution_count": null,
   "metadata": {},
   "outputs": [],
   "source": [
    "violated Section 4c(a)(5)(C) of the Commodity Exchange Act (\"Act\"), 7 U.S.C.\n",
    "§ 6c(a)(5)(C) (2018)."
   ]
  },
  {
   "cell_type": "code",
   "execution_count": null,
   "metadata": {},
   "outputs": [],
   "source": [
    "Section 4c(a)(5) of the Act, 7 U.S.C.\n",
    "§ 6c(a)(5) (2012)."
   ]
  },
  {
   "cell_type": "markdown",
   "metadata": {},
   "source": [
    "## Violation period"
   ]
  },
  {
   "cell_type": "code",
   "execution_count": 428,
   "metadata": {},
   "outputs": [],
   "source": [
    "line = 'The Commodity Futures Trading Commission (\"Commission\") has reason to believe that from at least July 2012 through March 2017 (\"Relevant Period\"), Propex Derivatives Pty Ltd. (\"Propex\") violated Section 4c(a)(5)(C) of the Commodity Exchange Act (\"Act\"), 7 U.S.C. 6c(a)(5)(C) (2018). Therefore, the Commission deems it appropriate and in the public interest that public administrative proceedings be, and hereby are, instituted to determine whether Propex engaged in the violations set forth herein and to determine whether any order should be issued imposing remedial sanctions.'"
   ]
  },
  {
   "cell_type": "code",
   "execution_count": null,
   "metadata": {},
   "outputs": [],
   "source": [
    "(\"Relevant Period\")"
   ]
  },
  {
   "cell_type": "markdown",
   "metadata": {},
   "source": [
    "## Transaction amount"
   ]
  },
  {
   "cell_type": "code",
   "execution_count": null,
   "metadata": {},
   "outputs": [],
   "source": [
    "pour complaint tous les montants vers Transaction amounts"
   ]
  },
  {
   "cell_type": "markdown",
   "metadata": {},
   "source": [
    "## Defendant"
   ]
  },
  {
   "cell_type": "code",
   "execution_count": null,
   "metadata": {},
   "outputs": [],
   "source": [
    "Propex Derivatives Pty Ltd, Respondent."
   ]
  },
  {
   "cell_type": "code",
   "execution_count": 18,
   "metadata": {
    "scrolled": true
   },
   "outputs": [],
   "source": [
    "#!pip install -U spacy\n",
    "#!python -m spacy download en_core_web_sm"
   ]
  },
  {
   "cell_type": "markdown",
   "metadata": {},
   "source": [
    "## Nature of violations"
   ]
  },
  {
   "cell_type": "code",
   "execution_count": null,
   "metadata": {},
   "outputs": [],
   "source": [
    "II. FINDINGS\n",
    "The Commission finds the following:\n",
    "A. SUMMARY\n",
    "During the Relevant Period, Propex, by and through a Propex trader (\"Trader A\"),·\n",
    "engaged in thousands of instances of the disruptive trading practice known as \"spoofing\"\n",
    "(bidding or offering with the intent to cancel the bid or offer before execution) in the E-mini\n",
    "S&P 500 futures contracts traded on the Chicago Mercantile Exchange (\"CME\"), a futures\n",
    "exchange and designated contract market which is owned and operated by CME Group Inc. This\n",
    "conduct violated Section 4c(a)(5)(C) of the Act, 7 U.S.C. § 6c(a)(5)(C) (2018). "
   ]
  },
  {
   "cell_type": "code",
   "execution_count": 66,
   "metadata": {},
   "outputs": [],
   "source": [
    "cftc_full_list = pd.read_excel(\"cftc_full_list.xlsx\")"
   ]
  },
  {
   "cell_type": "code",
   "execution_count": 68,
   "metadata": {},
   "outputs": [],
   "source": [
    "def gen_line_rep(rep):\n",
    "    original_path = f\"./cftc/original/{rep}\"\n",
    "    text_path = f\"./cftc/text/{rep}\"\n",
    "    meta_path = f\"./cftc/meta-data/{rep}\"\n",
    "    lines = []\n",
    "    for file in glob.glob(f\"{meta_path}/*.json\"):\n",
    "        filename = os.path.basename(file)\n",
    "\n",
    "        with open(file) as json_file: \n",
    "            data = json.load(json_file)     \n",
    "\n",
    "        data['filename'] = filename.replace(\".json\",\"\")\n",
    "        data['folder'] = rep\n",
    "        with open(f\"{text_path}/{filename.replace('.json','.txt')}\") as f:\n",
    "            data['doc_text'] = f.read()  \n",
    "\n",
    "\n",
    "        lines.append(data)\n",
    "    return lines"
   ]
  },
  {
   "cell_type": "code",
   "execution_count": 69,
   "metadata": {},
   "outputs": [
    {
     "name": "stdout",
     "output_type": "stream",
     "text": [
      "error on 7882-19\n",
      "error on 8262-20\n",
      "error on 8239-20\n"
     ]
    },
    {
     "data": {
      "text/plain": [
       "756"
      ]
     },
     "execution_count": 69,
     "metadata": {},
     "output_type": "execute_result"
    }
   ],
   "source": [
    "meta_data = []\n",
    "for index, row in cftc_full_list[~cftc_full_list.scraped_folder.isnull()].iterrows():\n",
    "    try:\n",
    "        meta_data.extend(gen_line_rep(row['scraped_folder']))\n",
    "    except:\n",
    "        print(\"error on\",  row['scraped_folder'])\n",
    "len(meta_data)"
   ]
  },
  {
   "cell_type": "code",
   "execution_count": 70,
   "metadata": {},
   "outputs": [],
   "source": [
    "df_meta_data = pd.DataFrame(meta_data)"
   ]
  },
  {
   "cell_type": "code",
   "execution_count": 71,
   "metadata": {},
   "outputs": [],
   "source": [
    "df_meta_data['doc_clean'] = df_meta_data.doc_text.apply(clean_doc)"
   ]
  },
  {
   "cell_type": "code",
   "execution_count": 72,
   "metadata": {},
   "outputs": [],
   "source": [
    "df_meta_data['first_page'] = df_meta_data['doc_clean'].str[0]"
   ]
  },
  {
   "cell_type": "code",
   "execution_count": 73,
   "metadata": {},
   "outputs": [],
   "source": [
    "df_meta_data = df_meta_data[~df_meta_data['first_page'].isnull()]"
   ]
  },
  {
   "cell_type": "markdown",
   "metadata": {},
   "source": [
    "## Get reference"
   ]
  },
  {
   "cell_type": "code",
   "execution_count": 27,
   "metadata": {},
   "outputs": [],
   "source": [
    "df_meta_data['reference'] = df_meta_data.first_page.apply(get_case)"
   ]
  },
  {
   "cell_type": "code",
   "execution_count": null,
   "metadata": {},
   "outputs": [],
   "source": []
  },
  {
   "cell_type": "markdown",
   "metadata": {},
   "source": [
    "## Get defendant"
   ]
  },
  {
   "cell_type": "code",
   "execution_count": 178,
   "metadata": {},
   "outputs": [],
   "source": [
    "first_page = [text for text in df_meta_data.first_page.values[3] if len(text) > 100]"
   ]
  },
  {
   "cell_type": "code",
   "execution_count": 179,
   "metadata": {},
   "outputs": [
    {
     "data": {
      "text/plain": [
       "[' The Commodity Futures Trading Commission (\"Commission\") has reason to believe that from in or about August 2012 to at least January 2015 (the \"Relevant Period\"), Respondents Sharpe Signa, LLC (\"Sharpe\") and Garen Ovsepyan (\"Ovsepyan\") violated Sections 2(c)(2)(C)(iii)(I)(bb), 4b(a)(2)(A) and (C), 4o(l)(A) and (B), and 6(c)(2) of the Act, 7 U.S.C.',\n",
       " ' SSSS 2(c)(2)(C)(iii)(I)(bb), 6b(a)(2)(A) and (C), 6o(l)(A) and (B), and 9(2) (2012), and Commission Regulation (\"Regulation\") 5.3(a)(3)(i), 17 C.F.R. SS 5.3(a)(3)(i) (2014), and Respondent Haeres Capital, LLC (\"Haeres\") and Ovsepyan violated Section 6(c )(2) of the Act, 7 U.S.C. SS 9(2) (2012). Therefore, the Commission deems it appropriate and in the public interest that public administrative proceedings be, and hereby are, instituted to determine whether Respondent(s) engaged in the violations set forth herein and to determine whether any order should be issued imposing remedial sanctions.',\n",
       " ' In anticipation of the institution of an administrative proceeding, Respondents have submitted an Offer of Settlement (\"Offer\"), which the Commission has determined to accept.',\n",
       " ' Without admitting or denying any of the findings or conclusions herein, Respondents consent to the entry of this Order Instituting Proceedings Pursuant to Sections 6( c) and 6(d) of the Commodity Exchange Act, Making Findings and Imposing Remedial Sanctions (\"Order\") and acknowledge service of this Order. 1']"
      ]
     },
     "execution_count": 179,
     "metadata": {},
     "output_type": "execute_result"
    }
   ],
   "source": [
    "first_page"
   ]
  },
  {
   "cell_type": "code",
   "execution_count": 180,
   "metadata": {},
   "outputs": [
    {
     "name": "stdout",
     "output_type": "stream",
     "text": [
      "{'score': 0.1322660595178604, 'start': 175, 'end': 187, 'answer': 'Sharpe Signa'}\n"
     ]
    }
   ],
   "source": [
    "print(nlp(question=\"Who violeted?\", context=\".\".join(first_page)))"
   ]
  },
  {
   "cell_type": "code",
   "execution_count": 181,
   "metadata": {},
   "outputs": [
    {
     "name": "stdout",
     "output_type": "stream",
     "text": [
      "[{'score': 0.009618670679628849, 'start': 208, 'end': 222, 'answer': 'Garen Ovsepyan'}, {'score': 0.0038621597923338413, 'start': 175, 'end': 187, 'answer': 'Sharpe Signa'}, {'score': 0.0027537851128727198, 'start': 175, 'end': 203, 'answer': 'Sharpe Signa, LLC (\"Sharpe\")'}]\n"
     ]
    }
   ],
   "source": [
    "print(nlp(question=\"Who is the defendant?\", context=\".\".join(first_page), topk=3))"
   ]
  },
  {
   "cell_type": "code",
   "execution_count": 141,
   "metadata": {
    "scrolled": false
   },
   "outputs": [],
   "source": [
    "#df_meta_data[['reference', 'folder', 'filename']][df_meta_data.reference.isnull()]"
   ]
  },
  {
   "cell_type": "markdown",
   "metadata": {},
   "source": [
    "## Type"
   ]
  },
  {
   "cell_type": "code",
   "execution_count": 218,
   "metadata": {},
   "outputs": [],
   "source": [
    "df_meta_data['is_order'] = df_meta_data.filename.str.contains(\"order\")"
   ]
  },
  {
   "cell_type": "code",
   "execution_count": 219,
   "metadata": {},
   "outputs": [],
   "source": [
    "df_meta_data['is_complaint'] = df_meta_data.filename.str.contains(\"complaint\")"
   ]
  },
  {
   "cell_type": "code",
   "execution_count": 220,
   "metadata": {},
   "outputs": [],
   "source": [
    "df_meta_data['type'] = np.where(df_meta_data['is_order'], \"Order CFTC\", \n",
    "         np.where(df_meta_data['is_complaint'], \n",
    "                  \"Complaint CFTC\", None))"
   ]
  }
 ],
 "metadata": {
  "kernelspec": {
   "display_name": "Python 3",
   "language": "python",
   "name": "python3"
  },
  "language_info": {
   "codemirror_mode": {
    "name": "ipython",
    "version": 3
   },
   "file_extension": ".py",
   "mimetype": "text/x-python",
   "name": "python",
   "nbconvert_exporter": "python",
   "pygments_lexer": "ipython3",
   "version": "3.8.5"
  }
 },
 "nbformat": 4,
 "nbformat_minor": 4
}
