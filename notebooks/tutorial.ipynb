{
 "cells": [
  {
   "cell_type": "markdown",
   "id": "ff61578b",
   "metadata": {},
   "source": [
    "# TUTORIAL"
   ]
  },
  {
   "cell_type": "markdown",
   "id": "47ede5ae",
   "metadata": {},
   "source": [
    "In this notebook, we are going to have a good tour of main features, usages and how-to of the package."
   ]
  },
  {
   "cell_type": "markdown",
   "id": "3b9c2742",
   "metadata": {},
   "source": []
  },
  {
   "cell_type": "markdown",
   "id": "166300ed",
   "metadata": {},
   "source": [
    "## 1. Install"
   ]
  },
  {
   "cell_type": "markdown",
   "id": "aed80fa2",
   "metadata": {},
   "source": [
    "As requested we need to install the package from pypi. Depends of your internet connection, it could take 1 or 2 minutes."
   ]
  },
  {
   "cell_type": "code",
   "execution_count": 6,
   "id": "fe2f69e7",
   "metadata": {},
   "outputs": [
    {
     "name": "stdout",
     "output_type": "stream",
     "text": [
      "Requirement already satisfied: legal_doc_processing==2.2.3 in /home/alex/ENV/lib/python3.8/site-packages (2.2.3)\n",
      "Requirement already satisfied: spacy in /home/alex/ENV/lib/python3.8/site-packages (from legal_doc_processing==2.2.3) (3.0.6)\n",
      "Requirement already satisfied: transformers in /home/alex/ENV/lib/python3.8/site-packages (from legal_doc_processing==2.2.3) (4.6.1)\n",
      "Requirement already satisfied: nltk in /home/alex/ENV/lib/python3.8/site-packages (from legal_doc_processing==2.2.3) (3.6.2)\n",
      "Requirement already satisfied: dateparser in /home/alex/ENV/lib/python3.8/site-packages (from legal_doc_processing==2.2.3) (1.0.0)\n",
      "Requirement already satisfied: pandas in /home/alex/ENV/lib/python3.8/site-packages (from legal_doc_processing==2.2.3) (1.2.4)\n",
      "Requirement already satisfied: word2vec in /home/alex/ENV/lib/python3.8/site-packages (from legal_doc_processing==2.2.3) (0.11.1)\n",
      "Requirement already satisfied: scikit-learn in /home/alex/ENV/lib/python3.8/site-packages (from legal_doc_processing==2.2.3) (0.24.2)\n",
      "Requirement already satisfied: clean-text in /home/alex/ENV/lib/python3.8/site-packages (from legal_doc_processing==2.2.3) (0.4.0)\n",
      "Requirement already satisfied: tensorflow in /home/alex/ENV/lib/python3.8/site-packages (from legal_doc_processing==2.2.3) (2.5.0)\n",
      "Requirement already satisfied: google-cloud-storage in /home/alex/ENV/lib/python3.8/site-packages (from legal_doc_processing==2.2.3) (1.38.0)\n",
      "Requirement already satisfied: ftfy<7.0,>=6.0 in /home/alex/ENV/lib/python3.8/site-packages (from clean-text->legal_doc_processing==2.2.3) (6.0.1)\n",
      "Requirement already satisfied: emoji in /home/alex/ENV/lib/python3.8/site-packages (from clean-text->legal_doc_processing==2.2.3) (1.2.0)\n",
      "Requirement already satisfied: wcwidth in /home/alex/ENV/lib/python3.8/site-packages (from ftfy<7.0,>=6.0->clean-text->legal_doc_processing==2.2.3) (0.2.5)\n",
      "Requirement already satisfied: tzlocal in /home/alex/ENV/lib/python3.8/site-packages (from dateparser->legal_doc_processing==2.2.3) (2.1)\n",
      "Requirement already satisfied: regex!=2019.02.19 in /home/alex/ENV/lib/python3.8/site-packages (from dateparser->legal_doc_processing==2.2.3) (2020.9.27)\n",
      "Requirement already satisfied: python-dateutil in /home/alex/ENV/lib/python3.8/site-packages (from dateparser->legal_doc_processing==2.2.3) (2.8.1)\n",
      "Requirement already satisfied: pytz in /home/alex/ENV/lib/python3.8/site-packages (from dateparser->legal_doc_processing==2.2.3) (2020.1)\n",
      "Requirement already satisfied: google-resumable-media<2.0dev,>=1.2.0 in /home/alex/ENV/lib/python3.8/site-packages (from google-cloud-storage->legal_doc_processing==2.2.3) (1.3.0)\n",
      "Requirement already satisfied: google-auth<2.0dev,>=1.11.0 in /home/alex/ENV/lib/python3.8/site-packages (from google-cloud-storage->legal_doc_processing==2.2.3) (1.30.1)\n",
      "Requirement already satisfied: requests<3.0.0dev,>=2.18.0 in /home/alex/ENV/lib/python3.8/site-packages (from google-cloud-storage->legal_doc_processing==2.2.3) (2.24.0)\n",
      "Requirement already satisfied: google-cloud-core<2.0dev,>=1.4.1 in /home/alex/ENV/lib/python3.8/site-packages (from google-cloud-storage->legal_doc_processing==2.2.3) (1.6.0)\n",
      "Requirement already satisfied: pyasn1-modules>=0.2.1 in /home/alex/ENV/lib/python3.8/site-packages (from google-auth<2.0dev,>=1.11.0->google-cloud-storage->legal_doc_processing==2.2.3) (0.2.8)\n",
      "Requirement already satisfied: setuptools>=40.3.0 in /home/alex/ENV/lib/python3.8/site-packages (from google-auth<2.0dev,>=1.11.0->google-cloud-storage->legal_doc_processing==2.2.3) (54.1.3)\n",
      "Requirement already satisfied: cachetools<5.0,>=2.0.0 in /home/alex/ENV/lib/python3.8/site-packages (from google-auth<2.0dev,>=1.11.0->google-cloud-storage->legal_doc_processing==2.2.3) (4.2.2)\n",
      "Requirement already satisfied: rsa<5,>=3.1.4 in /home/alex/ENV/lib/python3.8/site-packages (from google-auth<2.0dev,>=1.11.0->google-cloud-storage->legal_doc_processing==2.2.3) (4.7.2)\n",
      "Requirement already satisfied: six>=1.9.0 in /home/alex/ENV/lib/python3.8/site-packages (from google-auth<2.0dev,>=1.11.0->google-cloud-storage->legal_doc_processing==2.2.3) (1.15.0)\n",
      "Requirement already satisfied: google-api-core<2.0.0dev,>=1.21.0 in /home/alex/ENV/lib/python3.8/site-packages (from google-cloud-core<2.0dev,>=1.4.1->google-cloud-storage->legal_doc_processing==2.2.3) (1.28.0)\n",
      "Requirement already satisfied: packaging>=14.3 in /home/alex/ENV/lib/python3.8/site-packages (from google-api-core<2.0.0dev,>=1.21.0->google-cloud-core<2.0dev,>=1.4.1->google-cloud-storage->legal_doc_processing==2.2.3) (20.4)\n",
      "Requirement already satisfied: googleapis-common-protos<2.0dev,>=1.6.0 in /home/alex/ENV/lib/python3.8/site-packages (from google-api-core<2.0.0dev,>=1.21.0->google-cloud-core<2.0dev,>=1.4.1->google-cloud-storage->legal_doc_processing==2.2.3) (1.53.0)\n",
      "Requirement already satisfied: protobuf>=3.12.0 in /home/alex/ENV/lib/python3.8/site-packages (from google-api-core<2.0.0dev,>=1.21.0->google-cloud-core<2.0dev,>=1.4.1->google-cloud-storage->legal_doc_processing==2.2.3) (3.17.1)\n",
      "Requirement already satisfied: google-crc32c<2.0dev,>=1.0 in /home/alex/ENV/lib/python3.8/site-packages (from google-resumable-media<2.0dev,>=1.2.0->google-cloud-storage->legal_doc_processing==2.2.3) (1.1.2)\n",
      "Requirement already satisfied: cffi>=1.0.0 in /home/alex/ENV/lib/python3.8/site-packages (from google-crc32c<2.0dev,>=1.0->google-resumable-media<2.0dev,>=1.2.0->google-cloud-storage->legal_doc_processing==2.2.3) (1.14.3)\n",
      "Requirement already satisfied: pycparser in /home/alex/ENV/lib/python3.8/site-packages (from cffi>=1.0.0->google-crc32c<2.0dev,>=1.0->google-resumable-media<2.0dev,>=1.2.0->google-cloud-storage->legal_doc_processing==2.2.3) (2.20)\n",
      "Requirement already satisfied: pyparsing>=2.0.2 in /home/alex/ENV/lib/python3.8/site-packages (from packaging>=14.3->google-api-core<2.0.0dev,>=1.21.0->google-cloud-core<2.0dev,>=1.4.1->google-cloud-storage->legal_doc_processing==2.2.3) (2.4.7)\n",
      "Requirement already satisfied: pyasn1<0.5.0,>=0.4.6 in /home/alex/ENV/lib/python3.8/site-packages (from pyasn1-modules>=0.2.1->google-auth<2.0dev,>=1.11.0->google-cloud-storage->legal_doc_processing==2.2.3) (0.4.8)\n",
      "Requirement already satisfied: urllib3!=1.25.0,!=1.25.1,<1.26,>=1.21.1 in /home/alex/ENV/lib/python3.8/site-packages (from requests<3.0.0dev,>=2.18.0->google-cloud-storage->legal_doc_processing==2.2.3) (1.25.10)\n",
      "Requirement already satisfied: certifi>=2017.4.17 in /home/alex/ENV/lib/python3.8/site-packages (from requests<3.0.0dev,>=2.18.0->google-cloud-storage->legal_doc_processing==2.2.3) (2020.6.20)\n",
      "Requirement already satisfied: chardet<4,>=3.0.2 in /home/alex/ENV/lib/python3.8/site-packages (from requests<3.0.0dev,>=2.18.0->google-cloud-storage->legal_doc_processing==2.2.3) (3.0.4)\n",
      "Requirement already satisfied: idna<3,>=2.5 in /home/alex/ENV/lib/python3.8/site-packages (from requests<3.0.0dev,>=2.18.0->google-cloud-storage->legal_doc_processing==2.2.3) (2.10)\n",
      "Requirement already satisfied: tqdm in /home/alex/ENV/lib/python3.8/site-packages (from nltk->legal_doc_processing==2.2.3) (4.60.0)\n",
      "Requirement already satisfied: joblib in /home/alex/ENV/lib/python3.8/site-packages (from nltk->legal_doc_processing==2.2.3) (1.0.1)\n",
      "Requirement already satisfied: click in /home/alex/ENV/lib/python3.8/site-packages (from nltk->legal_doc_processing==2.2.3) (7.1.2)\n",
      "Requirement already satisfied: numpy>=1.16.5 in /home/alex/ENV/lib/python3.8/site-packages (from pandas->legal_doc_processing==2.2.3) (1.19.2)\n",
      "Requirement already satisfied: threadpoolctl>=2.0.0 in /home/alex/ENV/lib/python3.8/site-packages (from scikit-learn->legal_doc_processing==2.2.3) (2.1.0)\n",
      "Requirement already satisfied: scipy>=0.19.1 in /home/alex/ENV/lib/python3.8/site-packages (from scikit-learn->legal_doc_processing==2.2.3) (1.6.3)\n",
      "Requirement already satisfied: pydantic<1.8.0,>=1.7.1 in /home/alex/ENV/lib/python3.8/site-packages (from spacy->legal_doc_processing==2.2.3) (1.7.3)\n",
      "Requirement already satisfied: blis<0.8.0,>=0.4.0 in /home/alex/ENV/lib/python3.8/site-packages (from spacy->legal_doc_processing==2.2.3) (0.7.4)\n",
      "Requirement already satisfied: pathy>=0.3.5 in /home/alex/ENV/lib/python3.8/site-packages (from spacy->legal_doc_processing==2.2.3) (0.5.2)\n",
      "Requirement already satisfied: typer<0.4.0,>=0.3.0 in /home/alex/ENV/lib/python3.8/site-packages (from spacy->legal_doc_processing==2.2.3) (0.3.2)\n",
      "Requirement already satisfied: srsly<3.0.0,>=2.4.1 in /home/alex/ENV/lib/python3.8/site-packages (from spacy->legal_doc_processing==2.2.3) (2.4.1)\n",
      "Requirement already satisfied: spacy-legacy<3.1.0,>=3.0.4 in /home/alex/ENV/lib/python3.8/site-packages (from spacy->legal_doc_processing==2.2.3) (3.0.5)\n",
      "Requirement already satisfied: jinja2 in /home/alex/ENV/lib/python3.8/site-packages (from spacy->legal_doc_processing==2.2.3) (2.11.2)\n",
      "Requirement already satisfied: cymem<2.1.0,>=2.0.2 in /home/alex/ENV/lib/python3.8/site-packages (from spacy->legal_doc_processing==2.2.3) (2.0.5)\n",
      "Requirement already satisfied: murmurhash<1.1.0,>=0.28.0 in /home/alex/ENV/lib/python3.8/site-packages (from spacy->legal_doc_processing==2.2.3) (1.0.5)\n",
      "Requirement already satisfied: wasabi<1.1.0,>=0.8.1 in /home/alex/ENV/lib/python3.8/site-packages (from spacy->legal_doc_processing==2.2.3) (0.8.2)\n",
      "Requirement already satisfied: catalogue<2.1.0,>=2.0.3 in /home/alex/ENV/lib/python3.8/site-packages (from spacy->legal_doc_processing==2.2.3) (2.0.4)\n",
      "Requirement already satisfied: thinc<8.1.0,>=8.0.3 in /home/alex/ENV/lib/python3.8/site-packages (from spacy->legal_doc_processing==2.2.3) (8.0.3)\n",
      "Requirement already satisfied: preshed<3.1.0,>=3.0.2 in /home/alex/ENV/lib/python3.8/site-packages (from spacy->legal_doc_processing==2.2.3) (3.0.5)\n"
     ]
    },
    {
     "name": "stdout",
     "output_type": "stream",
     "text": [
      "Requirement already satisfied: smart-open<4.0.0,>=2.2.0 in /home/alex/ENV/lib/python3.8/site-packages (from pathy>=0.3.5->spacy->legal_doc_processing==2.2.3) (3.0.0)\n",
      "Requirement already satisfied: MarkupSafe>=0.23 in /home/alex/ENV/lib/python3.8/site-packages (from jinja2->spacy->legal_doc_processing==2.2.3) (1.1.1)\n",
      "Requirement already satisfied: termcolor~=1.1.0 in /home/alex/ENV/lib/python3.8/site-packages (from tensorflow->legal_doc_processing==2.2.3) (1.1.0)\n",
      "Requirement already satisfied: h5py~=3.1.0 in /home/alex/ENV/lib/python3.8/site-packages (from tensorflow->legal_doc_processing==2.2.3) (3.1.0)\n",
      "Requirement already satisfied: grpcio~=1.34.0 in /home/alex/ENV/lib/python3.8/site-packages (from tensorflow->legal_doc_processing==2.2.3) (1.34.1)\n",
      "Requirement already satisfied: opt-einsum~=3.3.0 in /home/alex/ENV/lib/python3.8/site-packages (from tensorflow->legal_doc_processing==2.2.3) (3.3.0)\n",
      "Requirement already satisfied: keras-nightly~=2.5.0.dev in /home/alex/ENV/lib/python3.8/site-packages (from tensorflow->legal_doc_processing==2.2.3) (2.5.0.dev2021032900)\n",
      "Requirement already satisfied: astunparse~=1.6.3 in /home/alex/ENV/lib/python3.8/site-packages (from tensorflow->legal_doc_processing==2.2.3) (1.6.3)\n",
      "Requirement already satisfied: typing-extensions~=3.7.4 in /home/alex/ENV/lib/python3.8/site-packages (from tensorflow->legal_doc_processing==2.2.3) (3.7.4.3)\n",
      "Requirement already satisfied: google-pasta~=0.2 in /home/alex/ENV/lib/python3.8/site-packages (from tensorflow->legal_doc_processing==2.2.3) (0.2.0)\n",
      "Requirement already satisfied: wrapt~=1.12.1 in /home/alex/ENV/lib/python3.8/site-packages (from tensorflow->legal_doc_processing==2.2.3) (1.12.1)\n",
      "Requirement already satisfied: gast==0.4.0 in /home/alex/ENV/lib/python3.8/site-packages (from tensorflow->legal_doc_processing==2.2.3) (0.4.0)\n",
      "Requirement already satisfied: keras-preprocessing~=1.1.2 in /home/alex/ENV/lib/python3.8/site-packages (from tensorflow->legal_doc_processing==2.2.3) (1.1.2)\n",
      "Requirement already satisfied: flatbuffers~=1.12.0 in /home/alex/ENV/lib/python3.8/site-packages (from tensorflow->legal_doc_processing==2.2.3) (1.12)\n",
      "Requirement already satisfied: wheel~=0.35 in /home/alex/ENV/lib/python3.8/site-packages (from tensorflow->legal_doc_processing==2.2.3) (0.36.2)\n",
      "Requirement already satisfied: tensorflow-estimator<2.6.0,>=2.5.0rc0 in /home/alex/ENV/lib/python3.8/site-packages (from tensorflow->legal_doc_processing==2.2.3) (2.5.0)\n",
      "Requirement already satisfied: absl-py~=0.10 in /home/alex/ENV/lib/python3.8/site-packages (from tensorflow->legal_doc_processing==2.2.3) (0.12.0)\n",
      "Requirement already satisfied: tensorboard~=2.5 in /home/alex/ENV/lib/python3.8/site-packages (from tensorflow->legal_doc_processing==2.2.3) (2.5.0)\n",
      "Requirement already satisfied: markdown>=2.6.8 in /home/alex/ENV/lib/python3.8/site-packages (from tensorboard~=2.5->tensorflow->legal_doc_processing==2.2.3) (3.3.4)\n",
      "Requirement already satisfied: werkzeug>=0.11.15 in /home/alex/ENV/lib/python3.8/site-packages (from tensorboard~=2.5->tensorflow->legal_doc_processing==2.2.3) (1.0.1)\n",
      "Requirement already satisfied: tensorboard-plugin-wit>=1.6.0 in /home/alex/ENV/lib/python3.8/site-packages (from tensorboard~=2.5->tensorflow->legal_doc_processing==2.2.3) (1.8.0)\n",
      "Requirement already satisfied: tensorboard-data-server<0.7.0,>=0.6.0 in /home/alex/ENV/lib/python3.8/site-packages (from tensorboard~=2.5->tensorflow->legal_doc_processing==2.2.3) (0.6.1)\n",
      "Requirement already satisfied: google-auth-oauthlib<0.5,>=0.4.1 in /home/alex/ENV/lib/python3.8/site-packages (from tensorboard~=2.5->tensorflow->legal_doc_processing==2.2.3) (0.4.4)\n",
      "Requirement already satisfied: requests-oauthlib>=0.7.0 in /home/alex/ENV/lib/python3.8/site-packages (from google-auth-oauthlib<0.5,>=0.4.1->tensorboard~=2.5->tensorflow->legal_doc_processing==2.2.3) (1.3.0)\n",
      "Requirement already satisfied: oauthlib>=3.0.0 in /home/alex/ENV/lib/python3.8/site-packages (from requests-oauthlib>=0.7.0->google-auth-oauthlib<0.5,>=0.4.1->tensorboard~=2.5->tensorflow->legal_doc_processing==2.2.3) (3.1.1)\n",
      "Requirement already satisfied: tokenizers<0.11,>=0.10.1 in /home/alex/ENV/lib/python3.8/site-packages (from transformers->legal_doc_processing==2.2.3) (0.10.2)\n",
      "Requirement already satisfied: filelock in /home/alex/ENV/lib/python3.8/site-packages (from transformers->legal_doc_processing==2.2.3) (3.0.12)\n",
      "Requirement already satisfied: sacremoses in /home/alex/ENV/lib/python3.8/site-packages (from transformers->legal_doc_processing==2.2.3) (0.0.45)\n",
      "Requirement already satisfied: huggingface-hub==0.0.8 in /home/alex/ENV/lib/python3.8/site-packages (from transformers->legal_doc_processing==2.2.3) (0.0.8)\n"
     ]
    }
   ],
   "source": [
    "!pip install legal_doc_processing==2.2.3"
   ]
  },
  {
   "cell_type": "markdown",
   "id": "aad59096",
   "metadata": {},
   "source": []
  },
  {
   "cell_type": "markdown",
   "id": "83039c6a",
   "metadata": {},
   "source": [
    "## 2.Check package integriity and download third parties objects"
   ]
  },
  {
   "cell_type": "markdown",
   "id": "c175e4c5",
   "metadata": {},
   "source": [
    "As we will use major NLP Librairies,we need to download data collections and mandory web assets such as NLTK stop words, Scapy or Transformers models or tensorflow/pyTorch assets. It can take 1/2 minutes (depends of your web connection)"
   ]
  },
  {
   "cell_type": "code",
   "execution_count": null,
   "id": "c47a9ac9",
   "metadata": {},
   "outputs": [],
   "source": [
    "import legal_doc_processing.boot\n",
    "boot.boot()"
   ]
  },
  {
   "cell_type": "markdown",
   "id": "03439927",
   "metadata": {},
   "source": []
  },
  {
   "cell_type": "markdown",
   "id": "c2e1bb24",
   "metadata": {},
   "source": [
    "## 3. Understand package structure"
   ]
  },
  {
   "cell_type": "markdown",
   "id": "f0dc6a01",
   "metadata": {},
   "source": [
    "There is 3 main modules in legal-doc-processing : \n",
    "- legal_doc for LegalDoc objects ie order, complaint, etc etc all kinds of official documents\n",
    "- press_release for PressRelease objects for legal press release related to each case\n",
    "- decision for both LegalDoc and PressRelease documents. The Decision object is able to read both legal document and press release, make prediction from both documents and merge/clean predictions of both documents.\n"
   ]
  },
  {
   "cell_type": "markdown",
   "id": "32472451",
   "metadata": {},
   "source": [
    "so you can :"
   ]
  },
  {
   "cell_type": "code",
   "execution_count": 5,
   "id": "1a0082d1",
   "metadata": {},
   "outputs": [],
   "source": [
    "from legal_doc_processing import legal_doc # import legal document module\n",
    "from legal_doc_processing import press_release # import press release module\n",
    "from legal_doc_processing import decision # import decision module"
   ]
  },
  {
   "cell_type": "markdown",
   "id": "5d2328b5",
   "metadata": {},
   "source": [
    "each package has its own Object"
   ]
  },
  {
   "cell_type": "markdown",
   "id": "b8df185a",
   "metadata": {},
   "source": []
  },
  {
   "cell_type": "code",
   "execution_count": 25,
   "id": "ef010fcf",
   "metadata": {
    "scrolled": true
   },
   "outputs": [
    {
     "name": "stdout",
     "output_type": "stream",
     "text": [
      "press_release.PressRelease : <class 'legal_doc_processing.press_release.press_release.PressRelease'> \n",
      "\n",
      "press_release.__doc__ : None \n",
      "\n",
      "press_release.__dict__ : {'__module__': 'legal_doc_processing.press_release.press_release', 'PressRelease': <class 'legal_doc_processing.press_release.press_release.PressRelease'>, 'load_X_y': <function press_release_X_y at 0x7f06d4f1ce50>, 'load_df': <function press_release_df at 0x7f07c444cc10>, '__dict__': <attribute '__dict__' of '_PressRelease' objects>, '__weakref__': <attribute '__weakref__' of '_PressRelease' objects>, '__doc__': None}\n"
     ]
    }
   ],
   "source": [
    "print(f\"press_release.PressRelease : {press_release.PressRelease} \\n\")\n",
    "print(f\"press_release.__doc__ : {press_release.__doc__} \\n\")\n",
    "print(f\"press_release.__dict__ : {press_release.__dict__}\")"
   ]
  },
  {
   "cell_type": "markdown",
   "id": "66e17594",
   "metadata": {},
   "source": [
    "as consequence it is recommanded to use the import method : "
   ]
  },
  {
   "cell_type": "code",
   "execution_count": 26,
   "id": "69c1e370",
   "metadata": {},
   "outputs": [
    {
     "name": "stdout",
     "output_type": "stream",
     "text": [
      "<class 'legal_doc_processing.press_release.press_release.PressRelease'>\n"
     ]
    }
   ],
   "source": [
    "from legal_doc_processing import press_release as pr\n",
    "\n",
    "print(pr.PressRelease)"
   ]
  },
  {
   "cell_type": "markdown",
   "id": "dd27fd2f",
   "metadata": {},
   "source": [
    "LegalDoc, PressRelease and Decision are inheritance of The Base class. You can consider The Base class is an\n",
    "as an abstraction of 3 others objecst."
   ]
  },
  {
   "cell_type": "markdown",
   "id": "c67a3d3d",
   "metadata": {},
   "source": [
    "Of course you can call this class, even if you will not mainuplate it "
   ]
  },
  {
   "cell_type": "code",
   "execution_count": 11,
   "id": "381c1401",
   "metadata": {},
   "outputs": [
    {
     "name": "stdout",
     "output_type": "stream",
     "text": [
      "<class 'legal_doc_processing.base.base.Base'>\n"
     ]
    }
   ],
   "source": [
    "from legal_doc_processing.base.base import Base\n",
    "print(Base)"
   ]
  },
  {
   "cell_type": "code",
   "execution_count": null,
   "id": "bcf9930b",
   "metadata": {},
   "outputs": [],
   "source": [
    "\n",
    "<br>\n",
    "\n",
    "### Instanciation\n",
    "youn can init an object in 2 ways.\n",
    "* with text directly\n",
    "```\n",
    "from legal_doc_processing import ld\n",
    "doc = ld.LegalDoc(\"this is a document\")\n",
    "# or better\n",
    "doc = ld.from_text(\"this is a document\")\n",
    "```\n",
    "* with path to a file\n",
    "```\n",
    "doc = ld.from_file(\"this/is/my/file.txt\")\n",
    "```\n",
    "\n",
    "for press release, same pattern: \n",
    "```\n",
    "from legal_doc_processing import pr\n",
    "press = ld.PressRelease(\"this is a press release\")\n",
    "press = ld.from_text(\"this is a press release\")\n",
    "```\n",
    "* with path to a file\n",
    "```\n",
    "press = ld.from_file(\"this/is/my/file.txt\")\n",
    "```\n",
    "\n",
    "once instanciated, you can print : \n",
    "```\n",
    "print(doc)\n",
    "```\n",
    "<br>\n",
    "\n",
    "all interessing features are in feature_dict attribute\n",
    "```\n",
    "print(doc.feature_dict)\n",
    "```\n",
    "<br>\n",
    "\n",
    "### Predictions\n",
    "\n",
    "you can now make predictions : \n",
    "```\n",
    "defendant = doc.predict(\"defendant\")\n",
    "print(defendant)\n",
    "case = doc.predict(\"case\")\n",
    "print(case)\n",
    "```\n",
    "<br>\n",
    "\n",
    "predict method return a something but alson work on the object itself : \n",
    "```\n",
    "print(doc)\n",
    "print(doc.feature_dict)\n",
    "```\n",
    "<br>\n",
    "\n",
    "of course most easy is to predict all : \n",
    "```\n",
    "features = doc.predict(\"all\")\n",
    "print(features)\n",
    "print(doc)\n",
    "```\n",
    "<br>\n",
    "\n",
    "you can acces to final predictions or detailed prediction: \n",
    "```\n",
    "print(doc.feature_dict) # just the results\n",
    "print(doc._feature_dict) # results + score for each result\n",
    "```\n",
    "\n",
    "<br>\n",
    "<br>"
   ]
  },
  {
   "cell_type": "code",
   "execution_count": null,
   "id": "bd528d36",
   "metadata": {},
   "outputs": [],
   "source": []
  }
 ],
 "metadata": {
  "kernelspec": {
   "display_name": "Python 3",
   "language": "python",
   "name": "python3"
  },
  "language_info": {
   "codemirror_mode": {
    "name": "ipython",
    "version": 3
   },
   "file_extension": ".py",
   "mimetype": "text/x-python",
   "name": "python",
   "nbconvert_exporter": "python",
   "pygments_lexer": "ipython3",
   "version": "3.8.10"
  }
 },
 "nbformat": 4,
 "nbformat_minor": 5
}
