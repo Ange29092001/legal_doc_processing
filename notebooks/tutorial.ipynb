{
 "cells": [
  {
   "cell_type": "markdown",
   "id": "e49ecc67",
   "metadata": {},
   "source": [
    "# Tutorial"
   ]
  },
  {
   "cell_type": "markdown",
   "id": "4d4819f9",
   "metadata": {},
   "source": [
    "In this notebook, we are going to have a good tour of main features, usages and how-to of the package."
   ]
  },
  {
   "cell_type": "markdown",
   "id": "944ebe2a",
   "metadata": {},
   "source": []
  },
  {
   "cell_type": "markdown",
   "id": "dedca9d5",
   "metadata": {},
   "source": [
    "## 1. Install"
   ]
  },
  {
   "cell_type": "markdown",
   "id": "b4c21eca",
   "metadata": {},
   "source": [
    "As requested we need to install the package from pypi. Depends of your internet connection, it could take 1 or 2 minutes."
   ]
  },
  {
   "cell_type": "code",
   "execution_count": 2,
   "id": "1bfadfe6",
   "metadata": {},
   "outputs": [
    {
     "name": "stdout",
     "output_type": "stream",
     "text": [
      "Requirement already satisfied: legal_doc_processing==2.2.3 in /home/alex/ENV/lib/python3.8/site-packages (2.2.3)\n",
      "Requirement already satisfied: tensorflow in /home/alex/ENV/lib/python3.8/site-packages (from legal_doc_processing==2.2.3) (2.5.0)\n",
      "Requirement already satisfied: nltk in /home/alex/ENV/lib/python3.8/site-packages (from legal_doc_processing==2.2.3) (3.6.2)\n",
      "Requirement already satisfied: clean-text in /home/alex/ENV/lib/python3.8/site-packages (from legal_doc_processing==2.2.3) (0.4.0)\n",
      "Requirement already satisfied: word2vec in /home/alex/ENV/lib/python3.8/site-packages (from legal_doc_processing==2.2.3) (0.11.1)\n",
      "Requirement already satisfied: google-cloud-storage in /home/alex/ENV/lib/python3.8/site-packages (from legal_doc_processing==2.2.3) (1.38.0)\n",
      "Requirement already satisfied: dateparser in /home/alex/ENV/lib/python3.8/site-packages (from legal_doc_processing==2.2.3) (1.0.0)\n",
      "Requirement already satisfied: transformers in /home/alex/ENV/lib/python3.8/site-packages (from legal_doc_processing==2.2.3) (4.6.1)\n",
      "Requirement already satisfied: scikit-learn in /home/alex/ENV/lib/python3.8/site-packages (from legal_doc_processing==2.2.3) (0.24.2)\n",
      "Requirement already satisfied: pandas in /home/alex/ENV/lib/python3.8/site-packages (from legal_doc_processing==2.2.3) (1.2.4)\n",
      "Requirement already satisfied: spacy in /home/alex/ENV/lib/python3.8/site-packages (from legal_doc_processing==2.2.3) (3.0.6)\n",
      "Requirement already satisfied: emoji in /home/alex/ENV/lib/python3.8/site-packages (from clean-text->legal_doc_processing==2.2.3) (1.2.0)\n",
      "Requirement already satisfied: ftfy<7.0,>=6.0 in /home/alex/ENV/lib/python3.8/site-packages (from clean-text->legal_doc_processing==2.2.3) (6.0.1)\n",
      "Requirement already satisfied: wcwidth in /home/alex/ENV/lib/python3.8/site-packages (from ftfy<7.0,>=6.0->clean-text->legal_doc_processing==2.2.3) (0.2.5)\n",
      "Requirement already satisfied: tzlocal in /home/alex/ENV/lib/python3.8/site-packages (from dateparser->legal_doc_processing==2.2.3) (2.1)\n",
      "Requirement already satisfied: python-dateutil in /home/alex/ENV/lib/python3.8/site-packages (from dateparser->legal_doc_processing==2.2.3) (2.8.1)\n",
      "Requirement already satisfied: regex!=2019.02.19 in /home/alex/ENV/lib/python3.8/site-packages (from dateparser->legal_doc_processing==2.2.3) (2020.9.27)\n",
      "Requirement already satisfied: pytz in /home/alex/ENV/lib/python3.8/site-packages (from dateparser->legal_doc_processing==2.2.3) (2020.1)\n",
      "Requirement already satisfied: google-auth<2.0dev,>=1.11.0 in /home/alex/ENV/lib/python3.8/site-packages (from google-cloud-storage->legal_doc_processing==2.2.3) (1.30.1)\n",
      "Requirement already satisfied: google-resumable-media<2.0dev,>=1.2.0 in /home/alex/ENV/lib/python3.8/site-packages (from google-cloud-storage->legal_doc_processing==2.2.3) (1.3.0)\n",
      "Requirement already satisfied: google-cloud-core<2.0dev,>=1.4.1 in /home/alex/ENV/lib/python3.8/site-packages (from google-cloud-storage->legal_doc_processing==2.2.3) (1.6.0)\n",
      "Requirement already satisfied: requests<3.0.0dev,>=2.18.0 in /home/alex/ENV/lib/python3.8/site-packages (from google-cloud-storage->legal_doc_processing==2.2.3) (2.24.0)\n",
      "Requirement already satisfied: six>=1.9.0 in /home/alex/ENV/lib/python3.8/site-packages (from google-auth<2.0dev,>=1.11.0->google-cloud-storage->legal_doc_processing==2.2.3) (1.15.0)\n",
      "Requirement already satisfied: setuptools>=40.3.0 in /home/alex/ENV/lib/python3.8/site-packages (from google-auth<2.0dev,>=1.11.0->google-cloud-storage->legal_doc_processing==2.2.3) (54.1.3)\n",
      "Requirement already satisfied: cachetools<5.0,>=2.0.0 in /home/alex/ENV/lib/python3.8/site-packages (from google-auth<2.0dev,>=1.11.0->google-cloud-storage->legal_doc_processing==2.2.3) (4.2.2)\n",
      "Requirement already satisfied: pyasn1-modules>=0.2.1 in /home/alex/ENV/lib/python3.8/site-packages (from google-auth<2.0dev,>=1.11.0->google-cloud-storage->legal_doc_processing==2.2.3) (0.2.8)\n",
      "Requirement already satisfied: rsa<5,>=3.1.4 in /home/alex/ENV/lib/python3.8/site-packages (from google-auth<2.0dev,>=1.11.0->google-cloud-storage->legal_doc_processing==2.2.3) (4.7.2)\n",
      "Requirement already satisfied: google-api-core<2.0.0dev,>=1.21.0 in /home/alex/ENV/lib/python3.8/site-packages (from google-cloud-core<2.0dev,>=1.4.1->google-cloud-storage->legal_doc_processing==2.2.3) (1.28.0)\n",
      "Requirement already satisfied: protobuf>=3.12.0 in /home/alex/ENV/lib/python3.8/site-packages (from google-api-core<2.0.0dev,>=1.21.0->google-cloud-core<2.0dev,>=1.4.1->google-cloud-storage->legal_doc_processing==2.2.3) (3.17.1)\n",
      "Requirement already satisfied: packaging>=14.3 in /home/alex/ENV/lib/python3.8/site-packages (from google-api-core<2.0.0dev,>=1.21.0->google-cloud-core<2.0dev,>=1.4.1->google-cloud-storage->legal_doc_processing==2.2.3) (20.4)\n",
      "Requirement already satisfied: googleapis-common-protos<2.0dev,>=1.6.0 in /home/alex/ENV/lib/python3.8/site-packages (from google-api-core<2.0.0dev,>=1.21.0->google-cloud-core<2.0dev,>=1.4.1->google-cloud-storage->legal_doc_processing==2.2.3) (1.53.0)\n",
      "Requirement already satisfied: google-crc32c<2.0dev,>=1.0 in /home/alex/ENV/lib/python3.8/site-packages (from google-resumable-media<2.0dev,>=1.2.0->google-cloud-storage->legal_doc_processing==2.2.3) (1.1.2)\n",
      "Requirement already satisfied: cffi>=1.0.0 in /home/alex/ENV/lib/python3.8/site-packages (from google-crc32c<2.0dev,>=1.0->google-resumable-media<2.0dev,>=1.2.0->google-cloud-storage->legal_doc_processing==2.2.3) (1.14.3)\n",
      "Requirement already satisfied: pycparser in /home/alex/ENV/lib/python3.8/site-packages (from cffi>=1.0.0->google-crc32c<2.0dev,>=1.0->google-resumable-media<2.0dev,>=1.2.0->google-cloud-storage->legal_doc_processing==2.2.3) (2.20)\n",
      "Requirement already satisfied: pyparsing>=2.0.2 in /home/alex/ENV/lib/python3.8/site-packages (from packaging>=14.3->google-api-core<2.0.0dev,>=1.21.0->google-cloud-core<2.0dev,>=1.4.1->google-cloud-storage->legal_doc_processing==2.2.3) (2.4.7)\n",
      "Requirement already satisfied: pyasn1<0.5.0,>=0.4.6 in /home/alex/ENV/lib/python3.8/site-packages (from pyasn1-modules>=0.2.1->google-auth<2.0dev,>=1.11.0->google-cloud-storage->legal_doc_processing==2.2.3) (0.4.8)\n",
      "Requirement already satisfied: urllib3!=1.25.0,!=1.25.1,<1.26,>=1.21.1 in /home/alex/ENV/lib/python3.8/site-packages (from requests<3.0.0dev,>=2.18.0->google-cloud-storage->legal_doc_processing==2.2.3) (1.25.10)\n",
      "Requirement already satisfied: certifi>=2017.4.17 in /home/alex/ENV/lib/python3.8/site-packages (from requests<3.0.0dev,>=2.18.0->google-cloud-storage->legal_doc_processing==2.2.3) (2020.6.20)\n",
      "Requirement already satisfied: chardet<4,>=3.0.2 in /home/alex/ENV/lib/python3.8/site-packages (from requests<3.0.0dev,>=2.18.0->google-cloud-storage->legal_doc_processing==2.2.3) (3.0.4)\n",
      "Requirement already satisfied: idna<3,>=2.5 in /home/alex/ENV/lib/python3.8/site-packages (from requests<3.0.0dev,>=2.18.0->google-cloud-storage->legal_doc_processing==2.2.3) (2.10)\n",
      "Requirement already satisfied: tqdm in /home/alex/ENV/lib/python3.8/site-packages (from nltk->legal_doc_processing==2.2.3) (4.60.0)\n",
      "Requirement already satisfied: click in /home/alex/ENV/lib/python3.8/site-packages (from nltk->legal_doc_processing==2.2.3) (7.1.2)\n",
      "Requirement already satisfied: joblib in /home/alex/ENV/lib/python3.8/site-packages (from nltk->legal_doc_processing==2.2.3) (1.0.1)\n",
      "Requirement already satisfied: numpy>=1.16.5 in /home/alex/ENV/lib/python3.8/site-packages (from pandas->legal_doc_processing==2.2.3) (1.19.2)\n",
      "Requirement already satisfied: threadpoolctl>=2.0.0 in /home/alex/ENV/lib/python3.8/site-packages (from scikit-learn->legal_doc_processing==2.2.3) (2.1.0)\n",
      "Requirement already satisfied: scipy>=0.19.1 in /home/alex/ENV/lib/python3.8/site-packages (from scikit-learn->legal_doc_processing==2.2.3) (1.6.3)\n",
      "Requirement already satisfied: srsly<3.0.0,>=2.4.1 in /home/alex/ENV/lib/python3.8/site-packages (from spacy->legal_doc_processing==2.2.3) (2.4.1)\n",
      "Requirement already satisfied: jinja2 in /home/alex/ENV/lib/python3.8/site-packages (from spacy->legal_doc_processing==2.2.3) (2.11.2)\n",
      "Requirement already satisfied: preshed<3.1.0,>=3.0.2 in /home/alex/ENV/lib/python3.8/site-packages (from spacy->legal_doc_processing==2.2.3) (3.0.5)\n",
      "Requirement already satisfied: murmurhash<1.1.0,>=0.28.0 in /home/alex/ENV/lib/python3.8/site-packages (from spacy->legal_doc_processing==2.2.3) (1.0.5)\n",
      "Requirement already satisfied: pathy>=0.3.5 in /home/alex/ENV/lib/python3.8/site-packages (from spacy->legal_doc_processing==2.2.3) (0.5.2)\n",
      "Requirement already satisfied: catalogue<2.1.0,>=2.0.3 in /home/alex/ENV/lib/python3.8/site-packages (from spacy->legal_doc_processing==2.2.3) (2.0.4)\n",
      "Requirement already satisfied: spacy-legacy<3.1.0,>=3.0.4 in /home/alex/ENV/lib/python3.8/site-packages (from spacy->legal_doc_processing==2.2.3) (3.0.5)\n",
      "Requirement already satisfied: blis<0.8.0,>=0.4.0 in /home/alex/ENV/lib/python3.8/site-packages (from spacy->legal_doc_processing==2.2.3) (0.7.4)\n",
      "Requirement already satisfied: typer<0.4.0,>=0.3.0 in /home/alex/ENV/lib/python3.8/site-packages (from spacy->legal_doc_processing==2.2.3) (0.3.2)\n",
      "Requirement already satisfied: cymem<2.1.0,>=2.0.2 in /home/alex/ENV/lib/python3.8/site-packages (from spacy->legal_doc_processing==2.2.3) (2.0.5)\n",
      "Requirement already satisfied: pydantic<1.8.0,>=1.7.1 in /home/alex/ENV/lib/python3.8/site-packages (from spacy->legal_doc_processing==2.2.3) (1.7.3)\n",
      "Requirement already satisfied: wasabi<1.1.0,>=0.8.1 in /home/alex/ENV/lib/python3.8/site-packages (from spacy->legal_doc_processing==2.2.3) (0.8.2)\n",
      "Requirement already satisfied: thinc<8.1.0,>=8.0.3 in /home/alex/ENV/lib/python3.8/site-packages (from spacy->legal_doc_processing==2.2.3) (8.0.3)\n",
      "Requirement already satisfied: smart-open<4.0.0,>=2.2.0 in /home/alex/ENV/lib/python3.8/site-packages (from pathy>=0.3.5->spacy->legal_doc_processing==2.2.3) (3.0.0)\n"
     ]
    },
    {
     "name": "stdout",
     "output_type": "stream",
     "text": [
      "Requirement already satisfied: MarkupSafe>=0.23 in /home/alex/ENV/lib/python3.8/site-packages (from jinja2->spacy->legal_doc_processing==2.2.3) (1.1.1)\n",
      "Requirement already satisfied: keras-nightly~=2.5.0.dev in /home/alex/ENV/lib/python3.8/site-packages (from tensorflow->legal_doc_processing==2.2.3) (2.5.0.dev2021032900)\n",
      "Requirement already satisfied: wheel~=0.35 in /home/alex/ENV/lib/python3.8/site-packages (from tensorflow->legal_doc_processing==2.2.3) (0.36.2)\n",
      "Requirement already satisfied: grpcio~=1.34.0 in /home/alex/ENV/lib/python3.8/site-packages (from tensorflow->legal_doc_processing==2.2.3) (1.34.1)\n",
      "Requirement already satisfied: tensorboard~=2.5 in /home/alex/ENV/lib/python3.8/site-packages (from tensorflow->legal_doc_processing==2.2.3) (2.5.0)\n",
      "Requirement already satisfied: keras-preprocessing~=1.1.2 in /home/alex/ENV/lib/python3.8/site-packages (from tensorflow->legal_doc_processing==2.2.3) (1.1.2)\n",
      "Requirement already satisfied: flatbuffers~=1.12.0 in /home/alex/ENV/lib/python3.8/site-packages (from tensorflow->legal_doc_processing==2.2.3) (1.12)\n",
      "Requirement already satisfied: opt-einsum~=3.3.0 in /home/alex/ENV/lib/python3.8/site-packages (from tensorflow->legal_doc_processing==2.2.3) (3.3.0)\n",
      "Requirement already satisfied: termcolor~=1.1.0 in /home/alex/ENV/lib/python3.8/site-packages (from tensorflow->legal_doc_processing==2.2.3) (1.1.0)\n",
      "Requirement already satisfied: google-pasta~=0.2 in /home/alex/ENV/lib/python3.8/site-packages (from tensorflow->legal_doc_processing==2.2.3) (0.2.0)\n",
      "Requirement already satisfied: wrapt~=1.12.1 in /home/alex/ENV/lib/python3.8/site-packages (from tensorflow->legal_doc_processing==2.2.3) (1.12.1)\n",
      "Requirement already satisfied: typing-extensions~=3.7.4 in /home/alex/ENV/lib/python3.8/site-packages (from tensorflow->legal_doc_processing==2.2.3) (3.7.4.3)\n",
      "Requirement already satisfied: h5py~=3.1.0 in /home/alex/ENV/lib/python3.8/site-packages (from tensorflow->legal_doc_processing==2.2.3) (3.1.0)\n",
      "Requirement already satisfied: tensorflow-estimator<2.6.0,>=2.5.0rc0 in /home/alex/ENV/lib/python3.8/site-packages (from tensorflow->legal_doc_processing==2.2.3) (2.5.0)\n",
      "Requirement already satisfied: astunparse~=1.6.3 in /home/alex/ENV/lib/python3.8/site-packages (from tensorflow->legal_doc_processing==2.2.3) (1.6.3)\n",
      "Requirement already satisfied: absl-py~=0.10 in /home/alex/ENV/lib/python3.8/site-packages (from tensorflow->legal_doc_processing==2.2.3) (0.12.0)\n",
      "Requirement already satisfied: gast==0.4.0 in /home/alex/ENV/lib/python3.8/site-packages (from tensorflow->legal_doc_processing==2.2.3) (0.4.0)\n",
      "Requirement already satisfied: markdown>=2.6.8 in /home/alex/ENV/lib/python3.8/site-packages (from tensorboard~=2.5->tensorflow->legal_doc_processing==2.2.3) (3.3.4)\n",
      "Requirement already satisfied: tensorboard-plugin-wit>=1.6.0 in /home/alex/ENV/lib/python3.8/site-packages (from tensorboard~=2.5->tensorflow->legal_doc_processing==2.2.3) (1.8.0)\n",
      "Requirement already satisfied: google-auth-oauthlib<0.5,>=0.4.1 in /home/alex/ENV/lib/python3.8/site-packages (from tensorboard~=2.5->tensorflow->legal_doc_processing==2.2.3) (0.4.4)\n",
      "Requirement already satisfied: werkzeug>=0.11.15 in /home/alex/ENV/lib/python3.8/site-packages (from tensorboard~=2.5->tensorflow->legal_doc_processing==2.2.3) (1.0.1)\n",
      "Requirement already satisfied: tensorboard-data-server<0.7.0,>=0.6.0 in /home/alex/ENV/lib/python3.8/site-packages (from tensorboard~=2.5->tensorflow->legal_doc_processing==2.2.3) (0.6.1)\n",
      "Requirement already satisfied: requests-oauthlib>=0.7.0 in /home/alex/ENV/lib/python3.8/site-packages (from google-auth-oauthlib<0.5,>=0.4.1->tensorboard~=2.5->tensorflow->legal_doc_processing==2.2.3) (1.3.0)\n",
      "Requirement already satisfied: oauthlib>=3.0.0 in /home/alex/ENV/lib/python3.8/site-packages (from requests-oauthlib>=0.7.0->google-auth-oauthlib<0.5,>=0.4.1->tensorboard~=2.5->tensorflow->legal_doc_processing==2.2.3) (3.1.1)\n",
      "Requirement already satisfied: sacremoses in /home/alex/ENV/lib/python3.8/site-packages (from transformers->legal_doc_processing==2.2.3) (0.0.45)\n",
      "Requirement already satisfied: tokenizers<0.11,>=0.10.1 in /home/alex/ENV/lib/python3.8/site-packages (from transformers->legal_doc_processing==2.2.3) (0.10.2)\n",
      "Requirement already satisfied: filelock in /home/alex/ENV/lib/python3.8/site-packages (from transformers->legal_doc_processing==2.2.3) (3.0.12)\n",
      "Requirement already satisfied: huggingface-hub==0.0.8 in /home/alex/ENV/lib/python3.8/site-packages (from transformers->legal_doc_processing==2.2.3) (0.0.8)\n"
     ]
    }
   ],
   "source": [
    "!pip install legal_doc_processing==2.2.3"
   ]
  },
  {
   "cell_type": "markdown",
   "id": "699599e1",
   "metadata": {},
   "source": [
    "## 2.Check package integriity and download third parties objects"
   ]
  },
  {
   "cell_type": "markdown",
   "id": "1ef94203",
   "metadata": {},
   "source": [
    "As we will use major NLP Librairies,we need to download data collections and mandory web assets such as NLTK stop words, Scapy or Transformers models or tensorflow/pyTorch assets. It can take 1/2 minutes (depends of your web connection)"
   ]
  },
  {
   "cell_type": "code",
   "execution_count": null,
   "id": "9bfc5b75",
   "metadata": {},
   "outputs": [],
   "source": []
  },
  {
   "cell_type": "code",
   "execution_count": null,
   "id": "bcf9930b",
   "metadata": {},
   "outputs": [],
   "source": [
    "\n",
    "There is 3 main modules in legal-doc-processing : \n",
    "- legal_doc for LegalDoc objects ie order, complaint, etc etc official documents\n",
    "- press_release for PressRelease objects for legal press release related to each case\n",
    "- decision for both LegalDoc and PressRelease documents. The Decision object is able to read both, make prediction from both documents and merge/clean prediction of both documents. If just one of them, the object will apply basic method based on LegalDoc or PressRelease object\n",
    "\n",
    "so you can :\n",
    "```\n",
    "from legal_doc_processing import *  # import all\n",
    "from legal_doc_processing import legal_doc # import legal document module\n",
    "from legal_doc_processing import press_release # import press release module\n",
    "from legal_doc_processing import decision # import decision module\n",
    "```\n",
    "<br>\n",
    "\n",
    "### Instanciation\n",
    "youn can init an object in 2 ways.\n",
    "* with text directly\n",
    "```\n",
    "from legal_doc_processing import ld\n",
    "doc = ld.LegalDoc(\"this is a document\")\n",
    "# or better\n",
    "doc = ld.from_text(\"this is a document\")\n",
    "```\n",
    "* with path to a file\n",
    "```\n",
    "doc = ld.from_file(\"this/is/my/file.txt\")\n",
    "```\n",
    "\n",
    "for press release, same pattern: \n",
    "```\n",
    "from legal_doc_processing import pr\n",
    "press = ld.PressRelease(\"this is a press release\")\n",
    "press = ld.from_text(\"this is a press release\")\n",
    "```\n",
    "* with path to a file\n",
    "```\n",
    "press = ld.from_file(\"this/is/my/file.txt\")\n",
    "```\n",
    "\n",
    "once instanciated, you can print : \n",
    "```\n",
    "print(doc)\n",
    "```\n",
    "<br>\n",
    "\n",
    "all interessing features are in feature_dict attribute\n",
    "```\n",
    "print(doc.feature_dict)\n",
    "```\n",
    "<br>\n",
    "\n",
    "### Predictions\n",
    "\n",
    "you can now make predictions : \n",
    "```\n",
    "defendant = doc.predict(\"defendant\")\n",
    "print(defendant)\n",
    "case = doc.predict(\"case\")\n",
    "print(case)\n",
    "```\n",
    "<br>\n",
    "\n",
    "predict method return a something but alson work on the object itself : \n",
    "```\n",
    "print(doc)\n",
    "print(doc.feature_dict)\n",
    "```\n",
    "<br>\n",
    "\n",
    "of course most easy is to predict all : \n",
    "```\n",
    "features = doc.predict(\"all\")\n",
    "print(features)\n",
    "print(doc)\n",
    "```\n",
    "<br>\n",
    "\n",
    "you can acces to final predictions or detailed prediction: \n",
    "```\n",
    "print(doc.feature_dict) # just the results\n",
    "print(doc._feature_dict) # results + score for each result\n",
    "```\n",
    "\n",
    "<br>\n",
    "<br>"
   ]
  }
 ],
 "metadata": {
  "kernelspec": {
   "display_name": "Python 3",
   "language": "python",
   "name": "python3"
  },
  "language_info": {
   "codemirror_mode": {
    "name": "ipython",
    "version": 3
   },
   "file_extension": ".py",
   "mimetype": "text/x-python",
   "name": "python",
   "nbconvert_exporter": "python",
   "pygments_lexer": "ipython3",
   "version": "3.8.10"
  }
 },
 "nbformat": 4,
 "nbformat_minor": 5
}
