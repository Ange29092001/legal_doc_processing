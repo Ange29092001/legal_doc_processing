{
 "cells": [
  {
   "cell_type": "markdown",
   "id": "cf307676",
   "metadata": {},
   "source": [
    "# TUTORIAL"
   ]
  },
  {
   "cell_type": "markdown",
   "id": "6b328d62",
   "metadata": {},
   "source": [
    "In this notebook, we are going to have a good tour of main features, usages and how-to of the package."
   ]
  },
  {
   "cell_type": "markdown",
   "id": "b04d7027",
   "metadata": {},
   "source": []
  },
  {
   "cell_type": "markdown",
   "id": "8e999060",
   "metadata": {},
   "source": [
    "## 1. Install"
   ]
  },
  {
   "cell_type": "markdown",
   "id": "df3e06f1",
   "metadata": {},
   "source": [
    "As requested we need to install the package from pypi. Depends of your internet connection, it could take 1 or 2 minutes."
   ]
  },
  {
   "cell_type": "code",
   "execution_count": 1,
   "id": "e6cfb9e7",
   "metadata": {},
   "outputs": [
    {
     "name": "stdout",
     "output_type": "stream",
     "text": [
      "Requirement already satisfied: legal_doc_processing==2.2.3 in /home/alex/ENV/lib/python3.8/site-packages (2.2.3)\n",
      "Requirement already satisfied: nltk in /home/alex/ENV/lib/python3.8/site-packages (from legal_doc_processing==2.2.3) (3.6.2)\n",
      "Requirement already satisfied: spacy in /home/alex/ENV/lib/python3.8/site-packages (from legal_doc_processing==2.2.3) (3.0.6)\n",
      "Requirement already satisfied: tensorflow in /home/alex/ENV/lib/python3.8/site-packages (from legal_doc_processing==2.2.3) (2.5.0)\n",
      "Requirement already satisfied: transformers in /home/alex/ENV/lib/python3.8/site-packages (from legal_doc_processing==2.2.3) (4.6.1)\n",
      "Requirement already satisfied: pandas in /home/alex/ENV/lib/python3.8/site-packages (from legal_doc_processing==2.2.3) (1.2.4)\n",
      "Requirement already satisfied: scikit-learn in /home/alex/ENV/lib/python3.8/site-packages (from legal_doc_processing==2.2.3) (0.24.2)\n",
      "Requirement already satisfied: clean-text in /home/alex/ENV/lib/python3.8/site-packages (from legal_doc_processing==2.2.3) (0.4.0)\n",
      "Requirement already satisfied: google-cloud-storage in /home/alex/ENV/lib/python3.8/site-packages (from legal_doc_processing==2.2.3) (1.38.0)\n",
      "Requirement already satisfied: word2vec in /home/alex/ENV/lib/python3.8/site-packages (from legal_doc_processing==2.2.3) (0.11.1)\n",
      "Requirement already satisfied: dateparser in /home/alex/ENV/lib/python3.8/site-packages (from legal_doc_processing==2.2.3) (1.0.0)\n",
      "Requirement already satisfied: ftfy<7.0,>=6.0 in /home/alex/ENV/lib/python3.8/site-packages (from clean-text->legal_doc_processing==2.2.3) (6.0.1)\n",
      "Requirement already satisfied: emoji in /home/alex/ENV/lib/python3.8/site-packages (from clean-text->legal_doc_processing==2.2.3) (1.2.0)\n",
      "Requirement already satisfied: wcwidth in /home/alex/ENV/lib/python3.8/site-packages (from ftfy<7.0,>=6.0->clean-text->legal_doc_processing==2.2.3) (0.2.5)\n",
      "Requirement already satisfied: python-dateutil in /home/alex/ENV/lib/python3.8/site-packages (from dateparser->legal_doc_processing==2.2.3) (2.8.1)\n",
      "Requirement already satisfied: regex!=2019.02.19 in /home/alex/ENV/lib/python3.8/site-packages (from dateparser->legal_doc_processing==2.2.3) (2020.9.27)\n",
      "Requirement already satisfied: tzlocal in /home/alex/ENV/lib/python3.8/site-packages (from dateparser->legal_doc_processing==2.2.3) (2.1)\n",
      "Requirement already satisfied: pytz in /home/alex/ENV/lib/python3.8/site-packages (from dateparser->legal_doc_processing==2.2.3) (2020.1)\n",
      "Requirement already satisfied: google-auth<2.0dev,>=1.11.0 in /home/alex/ENV/lib/python3.8/site-packages (from google-cloud-storage->legal_doc_processing==2.2.3) (1.30.1)\n",
      "Requirement already satisfied: requests<3.0.0dev,>=2.18.0 in /home/alex/ENV/lib/python3.8/site-packages (from google-cloud-storage->legal_doc_processing==2.2.3) (2.24.0)\n",
      "Requirement already satisfied: google-cloud-core<2.0dev,>=1.4.1 in /home/alex/ENV/lib/python3.8/site-packages (from google-cloud-storage->legal_doc_processing==2.2.3) (1.6.0)\n",
      "Requirement already satisfied: google-resumable-media<2.0dev,>=1.2.0 in /home/alex/ENV/lib/python3.8/site-packages (from google-cloud-storage->legal_doc_processing==2.2.3) (1.3.0)\n",
      "Requirement already satisfied: cachetools<5.0,>=2.0.0 in /home/alex/ENV/lib/python3.8/site-packages (from google-auth<2.0dev,>=1.11.0->google-cloud-storage->legal_doc_processing==2.2.3) (4.2.2)\n",
      "Requirement already satisfied: six>=1.9.0 in /home/alex/ENV/lib/python3.8/site-packages (from google-auth<2.0dev,>=1.11.0->google-cloud-storage->legal_doc_processing==2.2.3) (1.15.0)\n",
      "Requirement already satisfied: setuptools>=40.3.0 in /home/alex/ENV/lib/python3.8/site-packages (from google-auth<2.0dev,>=1.11.0->google-cloud-storage->legal_doc_processing==2.2.3) (54.1.3)\n",
      "Requirement already satisfied: pyasn1-modules>=0.2.1 in /home/alex/ENV/lib/python3.8/site-packages (from google-auth<2.0dev,>=1.11.0->google-cloud-storage->legal_doc_processing==2.2.3) (0.2.8)\n",
      "Requirement already satisfied: rsa<5,>=3.1.4 in /home/alex/ENV/lib/python3.8/site-packages (from google-auth<2.0dev,>=1.11.0->google-cloud-storage->legal_doc_processing==2.2.3) (4.7.2)\n",
      "Requirement already satisfied: google-api-core<2.0.0dev,>=1.21.0 in /home/alex/ENV/lib/python3.8/site-packages (from google-cloud-core<2.0dev,>=1.4.1->google-cloud-storage->legal_doc_processing==2.2.3) (1.28.0)\n",
      "Requirement already satisfied: protobuf>=3.12.0 in /home/alex/ENV/lib/python3.8/site-packages (from google-api-core<2.0.0dev,>=1.21.0->google-cloud-core<2.0dev,>=1.4.1->google-cloud-storage->legal_doc_processing==2.2.3) (3.17.1)\n",
      "Requirement already satisfied: googleapis-common-protos<2.0dev,>=1.6.0 in /home/alex/ENV/lib/python3.8/site-packages (from google-api-core<2.0.0dev,>=1.21.0->google-cloud-core<2.0dev,>=1.4.1->google-cloud-storage->legal_doc_processing==2.2.3) (1.53.0)\n",
      "Requirement already satisfied: packaging>=14.3 in /home/alex/ENV/lib/python3.8/site-packages (from google-api-core<2.0.0dev,>=1.21.0->google-cloud-core<2.0dev,>=1.4.1->google-cloud-storage->legal_doc_processing==2.2.3) (20.4)\n",
      "Requirement already satisfied: google-crc32c<2.0dev,>=1.0 in /home/alex/ENV/lib/python3.8/site-packages (from google-resumable-media<2.0dev,>=1.2.0->google-cloud-storage->legal_doc_processing==2.2.3) (1.1.2)\n",
      "Requirement already satisfied: cffi>=1.0.0 in /home/alex/ENV/lib/python3.8/site-packages (from google-crc32c<2.0dev,>=1.0->google-resumable-media<2.0dev,>=1.2.0->google-cloud-storage->legal_doc_processing==2.2.3) (1.14.3)\n",
      "Requirement already satisfied: pycparser in /home/alex/ENV/lib/python3.8/site-packages (from cffi>=1.0.0->google-crc32c<2.0dev,>=1.0->google-resumable-media<2.0dev,>=1.2.0->google-cloud-storage->legal_doc_processing==2.2.3) (2.20)\n",
      "Requirement already satisfied: pyparsing>=2.0.2 in /home/alex/ENV/lib/python3.8/site-packages (from packaging>=14.3->google-api-core<2.0.0dev,>=1.21.0->google-cloud-core<2.0dev,>=1.4.1->google-cloud-storage->legal_doc_processing==2.2.3) (2.4.7)\n",
      "Requirement already satisfied: pyasn1<0.5.0,>=0.4.6 in /home/alex/ENV/lib/python3.8/site-packages (from pyasn1-modules>=0.2.1->google-auth<2.0dev,>=1.11.0->google-cloud-storage->legal_doc_processing==2.2.3) (0.4.8)\n",
      "Requirement already satisfied: chardet<4,>=3.0.2 in /home/alex/ENV/lib/python3.8/site-packages (from requests<3.0.0dev,>=2.18.0->google-cloud-storage->legal_doc_processing==2.2.3) (3.0.4)\n",
      "Requirement already satisfied: certifi>=2017.4.17 in /home/alex/ENV/lib/python3.8/site-packages (from requests<3.0.0dev,>=2.18.0->google-cloud-storage->legal_doc_processing==2.2.3) (2020.6.20)\n",
      "Requirement already satisfied: idna<3,>=2.5 in /home/alex/ENV/lib/python3.8/site-packages (from requests<3.0.0dev,>=2.18.0->google-cloud-storage->legal_doc_processing==2.2.3) (2.10)\n",
      "Requirement already satisfied: urllib3!=1.25.0,!=1.25.1,<1.26,>=1.21.1 in /home/alex/ENV/lib/python3.8/site-packages (from requests<3.0.0dev,>=2.18.0->google-cloud-storage->legal_doc_processing==2.2.3) (1.25.10)\n",
      "Requirement already satisfied: tqdm in /home/alex/ENV/lib/python3.8/site-packages (from nltk->legal_doc_processing==2.2.3) (4.60.0)\n",
      "Requirement already satisfied: joblib in /home/alex/ENV/lib/python3.8/site-packages (from nltk->legal_doc_processing==2.2.3) (1.0.1)\n",
      "Requirement already satisfied: click in /home/alex/ENV/lib/python3.8/site-packages (from nltk->legal_doc_processing==2.2.3) (7.1.2)\n",
      "Requirement already satisfied: numpy>=1.16.5 in /home/alex/ENV/lib/python3.8/site-packages (from pandas->legal_doc_processing==2.2.3) (1.19.2)\n",
      "Requirement already satisfied: scipy>=0.19.1 in /home/alex/ENV/lib/python3.8/site-packages (from scikit-learn->legal_doc_processing==2.2.3) (1.6.3)\n",
      "Requirement already satisfied: threadpoolctl>=2.0.0 in /home/alex/ENV/lib/python3.8/site-packages (from scikit-learn->legal_doc_processing==2.2.3) (2.1.0)\n",
      "Requirement already satisfied: srsly<3.0.0,>=2.4.1 in /home/alex/ENV/lib/python3.8/site-packages (from spacy->legal_doc_processing==2.2.3) (2.4.1)\n",
      "Requirement already satisfied: cymem<2.1.0,>=2.0.2 in /home/alex/ENV/lib/python3.8/site-packages (from spacy->legal_doc_processing==2.2.3) (2.0.5)\n",
      "Requirement already satisfied: preshed<3.1.0,>=3.0.2 in /home/alex/ENV/lib/python3.8/site-packages (from spacy->legal_doc_processing==2.2.3) (3.0.5)\n",
      "Requirement already satisfied: spacy-legacy<3.1.0,>=3.0.4 in /home/alex/ENV/lib/python3.8/site-packages (from spacy->legal_doc_processing==2.2.3) (3.0.5)\n",
      "Requirement already satisfied: typer<0.4.0,>=0.3.0 in /home/alex/ENV/lib/python3.8/site-packages (from spacy->legal_doc_processing==2.2.3) (0.3.2)\n",
      "Requirement already satisfied: thinc<8.1.0,>=8.0.3 in /home/alex/ENV/lib/python3.8/site-packages (from spacy->legal_doc_processing==2.2.3) (8.0.3)\n",
      "Requirement already satisfied: murmurhash<1.1.0,>=0.28.0 in /home/alex/ENV/lib/python3.8/site-packages (from spacy->legal_doc_processing==2.2.3) (1.0.5)\n",
      "Requirement already satisfied: pydantic<1.8.0,>=1.7.1 in /home/alex/ENV/lib/python3.8/site-packages (from spacy->legal_doc_processing==2.2.3) (1.7.3)\n",
      "Requirement already satisfied: pathy>=0.3.5 in /home/alex/ENV/lib/python3.8/site-packages (from spacy->legal_doc_processing==2.2.3) (0.5.2)\n",
      "Requirement already satisfied: jinja2 in /home/alex/ENV/lib/python3.8/site-packages (from spacy->legal_doc_processing==2.2.3) (2.11.2)\n",
      "Requirement already satisfied: catalogue<2.1.0,>=2.0.3 in /home/alex/ENV/lib/python3.8/site-packages (from spacy->legal_doc_processing==2.2.3) (2.0.4)\n",
      "Requirement already satisfied: blis<0.8.0,>=0.4.0 in /home/alex/ENV/lib/python3.8/site-packages (from spacy->legal_doc_processing==2.2.3) (0.7.4)\n",
      "Requirement already satisfied: wasabi<1.1.0,>=0.8.1 in /home/alex/ENV/lib/python3.8/site-packages (from spacy->legal_doc_processing==2.2.3) (0.8.2)\n"
     ]
    },
    {
     "name": "stdout",
     "output_type": "stream",
     "text": [
      "Requirement already satisfied: smart-open<4.0.0,>=2.2.0 in /home/alex/ENV/lib/python3.8/site-packages (from pathy>=0.3.5->spacy->legal_doc_processing==2.2.3) (3.0.0)\n",
      "Requirement already satisfied: MarkupSafe>=0.23 in /home/alex/ENV/lib/python3.8/site-packages (from jinja2->spacy->legal_doc_processing==2.2.3) (1.1.1)\n",
      "Requirement already satisfied: google-pasta~=0.2 in /home/alex/ENV/lib/python3.8/site-packages (from tensorflow->legal_doc_processing==2.2.3) (0.2.0)\n",
      "Requirement already satisfied: termcolor~=1.1.0 in /home/alex/ENV/lib/python3.8/site-packages (from tensorflow->legal_doc_processing==2.2.3) (1.1.0)\n",
      "Requirement already satisfied: flatbuffers~=1.12.0 in /home/alex/ENV/lib/python3.8/site-packages (from tensorflow->legal_doc_processing==2.2.3) (1.12)\n",
      "Requirement already satisfied: typing-extensions~=3.7.4 in /home/alex/ENV/lib/python3.8/site-packages (from tensorflow->legal_doc_processing==2.2.3) (3.7.4.3)\n",
      "Requirement already satisfied: keras-nightly~=2.5.0.dev in /home/alex/ENV/lib/python3.8/site-packages (from tensorflow->legal_doc_processing==2.2.3) (2.5.0.dev2021032900)\n",
      "Requirement already satisfied: wheel~=0.35 in /home/alex/ENV/lib/python3.8/site-packages (from tensorflow->legal_doc_processing==2.2.3) (0.36.2)\n",
      "Requirement already satisfied: wrapt~=1.12.1 in /home/alex/ENV/lib/python3.8/site-packages (from tensorflow->legal_doc_processing==2.2.3) (1.12.1)\n",
      "Requirement already satisfied: opt-einsum~=3.3.0 in /home/alex/ENV/lib/python3.8/site-packages (from tensorflow->legal_doc_processing==2.2.3) (3.3.0)\n",
      "Requirement already satisfied: h5py~=3.1.0 in /home/alex/ENV/lib/python3.8/site-packages (from tensorflow->legal_doc_processing==2.2.3) (3.1.0)\n",
      "Requirement already satisfied: tensorboard~=2.5 in /home/alex/ENV/lib/python3.8/site-packages (from tensorflow->legal_doc_processing==2.2.3) (2.5.0)\n",
      "Requirement already satisfied: grpcio~=1.34.0 in /home/alex/ENV/lib/python3.8/site-packages (from tensorflow->legal_doc_processing==2.2.3) (1.34.1)\n",
      "Requirement already satisfied: absl-py~=0.10 in /home/alex/ENV/lib/python3.8/site-packages (from tensorflow->legal_doc_processing==2.2.3) (0.12.0)\n",
      "Requirement already satisfied: keras-preprocessing~=1.1.2 in /home/alex/ENV/lib/python3.8/site-packages (from tensorflow->legal_doc_processing==2.2.3) (1.1.2)\n",
      "Requirement already satisfied: gast==0.4.0 in /home/alex/ENV/lib/python3.8/site-packages (from tensorflow->legal_doc_processing==2.2.3) (0.4.0)\n",
      "Requirement already satisfied: astunparse~=1.6.3 in /home/alex/ENV/lib/python3.8/site-packages (from tensorflow->legal_doc_processing==2.2.3) (1.6.3)\n",
      "Requirement already satisfied: tensorflow-estimator<2.6.0,>=2.5.0rc0 in /home/alex/ENV/lib/python3.8/site-packages (from tensorflow->legal_doc_processing==2.2.3) (2.5.0)\n",
      "Requirement already satisfied: werkzeug>=0.11.15 in /home/alex/ENV/lib/python3.8/site-packages (from tensorboard~=2.5->tensorflow->legal_doc_processing==2.2.3) (1.0.1)\n",
      "Requirement already satisfied: tensorboard-data-server<0.7.0,>=0.6.0 in /home/alex/ENV/lib/python3.8/site-packages (from tensorboard~=2.5->tensorflow->legal_doc_processing==2.2.3) (0.6.1)\n",
      "Requirement already satisfied: google-auth-oauthlib<0.5,>=0.4.1 in /home/alex/ENV/lib/python3.8/site-packages (from tensorboard~=2.5->tensorflow->legal_doc_processing==2.2.3) (0.4.4)\n",
      "Requirement already satisfied: markdown>=2.6.8 in /home/alex/ENV/lib/python3.8/site-packages (from tensorboard~=2.5->tensorflow->legal_doc_processing==2.2.3) (3.3.4)\n",
      "Requirement already satisfied: tensorboard-plugin-wit>=1.6.0 in /home/alex/ENV/lib/python3.8/site-packages (from tensorboard~=2.5->tensorflow->legal_doc_processing==2.2.3) (1.8.0)\n",
      "Requirement already satisfied: requests-oauthlib>=0.7.0 in /home/alex/ENV/lib/python3.8/site-packages (from google-auth-oauthlib<0.5,>=0.4.1->tensorboard~=2.5->tensorflow->legal_doc_processing==2.2.3) (1.3.0)\n",
      "Requirement already satisfied: oauthlib>=3.0.0 in /home/alex/ENV/lib/python3.8/site-packages (from requests-oauthlib>=0.7.0->google-auth-oauthlib<0.5,>=0.4.1->tensorboard~=2.5->tensorflow->legal_doc_processing==2.2.3) (3.1.1)\n",
      "Requirement already satisfied: filelock in /home/alex/ENV/lib/python3.8/site-packages (from transformers->legal_doc_processing==2.2.3) (3.0.12)\n",
      "Requirement already satisfied: huggingface-hub==0.0.8 in /home/alex/ENV/lib/python3.8/site-packages (from transformers->legal_doc_processing==2.2.3) (0.0.8)\n",
      "Requirement already satisfied: sacremoses in /home/alex/ENV/lib/python3.8/site-packages (from transformers->legal_doc_processing==2.2.3) (0.0.45)\n",
      "Requirement already satisfied: tokenizers<0.11,>=0.10.1 in /home/alex/ENV/lib/python3.8/site-packages (from transformers->legal_doc_processing==2.2.3) (0.10.2)\n"
     ]
    }
   ],
   "source": [
    "!pip install legal_doc_processing==2.2.3"
   ]
  },
  {
   "cell_type": "markdown",
   "id": "862f78b2",
   "metadata": {},
   "source": []
  },
  {
   "cell_type": "markdown",
   "id": "ead64e83",
   "metadata": {},
   "source": [
    "## 2.Check package integriity and download third parties objects"
   ]
  },
  {
   "cell_type": "markdown",
   "id": "e000a61c",
   "metadata": {},
   "source": [
    "As we will use major NLP Librairies,we need to download data collections and mandory web assets such as NLTK stop words, Scapy or Transformers models or tensorflow/pyTorch assets. It can take 1/2 minutes (depends of your web connection)"
   ]
  },
  {
   "cell_type": "code",
   "execution_count": 2,
   "id": "45ad7608",
   "metadata": {},
   "outputs": [
    {
     "ename": "NameError",
     "evalue": "name 'boot' is not defined",
     "output_type": "error",
     "traceback": [
      "\u001b[0;31m---------------------------------------------------------------------------\u001b[0m",
      "\u001b[0;31mNameError\u001b[0m                                 Traceback (most recent call last)",
      "\u001b[0;32m<ipython-input-2-ea105abcd1cc>\u001b[0m in \u001b[0;36m<module>\u001b[0;34m\u001b[0m\n\u001b[1;32m      1\u001b[0m \u001b[0;32mimport\u001b[0m \u001b[0mlegal_doc_processing\u001b[0m\u001b[0;34m.\u001b[0m\u001b[0mboot\u001b[0m\u001b[0;34m\u001b[0m\u001b[0;34m\u001b[0m\u001b[0m\n\u001b[0;32m----> 2\u001b[0;31m \u001b[0mboot\u001b[0m\u001b[0;34m.\u001b[0m\u001b[0mboot\u001b[0m\u001b[0;34m(\u001b[0m\u001b[0;34m)\u001b[0m\u001b[0;34m\u001b[0m\u001b[0;34m\u001b[0m\u001b[0m\n\u001b[0m",
      "\u001b[0;31mNameError\u001b[0m: name 'boot' is not defined"
     ]
    }
   ],
   "source": [
    "import legal_doc_processing.boot\n",
    "boot.boot()"
   ]
  },
  {
   "cell_type": "markdown",
   "id": "72d8ff3f",
   "metadata": {},
   "source": []
  },
  {
   "cell_type": "code",
   "execution_count": null,
   "id": "c57d95e5",
   "metadata": {},
   "outputs": [],
   "source": []
  },
  {
   "cell_type": "markdown",
   "id": "887588c7",
   "metadata": {},
   "source": [
    "## 3. Understand bascic package structure"
   ]
  },
  {
   "cell_type": "markdown",
   "id": "9641ca1e",
   "metadata": {},
   "source": [
    "There is 3 main modules in legal-doc-processing : \n",
    "- legal_doc for LegalDoc objects ie order, complaint, etc etc all kinds of official documents\n",
    "- press_release for PressRelease objects for legal press release related to each case\n",
    "- decision for both LegalDoc and PressRelease documents. The Decision object is able to read both legal document and press release, make prediction from both documents and merge/clean predictions of both documents.\n"
   ]
  },
  {
   "cell_type": "markdown",
   "id": "0ca37cf0",
   "metadata": {},
   "source": [
    "so you can :"
   ]
  },
  {
   "cell_type": "code",
   "execution_count": null,
   "id": "fc575361",
   "metadata": {},
   "outputs": [],
   "source": [
    "from legal_doc_processing import legal_doc # import legal document module\n",
    "from legal_doc_processing import press_release # import press release module\n",
    "from legal_doc_processing import decision # import decision module"
   ]
  },
  {
   "cell_type": "markdown",
   "id": "a4decd0b",
   "metadata": {},
   "source": [
    "each package has its own Object"
   ]
  },
  {
   "cell_type": "markdown",
   "id": "70bbd123",
   "metadata": {},
   "source": []
  },
  {
   "cell_type": "code",
   "execution_count": null,
   "id": "1a4167d1",
   "metadata": {
    "scrolled": true
   },
   "outputs": [],
   "source": [
    "print(f\"press_release.PressRelease : {press_release.PressRelease} \\n\")\n",
    "print(f\"press_release.__doc__ : {press_release.__doc__} \\n\")\n",
    "print(f\"press_release.__dict__ : {press_release.__dict__}\")"
   ]
  },
  {
   "cell_type": "markdown",
   "id": "f8bea1ae",
   "metadata": {},
   "source": [
    "as consequence it is recommanded to use the import method : "
   ]
  },
  {
   "cell_type": "code",
   "execution_count": 4,
   "id": "a62ef116",
   "metadata": {},
   "outputs": [
    {
     "name": "stdout",
     "output_type": "stream",
     "text": [
      "<class 'legal_doc_processing.press_release.press_release.PressRelease'>\n"
     ]
    }
   ],
   "source": [
    "from legal_doc_processing import press_release as pr\n",
    "\n",
    "print(pr.PressRelease)"
   ]
  },
  {
   "cell_type": "markdown",
   "id": "41d47fc9",
   "metadata": {},
   "source": [
    "LegalDoc, PressRelease and Decision are inheritance of The Base class. You can consider The Base class is an\n",
    "as an abstraction of 3 others objecst."
   ]
  },
  {
   "cell_type": "markdown",
   "id": "ef866361",
   "metadata": {},
   "source": [
    "Of course you can call this class, even if you will not mainuplate it "
   ]
  },
  {
   "cell_type": "code",
   "execution_count": null,
   "id": "b912cc4f",
   "metadata": {},
   "outputs": [],
   "source": [
    "from legal_doc_processing.base.base import Base\n",
    "\n",
    "print(Base)"
   ]
  },
  {
   "cell_type": "markdown",
   "id": "e1bb7669",
   "metadata": {},
   "source": []
  },
  {
   "cell_type": "markdown",
   "id": "5c2d553d",
   "metadata": {},
   "source": [
    "## 4 Object instanciation"
   ]
  },
  {
   "cell_type": "markdown",
   "id": "66841684",
   "metadata": {},
   "source": [
    "youn can init an object in 3 ways.: \n",
    "- given a string\n",
    "- given a text file path\n",
    "- give an url\n",
    "\n",
    "this three methods are onboarded feature form the package: \n",
    "\n"
   ]
  },
  {
   "cell_type": "code",
   "execution_count": 7,
   "id": "8a5eaf4c",
   "metadata": {},
   "outputs": [
    {
     "ename": "AttributeError",
     "evalue": "type object '_PressRelease' has no attribute 'from_text'",
     "output_type": "error",
     "traceback": [
      "\u001b[0;31m---------------------------------------------------------------------------\u001b[0m",
      "\u001b[0;31mAttributeError\u001b[0m                            Traceback (most recent call last)",
      "\u001b[0;32m<ipython-input-7-f79a90b1fead>\u001b[0m in \u001b[0;36m<module>\u001b[0;34m\u001b[0m\n\u001b[1;32m      1\u001b[0m \u001b[0mpr\u001b[0m\u001b[0;34m.\u001b[0m\u001b[0mPressRelease\u001b[0m\u001b[0;34m\u001b[0m\u001b[0;34m\u001b[0m\u001b[0m\n\u001b[0;32m----> 2\u001b[0;31m \u001b[0mpr\u001b[0m\u001b[0;34m.\u001b[0m\u001b[0mfrom_text\u001b[0m\u001b[0;34m\u001b[0m\u001b[0;34m\u001b[0m\u001b[0m\n\u001b[0m\u001b[1;32m      3\u001b[0m \u001b[0;34m\u001b[0m\u001b[0m\n\u001b[1;32m      4\u001b[0m \u001b[0mprint\u001b[0m\u001b[0;34m(\u001b[0m\u001b[0mpr\u001b[0m\u001b[0;34m.\u001b[0m\u001b[0mPressRelease\u001b[0m\u001b[0;34m)\u001b[0m\u001b[0;34m\u001b[0m\u001b[0;34m\u001b[0m\u001b[0m\n\u001b[1;32m      5\u001b[0m \u001b[0mprint\u001b[0m\u001b[0;34m(\u001b[0m\u001b[0mpr\u001b[0m\u001b[0;34m.\u001b[0m\u001b[0mfrom_text\u001b[0m\u001b[0;34m)\u001b[0m\u001b[0;34m\u001b[0m\u001b[0;34m\u001b[0m\u001b[0m\n",
      "\u001b[0;31mAttributeError\u001b[0m: type object '_PressRelease' has no attribute 'from_text'"
     ]
    }
   ],
   "source": [
    "# with a string\n",
    "\n",
    "pr.PressRelease\n",
    "pr.from_text\n",
    "\n",
    "print(pr.PressRelease)\n",
    "print(pr.from_text)"
   ]
  },
  {
   "cell_type": "code",
   "execution_count": 8,
   "id": "ddc84f0c",
   "metadata": {},
   "outputs": [
    {
     "ename": "SyntaxError",
     "evalue": "invalid syntax (<ipython-input-8-b5af798b07bb>, line 3)",
     "output_type": "error",
     "traceback": [
      "\u001b[0;36m  File \u001b[0;32m\"<ipython-input-8-b5af798b07bb>\"\u001b[0;36m, line \u001b[0;32m3\u001b[0m\n\u001b[0;31m    pr.def from_file\u001b[0m\n\u001b[0m       ^\u001b[0m\n\u001b[0;31mSyntaxError\u001b[0m\u001b[0;31m:\u001b[0m invalid syntax\n"
     ]
    }
   ],
   "source": [
    "# with a file\n",
    "\n",
    "pr.from_file\n",
    "print(pr.from_file)"
   ]
  },
  {
   "cell_type": "code",
   "execution_count": 10,
   "id": "8cb463fa",
   "metadata": {},
   "outputs": [
    {
     "ename": "AttributeError",
     "evalue": "type object '_PressRelease' has no attribute 'from_url'",
     "output_type": "error",
     "traceback": [
      "\u001b[0;31m---------------------------------------------------------------------------\u001b[0m",
      "\u001b[0;31mAttributeError\u001b[0m                            Traceback (most recent call last)",
      "\u001b[0;32m<ipython-input-10-e19c111d0374>\u001b[0m in \u001b[0;36m<module>\u001b[0;34m\u001b[0m\n\u001b[1;32m      1\u001b[0m \u001b[0;31m# with a url\u001b[0m\u001b[0;34m\u001b[0m\u001b[0;34m\u001b[0m\u001b[0;34m\u001b[0m\u001b[0m\n\u001b[1;32m      2\u001b[0m \u001b[0;34m\u001b[0m\u001b[0m\n\u001b[0;32m----> 3\u001b[0;31m \u001b[0mpr\u001b[0m\u001b[0;34m.\u001b[0m\u001b[0mfrom_url\u001b[0m\u001b[0;34m\u001b[0m\u001b[0;34m\u001b[0m\u001b[0m\n\u001b[0m\u001b[1;32m      4\u001b[0m \u001b[0mprint\u001b[0m\u001b[0;34m(\u001b[0m\u001b[0mpr\u001b[0m\u001b[0;34m.\u001b[0m\u001b[0mfrom_url\u001b[0m\u001b[0;34m)\u001b[0m\u001b[0;34m\u001b[0m\u001b[0;34m\u001b[0m\u001b[0m\n",
      "\u001b[0;31mAttributeError\u001b[0m: type object '_PressRelease' has no attribute 'from_url'"
     ]
    }
   ],
   "source": [
    "# with a url\n",
    "\n",
    "pr.from_url\n",
    "print(pr.from_url)"
   ]
  },
  {
   "cell_type": "code",
   "execution_count": null,
   "id": "bfd11c36",
   "metadata": {},
   "outputs": [],
   "source": []
  },
  {
   "cell_type": "code",
   "execution_count": null,
   "id": "b5e060e0",
   "metadata": {},
   "outputs": [],
   "source": []
  },
  {
   "cell_type": "code",
   "execution_count": null,
   "id": "bcf9930b",
   "metadata": {},
   "outputs": [],
   "source": [
    "\n",
    "<br>\n",
    "\n",
    "### Instanciation\n",
    "youn can init an object in 3 ways.\n",
    "* with text directly\n",
    "```\n",
    "from legal_doc_processing import ld\n",
    "doc = ld.LegalDoc(\"this is a document\")\n",
    "# or better\n",
    "doc = ld.from_text(\"this is a document\")\n",
    "```\n",
    "* with path to a file\n",
    "```\n",
    "doc = ld.from_file(\"this/is/my/file.txt\")\n",
    "```\n",
    "\n",
    "for press release, same pattern: \n",
    "```\n",
    "from legal_doc_processing import pr\n",
    "press = ld.PressRelease(\"this is a press release\")\n",
    "press = ld.from_text(\"this is a press release\")\n",
    "```\n",
    "* with path to a file\n",
    "```\n",
    "press = ld.from_file(\"this/is/my/file.txt\")\n",
    "```\n",
    "\n",
    "once instanciated, you can print : \n",
    "```\n",
    "print(doc)\n",
    "```\n",
    "<br>\n",
    "\n",
    "all interessing features are in feature_dict attribute\n",
    "```\n",
    "print(doc.feature_dict)\n",
    "```\n",
    "<br>\n",
    "\n",
    "### Predictions\n",
    "\n",
    "you can now make predictions : \n",
    "```\n",
    "defendant = doc.predict(\"defendant\")\n",
    "print(defendant)\n",
    "case = doc.predict(\"case\")\n",
    "print(case)\n",
    "```\n",
    "<br>\n",
    "\n",
    "predict method return a something but alson work on the object itself : \n",
    "```\n",
    "print(doc)\n",
    "print(doc.feature_dict)\n",
    "```\n",
    "<br>\n",
    "\n",
    "of course most easy is to predict all : \n",
    "```\n",
    "features = doc.predict(\"all\")\n",
    "print(features)\n",
    "print(doc)\n",
    "```\n",
    "<br>\n",
    "\n",
    "you can acces to final predictions or detailed prediction: \n",
    "```\n",
    "print(doc.feature_dict) # just the results\n",
    "print(doc._feature_dict) # results + score for each result\n",
    "```\n",
    "\n",
    "<br>\n",
    "<br>"
   ]
  },
  {
   "cell_type": "code",
   "execution_count": null,
   "id": "b64412f1",
   "metadata": {},
   "outputs": [],
   "source": []
  }
 ],
 "metadata": {
  "kernelspec": {
   "display_name": "Python 3",
   "language": "python",
   "name": "python3"
  },
  "language_info": {
   "codemirror_mode": {
    "name": "ipython",
    "version": 3
   },
   "file_extension": ".py",
   "mimetype": "text/x-python",
   "name": "python",
   "nbconvert_exporter": "python",
   "pygments_lexer": "ipython3",
   "version": "3.8.10"
  }
 },
 "nbformat": 4,
 "nbformat_minor": 5
}
