{
 "cells": [
  {
   "cell_type": "code",
   "execution_count": 1,
   "metadata": {},
   "outputs": [],
   "source": [
    "import re\n",
    "import string\n",
    "from cleantext import clean\n",
    "import requests\n",
    "import json\n",
    "import glob\n",
    "import os\n",
    "import pandas as pd\n",
    "import numpy as np\n",
    "import dateparser\n",
    "import string \n",
    "#Data cleaning \n",
    "import bs4 as bs\n",
    "import urllib.request\n",
    "import re\n",
    "import nltk"
   ]
  },
  {
   "cell_type": "code",
   "execution_count": 2,
   "metadata": {},
   "outputs": [],
   "source": [
    "#!pip install clean-text\n",
    "#!pip install unidecode"
   ]
  },
  {
   "cell_type": "code",
   "execution_count": 3,
   "metadata": {},
   "outputs": [],
   "source": [
    "def clean(file):\n",
    "    article_text = re.sub(r'\\[[0-9]*\\]', ' ', file)\n",
    "    article_text = re.sub(r'\\s+', ' ', article_text)\n",
    "    formatted_article_text = re.sub('[^a-zA-Z]', ' ', article_text )\n",
    "    formatted_article_text = re.sub(r'\\s+', ' ', formatted_article_text)\n",
    "    return  article_text,formatted_article_text\n"
   ]
  },
  {
   "cell_type": "code",
   "execution_count": 4,
   "metadata": {},
   "outputs": [],
   "source": [
    "def load_data(text_path):\n",
    "    with open(text_path) as f:\n",
    "        file = f.read()\n",
    "    return file\n"
   ]
  },
  {
   "cell_type": "code",
   "execution_count": 6,
   "metadata": {},
   "outputs": [
    {
     "name": "stdout",
     "output_type": "stream",
     "text": [
      "/home/alex/Desktop/legal_doc_processing/notebooks\n",
      "data/cftc_text_7100-15_press-release.txt\n",
      "/home/alex/Desktop/legal_doc_processing/notebooks/data/cftc_text_7100-15_press-release.txt\n"
     ]
    },
    {
     "data": {
      "text/plain": [
       "True"
      ]
     },
     "execution_count": 6,
     "metadata": {},
     "output_type": "execute_result"
    }
   ],
   "source": [
    "# root\n",
    "root = os.getcwd()\n",
    "print(root)\n",
    "\n",
    "# file\n",
    "file = \"data/cftc_text_7100-15_press-release.txt\"\n",
    "print(file)\n",
    "\n",
    "# text_path\n",
    "text_path = root + \"/\" + file\n",
    "print(text_path)\n",
    "\n",
    "# sanitary check\n",
    "os.path.isfile(text_path)"
   ]
  },
  {
   "cell_type": "code",
   "execution_count": 7,
   "metadata": {},
   "outputs": [],
   "source": [
    "file=load_data(text_path)\n"
   ]
  },
  {
   "cell_type": "code",
   "execution_count": 9,
   "metadata": {},
   "outputs": [
    {
     "data": {
      "text/plain": [
       "'Release\\tNumber\\t7100-15\\n\\nJanuary\\t12,\\t2015\\n\\nFederal\\tCourt\\tin\\tFlorida\\tEnters\\tOrder\\tFreezing\\tAssets\\tin\\tCFTC\\tForeign\\tCurrency\\tAnti-\\nFraud\\tAction\\tagainst\\tAllied\\tMarkets\\tLLC\\tand\\tits\\tPrincipals\\tJoshua\\tGilliland\\tand\\tChawalit\\nWongkhiao\\n\\nCFTC\\tCharges\\tJacksonville,\\tFlorida,\\tDefendants\\twith\\tOperating\\ta\\nFraudulent\\tForex\\tPool\\tand\\tMisappropriating\\tCustomer\\tFunds\\tto\\tPay\\nPersonal\\tExpenses\\n\\nWashington,\\tDC\\t—\\tThe\\tU.S.\\tCommodity\\tFutures\\tTrading\\tCommission\\t(CFTC)\\ttoday\\tannounced\\tthat\\tit\\tfiled\\ta\\tcivil\\nenforcement\\tComplaint\\tin\\tthe\\tU.S.\\tDistrict\\tCourt\\tfor\\tthe\\tMiddle\\tDistrict\\tof\\tFlorida,\\tcharging\\tDefendants\\tAllied\\tMarkets\\nLLC,\\tand\\tits\\tprincipals\\tJoshua\\tGilliland\\tand\\tChawalit\\tWongkhiao,\\tall\\tof\\tJacksonville,\\tFlorida,\\twith\\toperating\\ta\\nfraudulent\\tforeign\\tcurrency\\t(forex)\\tcommodity\\tpool\\tin\\tviolation\\tof\\tthe\\tCommodity\\tExchange\\tAct\\t(CEA)\\tand\\tCFTC\\nRegulations.\\tIn\\taddition,\\tnone\\tof\\tthe\\tDefendants\\thas\\tever\\tbeen\\tregistered\\twith\\tthe\\tCFTC,\\tas\\trequired.\\n\\nOn\\tJanuary\\t7,\\t2015,\\tthe\\tday\\tafter\\tthe\\tCFTC\\tComplaint\\twas\\tfiled\\tunder\\tseal,\\tU.S.\\tDistrict\\tJudge\\tMarcia\\tMorales\\tHoward\\nissued\\tan\\temergency\\tOrder\\tfreezing\\tand\\tpreserving\\tassets\\tunder\\tthe\\tDefendants’\\tcontrol\\tand\\tprohibiting\\tthem\\tfrom\\ndestroying\\tdocuments\\tor\\tdenying\\tCFTC\\tstaff\\taccess\\tto\\ttheir\\tbooks\\tand\\trecords.\\tThe\\tCourt\\thas\\tscheduled\\ta\\thearing\\tfor\\nJanuary\\t21,\\t2015,\\ton\\tthe\\tCFTC’s\\tmotion\\tfor\\ta\\tpreliminary\\tinjunction.\\n\\nThe\\tCFTC\\tComplaint\\tcharges\\tthat,\\tas\\tearly\\tas\\tJanuary\\t2012,\\tthe\\tDefendants\\tfraudulently\\tsolicited\\tmore\\tthan\\t$1\\tmillion\\nfrom\\tmembers\\tof\\tthe\\tpublic\\tto\\ttrade\\tforex\\tin\\ta\\tcommodity\\tpool.\\tAs\\talleged,\\tDefendants\\tGilliland\\tand\\tWongkhiao\\nmisappropriated\\tfunds\\tto\\tpay\\ttheir\\tpersonal\\texpenses.\\tFor\\texample,\\tinstead\\tof\\ttrading\\tforex\\tas\\tpromised,\\tthey\\tallegedly\\nwithdrew\\tapproximately\\t$850,000\\tin\\tpool\\tparticipant\\tfunds\\tfrom\\tthe\\tAllied\\tMarkets\\tforex\\taccount,\\tspending\\tmore\\tthan\\n$64,000\\tof\\tthe\\tstolen\\tfunds\\ton\\trestaurants\\tand\\tentertainment;\\tapproximately\\t$33,000\\ton\\ttravel,\\thotels\\tand\\trental\\tcars;\\nand\\tapproximately\\t$66,000\\ton\\trent\\tfor\\ttheir\\tresidence\\tin\\tJacksonville\\tBeach,\\tFlorida.\\tThey\\talso\\ttransferred\\tat\\tleast\\n$83,200\\tto\\ttheir\\tpersonal\\tbank\\taccounts\\tand\\twithdrew\\tapproximately\\t$139,000\\tin\\tcash\\tfrom\\tautomated\\tteller\\tmachines\\nand\\tat\\tbank\\tbranches,\\tthe\\tComplaint\\tcharges.\\n\\nDefendants\\talso\\tused\\tpool\\tparticipant\\tfunds\\tto\\tpay\\tpurported\\ttrading\\tprofits\\tand\\tsupposedly\\treturned\\tpool\\tparticipants’\\nprincipal\\tin\\tthe\\tmanner\\tof\\ta\\tPonzi\\tscheme,\\taccording\\tto\\tthe\\tComplaint.\\n\\nSpecifically,\\taccording\\tto\\tthe\\tComplaint,\\tthe\\tDefendants\\tsolicited\\tmembers\\tof\\tthe\\tpublic\\tto\\tsend\\tthem\\tmoney\\tfor\\tforex\\ntrading\\tby\\tfraudulently\\tguaranteeing\\tspecific\\ttrading\\treturns\\tand\\tby\\tmaking\\tmaterial\\tmisrepresentations\\tregarding\\ttheir\\ntrading\\texpertise\\tand\\tresults,\\tincluding\\tthat\\tDefendants’\\tforex\\ttrading\\twas\\tgenerating\\tlarge\\tprofits.\\n\\nIn\\tits\\tcontinuing\\tlitigation,\\tthe\\tCFTC\\tseeks\\tfull\\trestitution\\tto\\tdefrauded\\tpool\\tparticipants,\\tdisgorgement\\tof\\tany\\till-gotten\\ngains,\\ta\\tcivil\\tmonetary\\tpenalty,\\tpermanent\\tregistration\\tand\\ttrading\\tbans,\\tand\\ta\\tpermanent\\tinjunction\\tagainst\\tfuture\\nviolations\\tof\\tthe\\tCEA\\tand\\tCFTC\\tRegulations,\\tas\\tcharged.\\n\\nThe\\tCFTC\\tappreciates\\tthe\\tassistance\\tof\\tthe\\tJacksonville\\tBeach\\tPolice\\tDepartment,\\tthe\\tJacksonville\\tSheriff’s\\tOffice,\\tthe\\nFlorida\\tOffice\\tof\\tFinancial\\tRegulation,\\tthe\\tUnited\\tStates\\tMarshals\\tService,\\tand\\tthe\\tNational\\tFutures\\tAssociation.\\n\\nCFTC\\tDivision\\tof\\tEnforcement\\tstaff\\tmembers\\tresponsible\\tfor\\tthis\\taction\\tare\\tJonah\\tMcCarthy,\\tPatricia\\tGomersall,\\tDmitriy\\nVilenskiy,\\tJonathan\\tRobell,\\tJohn\\tEinstman,\\tand\\tPaul\\tHayeck.\\n\\n(See\\tComplaint\\tand\\tAsset\\tFreeze\\tOrder\\tunder\\tRelated\\tLinks.)\\n\\n*\\t*\\t*\\t*\\t*\\t*\\t*\\n\\nCFTC’s\\tForeign\\tCurrency\\t(Forex)\\tFraud\\tand\\tCommodity\\tPool\\tFraud\\tAdvisories\\n\\nThe\\tCFTC\\thas\\tissued\\tseveral\\tcustomer\\tprotection\\tFraud\\tAdvisories\\tthat\\tprovide\\tthe\\twarning\\tsigns\\tof\\tfraud,\\tincluding\\tthe\\nForeign\\tCurrency\\tTrading\\t(Forex)\\tFraud\\tAdvisory,\\twhich\\tstates\\tthat\\tthe\\tCFTC\\thas\\twitnessed\\ta\\tsharp\\trise\\tin\\tForex\\ttrading\\nscams\\tin\\trecent\\tyears\\tand\\thelps\\tcustomers\\tidentify\\tthis\\tpotential\\tfraud.\\n\\nThe\\tCFTC\\thas\\talso\\tissued\\ta\\tCommodity\\tPool\\tFraud\\tAdvisory,\\twhich\\twarns\\tcustomers\\tabout\\ta\\ttype\\tof\\tfraud\\tthat\\tinvolves\\nindividuals\\tand\\tfirms,\\toften\\tunregistered,\\toffering\\tinvestments\\tin\\tcommodity\\tpools.\\n\\nCustomers\\tcan\\treport\\tsuspicious\\tactivities\\tor\\tinformation,\\tsuch\\tas\\tpossible\\tviolations\\tof\\tcommodity\\ttrading\\tlaws,\\tto\\tthe\\nCFTC\\tDivision\\tof\\tEnforcement\\tvia\\ta\\tToll-Free\\tHotline\\t866-FON-CFTC\\t(866-366-2382)\\tor\\tfile\\ta\\ttip\\tor\\tcomplaint\\tonline.\\t\\n\\n\\u200b\\t\\u200b\\t\\u200b\\t\\u200b\\t\\u200b\\n\\n\\u200b\\n\\x0cMedia\\tContact\\n\\u200b\\t\\u200b\\t\\u200b\\tDennis\\tHolden\\n202-418-5088\\n\\nLast\\tUpdated:\\tJanuary\\t12,\\t2015\\n\\n\\x0cRelease\\tNumber\\t7100-15\\n\\nJanuary\\t12,\\t2015\\n\\nFederal\\tCourt\\tin\\tFlorida\\tEnters\\tOrder\\tFreezing\\tAssets\\tin\\tCFTC\\tForeign\\tCurrency\\tAnti-\\nFraud\\tAction\\tagainst\\tAllied\\tMarkets\\tLLC\\tand\\tits\\tPrincipals\\tJoshua\\tGilliland\\tand\\tChawalit\\nWongkhiao\\n\\nCFTC\\tCharges\\tJacksonville,\\tFlorida,\\tDefendants\\twith\\tOperating\\ta\\nFraudulent\\tForex\\tPool\\tand\\tMisappropriating\\tCustomer\\tFunds\\tto\\tPay\\nPersonal\\tExpenses\\n\\nWashington,\\tDC\\t—\\tThe\\tU.S.\\tCommodity\\tFutures\\tTrading\\tCommission\\t(CFTC)\\ttoday\\tannounced\\tthat\\tit\\tfiled\\ta\\tcivil\\nenforcement\\tComplaint\\tin\\tthe\\tU.S.\\tDistrict\\tCourt\\tfor\\tthe\\tMiddle\\tDistrict\\tof\\tFlorida,\\tcharging\\tDefendants\\tAllied\\tMarkets\\nLLC,\\tand\\tits\\tprincipals\\tJoshua\\tGilliland\\tand\\tChawalit\\tWongkhiao,\\tall\\tof\\tJacksonville,\\tFlorida,\\twith\\toperating\\ta\\nfraudulent\\tforeign\\tcurrency\\t(forex)\\tcommodity\\tpool\\tin\\tviolation\\tof\\tthe\\tCommodity\\tExchange\\tAct\\t(CEA)\\tand\\tCFTC\\nRegulations.\\tIn\\taddition,\\tnone\\tof\\tthe\\tDefendants\\thas\\tever\\tbeen\\tregistered\\twith\\tthe\\tCFTC,\\tas\\trequired.\\n\\nOn\\tJanuary\\t7,\\t2015,\\tthe\\tday\\tafter\\tthe\\tCFTC\\tComplaint\\twas\\tfiled\\tunder\\tseal,\\tU.S.\\tDistrict\\tJudge\\tMarcia\\tMorales\\tHoward\\nissued\\tan\\temergency\\tOrder\\tfreezing\\tand\\tpreserving\\tassets\\tunder\\tthe\\tDefendants’\\tcontrol\\tand\\tprohibiting\\tthem\\tfrom\\ndestroying\\tdocuments\\tor\\tdenying\\tCFTC\\tstaff\\taccess\\tto\\ttheir\\tbooks\\tand\\trecords.\\tThe\\tCourt\\thas\\tscheduled\\ta\\thearing\\tfor\\nJanuary\\t21,\\t2015,\\ton\\tthe\\tCFTC’s\\tmotion\\tfor\\ta\\tpreliminary\\tinjunction.\\n\\nThe\\tCFTC\\tComplaint\\tcharges\\tthat,\\tas\\tearly\\tas\\tJanuary\\t2012,\\tthe\\tDefendants\\tfraudulently\\tsolicited\\tmore\\tthan\\t$1\\tmillion\\nfrom\\tmembers\\tof\\tthe\\tpublic\\tto\\ttrade\\tforex\\tin\\ta\\tcommodity\\tpool.\\tAs\\talleged,\\tDefendants\\tGilliland\\tand\\tWongkhiao\\nmisappropriated\\tfunds\\tto\\tpay\\ttheir\\tpersonal\\texpenses.\\tFor\\texample,\\tinstead\\tof\\ttrading\\tforex\\tas\\tpromised,\\tthey\\tallegedly\\nwithdrew\\tapproximately\\t$850,000\\tin\\tpool\\tparticipant\\tfunds\\tfrom\\tthe\\tAllied\\tMarkets\\tforex\\taccount,\\tspending\\tmore\\tthan\\n$64,000\\tof\\tthe\\tstolen\\tfunds\\ton\\trestaurants\\tand\\tentertainment;\\tapproximately\\t$33,000\\ton\\ttravel,\\thotels\\tand\\trental\\tcars;\\nand\\tapproximately\\t$66,000\\ton\\trent\\tfor\\ttheir\\tresidence\\tin\\tJacksonville\\tBeach,\\tFlorida.\\tThey\\talso\\ttransferred\\tat\\tleast\\n$83,200\\tto\\ttheir\\tpersonal\\tbank\\taccounts\\tand\\twithdrew\\tapproximately\\t$139,000\\tin\\tcash\\tfrom\\tautomated\\tteller\\tmachines\\nand\\tat\\tbank\\tbranches,\\tthe\\tComplaint\\tcharges.\\n\\nDefendants\\talso\\tused\\tpool\\tparticipant\\tfunds\\tto\\tpay\\tpurported\\ttrading\\tprofits\\tand\\tsupposedly\\treturned\\tpool\\tparticipants’\\nprincipal\\tin\\tthe\\tmanner\\tof\\ta\\tPonzi\\tscheme,\\taccording\\tto\\tthe\\tComplaint.\\n\\nSpecifically,\\taccording\\tto\\tthe\\tComplaint,\\tthe\\tDefendants\\tsolicited\\tmembers\\tof\\tthe\\tpublic\\tto\\tsend\\tthem\\tmoney\\tfor\\tforex\\ntrading\\tby\\tfraudulently\\tguaranteeing\\tspecific\\ttrading\\treturns\\tand\\tby\\tmaking\\tmaterial\\tmisrepresentations\\tregarding\\ttheir\\ntrading\\texpertise\\tand\\tresults,\\tincluding\\tthat\\tDefendants’\\tforex\\ttrading\\twas\\tgenerating\\tlarge\\tprofits.\\n\\nIn\\tits\\tcontinuing\\tlitigation,\\tthe\\tCFTC\\tseeks\\tfull\\trestitution\\tto\\tdefrauded\\tpool\\tparticipants,\\tdisgorgement\\tof\\tany\\till-gotten\\ngains,\\ta\\tcivil\\tmonetary\\tpenalty,\\tpermanent\\tregistration\\tand\\ttrading\\tbans,\\tand\\ta\\tpermanent\\tinjunction\\tagainst\\tfuture\\nviolations\\tof\\tthe\\tCEA\\tand\\tCFTC\\tRegulations,\\tas\\tcharged.\\n\\nThe\\tCFTC\\tappreciates\\tthe\\tassistance\\tof\\tthe\\tJacksonville\\tBeach\\tPolice\\tDepartment,\\tthe\\tJacksonville\\tSheriff’s\\tOffice,\\tthe\\nFlorida\\tOffice\\tof\\tFinancial\\tRegulation,\\tthe\\tUnited\\tStates\\tMarshals\\tService,\\tand\\tthe\\tNational\\tFutures\\tAssociation.\\n\\nCFTC\\tDivision\\tof\\tEnforcement\\tstaff\\tmembers\\tresponsible\\tfor\\tthis\\taction\\tare\\tJonah\\tMcCarthy,\\tPatricia\\tGomersall,\\tDmitriy\\nVilenskiy,\\tJonathan\\tRobell,\\tJohn\\tEinstman,\\tand\\tPaul\\tHayeck.\\n\\n(See\\tComplaint\\tand\\tAsset\\tFreeze\\tOrder\\tunder\\tRelated\\tLinks.)\\n\\n*\\t*\\t*\\t*\\t*\\t*\\t*\\n\\nCFTC’s\\tForeign\\tCurrency\\t(Forex)\\tFraud\\tand\\tCommodity\\tPool\\tFraud\\tAdvisories\\n\\nThe\\tCFTC\\thas\\tissued\\tseveral\\tcustomer\\tprotection\\tFraud\\tAdvisories\\tthat\\tprovide\\tthe\\twarning\\tsigns\\tof\\tfraud,\\tincluding\\tthe\\nForeign\\tCurrency\\tTrading\\t(Forex)\\tFraud\\tAdvisory,\\twhich\\tstates\\tthat\\tthe\\tCFTC\\thas\\twitnessed\\ta\\tsharp\\trise\\tin\\tForex\\ttrading\\nscams\\tin\\trecent\\tyears\\tand\\thelps\\tcustomers\\tidentify\\tthis\\tpotential\\tfraud.\\n\\nThe\\tCFTC\\thas\\talso\\tissued\\ta\\tCommodity\\tPool\\tFraud\\tAdvisory,\\twhich\\twarns\\tcustomers\\tabout\\ta\\ttype\\tof\\tfraud\\tthat\\tinvolves\\nindividuals\\tand\\tfirms,\\toften\\tunregistered,\\toffering\\tinvestments\\tin\\tcommodity\\tpools.\\n\\nCustomers\\tcan\\treport\\tsuspicious\\tactivities\\tor\\tinformation,\\tsuch\\tas\\tpossible\\tviolations\\tof\\tcommodity\\ttrading\\tlaws,\\tto\\tthe\\nCFTC\\tDivision\\tof\\tEnforcement\\tvia\\ta\\tToll-Free\\tHotline\\t866-FON-CFTC\\t(866-366-2382)\\tor\\tfile\\ta\\ttip\\tor\\tcomplaint\\tonline.\\t\\n\\n\\u200b\\t\\u200b\\t\\u200b\\t\\u200b\\t\\u200b\\n\\n\\u200b\\n\\x0cMedia\\tContact\\n\\u200b\\t\\u200b\\t\\u200b\\tDennis\\tHolden\\n202-418-5088\\n\\nLast\\tUpdated:\\tJanuary\\t12,\\t2015\\n\\n\\x0cRelease\\tNumber\\t7100-15\\n\\nJanuary\\t12,\\t2015\\n\\nFederal\\tCourt\\tin\\tFlorida\\tEnters\\tOrder\\tFreezing\\tAssets\\tin\\tCFTC\\tForeign\\tCurrency\\tAnti-\\nFraud\\tAction\\tagainst\\tAllied\\tMarkets\\tLLC\\tand\\tits\\tPrincipals\\tJoshua\\tGilliland\\tand\\tChawalit\\nWongkhiao\\n\\nCFTC\\tCharges\\tJacksonville,\\tFlorida,\\tDefendants\\twith\\tOperating\\ta\\nFraudulent\\tForex\\tPool\\tand\\tMisappropriating\\tCustomer\\tFunds\\tto\\tPay\\nPersonal\\tExpenses\\n\\nWashington,\\tDC\\t—\\tThe\\tU.S.\\tCommodity\\tFutures\\tTrading\\tCommission\\t(CFTC)\\ttoday\\tannounced\\tthat\\tit\\tfiled\\ta\\tcivil\\nenforcement\\tComplaint\\tin\\tthe\\tU.S.\\tDistrict\\tCourt\\tfor\\tthe\\tMiddle\\tDistrict\\tof\\tFlorida,\\tcharging\\tDefendants\\tAllied\\tMarkets\\nLLC,\\tand\\tits\\tprincipals\\tJoshua\\tGilliland\\tand\\tChawalit\\tWongkhiao,\\tall\\tof\\tJacksonville,\\tFlorida,\\twith\\toperating\\ta\\nfraudulent\\tforeign\\tcurrency\\t(forex)\\tcommodity\\tpool\\tin\\tviolation\\tof\\tthe\\tCommodity\\tExchange\\tAct\\t(CEA)\\tand\\tCFTC\\nRegulations.\\tIn\\taddition,\\tnone\\tof\\tthe\\tDefendants\\thas\\tever\\tbeen\\tregistered\\twith\\tthe\\tCFTC,\\tas\\trequired.\\n\\nOn\\tJanuary\\t7,\\t2015,\\tthe\\tday\\tafter\\tthe\\tCFTC\\tComplaint\\twas\\tfiled\\tunder\\tseal,\\tU.S.\\tDistrict\\tJudge\\tMarcia\\tMorales\\tHoward\\nissued\\tan\\temergency\\tOrder\\tfreezing\\tand\\tpreserving\\tassets\\tunder\\tthe\\tDefendants’\\tcontrol\\tand\\tprohibiting\\tthem\\tfrom\\ndestroying\\tdocuments\\tor\\tdenying\\tCFTC\\tstaff\\taccess\\tto\\ttheir\\tbooks\\tand\\trecords.\\tThe\\tCourt\\thas\\tscheduled\\ta\\thearing\\tfor\\nJanuary\\t21,\\t2015,\\ton\\tthe\\tCFTC’s\\tmotion\\tfor\\ta\\tpreliminary\\tinjunction.\\n\\nThe\\tCFTC\\tComplaint\\tcharges\\tthat,\\tas\\tearly\\tas\\tJanuary\\t2012,\\tthe\\tDefendants\\tfraudulently\\tsolicited\\tmore\\tthan\\t$1\\tmillion\\nfrom\\tmembers\\tof\\tthe\\tpublic\\tto\\ttrade\\tforex\\tin\\ta\\tcommodity\\tpool.\\tAs\\talleged,\\tDefendants\\tGilliland\\tand\\tWongkhiao\\nmisappropriated\\tfunds\\tto\\tpay\\ttheir\\tpersonal\\texpenses.\\tFor\\texample,\\tinstead\\tof\\ttrading\\tforex\\tas\\tpromised,\\tthey\\tallegedly\\nwithdrew\\tapproximately\\t$850,000\\tin\\tpool\\tparticipant\\tfunds\\tfrom\\tthe\\tAllied\\tMarkets\\tforex\\taccount,\\tspending\\tmore\\tthan\\n$64,000\\tof\\tthe\\tstolen\\tfunds\\ton\\trestaurants\\tand\\tentertainment;\\tapproximately\\t$33,000\\ton\\ttravel,\\thotels\\tand\\trental\\tcars;\\nand\\tapproximately\\t$66,000\\ton\\trent\\tfor\\ttheir\\tresidence\\tin\\tJacksonville\\tBeach,\\tFlorida.\\tThey\\talso\\ttransferred\\tat\\tleast\\n$83,200\\tto\\ttheir\\tpersonal\\tbank\\taccounts\\tand\\twithdrew\\tapproximately\\t$139,000\\tin\\tcash\\tfrom\\tautomated\\tteller\\tmachines\\nand\\tat\\tbank\\tbranches,\\tthe\\tComplaint\\tcharges.\\n\\nDefendants\\talso\\tused\\tpool\\tparticipant\\tfunds\\tto\\tpay\\tpurported\\ttrading\\tprofits\\tand\\tsupposedly\\treturned\\tpool\\tparticipants’\\nprincipal\\tin\\tthe\\tmanner\\tof\\ta\\tPonzi\\tscheme,\\taccording\\tto\\tthe\\tComplaint.\\n\\nSpecifically,\\taccording\\tto\\tthe\\tComplaint,\\tthe\\tDefendants\\tsolicited\\tmembers\\tof\\tthe\\tpublic\\tto\\tsend\\tthem\\tmoney\\tfor\\tforex\\ntrading\\tby\\tfraudulently\\tguaranteeing\\tspecific\\ttrading\\treturns\\tand\\tby\\tmaking\\tmaterial\\tmisrepresentations\\tregarding\\ttheir\\ntrading\\texpertise\\tand\\tresults,\\tincluding\\tthat\\tDefendants’\\tforex\\ttrading\\twas\\tgenerating\\tlarge\\tprofits.\\n\\nIn\\tits\\tcontinuing\\tlitigation,\\tthe\\tCFTC\\tseeks\\tfull\\trestitution\\tto\\tdefrauded\\tpool\\tparticipants,\\tdisgorgement\\tof\\tany\\till-gotten\\ngains,\\ta\\tcivil\\tmonetary\\tpenalty,\\tpermanent\\tregistration\\tand\\ttrading\\tbans,\\tand\\ta\\tpermanent\\tinjunction\\tagainst\\tfuture\\nviolations\\tof\\tthe\\tCEA\\tand\\tCFTC\\tRegulations,\\tas\\tcharged.\\n\\nThe\\tCFTC\\tappreciates\\tthe\\tassistance\\tof\\tthe\\tJacksonville\\tBeach\\tPolice\\tDepartment,\\tthe\\tJacksonville\\tSheriff’s\\tOffice,\\tthe\\nFlorida\\tOffice\\tof\\tFinancial\\tRegulation,\\tthe\\tUnited\\tStates\\tMarshals\\tService,\\tand\\tthe\\tNational\\tFutures\\tAssociation.\\n\\nCFTC\\tDivision\\tof\\tEnforcement\\tstaff\\tmembers\\tresponsible\\tfor\\tthis\\taction\\tare\\tJonah\\tMcCarthy,\\tPatricia\\tGomersall,\\tDmitriy\\nVilenskiy,\\tJonathan\\tRobell,\\tJohn\\tEinstman,\\tand\\tPaul\\tHayeck.\\n\\n(See\\tComplaint\\tand\\tAsset\\tFreeze\\tOrder\\tunder\\tRelated\\tLinks.)\\n\\n*\\t*\\t*\\t*\\t*\\t*\\t*\\n\\nCFTC’s\\tForeign\\tCurrency\\t(Forex)\\tFraud\\tand\\tCommodity\\tPool\\tFraud\\tAdvisories\\n\\nThe\\tCFTC\\thas\\tissued\\tseveral\\tcustomer\\tprotection\\tFraud\\tAdvisories\\tthat\\tprovide\\tthe\\twarning\\tsigns\\tof\\tfraud,\\tincluding\\tthe\\nForeign\\tCurrency\\tTrading\\t(Forex)\\tFraud\\tAdvisory,\\twhich\\tstates\\tthat\\tthe\\tCFTC\\thas\\twitnessed\\ta\\tsharp\\trise\\tin\\tForex\\ttrading\\nscams\\tin\\trecent\\tyears\\tand\\thelps\\tcustomers\\tidentify\\tthis\\tpotential\\tfraud.\\n\\nThe\\tCFTC\\thas\\talso\\tissued\\ta\\tCommodity\\tPool\\tFraud\\tAdvisory,\\twhich\\twarns\\tcustomers\\tabout\\ta\\ttype\\tof\\tfraud\\tthat\\tinvolves\\nindividuals\\tand\\tfirms,\\toften\\tunregistered,\\toffering\\tinvestments\\tin\\tcommodity\\tpools.\\n\\nCustomers\\tcan\\treport\\tsuspicious\\tactivities\\tor\\tinformation,\\tsuch\\tas\\tpossible\\tviolations\\tof\\tcommodity\\ttrading\\tlaws,\\tto\\tthe\\nCFTC\\tDivision\\tof\\tEnforcement\\tvia\\ta\\tToll-Free\\tHotline\\t866-FON-CFTC\\t(866-366-2382)\\tor\\tfile\\ta\\ttip\\tor\\tcomplaint\\tonline.\\t\\n\\n\\u200b\\t\\u200b\\t\\u200b\\t\\u200b\\t\\u200b\\n\\n\\u200b\\n\\x0cMedia\\tContact\\n\\u200b\\t\\u200b\\t\\u200b\\tDennis\\tHolden\\n202-418-5088\\n\\nLast\\tUpdated:\\tJanuary\\t12,\\t2015\\n\\n\\x0cRelease\\tNumber\\t7100-15\\n\\nJanuary\\t12,\\t2015\\n\\nFederal\\tCourt\\tin\\tFlorida\\tEnters\\tOrder\\tFreezing\\tAssets\\tin\\tCFTC\\tForeign\\tCurrency\\tAnti-\\nFraud\\tAction\\tagainst\\tAllied\\tMarkets\\tLLC\\tand\\tits\\tPrincipals\\tJoshua\\tGilliland\\tand\\tChawalit\\nWongkhiao\\n\\nCFTC\\tCharges\\tJacksonville,\\tFlorida,\\tDefendants\\twith\\tOperating\\ta\\nFraudulent\\tForex\\tPool\\tand\\tMisappropriating\\tCustomer\\tFunds\\tto\\tPay\\nPersonal\\tExpenses\\n\\nWashington,\\tDC\\t—\\tThe\\tU.S.\\tCommodity\\tFutures\\tTrading\\tCommission\\t(CFTC)\\ttoday\\tannounced\\tthat\\tit\\tfiled\\ta\\tcivil\\nenforcement\\tComplaint\\tin\\tthe\\tU.S.\\tDistrict\\tCourt\\tfor\\tthe\\tMiddle\\tDistrict\\tof\\tFlorida,\\tcharging\\tDefendants\\tAllied\\tMarkets\\nLLC,\\tand\\tits\\tprincipals\\tJoshua\\tGilliland\\tand\\tChawalit\\tWongkhiao,\\tall\\tof\\tJacksonville,\\tFlorida,\\twith\\toperating\\ta\\nfraudulent\\tforeign\\tcurrency\\t(forex)\\tcommodity\\tpool\\tin\\tviolation\\tof\\tthe\\tCommodity\\tExchange\\tAct\\t(CEA)\\tand\\tCFTC\\nRegulations.\\tIn\\taddition,\\tnone\\tof\\tthe\\tDefendants\\thas\\tever\\tbeen\\tregistered\\twith\\tthe\\tCFTC,\\tas\\trequired.\\n\\nOn\\tJanuary\\t7,\\t2015,\\tthe\\tday\\tafter\\tthe\\tCFTC\\tComplaint\\twas\\tfiled\\tunder\\tseal,\\tU.S.\\tDistrict\\tJudge\\tMarcia\\tMorales\\tHoward\\nissued\\tan\\temergency\\tOrder\\tfreezing\\tand\\tpreserving\\tassets\\tunder\\tthe\\tDefendants’\\tcontrol\\tand\\tprohibiting\\tthem\\tfrom\\ndestroying\\tdocuments\\tor\\tdenying\\tCFTC\\tstaff\\taccess\\tto\\ttheir\\tbooks\\tand\\trecords.\\tThe\\tCourt\\thas\\tscheduled\\ta\\thearing\\tfor\\nJanuary\\t21,\\t2015,\\ton\\tthe\\tCFTC’s\\tmotion\\tfor\\ta\\tpreliminary\\tinjunction.\\n\\nThe\\tCFTC\\tComplaint\\tcharges\\tthat,\\tas\\tearly\\tas\\tJanuary\\t2012,\\tthe\\tDefendants\\tfraudulently\\tsolicited\\tmore\\tthan\\t$1\\tmillion\\nfrom\\tmembers\\tof\\tthe\\tpublic\\tto\\ttrade\\tforex\\tin\\ta\\tcommodity\\tpool.\\tAs\\talleged,\\tDefendants\\tGilliland\\tand\\tWongkhiao\\nmisappropriated\\tfunds\\tto\\tpay\\ttheir\\tpersonal\\texpenses.\\tFor\\texample,\\tinstead\\tof\\ttrading\\tforex\\tas\\tpromised,\\tthey\\tallegedly\\nwithdrew\\tapproximately\\t$850,000\\tin\\tpool\\tparticipant\\tfunds\\tfrom\\tthe\\tAllied\\tMarkets\\tforex\\taccount,\\tspending\\tmore\\tthan\\n$64,000\\tof\\tthe\\tstolen\\tfunds\\ton\\trestaurants\\tand\\tentertainment;\\tapproximately\\t$33,000\\ton\\ttravel,\\thotels\\tand\\trental\\tcars;\\nand\\tapproximately\\t$66,000\\ton\\trent\\tfor\\ttheir\\tresidence\\tin\\tJacksonville\\tBeach,\\tFlorida.\\tThey\\talso\\ttransferred\\tat\\tleast\\n$83,200\\tto\\ttheir\\tpersonal\\tbank\\taccounts\\tand\\twithdrew\\tapproximately\\t$139,000\\tin\\tcash\\tfrom\\tautomated\\tteller\\tmachines\\nand\\tat\\tbank\\tbranches,\\tthe\\tComplaint\\tcharges.\\n\\nDefendants\\talso\\tused\\tpool\\tparticipant\\tfunds\\tto\\tpay\\tpurported\\ttrading\\tprofits\\tand\\tsupposedly\\treturned\\tpool\\tparticipants’\\nprincipal\\tin\\tthe\\tmanner\\tof\\ta\\tPonzi\\tscheme,\\taccording\\tto\\tthe\\tComplaint.\\n\\nSpecifically,\\taccording\\tto\\tthe\\tComplaint,\\tthe\\tDefendants\\tsolicited\\tmembers\\tof\\tthe\\tpublic\\tto\\tsend\\tthem\\tmoney\\tfor\\tforex\\ntrading\\tby\\tfraudulently\\tguaranteeing\\tspecific\\ttrading\\treturns\\tand\\tby\\tmaking\\tmaterial\\tmisrepresentations\\tregarding\\ttheir\\ntrading\\texpertise\\tand\\tresults,\\tincluding\\tthat\\tDefendants’\\tforex\\ttrading\\twas\\tgenerating\\tlarge\\tprofits.\\n\\nIn\\tits\\tcontinuing\\tlitigation,\\tthe\\tCFTC\\tseeks\\tfull\\trestitution\\tto\\tdefrauded\\tpool\\tparticipants,\\tdisgorgement\\tof\\tany\\till-gotten\\ngains,\\ta\\tcivil\\tmonetary\\tpenalty,\\tpermanent\\tregistration\\tand\\ttrading\\tbans,\\tand\\ta\\tpermanent\\tinjunction\\tagainst\\tfuture\\nviolations\\tof\\tthe\\tCEA\\tand\\tCFTC\\tRegulations,\\tas\\tcharged.\\n\\nThe\\tCFTC\\tappreciates\\tthe\\tassistance\\tof\\tthe\\tJacksonville\\tBeach\\tPolice\\tDepartment,\\tthe\\tJacksonville\\tSheriff’s\\tOffice,\\tthe\\nFlorida\\tOffice\\tof\\tFinancial\\tRegulation,\\tthe\\tUnited\\tStates\\tMarshals\\tService,\\tand\\tthe\\tNational\\tFutures\\tAssociation.\\n\\nCFTC\\tDivision\\tof\\tEnforcement\\tstaff\\tmembers\\tresponsible\\tfor\\tthis\\taction\\tare\\tJonah\\tMcCarthy,\\tPatricia\\tGomersall,\\tDmitriy\\nVilenskiy,\\tJonathan\\tRobell,\\tJohn\\tEinstman,\\tand\\tPaul\\tHayeck.\\n\\n(See\\tComplaint\\tand\\tAsset\\tFreeze\\tOrder\\tunder\\tRelated\\tLinks.)\\n\\n*\\t*\\t*\\t*\\t*\\t*\\t*\\n\\nCFTC’s\\tForeign\\tCurrency\\t(Forex)\\tFraud\\tand\\tCommodity\\tPool\\tFraud\\tAdvisories\\n\\nThe\\tCFTC\\thas\\tissued\\tseveral\\tcustomer\\tprotection\\tFraud\\tAdvisories\\tthat\\tprovide\\tthe\\twarning\\tsigns\\tof\\tfraud,\\tincluding\\tthe\\nForeign\\tCurrency\\tTrading\\t(Forex)\\tFraud\\tAdvisory,\\twhich\\tstates\\tthat\\tthe\\tCFTC\\thas\\twitnessed\\ta\\tsharp\\trise\\tin\\tForex\\ttrading\\nscams\\tin\\trecent\\tyears\\tand\\thelps\\tcustomers\\tidentify\\tthis\\tpotential\\tfraud.\\n\\nThe\\tCFTC\\thas\\talso\\tissued\\ta\\tCommodity\\tPool\\tFraud\\tAdvisory,\\twhich\\twarns\\tcustomers\\tabout\\ta\\ttype\\tof\\tfraud\\tthat\\tinvolves\\nindividuals\\tand\\tfirms,\\toften\\tunregistered,\\toffering\\tinvestments\\tin\\tcommodity\\tpools.\\n\\nCustomers\\tcan\\treport\\tsuspicious\\tactivities\\tor\\tinformation,\\tsuch\\tas\\tpossible\\tviolations\\tof\\tcommodity\\ttrading\\tlaws,\\tto\\tthe\\nCFTC\\tDivision\\tof\\tEnforcement\\tvia\\ta\\tToll-Free\\tHotline\\t866-FON-CFTC\\t(866-366-2382)\\tor\\tfile\\ta\\ttip\\tor\\tcomplaint\\tonline.\\t\\n\\n\\u200b\\t\\u200b\\t\\u200b\\t\\u200b\\t\\u200b\\n\\n\\u200b\\n\\x0cMedia\\tContact\\n\\u200b\\t\\u200b\\t\\u200b\\tDennis\\tHolden\\n202-418-5088\\n\\nLast\\tUpdated:\\tJanuary\\t12,\\t2015\\n\\n\\x0cRelease\\tNumber\\t7100-15\\n\\nJanuary\\t12,\\t2015\\n\\nFederal\\tCourt\\tin\\tFlorida\\tEnters\\tOrder\\tFreezing\\tAssets\\tin\\tCFTC\\tForeign\\tCurrency\\tAnti-\\nFraud\\tAction\\tagainst\\tAllied\\tMarkets\\tLLC\\tand\\tits\\tPrincipals\\tJoshua\\tGilliland\\tand\\tChawalit\\nWongkhiao\\n\\nCFTC\\tCharges\\tJacksonville,\\tFlorida,\\tDefendants\\twith\\tOperating\\ta\\nFraudulent\\tForex\\tPool\\tand\\tMisappropriating\\tCustomer\\tFunds\\tto\\tPay\\nPersonal\\tExpenses\\n\\nWashington,\\tDC\\t—\\tThe\\tU.S.\\tCommodity\\tFutures\\tTrading\\tCommission\\t(CFTC)\\ttoday\\tannounced\\tthat\\tit\\tfiled\\ta\\tcivil\\nenforcement\\tComplaint\\tin\\tthe\\tU.S.\\tDistrict\\tCourt\\tfor\\tthe\\tMiddle\\tDistrict\\tof\\tFlorida,\\tcharging\\tDefendants\\tAllied\\tMarkets\\nLLC,\\tand\\tits\\tprincipals\\tJoshua\\tGilliland\\tand\\tChawalit\\tWongkhiao,\\tall\\tof\\tJacksonville,\\tFlorida,\\twith\\toperating\\ta\\nfraudulent\\tforeign\\tcurrency\\t(forex)\\tcommodity\\tpool\\tin\\tviolation\\tof\\tthe\\tCommodity\\tExchange\\tAct\\t(CEA)\\tand\\tCFTC\\nRegulations.\\tIn\\taddition,\\tnone\\tof\\tthe\\tDefendants\\thas\\tever\\tbeen\\tregistered\\twith\\tthe\\tCFTC,\\tas\\trequired.\\n\\nOn\\tJanuary\\t7,\\t2015,\\tthe\\tday\\tafter\\tthe\\tCFTC\\tComplaint\\twas\\tfiled\\tunder\\tseal,\\tU.S.\\tDistrict\\tJudge\\tMarcia\\tMorales\\tHoward\\nissued\\tan\\temergency\\tOrder\\tfreezing\\tand\\tpreserving\\tassets\\tunder\\tthe\\tDefendants’\\tcontrol\\tand\\tprohibiting\\tthem\\tfrom\\ndestroying\\tdocuments\\tor\\tdenying\\tCFTC\\tstaff\\taccess\\tto\\ttheir\\tbooks\\tand\\trecords.\\tThe\\tCourt\\thas\\tscheduled\\ta\\thearing\\tfor\\nJanuary\\t21,\\t2015,\\ton\\tthe\\tCFTC’s\\tmotion\\tfor\\ta\\tpreliminary\\tinjunction.\\n\\nThe\\tCFTC\\tComplaint\\tcharges\\tthat,\\tas\\tearly\\tas\\tJanuary\\t2012,\\tthe\\tDefendants\\tfraudulently\\tsolicited\\tmore\\tthan\\t$1\\tmillion\\nfrom\\tmembers\\tof\\tthe\\tpublic\\tto\\ttrade\\tforex\\tin\\ta\\tcommodity\\tpool.\\tAs\\talleged,\\tDefendants\\tGilliland\\tand\\tWongkhiao\\nmisappropriated\\tfunds\\tto\\tpay\\ttheir\\tpersonal\\texpenses.\\tFor\\texample,\\tinstead\\tof\\ttrading\\tforex\\tas\\tpromised,\\tthey\\tallegedly\\nwithdrew\\tapproximately\\t$850,000\\tin\\tpool\\tparticipant\\tfunds\\tfrom\\tthe\\tAllied\\tMarkets\\tforex\\taccount,\\tspending\\tmore\\tthan\\n$64,000\\tof\\tthe\\tstolen\\tfunds\\ton\\trestaurants\\tand\\tentertainment;\\tapproximately\\t$33,000\\ton\\ttravel,\\thotels\\tand\\trental\\tcars;\\nand\\tapproximately\\t$66,000\\ton\\trent\\tfor\\ttheir\\tresidence\\tin\\tJacksonville\\tBeach,\\tFlorida.\\tThey\\talso\\ttransferred\\tat\\tleast\\n$83,200\\tto\\ttheir\\tpersonal\\tbank\\taccounts\\tand\\twithdrew\\tapproximately\\t$139,000\\tin\\tcash\\tfrom\\tautomated\\tteller\\tmachines\\nand\\tat\\tbank\\tbranches,\\tthe\\tComplaint\\tcharges.\\n\\nDefendants\\talso\\tused\\tpool\\tparticipant\\tfunds\\tto\\tpay\\tpurported\\ttrading\\tprofits\\tand\\tsupposedly\\treturned\\tpool\\tparticipants’\\nprincipal\\tin\\tthe\\tmanner\\tof\\ta\\tPonzi\\tscheme,\\taccording\\tto\\tthe\\tComplaint.\\n\\nSpecifically,\\taccording\\tto\\tthe\\tComplaint,\\tthe\\tDefendants\\tsolicited\\tmembers\\tof\\tthe\\tpublic\\tto\\tsend\\tthem\\tmoney\\tfor\\tforex\\ntrading\\tby\\tfraudulently\\tguaranteeing\\tspecific\\ttrading\\treturns\\tand\\tby\\tmaking\\tmaterial\\tmisrepresentations\\tregarding\\ttheir\\ntrading\\texpertise\\tand\\tresults,\\tincluding\\tthat\\tDefendants’\\tforex\\ttrading\\twas\\tgenerating\\tlarge\\tprofits.\\n\\nIn\\tits\\tcontinuing\\tlitigation,\\tthe\\tCFTC\\tseeks\\tfull\\trestitution\\tto\\tdefrauded\\tpool\\tparticipants,\\tdisgorgement\\tof\\tany\\till-gotten\\ngains,\\ta\\tcivil\\tmonetary\\tpenalty,\\tpermanent\\tregistration\\tand\\ttrading\\tbans,\\tand\\ta\\tpermanent\\tinjunction\\tagainst\\tfuture\\nviolations\\tof\\tthe\\tCEA\\tand\\tCFTC\\tRegulations,\\tas\\tcharged.\\n\\nThe\\tCFTC\\tappreciates\\tthe\\tassistance\\tof\\tthe\\tJacksonville\\tBeach\\tPolice\\tDepartment,\\tthe\\tJacksonville\\tSheriff’s\\tOffice,\\tthe\\nFlorida\\tOffice\\tof\\tFinancial\\tRegulation,\\tthe\\tUnited\\tStates\\tMarshals\\tService,\\tand\\tthe\\tNational\\tFutures\\tAssociation.\\n\\nCFTC\\tDivision\\tof\\tEnforcement\\tstaff\\tmembers\\tresponsible\\tfor\\tthis\\taction\\tare\\tJonah\\tMcCarthy,\\tPatricia\\tGomersall,\\tDmitriy\\nVilenskiy,\\tJonathan\\tRobell,\\tJohn\\tEinstman,\\tand\\tPaul\\tHayeck.\\n\\n(See\\tComplaint\\tand\\tAsset\\tFreeze\\tOrder\\tunder\\tRelated\\tLinks.)\\n\\n*\\t*\\t*\\t*\\t*\\t*\\t*\\n\\nCFTC’s\\tForeign\\tCurrency\\t(Forex)\\tFraud\\tand\\tCommodity\\tPool\\tFraud\\tAdvisories\\n\\nThe\\tCFTC\\thas\\tissued\\tseveral\\tcustomer\\tprotection\\tFraud\\tAdvisories\\tthat\\tprovide\\tthe\\twarning\\tsigns\\tof\\tfraud,\\tincluding\\tthe\\nForeign\\tCurrency\\tTrading\\t(Forex)\\tFraud\\tAdvisory,\\twhich\\tstates\\tthat\\tthe\\tCFTC\\thas\\twitnessed\\ta\\tsharp\\trise\\tin\\tForex\\ttrading\\nscams\\tin\\trecent\\tyears\\tand\\thelps\\tcustomers\\tidentify\\tthis\\tpotential\\tfraud.\\n\\nThe\\tCFTC\\thas\\talso\\tissued\\ta\\tCommodity\\tPool\\tFraud\\tAdvisory,\\twhich\\twarns\\tcustomers\\tabout\\ta\\ttype\\tof\\tfraud\\tthat\\tinvolves\\nindividuals\\tand\\tfirms,\\toften\\tunregistered,\\toffering\\tinvestments\\tin\\tcommodity\\tpools.\\n\\nCustomers\\tcan\\treport\\tsuspicious\\tactivities\\tor\\tinformation,\\tsuch\\tas\\tpossible\\tviolations\\tof\\tcommodity\\ttrading\\tlaws,\\tto\\tthe\\nCFTC\\tDivision\\tof\\tEnforcement\\tvia\\ta\\tToll-Free\\tHotline\\t866-FON-CFTC\\t(866-366-2382)\\tor\\tfile\\ta\\ttip\\tor\\tcomplaint\\tonline.\\t\\n\\n\\u200b\\t\\u200b\\t\\u200b\\t\\u200b\\t\\u200b\\n\\n\\u200b\\n\\x0cMedia\\tContact\\n\\u200b\\t\\u200b\\t\\u200b\\tDennis\\tHolden\\n202-418-5088\\n\\nLast\\tUpdated:\\tJanuary\\t12,\\t2015\\n\\n\\x0c'"
      ]
     },
     "execution_count": 9,
     "metadata": {},
     "output_type": "execute_result"
    }
   ],
   "source": [
    "file"
   ]
  },
  {
   "cell_type": "code",
   "execution_count": 147,
   "metadata": {},
   "outputs": [],
   "source": [
    "doc,format_=clean(file)"
   ]
  },
  {
   "cell_type": "code",
   "execution_count": 148,
   "metadata": {},
   "outputs": [
    {
     "data": {
      "text/plain": [
       "'Release Number 7100-15 January 12, 2015 Federal Court in Florida Enters Order Freezing Assets in CFTC Foreign Currency Anti- Fraud Action against Allied Markets LLC and its Principals Joshua Gilliland and Chawalit Wongkhiao CFTC Charges Jacksonville, Florida, Defendants with Operating a Fraudulent Forex Pool and Misappropriating Customer Funds to Pay Personal Expenses Washington, DC — The U.S. Commodity Futures Trading Commission (CFTC) today announced that it filed a civil enforcement Complaint in the U.S. District Court for the Middle District of Florida, charging Defendants Allied Markets LLC, and its principals Joshua Gilliland and Chawalit Wongkhiao, all of Jacksonville, Florida, with operating a fraudulent foreign currency (forex) commodity pool in violation of the Commodity Exchange Act (CEA) and CFTC Regulations. In addition, none of the Defendants has ever been registered with the CFTC, as required. On January 7, 2015, the day after the CFTC Complaint was filed under seal, U.S. District Judge Marcia Morales Howard issued an emergency Order freezing and preserving assets under the Defendants’ control and prohibiting them from destroying documents or denying CFTC staff access to their books and records. The Court has scheduled a hearing for January 21, 2015, on the CFTC’s motion for a preliminary injunction. The CFTC Complaint charges that, as early as January 2012, the Defendants fraudulently solicited more than $1 million from members of the public to trade forex in a commodity pool. As alleged, Defendants Gilliland and Wongkhiao misappropriated funds to pay their personal expenses. For example, instead of trading forex as promised, they allegedly withdrew approximately $850,000 in pool participant funds from the Allied Markets forex account, spending more than $64,000 of the stolen funds on restaurants and entertainment; approximately $33,000 on travel, hotels and rental cars; and approximately $66,000 on rent for their residence in Jacksonville Beach, Florida. They also transferred at least $83,200 to their personal bank accounts and withdrew approximately $139,000 in cash from automated teller machines and at bank branches, the Complaint charges. Defendants also used pool participant funds to pay purported trading profits and supposedly returned pool participants’ principal in the manner of a Ponzi scheme, according to the Complaint. Specifically, according to the Complaint, the Defendants solicited members of the public to send them money for forex trading by fraudulently guaranteeing specific trading returns and by making material misrepresentations regarding their trading expertise and results, including that Defendants’ forex trading was generating large profits. In its continuing litigation, the CFTC seeks full restitution to defrauded pool participants, disgorgement of any ill-gotten gains, a civil monetary penalty, permanent registration and trading bans, and a permanent injunction against future violations of the CEA and CFTC Regulations, as charged. The CFTC appreciates the assistance of the Jacksonville Beach Police Department, the Jacksonville Sheriff’s Office, the Florida Office of Financial Regulation, the United States Marshals Service, and the National Futures Association. CFTC Division of Enforcement staff members responsible for this action are Jonah McCarthy, Patricia Gomersall, Dmitriy Vilenskiy, Jonathan Robell, John Einstman, and Paul Hayeck. (See Complaint and Asset Freeze Order under Related Links.) * * * * * * * CFTC’s Foreign Currency (Forex) Fraud and Commodity Pool Fraud Advisories The CFTC has issued several customer protection Fraud Advisories that provide the warning signs of fraud, including the Foreign Currency Trading (Forex) Fraud Advisory, which states that the CFTC has witnessed a sharp rise in Forex trading scams in recent years and helps customers identify this potential fraud. The CFTC has also issued a Commodity Pool Fraud Advisory, which warns customers about a type of fraud that involves individuals and firms, often unregistered, offering investments in commodity pools. Customers can report suspicious activities or information, such as possible violations of commodity trading laws, to the CFTC Division of Enforcement via a Toll-Free Hotline 866-FON-CFTC (866-366-2382) or file a tip or complaint online. \\u200b \\u200b \\u200b \\u200b \\u200b \\u200b Media Contact \\u200b \\u200b \\u200b Dennis Holden 202-418-5088 Last Updated: January 12, 2015 Release Number 7100-15 January 12, 2015 Federal Court in Florida Enters Order Freezing Assets in CFTC Foreign Currency Anti- Fraud Action against Allied Markets LLC and its Principals Joshua Gilliland and Chawalit Wongkhiao CFTC Charges Jacksonville, Florida, Defendants with Operating a Fraudulent Forex Pool and Misappropriating Customer Funds to Pay Personal Expenses Washington, DC — The U.S. Commodity Futures Trading Commission (CFTC) today announced that it filed a civil enforcement Complaint in the U.S. District Court for the Middle District of Florida, charging Defendants Allied Markets LLC, and its principals Joshua Gilliland and Chawalit Wongkhiao, all of Jacksonville, Florida, with operating a fraudulent foreign currency (forex) commodity pool in violation of the Commodity Exchange Act (CEA) and CFTC Regulations. In addition, none of the Defendants has ever been registered with the CFTC, as required. On January 7, 2015, the day after the CFTC Complaint was filed under seal, U.S. District Judge Marcia Morales Howard issued an emergency Order freezing and preserving assets under the Defendants’ control and prohibiting them from destroying documents or denying CFTC staff access to their books and records. The Court has scheduled a hearing for January 21, 2015, on the CFTC’s motion for a preliminary injunction. The CFTC Complaint charges that, as early as January 2012, the Defendants fraudulently solicited more than $1 million from members of the public to trade forex in a commodity pool. As alleged, Defendants Gilliland and Wongkhiao misappropriated funds to pay their personal expenses. For example, instead of trading forex as promised, they allegedly withdrew approximately $850,000 in pool participant funds from the Allied Markets forex account, spending more than $64,000 of the stolen funds on restaurants and entertainment; approximately $33,000 on travel, hotels and rental cars; and approximately $66,000 on rent for their residence in Jacksonville Beach, Florida. They also transferred at least $83,200 to their personal bank accounts and withdrew approximately $139,000 in cash from automated teller machines and at bank branches, the Complaint charges. Defendants also used pool participant funds to pay purported trading profits and supposedly returned pool participants’ principal in the manner of a Ponzi scheme, according to the Complaint. Specifically, according to the Complaint, the Defendants solicited members of the public to send them money for forex trading by fraudulently guaranteeing specific trading returns and by making material misrepresentations regarding their trading expertise and results, including that Defendants’ forex trading was generating large profits. In its continuing litigation, the CFTC seeks full restitution to defrauded pool participants, disgorgement of any ill-gotten gains, a civil monetary penalty, permanent registration and trading bans, and a permanent injunction against future violations of the CEA and CFTC Regulations, as charged. The CFTC appreciates the assistance of the Jacksonville Beach Police Department, the Jacksonville Sheriff’s Office, the Florida Office of Financial Regulation, the United States Marshals Service, and the National Futures Association. CFTC Division of Enforcement staff members responsible for this action are Jonah McCarthy, Patricia Gomersall, Dmitriy Vilenskiy, Jonathan Robell, John Einstman, and Paul Hayeck. (See Complaint and Asset Freeze Order under Related Links.) * * * * * * * CFTC’s Foreign Currency (Forex) Fraud and Commodity Pool Fraud Advisories The CFTC has issued several customer protection Fraud Advisories that provide the warning signs of fraud, including the Foreign Currency Trading (Forex) Fraud Advisory, which states that the CFTC has witnessed a sharp rise in Forex trading scams in recent years and helps customers identify this potential fraud. The CFTC has also issued a Commodity Pool Fraud Advisory, which warns customers about a type of fraud that involves individuals and firms, often unregistered, offering investments in commodity pools. Customers can report suspicious activities or information, such as possible violations of commodity trading laws, to the CFTC Division of Enforcement via a Toll-Free Hotline 866-FON-CFTC (866-366-2382) or file a tip or complaint online. \\u200b \\u200b \\u200b \\u200b \\u200b \\u200b Media Contact \\u200b \\u200b \\u200b Dennis Holden 202-418-5088 Last Updated: January 12, 2015 Release Number 7100-15 January 12, 2015 Federal Court in Florida Enters Order Freezing Assets in CFTC Foreign Currency Anti- Fraud Action against Allied Markets LLC and its Principals Joshua Gilliland and Chawalit Wongkhiao CFTC Charges Jacksonville, Florida, Defendants with Operating a Fraudulent Forex Pool and Misappropriating Customer Funds to Pay Personal Expenses Washington, DC — The U.S. Commodity Futures Trading Commission (CFTC) today announced that it filed a civil enforcement Complaint in the U.S. District Court for the Middle District of Florida, charging Defendants Allied Markets LLC, and its principals Joshua Gilliland and Chawalit Wongkhiao, all of Jacksonville, Florida, with operating a fraudulent foreign currency (forex) commodity pool in violation of the Commodity Exchange Act (CEA) and CFTC Regulations. In addition, none of the Defendants has ever been registered with the CFTC, as required. On January 7, 2015, the day after the CFTC Complaint was filed under seal, U.S. District Judge Marcia Morales Howard issued an emergency Order freezing and preserving assets under the Defendants’ control and prohibiting them from destroying documents or denying CFTC staff access to their books and records. The Court has scheduled a hearing for January 21, 2015, on the CFTC’s motion for a preliminary injunction. The CFTC Complaint charges that, as early as January 2012, the Defendants fraudulently solicited more than $1 million from members of the public to trade forex in a commodity pool. As alleged, Defendants Gilliland and Wongkhiao misappropriated funds to pay their personal expenses. For example, instead of trading forex as promised, they allegedly withdrew approximately $850,000 in pool participant funds from the Allied Markets forex account, spending more than $64,000 of the stolen funds on restaurants and entertainment; approximately $33,000 on travel, hotels and rental cars; and approximately $66,000 on rent for their residence in Jacksonville Beach, Florida. They also transferred at least $83,200 to their personal bank accounts and withdrew approximately $139,000 in cash from automated teller machines and at bank branches, the Complaint charges. Defendants also used pool participant funds to pay purported trading profits and supposedly returned pool participants’ principal in the manner of a Ponzi scheme, according to the Complaint. Specifically, according to the Complaint, the Defendants solicited members of the public to send them money for forex trading by fraudulently guaranteeing specific trading returns and by making material misrepresentations regarding their trading expertise and results, including that Defendants’ forex trading was generating large profits. In its continuing litigation, the CFTC seeks full restitution to defrauded pool participants, disgorgement of any ill-gotten gains, a civil monetary penalty, permanent registration and trading bans, and a permanent injunction against future violations of the CEA and CFTC Regulations, as charged. The CFTC appreciates the assistance of the Jacksonville Beach Police Department, the Jacksonville Sheriff’s Office, the Florida Office of Financial Regulation, the United States Marshals Service, and the National Futures Association. CFTC Division of Enforcement staff members responsible for this action are Jonah McCarthy, Patricia Gomersall, Dmitriy Vilenskiy, Jonathan Robell, John Einstman, and Paul Hayeck. (See Complaint and Asset Freeze Order under Related Links.) * * * * * * * CFTC’s Foreign Currency (Forex) Fraud and Commodity Pool Fraud Advisories The CFTC has issued several customer protection Fraud Advisories that provide the warning signs of fraud, including the Foreign Currency Trading (Forex) Fraud Advisory, which states that the CFTC has witnessed a sharp rise in Forex trading scams in recent years and helps customers identify this potential fraud. The CFTC has also issued a Commodity Pool Fraud Advisory, which warns customers about a type of fraud that involves individuals and firms, often unregistered, offering investments in commodity pools. Customers can report suspicious activities or information, such as possible violations of commodity trading laws, to the CFTC Division of Enforcement via a Toll-Free Hotline 866-FON-CFTC (866-366-2382) or file a tip or complaint online. \\u200b \\u200b \\u200b \\u200b \\u200b \\u200b Media Contact \\u200b \\u200b \\u200b Dennis Holden 202-418-5088 Last Updated: January 12, 2015 Release Number 7100-15 January 12, 2015 Federal Court in Florida Enters Order Freezing Assets in CFTC Foreign Currency Anti- Fraud Action against Allied Markets LLC and its Principals Joshua Gilliland and Chawalit Wongkhiao CFTC Charges Jacksonville, Florida, Defendants with Operating a Fraudulent Forex Pool and Misappropriating Customer Funds to Pay Personal Expenses Washington, DC — The U.S. Commodity Futures Trading Commission (CFTC) today announced that it filed a civil enforcement Complaint in the U.S. District Court for the Middle District of Florida, charging Defendants Allied Markets LLC, and its principals Joshua Gilliland and Chawalit Wongkhiao, all of Jacksonville, Florida, with operating a fraudulent foreign currency (forex) commodity pool in violation of the Commodity Exchange Act (CEA) and CFTC Regulations. In addition, none of the Defendants has ever been registered with the CFTC, as required. On January 7, 2015, the day after the CFTC Complaint was filed under seal, U.S. District Judge Marcia Morales Howard issued an emergency Order freezing and preserving assets under the Defendants’ control and prohibiting them from destroying documents or denying CFTC staff access to their books and records. The Court has scheduled a hearing for January 21, 2015, on the CFTC’s motion for a preliminary injunction. The CFTC Complaint charges that, as early as January 2012, the Defendants fraudulently solicited more than $1 million from members of the public to trade forex in a commodity pool. As alleged, Defendants Gilliland and Wongkhiao misappropriated funds to pay their personal expenses. For example, instead of trading forex as promised, they allegedly withdrew approximately $850,000 in pool participant funds from the Allied Markets forex account, spending more than $64,000 of the stolen funds on restaurants and entertainment; approximately $33,000 on travel, hotels and rental cars; and approximately $66,000 on rent for their residence in Jacksonville Beach, Florida. They also transferred at least $83,200 to their personal bank accounts and withdrew approximately $139,000 in cash from automated teller machines and at bank branches, the Complaint charges. Defendants also used pool participant funds to pay purported trading profits and supposedly returned pool participants’ principal in the manner of a Ponzi scheme, according to the Complaint. Specifically, according to the Complaint, the Defendants solicited members of the public to send them money for forex trading by fraudulently guaranteeing specific trading returns and by making material misrepresentations regarding their trading expertise and results, including that Defendants’ forex trading was generating large profits. In its continuing litigation, the CFTC seeks full restitution to defrauded pool participants, disgorgement of any ill-gotten gains, a civil monetary penalty, permanent registration and trading bans, and a permanent injunction against future violations of the CEA and CFTC Regulations, as charged. The CFTC appreciates the assistance of the Jacksonville Beach Police Department, the Jacksonville Sheriff’s Office, the Florida Office of Financial Regulation, the United States Marshals Service, and the National Futures Association. CFTC Division of Enforcement staff members responsible for this action are Jonah McCarthy, Patricia Gomersall, Dmitriy Vilenskiy, Jonathan Robell, John Einstman, and Paul Hayeck. (See Complaint and Asset Freeze Order under Related Links.) * * * * * * * CFTC’s Foreign Currency (Forex) Fraud and Commodity Pool Fraud Advisories The CFTC has issued several customer protection Fraud Advisories that provide the warning signs of fraud, including the Foreign Currency Trading (Forex) Fraud Advisory, which states that the CFTC has witnessed a sharp rise in Forex trading scams in recent years and helps customers identify this potential fraud. The CFTC has also issued a Commodity Pool Fraud Advisory, which warns customers about a type of fraud that involves individuals and firms, often unregistered, offering investments in commodity pools. Customers can report suspicious activities or information, such as possible violations of commodity trading laws, to the CFTC Division of Enforcement via a Toll-Free Hotline 866-FON-CFTC (866-366-2382) or file a tip or complaint online. \\u200b \\u200b \\u200b \\u200b \\u200b \\u200b Media Contact \\u200b \\u200b \\u200b Dennis Holden 202-418-5088 Last Updated: January 12, 2015 Release Number 7100-15 January 12, 2015 Federal Court in Florida Enters Order Freezing Assets in CFTC Foreign Currency Anti- Fraud Action against Allied Markets LLC and its Principals Joshua Gilliland and Chawalit Wongkhiao CFTC Charges Jacksonville, Florida, Defendants with Operating a Fraudulent Forex Pool and Misappropriating Customer Funds to Pay Personal Expenses Washington, DC — The U.S. Commodity Futures Trading Commission (CFTC) today announced that it filed a civil enforcement Complaint in the U.S. District Court for the Middle District of Florida, charging Defendants Allied Markets LLC, and its principals Joshua Gilliland and Chawalit Wongkhiao, all of Jacksonville, Florida, with operating a fraudulent foreign currency (forex) commodity pool in violation of the Commodity Exchange Act (CEA) and CFTC Regulations. In addition, none of the Defendants has ever been registered with the CFTC, as required. On January 7, 2015, the day after the CFTC Complaint was filed under seal, U.S. District Judge Marcia Morales Howard issued an emergency Order freezing and preserving assets under the Defendants’ control and prohibiting them from destroying documents or denying CFTC staff access to their books and records. The Court has scheduled a hearing for January 21, 2015, on the CFTC’s motion for a preliminary injunction. The CFTC Complaint charges that, as early as January 2012, the Defendants fraudulently solicited more than $1 million from members of the public to trade forex in a commodity pool. As alleged, Defendants Gilliland and Wongkhiao misappropriated funds to pay their personal expenses. For example, instead of trading forex as promised, they allegedly withdrew approximately $850,000 in pool participant funds from the Allied Markets forex account, spending more than $64,000 of the stolen funds on restaurants and entertainment; approximately $33,000 on travel, hotels and rental cars; and approximately $66,000 on rent for their residence in Jacksonville Beach, Florida. They also transferred at least $83,200 to their personal bank accounts and withdrew approximately $139,000 in cash from automated teller machines and at bank branches, the Complaint charges. Defendants also used pool participant funds to pay purported trading profits and supposedly returned pool participants’ principal in the manner of a Ponzi scheme, according to the Complaint. Specifically, according to the Complaint, the Defendants solicited members of the public to send them money for forex trading by fraudulently guaranteeing specific trading returns and by making material misrepresentations regarding their trading expertise and results, including that Defendants’ forex trading was generating large profits. In its continuing litigation, the CFTC seeks full restitution to defrauded pool participants, disgorgement of any ill-gotten gains, a civil monetary penalty, permanent registration and trading bans, and a permanent injunction against future violations of the CEA and CFTC Regulations, as charged. The CFTC appreciates the assistance of the Jacksonville Beach Police Department, the Jacksonville Sheriff’s Office, the Florida Office of Financial Regulation, the United States Marshals Service, and the National Futures Association. CFTC Division of Enforcement staff members responsible for this action are Jonah McCarthy, Patricia Gomersall, Dmitriy Vilenskiy, Jonathan Robell, John Einstman, and Paul Hayeck. (See Complaint and Asset Freeze Order under Related Links.) * * * * * * * CFTC’s Foreign Currency (Forex) Fraud and Commodity Pool Fraud Advisories The CFTC has issued several customer protection Fraud Advisories that provide the warning signs of fraud, including the Foreign Currency Trading (Forex) Fraud Advisory, which states that the CFTC has witnessed a sharp rise in Forex trading scams in recent years and helps customers identify this potential fraud. The CFTC has also issued a Commodity Pool Fraud Advisory, which warns customers about a type of fraud that involves individuals and firms, often unregistered, offering investments in commodity pools. Customers can report suspicious activities or information, such as possible violations of commodity trading laws, to the CFTC Division of Enforcement via a Toll-Free Hotline 866-FON-CFTC (866-366-2382) or file a tip or complaint online. \\u200b \\u200b \\u200b \\u200b \\u200b \\u200b Media Contact \\u200b \\u200b \\u200b Dennis Holden 202-418-5088 Last Updated: January 12, 2015 '"
      ]
     },
     "execution_count": 148,
     "metadata": {},
     "output_type": "execute_result"
    }
   ],
   "source": [
    "doc"
   ]
  },
  {
   "cell_type": "code",
   "execution_count": 149,
   "metadata": {},
   "outputs": [],
   "source": [
    "def unicode(text):\n",
    "    text_unicode = doc \n",
    "    # encoding the text to ASCII format\n",
    "    text_encode = text_unicode.encode(encoding=\"ascii\", errors=\"ignore\")\n",
    "    # decoding the text\n",
    "    text_decode = text_encode.decode()\n",
    "    # cleaning the text to remove extra whitespace \n",
    "    clean_text = \" \".join([word for word in text_decode.split()])\n",
    "    return clean_text"
   ]
  },
  {
   "cell_type": "code",
   "execution_count": 150,
   "metadata": {},
   "outputs": [],
   "source": [
    "text=unicode(doc)"
   ]
  },
  {
   "cell_type": "code",
   "execution_count": 151,
   "metadata": {},
   "outputs": [
    {
     "data": {
      "text/plain": [
       "'Release Number 7100-15 January 12, 2015 Federal Court in Florida Enters Order Freezing Assets in CFTC Foreign Currency Anti- Fraud Action against Allied Markets LLC and its Principals Joshua Gilliland and Chawalit Wongkhiao CFTC Charges Jacksonville, Florida, Defendants with Operating a Fraudulent Forex Pool and Misappropriating Customer Funds to Pay Personal Expenses Washington, DC The U.S. Commodity Futures Trading Commission (CFTC) today announced that it filed a civil enforcement Complaint in the U.S. District Court for the Middle District of Florida, charging Defendants Allied Markets LLC, and its principals Joshua Gilliland and Chawalit Wongkhiao, all of Jacksonville, Florida, with operating a fraudulent foreign currency (forex) commodity pool in violation of the Commodity Exchange Act (CEA) and CFTC Regulations. In addition, none of the Defendants has ever been registered with the CFTC, as required. On January 7, 2015, the day after the CFTC Complaint was filed under seal, U.S. District Judge Marcia Morales Howard issued an emergency Order freezing and preserving assets under the Defendants control and prohibiting them from destroying documents or denying CFTC staff access to their books and records. The Court has scheduled a hearing for January 21, 2015, on the CFTCs motion for a preliminary injunction. The CFTC Complaint charges that, as early as January 2012, the Defendants fraudulently solicited more than $1 million from members of the public to trade forex in a commodity pool. As alleged, Defendants Gilliland and Wongkhiao misappropriated funds to pay their personal expenses. For example, instead of trading forex as promised, they allegedly withdrew approximately $850,000 in pool participant funds from the Allied Markets forex account, spending more than $64,000 of the stolen funds on restaurants and entertainment; approximately $33,000 on travel, hotels and rental cars; and approximately $66,000 on rent for their residence in Jacksonville Beach, Florida. They also transferred at least $83,200 to their personal bank accounts and withdrew approximately $139,000 in cash from automated teller machines and at bank branches, the Complaint charges. Defendants also used pool participant funds to pay purported trading profits and supposedly returned pool participants principal in the manner of a Ponzi scheme, according to the Complaint. Specifically, according to the Complaint, the Defendants solicited members of the public to send them money for forex trading by fraudulently guaranteeing specific trading returns and by making material misrepresentations regarding their trading expertise and results, including that Defendants forex trading was generating large profits. In its continuing litigation, the CFTC seeks full restitution to defrauded pool participants, disgorgement of any ill-gotten gains, a civil monetary penalty, permanent registration and trading bans, and a permanent injunction against future violations of the CEA and CFTC Regulations, as charged. The CFTC appreciates the assistance of the Jacksonville Beach Police Department, the Jacksonville Sheriffs Office, the Florida Office of Financial Regulation, the United States Marshals Service, and the National Futures Association. CFTC Division of Enforcement staff members responsible for this action are Jonah McCarthy, Patricia Gomersall, Dmitriy Vilenskiy, Jonathan Robell, John Einstman, and Paul Hayeck. (See Complaint and Asset Freeze Order under Related Links.) * * * * * * * CFTCs Foreign Currency (Forex) Fraud and Commodity Pool Fraud Advisories The CFTC has issued several customer protection Fraud Advisories that provide the warning signs of fraud, including the Foreign Currency Trading (Forex) Fraud Advisory, which states that the CFTC has witnessed a sharp rise in Forex trading scams in recent years and helps customers identify this potential fraud. The CFTC has also issued a Commodity Pool Fraud Advisory, which warns customers about a type of fraud that involves individuals and firms, often unregistered, offering investments in commodity pools. Customers can report suspicious activities or information, such as possible violations of commodity trading laws, to the CFTC Division of Enforcement via a Toll-Free Hotline 866-FON-CFTC (866-366-2382) or file a tip or complaint online. Media Contact Dennis Holden 202-418-5088 Last Updated: January 12, 2015 Release Number 7100-15 January 12, 2015 Federal Court in Florida Enters Order Freezing Assets in CFTC Foreign Currency Anti- Fraud Action against Allied Markets LLC and its Principals Joshua Gilliland and Chawalit Wongkhiao CFTC Charges Jacksonville, Florida, Defendants with Operating a Fraudulent Forex Pool and Misappropriating Customer Funds to Pay Personal Expenses Washington, DC The U.S. Commodity Futures Trading Commission (CFTC) today announced that it filed a civil enforcement Complaint in the U.S. District Court for the Middle District of Florida, charging Defendants Allied Markets LLC, and its principals Joshua Gilliland and Chawalit Wongkhiao, all of Jacksonville, Florida, with operating a fraudulent foreign currency (forex) commodity pool in violation of the Commodity Exchange Act (CEA) and CFTC Regulations. In addition, none of the Defendants has ever been registered with the CFTC, as required. On January 7, 2015, the day after the CFTC Complaint was filed under seal, U.S. District Judge Marcia Morales Howard issued an emergency Order freezing and preserving assets under the Defendants control and prohibiting them from destroying documents or denying CFTC staff access to their books and records. The Court has scheduled a hearing for January 21, 2015, on the CFTCs motion for a preliminary injunction. The CFTC Complaint charges that, as early as January 2012, the Defendants fraudulently solicited more than $1 million from members of the public to trade forex in a commodity pool. As alleged, Defendants Gilliland and Wongkhiao misappropriated funds to pay their personal expenses. For example, instead of trading forex as promised, they allegedly withdrew approximately $850,000 in pool participant funds from the Allied Markets forex account, spending more than $64,000 of the stolen funds on restaurants and entertainment; approximately $33,000 on travel, hotels and rental cars; and approximately $66,000 on rent for their residence in Jacksonville Beach, Florida. They also transferred at least $83,200 to their personal bank accounts and withdrew approximately $139,000 in cash from automated teller machines and at bank branches, the Complaint charges. Defendants also used pool participant funds to pay purported trading profits and supposedly returned pool participants principal in the manner of a Ponzi scheme, according to the Complaint. Specifically, according to the Complaint, the Defendants solicited members of the public to send them money for forex trading by fraudulently guaranteeing specific trading returns and by making material misrepresentations regarding their trading expertise and results, including that Defendants forex trading was generating large profits. In its continuing litigation, the CFTC seeks full restitution to defrauded pool participants, disgorgement of any ill-gotten gains, a civil monetary penalty, permanent registration and trading bans, and a permanent injunction against future violations of the CEA and CFTC Regulations, as charged. The CFTC appreciates the assistance of the Jacksonville Beach Police Department, the Jacksonville Sheriffs Office, the Florida Office of Financial Regulation, the United States Marshals Service, and the National Futures Association. CFTC Division of Enforcement staff members responsible for this action are Jonah McCarthy, Patricia Gomersall, Dmitriy Vilenskiy, Jonathan Robell, John Einstman, and Paul Hayeck. (See Complaint and Asset Freeze Order under Related Links.) * * * * * * * CFTCs Foreign Currency (Forex) Fraud and Commodity Pool Fraud Advisories The CFTC has issued several customer protection Fraud Advisories that provide the warning signs of fraud, including the Foreign Currency Trading (Forex) Fraud Advisory, which states that the CFTC has witnessed a sharp rise in Forex trading scams in recent years and helps customers identify this potential fraud. The CFTC has also issued a Commodity Pool Fraud Advisory, which warns customers about a type of fraud that involves individuals and firms, often unregistered, offering investments in commodity pools. Customers can report suspicious activities or information, such as possible violations of commodity trading laws, to the CFTC Division of Enforcement via a Toll-Free Hotline 866-FON-CFTC (866-366-2382) or file a tip or complaint online. Media Contact Dennis Holden 202-418-5088 Last Updated: January 12, 2015 Release Number 7100-15 January 12, 2015 Federal Court in Florida Enters Order Freezing Assets in CFTC Foreign Currency Anti- Fraud Action against Allied Markets LLC and its Principals Joshua Gilliland and Chawalit Wongkhiao CFTC Charges Jacksonville, Florida, Defendants with Operating a Fraudulent Forex Pool and Misappropriating Customer Funds to Pay Personal Expenses Washington, DC The U.S. Commodity Futures Trading Commission (CFTC) today announced that it filed a civil enforcement Complaint in the U.S. District Court for the Middle District of Florida, charging Defendants Allied Markets LLC, and its principals Joshua Gilliland and Chawalit Wongkhiao, all of Jacksonville, Florida, with operating a fraudulent foreign currency (forex) commodity pool in violation of the Commodity Exchange Act (CEA) and CFTC Regulations. In addition, none of the Defendants has ever been registered with the CFTC, as required. On January 7, 2015, the day after the CFTC Complaint was filed under seal, U.S. District Judge Marcia Morales Howard issued an emergency Order freezing and preserving assets under the Defendants control and prohibiting them from destroying documents or denying CFTC staff access to their books and records. The Court has scheduled a hearing for January 21, 2015, on the CFTCs motion for a preliminary injunction. The CFTC Complaint charges that, as early as January 2012, the Defendants fraudulently solicited more than $1 million from members of the public to trade forex in a commodity pool. As alleged, Defendants Gilliland and Wongkhiao misappropriated funds to pay their personal expenses. For example, instead of trading forex as promised, they allegedly withdrew approximately $850,000 in pool participant funds from the Allied Markets forex account, spending more than $64,000 of the stolen funds on restaurants and entertainment; approximately $33,000 on travel, hotels and rental cars; and approximately $66,000 on rent for their residence in Jacksonville Beach, Florida. They also transferred at least $83,200 to their personal bank accounts and withdrew approximately $139,000 in cash from automated teller machines and at bank branches, the Complaint charges. Defendants also used pool participant funds to pay purported trading profits and supposedly returned pool participants principal in the manner of a Ponzi scheme, according to the Complaint. Specifically, according to the Complaint, the Defendants solicited members of the public to send them money for forex trading by fraudulently guaranteeing specific trading returns and by making material misrepresentations regarding their trading expertise and results, including that Defendants forex trading was generating large profits. In its continuing litigation, the CFTC seeks full restitution to defrauded pool participants, disgorgement of any ill-gotten gains, a civil monetary penalty, permanent registration and trading bans, and a permanent injunction against future violations of the CEA and CFTC Regulations, as charged. The CFTC appreciates the assistance of the Jacksonville Beach Police Department, the Jacksonville Sheriffs Office, the Florida Office of Financial Regulation, the United States Marshals Service, and the National Futures Association. CFTC Division of Enforcement staff members responsible for this action are Jonah McCarthy, Patricia Gomersall, Dmitriy Vilenskiy, Jonathan Robell, John Einstman, and Paul Hayeck. (See Complaint and Asset Freeze Order under Related Links.) * * * * * * * CFTCs Foreign Currency (Forex) Fraud and Commodity Pool Fraud Advisories The CFTC has issued several customer protection Fraud Advisories that provide the warning signs of fraud, including the Foreign Currency Trading (Forex) Fraud Advisory, which states that the CFTC has witnessed a sharp rise in Forex trading scams in recent years and helps customers identify this potential fraud. The CFTC has also issued a Commodity Pool Fraud Advisory, which warns customers about a type of fraud that involves individuals and firms, often unregistered, offering investments in commodity pools. Customers can report suspicious activities or information, such as possible violations of commodity trading laws, to the CFTC Division of Enforcement via a Toll-Free Hotline 866-FON-CFTC (866-366-2382) or file a tip or complaint online. Media Contact Dennis Holden 202-418-5088 Last Updated: January 12, 2015 Release Number 7100-15 January 12, 2015 Federal Court in Florida Enters Order Freezing Assets in CFTC Foreign Currency Anti- Fraud Action against Allied Markets LLC and its Principals Joshua Gilliland and Chawalit Wongkhiao CFTC Charges Jacksonville, Florida, Defendants with Operating a Fraudulent Forex Pool and Misappropriating Customer Funds to Pay Personal Expenses Washington, DC The U.S. Commodity Futures Trading Commission (CFTC) today announced that it filed a civil enforcement Complaint in the U.S. District Court for the Middle District of Florida, charging Defendants Allied Markets LLC, and its principals Joshua Gilliland and Chawalit Wongkhiao, all of Jacksonville, Florida, with operating a fraudulent foreign currency (forex) commodity pool in violation of the Commodity Exchange Act (CEA) and CFTC Regulations. In addition, none of the Defendants has ever been registered with the CFTC, as required. On January 7, 2015, the day after the CFTC Complaint was filed under seal, U.S. District Judge Marcia Morales Howard issued an emergency Order freezing and preserving assets under the Defendants control and prohibiting them from destroying documents or denying CFTC staff access to their books and records. The Court has scheduled a hearing for January 21, 2015, on the CFTCs motion for a preliminary injunction. The CFTC Complaint charges that, as early as January 2012, the Defendants fraudulently solicited more than $1 million from members of the public to trade forex in a commodity pool. As alleged, Defendants Gilliland and Wongkhiao misappropriated funds to pay their personal expenses. For example, instead of trading forex as promised, they allegedly withdrew approximately $850,000 in pool participant funds from the Allied Markets forex account, spending more than $64,000 of the stolen funds on restaurants and entertainment; approximately $33,000 on travel, hotels and rental cars; and approximately $66,000 on rent for their residence in Jacksonville Beach, Florida. They also transferred at least $83,200 to their personal bank accounts and withdrew approximately $139,000 in cash from automated teller machines and at bank branches, the Complaint charges. Defendants also used pool participant funds to pay purported trading profits and supposedly returned pool participants principal in the manner of a Ponzi scheme, according to the Complaint. Specifically, according to the Complaint, the Defendants solicited members of the public to send them money for forex trading by fraudulently guaranteeing specific trading returns and by making material misrepresentations regarding their trading expertise and results, including that Defendants forex trading was generating large profits. In its continuing litigation, the CFTC seeks full restitution to defrauded pool participants, disgorgement of any ill-gotten gains, a civil monetary penalty, permanent registration and trading bans, and a permanent injunction against future violations of the CEA and CFTC Regulations, as charged. The CFTC appreciates the assistance of the Jacksonville Beach Police Department, the Jacksonville Sheriffs Office, the Florida Office of Financial Regulation, the United States Marshals Service, and the National Futures Association. CFTC Division of Enforcement staff members responsible for this action are Jonah McCarthy, Patricia Gomersall, Dmitriy Vilenskiy, Jonathan Robell, John Einstman, and Paul Hayeck. (See Complaint and Asset Freeze Order under Related Links.) * * * * * * * CFTCs Foreign Currency (Forex) Fraud and Commodity Pool Fraud Advisories The CFTC has issued several customer protection Fraud Advisories that provide the warning signs of fraud, including the Foreign Currency Trading (Forex) Fraud Advisory, which states that the CFTC has witnessed a sharp rise in Forex trading scams in recent years and helps customers identify this potential fraud. The CFTC has also issued a Commodity Pool Fraud Advisory, which warns customers about a type of fraud that involves individuals and firms, often unregistered, offering investments in commodity pools. Customers can report suspicious activities or information, such as possible violations of commodity trading laws, to the CFTC Division of Enforcement via a Toll-Free Hotline 866-FON-CFTC (866-366-2382) or file a tip or complaint online. Media Contact Dennis Holden 202-418-5088 Last Updated: January 12, 2015 Release Number 7100-15 January 12, 2015 Federal Court in Florida Enters Order Freezing Assets in CFTC Foreign Currency Anti- Fraud Action against Allied Markets LLC and its Principals Joshua Gilliland and Chawalit Wongkhiao CFTC Charges Jacksonville, Florida, Defendants with Operating a Fraudulent Forex Pool and Misappropriating Customer Funds to Pay Personal Expenses Washington, DC The U.S. Commodity Futures Trading Commission (CFTC) today announced that it filed a civil enforcement Complaint in the U.S. District Court for the Middle District of Florida, charging Defendants Allied Markets LLC, and its principals Joshua Gilliland and Chawalit Wongkhiao, all of Jacksonville, Florida, with operating a fraudulent foreign currency (forex) commodity pool in violation of the Commodity Exchange Act (CEA) and CFTC Regulations. In addition, none of the Defendants has ever been registered with the CFTC, as required. On January 7, 2015, the day after the CFTC Complaint was filed under seal, U.S. District Judge Marcia Morales Howard issued an emergency Order freezing and preserving assets under the Defendants control and prohibiting them from destroying documents or denying CFTC staff access to their books and records. The Court has scheduled a hearing for January 21, 2015, on the CFTCs motion for a preliminary injunction. The CFTC Complaint charges that, as early as January 2012, the Defendants fraudulently solicited more than $1 million from members of the public to trade forex in a commodity pool. As alleged, Defendants Gilliland and Wongkhiao misappropriated funds to pay their personal expenses. For example, instead of trading forex as promised, they allegedly withdrew approximately $850,000 in pool participant funds from the Allied Markets forex account, spending more than $64,000 of the stolen funds on restaurants and entertainment; approximately $33,000 on travel, hotels and rental cars; and approximately $66,000 on rent for their residence in Jacksonville Beach, Florida. They also transferred at least $83,200 to their personal bank accounts and withdrew approximately $139,000 in cash from automated teller machines and at bank branches, the Complaint charges. Defendants also used pool participant funds to pay purported trading profits and supposedly returned pool participants principal in the manner of a Ponzi scheme, according to the Complaint. Specifically, according to the Complaint, the Defendants solicited members of the public to send them money for forex trading by fraudulently guaranteeing specific trading returns and by making material misrepresentations regarding their trading expertise and results, including that Defendants forex trading was generating large profits. In its continuing litigation, the CFTC seeks full restitution to defrauded pool participants, disgorgement of any ill-gotten gains, a civil monetary penalty, permanent registration and trading bans, and a permanent injunction against future violations of the CEA and CFTC Regulations, as charged. The CFTC appreciates the assistance of the Jacksonville Beach Police Department, the Jacksonville Sheriffs Office, the Florida Office of Financial Regulation, the United States Marshals Service, and the National Futures Association. CFTC Division of Enforcement staff members responsible for this action are Jonah McCarthy, Patricia Gomersall, Dmitriy Vilenskiy, Jonathan Robell, John Einstman, and Paul Hayeck. (See Complaint and Asset Freeze Order under Related Links.) * * * * * * * CFTCs Foreign Currency (Forex) Fraud and Commodity Pool Fraud Advisories The CFTC has issued several customer protection Fraud Advisories that provide the warning signs of fraud, including the Foreign Currency Trading (Forex) Fraud Advisory, which states that the CFTC has witnessed a sharp rise in Forex trading scams in recent years and helps customers identify this potential fraud. The CFTC has also issued a Commodity Pool Fraud Advisory, which warns customers about a type of fraud that involves individuals and firms, often unregistered, offering investments in commodity pools. Customers can report suspicious activities or information, such as possible violations of commodity trading laws, to the CFTC Division of Enforcement via a Toll-Free Hotline 866-FON-CFTC (866-366-2382) or file a tip or complaint online. Media Contact Dennis Holden 202-418-5088 Last Updated: January 12, 2015'"
      ]
     },
     "execution_count": 151,
     "metadata": {},
     "output_type": "execute_result"
    }
   ],
   "source": [
    "text"
   ]
  },
  {
   "cell_type": "code",
   "execution_count": 152,
   "metadata": {},
   "outputs": [],
   "source": [
    "sentence_list = nltk.sent_tokenize(text)\n"
   ]
  },
  {
   "cell_type": "code",
   "execution_count": 153,
   "metadata": {},
   "outputs": [],
   "source": [
    "cleaned_text = ' '.join(sentence_list)\n"
   ]
  },
  {
   "cell_type": "code",
   "execution_count": 154,
   "metadata": {},
   "outputs": [
    {
     "data": {
      "text/plain": [
       "'Release Number 7100-15 January 12, 2015 Federal Court in Florida Enters Order Freezing Assets in CFTC Foreign Currency Anti- Fraud Action against Allied Markets LLC and its Principals Joshua Gilliland and Chawalit Wongkhiao CFTC Charges Jacksonville, Florida, Defendants with Operating a Fraudulent Forex Pool and Misappropriating Customer Funds to Pay Personal Expenses Washington, DC The U.S. Commodity Futures Trading Commission (CFTC) today announced that it filed a civil enforcement Complaint in the U.S. District Court for the Middle District of Florida, charging Defendants Allied Markets LLC, and its principals Joshua Gilliland and Chawalit Wongkhiao, all of Jacksonville, Florida, with operating a fraudulent foreign currency (forex) commodity pool in violation of the Commodity Exchange Act (CEA) and CFTC Regulations. In addition, none of the Defendants has ever been registered with the CFTC, as required. On January 7, 2015, the day after the CFTC Complaint was filed under seal, U.S. District Judge Marcia Morales Howard issued an emergency Order freezing and preserving assets under the Defendants control and prohibiting them from destroying documents or denying CFTC staff access to their books and records. The Court has scheduled a hearing for January 21, 2015, on the CFTCs motion for a preliminary injunction. The CFTC Complaint charges that, as early as January 2012, the Defendants fraudulently solicited more than $1 million from members of the public to trade forex in a commodity pool. As alleged, Defendants Gilliland and Wongkhiao misappropriated funds to pay their personal expenses. For example, instead of trading forex as promised, they allegedly withdrew approximately $850,000 in pool participant funds from the Allied Markets forex account, spending more than $64,000 of the stolen funds on restaurants and entertainment; approximately $33,000 on travel, hotels and rental cars; and approximately $66,000 on rent for their residence in Jacksonville Beach, Florida. They also transferred at least $83,200 to their personal bank accounts and withdrew approximately $139,000 in cash from automated teller machines and at bank branches, the Complaint charges. Defendants also used pool participant funds to pay purported trading profits and supposedly returned pool participants principal in the manner of a Ponzi scheme, according to the Complaint. Specifically, according to the Complaint, the Defendants solicited members of the public to send them money for forex trading by fraudulently guaranteeing specific trading returns and by making material misrepresentations regarding their trading expertise and results, including that Defendants forex trading was generating large profits. In its continuing litigation, the CFTC seeks full restitution to defrauded pool participants, disgorgement of any ill-gotten gains, a civil monetary penalty, permanent registration and trading bans, and a permanent injunction against future violations of the CEA and CFTC Regulations, as charged. The CFTC appreciates the assistance of the Jacksonville Beach Police Department, the Jacksonville Sheriffs Office, the Florida Office of Financial Regulation, the United States Marshals Service, and the National Futures Association. CFTC Division of Enforcement staff members responsible for this action are Jonah McCarthy, Patricia Gomersall, Dmitriy Vilenskiy, Jonathan Robell, John Einstman, and Paul Hayeck. (See Complaint and Asset Freeze Order under Related Links.) * * * * * * * CFTCs Foreign Currency (Forex) Fraud and Commodity Pool Fraud Advisories The CFTC has issued several customer protection Fraud Advisories that provide the warning signs of fraud, including the Foreign Currency Trading (Forex) Fraud Advisory, which states that the CFTC has witnessed a sharp rise in Forex trading scams in recent years and helps customers identify this potential fraud. The CFTC has also issued a Commodity Pool Fraud Advisory, which warns customers about a type of fraud that involves individuals and firms, often unregistered, offering investments in commodity pools. Customers can report suspicious activities or information, such as possible violations of commodity trading laws, to the CFTC Division of Enforcement via a Toll-Free Hotline 866-FON-CFTC (866-366-2382) or file a tip or complaint online. Media Contact Dennis Holden 202-418-5088 Last Updated: January 12, 2015 Release Number 7100-15 January 12, 2015 Federal Court in Florida Enters Order Freezing Assets in CFTC Foreign Currency Anti- Fraud Action against Allied Markets LLC and its Principals Joshua Gilliland and Chawalit Wongkhiao CFTC Charges Jacksonville, Florida, Defendants with Operating a Fraudulent Forex Pool and Misappropriating Customer Funds to Pay Personal Expenses Washington, DC The U.S. Commodity Futures Trading Commission (CFTC) today announced that it filed a civil enforcement Complaint in the U.S. District Court for the Middle District of Florida, charging Defendants Allied Markets LLC, and its principals Joshua Gilliland and Chawalit Wongkhiao, all of Jacksonville, Florida, with operating a fraudulent foreign currency (forex) commodity pool in violation of the Commodity Exchange Act (CEA) and CFTC Regulations. In addition, none of the Defendants has ever been registered with the CFTC, as required. On January 7, 2015, the day after the CFTC Complaint was filed under seal, U.S. District Judge Marcia Morales Howard issued an emergency Order freezing and preserving assets under the Defendants control and prohibiting them from destroying documents or denying CFTC staff access to their books and records. The Court has scheduled a hearing for January 21, 2015, on the CFTCs motion for a preliminary injunction. The CFTC Complaint charges that, as early as January 2012, the Defendants fraudulently solicited more than $1 million from members of the public to trade forex in a commodity pool. As alleged, Defendants Gilliland and Wongkhiao misappropriated funds to pay their personal expenses. For example, instead of trading forex as promised, they allegedly withdrew approximately $850,000 in pool participant funds from the Allied Markets forex account, spending more than $64,000 of the stolen funds on restaurants and entertainment; approximately $33,000 on travel, hotels and rental cars; and approximately $66,000 on rent for their residence in Jacksonville Beach, Florida. They also transferred at least $83,200 to their personal bank accounts and withdrew approximately $139,000 in cash from automated teller machines and at bank branches, the Complaint charges. Defendants also used pool participant funds to pay purported trading profits and supposedly returned pool participants principal in the manner of a Ponzi scheme, according to the Complaint. Specifically, according to the Complaint, the Defendants solicited members of the public to send them money for forex trading by fraudulently guaranteeing specific trading returns and by making material misrepresentations regarding their trading expertise and results, including that Defendants forex trading was generating large profits. In its continuing litigation, the CFTC seeks full restitution to defrauded pool participants, disgorgement of any ill-gotten gains, a civil monetary penalty, permanent registration and trading bans, and a permanent injunction against future violations of the CEA and CFTC Regulations, as charged. The CFTC appreciates the assistance of the Jacksonville Beach Police Department, the Jacksonville Sheriffs Office, the Florida Office of Financial Regulation, the United States Marshals Service, and the National Futures Association. CFTC Division of Enforcement staff members responsible for this action are Jonah McCarthy, Patricia Gomersall, Dmitriy Vilenskiy, Jonathan Robell, John Einstman, and Paul Hayeck. (See Complaint and Asset Freeze Order under Related Links.) * * * * * * * CFTCs Foreign Currency (Forex) Fraud and Commodity Pool Fraud Advisories The CFTC has issued several customer protection Fraud Advisories that provide the warning signs of fraud, including the Foreign Currency Trading (Forex) Fraud Advisory, which states that the CFTC has witnessed a sharp rise in Forex trading scams in recent years and helps customers identify this potential fraud. The CFTC has also issued a Commodity Pool Fraud Advisory, which warns customers about a type of fraud that involves individuals and firms, often unregistered, offering investments in commodity pools. Customers can report suspicious activities or information, such as possible violations of commodity trading laws, to the CFTC Division of Enforcement via a Toll-Free Hotline 866-FON-CFTC (866-366-2382) or file a tip or complaint online. Media Contact Dennis Holden 202-418-5088 Last Updated: January 12, 2015 Release Number 7100-15 January 12, 2015 Federal Court in Florida Enters Order Freezing Assets in CFTC Foreign Currency Anti- Fraud Action against Allied Markets LLC and its Principals Joshua Gilliland and Chawalit Wongkhiao CFTC Charges Jacksonville, Florida, Defendants with Operating a Fraudulent Forex Pool and Misappropriating Customer Funds to Pay Personal Expenses Washington, DC The U.S. Commodity Futures Trading Commission (CFTC) today announced that it filed a civil enforcement Complaint in the U.S. District Court for the Middle District of Florida, charging Defendants Allied Markets LLC, and its principals Joshua Gilliland and Chawalit Wongkhiao, all of Jacksonville, Florida, with operating a fraudulent foreign currency (forex) commodity pool in violation of the Commodity Exchange Act (CEA) and CFTC Regulations. In addition, none of the Defendants has ever been registered with the CFTC, as required. On January 7, 2015, the day after the CFTC Complaint was filed under seal, U.S. District Judge Marcia Morales Howard issued an emergency Order freezing and preserving assets under the Defendants control and prohibiting them from destroying documents or denying CFTC staff access to their books and records. The Court has scheduled a hearing for January 21, 2015, on the CFTCs motion for a preliminary injunction. The CFTC Complaint charges that, as early as January 2012, the Defendants fraudulently solicited more than $1 million from members of the public to trade forex in a commodity pool. As alleged, Defendants Gilliland and Wongkhiao misappropriated funds to pay their personal expenses. For example, instead of trading forex as promised, they allegedly withdrew approximately $850,000 in pool participant funds from the Allied Markets forex account, spending more than $64,000 of the stolen funds on restaurants and entertainment; approximately $33,000 on travel, hotels and rental cars; and approximately $66,000 on rent for their residence in Jacksonville Beach, Florida. They also transferred at least $83,200 to their personal bank accounts and withdrew approximately $139,000 in cash from automated teller machines and at bank branches, the Complaint charges. Defendants also used pool participant funds to pay purported trading profits and supposedly returned pool participants principal in the manner of a Ponzi scheme, according to the Complaint. Specifically, according to the Complaint, the Defendants solicited members of the public to send them money for forex trading by fraudulently guaranteeing specific trading returns and by making material misrepresentations regarding their trading expertise and results, including that Defendants forex trading was generating large profits. In its continuing litigation, the CFTC seeks full restitution to defrauded pool participants, disgorgement of any ill-gotten gains, a civil monetary penalty, permanent registration and trading bans, and a permanent injunction against future violations of the CEA and CFTC Regulations, as charged. The CFTC appreciates the assistance of the Jacksonville Beach Police Department, the Jacksonville Sheriffs Office, the Florida Office of Financial Regulation, the United States Marshals Service, and the National Futures Association. CFTC Division of Enforcement staff members responsible for this action are Jonah McCarthy, Patricia Gomersall, Dmitriy Vilenskiy, Jonathan Robell, John Einstman, and Paul Hayeck. (See Complaint and Asset Freeze Order under Related Links.) * * * * * * * CFTCs Foreign Currency (Forex) Fraud and Commodity Pool Fraud Advisories The CFTC has issued several customer protection Fraud Advisories that provide the warning signs of fraud, including the Foreign Currency Trading (Forex) Fraud Advisory, which states that the CFTC has witnessed a sharp rise in Forex trading scams in recent years and helps customers identify this potential fraud. The CFTC has also issued a Commodity Pool Fraud Advisory, which warns customers about a type of fraud that involves individuals and firms, often unregistered, offering investments in commodity pools. Customers can report suspicious activities or information, such as possible violations of commodity trading laws, to the CFTC Division of Enforcement via a Toll-Free Hotline 866-FON-CFTC (866-366-2382) or file a tip or complaint online. Media Contact Dennis Holden 202-418-5088 Last Updated: January 12, 2015 Release Number 7100-15 January 12, 2015 Federal Court in Florida Enters Order Freezing Assets in CFTC Foreign Currency Anti- Fraud Action against Allied Markets LLC and its Principals Joshua Gilliland and Chawalit Wongkhiao CFTC Charges Jacksonville, Florida, Defendants with Operating a Fraudulent Forex Pool and Misappropriating Customer Funds to Pay Personal Expenses Washington, DC The U.S. Commodity Futures Trading Commission (CFTC) today announced that it filed a civil enforcement Complaint in the U.S. District Court for the Middle District of Florida, charging Defendants Allied Markets LLC, and its principals Joshua Gilliland and Chawalit Wongkhiao, all of Jacksonville, Florida, with operating a fraudulent foreign currency (forex) commodity pool in violation of the Commodity Exchange Act (CEA) and CFTC Regulations. In addition, none of the Defendants has ever been registered with the CFTC, as required. On January 7, 2015, the day after the CFTC Complaint was filed under seal, U.S. District Judge Marcia Morales Howard issued an emergency Order freezing and preserving assets under the Defendants control and prohibiting them from destroying documents or denying CFTC staff access to their books and records. The Court has scheduled a hearing for January 21, 2015, on the CFTCs motion for a preliminary injunction. The CFTC Complaint charges that, as early as January 2012, the Defendants fraudulently solicited more than $1 million from members of the public to trade forex in a commodity pool. As alleged, Defendants Gilliland and Wongkhiao misappropriated funds to pay their personal expenses. For example, instead of trading forex as promised, they allegedly withdrew approximately $850,000 in pool participant funds from the Allied Markets forex account, spending more than $64,000 of the stolen funds on restaurants and entertainment; approximately $33,000 on travel, hotels and rental cars; and approximately $66,000 on rent for their residence in Jacksonville Beach, Florida. They also transferred at least $83,200 to their personal bank accounts and withdrew approximately $139,000 in cash from automated teller machines and at bank branches, the Complaint charges. Defendants also used pool participant funds to pay purported trading profits and supposedly returned pool participants principal in the manner of a Ponzi scheme, according to the Complaint. Specifically, according to the Complaint, the Defendants solicited members of the public to send them money for forex trading by fraudulently guaranteeing specific trading returns and by making material misrepresentations regarding their trading expertise and results, including that Defendants forex trading was generating large profits. In its continuing litigation, the CFTC seeks full restitution to defrauded pool participants, disgorgement of any ill-gotten gains, a civil monetary penalty, permanent registration and trading bans, and a permanent injunction against future violations of the CEA and CFTC Regulations, as charged. The CFTC appreciates the assistance of the Jacksonville Beach Police Department, the Jacksonville Sheriffs Office, the Florida Office of Financial Regulation, the United States Marshals Service, and the National Futures Association. CFTC Division of Enforcement staff members responsible for this action are Jonah McCarthy, Patricia Gomersall, Dmitriy Vilenskiy, Jonathan Robell, John Einstman, and Paul Hayeck. (See Complaint and Asset Freeze Order under Related Links.) * * * * * * * CFTCs Foreign Currency (Forex) Fraud and Commodity Pool Fraud Advisories The CFTC has issued several customer protection Fraud Advisories that provide the warning signs of fraud, including the Foreign Currency Trading (Forex) Fraud Advisory, which states that the CFTC has witnessed a sharp rise in Forex trading scams in recent years and helps customers identify this potential fraud. The CFTC has also issued a Commodity Pool Fraud Advisory, which warns customers about a type of fraud that involves individuals and firms, often unregistered, offering investments in commodity pools. Customers can report suspicious activities or information, such as possible violations of commodity trading laws, to the CFTC Division of Enforcement via a Toll-Free Hotline 866-FON-CFTC (866-366-2382) or file a tip or complaint online. Media Contact Dennis Holden 202-418-5088 Last Updated: January 12, 2015 Release Number 7100-15 January 12, 2015 Federal Court in Florida Enters Order Freezing Assets in CFTC Foreign Currency Anti- Fraud Action against Allied Markets LLC and its Principals Joshua Gilliland and Chawalit Wongkhiao CFTC Charges Jacksonville, Florida, Defendants with Operating a Fraudulent Forex Pool and Misappropriating Customer Funds to Pay Personal Expenses Washington, DC The U.S. Commodity Futures Trading Commission (CFTC) today announced that it filed a civil enforcement Complaint in the U.S. District Court for the Middle District of Florida, charging Defendants Allied Markets LLC, and its principals Joshua Gilliland and Chawalit Wongkhiao, all of Jacksonville, Florida, with operating a fraudulent foreign currency (forex) commodity pool in violation of the Commodity Exchange Act (CEA) and CFTC Regulations. In addition, none of the Defendants has ever been registered with the CFTC, as required. On January 7, 2015, the day after the CFTC Complaint was filed under seal, U.S. District Judge Marcia Morales Howard issued an emergency Order freezing and preserving assets under the Defendants control and prohibiting them from destroying documents or denying CFTC staff access to their books and records. The Court has scheduled a hearing for January 21, 2015, on the CFTCs motion for a preliminary injunction. The CFTC Complaint charges that, as early as January 2012, the Defendants fraudulently solicited more than $1 million from members of the public to trade forex in a commodity pool. As alleged, Defendants Gilliland and Wongkhiao misappropriated funds to pay their personal expenses. For example, instead of trading forex as promised, they allegedly withdrew approximately $850,000 in pool participant funds from the Allied Markets forex account, spending more than $64,000 of the stolen funds on restaurants and entertainment; approximately $33,000 on travel, hotels and rental cars; and approximately $66,000 on rent for their residence in Jacksonville Beach, Florida. They also transferred at least $83,200 to their personal bank accounts and withdrew approximately $139,000 in cash from automated teller machines and at bank branches, the Complaint charges. Defendants also used pool participant funds to pay purported trading profits and supposedly returned pool participants principal in the manner of a Ponzi scheme, according to the Complaint. Specifically, according to the Complaint, the Defendants solicited members of the public to send them money for forex trading by fraudulently guaranteeing specific trading returns and by making material misrepresentations regarding their trading expertise and results, including that Defendants forex trading was generating large profits. In its continuing litigation, the CFTC seeks full restitution to defrauded pool participants, disgorgement of any ill-gotten gains, a civil monetary penalty, permanent registration and trading bans, and a permanent injunction against future violations of the CEA and CFTC Regulations, as charged. The CFTC appreciates the assistance of the Jacksonville Beach Police Department, the Jacksonville Sheriffs Office, the Florida Office of Financial Regulation, the United States Marshals Service, and the National Futures Association. CFTC Division of Enforcement staff members responsible for this action are Jonah McCarthy, Patricia Gomersall, Dmitriy Vilenskiy, Jonathan Robell, John Einstman, and Paul Hayeck. (See Complaint and Asset Freeze Order under Related Links.) * * * * * * * CFTCs Foreign Currency (Forex) Fraud and Commodity Pool Fraud Advisories The CFTC has issued several customer protection Fraud Advisories that provide the warning signs of fraud, including the Foreign Currency Trading (Forex) Fraud Advisory, which states that the CFTC has witnessed a sharp rise in Forex trading scams in recent years and helps customers identify this potential fraud. The CFTC has also issued a Commodity Pool Fraud Advisory, which warns customers about a type of fraud that involves individuals and firms, often unregistered, offering investments in commodity pools. Customers can report suspicious activities or information, such as possible violations of commodity trading laws, to the CFTC Division of Enforcement via a Toll-Free Hotline 866-FON-CFTC (866-366-2382) or file a tip or complaint online. Media Contact Dennis Holden 202-418-5088 Last Updated: January 12, 2015'"
      ]
     },
     "execution_count": 154,
     "metadata": {},
     "output_type": "execute_result"
    }
   ],
   "source": [
    "cleaned_text"
   ]
  },
  {
   "cell_type": "code",
   "execution_count": null,
   "metadata": {},
   "outputs": [],
   "source": [
    "\n",
    "    "
   ]
  },
  {
   "cell_type": "code",
   "execution_count": 155,
   "metadata": {},
   "outputs": [],
   "source": [
    "def is_section_num(text):\n",
    "    return re.search(r'^[MDCLXVIAB]+\\.$',text) is not None\n"
   ]
  },
  {
   "cell_type": "code",
   "execution_count": 156,
   "metadata": {},
   "outputs": [],
   "source": [
    " section=is_section_num('II') "
   ]
  },
  {
   "cell_type": "code",
   "execution_count": 157,
   "metadata": {},
   "outputs": [
    {
     "data": {
      "text/plain": [
       "False"
      ]
     },
     "execution_count": 157,
     "metadata": {},
     "output_type": "execute_result"
    }
   ],
   "source": [
    " section"
   ]
  },
  {
   "cell_type": "code",
   "execution_count": 158,
   "metadata": {},
   "outputs": [],
   "source": [
    "punctuation=['.','?','!']"
   ]
  },
  {
   "cell_type": "code",
   "execution_count": 159,
   "metadata": {},
   "outputs": [],
   "source": [
    "#sentence_scores=sentence_score(cleaned_text)"
   ]
  },
  {
   "cell_type": "code",
   "execution_count": 160,
   "metadata": {},
   "outputs": [
    {
     "data": {
      "text/plain": [
       "True"
      ]
     },
     "execution_count": 160,
     "metadata": {},
     "output_type": "execute_result"
    }
   ],
   "source": [
    "def ends_with_ponc(text):\n",
    "    return text[-1] in punctuation if text else False \n",
    "ends_with_ponc(\"Propex engaged in sanctions.\")"
   ]
  },
  {
   "cell_type": "code",
   "execution_count": 161,
   "metadata": {},
   "outputs": [
    {
     "data": {
      "text/plain": [
       "True"
      ]
     },
     "execution_count": 161,
     "metadata": {},
     "output_type": "execute_result"
    }
   ],
   "source": [
    "def start_with_upper(text):\n",
    "    return re.match('^[A-Z]', text) is not None\n",
    "start_with_upper(\"Fsfsd.\")"
   ]
  },
  {
   "cell_type": "code",
   "execution_count": 162,
   "metadata": {},
   "outputs": [
    {
     "data": {
      "text/plain": [
       "True"
      ]
     },
     "execution_count": 162,
     "metadata": {},
     "output_type": "execute_result"
    }
   ],
   "source": [
    "def is_title(text):\n",
    "    uppers = [word.isupper() for word in text.split(\" \")]\n",
    "    return sum(uppers) / len(uppers) > 0.6\n",
    "is_title(\"UNITED STATES OF AMERICA Before the COMMODITY FUTURES TRADING COMMISSION\")"
   ]
  },
  {
   "cell_type": "code",
   "execution_count": 163,
   "metadata": {},
   "outputs": [],
   "source": [
    "import nltk\n",
    "from nltk.tokenize import sent_tokenize\n",
    "t = sent_tokenize(\"Three days later, the SEC  filed a federal injunctive action against Sentinel, SEC v.  Sentinel,  et al., No.  07 CV 4684 (N.D. Ill. filed Aug. 20, 2007), and on April 28, 2008, the CFTC filed a Complaint against Sentinel, Bloom and Sentinel's Senior Vice President and head trader, Charles K. Mosley, seeking injunctive and other equitable relief, as well as the imposition of civil penalties, for violating various provisions of the Act and Commission Regulations.\")"
   ]
  },
  {
   "cell_type": "code",
   "execution_count": 164,
   "metadata": {},
   "outputs": [],
   "source": [
    "def same_sentence(sent1, sent2):\n",
    "    #print(sent1,\"\\n\",sent2)\n",
    "    \n",
    "    # sent empty\n",
    "    if (not sent1) or (not sent1['text']) :\n",
    "        return True\n",
    "    # section number\n",
    "    if sent1['is_section_num']:\n",
    "        return True\n",
    "    \n",
    "    # very short sentence\n",
    "    if len(sent1['text']) < 50:\n",
    "        return False\n",
    "    \n",
    "    # ponctuation\n",
    "    if sent1['ends_with_ponc']:\n",
    "        return False\n",
    "    \n",
    "    if sent1['is_title'] or sent2['is_title']:\n",
    "        return False\n",
    "\n",
    "    \n",
    "    \n",
    "    return True"
   ]
  },
  {
   "cell_type": "code",
   "execution_count": null,
   "metadata": {},
   "outputs": [],
   "source": []
  },
  {
   "cell_type": "code",
   "execution_count": 165,
   "metadata": {},
   "outputs": [],
   "source": [
    "def clean_doc(file_text):\n",
    "    pages=[]\n",
    "    for page in file_text.split(\"\\x0c\"):\n",
    "        # clen text\n",
    "        page_meta = [{'text': clean(para)} \n",
    "                            for para in page.split('\\n')]\n",
    "        clean_page = []\n",
    "        previous_line = {}\n",
    "        text= \"\"\n",
    "        # add meta data\n",
    "        for line in page_meta:\n",
    "            line['is_section_num'] = is_section_num(str(line['text']))\n",
    "            line['is_title'] = is_title(str(line['text']))\n",
    "            line['ends_with_ponc'] = ends_with_ponc(str(line['text']))\n",
    "            line['is_alpha'] = sum(c.isalpha() for c in str(line['text']))\n",
    "            line['start_with_upper']  = start_with_upper(str(line['text']))\n",
    "                                \n",
    "            # not relevant line\n",
    "            if not line['is_alpha']:\n",
    "                continue\n",
    "            \n",
    "            if not same_sentence(previous_line, line):\n",
    "                if text:\n",
    "                    clean_page.append(text)\n",
    "                    text = \"\"\n",
    "                \n",
    "            previous_line = line\n",
    "            text = \" \".join([text, str(line['text'])])\n",
    "        if len(clean_page):\n",
    "            pages.append(clean_page)\n",
    "    return pages"
   ]
  },
  {
   "cell_type": "code",
   "execution_count": 166,
   "metadata": {},
   "outputs": [
    {
     "data": {
      "text/plain": [
       "[[\" ('Release Number 7100-15', 'Release Number ')\",\n",
       "  \" ('January 12, 2015', 'January ')\",\n",
       "  \" ('Federal Court in Florida Enters Order Freezing Assets in CFTC Foreign Currency Anti-', 'Federal Court in Florida Enters Order Freezing Assets in CFTC Foreign Currency Anti ')\",\n",
       "  \" ('Fraud Action against Allied Markets LLC and its Principals Joshua Gilliland and Chawalit', 'Fraud Action against Allied Markets LLC and its Principals Joshua Gilliland and Chawalit')\",\n",
       "  \" ('Wongkhiao', 'Wongkhiao')\",\n",
       "  \" ('CFTC Charges Jacksonville, Florida, Defendants with Operating a', 'CFTC Charges Jacksonville Florida Defendants with Operating a')\",\n",
       "  \" ('Fraudulent Forex Pool and Misappropriating Customer Funds to Pay', 'Fraudulent Forex Pool and Misappropriating Customer Funds to Pay')\",\n",
       "  \" ('Personal Expenses', 'Personal Expenses')\",\n",
       "  \" ('Washington, DC — The U.S. Commodity Futures Trading Commission (CFTC) today announced that it filed a civil', 'Washington DC The U S Commodity Futures Trading Commission CFTC today announced that it filed a civil')\",\n",
       "  \" ('enforcement Complaint in the U.S. District Court for the Middle District of Florida, charging Defendants Allied Markets', 'enforcement Complaint in the U S District Court for the Middle District of Florida charging Defendants Allied Markets')\",\n",
       "  \" ('LLC, and its principals Joshua Gilliland and Chawalit Wongkhiao, all of Jacksonville, Florida, with operating a', 'LLC and its principals Joshua Gilliland and Chawalit Wongkhiao all of Jacksonville Florida with operating a')\",\n",
       "  \" ('fraudulent foreign currency (forex) commodity pool in violation of the Commodity Exchange Act (CEA) and CFTC', 'fraudulent foreign currency forex commodity pool in violation of the Commodity Exchange Act CEA and CFTC')\",\n",
       "  \" ('Regulations. In addition, none of the Defendants has ever been registered with the CFTC, as required.', 'Regulations In addition none of the Defendants has ever been registered with the CFTC as required ')\",\n",
       "  \" ('On January 7, 2015, the day after the CFTC Complaint was filed under seal, U.S. District Judge Marcia Morales Howard', 'On January the day after the CFTC Complaint was filed under seal U S District Judge Marcia Morales Howard')\",\n",
       "  \" ('issued an emergency Order freezing and preserving assets under the Defendants’ control and prohibiting them from', 'issued an emergency Order freezing and preserving assets under the Defendants control and prohibiting them from')\",\n",
       "  \" ('destroying documents or denying CFTC staff access to their books and records. The Court has scheduled a hearing for', 'destroying documents or denying CFTC staff access to their books and records The Court has scheduled a hearing for')\",\n",
       "  \" ('January 21, 2015, on the CFTC’s motion for a preliminary injunction.', 'January on the CFTC s motion for a preliminary injunction ')\",\n",
       "  \" ('The CFTC Complaint charges that, as early as January 2012, the Defendants fraudulently solicited more than $1 million', 'The CFTC Complaint charges that as early as January the Defendants fraudulently solicited more than million')\",\n",
       "  \" ('from members of the public to trade forex in a commodity pool. As alleged, Defendants Gilliland and Wongkhiao', 'from members of the public to trade forex in a commodity pool As alleged Defendants Gilliland and Wongkhiao')\",\n",
       "  \" ('misappropriated funds to pay their personal expenses. For example, instead of trading forex as promised, they allegedly', 'misappropriated funds to pay their personal expenses For example instead of trading forex as promised they allegedly')\",\n",
       "  \" ('withdrew approximately $850,000 in pool participant funds from the Allied Markets forex account, spending more than', 'withdrew approximately in pool participant funds from the Allied Markets forex account spending more than')\",\n",
       "  \" ('$64,000 of the stolen funds on restaurants and entertainment; approximately $33,000 on travel, hotels and rental cars;', ' of the stolen funds on restaurants and entertainment approximately on travel hotels and rental cars ')\",\n",
       "  \" ('and approximately $66,000 on rent for their residence in Jacksonville Beach, Florida. They also transferred at least', 'and approximately on rent for their residence in Jacksonville Beach Florida They also transferred at least')\",\n",
       "  \" ('$83,200 to their personal bank accounts and withdrew approximately $139,000 in cash from automated teller machines', ' to their personal bank accounts and withdrew approximately in cash from automated teller machines')\",\n",
       "  \" ('and at bank branches, the Complaint charges.', 'and at bank branches the Complaint charges ')\",\n",
       "  \" ('Defendants also used pool participant funds to pay purported trading profits and supposedly returned pool participants’', 'Defendants also used pool participant funds to pay purported trading profits and supposedly returned pool participants ')\",\n",
       "  \" ('principal in the manner of a Ponzi scheme, according to the Complaint.', 'principal in the manner of a Ponzi scheme according to the Complaint ')\",\n",
       "  \" ('Specifically, according to the Complaint, the Defendants solicited members of the public to send them money for forex', 'Specifically according to the Complaint the Defendants solicited members of the public to send them money for forex')\",\n",
       "  \" ('trading by fraudulently guaranteeing specific trading returns and by making material misrepresentations regarding their', 'trading by fraudulently guaranteeing specific trading returns and by making material misrepresentations regarding their')\",\n",
       "  \" ('trading expertise and results, including that Defendants’ forex trading was generating large profits.', 'trading expertise and results including that Defendants forex trading was generating large profits ')\",\n",
       "  \" ('In its continuing litigation, the CFTC seeks full restitution to defrauded pool participants, disgorgement of any ill-gotten', 'In its continuing litigation the CFTC seeks full restitution to defrauded pool participants disgorgement of any ill gotten')\",\n",
       "  \" ('gains, a civil monetary penalty, permanent registration and trading bans, and a permanent injunction against future', 'gains a civil monetary penalty permanent registration and trading bans and a permanent injunction against future')\",\n",
       "  \" ('violations of the CEA and CFTC Regulations, as charged.', 'violations of the CEA and CFTC Regulations as charged ')\",\n",
       "  \" ('The CFTC appreciates the assistance of the Jacksonville Beach Police Department, the Jacksonville Sheriff’s Office, the', 'The CFTC appreciates the assistance of the Jacksonville Beach Police Department the Jacksonville Sheriff s Office the')\",\n",
       "  \" ('Florida Office of Financial Regulation, the United States Marshals Service, and the National Futures Association.', 'Florida Office of Financial Regulation the United States Marshals Service and the National Futures Association ')\",\n",
       "  \" ('CFTC Division of Enforcement staff members responsible for this action are Jonah McCarthy, Patricia Gomersall, Dmitriy', 'CFTC Division of Enforcement staff members responsible for this action are Jonah McCarthy Patricia Gomersall Dmitriy')\",\n",
       "  \" ('Vilenskiy, Jonathan Robell, John Einstman, and Paul Hayeck.', 'Vilenskiy Jonathan Robell John Einstman and Paul Hayeck ')\",\n",
       "  \" ('(See Complaint and Asset Freeze Order under Related Links.)', ' See Complaint and Asset Freeze Order under Related Links ')\",\n",
       "  \" ('CFTC’s Foreign Currency (Forex) Fraud and Commodity Pool Fraud Advisories', 'CFTC s Foreign Currency Forex Fraud and Commodity Pool Fraud Advisories')\",\n",
       "  \" ('The CFTC has issued several customer protection Fraud Advisories that provide the warning signs of fraud, including the', 'The CFTC has issued several customer protection Fraud Advisories that provide the warning signs of fraud including the')\",\n",
       "  \" ('Foreign Currency Trading (Forex) Fraud Advisory, which states that the CFTC has witnessed a sharp rise in Forex trading', 'Foreign Currency Trading Forex Fraud Advisory which states that the CFTC has witnessed a sharp rise in Forex trading')\",\n",
       "  \" ('scams in recent years and helps customers identify this potential fraud.', 'scams in recent years and helps customers identify this potential fraud ')\",\n",
       "  \" ('The CFTC has also issued a Commodity Pool Fraud Advisory, which warns customers about a type of fraud that involves', 'The CFTC has also issued a Commodity Pool Fraud Advisory which warns customers about a type of fraud that involves')\",\n",
       "  \" ('individuals and firms, often unregistered, offering investments in commodity pools.', 'individuals and firms often unregistered offering investments in commodity pools ')\",\n",
       "  \" ('Customers can report suspicious activities or information, such as possible violations of commodity trading laws, to the', 'Customers can report suspicious activities or information such as possible violations of commodity trading laws to the')\",\n",
       "  \" ('CFTC Division of Enforcement via a Toll-Free Hotline 866-FON-CFTC (866-366-2382) or file a tip or complaint online. ', 'CFTC Division of Enforcement via a Toll Free Hotline FON CFTC or file a tip or complaint online ')\",\n",
       "  \" ('\\\\u200b \\\\u200b \\\\u200b \\\\u200b \\\\u200b', ' ')\"],\n",
       " [\" ('Media Contact', 'Media Contact')\",\n",
       "  \" ('\\\\u200b \\\\u200b \\\\u200b Dennis Holden', ' Dennis Holden')\"],\n",
       " [\" ('Release Number 7100-15', 'Release Number ')\",\n",
       "  \" ('January 12, 2015', 'January ')\",\n",
       "  \" ('Federal Court in Florida Enters Order Freezing Assets in CFTC Foreign Currency Anti-', 'Federal Court in Florida Enters Order Freezing Assets in CFTC Foreign Currency Anti ')\",\n",
       "  \" ('Fraud Action against Allied Markets LLC and its Principals Joshua Gilliland and Chawalit', 'Fraud Action against Allied Markets LLC and its Principals Joshua Gilliland and Chawalit')\",\n",
       "  \" ('Wongkhiao', 'Wongkhiao')\",\n",
       "  \" ('CFTC Charges Jacksonville, Florida, Defendants with Operating a', 'CFTC Charges Jacksonville Florida Defendants with Operating a')\",\n",
       "  \" ('Fraudulent Forex Pool and Misappropriating Customer Funds to Pay', 'Fraudulent Forex Pool and Misappropriating Customer Funds to Pay')\",\n",
       "  \" ('Personal Expenses', 'Personal Expenses')\",\n",
       "  \" ('Washington, DC — The U.S. Commodity Futures Trading Commission (CFTC) today announced that it filed a civil', 'Washington DC The U S Commodity Futures Trading Commission CFTC today announced that it filed a civil')\",\n",
       "  \" ('enforcement Complaint in the U.S. District Court for the Middle District of Florida, charging Defendants Allied Markets', 'enforcement Complaint in the U S District Court for the Middle District of Florida charging Defendants Allied Markets')\",\n",
       "  \" ('LLC, and its principals Joshua Gilliland and Chawalit Wongkhiao, all of Jacksonville, Florida, with operating a', 'LLC and its principals Joshua Gilliland and Chawalit Wongkhiao all of Jacksonville Florida with operating a')\",\n",
       "  \" ('fraudulent foreign currency (forex) commodity pool in violation of the Commodity Exchange Act (CEA) and CFTC', 'fraudulent foreign currency forex commodity pool in violation of the Commodity Exchange Act CEA and CFTC')\",\n",
       "  \" ('Regulations. In addition, none of the Defendants has ever been registered with the CFTC, as required.', 'Regulations In addition none of the Defendants has ever been registered with the CFTC as required ')\",\n",
       "  \" ('On January 7, 2015, the day after the CFTC Complaint was filed under seal, U.S. District Judge Marcia Morales Howard', 'On January the day after the CFTC Complaint was filed under seal U S District Judge Marcia Morales Howard')\",\n",
       "  \" ('issued an emergency Order freezing and preserving assets under the Defendants’ control and prohibiting them from', 'issued an emergency Order freezing and preserving assets under the Defendants control and prohibiting them from')\",\n",
       "  \" ('destroying documents or denying CFTC staff access to their books and records. The Court has scheduled a hearing for', 'destroying documents or denying CFTC staff access to their books and records The Court has scheduled a hearing for')\",\n",
       "  \" ('January 21, 2015, on the CFTC’s motion for a preliminary injunction.', 'January on the CFTC s motion for a preliminary injunction ')\",\n",
       "  \" ('The CFTC Complaint charges that, as early as January 2012, the Defendants fraudulently solicited more than $1 million', 'The CFTC Complaint charges that as early as January the Defendants fraudulently solicited more than million')\",\n",
       "  \" ('from members of the public to trade forex in a commodity pool. As alleged, Defendants Gilliland and Wongkhiao', 'from members of the public to trade forex in a commodity pool As alleged Defendants Gilliland and Wongkhiao')\",\n",
       "  \" ('misappropriated funds to pay their personal expenses. For example, instead of trading forex as promised, they allegedly', 'misappropriated funds to pay their personal expenses For example instead of trading forex as promised they allegedly')\",\n",
       "  \" ('withdrew approximately $850,000 in pool participant funds from the Allied Markets forex account, spending more than', 'withdrew approximately in pool participant funds from the Allied Markets forex account spending more than')\",\n",
       "  \" ('$64,000 of the stolen funds on restaurants and entertainment; approximately $33,000 on travel, hotels and rental cars;', ' of the stolen funds on restaurants and entertainment approximately on travel hotels and rental cars ')\",\n",
       "  \" ('and approximately $66,000 on rent for their residence in Jacksonville Beach, Florida. They also transferred at least', 'and approximately on rent for their residence in Jacksonville Beach Florida They also transferred at least')\",\n",
       "  \" ('$83,200 to their personal bank accounts and withdrew approximately $139,000 in cash from automated teller machines', ' to their personal bank accounts and withdrew approximately in cash from automated teller machines')\",\n",
       "  \" ('and at bank branches, the Complaint charges.', 'and at bank branches the Complaint charges ')\",\n",
       "  \" ('Defendants also used pool participant funds to pay purported trading profits and supposedly returned pool participants’', 'Defendants also used pool participant funds to pay purported trading profits and supposedly returned pool participants ')\",\n",
       "  \" ('principal in the manner of a Ponzi scheme, according to the Complaint.', 'principal in the manner of a Ponzi scheme according to the Complaint ')\",\n",
       "  \" ('Specifically, according to the Complaint, the Defendants solicited members of the public to send them money for forex', 'Specifically according to the Complaint the Defendants solicited members of the public to send them money for forex')\",\n",
       "  \" ('trading by fraudulently guaranteeing specific trading returns and by making material misrepresentations regarding their', 'trading by fraudulently guaranteeing specific trading returns and by making material misrepresentations regarding their')\",\n",
       "  \" ('trading expertise and results, including that Defendants’ forex trading was generating large profits.', 'trading expertise and results including that Defendants forex trading was generating large profits ')\",\n",
       "  \" ('In its continuing litigation, the CFTC seeks full restitution to defrauded pool participants, disgorgement of any ill-gotten', 'In its continuing litigation the CFTC seeks full restitution to defrauded pool participants disgorgement of any ill gotten')\",\n",
       "  \" ('gains, a civil monetary penalty, permanent registration and trading bans, and a permanent injunction against future', 'gains a civil monetary penalty permanent registration and trading bans and a permanent injunction against future')\",\n",
       "  \" ('violations of the CEA and CFTC Regulations, as charged.', 'violations of the CEA and CFTC Regulations as charged ')\",\n",
       "  \" ('The CFTC appreciates the assistance of the Jacksonville Beach Police Department, the Jacksonville Sheriff’s Office, the', 'The CFTC appreciates the assistance of the Jacksonville Beach Police Department the Jacksonville Sheriff s Office the')\",\n",
       "  \" ('Florida Office of Financial Regulation, the United States Marshals Service, and the National Futures Association.', 'Florida Office of Financial Regulation the United States Marshals Service and the National Futures Association ')\",\n",
       "  \" ('CFTC Division of Enforcement staff members responsible for this action are Jonah McCarthy, Patricia Gomersall, Dmitriy', 'CFTC Division of Enforcement staff members responsible for this action are Jonah McCarthy Patricia Gomersall Dmitriy')\",\n",
       "  \" ('Vilenskiy, Jonathan Robell, John Einstman, and Paul Hayeck.', 'Vilenskiy Jonathan Robell John Einstman and Paul Hayeck ')\",\n",
       "  \" ('(See Complaint and Asset Freeze Order under Related Links.)', ' See Complaint and Asset Freeze Order under Related Links ')\",\n",
       "  \" ('CFTC’s Foreign Currency (Forex) Fraud and Commodity Pool Fraud Advisories', 'CFTC s Foreign Currency Forex Fraud and Commodity Pool Fraud Advisories')\",\n",
       "  \" ('The CFTC has issued several customer protection Fraud Advisories that provide the warning signs of fraud, including the', 'The CFTC has issued several customer protection Fraud Advisories that provide the warning signs of fraud including the')\",\n",
       "  \" ('Foreign Currency Trading (Forex) Fraud Advisory, which states that the CFTC has witnessed a sharp rise in Forex trading', 'Foreign Currency Trading Forex Fraud Advisory which states that the CFTC has witnessed a sharp rise in Forex trading')\",\n",
       "  \" ('scams in recent years and helps customers identify this potential fraud.', 'scams in recent years and helps customers identify this potential fraud ')\",\n",
       "  \" ('The CFTC has also issued a Commodity Pool Fraud Advisory, which warns customers about a type of fraud that involves', 'The CFTC has also issued a Commodity Pool Fraud Advisory which warns customers about a type of fraud that involves')\",\n",
       "  \" ('individuals and firms, often unregistered, offering investments in commodity pools.', 'individuals and firms often unregistered offering investments in commodity pools ')\",\n",
       "  \" ('Customers can report suspicious activities or information, such as possible violations of commodity trading laws, to the', 'Customers can report suspicious activities or information such as possible violations of commodity trading laws to the')\",\n",
       "  \" ('CFTC Division of Enforcement via a Toll-Free Hotline 866-FON-CFTC (866-366-2382) or file a tip or complaint online. ', 'CFTC Division of Enforcement via a Toll Free Hotline FON CFTC or file a tip or complaint online ')\",\n",
       "  \" ('\\\\u200b \\\\u200b \\\\u200b \\\\u200b \\\\u200b', ' ')\"],\n",
       " [\" ('Media Contact', 'Media Contact')\",\n",
       "  \" ('\\\\u200b \\\\u200b \\\\u200b Dennis Holden', ' Dennis Holden')\"],\n",
       " [\" ('Release Number 7100-15', 'Release Number ')\",\n",
       "  \" ('January 12, 2015', 'January ')\",\n",
       "  \" ('Federal Court in Florida Enters Order Freezing Assets in CFTC Foreign Currency Anti-', 'Federal Court in Florida Enters Order Freezing Assets in CFTC Foreign Currency Anti ')\",\n",
       "  \" ('Fraud Action against Allied Markets LLC and its Principals Joshua Gilliland and Chawalit', 'Fraud Action against Allied Markets LLC and its Principals Joshua Gilliland and Chawalit')\",\n",
       "  \" ('Wongkhiao', 'Wongkhiao')\",\n",
       "  \" ('CFTC Charges Jacksonville, Florida, Defendants with Operating a', 'CFTC Charges Jacksonville Florida Defendants with Operating a')\",\n",
       "  \" ('Fraudulent Forex Pool and Misappropriating Customer Funds to Pay', 'Fraudulent Forex Pool and Misappropriating Customer Funds to Pay')\",\n",
       "  \" ('Personal Expenses', 'Personal Expenses')\",\n",
       "  \" ('Washington, DC — The U.S. Commodity Futures Trading Commission (CFTC) today announced that it filed a civil', 'Washington DC The U S Commodity Futures Trading Commission CFTC today announced that it filed a civil')\",\n",
       "  \" ('enforcement Complaint in the U.S. District Court for the Middle District of Florida, charging Defendants Allied Markets', 'enforcement Complaint in the U S District Court for the Middle District of Florida charging Defendants Allied Markets')\",\n",
       "  \" ('LLC, and its principals Joshua Gilliland and Chawalit Wongkhiao, all of Jacksonville, Florida, with operating a', 'LLC and its principals Joshua Gilliland and Chawalit Wongkhiao all of Jacksonville Florida with operating a')\",\n",
       "  \" ('fraudulent foreign currency (forex) commodity pool in violation of the Commodity Exchange Act (CEA) and CFTC', 'fraudulent foreign currency forex commodity pool in violation of the Commodity Exchange Act CEA and CFTC')\",\n",
       "  \" ('Regulations. In addition, none of the Defendants has ever been registered with the CFTC, as required.', 'Regulations In addition none of the Defendants has ever been registered with the CFTC as required ')\",\n",
       "  \" ('On January 7, 2015, the day after the CFTC Complaint was filed under seal, U.S. District Judge Marcia Morales Howard', 'On January the day after the CFTC Complaint was filed under seal U S District Judge Marcia Morales Howard')\",\n",
       "  \" ('issued an emergency Order freezing and preserving assets under the Defendants’ control and prohibiting them from', 'issued an emergency Order freezing and preserving assets under the Defendants control and prohibiting them from')\",\n",
       "  \" ('destroying documents or denying CFTC staff access to their books and records. The Court has scheduled a hearing for', 'destroying documents or denying CFTC staff access to their books and records The Court has scheduled a hearing for')\",\n",
       "  \" ('January 21, 2015, on the CFTC’s motion for a preliminary injunction.', 'January on the CFTC s motion for a preliminary injunction ')\",\n",
       "  \" ('The CFTC Complaint charges that, as early as January 2012, the Defendants fraudulently solicited more than $1 million', 'The CFTC Complaint charges that as early as January the Defendants fraudulently solicited more than million')\",\n",
       "  \" ('from members of the public to trade forex in a commodity pool. As alleged, Defendants Gilliland and Wongkhiao', 'from members of the public to trade forex in a commodity pool As alleged Defendants Gilliland and Wongkhiao')\",\n",
       "  \" ('misappropriated funds to pay their personal expenses. For example, instead of trading forex as promised, they allegedly', 'misappropriated funds to pay their personal expenses For example instead of trading forex as promised they allegedly')\",\n",
       "  \" ('withdrew approximately $850,000 in pool participant funds from the Allied Markets forex account, spending more than', 'withdrew approximately in pool participant funds from the Allied Markets forex account spending more than')\",\n",
       "  \" ('$64,000 of the stolen funds on restaurants and entertainment; approximately $33,000 on travel, hotels and rental cars;', ' of the stolen funds on restaurants and entertainment approximately on travel hotels and rental cars ')\",\n",
       "  \" ('and approximately $66,000 on rent for their residence in Jacksonville Beach, Florida. They also transferred at least', 'and approximately on rent for their residence in Jacksonville Beach Florida They also transferred at least')\",\n",
       "  \" ('$83,200 to their personal bank accounts and withdrew approximately $139,000 in cash from automated teller machines', ' to their personal bank accounts and withdrew approximately in cash from automated teller machines')\",\n",
       "  \" ('and at bank branches, the Complaint charges.', 'and at bank branches the Complaint charges ')\",\n",
       "  \" ('Defendants also used pool participant funds to pay purported trading profits and supposedly returned pool participants’', 'Defendants also used pool participant funds to pay purported trading profits and supposedly returned pool participants ')\",\n",
       "  \" ('principal in the manner of a Ponzi scheme, according to the Complaint.', 'principal in the manner of a Ponzi scheme according to the Complaint ')\",\n",
       "  \" ('Specifically, according to the Complaint, the Defendants solicited members of the public to send them money for forex', 'Specifically according to the Complaint the Defendants solicited members of the public to send them money for forex')\",\n",
       "  \" ('trading by fraudulently guaranteeing specific trading returns and by making material misrepresentations regarding their', 'trading by fraudulently guaranteeing specific trading returns and by making material misrepresentations regarding their')\",\n",
       "  \" ('trading expertise and results, including that Defendants’ forex trading was generating large profits.', 'trading expertise and results including that Defendants forex trading was generating large profits ')\",\n",
       "  \" ('In its continuing litigation, the CFTC seeks full restitution to defrauded pool participants, disgorgement of any ill-gotten', 'In its continuing litigation the CFTC seeks full restitution to defrauded pool participants disgorgement of any ill gotten')\",\n",
       "  \" ('gains, a civil monetary penalty, permanent registration and trading bans, and a permanent injunction against future', 'gains a civil monetary penalty permanent registration and trading bans and a permanent injunction against future')\",\n",
       "  \" ('violations of the CEA and CFTC Regulations, as charged.', 'violations of the CEA and CFTC Regulations as charged ')\",\n",
       "  \" ('The CFTC appreciates the assistance of the Jacksonville Beach Police Department, the Jacksonville Sheriff’s Office, the', 'The CFTC appreciates the assistance of the Jacksonville Beach Police Department the Jacksonville Sheriff s Office the')\",\n",
       "  \" ('Florida Office of Financial Regulation, the United States Marshals Service, and the National Futures Association.', 'Florida Office of Financial Regulation the United States Marshals Service and the National Futures Association ')\",\n",
       "  \" ('CFTC Division of Enforcement staff members responsible for this action are Jonah McCarthy, Patricia Gomersall, Dmitriy', 'CFTC Division of Enforcement staff members responsible for this action are Jonah McCarthy Patricia Gomersall Dmitriy')\",\n",
       "  \" ('Vilenskiy, Jonathan Robell, John Einstman, and Paul Hayeck.', 'Vilenskiy Jonathan Robell John Einstman and Paul Hayeck ')\",\n",
       "  \" ('(See Complaint and Asset Freeze Order under Related Links.)', ' See Complaint and Asset Freeze Order under Related Links ')\",\n",
       "  \" ('CFTC’s Foreign Currency (Forex) Fraud and Commodity Pool Fraud Advisories', 'CFTC s Foreign Currency Forex Fraud and Commodity Pool Fraud Advisories')\",\n",
       "  \" ('The CFTC has issued several customer protection Fraud Advisories that provide the warning signs of fraud, including the', 'The CFTC has issued several customer protection Fraud Advisories that provide the warning signs of fraud including the')\",\n",
       "  \" ('Foreign Currency Trading (Forex) Fraud Advisory, which states that the CFTC has witnessed a sharp rise in Forex trading', 'Foreign Currency Trading Forex Fraud Advisory which states that the CFTC has witnessed a sharp rise in Forex trading')\",\n",
       "  \" ('scams in recent years and helps customers identify this potential fraud.', 'scams in recent years and helps customers identify this potential fraud ')\",\n",
       "  \" ('The CFTC has also issued a Commodity Pool Fraud Advisory, which warns customers about a type of fraud that involves', 'The CFTC has also issued a Commodity Pool Fraud Advisory which warns customers about a type of fraud that involves')\",\n",
       "  \" ('individuals and firms, often unregistered, offering investments in commodity pools.', 'individuals and firms often unregistered offering investments in commodity pools ')\",\n",
       "  \" ('Customers can report suspicious activities or information, such as possible violations of commodity trading laws, to the', 'Customers can report suspicious activities or information such as possible violations of commodity trading laws to the')\",\n",
       "  \" ('CFTC Division of Enforcement via a Toll-Free Hotline 866-FON-CFTC (866-366-2382) or file a tip or complaint online. ', 'CFTC Division of Enforcement via a Toll Free Hotline FON CFTC or file a tip or complaint online ')\",\n",
       "  \" ('\\\\u200b \\\\u200b \\\\u200b \\\\u200b \\\\u200b', ' ')\"],\n",
       " [\" ('Media Contact', 'Media Contact')\",\n",
       "  \" ('\\\\u200b \\\\u200b \\\\u200b Dennis Holden', ' Dennis Holden')\"],\n",
       " [\" ('Release Number 7100-15', 'Release Number ')\",\n",
       "  \" ('January 12, 2015', 'January ')\",\n",
       "  \" ('Federal Court in Florida Enters Order Freezing Assets in CFTC Foreign Currency Anti-', 'Federal Court in Florida Enters Order Freezing Assets in CFTC Foreign Currency Anti ')\",\n",
       "  \" ('Fraud Action against Allied Markets LLC and its Principals Joshua Gilliland and Chawalit', 'Fraud Action against Allied Markets LLC and its Principals Joshua Gilliland and Chawalit')\",\n",
       "  \" ('Wongkhiao', 'Wongkhiao')\",\n",
       "  \" ('CFTC Charges Jacksonville, Florida, Defendants with Operating a', 'CFTC Charges Jacksonville Florida Defendants with Operating a')\",\n",
       "  \" ('Fraudulent Forex Pool and Misappropriating Customer Funds to Pay', 'Fraudulent Forex Pool and Misappropriating Customer Funds to Pay')\",\n",
       "  \" ('Personal Expenses', 'Personal Expenses')\",\n",
       "  \" ('Washington, DC — The U.S. Commodity Futures Trading Commission (CFTC) today announced that it filed a civil', 'Washington DC The U S Commodity Futures Trading Commission CFTC today announced that it filed a civil')\",\n",
       "  \" ('enforcement Complaint in the U.S. District Court for the Middle District of Florida, charging Defendants Allied Markets', 'enforcement Complaint in the U S District Court for the Middle District of Florida charging Defendants Allied Markets')\",\n",
       "  \" ('LLC, and its principals Joshua Gilliland and Chawalit Wongkhiao, all of Jacksonville, Florida, with operating a', 'LLC and its principals Joshua Gilliland and Chawalit Wongkhiao all of Jacksonville Florida with operating a')\",\n",
       "  \" ('fraudulent foreign currency (forex) commodity pool in violation of the Commodity Exchange Act (CEA) and CFTC', 'fraudulent foreign currency forex commodity pool in violation of the Commodity Exchange Act CEA and CFTC')\",\n",
       "  \" ('Regulations. In addition, none of the Defendants has ever been registered with the CFTC, as required.', 'Regulations In addition none of the Defendants has ever been registered with the CFTC as required ')\",\n",
       "  \" ('On January 7, 2015, the day after the CFTC Complaint was filed under seal, U.S. District Judge Marcia Morales Howard', 'On January the day after the CFTC Complaint was filed under seal U S District Judge Marcia Morales Howard')\",\n",
       "  \" ('issued an emergency Order freezing and preserving assets under the Defendants’ control and prohibiting them from', 'issued an emergency Order freezing and preserving assets under the Defendants control and prohibiting them from')\",\n",
       "  \" ('destroying documents or denying CFTC staff access to their books and records. The Court has scheduled a hearing for', 'destroying documents or denying CFTC staff access to their books and records The Court has scheduled a hearing for')\",\n",
       "  \" ('January 21, 2015, on the CFTC’s motion for a preliminary injunction.', 'January on the CFTC s motion for a preliminary injunction ')\",\n",
       "  \" ('The CFTC Complaint charges that, as early as January 2012, the Defendants fraudulently solicited more than $1 million', 'The CFTC Complaint charges that as early as January the Defendants fraudulently solicited more than million')\",\n",
       "  \" ('from members of the public to trade forex in a commodity pool. As alleged, Defendants Gilliland and Wongkhiao', 'from members of the public to trade forex in a commodity pool As alleged Defendants Gilliland and Wongkhiao')\",\n",
       "  \" ('misappropriated funds to pay their personal expenses. For example, instead of trading forex as promised, they allegedly', 'misappropriated funds to pay their personal expenses For example instead of trading forex as promised they allegedly')\",\n",
       "  \" ('withdrew approximately $850,000 in pool participant funds from the Allied Markets forex account, spending more than', 'withdrew approximately in pool participant funds from the Allied Markets forex account spending more than')\",\n",
       "  \" ('$64,000 of the stolen funds on restaurants and entertainment; approximately $33,000 on travel, hotels and rental cars;', ' of the stolen funds on restaurants and entertainment approximately on travel hotels and rental cars ')\",\n",
       "  \" ('and approximately $66,000 on rent for their residence in Jacksonville Beach, Florida. They also transferred at least', 'and approximately on rent for their residence in Jacksonville Beach Florida They also transferred at least')\",\n",
       "  \" ('$83,200 to their personal bank accounts and withdrew approximately $139,000 in cash from automated teller machines', ' to their personal bank accounts and withdrew approximately in cash from automated teller machines')\",\n",
       "  \" ('and at bank branches, the Complaint charges.', 'and at bank branches the Complaint charges ')\",\n",
       "  \" ('Defendants also used pool participant funds to pay purported trading profits and supposedly returned pool participants’', 'Defendants also used pool participant funds to pay purported trading profits and supposedly returned pool participants ')\",\n",
       "  \" ('principal in the manner of a Ponzi scheme, according to the Complaint.', 'principal in the manner of a Ponzi scheme according to the Complaint ')\",\n",
       "  \" ('Specifically, according to the Complaint, the Defendants solicited members of the public to send them money for forex', 'Specifically according to the Complaint the Defendants solicited members of the public to send them money for forex')\",\n",
       "  \" ('trading by fraudulently guaranteeing specific trading returns and by making material misrepresentations regarding their', 'trading by fraudulently guaranteeing specific trading returns and by making material misrepresentations regarding their')\",\n",
       "  \" ('trading expertise and results, including that Defendants’ forex trading was generating large profits.', 'trading expertise and results including that Defendants forex trading was generating large profits ')\",\n",
       "  \" ('In its continuing litigation, the CFTC seeks full restitution to defrauded pool participants, disgorgement of any ill-gotten', 'In its continuing litigation the CFTC seeks full restitution to defrauded pool participants disgorgement of any ill gotten')\",\n",
       "  \" ('gains, a civil monetary penalty, permanent registration and trading bans, and a permanent injunction against future', 'gains a civil monetary penalty permanent registration and trading bans and a permanent injunction against future')\",\n",
       "  \" ('violations of the CEA and CFTC Regulations, as charged.', 'violations of the CEA and CFTC Regulations as charged ')\",\n",
       "  \" ('The CFTC appreciates the assistance of the Jacksonville Beach Police Department, the Jacksonville Sheriff’s Office, the', 'The CFTC appreciates the assistance of the Jacksonville Beach Police Department the Jacksonville Sheriff s Office the')\",\n",
       "  \" ('Florida Office of Financial Regulation, the United States Marshals Service, and the National Futures Association.', 'Florida Office of Financial Regulation the United States Marshals Service and the National Futures Association ')\",\n",
       "  \" ('CFTC Division of Enforcement staff members responsible for this action are Jonah McCarthy, Patricia Gomersall, Dmitriy', 'CFTC Division of Enforcement staff members responsible for this action are Jonah McCarthy Patricia Gomersall Dmitriy')\",\n",
       "  \" ('Vilenskiy, Jonathan Robell, John Einstman, and Paul Hayeck.', 'Vilenskiy Jonathan Robell John Einstman and Paul Hayeck ')\",\n",
       "  \" ('(See Complaint and Asset Freeze Order under Related Links.)', ' See Complaint and Asset Freeze Order under Related Links ')\",\n",
       "  \" ('CFTC’s Foreign Currency (Forex) Fraud and Commodity Pool Fraud Advisories', 'CFTC s Foreign Currency Forex Fraud and Commodity Pool Fraud Advisories')\",\n",
       "  \" ('The CFTC has issued several customer protection Fraud Advisories that provide the warning signs of fraud, including the', 'The CFTC has issued several customer protection Fraud Advisories that provide the warning signs of fraud including the')\",\n",
       "  \" ('Foreign Currency Trading (Forex) Fraud Advisory, which states that the CFTC has witnessed a sharp rise in Forex trading', 'Foreign Currency Trading Forex Fraud Advisory which states that the CFTC has witnessed a sharp rise in Forex trading')\",\n",
       "  \" ('scams in recent years and helps customers identify this potential fraud.', 'scams in recent years and helps customers identify this potential fraud ')\",\n",
       "  \" ('The CFTC has also issued a Commodity Pool Fraud Advisory, which warns customers about a type of fraud that involves', 'The CFTC has also issued a Commodity Pool Fraud Advisory which warns customers about a type of fraud that involves')\",\n",
       "  \" ('individuals and firms, often unregistered, offering investments in commodity pools.', 'individuals and firms often unregistered offering investments in commodity pools ')\",\n",
       "  \" ('Customers can report suspicious activities or information, such as possible violations of commodity trading laws, to the', 'Customers can report suspicious activities or information such as possible violations of commodity trading laws to the')\",\n",
       "  \" ('CFTC Division of Enforcement via a Toll-Free Hotline 866-FON-CFTC (866-366-2382) or file a tip or complaint online. ', 'CFTC Division of Enforcement via a Toll Free Hotline FON CFTC or file a tip or complaint online ')\",\n",
       "  \" ('\\\\u200b \\\\u200b \\\\u200b \\\\u200b \\\\u200b', ' ')\"],\n",
       " [\" ('Media Contact', 'Media Contact')\",\n",
       "  \" ('\\\\u200b \\\\u200b \\\\u200b Dennis Holden', ' Dennis Holden')\"],\n",
       " [\" ('Release Number 7100-15', 'Release Number ')\",\n",
       "  \" ('January 12, 2015', 'January ')\",\n",
       "  \" ('Federal Court in Florida Enters Order Freezing Assets in CFTC Foreign Currency Anti-', 'Federal Court in Florida Enters Order Freezing Assets in CFTC Foreign Currency Anti ')\",\n",
       "  \" ('Fraud Action against Allied Markets LLC and its Principals Joshua Gilliland and Chawalit', 'Fraud Action against Allied Markets LLC and its Principals Joshua Gilliland and Chawalit')\",\n",
       "  \" ('Wongkhiao', 'Wongkhiao')\",\n",
       "  \" ('CFTC Charges Jacksonville, Florida, Defendants with Operating a', 'CFTC Charges Jacksonville Florida Defendants with Operating a')\",\n",
       "  \" ('Fraudulent Forex Pool and Misappropriating Customer Funds to Pay', 'Fraudulent Forex Pool and Misappropriating Customer Funds to Pay')\",\n",
       "  \" ('Personal Expenses', 'Personal Expenses')\",\n",
       "  \" ('Washington, DC — The U.S. Commodity Futures Trading Commission (CFTC) today announced that it filed a civil', 'Washington DC The U S Commodity Futures Trading Commission CFTC today announced that it filed a civil')\",\n",
       "  \" ('enforcement Complaint in the U.S. District Court for the Middle District of Florida, charging Defendants Allied Markets', 'enforcement Complaint in the U S District Court for the Middle District of Florida charging Defendants Allied Markets')\",\n",
       "  \" ('LLC, and its principals Joshua Gilliland and Chawalit Wongkhiao, all of Jacksonville, Florida, with operating a', 'LLC and its principals Joshua Gilliland and Chawalit Wongkhiao all of Jacksonville Florida with operating a')\",\n",
       "  \" ('fraudulent foreign currency (forex) commodity pool in violation of the Commodity Exchange Act (CEA) and CFTC', 'fraudulent foreign currency forex commodity pool in violation of the Commodity Exchange Act CEA and CFTC')\",\n",
       "  \" ('Regulations. In addition, none of the Defendants has ever been registered with the CFTC, as required.', 'Regulations In addition none of the Defendants has ever been registered with the CFTC as required ')\",\n",
       "  \" ('On January 7, 2015, the day after the CFTC Complaint was filed under seal, U.S. District Judge Marcia Morales Howard', 'On January the day after the CFTC Complaint was filed under seal U S District Judge Marcia Morales Howard')\",\n",
       "  \" ('issued an emergency Order freezing and preserving assets under the Defendants’ control and prohibiting them from', 'issued an emergency Order freezing and preserving assets under the Defendants control and prohibiting them from')\",\n",
       "  \" ('destroying documents or denying CFTC staff access to their books and records. The Court has scheduled a hearing for', 'destroying documents or denying CFTC staff access to their books and records The Court has scheduled a hearing for')\",\n",
       "  \" ('January 21, 2015, on the CFTC’s motion for a preliminary injunction.', 'January on the CFTC s motion for a preliminary injunction ')\",\n",
       "  \" ('The CFTC Complaint charges that, as early as January 2012, the Defendants fraudulently solicited more than $1 million', 'The CFTC Complaint charges that as early as January the Defendants fraudulently solicited more than million')\",\n",
       "  \" ('from members of the public to trade forex in a commodity pool. As alleged, Defendants Gilliland and Wongkhiao', 'from members of the public to trade forex in a commodity pool As alleged Defendants Gilliland and Wongkhiao')\",\n",
       "  \" ('misappropriated funds to pay their personal expenses. For example, instead of trading forex as promised, they allegedly', 'misappropriated funds to pay their personal expenses For example instead of trading forex as promised they allegedly')\",\n",
       "  \" ('withdrew approximately $850,000 in pool participant funds from the Allied Markets forex account, spending more than', 'withdrew approximately in pool participant funds from the Allied Markets forex account spending more than')\",\n",
       "  \" ('$64,000 of the stolen funds on restaurants and entertainment; approximately $33,000 on travel, hotels and rental cars;', ' of the stolen funds on restaurants and entertainment approximately on travel hotels and rental cars ')\",\n",
       "  \" ('and approximately $66,000 on rent for their residence in Jacksonville Beach, Florida. They also transferred at least', 'and approximately on rent for their residence in Jacksonville Beach Florida They also transferred at least')\",\n",
       "  \" ('$83,200 to their personal bank accounts and withdrew approximately $139,000 in cash from automated teller machines', ' to their personal bank accounts and withdrew approximately in cash from automated teller machines')\",\n",
       "  \" ('and at bank branches, the Complaint charges.', 'and at bank branches the Complaint charges ')\",\n",
       "  \" ('Defendants also used pool participant funds to pay purported trading profits and supposedly returned pool participants’', 'Defendants also used pool participant funds to pay purported trading profits and supposedly returned pool participants ')\",\n",
       "  \" ('principal in the manner of a Ponzi scheme, according to the Complaint.', 'principal in the manner of a Ponzi scheme according to the Complaint ')\",\n",
       "  \" ('Specifically, according to the Complaint, the Defendants solicited members of the public to send them money for forex', 'Specifically according to the Complaint the Defendants solicited members of the public to send them money for forex')\",\n",
       "  \" ('trading by fraudulently guaranteeing specific trading returns and by making material misrepresentations regarding their', 'trading by fraudulently guaranteeing specific trading returns and by making material misrepresentations regarding their')\",\n",
       "  \" ('trading expertise and results, including that Defendants’ forex trading was generating large profits.', 'trading expertise and results including that Defendants forex trading was generating large profits ')\",\n",
       "  \" ('In its continuing litigation, the CFTC seeks full restitution to defrauded pool participants, disgorgement of any ill-gotten', 'In its continuing litigation the CFTC seeks full restitution to defrauded pool participants disgorgement of any ill gotten')\",\n",
       "  \" ('gains, a civil monetary penalty, permanent registration and trading bans, and a permanent injunction against future', 'gains a civil monetary penalty permanent registration and trading bans and a permanent injunction against future')\",\n",
       "  \" ('violations of the CEA and CFTC Regulations, as charged.', 'violations of the CEA and CFTC Regulations as charged ')\",\n",
       "  \" ('The CFTC appreciates the assistance of the Jacksonville Beach Police Department, the Jacksonville Sheriff’s Office, the', 'The CFTC appreciates the assistance of the Jacksonville Beach Police Department the Jacksonville Sheriff s Office the')\",\n",
       "  \" ('Florida Office of Financial Regulation, the United States Marshals Service, and the National Futures Association.', 'Florida Office of Financial Regulation the United States Marshals Service and the National Futures Association ')\",\n",
       "  \" ('CFTC Division of Enforcement staff members responsible for this action are Jonah McCarthy, Patricia Gomersall, Dmitriy', 'CFTC Division of Enforcement staff members responsible for this action are Jonah McCarthy Patricia Gomersall Dmitriy')\",\n",
       "  \" ('Vilenskiy, Jonathan Robell, John Einstman, and Paul Hayeck.', 'Vilenskiy Jonathan Robell John Einstman and Paul Hayeck ')\",\n",
       "  \" ('(See Complaint and Asset Freeze Order under Related Links.)', ' See Complaint and Asset Freeze Order under Related Links ')\",\n",
       "  \" ('CFTC’s Foreign Currency (Forex) Fraud and Commodity Pool Fraud Advisories', 'CFTC s Foreign Currency Forex Fraud and Commodity Pool Fraud Advisories')\",\n",
       "  \" ('The CFTC has issued several customer protection Fraud Advisories that provide the warning signs of fraud, including the', 'The CFTC has issued several customer protection Fraud Advisories that provide the warning signs of fraud including the')\",\n",
       "  \" ('Foreign Currency Trading (Forex) Fraud Advisory, which states that the CFTC has witnessed a sharp rise in Forex trading', 'Foreign Currency Trading Forex Fraud Advisory which states that the CFTC has witnessed a sharp rise in Forex trading')\",\n",
       "  \" ('scams in recent years and helps customers identify this potential fraud.', 'scams in recent years and helps customers identify this potential fraud ')\",\n",
       "  \" ('The CFTC has also issued a Commodity Pool Fraud Advisory, which warns customers about a type of fraud that involves', 'The CFTC has also issued a Commodity Pool Fraud Advisory which warns customers about a type of fraud that involves')\",\n",
       "  \" ('individuals and firms, often unregistered, offering investments in commodity pools.', 'individuals and firms often unregistered offering investments in commodity pools ')\",\n",
       "  \" ('Customers can report suspicious activities or information, such as possible violations of commodity trading laws, to the', 'Customers can report suspicious activities or information such as possible violations of commodity trading laws to the')\",\n",
       "  \" ('CFTC Division of Enforcement via a Toll-Free Hotline 866-FON-CFTC (866-366-2382) or file a tip or complaint online. ', 'CFTC Division of Enforcement via a Toll Free Hotline FON CFTC or file a tip or complaint online ')\",\n",
       "  \" ('\\\\u200b \\\\u200b \\\\u200b \\\\u200b \\\\u200b', ' ')\"],\n",
       " [\" ('Media Contact', 'Media Contact')\",\n",
       "  \" ('\\\\u200b \\\\u200b \\\\u200b Dennis Holden', ' Dennis Holden')\"]]"
      ]
     },
     "execution_count": 166,
     "metadata": {},
     "output_type": "execute_result"
    }
   ],
   "source": [
    "clean_doc(file)\n"
   ]
  },
  {
   "cell_type": "code",
   "execution_count": 170,
   "metadata": {},
   "outputs": [],
   "source": [
    "def get_structured_document(file):\n",
    "    text_structured=[]\n",
    "    file_cleaned=clean_doc(file)\n",
    "    print(len(file_cleaned))\n",
    "    i=0\n",
    "    text_={}\n",
    "    continu=[]\n",
    "    sec_num=0\n",
    "    while sec_num < len(file_cleaned)-1:\n",
    "        if is_title(file_cleaned[sec_num][0]):\n",
    "                                          \n",
    "            continu.append(file_cleaned[sec_num]) \n",
    "            text_['hearder']=file_cleaned[sec_num][0]\n",
    "            sec_num+=1\n",
    "              \n",
    "            while not is_title(file_cleaned[sec_num][0]) and sec_num < (len(file_cleaned)-1) :\n",
    "                      continu.append(file_cleaned[sec_num])\n",
    "                      sec_num+=1\n",
    "            text_['content'] =continu\n",
    "            text_['id']=i\n",
    "            \n",
    "\n",
    "        else:\n",
    "            continu.append(file_cleaned[sec_num])\n",
    "\n",
    "    print(sec_num)\n",
    "    text_structured.append(text_)\n",
    "    \n",
    "                \n",
    "    return text_structured      "
   ]
  },
  {
   "cell_type": "code",
   "execution_count": 171,
   "metadata": {},
   "outputs": [
    {
     "name": "stdout",
     "output_type": "stream",
     "text": [
      "10\n"
     ]
    },
    {
     "ename": "MemoryError",
     "evalue": "",
     "output_type": "error",
     "traceback": [
      "\u001b[0;31m---------------------------------------------------------------------------\u001b[0m",
      "\u001b[0;31mMemoryError\u001b[0m                               Traceback (most recent call last)",
      "\u001b[0;32m<ipython-input-171-8f6b50e4397d>\u001b[0m in \u001b[0;36m<module>\u001b[0;34m()\u001b[0m\n\u001b[0;32m----> 1\u001b[0;31m \u001b[0msection\u001b[0m\u001b[0;34m=\u001b[0m\u001b[0mget_structured_document\u001b[0m\u001b[0;34m(\u001b[0m\u001b[0mfile\u001b[0m\u001b[0;34m)\u001b[0m\u001b[0;34m\u001b[0m\u001b[0;34m\u001b[0m\u001b[0m\n\u001b[0m\u001b[1;32m      2\u001b[0m \u001b[0mprint\u001b[0m\u001b[0;34m(\u001b[0m\u001b[0msection\u001b[0m\u001b[0;34m[\u001b[0m\u001b[0;36m0\u001b[0m\u001b[0;34m]\u001b[0m\u001b[0;34m)\u001b[0m\u001b[0;34m\u001b[0m\u001b[0;34m\u001b[0m\u001b[0m\n",
      "\u001b[0;32m<ipython-input-170-f9b13a3e27df>\u001b[0m in \u001b[0;36mget_structured_document\u001b[0;34m(file)\u001b[0m\n\u001b[1;32m     22\u001b[0m \u001b[0;34m\u001b[0m\u001b[0m\n\u001b[1;32m     23\u001b[0m         \u001b[0;32melse\u001b[0m\u001b[0;34m:\u001b[0m\u001b[0;34m\u001b[0m\u001b[0;34m\u001b[0m\u001b[0m\n\u001b[0;32m---> 24\u001b[0;31m             \u001b[0mcontinu\u001b[0m\u001b[0;34m.\u001b[0m\u001b[0mappend\u001b[0m\u001b[0;34m(\u001b[0m\u001b[0mfile_cleaned\u001b[0m\u001b[0;34m[\u001b[0m\u001b[0msec_num\u001b[0m\u001b[0;34m]\u001b[0m\u001b[0;34m)\u001b[0m\u001b[0;34m\u001b[0m\u001b[0;34m\u001b[0m\u001b[0m\n\u001b[0m\u001b[1;32m     25\u001b[0m \u001b[0;34m\u001b[0m\u001b[0m\n\u001b[1;32m     26\u001b[0m     \u001b[0mprint\u001b[0m\u001b[0;34m(\u001b[0m\u001b[0msec_num\u001b[0m\u001b[0;34m)\u001b[0m\u001b[0;34m\u001b[0m\u001b[0;34m\u001b[0m\u001b[0m\n",
      "\u001b[0;31mMemoryError\u001b[0m: "
     ]
    }
   ],
   "source": [
    "section=get_structured_document(file)\n",
    "print(section[0])"
   ]
  },
  {
   "cell_type": "code",
   "execution_count": null,
   "metadata": {},
   "outputs": [],
   "source": []
  },
  {
   "cell_type": "code",
   "execution_count": null,
   "metadata": {},
   "outputs": [],
   "source": []
  },
  {
   "cell_type": "code",
   "execution_count": null,
   "metadata": {},
   "outputs": [],
   "source": []
  },
  {
   "cell_type": "code",
   "execution_count": null,
   "metadata": {},
   "outputs": [],
   "source": [
    "def word_frequency(text):\n",
    "    word_frequencies = {}\n",
    "    for word in nltk.word_tokenize(text):\n",
    "        if word not in stopwords:\n",
    "            if word not in word_frequencies.keys():\n",
    "                word_frequencies[word] = 1\n",
    "            else:\n",
    "                word_frequencies[word] += 1\n",
    "    return word_frequencies"
   ]
  },
  {
   "cell_type": "code",
   "execution_count": null,
   "metadata": {},
   "outputs": [],
   "source": [
    "def sentence_score(sentence_list,word_frequencies):\n",
    "    sentence_scores = {}\n",
    "    for sent in sentence_list:\n",
    "        for word in nltk.word_tokenize(sent.lower()):\n",
    "            if word in word_frequencies.keys():\n",
    "                if len(sent.split(' ')) < 30:\n",
    "                    if sent not in sentence_scores.keys():\n",
    "                        sentence_scores[sent] = word_frequencies[word]\n",
    "                    else:\n",
    "                        sentence_scores[sent] += word_frequencies[word]\n",
    "    return sentence_scores\n"
   ]
  },
  {
   "cell_type": "code",
   "execution_count": null,
   "metadata": {},
   "outputs": [],
   "source": [
    "import heapq\n",
    "def summary(sentence_scores):\n",
    "    summary_sentences = heapq.nlargest(10, sentence_scores, key=sentence_scores.get)\n",
    "\n",
    "    return summary"
   ]
  },
  {
   "cell_type": "code",
   "execution_count": null,
   "metadata": {},
   "outputs": [],
   "source": [
    "text_path = \"./7100-15/cftc_text_7100-15_order-allied-markets-llc-et-al.txt\"\n",
    "with open(text_path) as f:\n",
    "    file = f.read()\n",
    "article_text, formatted_article_text=clean(file)\n",
    "\n",
    "sentence_list = nltk.sent_tokenize(article_text)\n",
    "word_frequencies=word_frequency(formatted_article_text)\n",
    "stopwords = nltk.corpus.stopwords.words('english')\n",
    "\n",
    "maximum_frequncy = max(word_frequencies.values())\n",
    "\n",
    "for word in word_frequencies.keys():\n",
    "    word_frequencies[word] = (word_frequencies[word]/maximum_frequncy)\n",
    "    \n",
    "sentence_scores = sentence_score(sentence_list, word_frequencies)\n",
    "    \n",
    "summary(sentence_scores)\n",
    "\n"
   ]
  },
  {
   "cell_type": "markdown",
   "metadata": {},
   "source": [
    "##  Training textsplit model using word vector"
   ]
  },
  {
   "cell_type": "code",
   "execution_count": null,
   "metadata": {},
   "outputs": [],
   "source": [
    "import textsplit"
   ]
  },
  {
   "cell_type": "code",
   "execution_count": null,
   "metadata": {},
   "outputs": [],
   "source": [
    "import os\n",
    "import word2vec\n",
    "import pandas as pd\n",
    "import numpy as np\n",
    "from sklearn.feature_extraction.text import CountVectorizer\n",
    "from textsplit.tools import SimpleSentenceTokenizer\n",
    "from textsplit.tools import get_penalty, get_segments\n",
    "from textsplit.algorithm import split_optimal, split_greedy, get_total\n",
    "%matplotlib inline\n"
   ]
  },
  {
   "cell_type": "code",
   "execution_count": null,
   "metadata": {
    "scrolled": true
   },
   "outputs": [],
   "source": [
    "corpus_path = './text8'  # be sure your corpus is cleaned from punctuation and lowercased\n",
    "if not os.path.exists(corpus_path):\n",
    "    !wget http://mattmahoney.net/dc/text8.zip\n",
    "    !unzip {corpus_path}"
   ]
  },
  {
   "cell_type": "code",
   "execution_count": null,
   "metadata": {},
   "outputs": [],
   "source": [
    "links = './7100-15/cftc_text_7100-15_order-allied-markets-llc-et-al.txt'"
   ]
  },
  {
   "cell_type": "code",
   "execution_count": null,
   "metadata": {},
   "outputs": [],
   "source": [
    "wrdvec_path = 'wrdvecs.bin'\n",
    "if not os.path.exists(wrdvec_path):\n",
    "    %time word2vec.word2vec(corpus_path, wrdvec_path, cbow=1, iter_=5, hs=1, threads=8, sample='1e-5', window=15, size=200, binary=1)"
   ]
  },
  {
   "cell_type": "code",
   "execution_count": null,
   "metadata": {},
   "outputs": [],
   "source": [
    "model = word2vec.load(wrdvec_path)\n",
    "wrdvecs = pd.DataFrame(model.vectors, index=model.vocab)\n",
    "del model\n",
    "print(wrdvecs.shape)"
   ]
  },
  {
   "cell_type": "code",
   "execution_count": null,
   "metadata": {},
   "outputs": [],
   "source": [
    "sentence_tokenizer = SimpleSentenceTokenizer()\n"
   ]
  },
  {
   "cell_type": "code",
   "execution_count": null,
   "metadata": {},
   "outputs": [],
   "source": [
    "link = links\n",
    "segment_len = 30  # segment target length in sentences\n",
    "book_path = os.path.basename(link)\n",
    "\n",
    "with open(book_path, 'rt') as f:\n",
    "    text = f.read()  #.replace('\\n', ' ')  # punkt tokenizer handles newlines not so nice\n",
    "\n",
    "sentenced_text = sentence_tokenizer(text)\n",
    "vecr = CountVectorizer(vocabulary=wrdvecs.index)\n",
    "\n",
    "sentence_vectors = vecr.transform(sentenced_text).dot(wrdvecs)\n",
    "\n",
    "penalty = get_penalty([sentence_vectors], segment_len)\n",
    "print('penalty %4.2f' % penalty)\n",
    "\n",
    "optimal_segmentation = split_optimal(sentence_vectors, penalty, seg_limit=250)\n",
    "segmented_text = get_segments(sentenced_text, optimal_segmentation)\n",
    "\n",
    "print('%d sentences, %d segments, avg %4.2f sentences per segment' % (\n",
    "    len(sentenced_text), len(segmented_text), len(sentenced_text) / len(segmented_text)))\n",
    "\n",
    "with open(book_path + '.seg', 'wt') as f:\n",
    "    for i, segment_sentences in enumerate(segmented_text):\n",
    "        segment_str = ' // '.join(segment_sentences)\n",
    "        gain = optimal_segmentation.gains[i] if i < len(segmented_text) - 1 else 0\n",
    "        segment_info = ' [%d sentences, %4.3f] ' % (len(segment_sentences), gain) \n",
    "        print(segment_str + '\\n8<' + '=' * 30 + segment_info + \"=\" * 30, file=f)\n",
    "\n",
    "greedy_segmentation = split_greedy(sentence_vectors, max_splits=len(optimal_segmentation.splits))\n",
    "greedy_segmented_text = get_segments(sentenced_text, greedy_segmentation)\n",
    "lengths_optimal = [len(segment) for segment in segmented_text for sentence in segment]\n",
    "lengths_greedy = [len(segment) for segment in greedy_segmented_text for sentence in segment]\n",
    "df = pd.DataFrame({'greedy':lengths_greedy, 'optimal': lengths_optimal})\n",
    "df.plot.line(figsize=(18, 3), title='Segment lenghts over text')\n",
    "df.plot.hist(bins=30, alpha=0.5, figsize=(10, 3), title='Histogram of segment lengths')\n",
    "\n",
    "totals = [get_total(sentence_vectors, seg.splits, penalty) \n",
    "          for seg in [optimal_segmentation, greedy_segmentation]]\n",
    "print('optimal score %4.2f, greedy score %4.2f' % tuple(totals))\n",
    "print('ratio of scores %5.4f' % (totals[0] / totals[1]))"
   ]
  },
  {
   "cell_type": "code",
   "execution_count": null,
   "metadata": {},
   "outputs": [],
   "source": []
  },
  {
   "cell_type": "markdown",
   "metadata": {},
   "source": [
    "## No case/docket"
   ]
  },
  {
   "cell_type": "code",
   "execution_count": null,
   "metadata": {
    "scrolled": true
   },
   "outputs": [],
   "source": [
    "clean_page = clean_doc(file)\n",
    "clean_page[1][2:4]"
   ]
  },
  {
   "cell_type": "code",
   "execution_count": null,
   "metadata": {},
   "outputs": [],
   "source": [
    "def get_case(first_page):\n",
    "    for line in first_page:\n",
    "        if len(line) < 40:\n",
    "            p = re.compile(\"NO[\\.:]\\s*.+\")\n",
    "            result = p.search(line.upper())\n",
    "            if result:\n",
    "                return result.group(0).strip()\n",
    "            \n",
    "    for line in first_page:   \n",
    "        if len(line) < 40:    \n",
    "            p = re.compile(\"\\d*-?CV-\\d+.*\")\n",
    "            result = p.search(line.upper())\n",
    "            if result:\n",
    "                return result.group(0).strip()"
   ]
  },
  {
   "cell_type": "code",
   "execution_count": null,
   "metadata": {},
   "outputs": [],
   "source": [
    "get_case(clean_page[1])"
   ]
  },
  {
   "cell_type": "code",
   "execution_count": null,
   "metadata": {},
   "outputs": [],
   "source": [
    "get_case([' CFTC Docket No. SD 20-01'])"
   ]
  },
  {
   "cell_type": "markdown",
   "metadata": {},
   "source": [
    "## Defendant"
   ]
  },
  {
   "cell_type": "code",
   "execution_count": null,
   "metadata": {
    "scrolled": true
   },
   "outputs": [],
   "source": [
    "!pip3 install spacy"
   ]
  },
  {
   "cell_type": "code",
   "execution_count": null,
   "metadata": {},
   "outputs": [],
   "source": [
    "!python3 -m spacy download en_core_web_sm\n"
   ]
  },
  {
   "cell_type": "code",
   "execution_count": null,
   "metadata": {},
   "outputs": [],
   "source": [
    "import spacy\n",
    "\n",
    "\n",
    "# Load English tokenizer, tagger, parser and NER\n",
    "nlp = spacy.load(\"en_core_web_sm\")\n",
    "\n",
    "# Process whole documents\n",
    "text = (\"\\n\".join(clean_page[0]))\n",
    "print(text)\n",
    "doc = nlp(text)\n",
    "\n",
    "# Analyze syntax\n",
    "#print(\"Noun phrases:\", [chunk.text for chunk in doc.noun_chunks])\n",
    "#print(\"Verbs:\", [token.lemma_ for token in doc if token.pos_ == \"VERB\"])\n",
    "\n",
    "# Find named entities, phrases and concepts\n",
    "for entity in doc.ents:\n",
    "    if entity.label_ == \"ORG\":\n",
    "        print(entity.text,\":       \", entity.label_)"
   ]
  },
  {
   "cell_type": "code",
   "execution_count": null,
   "metadata": {},
   "outputs": [],
   "source": [
    "print(\"\\n\".join(clean_page[0]))"
   ]
  },
  {
   "cell_type": "code",
   "execution_count": null,
   "metadata": {},
   "outputs": [],
   "source": [
    "#!pip install transformers\n",
    "#!pip3 install torch torchvision torchaudio\n",
    "#!python -c \"from transformers import pipeline; print(pipeline('sentiment-analysis')('we love you'))\""
   ]
  },
  {
   "cell_type": "code",
   "execution_count": null,
   "metadata": {},
   "outputs": [],
   "source": [
    "from transformers import pipeline, AutoModelForTokenClassification, AutoTokenizer\n",
    "\n",
    "# Question answering pipeline, specifying the checkpoint identifier\n",
    "nlp = pipeline('question-answering', model='distilbert-base-cased-distilled-squad', tokenizer='distilbert-base-cased')"
   ]
  },
  {
   "cell_type": "code",
   "execution_count": null,
   "metadata": {},
   "outputs": [],
   "source": [
    "first_page = [text for text in clean_page[0] if len(text) > 5]"
   ]
  },
  {
   "cell_type": "code",
   "execution_count": null,
   "metadata": {
    "scrolled": true
   },
   "outputs": [],
   "source": [
    "first_page"
   ]
  },
  {
   "cell_type": "code",
   "execution_count": null,
   "metadata": {},
   "outputs": [],
   "source": [
    "print(nlp(question=\"Who violeted?\", context=formatted_article_text))"
   ]
  },
  {
   "cell_type": "code",
   "execution_count": null,
   "metadata": {},
   "outputs": [],
   "source": [
    "print(nlp(question=\"Who is the defendant?\", context=formatted_article_text, topk=2))"
   ]
  },
  {
   "cell_type": "markdown",
   "metadata": {},
   "source": [
    "# STOP HERE"
   ]
  },
  {
   "cell_type": "code",
   "execution_count": null,
   "metadata": {},
   "outputs": [],
   "source": []
  },
  {
   "cell_type": "code",
   "execution_count": null,
   "metadata": {},
   "outputs": [],
   "source": []
  },
  {
   "cell_type": "code",
   "execution_count": null,
   "metadata": {},
   "outputs": [],
   "source": []
  },
  {
   "cell_type": "code",
   "execution_count": null,
   "metadata": {},
   "outputs": [],
   "source": []
  },
  {
   "cell_type": "code",
   "execution_count": null,
   "metadata": {},
   "outputs": [],
   "source": []
  },
  {
   "cell_type": "code",
   "execution_count": null,
   "metadata": {},
   "outputs": [],
   "source": []
  },
  {
   "cell_type": "code",
   "execution_count": null,
   "metadata": {},
   "outputs": [],
   "source": []
  },
  {
   "cell_type": "markdown",
   "metadata": {},
   "source": [
    "## Extracted authorities"
   ]
  },
  {
   "cell_type": "code",
   "execution_count": null,
   "metadata": {},
   "outputs": [],
   "source": [
    "UNITED STATES DISTRICT COURT\n",
    "FOR THE MIDDLE DISTRICT OF FLORIDA "
   ]
  },
  {
   "cell_type": "markdown",
   "metadata": {},
   "source": [
    "## Code law violation"
   ]
  },
  {
   "cell_type": "code",
   "execution_count": null,
   "metadata": {},
   "outputs": [],
   "source": [
    "violated Section 4c(a)(5)(C) of the Commodity Exchange Act (\"Act\"), 7 U.S.C.\n",
    "§ 6c(a)(5)(C) (2018)."
   ]
  },
  {
   "cell_type": "code",
   "execution_count": null,
   "metadata": {},
   "outputs": [],
   "source": [
    "Section 4c(a)(5) of the Act, 7 U.S.C.\n",
    "§ 6c(a)(5) (2012)."
   ]
  },
  {
   "cell_type": "markdown",
   "metadata": {},
   "source": [
    "## Violation period"
   ]
  },
  {
   "cell_type": "code",
   "execution_count": null,
   "metadata": {},
   "outputs": [],
   "source": [
    "line = 'The Commodity Futures Trading Commission (\"Commission\") has reason to believe that from at least July 2012 through March 2017 (\"Relevant Period\"), Propex Derivatives Pty Ltd. (\"Propex\") violated Section 4c(a)(5)(C) of the Commodity Exchange Act (\"Act\"), 7 U.S.C. 6c(a)(5)(C) (2018). Therefore, the Commission deems it appropriate and in the public interest that public administrative proceedings be, and hereby are, instituted to determine whether Propex engaged in the violations set forth herein and to determine whether any order should be issued imposing remedial sanctions.'"
   ]
  },
  {
   "cell_type": "code",
   "execution_count": null,
   "metadata": {},
   "outputs": [],
   "source": [
    "(\"Relevant Period\")"
   ]
  },
  {
   "cell_type": "markdown",
   "metadata": {},
   "source": [
    "## Transaction amount"
   ]
  },
  {
   "cell_type": "code",
   "execution_count": null,
   "metadata": {},
   "outputs": [],
   "source": [
    "pour complaint tous les montants vers Transaction amounts"
   ]
  },
  {
   "cell_type": "markdown",
   "metadata": {},
   "source": [
    "## Defendant"
   ]
  },
  {
   "cell_type": "code",
   "execution_count": null,
   "metadata": {},
   "outputs": [],
   "source": [
    "Propex Derivatives Pty Ltd, Respondent."
   ]
  },
  {
   "cell_type": "code",
   "execution_count": null,
   "metadata": {
    "scrolled": true
   },
   "outputs": [],
   "source": [
    "#!pip install -U spacy\n",
    "#!python -m spacy download en_core_web_sm"
   ]
  },
  {
   "cell_type": "markdown",
   "metadata": {},
   "source": [
    "## Nature of violations"
   ]
  },
  {
   "cell_type": "code",
   "execution_count": null,
   "metadata": {},
   "outputs": [],
   "source": [
    "II. FINDINGS\n",
    "The Commission finds the following:\n",
    "A. SUMMARY\n",
    "During the Relevant Period, Propex, by and through a Propex trader (\"Trader A\"),·\n",
    "engaged in thousands of instances of the disruptive trading practice known as \"spoofing\"\n",
    "(bidding or offering with the intent to cancel the bid or offer before execution) in the E-mini\n",
    "S&P 500 futures contracts traded on the Chicago Mercantile Exchange (\"CME\"), a futures\n",
    "exchange and designated contract market which is owned and operated by CME Group Inc. This\n",
    "conduct violated Section 4c(a)(5)(C) of the Act, 7 U.S.C. § 6c(a)(5)(C) (2018). "
   ]
  },
  {
   "cell_type": "code",
   "execution_count": null,
   "metadata": {},
   "outputs": [],
   "source": [
    "cftc_full_list = pd.read_excel(\"cftc_full_list.xlsx\")"
   ]
  },
  {
   "cell_type": "code",
   "execution_count": null,
   "metadata": {},
   "outputs": [],
   "source": [
    "def gen_line_rep(rep):\n",
    "    original_path = f\"./cftc/original/{rep}\"\n",
    "    text_path = f\"./cftc/text/{rep}\"\n",
    "    meta_path = f\"./cftc/meta-data/{rep}\"\n",
    "    lines = []\n",
    "    for file in glob.glob(f\"{meta_path}/*.json\"):\n",
    "        filename = os.path.basename(file)\n",
    "\n",
    "        with open(file) as json_file: \n",
    "            data = json.load(json_file)     \n",
    "\n",
    "        data['filename'] = filename.replace(\".json\",\"\")\n",
    "        data['folder'] = rep\n",
    "        with open(f\"{text_path}/{filename.replace('.json','.txt')}\") as f:\n",
    "            data['doc_text'] = f.read()  \n",
    "\n",
    "\n",
    "        lines.append(data)\n",
    "    return lines"
   ]
  },
  {
   "cell_type": "code",
   "execution_count": null,
   "metadata": {},
   "outputs": [],
   "source": [
    "meta_data = []\n",
    "for index, row in cftc_full_list[~cftc_full_list.scraped_folder.isnull()].iterrows():\n",
    "    try:\n",
    "        meta_data.extend(gen_line_rep(row['scraped_folder']))\n",
    "    except:\n",
    "        print(\"error on\",  row['scraped_folder'])\n",
    "len(meta_data)"
   ]
  },
  {
   "cell_type": "code",
   "execution_count": null,
   "metadata": {},
   "outputs": [],
   "source": [
    "df_meta_data = pd.DataFrame(meta_data)"
   ]
  },
  {
   "cell_type": "code",
   "execution_count": null,
   "metadata": {},
   "outputs": [],
   "source": [
    "df_meta_data['doc_clean'] = df_meta_data.doc_text.apply(clean_doc)"
   ]
  },
  {
   "cell_type": "code",
   "execution_count": null,
   "metadata": {},
   "outputs": [],
   "source": [
    "df_meta_data['first_page'] = df_meta_data['doc_clean'].str[0]"
   ]
  },
  {
   "cell_type": "code",
   "execution_count": null,
   "metadata": {},
   "outputs": [],
   "source": [
    "df_meta_data = df_meta_data[~df_meta_data['first_page'].isnull()]"
   ]
  },
  {
   "cell_type": "markdown",
   "metadata": {},
   "source": [
    "## Get reference"
   ]
  },
  {
   "cell_type": "code",
   "execution_count": null,
   "metadata": {},
   "outputs": [],
   "source": [
    "df_meta_data['reference'] = df_meta_data.first_page.apply(get_case)"
   ]
  },
  {
   "cell_type": "code",
   "execution_count": null,
   "metadata": {},
   "outputs": [],
   "source": []
  },
  {
   "cell_type": "markdown",
   "metadata": {},
   "source": [
    "## Get defendant"
   ]
  },
  {
   "cell_type": "code",
   "execution_count": null,
   "metadata": {},
   "outputs": [],
   "source": [
    "first_page = [text for text in df_meta_data.first_page.values[3] if len(text) > 100]"
   ]
  },
  {
   "cell_type": "code",
   "execution_count": null,
   "metadata": {},
   "outputs": [],
   "source": [
    "first_page"
   ]
  },
  {
   "cell_type": "code",
   "execution_count": null,
   "metadata": {},
   "outputs": [],
   "source": [
    "print(nlp(question=\"Who violeted?\", context=\".\".join(first_page)))"
   ]
  },
  {
   "cell_type": "code",
   "execution_count": null,
   "metadata": {},
   "outputs": [],
   "source": [
    "print(nlp(question=\"Who is the defendant?\", context=\".\".join(first_page), topk=3))"
   ]
  },
  {
   "cell_type": "code",
   "execution_count": null,
   "metadata": {
    "scrolled": false
   },
   "outputs": [],
   "source": [
    "#df_meta_data[['reference', 'folder', 'filename']][df_meta_data.reference.isnull()]"
   ]
  },
  {
   "cell_type": "markdown",
   "metadata": {},
   "source": [
    "## Type"
   ]
  },
  {
   "cell_type": "code",
   "execution_count": null,
   "metadata": {},
   "outputs": [],
   "source": [
    "df_meta_data['is_order'] = df_meta_data.filename.str.contains(\"order\")"
   ]
  },
  {
   "cell_type": "code",
   "execution_count": null,
   "metadata": {},
   "outputs": [],
   "source": [
    "df_meta_data['is_complaint'] = df_meta_data.filename.str.contains(\"complaint\")"
   ]
  },
  {
   "cell_type": "code",
   "execution_count": null,
   "metadata": {},
   "outputs": [],
   "source": [
    "df_meta_data['type'] = np.where(df_meta_data['is_order'], \"Order CFTC\", \n",
    "         np.where(df_meta_data['is_complaint'], \n",
    "                  \"Complaint CFTC\", None))"
   ]
  }
 ],
 "metadata": {
  "kernelspec": {
   "display_name": "Python 3",
   "language": "python",
   "name": "python3"
  },
  "language_info": {
   "codemirror_mode": {
    "name": "ipython",
    "version": 3
   },
   "file_extension": ".py",
   "mimetype": "text/x-python",
   "name": "python",
   "nbconvert_exporter": "python",
   "pygments_lexer": "ipython3",
   "version": "3.8.5"
  }
 },
 "nbformat": 4,
 "nbformat_minor": 4
}
